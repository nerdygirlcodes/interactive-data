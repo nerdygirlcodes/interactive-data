{
 "cells": [
  {
   "cell_type": "markdown",
   "id": "9186bcd4",
   "metadata": {},
   "source": [
    "### 10 Minutes to pandas\n",
    "https://pandas.pydata.org/docs/user_guide/10min.html#minutes-to-pandas\n",
    "\n",
    "_Follow along / scratch coding with the above reading_"
   ]
  },
  {
   "cell_type": "markdown",
   "id": "ec302d2b",
   "metadata": {},
   "source": [
    "`// import statements`"
   ]
  },
  {
   "cell_type": "code",
   "execution_count": 1,
   "id": "4d03b826",
   "metadata": {},
   "outputs": [],
   "source": [
    "import numpy as np"
   ]
  },
  {
   "cell_type": "code",
   "execution_count": 2,
   "id": "06a572df",
   "metadata": {},
   "outputs": [],
   "source": [
    "import pandas as pd"
   ]
  },
  {
   "cell_type": "markdown",
   "id": "7466447b",
   "metadata": {},
   "source": [
    "---"
   ]
  },
  {
   "cell_type": "markdown",
   "id": "6b22f4d1",
   "metadata": {},
   "source": [
    "`// create a series allowing pandas to set index`"
   ]
  },
  {
   "cell_type": "code",
   "execution_count": 3,
   "id": "9a41f63c",
   "metadata": {},
   "outputs": [
    {
     "data": {
      "text/plain": [
       "0    1.0\n",
       "1    3.0\n",
       "2    5.0\n",
       "3    NaN\n",
       "4    6.0\n",
       "5    8.0\n",
       "dtype: float64"
      ]
     },
     "execution_count": 3,
     "metadata": {},
     "output_type": "execute_result"
    }
   ],
   "source": [
    "s = pd.Series([1, 3, 5, np.nan, 6, 8])\n",
    "s"
   ]
  },
  {
   "cell_type": "markdown",
   "id": "86954ec5",
   "metadata": {},
   "source": [
    "---"
   ]
  },
  {
   "cell_type": "markdown",
   "id": "de207132",
   "metadata": {},
   "source": [
    "`// create a date range array with 6 values`"
   ]
  },
  {
   "cell_type": "code",
   "execution_count": 4,
   "id": "feb51359",
   "metadata": {},
   "outputs": [
    {
     "data": {
      "text/plain": [
       "DatetimeIndex(['2013-01-01', '2013-01-02', '2013-01-03', '2013-01-04',\n",
       "               '2013-01-05', '2013-01-06'],\n",
       "              dtype='datetime64[ns]', freq='D')"
      ]
     },
     "execution_count": 4,
     "metadata": {},
     "output_type": "execute_result"
    }
   ],
   "source": [
    "dates = pd.date_range(\"20130101\", periods=6)\n",
    "dates"
   ]
  },
  {
   "cell_type": "markdown",
   "id": "1d8b7dcc",
   "metadata": {},
   "source": [
    "---"
   ]
  },
  {
   "cell_type": "markdown",
   "id": "3212fa7c",
   "metadata": {},
   "source": [
    "`// create a DataFrame with the index being the previously set date range, the column titles being labled ABCD and the values being random number values`"
   ]
  },
  {
   "cell_type": "code",
   "execution_count": 5,
   "id": "c62287b1",
   "metadata": {},
   "outputs": [
    {
     "data": {
      "text/html": [
       "<div>\n",
       "<style scoped>\n",
       "    .dataframe tbody tr th:only-of-type {\n",
       "        vertical-align: middle;\n",
       "    }\n",
       "\n",
       "    .dataframe tbody tr th {\n",
       "        vertical-align: top;\n",
       "    }\n",
       "\n",
       "    .dataframe thead th {\n",
       "        text-align: right;\n",
       "    }\n",
       "</style>\n",
       "<table border=\"1\" class=\"dataframe\">\n",
       "  <thead>\n",
       "    <tr style=\"text-align: right;\">\n",
       "      <th></th>\n",
       "      <th>A</th>\n",
       "      <th>B</th>\n",
       "      <th>C</th>\n",
       "      <th>D</th>\n",
       "    </tr>\n",
       "  </thead>\n",
       "  <tbody>\n",
       "    <tr>\n",
       "      <th>2013-01-01</th>\n",
       "      <td>0.199249</td>\n",
       "      <td>0.639385</td>\n",
       "      <td>-0.072936</td>\n",
       "      <td>0.120937</td>\n",
       "    </tr>\n",
       "    <tr>\n",
       "      <th>2013-01-02</th>\n",
       "      <td>0.400969</td>\n",
       "      <td>-0.027296</td>\n",
       "      <td>-0.105651</td>\n",
       "      <td>-2.519166</td>\n",
       "    </tr>\n",
       "    <tr>\n",
       "      <th>2013-01-03</th>\n",
       "      <td>-0.582395</td>\n",
       "      <td>-0.152100</td>\n",
       "      <td>0.661342</td>\n",
       "      <td>0.898475</td>\n",
       "    </tr>\n",
       "    <tr>\n",
       "      <th>2013-01-04</th>\n",
       "      <td>0.164998</td>\n",
       "      <td>-1.063246</td>\n",
       "      <td>0.869119</td>\n",
       "      <td>1.318826</td>\n",
       "    </tr>\n",
       "    <tr>\n",
       "      <th>2013-01-05</th>\n",
       "      <td>-0.374990</td>\n",
       "      <td>-0.614946</td>\n",
       "      <td>-0.704097</td>\n",
       "      <td>0.518012</td>\n",
       "    </tr>\n",
       "    <tr>\n",
       "      <th>2013-01-06</th>\n",
       "      <td>0.261193</td>\n",
       "      <td>-0.188344</td>\n",
       "      <td>1.419346</td>\n",
       "      <td>-0.530489</td>\n",
       "    </tr>\n",
       "  </tbody>\n",
       "</table>\n",
       "</div>"
      ],
      "text/plain": [
       "                   A         B         C         D\n",
       "2013-01-01  0.199249  0.639385 -0.072936  0.120937\n",
       "2013-01-02  0.400969 -0.027296 -0.105651 -2.519166\n",
       "2013-01-03 -0.582395 -0.152100  0.661342  0.898475\n",
       "2013-01-04  0.164998 -1.063246  0.869119  1.318826\n",
       "2013-01-05 -0.374990 -0.614946 -0.704097  0.518012\n",
       "2013-01-06  0.261193 -0.188344  1.419346 -0.530489"
      ]
     },
     "execution_count": 5,
     "metadata": {},
     "output_type": "execute_result"
    }
   ],
   "source": [
    "df = pd.DataFrame(np.random.randn(6, 4), index=dates, columns=list(\"ABCD\"))\n",
    "df"
   ]
  },
  {
   "cell_type": "markdown",
   "id": "c83038e5",
   "metadata": {},
   "source": [
    "---"
   ]
  },
  {
   "cell_type": "markdown",
   "id": "985b83b0",
   "metadata": {},
   "source": [
    "`// create a DataFrame with set indexes and column values`"
   ]
  },
  {
   "cell_type": "code",
   "execution_count": 6,
   "id": "12fd27c8",
   "metadata": {},
   "outputs": [
    {
     "data": {
      "text/html": [
       "<div>\n",
       "<style scoped>\n",
       "    .dataframe tbody tr th:only-of-type {\n",
       "        vertical-align: middle;\n",
       "    }\n",
       "\n",
       "    .dataframe tbody tr th {\n",
       "        vertical-align: top;\n",
       "    }\n",
       "\n",
       "    .dataframe thead th {\n",
       "        text-align: right;\n",
       "    }\n",
       "</style>\n",
       "<table border=\"1\" class=\"dataframe\">\n",
       "  <thead>\n",
       "    <tr style=\"text-align: right;\">\n",
       "      <th></th>\n",
       "      <th>A</th>\n",
       "      <th>B</th>\n",
       "      <th>C</th>\n",
       "      <th>D</th>\n",
       "      <th>E</th>\n",
       "      <th>F</th>\n",
       "    </tr>\n",
       "  </thead>\n",
       "  <tbody>\n",
       "    <tr>\n",
       "      <th>0</th>\n",
       "      <td>1.0</td>\n",
       "      <td>2013-01-02</td>\n",
       "      <td>1.0</td>\n",
       "      <td>3</td>\n",
       "      <td>test</td>\n",
       "      <td>foo</td>\n",
       "    </tr>\n",
       "    <tr>\n",
       "      <th>1</th>\n",
       "      <td>1.0</td>\n",
       "      <td>2013-01-02</td>\n",
       "      <td>1.0</td>\n",
       "      <td>3</td>\n",
       "      <td>train</td>\n",
       "      <td>foo</td>\n",
       "    </tr>\n",
       "    <tr>\n",
       "      <th>2</th>\n",
       "      <td>1.0</td>\n",
       "      <td>2013-01-02</td>\n",
       "      <td>1.0</td>\n",
       "      <td>3</td>\n",
       "      <td>test</td>\n",
       "      <td>foo</td>\n",
       "    </tr>\n",
       "    <tr>\n",
       "      <th>3</th>\n",
       "      <td>1.0</td>\n",
       "      <td>2013-01-02</td>\n",
       "      <td>1.0</td>\n",
       "      <td>3</td>\n",
       "      <td>train</td>\n",
       "      <td>foo</td>\n",
       "    </tr>\n",
       "  </tbody>\n",
       "</table>\n",
       "</div>"
      ],
      "text/plain": [
       "     A          B    C  D      E    F\n",
       "0  1.0 2013-01-02  1.0  3   test  foo\n",
       "1  1.0 2013-01-02  1.0  3  train  foo\n",
       "2  1.0 2013-01-02  1.0  3   test  foo\n",
       "3  1.0 2013-01-02  1.0  3  train  foo"
      ]
     },
     "execution_count": 6,
     "metadata": {},
     "output_type": "execute_result"
    }
   ],
   "source": [
    "df2 = pd.DataFrame(\n",
    "    {\n",
    "        \"A\": 1.0,\n",
    "        \"B\": pd.Timestamp(\"20130102\"),\n",
    "        \"C\": pd.Series(1, index=list(range(4)), dtype=\"float32\"),\n",
    "        \"D\": np.array([3] * 4, dtype=\"int32\"),\n",
    "        \"E\": pd.Categorical([\"test\", \"train\", \"test\", \"train\"]),\n",
    "        \"F\": \"foo\",\n",
    "    }\n",
    ")\n",
    "df2"
   ]
  },
  {
   "cell_type": "markdown",
   "id": "ba1c23f0",
   "metadata": {},
   "source": [
    "---"
   ]
  },
  {
   "cell_type": "markdown",
   "id": "2a2762a0",
   "metadata": {},
   "source": [
    "`// list the df2 DataFrame type values for each column`"
   ]
  },
  {
   "cell_type": "code",
   "execution_count": 7,
   "id": "8b222645",
   "metadata": {},
   "outputs": [
    {
     "data": {
      "text/plain": [
       "A           float64\n",
       "B    datetime64[ns]\n",
       "C           float32\n",
       "D             int32\n",
       "E          category\n",
       "F            object\n",
       "dtype: object"
      ]
     },
     "execution_count": 7,
     "metadata": {},
     "output_type": "execute_result"
    }
   ],
   "source": [
    "df2.dtypes"
   ]
  },
  {
   "cell_type": "markdown",
   "id": "d98ca2c0",
   "metadata": {},
   "source": [
    "---"
   ]
  },
  {
   "cell_type": "markdown",
   "id": "a32f66ac",
   "metadata": {},
   "source": [
    "`// view the first row of the df DataFrame (amt of rows set by (X) value)`"
   ]
  },
  {
   "cell_type": "code",
   "execution_count": 8,
   "id": "be76d48f",
   "metadata": {},
   "outputs": [
    {
     "data": {
      "text/html": [
       "<div>\n",
       "<style scoped>\n",
       "    .dataframe tbody tr th:only-of-type {\n",
       "        vertical-align: middle;\n",
       "    }\n",
       "\n",
       "    .dataframe tbody tr th {\n",
       "        vertical-align: top;\n",
       "    }\n",
       "\n",
       "    .dataframe thead th {\n",
       "        text-align: right;\n",
       "    }\n",
       "</style>\n",
       "<table border=\"1\" class=\"dataframe\">\n",
       "  <thead>\n",
       "    <tr style=\"text-align: right;\">\n",
       "      <th></th>\n",
       "      <th>A</th>\n",
       "      <th>B</th>\n",
       "      <th>C</th>\n",
       "      <th>D</th>\n",
       "    </tr>\n",
       "  </thead>\n",
       "  <tbody>\n",
       "    <tr>\n",
       "      <th>2013-01-01</th>\n",
       "      <td>0.199249</td>\n",
       "      <td>0.639385</td>\n",
       "      <td>-0.072936</td>\n",
       "      <td>0.120937</td>\n",
       "    </tr>\n",
       "  </tbody>\n",
       "</table>\n",
       "</div>"
      ],
      "text/plain": [
       "                   A         B         C         D\n",
       "2013-01-01  0.199249  0.639385 -0.072936  0.120937"
      ]
     },
     "execution_count": 8,
     "metadata": {},
     "output_type": "execute_result"
    }
   ],
   "source": [
    "df.head(1)"
   ]
  },
  {
   "cell_type": "markdown",
   "id": "0de90208",
   "metadata": {},
   "source": [
    "---"
   ]
  },
  {
   "cell_type": "markdown",
   "id": "0a39e97a",
   "metadata": {},
   "source": [
    "`// view the last row of the df DataFrame (amt of rows set by (X) value)`"
   ]
  },
  {
   "cell_type": "code",
   "execution_count": 9,
   "id": "1f0e2840",
   "metadata": {},
   "outputs": [
    {
     "data": {
      "text/html": [
       "<div>\n",
       "<style scoped>\n",
       "    .dataframe tbody tr th:only-of-type {\n",
       "        vertical-align: middle;\n",
       "    }\n",
       "\n",
       "    .dataframe tbody tr th {\n",
       "        vertical-align: top;\n",
       "    }\n",
       "\n",
       "    .dataframe thead th {\n",
       "        text-align: right;\n",
       "    }\n",
       "</style>\n",
       "<table border=\"1\" class=\"dataframe\">\n",
       "  <thead>\n",
       "    <tr style=\"text-align: right;\">\n",
       "      <th></th>\n",
       "      <th>A</th>\n",
       "      <th>B</th>\n",
       "      <th>C</th>\n",
       "      <th>D</th>\n",
       "    </tr>\n",
       "  </thead>\n",
       "  <tbody>\n",
       "    <tr>\n",
       "      <th>2013-01-06</th>\n",
       "      <td>0.261193</td>\n",
       "      <td>-0.188344</td>\n",
       "      <td>1.419346</td>\n",
       "      <td>-0.530489</td>\n",
       "    </tr>\n",
       "  </tbody>\n",
       "</table>\n",
       "</div>"
      ],
      "text/plain": [
       "                   A         B         C         D\n",
       "2013-01-06  0.261193 -0.188344  1.419346 -0.530489"
      ]
     },
     "execution_count": 9,
     "metadata": {},
     "output_type": "execute_result"
    }
   ],
   "source": [
    "df.tail(1)"
   ]
  },
  {
   "cell_type": "markdown",
   "id": "6a2bb327",
   "metadata": {},
   "source": [
    "---"
   ]
  },
  {
   "cell_type": "markdown",
   "id": "a7631db6",
   "metadata": {},
   "source": [
    "`// find the index values for the df DataFrame`"
   ]
  },
  {
   "cell_type": "code",
   "execution_count": 10,
   "id": "edfb0cef",
   "metadata": {},
   "outputs": [
    {
     "data": {
      "text/plain": [
       "DatetimeIndex(['2013-01-01', '2013-01-02', '2013-01-03', '2013-01-04',\n",
       "               '2013-01-05', '2013-01-06'],\n",
       "              dtype='datetime64[ns]', freq='D')"
      ]
     },
     "execution_count": 10,
     "metadata": {},
     "output_type": "execute_result"
    }
   ],
   "source": [
    "df.index"
   ]
  },
  {
   "cell_type": "markdown",
   "id": "aa1b2aeb",
   "metadata": {},
   "source": [
    "---"
   ]
  },
  {
   "cell_type": "markdown",
   "id": "b1fb72e4",
   "metadata": {},
   "source": [
    "`// find the column index values and data types for the df DataFrame`"
   ]
  },
  {
   "cell_type": "code",
   "execution_count": 11,
   "id": "ffe4968c",
   "metadata": {},
   "outputs": [
    {
     "data": {
      "text/plain": [
       "Index(['A', 'B', 'C', 'D'], dtype='object')"
      ]
     },
     "execution_count": 11,
     "metadata": {},
     "output_type": "execute_result"
    }
   ],
   "source": [
    "df.columns"
   ]
  },
  {
   "cell_type": "markdown",
   "id": "738cf36e",
   "metadata": {},
   "source": [
    "---"
   ]
  },
  {
   "cell_type": "markdown",
   "id": "81be2e08",
   "metadata": {},
   "source": [
    "`// convert df DataFrame to an array of all the same type values (float) -- less expensive performance`"
   ]
  },
  {
   "cell_type": "code",
   "execution_count": 12,
   "id": "969c923a",
   "metadata": {},
   "outputs": [
    {
     "data": {
      "text/plain": [
       "array([[ 0.19924912,  0.63938515, -0.0729361 ,  0.12093706],\n",
       "       [ 0.40096865, -0.0272961 , -0.1056508 , -2.5191656 ],\n",
       "       [-0.58239485, -0.15209975,  0.66134219,  0.89847514],\n",
       "       [ 0.16499764, -1.06324637,  0.86911882,  1.31882649],\n",
       "       [-0.37498956, -0.6149461 , -0.70409725,  0.51801209],\n",
       "       [ 0.26119252, -0.18834401,  1.41934633, -0.53048897]])"
      ]
     },
     "execution_count": 12,
     "metadata": {},
     "output_type": "execute_result"
    }
   ],
   "source": [
    "df.to_numpy()"
   ]
  },
  {
   "cell_type": "markdown",
   "id": "eb0f334a",
   "metadata": {},
   "source": [
    "---"
   ]
  },
  {
   "cell_type": "markdown",
   "id": "fe54f0ba",
   "metadata": {},
   "source": [
    "`// convert df2 DataFrame to an array of all the same type values (mixed) -- more expensive, most likely object type`"
   ]
  },
  {
   "cell_type": "code",
   "execution_count": 13,
   "id": "e1b833ae",
   "metadata": {},
   "outputs": [
    {
     "data": {
      "text/plain": [
       "array([[1.0, Timestamp('2013-01-02 00:00:00'), 1.0, 3, 'test', 'foo'],\n",
       "       [1.0, Timestamp('2013-01-02 00:00:00'), 1.0, 3, 'train', 'foo'],\n",
       "       [1.0, Timestamp('2013-01-02 00:00:00'), 1.0, 3, 'test', 'foo'],\n",
       "       [1.0, Timestamp('2013-01-02 00:00:00'), 1.0, 3, 'train', 'foo']],\n",
       "      dtype=object)"
      ]
     },
     "execution_count": 13,
     "metadata": {},
     "output_type": "execute_result"
    }
   ],
   "source": [
    "df2.to_numpy()"
   ]
  },
  {
   "cell_type": "markdown",
   "id": "0fbae697",
   "metadata": {},
   "source": [
    "---"
   ]
  },
  {
   "cell_type": "markdown",
   "id": "d95e11fb",
   "metadata": {},
   "source": [
    "`// data analysis of the df DataFrame`"
   ]
  },
  {
   "cell_type": "code",
   "execution_count": 14,
   "id": "5a1ebf49",
   "metadata": {},
   "outputs": [
    {
     "data": {
      "text/html": [
       "<div>\n",
       "<style scoped>\n",
       "    .dataframe tbody tr th:only-of-type {\n",
       "        vertical-align: middle;\n",
       "    }\n",
       "\n",
       "    .dataframe tbody tr th {\n",
       "        vertical-align: top;\n",
       "    }\n",
       "\n",
       "    .dataframe thead th {\n",
       "        text-align: right;\n",
       "    }\n",
       "</style>\n",
       "<table border=\"1\" class=\"dataframe\">\n",
       "  <thead>\n",
       "    <tr style=\"text-align: right;\">\n",
       "      <th></th>\n",
       "      <th>A</th>\n",
       "      <th>B</th>\n",
       "      <th>C</th>\n",
       "      <th>D</th>\n",
       "    </tr>\n",
       "  </thead>\n",
       "  <tbody>\n",
       "    <tr>\n",
       "      <th>count</th>\n",
       "      <td>6.000000</td>\n",
       "      <td>6.000000</td>\n",
       "      <td>6.000000</td>\n",
       "      <td>6.000000</td>\n",
       "    </tr>\n",
       "    <tr>\n",
       "      <th>mean</th>\n",
       "      <td>0.011504</td>\n",
       "      <td>-0.234425</td>\n",
       "      <td>0.344521</td>\n",
       "      <td>-0.032234</td>\n",
       "    </tr>\n",
       "    <tr>\n",
       "      <th>std</th>\n",
       "      <td>0.393682</td>\n",
       "      <td>0.573949</td>\n",
       "      <td>0.775545</td>\n",
       "      <td>1.374838</td>\n",
       "    </tr>\n",
       "    <tr>\n",
       "      <th>min</th>\n",
       "      <td>-0.582395</td>\n",
       "      <td>-1.063246</td>\n",
       "      <td>-0.704097</td>\n",
       "      <td>-2.519166</td>\n",
       "    </tr>\n",
       "    <tr>\n",
       "      <th>25%</th>\n",
       "      <td>-0.239993</td>\n",
       "      <td>-0.508296</td>\n",
       "      <td>-0.097472</td>\n",
       "      <td>-0.367632</td>\n",
       "    </tr>\n",
       "    <tr>\n",
       "      <th>50%</th>\n",
       "      <td>0.182123</td>\n",
       "      <td>-0.170222</td>\n",
       "      <td>0.294203</td>\n",
       "      <td>0.319475</td>\n",
       "    </tr>\n",
       "    <tr>\n",
       "      <th>75%</th>\n",
       "      <td>0.245707</td>\n",
       "      <td>-0.058497</td>\n",
       "      <td>0.817175</td>\n",
       "      <td>0.803359</td>\n",
       "    </tr>\n",
       "    <tr>\n",
       "      <th>max</th>\n",
       "      <td>0.400969</td>\n",
       "      <td>0.639385</td>\n",
       "      <td>1.419346</td>\n",
       "      <td>1.318826</td>\n",
       "    </tr>\n",
       "  </tbody>\n",
       "</table>\n",
       "</div>"
      ],
      "text/plain": [
       "              A         B         C         D\n",
       "count  6.000000  6.000000  6.000000  6.000000\n",
       "mean   0.011504 -0.234425  0.344521 -0.032234\n",
       "std    0.393682  0.573949  0.775545  1.374838\n",
       "min   -0.582395 -1.063246 -0.704097 -2.519166\n",
       "25%   -0.239993 -0.508296 -0.097472 -0.367632\n",
       "50%    0.182123 -0.170222  0.294203  0.319475\n",
       "75%    0.245707 -0.058497  0.817175  0.803359\n",
       "max    0.400969  0.639385  1.419346  1.318826"
      ]
     },
     "execution_count": 14,
     "metadata": {},
     "output_type": "execute_result"
    }
   ],
   "source": [
    "df.describe()"
   ]
  },
  {
   "cell_type": "markdown",
   "id": "548bd2ab",
   "metadata": {},
   "source": [
    "---"
   ]
  },
  {
   "cell_type": "markdown",
   "id": "cab3b4ed",
   "metadata": {},
   "source": [
    "`// transpose the data of the df DataFrame`"
   ]
  },
  {
   "cell_type": "code",
   "execution_count": 15,
   "id": "f7e67d88",
   "metadata": {},
   "outputs": [
    {
     "data": {
      "text/html": [
       "<div>\n",
       "<style scoped>\n",
       "    .dataframe tbody tr th:only-of-type {\n",
       "        vertical-align: middle;\n",
       "    }\n",
       "\n",
       "    .dataframe tbody tr th {\n",
       "        vertical-align: top;\n",
       "    }\n",
       "\n",
       "    .dataframe thead th {\n",
       "        text-align: right;\n",
       "    }\n",
       "</style>\n",
       "<table border=\"1\" class=\"dataframe\">\n",
       "  <thead>\n",
       "    <tr style=\"text-align: right;\">\n",
       "      <th></th>\n",
       "      <th>2013-01-01</th>\n",
       "      <th>2013-01-02</th>\n",
       "      <th>2013-01-03</th>\n",
       "      <th>2013-01-04</th>\n",
       "      <th>2013-01-05</th>\n",
       "      <th>2013-01-06</th>\n",
       "    </tr>\n",
       "  </thead>\n",
       "  <tbody>\n",
       "    <tr>\n",
       "      <th>A</th>\n",
       "      <td>0.199249</td>\n",
       "      <td>0.400969</td>\n",
       "      <td>-0.582395</td>\n",
       "      <td>0.164998</td>\n",
       "      <td>-0.374990</td>\n",
       "      <td>0.261193</td>\n",
       "    </tr>\n",
       "    <tr>\n",
       "      <th>B</th>\n",
       "      <td>0.639385</td>\n",
       "      <td>-0.027296</td>\n",
       "      <td>-0.152100</td>\n",
       "      <td>-1.063246</td>\n",
       "      <td>-0.614946</td>\n",
       "      <td>-0.188344</td>\n",
       "    </tr>\n",
       "    <tr>\n",
       "      <th>C</th>\n",
       "      <td>-0.072936</td>\n",
       "      <td>-0.105651</td>\n",
       "      <td>0.661342</td>\n",
       "      <td>0.869119</td>\n",
       "      <td>-0.704097</td>\n",
       "      <td>1.419346</td>\n",
       "    </tr>\n",
       "    <tr>\n",
       "      <th>D</th>\n",
       "      <td>0.120937</td>\n",
       "      <td>-2.519166</td>\n",
       "      <td>0.898475</td>\n",
       "      <td>1.318826</td>\n",
       "      <td>0.518012</td>\n",
       "      <td>-0.530489</td>\n",
       "    </tr>\n",
       "  </tbody>\n",
       "</table>\n",
       "</div>"
      ],
      "text/plain": [
       "   2013-01-01  2013-01-02  2013-01-03  2013-01-04  2013-01-05  2013-01-06\n",
       "A    0.199249    0.400969   -0.582395    0.164998   -0.374990    0.261193\n",
       "B    0.639385   -0.027296   -0.152100   -1.063246   -0.614946   -0.188344\n",
       "C   -0.072936   -0.105651    0.661342    0.869119   -0.704097    1.419346\n",
       "D    0.120937   -2.519166    0.898475    1.318826    0.518012   -0.530489"
      ]
     },
     "execution_count": 15,
     "metadata": {},
     "output_type": "execute_result"
    }
   ],
   "source": [
    "df.T"
   ]
  },
  {
   "cell_type": "markdown",
   "id": "37691b1d",
   "metadata": {},
   "source": [
    "---"
   ]
  },
  {
   "cell_type": "markdown",
   "id": "5a61b0cb",
   "metadata": {},
   "source": [
    "`// sort the df DataFrame by its axis in descending order`"
   ]
  },
  {
   "cell_type": "code",
   "execution_count": 16,
   "id": "c7f7e363",
   "metadata": {},
   "outputs": [
    {
     "data": {
      "text/html": [
       "<div>\n",
       "<style scoped>\n",
       "    .dataframe tbody tr th:only-of-type {\n",
       "        vertical-align: middle;\n",
       "    }\n",
       "\n",
       "    .dataframe tbody tr th {\n",
       "        vertical-align: top;\n",
       "    }\n",
       "\n",
       "    .dataframe thead th {\n",
       "        text-align: right;\n",
       "    }\n",
       "</style>\n",
       "<table border=\"1\" class=\"dataframe\">\n",
       "  <thead>\n",
       "    <tr style=\"text-align: right;\">\n",
       "      <th></th>\n",
       "      <th>D</th>\n",
       "      <th>C</th>\n",
       "      <th>B</th>\n",
       "      <th>A</th>\n",
       "    </tr>\n",
       "  </thead>\n",
       "  <tbody>\n",
       "    <tr>\n",
       "      <th>2013-01-01</th>\n",
       "      <td>0.120937</td>\n",
       "      <td>-0.072936</td>\n",
       "      <td>0.639385</td>\n",
       "      <td>0.199249</td>\n",
       "    </tr>\n",
       "    <tr>\n",
       "      <th>2013-01-02</th>\n",
       "      <td>-2.519166</td>\n",
       "      <td>-0.105651</td>\n",
       "      <td>-0.027296</td>\n",
       "      <td>0.400969</td>\n",
       "    </tr>\n",
       "    <tr>\n",
       "      <th>2013-01-03</th>\n",
       "      <td>0.898475</td>\n",
       "      <td>0.661342</td>\n",
       "      <td>-0.152100</td>\n",
       "      <td>-0.582395</td>\n",
       "    </tr>\n",
       "    <tr>\n",
       "      <th>2013-01-04</th>\n",
       "      <td>1.318826</td>\n",
       "      <td>0.869119</td>\n",
       "      <td>-1.063246</td>\n",
       "      <td>0.164998</td>\n",
       "    </tr>\n",
       "    <tr>\n",
       "      <th>2013-01-05</th>\n",
       "      <td>0.518012</td>\n",
       "      <td>-0.704097</td>\n",
       "      <td>-0.614946</td>\n",
       "      <td>-0.374990</td>\n",
       "    </tr>\n",
       "    <tr>\n",
       "      <th>2013-01-06</th>\n",
       "      <td>-0.530489</td>\n",
       "      <td>1.419346</td>\n",
       "      <td>-0.188344</td>\n",
       "      <td>0.261193</td>\n",
       "    </tr>\n",
       "  </tbody>\n",
       "</table>\n",
       "</div>"
      ],
      "text/plain": [
       "                   D         C         B         A\n",
       "2013-01-01  0.120937 -0.072936  0.639385  0.199249\n",
       "2013-01-02 -2.519166 -0.105651 -0.027296  0.400969\n",
       "2013-01-03  0.898475  0.661342 -0.152100 -0.582395\n",
       "2013-01-04  1.318826  0.869119 -1.063246  0.164998\n",
       "2013-01-05  0.518012 -0.704097 -0.614946 -0.374990\n",
       "2013-01-06 -0.530489  1.419346 -0.188344  0.261193"
      ]
     },
     "execution_count": 16,
     "metadata": {},
     "output_type": "execute_result"
    }
   ],
   "source": [
    "df.sort_index(axis=1, ascending=False)"
   ]
  },
  {
   "cell_type": "markdown",
   "id": "a82d1cbf",
   "metadata": {},
   "source": [
    "---"
   ]
  },
  {
   "cell_type": "markdown",
   "id": "4d9003c4",
   "metadata": {},
   "source": [
    "`// sort the df DataFrame by its B column values`"
   ]
  },
  {
   "cell_type": "code",
   "execution_count": 17,
   "id": "aa8c6c52",
   "metadata": {},
   "outputs": [
    {
     "data": {
      "text/html": [
       "<div>\n",
       "<style scoped>\n",
       "    .dataframe tbody tr th:only-of-type {\n",
       "        vertical-align: middle;\n",
       "    }\n",
       "\n",
       "    .dataframe tbody tr th {\n",
       "        vertical-align: top;\n",
       "    }\n",
       "\n",
       "    .dataframe thead th {\n",
       "        text-align: right;\n",
       "    }\n",
       "</style>\n",
       "<table border=\"1\" class=\"dataframe\">\n",
       "  <thead>\n",
       "    <tr style=\"text-align: right;\">\n",
       "      <th></th>\n",
       "      <th>A</th>\n",
       "      <th>B</th>\n",
       "      <th>C</th>\n",
       "      <th>D</th>\n",
       "    </tr>\n",
       "  </thead>\n",
       "  <tbody>\n",
       "    <tr>\n",
       "      <th>2013-01-04</th>\n",
       "      <td>0.164998</td>\n",
       "      <td>-1.063246</td>\n",
       "      <td>0.869119</td>\n",
       "      <td>1.318826</td>\n",
       "    </tr>\n",
       "    <tr>\n",
       "      <th>2013-01-05</th>\n",
       "      <td>-0.374990</td>\n",
       "      <td>-0.614946</td>\n",
       "      <td>-0.704097</td>\n",
       "      <td>0.518012</td>\n",
       "    </tr>\n",
       "    <tr>\n",
       "      <th>2013-01-06</th>\n",
       "      <td>0.261193</td>\n",
       "      <td>-0.188344</td>\n",
       "      <td>1.419346</td>\n",
       "      <td>-0.530489</td>\n",
       "    </tr>\n",
       "    <tr>\n",
       "      <th>2013-01-03</th>\n",
       "      <td>-0.582395</td>\n",
       "      <td>-0.152100</td>\n",
       "      <td>0.661342</td>\n",
       "      <td>0.898475</td>\n",
       "    </tr>\n",
       "    <tr>\n",
       "      <th>2013-01-02</th>\n",
       "      <td>0.400969</td>\n",
       "      <td>-0.027296</td>\n",
       "      <td>-0.105651</td>\n",
       "      <td>-2.519166</td>\n",
       "    </tr>\n",
       "    <tr>\n",
       "      <th>2013-01-01</th>\n",
       "      <td>0.199249</td>\n",
       "      <td>0.639385</td>\n",
       "      <td>-0.072936</td>\n",
       "      <td>0.120937</td>\n",
       "    </tr>\n",
       "  </tbody>\n",
       "</table>\n",
       "</div>"
      ],
      "text/plain": [
       "                   A         B         C         D\n",
       "2013-01-04  0.164998 -1.063246  0.869119  1.318826\n",
       "2013-01-05 -0.374990 -0.614946 -0.704097  0.518012\n",
       "2013-01-06  0.261193 -0.188344  1.419346 -0.530489\n",
       "2013-01-03 -0.582395 -0.152100  0.661342  0.898475\n",
       "2013-01-02  0.400969 -0.027296 -0.105651 -2.519166\n",
       "2013-01-01  0.199249  0.639385 -0.072936  0.120937"
      ]
     },
     "execution_count": 17,
     "metadata": {},
     "output_type": "execute_result"
    }
   ],
   "source": [
    "df.sort_values(by=\"B\")"
   ]
  },
  {
   "cell_type": "markdown",
   "id": "99b5d1ca",
   "metadata": {},
   "source": [
    "---"
   ]
  },
  {
   "cell_type": "markdown",
   "id": "7aeb76dd",
   "metadata": {},
   "source": [
    "`// select a specific column - shows index (left) and value (right)`"
   ]
  },
  {
   "cell_type": "code",
   "execution_count": 19,
   "id": "92f28ab9",
   "metadata": {},
   "outputs": [
    {
     "data": {
      "text/plain": [
       "2013-01-01    0.199249\n",
       "2013-01-02    0.400969\n",
       "2013-01-03   -0.582395\n",
       "2013-01-04    0.164998\n",
       "2013-01-05   -0.374990\n",
       "2013-01-06    0.261193\n",
       "Freq: D, Name: A, dtype: float64"
      ]
     },
     "execution_count": 19,
     "metadata": {},
     "output_type": "execute_result"
    }
   ],
   "source": [
    "df[\"A\"]"
   ]
  },
  {
   "cell_type": "markdown",
   "id": "ea23c060",
   "metadata": {},
   "source": [
    "---"
   ]
  },
  {
   "cell_type": "markdown",
   "id": "f43a2edc",
   "metadata": {},
   "source": [
    "`// select a specific row - [start:end] - shows index, column headers and value`"
   ]
  },
  {
   "cell_type": "code",
   "execution_count": 32,
   "id": "8fbf729e",
   "metadata": {},
   "outputs": [
    {
     "data": {
      "text/html": [
       "<div>\n",
       "<style scoped>\n",
       "    .dataframe tbody tr th:only-of-type {\n",
       "        vertical-align: middle;\n",
       "    }\n",
       "\n",
       "    .dataframe tbody tr th {\n",
       "        vertical-align: top;\n",
       "    }\n",
       "\n",
       "    .dataframe thead th {\n",
       "        text-align: right;\n",
       "    }\n",
       "</style>\n",
       "<table border=\"1\" class=\"dataframe\">\n",
       "  <thead>\n",
       "    <tr style=\"text-align: right;\">\n",
       "      <th></th>\n",
       "      <th>A</th>\n",
       "      <th>B</th>\n",
       "      <th>C</th>\n",
       "      <th>D</th>\n",
       "    </tr>\n",
       "  </thead>\n",
       "  <tbody>\n",
       "    <tr>\n",
       "      <th>2013-01-03</th>\n",
       "      <td>-0.582395</td>\n",
       "      <td>-0.1521</td>\n",
       "      <td>0.661342</td>\n",
       "      <td>0.898475</td>\n",
       "    </tr>\n",
       "  </tbody>\n",
       "</table>\n",
       "</div>"
      ],
      "text/plain": [
       "                   A       B         C         D\n",
       "2013-01-03 -0.582395 -0.1521  0.661342  0.898475"
      ]
     },
     "execution_count": 32,
     "metadata": {},
     "output_type": "execute_result"
    }
   ],
   "source": [
    "df[\"20130103\":\"20130103\"]"
   ]
  },
  {
   "cell_type": "code",
   "execution_count": null,
   "id": "ae37c4be",
   "metadata": {},
   "outputs": [],
   "source": []
  }
 ],
 "metadata": {
  "kernelspec": {
   "display_name": "Python 3 (ipykernel)",
   "language": "python",
   "name": "python3"
  },
  "language_info": {
   "codemirror_mode": {
    "name": "ipython",
    "version": 3
   },
   "file_extension": ".py",
   "mimetype": "text/x-python",
   "name": "python",
   "nbconvert_exporter": "python",
   "pygments_lexer": "ipython3",
   "version": "3.9.16"
  }
 },
 "nbformat": 4,
 "nbformat_minor": 5
}
