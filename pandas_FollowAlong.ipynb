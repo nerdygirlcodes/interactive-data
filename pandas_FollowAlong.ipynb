{
 "cells": [
  {
   "cell_type": "markdown",
   "id": "9186bcd4",
   "metadata": {},
   "source": [
    "### 10 Minutes to pandas\n",
    "https://pandas.pydata.org/docs/user_guide/10min.html#minutes-to-pandas\n",
    "\n",
    "_Follow along / scratch coding with the above reading_"
   ]
  },
  {
   "cell_type": "markdown",
   "id": "ec302d2b",
   "metadata": {},
   "source": [
    "`// import statements`"
   ]
  },
  {
   "cell_type": "code",
   "execution_count": 4,
   "id": "4d03b826",
   "metadata": {},
   "outputs": [],
   "source": [
    "import numpy as np"
   ]
  },
  {
   "cell_type": "code",
   "execution_count": 3,
   "id": "06a572df",
   "metadata": {},
   "outputs": [],
   "source": [
    "import pandas as pd"
   ]
  },
  {
   "cell_type": "markdown",
   "id": "7466447b",
   "metadata": {},
   "source": [
    "---"
   ]
  },
  {
   "cell_type": "markdown",
   "id": "6b22f4d1",
   "metadata": {},
   "source": [
    "`// create a series allowing pandas to set index`"
   ]
  },
  {
   "cell_type": "code",
   "execution_count": 5,
   "id": "9a41f63c",
   "metadata": {},
   "outputs": [
    {
     "data": {
      "text/plain": [
       "0    1.0\n",
       "1    3.0\n",
       "2    5.0\n",
       "3    NaN\n",
       "4    6.0\n",
       "5    8.0\n",
       "dtype: float64"
      ]
     },
     "execution_count": 5,
     "metadata": {},
     "output_type": "execute_result"
    }
   ],
   "source": [
    "s = pd.Series([1, 3, 5, np.nan, 6, 8])\n",
    "s"
   ]
  },
  {
   "cell_type": "markdown",
   "id": "86954ec5",
   "metadata": {},
   "source": [
    "---"
   ]
  },
  {
   "cell_type": "markdown",
   "id": "de207132",
   "metadata": {},
   "source": [
    "`// create a date range array with 6 values`"
   ]
  },
  {
   "cell_type": "code",
   "execution_count": 6,
   "id": "feb51359",
   "metadata": {},
   "outputs": [
    {
     "data": {
      "text/plain": [
       "DatetimeIndex(['2013-01-01', '2013-01-02', '2013-01-03', '2013-01-04',\n",
       "               '2013-01-05', '2013-01-06'],\n",
       "              dtype='datetime64[ns]', freq='D')"
      ]
     },
     "execution_count": 6,
     "metadata": {},
     "output_type": "execute_result"
    }
   ],
   "source": [
    "dates = pd.date_range(\"20130101\", periods=6)\n",
    "dates"
   ]
  },
  {
   "cell_type": "markdown",
   "id": "1d8b7dcc",
   "metadata": {},
   "source": [
    "---"
   ]
  },
  {
   "cell_type": "markdown",
   "id": "3212fa7c",
   "metadata": {},
   "source": [
    "`// create a DataFrame with the index being the previously set date range, the column titles being labled ABCD and the values being random number values`"
   ]
  },
  {
   "cell_type": "code",
   "execution_count": 7,
   "id": "c62287b1",
   "metadata": {},
   "outputs": [
    {
     "data": {
      "text/html": [
       "<div>\n",
       "<style scoped>\n",
       "    .dataframe tbody tr th:only-of-type {\n",
       "        vertical-align: middle;\n",
       "    }\n",
       "\n",
       "    .dataframe tbody tr th {\n",
       "        vertical-align: top;\n",
       "    }\n",
       "\n",
       "    .dataframe thead th {\n",
       "        text-align: right;\n",
       "    }\n",
       "</style>\n",
       "<table border=\"1\" class=\"dataframe\">\n",
       "  <thead>\n",
       "    <tr style=\"text-align: right;\">\n",
       "      <th></th>\n",
       "      <th>A</th>\n",
       "      <th>B</th>\n",
       "      <th>C</th>\n",
       "      <th>D</th>\n",
       "    </tr>\n",
       "  </thead>\n",
       "  <tbody>\n",
       "    <tr>\n",
       "      <th>2013-01-01</th>\n",
       "      <td>0.902688</td>\n",
       "      <td>-0.084564</td>\n",
       "      <td>0.227529</td>\n",
       "      <td>-0.348789</td>\n",
       "    </tr>\n",
       "    <tr>\n",
       "      <th>2013-01-02</th>\n",
       "      <td>0.180477</td>\n",
       "      <td>-0.877039</td>\n",
       "      <td>-0.525577</td>\n",
       "      <td>0.090993</td>\n",
       "    </tr>\n",
       "    <tr>\n",
       "      <th>2013-01-03</th>\n",
       "      <td>1.005072</td>\n",
       "      <td>0.734529</td>\n",
       "      <td>0.630311</td>\n",
       "      <td>1.825319</td>\n",
       "    </tr>\n",
       "    <tr>\n",
       "      <th>2013-01-04</th>\n",
       "      <td>0.141014</td>\n",
       "      <td>-0.239865</td>\n",
       "      <td>0.037720</td>\n",
       "      <td>-0.150803</td>\n",
       "    </tr>\n",
       "    <tr>\n",
       "      <th>2013-01-05</th>\n",
       "      <td>0.693082</td>\n",
       "      <td>0.402142</td>\n",
       "      <td>-0.134913</td>\n",
       "      <td>0.490771</td>\n",
       "    </tr>\n",
       "    <tr>\n",
       "      <th>2013-01-06</th>\n",
       "      <td>-1.411500</td>\n",
       "      <td>1.282646</td>\n",
       "      <td>0.968649</td>\n",
       "      <td>1.097266</td>\n",
       "    </tr>\n",
       "  </tbody>\n",
       "</table>\n",
       "</div>"
      ],
      "text/plain": [
       "                   A         B         C         D\n",
       "2013-01-01  0.902688 -0.084564  0.227529 -0.348789\n",
       "2013-01-02  0.180477 -0.877039 -0.525577  0.090993\n",
       "2013-01-03  1.005072  0.734529  0.630311  1.825319\n",
       "2013-01-04  0.141014 -0.239865  0.037720 -0.150803\n",
       "2013-01-05  0.693082  0.402142 -0.134913  0.490771\n",
       "2013-01-06 -1.411500  1.282646  0.968649  1.097266"
      ]
     },
     "execution_count": 7,
     "metadata": {},
     "output_type": "execute_result"
    }
   ],
   "source": [
    "df = pd.DataFrame(np.random.randn(6, 4), index=dates, columns=list(\"ABCD\"))\n",
    "df"
   ]
  },
  {
   "cell_type": "markdown",
   "id": "c83038e5",
   "metadata": {},
   "source": [
    "---"
   ]
  },
  {
   "cell_type": "markdown",
   "id": "985b83b0",
   "metadata": {},
   "source": [
    "`// create a DataFrame with set indexes and column values`"
   ]
  },
  {
   "cell_type": "code",
   "execution_count": 8,
   "id": "12fd27c8",
   "metadata": {},
   "outputs": [
    {
     "data": {
      "text/html": [
       "<div>\n",
       "<style scoped>\n",
       "    .dataframe tbody tr th:only-of-type {\n",
       "        vertical-align: middle;\n",
       "    }\n",
       "\n",
       "    .dataframe tbody tr th {\n",
       "        vertical-align: top;\n",
       "    }\n",
       "\n",
       "    .dataframe thead th {\n",
       "        text-align: right;\n",
       "    }\n",
       "</style>\n",
       "<table border=\"1\" class=\"dataframe\">\n",
       "  <thead>\n",
       "    <tr style=\"text-align: right;\">\n",
       "      <th></th>\n",
       "      <th>A</th>\n",
       "      <th>B</th>\n",
       "      <th>C</th>\n",
       "      <th>D</th>\n",
       "      <th>E</th>\n",
       "      <th>F</th>\n",
       "    </tr>\n",
       "  </thead>\n",
       "  <tbody>\n",
       "    <tr>\n",
       "      <th>0</th>\n",
       "      <td>1.0</td>\n",
       "      <td>2013-01-02</td>\n",
       "      <td>1.0</td>\n",
       "      <td>3</td>\n",
       "      <td>test</td>\n",
       "      <td>foo</td>\n",
       "    </tr>\n",
       "    <tr>\n",
       "      <th>1</th>\n",
       "      <td>1.0</td>\n",
       "      <td>2013-01-02</td>\n",
       "      <td>1.0</td>\n",
       "      <td>3</td>\n",
       "      <td>train</td>\n",
       "      <td>foo</td>\n",
       "    </tr>\n",
       "    <tr>\n",
       "      <th>2</th>\n",
       "      <td>1.0</td>\n",
       "      <td>2013-01-02</td>\n",
       "      <td>1.0</td>\n",
       "      <td>3</td>\n",
       "      <td>test</td>\n",
       "      <td>foo</td>\n",
       "    </tr>\n",
       "    <tr>\n",
       "      <th>3</th>\n",
       "      <td>1.0</td>\n",
       "      <td>2013-01-02</td>\n",
       "      <td>1.0</td>\n",
       "      <td>3</td>\n",
       "      <td>train</td>\n",
       "      <td>foo</td>\n",
       "    </tr>\n",
       "  </tbody>\n",
       "</table>\n",
       "</div>"
      ],
      "text/plain": [
       "     A          B    C  D      E    F\n",
       "0  1.0 2013-01-02  1.0  3   test  foo\n",
       "1  1.0 2013-01-02  1.0  3  train  foo\n",
       "2  1.0 2013-01-02  1.0  3   test  foo\n",
       "3  1.0 2013-01-02  1.0  3  train  foo"
      ]
     },
     "execution_count": 8,
     "metadata": {},
     "output_type": "execute_result"
    }
   ],
   "source": [
    "df2 = pd.DataFrame(\n",
    "    {\n",
    "        \"A\": 1.0,\n",
    "        \"B\": pd.Timestamp(\"20130102\"),\n",
    "        \"C\": pd.Series(1, index=list(range(4)), dtype=\"float32\"),\n",
    "        \"D\": np.array([3] * 4, dtype=\"int32\"),\n",
    "        \"E\": pd.Categorical([\"test\", \"train\", \"test\", \"train\"]),\n",
    "        \"F\": \"foo\",\n",
    "    }\n",
    ")\n",
    "df2"
   ]
  },
  {
   "cell_type": "markdown",
   "id": "ba1c23f0",
   "metadata": {},
   "source": [
    "---"
   ]
  },
  {
   "cell_type": "markdown",
   "id": "2a2762a0",
   "metadata": {},
   "source": [
    "`// list the df2 DataFrame type values for each column`"
   ]
  },
  {
   "cell_type": "code",
   "execution_count": 10,
   "id": "8b222645",
   "metadata": {},
   "outputs": [
    {
     "data": {
      "text/plain": [
       "A           float64\n",
       "B    datetime64[ns]\n",
       "C           float32\n",
       "D             int32\n",
       "E          category\n",
       "F            object\n",
       "dtype: object"
      ]
     },
     "execution_count": 10,
     "metadata": {},
     "output_type": "execute_result"
    }
   ],
   "source": [
    "df2.dtypes"
   ]
  },
  {
   "cell_type": "markdown",
   "id": "d98ca2c0",
   "metadata": {},
   "source": [
    "---"
   ]
  },
  {
   "cell_type": "markdown",
   "id": "a32f66ac",
   "metadata": {},
   "source": [
    "`// view the first row of the df DataFrame (amt of rows set by (X) value)`"
   ]
  },
  {
   "cell_type": "code",
   "execution_count": 13,
   "id": "be76d48f",
   "metadata": {},
   "outputs": [
    {
     "data": {
      "text/html": [
       "<div>\n",
       "<style scoped>\n",
       "    .dataframe tbody tr th:only-of-type {\n",
       "        vertical-align: middle;\n",
       "    }\n",
       "\n",
       "    .dataframe tbody tr th {\n",
       "        vertical-align: top;\n",
       "    }\n",
       "\n",
       "    .dataframe thead th {\n",
       "        text-align: right;\n",
       "    }\n",
       "</style>\n",
       "<table border=\"1\" class=\"dataframe\">\n",
       "  <thead>\n",
       "    <tr style=\"text-align: right;\">\n",
       "      <th></th>\n",
       "      <th>A</th>\n",
       "      <th>B</th>\n",
       "      <th>C</th>\n",
       "      <th>D</th>\n",
       "    </tr>\n",
       "  </thead>\n",
       "  <tbody>\n",
       "    <tr>\n",
       "      <th>2013-01-01</th>\n",
       "      <td>1.051186</td>\n",
       "      <td>0.967743</td>\n",
       "      <td>-0.9451</td>\n",
       "      <td>-0.037207</td>\n",
       "    </tr>\n",
       "  </tbody>\n",
       "</table>\n",
       "</div>"
      ],
      "text/plain": [
       "                   A         B       C         D\n",
       "2013-01-01  1.051186  0.967743 -0.9451 -0.037207"
      ]
     },
     "execution_count": 13,
     "metadata": {},
     "output_type": "execute_result"
    }
   ],
   "source": [
    "df.head(1)"
   ]
  },
  {
   "cell_type": "markdown",
   "id": "0de90208",
   "metadata": {},
   "source": [
    "---"
   ]
  },
  {
   "cell_type": "markdown",
   "id": "0a39e97a",
   "metadata": {},
   "source": [
    "`// view the last row of the df DataFrame (amt of rows set by (X) value)`"
   ]
  },
  {
   "cell_type": "code",
   "execution_count": 14,
   "id": "1f0e2840",
   "metadata": {},
   "outputs": [
    {
     "data": {
      "text/html": [
       "<div>\n",
       "<style scoped>\n",
       "    .dataframe tbody tr th:only-of-type {\n",
       "        vertical-align: middle;\n",
       "    }\n",
       "\n",
       "    .dataframe tbody tr th {\n",
       "        vertical-align: top;\n",
       "    }\n",
       "\n",
       "    .dataframe thead th {\n",
       "        text-align: right;\n",
       "    }\n",
       "</style>\n",
       "<table border=\"1\" class=\"dataframe\">\n",
       "  <thead>\n",
       "    <tr style=\"text-align: right;\">\n",
       "      <th></th>\n",
       "      <th>A</th>\n",
       "      <th>B</th>\n",
       "      <th>C</th>\n",
       "      <th>D</th>\n",
       "    </tr>\n",
       "  </thead>\n",
       "  <tbody>\n",
       "    <tr>\n",
       "      <th>2013-01-06</th>\n",
       "      <td>0.166152</td>\n",
       "      <td>-1.255228</td>\n",
       "      <td>0.730229</td>\n",
       "      <td>-0.823481</td>\n",
       "    </tr>\n",
       "  </tbody>\n",
       "</table>\n",
       "</div>"
      ],
      "text/plain": [
       "                   A         B         C         D\n",
       "2013-01-06  0.166152 -1.255228  0.730229 -0.823481"
      ]
     },
     "execution_count": 14,
     "metadata": {},
     "output_type": "execute_result"
    }
   ],
   "source": [
    "df.tail(1)"
   ]
  },
  {
   "cell_type": "markdown",
   "id": "6a2bb327",
   "metadata": {},
   "source": [
    "---"
   ]
  },
  {
   "cell_type": "markdown",
   "id": "a7631db6",
   "metadata": {},
   "source": [
    "`// find the index values for the df DataFrame`"
   ]
  },
  {
   "cell_type": "code",
   "execution_count": 15,
   "id": "edfb0cef",
   "metadata": {},
   "outputs": [
    {
     "data": {
      "text/plain": [
       "DatetimeIndex(['2013-01-01', '2013-01-02', '2013-01-03', '2013-01-04',\n",
       "               '2013-01-05', '2013-01-06'],\n",
       "              dtype='datetime64[ns]', freq='D')"
      ]
     },
     "execution_count": 15,
     "metadata": {},
     "output_type": "execute_result"
    }
   ],
   "source": [
    "df.index"
   ]
  },
  {
   "cell_type": "markdown",
   "id": "aa1b2aeb",
   "metadata": {},
   "source": [
    "---"
   ]
  },
  {
   "cell_type": "markdown",
   "id": "b1fb72e4",
   "metadata": {},
   "source": [
    "`// find the column index values and data types for the df DataFrame`"
   ]
  },
  {
   "cell_type": "code",
   "execution_count": 16,
   "id": "ffe4968c",
   "metadata": {},
   "outputs": [
    {
     "data": {
      "text/plain": [
       "Index(['A', 'B', 'C', 'D'], dtype='object')"
      ]
     },
     "execution_count": 16,
     "metadata": {},
     "output_type": "execute_result"
    }
   ],
   "source": [
    "df.columns"
   ]
  },
  {
   "cell_type": "markdown",
   "id": "738cf36e",
   "metadata": {},
   "source": [
    "---"
   ]
  },
  {
   "cell_type": "markdown",
   "id": "81be2e08",
   "metadata": {},
   "source": [
    "`// convert df DataFrame to an array of all the same type values (float) -- less expensive performance`"
   ]
  },
  {
   "cell_type": "code",
   "execution_count": 25,
   "id": "969c923a",
   "metadata": {},
   "outputs": [
    {
     "data": {
      "text/plain": [
       "array([[-1.56382825, -1.02824035,  0.20563502,  2.16673319],\n",
       "       [-1.82564328,  0.48532261, -0.12460579, -1.4467163 ],\n",
       "       [ 1.69809028,  0.56084296, -1.27237499,  0.93677572],\n",
       "       [ 1.00637307, -0.87076585,  0.65225794, -0.420269  ],\n",
       "       [-1.34901188,  1.13296663,  1.06663903,  1.85259412],\n",
       "       [ 1.1361006 ,  1.22507339,  0.84045318,  0.02650225]])"
      ]
     },
     "execution_count": 25,
     "metadata": {},
     "output_type": "execute_result"
    }
   ],
   "source": [
    "df.to_numpy()"
   ]
  },
  {
   "cell_type": "markdown",
   "id": "eb0f334a",
   "metadata": {},
   "source": [
    "---"
   ]
  },
  {
   "cell_type": "markdown",
   "id": "fe54f0ba",
   "metadata": {},
   "source": [
    "`// convert df2 DataFrame to an array of all the same type values (mixed) -- more expensive, most likely object type`"
   ]
  },
  {
   "cell_type": "code",
   "execution_count": 18,
   "id": "e1b833ae",
   "metadata": {},
   "outputs": [
    {
     "data": {
      "text/plain": [
       "array([[1.0, Timestamp('2013-01-02 00:00:00'), 1.0, 3, 'test', 'foo'],\n",
       "       [1.0, Timestamp('2013-01-02 00:00:00'), 1.0, 3, 'train', 'foo'],\n",
       "       [1.0, Timestamp('2013-01-02 00:00:00'), 1.0, 3, 'test', 'foo'],\n",
       "       [1.0, Timestamp('2013-01-02 00:00:00'), 1.0, 3, 'train', 'foo']],\n",
       "      dtype=object)"
      ]
     },
     "execution_count": 18,
     "metadata": {},
     "output_type": "execute_result"
    }
   ],
   "source": [
    "df2.to_numpy()"
   ]
  },
  {
   "cell_type": "markdown",
   "id": "0fbae697",
   "metadata": {},
   "source": [
    "---"
   ]
  },
  {
   "cell_type": "markdown",
   "id": "d95e11fb",
   "metadata": {},
   "source": [
    "`// data analysis of the df DataFrame`"
   ]
  },
  {
   "cell_type": "code",
   "execution_count": 19,
   "id": "5a1ebf49",
   "metadata": {},
   "outputs": [
    {
     "data": {
      "text/html": [
       "<div>\n",
       "<style scoped>\n",
       "    .dataframe tbody tr th:only-of-type {\n",
       "        vertical-align: middle;\n",
       "    }\n",
       "\n",
       "    .dataframe tbody tr th {\n",
       "        vertical-align: top;\n",
       "    }\n",
       "\n",
       "    .dataframe thead th {\n",
       "        text-align: right;\n",
       "    }\n",
       "</style>\n",
       "<table border=\"1\" class=\"dataframe\">\n",
       "  <thead>\n",
       "    <tr style=\"text-align: right;\">\n",
       "      <th></th>\n",
       "      <th>A</th>\n",
       "      <th>B</th>\n",
       "      <th>C</th>\n",
       "      <th>D</th>\n",
       "    </tr>\n",
       "  </thead>\n",
       "  <tbody>\n",
       "    <tr>\n",
       "      <th>count</th>\n",
       "      <td>6.000000</td>\n",
       "      <td>6.000000</td>\n",
       "      <td>6.000000</td>\n",
       "      <td>6.000000</td>\n",
       "    </tr>\n",
       "    <tr>\n",
       "      <th>mean</th>\n",
       "      <td>0.277882</td>\n",
       "      <td>-0.226239</td>\n",
       "      <td>-0.378539</td>\n",
       "      <td>-0.403209</td>\n",
       "    </tr>\n",
       "    <tr>\n",
       "      <th>std</th>\n",
       "      <td>0.709897</td>\n",
       "      <td>0.934004</td>\n",
       "      <td>1.244828</td>\n",
       "      <td>0.673575</td>\n",
       "    </tr>\n",
       "    <tr>\n",
       "      <th>min</th>\n",
       "      <td>-0.607962</td>\n",
       "      <td>-1.255228</td>\n",
       "      <td>-1.948840</td>\n",
       "      <td>-1.158505</td>\n",
       "    </tr>\n",
       "    <tr>\n",
       "      <th>25%</th>\n",
       "      <td>-0.159548</td>\n",
       "      <td>-0.913361</td>\n",
       "      <td>-1.309803</td>\n",
       "      <td>-0.845474</td>\n",
       "    </tr>\n",
       "    <tr>\n",
       "      <th>50%</th>\n",
       "      <td>0.149569</td>\n",
       "      <td>-0.402097</td>\n",
       "      <td>-0.380913</td>\n",
       "      <td>-0.520076</td>\n",
       "    </tr>\n",
       "    <tr>\n",
       "      <th>75%</th>\n",
       "      <td>0.829928</td>\n",
       "      <td>0.512995</td>\n",
       "      <td>0.593490</td>\n",
       "      <td>-0.082073</td>\n",
       "    </tr>\n",
       "    <tr>\n",
       "      <th>max</th>\n",
       "      <td>1.181990</td>\n",
       "      <td>0.967743</td>\n",
       "      <td>1.140571</td>\n",
       "      <td>0.669415</td>\n",
       "    </tr>\n",
       "  </tbody>\n",
       "</table>\n",
       "</div>"
      ],
      "text/plain": [
       "              A         B         C         D\n",
       "count  6.000000  6.000000  6.000000  6.000000\n",
       "mean   0.277882 -0.226239 -0.378539 -0.403209\n",
       "std    0.709897  0.934004  1.244828  0.673575\n",
       "min   -0.607962 -1.255228 -1.948840 -1.158505\n",
       "25%   -0.159548 -0.913361 -1.309803 -0.845474\n",
       "50%    0.149569 -0.402097 -0.380913 -0.520076\n",
       "75%    0.829928  0.512995  0.593490 -0.082073\n",
       "max    1.181990  0.967743  1.140571  0.669415"
      ]
     },
     "execution_count": 19,
     "metadata": {},
     "output_type": "execute_result"
    }
   ],
   "source": [
    "df.describe()"
   ]
  },
  {
   "cell_type": "markdown",
   "id": "548bd2ab",
   "metadata": {},
   "source": [
    "---"
   ]
  },
  {
   "cell_type": "markdown",
   "id": "cab3b4ed",
   "metadata": {},
   "source": [
    "`// transpose the data of the df DataFrame`"
   ]
  },
  {
   "cell_type": "code",
   "execution_count": 20,
   "id": "f7e67d88",
   "metadata": {},
   "outputs": [
    {
     "data": {
      "text/html": [
       "<div>\n",
       "<style scoped>\n",
       "    .dataframe tbody tr th:only-of-type {\n",
       "        vertical-align: middle;\n",
       "    }\n",
       "\n",
       "    .dataframe tbody tr th {\n",
       "        vertical-align: top;\n",
       "    }\n",
       "\n",
       "    .dataframe thead th {\n",
       "        text-align: right;\n",
       "    }\n",
       "</style>\n",
       "<table border=\"1\" class=\"dataframe\">\n",
       "  <thead>\n",
       "    <tr style=\"text-align: right;\">\n",
       "      <th></th>\n",
       "      <th>2013-01-01</th>\n",
       "      <th>2013-01-02</th>\n",
       "      <th>2013-01-03</th>\n",
       "      <th>2013-01-04</th>\n",
       "      <th>2013-01-05</th>\n",
       "      <th>2013-01-06</th>\n",
       "    </tr>\n",
       "  </thead>\n",
       "  <tbody>\n",
       "    <tr>\n",
       "      <th>A</th>\n",
       "      <td>1.051186</td>\n",
       "      <td>-0.257059</td>\n",
       "      <td>1.181990</td>\n",
       "      <td>0.132985</td>\n",
       "      <td>-0.607962</td>\n",
       "      <td>0.166152</td>\n",
       "    </tr>\n",
       "    <tr>\n",
       "      <th>B</th>\n",
       "      <td>0.967743</td>\n",
       "      <td>0.815273</td>\n",
       "      <td>-0.393839</td>\n",
       "      <td>-0.410356</td>\n",
       "      <td>-1.081030</td>\n",
       "      <td>-1.255228</td>\n",
       "    </tr>\n",
       "    <tr>\n",
       "      <th>C</th>\n",
       "      <td>-0.945100</td>\n",
       "      <td>1.140571</td>\n",
       "      <td>0.183274</td>\n",
       "      <td>-1.948840</td>\n",
       "      <td>-1.431370</td>\n",
       "      <td>0.730229</td>\n",
       "    </tr>\n",
       "    <tr>\n",
       "      <th>D</th>\n",
       "      <td>-0.037207</td>\n",
       "      <td>-0.216670</td>\n",
       "      <td>0.669415</td>\n",
       "      <td>-1.158505</td>\n",
       "      <td>-0.852804</td>\n",
       "      <td>-0.823481</td>\n",
       "    </tr>\n",
       "  </tbody>\n",
       "</table>\n",
       "</div>"
      ],
      "text/plain": [
       "   2013-01-01  2013-01-02  2013-01-03  2013-01-04  2013-01-05  2013-01-06\n",
       "A    1.051186   -0.257059    1.181990    0.132985   -0.607962    0.166152\n",
       "B    0.967743    0.815273   -0.393839   -0.410356   -1.081030   -1.255228\n",
       "C   -0.945100    1.140571    0.183274   -1.948840   -1.431370    0.730229\n",
       "D   -0.037207   -0.216670    0.669415   -1.158505   -0.852804   -0.823481"
      ]
     },
     "execution_count": 20,
     "metadata": {},
     "output_type": "execute_result"
    }
   ],
   "source": [
    "df.T"
   ]
  },
  {
   "cell_type": "markdown",
   "id": "37691b1d",
   "metadata": {},
   "source": [
    "---"
   ]
  },
  {
   "cell_type": "markdown",
   "id": "5a61b0cb",
   "metadata": {},
   "source": [
    "`// sort the df DataFrame by its axis in descending order`"
   ]
  },
  {
   "cell_type": "code",
   "execution_count": 23,
   "id": "c7f7e363",
   "metadata": {},
   "outputs": [
    {
     "data": {
      "text/html": [
       "<div>\n",
       "<style scoped>\n",
       "    .dataframe tbody tr th:only-of-type {\n",
       "        vertical-align: middle;\n",
       "    }\n",
       "\n",
       "    .dataframe tbody tr th {\n",
       "        vertical-align: top;\n",
       "    }\n",
       "\n",
       "    .dataframe thead th {\n",
       "        text-align: right;\n",
       "    }\n",
       "</style>\n",
       "<table border=\"1\" class=\"dataframe\">\n",
       "  <thead>\n",
       "    <tr style=\"text-align: right;\">\n",
       "      <th></th>\n",
       "      <th>D</th>\n",
       "      <th>C</th>\n",
       "      <th>B</th>\n",
       "      <th>A</th>\n",
       "    </tr>\n",
       "  </thead>\n",
       "  <tbody>\n",
       "    <tr>\n",
       "      <th>2013-01-01</th>\n",
       "      <td>-0.037207</td>\n",
       "      <td>-0.945100</td>\n",
       "      <td>0.967743</td>\n",
       "      <td>1.051186</td>\n",
       "    </tr>\n",
       "    <tr>\n",
       "      <th>2013-01-02</th>\n",
       "      <td>-0.216670</td>\n",
       "      <td>1.140571</td>\n",
       "      <td>0.815273</td>\n",
       "      <td>-0.257059</td>\n",
       "    </tr>\n",
       "    <tr>\n",
       "      <th>2013-01-03</th>\n",
       "      <td>0.669415</td>\n",
       "      <td>0.183274</td>\n",
       "      <td>-0.393839</td>\n",
       "      <td>1.181990</td>\n",
       "    </tr>\n",
       "    <tr>\n",
       "      <th>2013-01-04</th>\n",
       "      <td>-1.158505</td>\n",
       "      <td>-1.948840</td>\n",
       "      <td>-0.410356</td>\n",
       "      <td>0.132985</td>\n",
       "    </tr>\n",
       "    <tr>\n",
       "      <th>2013-01-05</th>\n",
       "      <td>-0.852804</td>\n",
       "      <td>-1.431370</td>\n",
       "      <td>-1.081030</td>\n",
       "      <td>-0.607962</td>\n",
       "    </tr>\n",
       "    <tr>\n",
       "      <th>2013-01-06</th>\n",
       "      <td>-0.823481</td>\n",
       "      <td>0.730229</td>\n",
       "      <td>-1.255228</td>\n",
       "      <td>0.166152</td>\n",
       "    </tr>\n",
       "  </tbody>\n",
       "</table>\n",
       "</div>"
      ],
      "text/plain": [
       "                   D         C         B         A\n",
       "2013-01-01 -0.037207 -0.945100  0.967743  1.051186\n",
       "2013-01-02 -0.216670  1.140571  0.815273 -0.257059\n",
       "2013-01-03  0.669415  0.183274 -0.393839  1.181990\n",
       "2013-01-04 -1.158505 -1.948840 -0.410356  0.132985\n",
       "2013-01-05 -0.852804 -1.431370 -1.081030 -0.607962\n",
       "2013-01-06 -0.823481  0.730229 -1.255228  0.166152"
      ]
     },
     "execution_count": 23,
     "metadata": {},
     "output_type": "execute_result"
    }
   ],
   "source": [
    "df.sort_index(axis=1, ascending=False)"
   ]
  },
  {
   "cell_type": "markdown",
   "id": "a82d1cbf",
   "metadata": {},
   "source": [
    "---"
   ]
  },
  {
   "cell_type": "markdown",
   "id": "4d9003c4",
   "metadata": {},
   "source": [
    "`// sort the df DataFrame by its B column values`"
   ]
  },
  {
   "cell_type": "code",
   "execution_count": 26,
   "id": "aa8c6c52",
   "metadata": {},
   "outputs": [
    {
     "data": {
      "text/html": [
       "<div>\n",
       "<style scoped>\n",
       "    .dataframe tbody tr th:only-of-type {\n",
       "        vertical-align: middle;\n",
       "    }\n",
       "\n",
       "    .dataframe tbody tr th {\n",
       "        vertical-align: top;\n",
       "    }\n",
       "\n",
       "    .dataframe thead th {\n",
       "        text-align: right;\n",
       "    }\n",
       "</style>\n",
       "<table border=\"1\" class=\"dataframe\">\n",
       "  <thead>\n",
       "    <tr style=\"text-align: right;\">\n",
       "      <th></th>\n",
       "      <th>A</th>\n",
       "      <th>B</th>\n",
       "      <th>C</th>\n",
       "      <th>D</th>\n",
       "    </tr>\n",
       "  </thead>\n",
       "  <tbody>\n",
       "    <tr>\n",
       "      <th>2013-01-01</th>\n",
       "      <td>-1.563828</td>\n",
       "      <td>-1.028240</td>\n",
       "      <td>0.205635</td>\n",
       "      <td>2.166733</td>\n",
       "    </tr>\n",
       "    <tr>\n",
       "      <th>2013-01-04</th>\n",
       "      <td>1.006373</td>\n",
       "      <td>-0.870766</td>\n",
       "      <td>0.652258</td>\n",
       "      <td>-0.420269</td>\n",
       "    </tr>\n",
       "    <tr>\n",
       "      <th>2013-01-02</th>\n",
       "      <td>-1.825643</td>\n",
       "      <td>0.485323</td>\n",
       "      <td>-0.124606</td>\n",
       "      <td>-1.446716</td>\n",
       "    </tr>\n",
       "    <tr>\n",
       "      <th>2013-01-03</th>\n",
       "      <td>1.698090</td>\n",
       "      <td>0.560843</td>\n",
       "      <td>-1.272375</td>\n",
       "      <td>0.936776</td>\n",
       "    </tr>\n",
       "    <tr>\n",
       "      <th>2013-01-05</th>\n",
       "      <td>-1.349012</td>\n",
       "      <td>1.132967</td>\n",
       "      <td>1.066639</td>\n",
       "      <td>1.852594</td>\n",
       "    </tr>\n",
       "    <tr>\n",
       "      <th>2013-01-06</th>\n",
       "      <td>1.136101</td>\n",
       "      <td>1.225073</td>\n",
       "      <td>0.840453</td>\n",
       "      <td>0.026502</td>\n",
       "    </tr>\n",
       "  </tbody>\n",
       "</table>\n",
       "</div>"
      ],
      "text/plain": [
       "                   A         B         C         D\n",
       "2013-01-01 -1.563828 -1.028240  0.205635  2.166733\n",
       "2013-01-04  1.006373 -0.870766  0.652258 -0.420269\n",
       "2013-01-02 -1.825643  0.485323 -0.124606 -1.446716\n",
       "2013-01-03  1.698090  0.560843 -1.272375  0.936776\n",
       "2013-01-05 -1.349012  1.132967  1.066639  1.852594\n",
       "2013-01-06  1.136101  1.225073  0.840453  0.026502"
      ]
     },
     "execution_count": 26,
     "metadata": {},
     "output_type": "execute_result"
    }
   ],
   "source": [
    "df.sort_values(by=\"B\")"
   ]
  },
  {
   "cell_type": "markdown",
   "id": "99b5d1ca",
   "metadata": {},
   "source": [
    "---"
   ]
  },
  {
   "cell_type": "code",
   "execution_count": null,
   "id": "6013fa94",
   "metadata": {},
   "outputs": [],
   "source": []
  }
 ],
 "metadata": {
  "kernelspec": {
   "display_name": "Python 3 (ipykernel)",
   "language": "python",
   "name": "python3"
  },
  "language_info": {
   "codemirror_mode": {
    "name": "ipython",
    "version": 3
   },
   "file_extension": ".py",
   "mimetype": "text/x-python",
   "name": "python",
   "nbconvert_exporter": "python",
   "pygments_lexer": "ipython3",
   "version": "3.9.16"
  }
 },
 "nbformat": 4,
 "nbformat_minor": 5
}
