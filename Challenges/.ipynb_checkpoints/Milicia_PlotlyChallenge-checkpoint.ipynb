{
 "cells": [
  {
   "cell_type": "markdown",
   "id": "60f3cb97",
   "metadata": {},
   "source": [
    "# Plotly Challenge\n",
    "---\n",
    "\n",
    "## Step #1\n",
    "In a new jupyter notebook, import pandas, matplotlib, plotly, & numpy."
   ]
  },
  {
   "cell_type": "code",
   "execution_count": 1,
   "id": "05a7c4b5",
   "metadata": {},
   "outputs": [],
   "source": [
    "import pandas as pd\n",
    "import matplotlib.pyplot as plt\n",
    "import numpy as np\n",
    "\n",
    "# plotly 'express' uses lite version to call in figure and axes methods.  \n",
    "# -- Can be expanded using other libraries.\n",
    "import plotly.express as px"
   ]
  },
  {
   "cell_type": "markdown",
   "id": "675b4931",
   "metadata": {},
   "source": [
    "## Step #2\n",
    "Use **pandas.read_csv** to access the provided dataset:\n",
    "- Create a DataFrame by importing the “Fuel_Consumption_2000-2022.csv”\n",
    "- *This source data already has tidy data principles.*"
   ]
  },
  {
   "cell_type": "code",
   "execution_count": 2,
   "id": "821df332",
   "metadata": {},
   "outputs": [],
   "source": [
    "# pull in the raw csv data\n",
    "vehicle_data = pd.read_csv('raw/Fuel_Consumption_2000-2022.csv')"
   ]
  },
  {
   "cell_type": "markdown",
   "id": "c0032808",
   "metadata": {},
   "source": [
    "## Step #3\n",
    "In a Markdown cell, indicate:\n",
    "- How many rows of data are in the original source?"
   ]
  },
  {
   "cell_type": "code",
   "execution_count": 9,
   "id": "b6ee0982",
   "metadata": {},
   "outputs": [
    {
     "data": {
      "text/plain": [
       "(22556, 12)"
      ]
     },
     "execution_count": 9,
     "metadata": {},
     "output_type": "execute_result"
    }
   ],
   "source": [
    "# read the 'shape' (or rows and columns) of the data\n",
    "vehicle_data.shape"
   ]
  },
  {
   "cell_type": "markdown",
   "id": "fd945b33",
   "metadata": {},
   "source": [
    "<div class=\"alert alert-block alert-info\">\n",
    "There are 22556 rows!  (and 12 columns)\n",
    "</div>"
   ]
  },
  {
   "cell_type": "markdown",
   "id": "3a5830bb",
   "metadata": {},
   "source": [
    "## Step #4\n",
    "To better sort and group the data, we’ll want to change some data types to ‘category’.  \n",
    "\n",
    "Using the .astype() feature change the following data columns to ‘category’ of your working data frame.\n",
    "- ‘YEAR’, ‘VEHICLE CLASS’, & ‘MAKE’"
   ]
  },
  {
   "cell_type": "code",
   "execution_count": 10,
   "id": "e458e884",
   "metadata": {},
   "outputs": [],
   "source": [
    "# change the type of data in a few columns\n",
    "data = data.astype({\n",
    "    'YEAR': 'category',\n",
    "    'VEHICLE CLASS': 'category',\n",
    "    'MAKE': 'category'\n",
    "})"
   ]
  },
  {
   "cell_type": "markdown",
   "id": "e4bf487e",
   "metadata": {},
   "source": [
    "## Step #5\n",
    "Put the output of a .groupby() & .describe() statement into it’s own variable from the updated data frame from [Step #4](#Step-#4).\n",
    "- Use ‘YEAR’ and ‘VEHICLE CLASS’ as your group by criteria in the above command."
   ]
  },
  {
   "cell_type": "code",
   "execution_count": 13,
   "id": "7ade6bbd",
   "metadata": {},
   "outputs": [],
   "source": [
    "# group the data by year and class (new variable)\n",
    "y_vc_group = data.groupby(['YEAR', 'VEHICLE CLASS'])\n",
    "\n",
    "# describe the grouped data (new variable to save grouped data incase we need it later)\n",
    "y_vc_group_desc = y_vc_group.describe()"
   ]
  },
  {
   "cell_type": "markdown",
   "id": "b08d0e56",
   "metadata": {},
   "source": [
    "## Step #6\n",
    "With the variable created in [Step #5](#Step-#5), in a new coding cell, use Plotly to create a line graph showing the mean of  'COMB (mpg)’ of each ‘VEHICLE CLASS’ across ‘YEAR’.\n",
    "- Label the axes ‘YEAR’ (x-axis) and ‘Combined MPG Average’ (y-axis)\n",
    "- Set the markers value as ‘True’ (line markers)\n",
    "- Title the figure ‘Average Combined MPG per Vehicle Class per Year’"
   ]
  },
  {
   "cell_type": "code",
   "execution_count": 15,
   "id": "1c351c4b",
   "metadata": {},
   "outputs": [],
   "source": [
    "# list comprehension (loop the 'for' loop data with the indicies and turn into a list)\n",
    "Year = [x[0] for x in y_vc_group_desc.index]\n",
    "VehicleClass = [x[1] for x in y_vc_group_desc.index]"
   ]
  },
  {
   "cell_type": "code",
   "execution_count": 17,
   "id": "99a754db",
   "metadata": {},
   "outputs": [],
   "source": [
    "# convert the series to a list (even though express will allow series data to be read)\n",
    "CombineMPG = y_vc_group_desc['COMB (mpg)']['mean'].values.tolist()"
   ]
  },
  {
   "cell_type": "code",
   "execution_count": 39,
   "id": "71565aa7",
   "metadata": {},
   "outputs": [
    {
     "data": {
      "application/vnd.plotly.v1+json": {
       "config": {
        "plotlyServerURL": "https://plot.ly"
       },
       "data": [
        {
         "hovertemplate": "<b>Year</b>: %{x}<br><b>MPG Average</b>: %{y}",
         "legendgroup": "COMPACT",
         "line": {
          "color": "#636efa",
          "dash": "solid"
         },
         "marker": {
          "symbol": "circle"
         },
         "mode": "markers+lines",
         "name": "COMPACT",
         "orientation": "v",
         "showlegend": true,
         "type": "scatter",
         "x": [
          2000,
          2001,
          2002,
          2003,
          2004,
          2005,
          2006,
          2007,
          2008,
          2009,
          2010,
          2011,
          2012,
          2013,
          2014,
          2015,
          2016,
          2017,
          2018,
          2019,
          2020,
          2021,
          2022
         ],
         "xaxis": "x",
         "y": [
          31.504761904761907,
          31.93793103448276,
          31.969924812030076,
          32.37062937062937,
          31.603896103896105,
          31.698630136986303,
          31.233576642335766,
          30.25,
          30.2027027027027,
          30.326666666666668,
          32.17142857142857,
          33.653225806451616,
          35.06015037593985,
          35.214285714285715,
          36.19047619047619,
          31.333333333333332,
          31.414364640883978,
          31.60377358490566,
          32.23770491803279,
          32.43396226415094,
          32.28703703703704,
          32.92941176470588,
          33.22857142857143
         ],
         "yaxis": "y"
        },
        {
         "hovertemplate": "<b>Year</b>: %{x}<br><b>MPG Average</b>: %{y}",
         "legendgroup": "FULL-SIZE",
         "line": {
          "color": "#EF553B",
          "dash": "solid"
         },
         "marker": {
          "symbol": "circle"
         },
         "mode": "markers+lines",
         "name": "FULL-SIZE",
         "orientation": "v",
         "showlegend": true,
         "type": "scatter",
         "x": [
          2000,
          2001,
          2002,
          2003,
          2004,
          2005,
          2006,
          2007,
          2008,
          2009,
          2010,
          2011,
          2012,
          2013,
          2014,
          2015,
          2016,
          2017,
          2018,
          2019,
          2020,
          2021,
          2022
         ],
         "xaxis": "x",
         "y": [
          26.428571428571427,
          26.033333333333335,
          25.689655172413794,
          26.28,
          24.735294117647058,
          24.155555555555555,
          24.625,
          24.462962962962962,
          24.50793650793651,
          24.676470588235293,
          24.441558441558442,
          25.08450704225352,
          26.098765432098766,
          26.894736842105264,
          27.607142857142858,
          24,
          24.27777777777778,
          26.402439024390244,
          27.192660550458715,
          26.603960396039604,
          28.102564102564102,
          29,
          28.890625
         ],
         "yaxis": "y"
        },
        {
         "hovertemplate": "<b>Year</b>: %{x}<br><b>MPG Average</b>: %{y}",
         "legendgroup": "MID-SIZE",
         "line": {
          "color": "#00cc96",
          "dash": "solid"
         },
         "marker": {
          "symbol": "circle"
         },
         "mode": "markers+lines",
         "name": "MID-SIZE",
         "orientation": "v",
         "showlegend": true,
         "type": "scatter",
         "x": [
          2000,
          2001,
          2002,
          2003,
          2004,
          2005,
          2006,
          2007,
          2008,
          2009,
          2010,
          2011,
          2012,
          2013,
          2014,
          2015,
          2016,
          2017,
          2018,
          2019,
          2020,
          2021,
          2022
         ],
         "xaxis": "x",
         "y": [
          27.441558441558442,
          27.353658536585368,
          27.444444444444443,
          27.48314606741573,
          27.92233009708738,
          28.140350877192983,
          28.18918918918919,
          29.115107913669064,
          28.970149253731343,
          29.024,
          29.95,
          31.96969696969697,
          32.86259541984733,
          35.44444444444444,
          35.752941176470586,
          31.044444444444444,
          31.335106382978722,
          31.166666666666668,
          31.664556962025316,
          32.66206896551724,
          31.365079365079364,
          31.42105263157895,
          31.034188034188034
         ],
         "yaxis": "y"
        },
        {
         "hovertemplate": "<b>Year</b>: %{x}<br><b>MPG Average</b>: %{y}",
         "legendgroup": "MINICOMPACT",
         "line": {
          "color": "#ab63fa",
          "dash": "solid"
         },
         "marker": {
          "symbol": "circle"
         },
         "mode": "markers+lines",
         "name": "MINICOMPACT",
         "orientation": "v",
         "showlegend": true,
         "type": "scatter",
         "x": [
          2000,
          2001,
          2002,
          2003,
          2004,
          2005,
          2006,
          2007,
          2008,
          2009,
          2010,
          2011,
          2012,
          2013,
          2014,
          2015,
          2016,
          2017,
          2018,
          2019,
          2020,
          2021,
          2022
         ],
         "xaxis": "x",
         "y": [
          25.636363636363637,
          25.235294117647058,
          25.363636363636363,
          27.575757575757574,
          29.2,
          26.256756756756758,
          28.43243243243243,
          27.5531914893617,
          27.897959183673468,
          31.023255813953487,
          30.4390243902439,
          30.169811320754718,
          30.56578947368421,
          34.41509433962264,
          33.744680851063826,
          28.593220338983052,
          28.557692307692307,
          29.84090909090909,
          28.245283018867923,
          28,
          26.652173913043477,
          24.9,
          24.224489795918366
         ],
         "yaxis": "y"
        },
        {
         "hovertemplate": "<b>Year</b>: %{x}<br><b>MPG Average</b>: %{y}",
         "legendgroup": "MINIVAN",
         "line": {
          "color": "#FFA15A",
          "dash": "solid"
         },
         "marker": {
          "symbol": "circle"
         },
         "mode": "markers+lines",
         "name": "MINIVAN",
         "orientation": "v",
         "showlegend": true,
         "type": "scatter",
         "x": [
          2000,
          2001,
          2002,
          2003,
          2004,
          2005,
          2006,
          2007,
          2008,
          2009,
          2010,
          2011,
          2012,
          2013,
          2014,
          2015,
          2016,
          2017,
          2018,
          2019,
          2020,
          2021,
          2022
         ],
         "xaxis": "x",
         "y": [
          23.96153846153846,
          24.88235294117647,
          24.545454545454547,
          24.392857142857142,
          25.571428571428573,
          24.727272727272727,
          24.714285714285715,
          24.08823529411765,
          25,
          26,
          26.142857142857142,
          25.5,
          27.375,
          27.2,
          26.928571428571427,
          23.8,
          23.916666666666668,
          25,
          24.454545454545453,
          24.666666666666668,
          25.5,
          30.714285714285715,
          31
         ],
         "yaxis": "y"
        },
        {
         "hovertemplate": "<b>Year</b>: %{x}<br><b>MPG Average</b>: %{y}",
         "legendgroup": "PICKUP TRUCK - SMALL",
         "line": {
          "color": "#19d3f3",
          "dash": "solid"
         },
         "marker": {
          "symbol": "circle"
         },
         "mode": "markers+lines",
         "name": "PICKUP TRUCK - SMALL",
         "orientation": "v",
         "showlegend": true,
         "type": "scatter",
         "x": [
          2000,
          2001,
          2002,
          2003,
          2004,
          2008,
          2009,
          2010,
          2011,
          2012,
          2013,
          2014,
          2015,
          2016,
          2017,
          2018,
          2019,
          2020,
          2021,
          2022
         ],
         "xaxis": "x",
         "y": [
          26.272727272727273,
          23.5,
          23.166666666666668,
          24.75,
          20,
          24.76923076923077,
          25.338983050847457,
          25.48148148148148,
          25.529411764705884,
          25.767441860465116,
          26.583333333333332,
          26.5,
          23.954545454545453,
          24.884615384615383,
          24.392857142857142,
          24.296296296296298,
          24.16,
          24.526315789473685,
          24.58823529411765,
          26
         ],
         "yaxis": "y"
        },
        {
         "hovertemplate": "<b>Year</b>: %{x}<br><b>MPG Average</b>: %{y}",
         "legendgroup": "PICKUP TRUCK - STANDARD",
         "line": {
          "color": "#FF6692",
          "dash": "solid"
         },
         "marker": {
          "symbol": "circle"
         },
         "mode": "markers+lines",
         "name": "PICKUP TRUCK - STANDARD",
         "orientation": "v",
         "showlegend": true,
         "type": "scatter",
         "x": [
          2000,
          2001,
          2002,
          2003,
          2004,
          2005,
          2006,
          2007,
          2008,
          2009,
          2010,
          2011,
          2012,
          2013,
          2014,
          2015,
          2016,
          2017,
          2018,
          2019,
          2020,
          2021,
          2022
         ],
         "xaxis": "x",
         "y": [
          20.945652173913043,
          20.792079207920793,
          20.177570093457945,
          21.00943396226415,
          20.66393442622951,
          21.393700787401574,
          21.907801418439718,
          21.623376623376622,
          20.09722222222222,
          20.54736842105263,
          20.054794520547944,
          20.270588235294117,
          20.468354430379748,
          20.726190476190474,
          22.112903225806452,
          20.48076923076923,
          20.5,
          20.56,
          21.329896907216494,
          21.32323232323232,
          22.13186813186813,
          21.8,
          21.460176991150444
         ],
         "yaxis": "y"
        },
        {
         "hovertemplate": "<b>Year</b>: %{x}<br><b>MPG Average</b>: %{y}",
         "legendgroup": "STATION WAGON - MID-SIZE",
         "line": {
          "color": "#B6E880",
          "dash": "solid"
         },
         "marker": {
          "symbol": "circle"
         },
         "mode": "markers+lines",
         "name": "STATION WAGON - MID-SIZE",
         "orientation": "v",
         "showlegend": true,
         "type": "scatter",
         "x": [
          2000,
          2001,
          2002,
          2003,
          2004,
          2005,
          2006,
          2007,
          2008,
          2009,
          2010,
          2011,
          2012,
          2013,
          2014,
          2015,
          2016,
          2017,
          2018,
          2019,
          2020,
          2021,
          2022
         ],
         "xaxis": "x",
         "y": [
          28.44,
          28.870967741935484,
          29.15625,
          29,
          28.414634146341463,
          28.210526315789473,
          28.035714285714285,
          28.625,
          28.5,
          28.53846153846154,
          28.88888888888889,
          28.5,
          35,
          39,
          35.5,
          30.625,
          30.857142857142858,
          32.125,
          30.2,
          26.11111111111111,
          24,
          24,
          24.25
         ],
         "yaxis": "y"
        },
        {
         "hovertemplate": "<b>Year</b>: %{x}<br><b>MPG Average</b>: %{y}",
         "legendgroup": "STATION WAGON - SMALL",
         "line": {
          "color": "#FF97FF",
          "dash": "solid"
         },
         "marker": {
          "symbol": "circle"
         },
         "mode": "markers+lines",
         "name": "STATION WAGON - SMALL",
         "orientation": "v",
         "showlegend": true,
         "type": "scatter",
         "x": [
          2000,
          2001,
          2002,
          2003,
          2004,
          2005,
          2006,
          2007,
          2008,
          2009,
          2010,
          2011,
          2012,
          2013,
          2014,
          2015,
          2016,
          2017,
          2018,
          2019,
          2020,
          2021,
          2022
         ],
         "xaxis": "x",
         "y": [
          31.692307692307693,
          31.916666666666668,
          29.27777777777778,
          31.644444444444446,
          31.27906976744186,
          30.814814814814813,
          31.735849056603772,
          31.59090909090909,
          31.58139534883721,
          32.351851851851855,
          33.56666666666667,
          33.55357142857143,
          34.57446808510638,
          34.79545454545455,
          35.470588235294116,
          33.48571428571429,
          33.270270270270274,
          35.06666666666667,
          35.17948717948718,
          34.891891891891895,
          36.2,
          36.4,
          36.26315789473684
         ],
         "yaxis": "y"
        },
        {
         "hovertemplate": "<b>Year</b>: %{x}<br><b>MPG Average</b>: %{y}",
         "legendgroup": "SUBCOMPACT",
         "line": {
          "color": "#FECB52",
          "dash": "solid"
         },
         "marker": {
          "symbol": "circle"
         },
         "mode": "markers+lines",
         "name": "SUBCOMPACT",
         "orientation": "v",
         "showlegend": true,
         "type": "scatter",
         "x": [
          2000,
          2001,
          2002,
          2003,
          2004,
          2005,
          2006,
          2007,
          2008,
          2009,
          2010,
          2011,
          2012,
          2013,
          2014,
          2015,
          2016,
          2017,
          2018,
          2019,
          2020,
          2021,
          2022
         ],
         "xaxis": "x",
         "y": [
          31.48076923076923,
          31.258064516129032,
          29.15068493150685,
          27.984615384615385,
          28.96511627906977,
          29.82758620689655,
          29.743589743589745,
          29.50602409638554,
          29.86,
          29.98989898989899,
          30.510204081632654,
          31.01923076923077,
          30.735294117647058,
          30.63157894736842,
          31.903225806451612,
          28.66304347826087,
          28.513157894736842,
          27.580645161290324,
          27.78125,
          27.948979591836736,
          26.821052631578947,
          27.373493975903614,
          27.620253164556964
         ],
         "yaxis": "y"
        },
        {
         "hovertemplate": "<b>Year</b>: %{x}<br><b>MPG Average</b>: %{y}",
         "legendgroup": "SUV",
         "line": {
          "color": "#636efa",
          "dash": "solid"
         },
         "marker": {
          "symbol": "circle"
         },
         "mode": "markers+lines",
         "name": "SUV",
         "orientation": "v",
         "showlegend": true,
         "type": "scatter",
         "x": [
          2000,
          2001,
          2002,
          2003,
          2004,
          2005,
          2006,
          2007,
          2008,
          2009,
          2010,
          2011,
          2012
         ],
         "xaxis": "x",
         "y": [
          22.84536082474227,
          23.081632653061224,
          22.572580645161292,
          22.5125,
          21.957894736842107,
          23,
          23.755656108597286,
          24.748953974895397,
          24.95505617977528,
          25.100746268656717,
          26.417670682730925,
          26.600746268656717,
          26.57872340425532
         ],
         "yaxis": "y"
        },
        {
         "hovertemplate": "<b>Year</b>: %{x}<br><b>MPG Average</b>: %{y}",
         "legendgroup": "TWO-SEATER",
         "line": {
          "color": "#EF553B",
          "dash": "solid"
         },
         "marker": {
          "symbol": "circle"
         },
         "mode": "markers+lines",
         "name": "TWO-SEATER",
         "orientation": "v",
         "showlegend": true,
         "type": "scatter",
         "x": [
          2000,
          2001,
          2002,
          2003,
          2004,
          2005,
          2006,
          2007,
          2008,
          2009,
          2010,
          2011,
          2012,
          2013,
          2014,
          2015,
          2016,
          2017,
          2018,
          2019,
          2020,
          2021,
          2022
         ],
         "xaxis": "x",
         "y": [
          23.4,
          27.548387096774192,
          25.972972972972972,
          25.475,
          25.065217391304348,
          26.03846153846154,
          26.93877551020408,
          25.049180327868854,
          25.575342465753426,
          24.109375,
          25.16949152542373,
          26.65625,
          29.289473684210527,
          31.75862068965517,
          31.271428571428572,
          26.404761904761905,
          25.441176470588236,
          24.75438596491228,
          24.333333333333332,
          24.37142857142857,
          24.421875,
          23,
          23.15686274509804
         ],
         "yaxis": "y"
        },
        {
         "hovertemplate": "<b>Year</b>: %{x}<br><b>MPG Average</b>: %{y}",
         "legendgroup": "VAN - CARGO",
         "line": {
          "color": "#00cc96",
          "dash": "solid"
         },
         "marker": {
          "symbol": "circle"
         },
         "mode": "markers+lines",
         "name": "VAN - CARGO",
         "orientation": "v",
         "showlegend": true,
         "type": "scatter",
         "x": [
          2000,
          2001,
          2002,
          2003,
          2004,
          2005,
          2006,
          2007,
          2008,
          2009,
          2010,
          2011,
          2012,
          2013,
          2014
         ],
         "xaxis": "x",
         "y": [
          19.82608695652174,
          19.26086956521739,
          19.434782608695652,
          18.666666666666668,
          18.80952380952381,
          20.384615384615383,
          20.214285714285715,
          18.666666666666668,
          18.53846153846154,
          18.53846153846154,
          17.666666666666668,
          17.454545454545453,
          17.40909090909091,
          17.40909090909091,
          17.318181818181817
         ],
         "yaxis": "y"
        },
        {
         "hovertemplate": "<b>Year</b>: %{x}<br><b>MPG Average</b>: %{y}",
         "legendgroup": "VAN - PASSENGER",
         "line": {
          "color": "#ab63fa",
          "dash": "solid"
         },
         "marker": {
          "symbol": "circle"
         },
         "mode": "markers+lines",
         "name": "VAN - PASSENGER",
         "orientation": "v",
         "showlegend": true,
         "type": "scatter",
         "x": [
          2000,
          2001,
          2002,
          2003,
          2004,
          2005,
          2006,
          2007,
          2008,
          2009,
          2010,
          2011,
          2012,
          2013,
          2014,
          2015,
          2016,
          2017,
          2018,
          2019,
          2020,
          2021
         ],
         "xaxis": "x",
         "y": [
          18.647058823529413,
          19.055555555555557,
          18.77777777777778,
          18.615384615384617,
          19.181818181818183,
          19.666666666666668,
          19.75,
          17.5,
          17.666666666666668,
          17.666666666666668,
          16.75,
          15.62962962962963,
          15.612903225806452,
          15.633333333333333,
          16,
          14.736842105263158,
          15.571428571428571,
          16,
          19,
          19,
          16.75,
          16.75
         ],
         "yaxis": "y"
        },
        {
         "hovertemplate": "<b>Year</b>: %{x}<br><b>MPG Average</b>: %{y}",
         "legendgroup": "SUV - STANDARD",
         "line": {
          "color": "#FFA15A",
          "dash": "solid"
         },
         "marker": {
          "symbol": "circle"
         },
         "mode": "markers+lines",
         "name": "SUV - STANDARD",
         "orientation": "v",
         "showlegend": true,
         "type": "scatter",
         "x": [
          2007,
          2012,
          2013,
          2014,
          2015,
          2016,
          2017,
          2018,
          2019,
          2020,
          2021,
          2022
         ],
         "xaxis": "x",
         "y": [
          20,
          25.5,
          22.396039603960396,
          22.813725490196077,
          21.08080808080808,
          21.850467289719628,
          21.598039215686274,
          21.601941747572816,
          21.756756756756758,
          22.084745762711865,
          22.58267716535433,
          22.463087248322147
         ],
         "yaxis": "y"
        },
        {
         "hovertemplate": "<b>Year</b>: %{x}<br><b>MPG Average</b>: %{y}",
         "legendgroup": "SPECIAL PURPOSE VEHICLE",
         "line": {
          "color": "#19d3f3",
          "dash": "solid"
         },
         "marker": {
          "symbol": "circle"
         },
         "mode": "markers+lines",
         "name": "SPECIAL PURPOSE VEHICLE",
         "orientation": "v",
         "showlegend": true,
         "type": "scatter",
         "x": [
          2010,
          2011,
          2012,
          2013,
          2014,
          2015,
          2016,
          2017,
          2018,
          2019,
          2020,
          2021,
          2022
         ],
         "xaxis": "x",
         "y": [
          32,
          31,
          32.5,
          31.6,
          31.857142857142858,
          28.22222222222222,
          25.647058823529413,
          25.8,
          25.4,
          27.071428571428573,
          27.615384615384617,
          27.076923076923077,
          26.75
         ],
         "yaxis": "y"
        },
        {
         "hovertemplate": "<b>Year</b>: %{x}<br><b>MPG Average</b>: %{y}",
         "legendgroup": "SUV - SMALL",
         "line": {
          "color": "#FF6692",
          "dash": "solid"
         },
         "marker": {
          "symbol": "circle"
         },
         "mode": "markers+lines",
         "name": "SUV - SMALL",
         "orientation": "v",
         "showlegend": true,
         "type": "scatter",
         "x": [
          2013,
          2014,
          2015,
          2016,
          2017,
          2018,
          2019,
          2020,
          2021,
          2022
         ],
         "xaxis": "x",
         "y": [
          30.892086330935253,
          31.316129032258065,
          27.70949720670391,
          28.227777777777778,
          27.775862068965516,
          28.372881355932204,
          28.913793103448278,
          28.824468085106382,
          29.435233160621763,
          29.781725888324875
         ],
         "yaxis": "y"
        }
       ],
       "layout": {
        "legend": {
         "title": {
          "text": "Vehicle Class"
         },
         "tracegroupgap": 0
        },
        "margin": {
         "t": 60
        },
        "template": {
         "data": {
          "bar": [
           {
            "error_x": {
             "color": "#2a3f5f"
            },
            "error_y": {
             "color": "#2a3f5f"
            },
            "marker": {
             "line": {
              "color": "#E5ECF6",
              "width": 0.5
             },
             "pattern": {
              "fillmode": "overlay",
              "size": 10,
              "solidity": 0.2
             }
            },
            "type": "bar"
           }
          ],
          "barpolar": [
           {
            "marker": {
             "line": {
              "color": "#E5ECF6",
              "width": 0.5
             },
             "pattern": {
              "fillmode": "overlay",
              "size": 10,
              "solidity": 0.2
             }
            },
            "type": "barpolar"
           }
          ],
          "carpet": [
           {
            "aaxis": {
             "endlinecolor": "#2a3f5f",
             "gridcolor": "white",
             "linecolor": "white",
             "minorgridcolor": "white",
             "startlinecolor": "#2a3f5f"
            },
            "baxis": {
             "endlinecolor": "#2a3f5f",
             "gridcolor": "white",
             "linecolor": "white",
             "minorgridcolor": "white",
             "startlinecolor": "#2a3f5f"
            },
            "type": "carpet"
           }
          ],
          "choropleth": [
           {
            "colorbar": {
             "outlinewidth": 0,
             "ticks": ""
            },
            "type": "choropleth"
           }
          ],
          "contour": [
           {
            "colorbar": {
             "outlinewidth": 0,
             "ticks": ""
            },
            "colorscale": [
             [
              0,
              "#0d0887"
             ],
             [
              0.1111111111111111,
              "#46039f"
             ],
             [
              0.2222222222222222,
              "#7201a8"
             ],
             [
              0.3333333333333333,
              "#9c179e"
             ],
             [
              0.4444444444444444,
              "#bd3786"
             ],
             [
              0.5555555555555556,
              "#d8576b"
             ],
             [
              0.6666666666666666,
              "#ed7953"
             ],
             [
              0.7777777777777778,
              "#fb9f3a"
             ],
             [
              0.8888888888888888,
              "#fdca26"
             ],
             [
              1,
              "#f0f921"
             ]
            ],
            "type": "contour"
           }
          ],
          "contourcarpet": [
           {
            "colorbar": {
             "outlinewidth": 0,
             "ticks": ""
            },
            "type": "contourcarpet"
           }
          ],
          "heatmap": [
           {
            "colorbar": {
             "outlinewidth": 0,
             "ticks": ""
            },
            "colorscale": [
             [
              0,
              "#0d0887"
             ],
             [
              0.1111111111111111,
              "#46039f"
             ],
             [
              0.2222222222222222,
              "#7201a8"
             ],
             [
              0.3333333333333333,
              "#9c179e"
             ],
             [
              0.4444444444444444,
              "#bd3786"
             ],
             [
              0.5555555555555556,
              "#d8576b"
             ],
             [
              0.6666666666666666,
              "#ed7953"
             ],
             [
              0.7777777777777778,
              "#fb9f3a"
             ],
             [
              0.8888888888888888,
              "#fdca26"
             ],
             [
              1,
              "#f0f921"
             ]
            ],
            "type": "heatmap"
           }
          ],
          "heatmapgl": [
           {
            "colorbar": {
             "outlinewidth": 0,
             "ticks": ""
            },
            "colorscale": [
             [
              0,
              "#0d0887"
             ],
             [
              0.1111111111111111,
              "#46039f"
             ],
             [
              0.2222222222222222,
              "#7201a8"
             ],
             [
              0.3333333333333333,
              "#9c179e"
             ],
             [
              0.4444444444444444,
              "#bd3786"
             ],
             [
              0.5555555555555556,
              "#d8576b"
             ],
             [
              0.6666666666666666,
              "#ed7953"
             ],
             [
              0.7777777777777778,
              "#fb9f3a"
             ],
             [
              0.8888888888888888,
              "#fdca26"
             ],
             [
              1,
              "#f0f921"
             ]
            ],
            "type": "heatmapgl"
           }
          ],
          "histogram": [
           {
            "marker": {
             "pattern": {
              "fillmode": "overlay",
              "size": 10,
              "solidity": 0.2
             }
            },
            "type": "histogram"
           }
          ],
          "histogram2d": [
           {
            "colorbar": {
             "outlinewidth": 0,
             "ticks": ""
            },
            "colorscale": [
             [
              0,
              "#0d0887"
             ],
             [
              0.1111111111111111,
              "#46039f"
             ],
             [
              0.2222222222222222,
              "#7201a8"
             ],
             [
              0.3333333333333333,
              "#9c179e"
             ],
             [
              0.4444444444444444,
              "#bd3786"
             ],
             [
              0.5555555555555556,
              "#d8576b"
             ],
             [
              0.6666666666666666,
              "#ed7953"
             ],
             [
              0.7777777777777778,
              "#fb9f3a"
             ],
             [
              0.8888888888888888,
              "#fdca26"
             ],
             [
              1,
              "#f0f921"
             ]
            ],
            "type": "histogram2d"
           }
          ],
          "histogram2dcontour": [
           {
            "colorbar": {
             "outlinewidth": 0,
             "ticks": ""
            },
            "colorscale": [
             [
              0,
              "#0d0887"
             ],
             [
              0.1111111111111111,
              "#46039f"
             ],
             [
              0.2222222222222222,
              "#7201a8"
             ],
             [
              0.3333333333333333,
              "#9c179e"
             ],
             [
              0.4444444444444444,
              "#bd3786"
             ],
             [
              0.5555555555555556,
              "#d8576b"
             ],
             [
              0.6666666666666666,
              "#ed7953"
             ],
             [
              0.7777777777777778,
              "#fb9f3a"
             ],
             [
              0.8888888888888888,
              "#fdca26"
             ],
             [
              1,
              "#f0f921"
             ]
            ],
            "type": "histogram2dcontour"
           }
          ],
          "mesh3d": [
           {
            "colorbar": {
             "outlinewidth": 0,
             "ticks": ""
            },
            "type": "mesh3d"
           }
          ],
          "parcoords": [
           {
            "line": {
             "colorbar": {
              "outlinewidth": 0,
              "ticks": ""
             }
            },
            "type": "parcoords"
           }
          ],
          "pie": [
           {
            "automargin": true,
            "type": "pie"
           }
          ],
          "scatter": [
           {
            "fillpattern": {
             "fillmode": "overlay",
             "size": 10,
             "solidity": 0.2
            },
            "type": "scatter"
           }
          ],
          "scatter3d": [
           {
            "line": {
             "colorbar": {
              "outlinewidth": 0,
              "ticks": ""
             }
            },
            "marker": {
             "colorbar": {
              "outlinewidth": 0,
              "ticks": ""
             }
            },
            "type": "scatter3d"
           }
          ],
          "scattercarpet": [
           {
            "marker": {
             "colorbar": {
              "outlinewidth": 0,
              "ticks": ""
             }
            },
            "type": "scattercarpet"
           }
          ],
          "scattergeo": [
           {
            "marker": {
             "colorbar": {
              "outlinewidth": 0,
              "ticks": ""
             }
            },
            "type": "scattergeo"
           }
          ],
          "scattergl": [
           {
            "marker": {
             "colorbar": {
              "outlinewidth": 0,
              "ticks": ""
             }
            },
            "type": "scattergl"
           }
          ],
          "scattermapbox": [
           {
            "marker": {
             "colorbar": {
              "outlinewidth": 0,
              "ticks": ""
             }
            },
            "type": "scattermapbox"
           }
          ],
          "scatterpolar": [
           {
            "marker": {
             "colorbar": {
              "outlinewidth": 0,
              "ticks": ""
             }
            },
            "type": "scatterpolar"
           }
          ],
          "scatterpolargl": [
           {
            "marker": {
             "colorbar": {
              "outlinewidth": 0,
              "ticks": ""
             }
            },
            "type": "scatterpolargl"
           }
          ],
          "scatterternary": [
           {
            "marker": {
             "colorbar": {
              "outlinewidth": 0,
              "ticks": ""
             }
            },
            "type": "scatterternary"
           }
          ],
          "surface": [
           {
            "colorbar": {
             "outlinewidth": 0,
             "ticks": ""
            },
            "colorscale": [
             [
              0,
              "#0d0887"
             ],
             [
              0.1111111111111111,
              "#46039f"
             ],
             [
              0.2222222222222222,
              "#7201a8"
             ],
             [
              0.3333333333333333,
              "#9c179e"
             ],
             [
              0.4444444444444444,
              "#bd3786"
             ],
             [
              0.5555555555555556,
              "#d8576b"
             ],
             [
              0.6666666666666666,
              "#ed7953"
             ],
             [
              0.7777777777777778,
              "#fb9f3a"
             ],
             [
              0.8888888888888888,
              "#fdca26"
             ],
             [
              1,
              "#f0f921"
             ]
            ],
            "type": "surface"
           }
          ],
          "table": [
           {
            "cells": {
             "fill": {
              "color": "#EBF0F8"
             },
             "line": {
              "color": "white"
             }
            },
            "header": {
             "fill": {
              "color": "#C8D4E3"
             },
             "line": {
              "color": "white"
             }
            },
            "type": "table"
           }
          ]
         },
         "layout": {
          "annotationdefaults": {
           "arrowcolor": "#2a3f5f",
           "arrowhead": 0,
           "arrowwidth": 1
          },
          "autotypenumbers": "strict",
          "coloraxis": {
           "colorbar": {
            "outlinewidth": 0,
            "ticks": ""
           }
          },
          "colorscale": {
           "diverging": [
            [
             0,
             "#8e0152"
            ],
            [
             0.1,
             "#c51b7d"
            ],
            [
             0.2,
             "#de77ae"
            ],
            [
             0.3,
             "#f1b6da"
            ],
            [
             0.4,
             "#fde0ef"
            ],
            [
             0.5,
             "#f7f7f7"
            ],
            [
             0.6,
             "#e6f5d0"
            ],
            [
             0.7,
             "#b8e186"
            ],
            [
             0.8,
             "#7fbc41"
            ],
            [
             0.9,
             "#4d9221"
            ],
            [
             1,
             "#276419"
            ]
           ],
           "sequential": [
            [
             0,
             "#0d0887"
            ],
            [
             0.1111111111111111,
             "#46039f"
            ],
            [
             0.2222222222222222,
             "#7201a8"
            ],
            [
             0.3333333333333333,
             "#9c179e"
            ],
            [
             0.4444444444444444,
             "#bd3786"
            ],
            [
             0.5555555555555556,
             "#d8576b"
            ],
            [
             0.6666666666666666,
             "#ed7953"
            ],
            [
             0.7777777777777778,
             "#fb9f3a"
            ],
            [
             0.8888888888888888,
             "#fdca26"
            ],
            [
             1,
             "#f0f921"
            ]
           ],
           "sequentialminus": [
            [
             0,
             "#0d0887"
            ],
            [
             0.1111111111111111,
             "#46039f"
            ],
            [
             0.2222222222222222,
             "#7201a8"
            ],
            [
             0.3333333333333333,
             "#9c179e"
            ],
            [
             0.4444444444444444,
             "#bd3786"
            ],
            [
             0.5555555555555556,
             "#d8576b"
            ],
            [
             0.6666666666666666,
             "#ed7953"
            ],
            [
             0.7777777777777778,
             "#fb9f3a"
            ],
            [
             0.8888888888888888,
             "#fdca26"
            ],
            [
             1,
             "#f0f921"
            ]
           ]
          },
          "colorway": [
           "#636efa",
           "#EF553B",
           "#00cc96",
           "#ab63fa",
           "#FFA15A",
           "#19d3f3",
           "#FF6692",
           "#B6E880",
           "#FF97FF",
           "#FECB52"
          ],
          "font": {
           "color": "#2a3f5f"
          },
          "geo": {
           "bgcolor": "white",
           "lakecolor": "white",
           "landcolor": "#E5ECF6",
           "showlakes": true,
           "showland": true,
           "subunitcolor": "white"
          },
          "hoverlabel": {
           "align": "left"
          },
          "hovermode": "closest",
          "mapbox": {
           "style": "light"
          },
          "paper_bgcolor": "white",
          "plot_bgcolor": "#E5ECF6",
          "polar": {
           "angularaxis": {
            "gridcolor": "white",
            "linecolor": "white",
            "ticks": ""
           },
           "bgcolor": "#E5ECF6",
           "radialaxis": {
            "gridcolor": "white",
            "linecolor": "white",
            "ticks": ""
           }
          },
          "scene": {
           "xaxis": {
            "backgroundcolor": "#E5ECF6",
            "gridcolor": "white",
            "gridwidth": 2,
            "linecolor": "white",
            "showbackground": true,
            "ticks": "",
            "zerolinecolor": "white"
           },
           "yaxis": {
            "backgroundcolor": "#E5ECF6",
            "gridcolor": "white",
            "gridwidth": 2,
            "linecolor": "white",
            "showbackground": true,
            "ticks": "",
            "zerolinecolor": "white"
           },
           "zaxis": {
            "backgroundcolor": "#E5ECF6",
            "gridcolor": "white",
            "gridwidth": 2,
            "linecolor": "white",
            "showbackground": true,
            "ticks": "",
            "zerolinecolor": "white"
           }
          },
          "shapedefaults": {
           "line": {
            "color": "#2a3f5f"
           }
          },
          "ternary": {
           "aaxis": {
            "gridcolor": "white",
            "linecolor": "white",
            "ticks": ""
           },
           "baxis": {
            "gridcolor": "white",
            "linecolor": "white",
            "ticks": ""
           },
           "bgcolor": "#E5ECF6",
           "caxis": {
            "gridcolor": "white",
            "linecolor": "white",
            "ticks": ""
           }
          },
          "title": {
           "x": 0.05
          },
          "xaxis": {
           "automargin": true,
           "gridcolor": "white",
           "linecolor": "white",
           "ticks": "",
           "title": {
            "standoff": 15
           },
           "zerolinecolor": "white",
           "zerolinewidth": 2
          },
          "yaxis": {
           "automargin": true,
           "gridcolor": "white",
           "linecolor": "white",
           "ticks": "",
           "title": {
            "standoff": 15
           },
           "zerolinecolor": "white",
           "zerolinewidth": 2
          }
         }
        },
        "title": {
         "text": "Average Combined MPG per Vehicle Class per Year"
        },
        "xaxis": {
         "anchor": "y",
         "domain": [
          0,
          1
         ],
         "title": {
          "text": "Year"
         }
        },
        "yaxis": {
         "anchor": "x",
         "domain": [
          0,
          1
         ],
         "title": {
          "text": "Combined MPG Average"
         }
        }
       }
      },
      "text/html": [
       "<div>                            <div id=\"b7a32c0c-9fa2-4c75-bf96-de5bb2e261ea\" class=\"plotly-graph-div\" style=\"height:525px; width:100%;\"></div>            <script type=\"text/javascript\">                require([\"plotly\"], function(Plotly) {                    window.PLOTLYENV=window.PLOTLYENV || {};                                    if (document.getElementById(\"b7a32c0c-9fa2-4c75-bf96-de5bb2e261ea\")) {                    Plotly.newPlot(                        \"b7a32c0c-9fa2-4c75-bf96-de5bb2e261ea\",                        [{\"hovertemplate\":\"<b>Year</b>: %{x}<br><b>MPG Average</b>: %{y}\",\"legendgroup\":\"COMPACT\",\"line\":{\"color\":\"#636efa\",\"dash\":\"solid\"},\"marker\":{\"symbol\":\"circle\"},\"mode\":\"markers+lines\",\"name\":\"COMPACT\",\"orientation\":\"v\",\"showlegend\":true,\"x\":[2000,2001,2002,2003,2004,2005,2006,2007,2008,2009,2010,2011,2012,2013,2014,2015,2016,2017,2018,2019,2020,2021,2022],\"xaxis\":\"x\",\"y\":[31.504761904761907,31.93793103448276,31.969924812030076,32.37062937062937,31.603896103896105,31.698630136986303,31.233576642335766,30.25,30.2027027027027,30.326666666666668,32.17142857142857,33.653225806451616,35.06015037593985,35.214285714285715,36.19047619047619,31.333333333333332,31.414364640883978,31.60377358490566,32.23770491803279,32.43396226415094,32.28703703703704,32.92941176470588,33.22857142857143],\"yaxis\":\"y\",\"type\":\"scatter\"},{\"hovertemplate\":\"<b>Year</b>: %{x}<br><b>MPG Average</b>: %{y}\",\"legendgroup\":\"FULL-SIZE\",\"line\":{\"color\":\"#EF553B\",\"dash\":\"solid\"},\"marker\":{\"symbol\":\"circle\"},\"mode\":\"markers+lines\",\"name\":\"FULL-SIZE\",\"orientation\":\"v\",\"showlegend\":true,\"x\":[2000,2001,2002,2003,2004,2005,2006,2007,2008,2009,2010,2011,2012,2013,2014,2015,2016,2017,2018,2019,2020,2021,2022],\"xaxis\":\"x\",\"y\":[26.428571428571427,26.033333333333335,25.689655172413794,26.28,24.735294117647058,24.155555555555555,24.625,24.462962962962962,24.50793650793651,24.676470588235293,24.441558441558442,25.08450704225352,26.098765432098766,26.894736842105264,27.607142857142858,24.0,24.27777777777778,26.402439024390244,27.192660550458715,26.603960396039604,28.102564102564102,29.0,28.890625],\"yaxis\":\"y\",\"type\":\"scatter\"},{\"hovertemplate\":\"<b>Year</b>: %{x}<br><b>MPG Average</b>: %{y}\",\"legendgroup\":\"MID-SIZE\",\"line\":{\"color\":\"#00cc96\",\"dash\":\"solid\"},\"marker\":{\"symbol\":\"circle\"},\"mode\":\"markers+lines\",\"name\":\"MID-SIZE\",\"orientation\":\"v\",\"showlegend\":true,\"x\":[2000,2001,2002,2003,2004,2005,2006,2007,2008,2009,2010,2011,2012,2013,2014,2015,2016,2017,2018,2019,2020,2021,2022],\"xaxis\":\"x\",\"y\":[27.441558441558442,27.353658536585368,27.444444444444443,27.48314606741573,27.92233009708738,28.140350877192983,28.18918918918919,29.115107913669064,28.970149253731343,29.024,29.95,31.96969696969697,32.86259541984733,35.44444444444444,35.752941176470586,31.044444444444444,31.335106382978722,31.166666666666668,31.664556962025316,32.66206896551724,31.365079365079364,31.42105263157895,31.034188034188034],\"yaxis\":\"y\",\"type\":\"scatter\"},{\"hovertemplate\":\"<b>Year</b>: %{x}<br><b>MPG Average</b>: %{y}\",\"legendgroup\":\"MINICOMPACT\",\"line\":{\"color\":\"#ab63fa\",\"dash\":\"solid\"},\"marker\":{\"symbol\":\"circle\"},\"mode\":\"markers+lines\",\"name\":\"MINICOMPACT\",\"orientation\":\"v\",\"showlegend\":true,\"x\":[2000,2001,2002,2003,2004,2005,2006,2007,2008,2009,2010,2011,2012,2013,2014,2015,2016,2017,2018,2019,2020,2021,2022],\"xaxis\":\"x\",\"y\":[25.636363636363637,25.235294117647058,25.363636363636363,27.575757575757574,29.2,26.256756756756758,28.43243243243243,27.5531914893617,27.897959183673468,31.023255813953487,30.4390243902439,30.169811320754718,30.56578947368421,34.41509433962264,33.744680851063826,28.593220338983052,28.557692307692307,29.84090909090909,28.245283018867923,28.0,26.652173913043477,24.9,24.224489795918366],\"yaxis\":\"y\",\"type\":\"scatter\"},{\"hovertemplate\":\"<b>Year</b>: %{x}<br><b>MPG Average</b>: %{y}\",\"legendgroup\":\"MINIVAN\",\"line\":{\"color\":\"#FFA15A\",\"dash\":\"solid\"},\"marker\":{\"symbol\":\"circle\"},\"mode\":\"markers+lines\",\"name\":\"MINIVAN\",\"orientation\":\"v\",\"showlegend\":true,\"x\":[2000,2001,2002,2003,2004,2005,2006,2007,2008,2009,2010,2011,2012,2013,2014,2015,2016,2017,2018,2019,2020,2021,2022],\"xaxis\":\"x\",\"y\":[23.96153846153846,24.88235294117647,24.545454545454547,24.392857142857142,25.571428571428573,24.727272727272727,24.714285714285715,24.08823529411765,25.0,26.0,26.142857142857142,25.5,27.375,27.2,26.928571428571427,23.8,23.916666666666668,25.0,24.454545454545453,24.666666666666668,25.5,30.714285714285715,31.0],\"yaxis\":\"y\",\"type\":\"scatter\"},{\"hovertemplate\":\"<b>Year</b>: %{x}<br><b>MPG Average</b>: %{y}\",\"legendgroup\":\"PICKUP TRUCK - SMALL\",\"line\":{\"color\":\"#19d3f3\",\"dash\":\"solid\"},\"marker\":{\"symbol\":\"circle\"},\"mode\":\"markers+lines\",\"name\":\"PICKUP TRUCK - SMALL\",\"orientation\":\"v\",\"showlegend\":true,\"x\":[2000,2001,2002,2003,2004,2008,2009,2010,2011,2012,2013,2014,2015,2016,2017,2018,2019,2020,2021,2022],\"xaxis\":\"x\",\"y\":[26.272727272727273,23.5,23.166666666666668,24.75,20.0,24.76923076923077,25.338983050847457,25.48148148148148,25.529411764705884,25.767441860465116,26.583333333333332,26.5,23.954545454545453,24.884615384615383,24.392857142857142,24.296296296296298,24.16,24.526315789473685,24.58823529411765,26.0],\"yaxis\":\"y\",\"type\":\"scatter\"},{\"hovertemplate\":\"<b>Year</b>: %{x}<br><b>MPG Average</b>: %{y}\",\"legendgroup\":\"PICKUP TRUCK - STANDARD\",\"line\":{\"color\":\"#FF6692\",\"dash\":\"solid\"},\"marker\":{\"symbol\":\"circle\"},\"mode\":\"markers+lines\",\"name\":\"PICKUP TRUCK - STANDARD\",\"orientation\":\"v\",\"showlegend\":true,\"x\":[2000,2001,2002,2003,2004,2005,2006,2007,2008,2009,2010,2011,2012,2013,2014,2015,2016,2017,2018,2019,2020,2021,2022],\"xaxis\":\"x\",\"y\":[20.945652173913043,20.792079207920793,20.177570093457945,21.00943396226415,20.66393442622951,21.393700787401574,21.907801418439718,21.623376623376622,20.09722222222222,20.54736842105263,20.054794520547944,20.270588235294117,20.468354430379748,20.726190476190474,22.112903225806452,20.48076923076923,20.5,20.56,21.329896907216494,21.32323232323232,22.13186813186813,21.8,21.460176991150444],\"yaxis\":\"y\",\"type\":\"scatter\"},{\"hovertemplate\":\"<b>Year</b>: %{x}<br><b>MPG Average</b>: %{y}\",\"legendgroup\":\"STATION WAGON - MID-SIZE\",\"line\":{\"color\":\"#B6E880\",\"dash\":\"solid\"},\"marker\":{\"symbol\":\"circle\"},\"mode\":\"markers+lines\",\"name\":\"STATION WAGON - MID-SIZE\",\"orientation\":\"v\",\"showlegend\":true,\"x\":[2000,2001,2002,2003,2004,2005,2006,2007,2008,2009,2010,2011,2012,2013,2014,2015,2016,2017,2018,2019,2020,2021,2022],\"xaxis\":\"x\",\"y\":[28.44,28.870967741935484,29.15625,29.0,28.414634146341463,28.210526315789473,28.035714285714285,28.625,28.5,28.53846153846154,28.88888888888889,28.5,35.0,39.0,35.5,30.625,30.857142857142858,32.125,30.2,26.11111111111111,24.0,24.0,24.25],\"yaxis\":\"y\",\"type\":\"scatter\"},{\"hovertemplate\":\"<b>Year</b>: %{x}<br><b>MPG Average</b>: %{y}\",\"legendgroup\":\"STATION WAGON - SMALL\",\"line\":{\"color\":\"#FF97FF\",\"dash\":\"solid\"},\"marker\":{\"symbol\":\"circle\"},\"mode\":\"markers+lines\",\"name\":\"STATION WAGON - SMALL\",\"orientation\":\"v\",\"showlegend\":true,\"x\":[2000,2001,2002,2003,2004,2005,2006,2007,2008,2009,2010,2011,2012,2013,2014,2015,2016,2017,2018,2019,2020,2021,2022],\"xaxis\":\"x\",\"y\":[31.692307692307693,31.916666666666668,29.27777777777778,31.644444444444446,31.27906976744186,30.814814814814813,31.735849056603772,31.59090909090909,31.58139534883721,32.351851851851855,33.56666666666667,33.55357142857143,34.57446808510638,34.79545454545455,35.470588235294116,33.48571428571429,33.270270270270274,35.06666666666667,35.17948717948718,34.891891891891895,36.2,36.4,36.26315789473684],\"yaxis\":\"y\",\"type\":\"scatter\"},{\"hovertemplate\":\"<b>Year</b>: %{x}<br><b>MPG Average</b>: %{y}\",\"legendgroup\":\"SUBCOMPACT\",\"line\":{\"color\":\"#FECB52\",\"dash\":\"solid\"},\"marker\":{\"symbol\":\"circle\"},\"mode\":\"markers+lines\",\"name\":\"SUBCOMPACT\",\"orientation\":\"v\",\"showlegend\":true,\"x\":[2000,2001,2002,2003,2004,2005,2006,2007,2008,2009,2010,2011,2012,2013,2014,2015,2016,2017,2018,2019,2020,2021,2022],\"xaxis\":\"x\",\"y\":[31.48076923076923,31.258064516129032,29.15068493150685,27.984615384615385,28.96511627906977,29.82758620689655,29.743589743589745,29.50602409638554,29.86,29.98989898989899,30.510204081632654,31.01923076923077,30.735294117647058,30.63157894736842,31.903225806451612,28.66304347826087,28.513157894736842,27.580645161290324,27.78125,27.948979591836736,26.821052631578947,27.373493975903614,27.620253164556964],\"yaxis\":\"y\",\"type\":\"scatter\"},{\"hovertemplate\":\"<b>Year</b>: %{x}<br><b>MPG Average</b>: %{y}\",\"legendgroup\":\"SUV\",\"line\":{\"color\":\"#636efa\",\"dash\":\"solid\"},\"marker\":{\"symbol\":\"circle\"},\"mode\":\"markers+lines\",\"name\":\"SUV\",\"orientation\":\"v\",\"showlegend\":true,\"x\":[2000,2001,2002,2003,2004,2005,2006,2007,2008,2009,2010,2011,2012],\"xaxis\":\"x\",\"y\":[22.84536082474227,23.081632653061224,22.572580645161292,22.5125,21.957894736842107,23.0,23.755656108597286,24.748953974895397,24.95505617977528,25.100746268656717,26.417670682730925,26.600746268656717,26.57872340425532],\"yaxis\":\"y\",\"type\":\"scatter\"},{\"hovertemplate\":\"<b>Year</b>: %{x}<br><b>MPG Average</b>: %{y}\",\"legendgroup\":\"TWO-SEATER\",\"line\":{\"color\":\"#EF553B\",\"dash\":\"solid\"},\"marker\":{\"symbol\":\"circle\"},\"mode\":\"markers+lines\",\"name\":\"TWO-SEATER\",\"orientation\":\"v\",\"showlegend\":true,\"x\":[2000,2001,2002,2003,2004,2005,2006,2007,2008,2009,2010,2011,2012,2013,2014,2015,2016,2017,2018,2019,2020,2021,2022],\"xaxis\":\"x\",\"y\":[23.4,27.548387096774192,25.972972972972972,25.475,25.065217391304348,26.03846153846154,26.93877551020408,25.049180327868854,25.575342465753426,24.109375,25.16949152542373,26.65625,29.289473684210527,31.75862068965517,31.271428571428572,26.404761904761905,25.441176470588236,24.75438596491228,24.333333333333332,24.37142857142857,24.421875,23.0,23.15686274509804],\"yaxis\":\"y\",\"type\":\"scatter\"},{\"hovertemplate\":\"<b>Year</b>: %{x}<br><b>MPG Average</b>: %{y}\",\"legendgroup\":\"VAN - CARGO\",\"line\":{\"color\":\"#00cc96\",\"dash\":\"solid\"},\"marker\":{\"symbol\":\"circle\"},\"mode\":\"markers+lines\",\"name\":\"VAN - CARGO\",\"orientation\":\"v\",\"showlegend\":true,\"x\":[2000,2001,2002,2003,2004,2005,2006,2007,2008,2009,2010,2011,2012,2013,2014],\"xaxis\":\"x\",\"y\":[19.82608695652174,19.26086956521739,19.434782608695652,18.666666666666668,18.80952380952381,20.384615384615383,20.214285714285715,18.666666666666668,18.53846153846154,18.53846153846154,17.666666666666668,17.454545454545453,17.40909090909091,17.40909090909091,17.318181818181817],\"yaxis\":\"y\",\"type\":\"scatter\"},{\"hovertemplate\":\"<b>Year</b>: %{x}<br><b>MPG Average</b>: %{y}\",\"legendgroup\":\"VAN - PASSENGER\",\"line\":{\"color\":\"#ab63fa\",\"dash\":\"solid\"},\"marker\":{\"symbol\":\"circle\"},\"mode\":\"markers+lines\",\"name\":\"VAN - PASSENGER\",\"orientation\":\"v\",\"showlegend\":true,\"x\":[2000,2001,2002,2003,2004,2005,2006,2007,2008,2009,2010,2011,2012,2013,2014,2015,2016,2017,2018,2019,2020,2021],\"xaxis\":\"x\",\"y\":[18.647058823529413,19.055555555555557,18.77777777777778,18.615384615384617,19.181818181818183,19.666666666666668,19.75,17.5,17.666666666666668,17.666666666666668,16.75,15.62962962962963,15.612903225806452,15.633333333333333,16.0,14.736842105263158,15.571428571428571,16.0,19.0,19.0,16.75,16.75],\"yaxis\":\"y\",\"type\":\"scatter\"},{\"hovertemplate\":\"<b>Year</b>: %{x}<br><b>MPG Average</b>: %{y}\",\"legendgroup\":\"SUV - STANDARD\",\"line\":{\"color\":\"#FFA15A\",\"dash\":\"solid\"},\"marker\":{\"symbol\":\"circle\"},\"mode\":\"markers+lines\",\"name\":\"SUV - STANDARD\",\"orientation\":\"v\",\"showlegend\":true,\"x\":[2007,2012,2013,2014,2015,2016,2017,2018,2019,2020,2021,2022],\"xaxis\":\"x\",\"y\":[20.0,25.5,22.396039603960396,22.813725490196077,21.08080808080808,21.850467289719628,21.598039215686274,21.601941747572816,21.756756756756758,22.084745762711865,22.58267716535433,22.463087248322147],\"yaxis\":\"y\",\"type\":\"scatter\"},{\"hovertemplate\":\"<b>Year</b>: %{x}<br><b>MPG Average</b>: %{y}\",\"legendgroup\":\"SPECIAL PURPOSE VEHICLE\",\"line\":{\"color\":\"#19d3f3\",\"dash\":\"solid\"},\"marker\":{\"symbol\":\"circle\"},\"mode\":\"markers+lines\",\"name\":\"SPECIAL PURPOSE VEHICLE\",\"orientation\":\"v\",\"showlegend\":true,\"x\":[2010,2011,2012,2013,2014,2015,2016,2017,2018,2019,2020,2021,2022],\"xaxis\":\"x\",\"y\":[32.0,31.0,32.5,31.6,31.857142857142858,28.22222222222222,25.647058823529413,25.8,25.4,27.071428571428573,27.615384615384617,27.076923076923077,26.75],\"yaxis\":\"y\",\"type\":\"scatter\"},{\"hovertemplate\":\"<b>Year</b>: %{x}<br><b>MPG Average</b>: %{y}\",\"legendgroup\":\"SUV - SMALL\",\"line\":{\"color\":\"#FF6692\",\"dash\":\"solid\"},\"marker\":{\"symbol\":\"circle\"},\"mode\":\"markers+lines\",\"name\":\"SUV - SMALL\",\"orientation\":\"v\",\"showlegend\":true,\"x\":[2013,2014,2015,2016,2017,2018,2019,2020,2021,2022],\"xaxis\":\"x\",\"y\":[30.892086330935253,31.316129032258065,27.70949720670391,28.227777777777778,27.775862068965516,28.372881355932204,28.913793103448278,28.824468085106382,29.435233160621763,29.781725888324875],\"yaxis\":\"y\",\"type\":\"scatter\"}],                        {\"template\":{\"data\":{\"histogram2dcontour\":[{\"type\":\"histogram2dcontour\",\"colorbar\":{\"outlinewidth\":0,\"ticks\":\"\"},\"colorscale\":[[0.0,\"#0d0887\"],[0.1111111111111111,\"#46039f\"],[0.2222222222222222,\"#7201a8\"],[0.3333333333333333,\"#9c179e\"],[0.4444444444444444,\"#bd3786\"],[0.5555555555555556,\"#d8576b\"],[0.6666666666666666,\"#ed7953\"],[0.7777777777777778,\"#fb9f3a\"],[0.8888888888888888,\"#fdca26\"],[1.0,\"#f0f921\"]]}],\"choropleth\":[{\"type\":\"choropleth\",\"colorbar\":{\"outlinewidth\":0,\"ticks\":\"\"}}],\"histogram2d\":[{\"type\":\"histogram2d\",\"colorbar\":{\"outlinewidth\":0,\"ticks\":\"\"},\"colorscale\":[[0.0,\"#0d0887\"],[0.1111111111111111,\"#46039f\"],[0.2222222222222222,\"#7201a8\"],[0.3333333333333333,\"#9c179e\"],[0.4444444444444444,\"#bd3786\"],[0.5555555555555556,\"#d8576b\"],[0.6666666666666666,\"#ed7953\"],[0.7777777777777778,\"#fb9f3a\"],[0.8888888888888888,\"#fdca26\"],[1.0,\"#f0f921\"]]}],\"heatmap\":[{\"type\":\"heatmap\",\"colorbar\":{\"outlinewidth\":0,\"ticks\":\"\"},\"colorscale\":[[0.0,\"#0d0887\"],[0.1111111111111111,\"#46039f\"],[0.2222222222222222,\"#7201a8\"],[0.3333333333333333,\"#9c179e\"],[0.4444444444444444,\"#bd3786\"],[0.5555555555555556,\"#d8576b\"],[0.6666666666666666,\"#ed7953\"],[0.7777777777777778,\"#fb9f3a\"],[0.8888888888888888,\"#fdca26\"],[1.0,\"#f0f921\"]]}],\"heatmapgl\":[{\"type\":\"heatmapgl\",\"colorbar\":{\"outlinewidth\":0,\"ticks\":\"\"},\"colorscale\":[[0.0,\"#0d0887\"],[0.1111111111111111,\"#46039f\"],[0.2222222222222222,\"#7201a8\"],[0.3333333333333333,\"#9c179e\"],[0.4444444444444444,\"#bd3786\"],[0.5555555555555556,\"#d8576b\"],[0.6666666666666666,\"#ed7953\"],[0.7777777777777778,\"#fb9f3a\"],[0.8888888888888888,\"#fdca26\"],[1.0,\"#f0f921\"]]}],\"contourcarpet\":[{\"type\":\"contourcarpet\",\"colorbar\":{\"outlinewidth\":0,\"ticks\":\"\"}}],\"contour\":[{\"type\":\"contour\",\"colorbar\":{\"outlinewidth\":0,\"ticks\":\"\"},\"colorscale\":[[0.0,\"#0d0887\"],[0.1111111111111111,\"#46039f\"],[0.2222222222222222,\"#7201a8\"],[0.3333333333333333,\"#9c179e\"],[0.4444444444444444,\"#bd3786\"],[0.5555555555555556,\"#d8576b\"],[0.6666666666666666,\"#ed7953\"],[0.7777777777777778,\"#fb9f3a\"],[0.8888888888888888,\"#fdca26\"],[1.0,\"#f0f921\"]]}],\"surface\":[{\"type\":\"surface\",\"colorbar\":{\"outlinewidth\":0,\"ticks\":\"\"},\"colorscale\":[[0.0,\"#0d0887\"],[0.1111111111111111,\"#46039f\"],[0.2222222222222222,\"#7201a8\"],[0.3333333333333333,\"#9c179e\"],[0.4444444444444444,\"#bd3786\"],[0.5555555555555556,\"#d8576b\"],[0.6666666666666666,\"#ed7953\"],[0.7777777777777778,\"#fb9f3a\"],[0.8888888888888888,\"#fdca26\"],[1.0,\"#f0f921\"]]}],\"mesh3d\":[{\"type\":\"mesh3d\",\"colorbar\":{\"outlinewidth\":0,\"ticks\":\"\"}}],\"scatter\":[{\"fillpattern\":{\"fillmode\":\"overlay\",\"size\":10,\"solidity\":0.2},\"type\":\"scatter\"}],\"parcoords\":[{\"type\":\"parcoords\",\"line\":{\"colorbar\":{\"outlinewidth\":0,\"ticks\":\"\"}}}],\"scatterpolargl\":[{\"type\":\"scatterpolargl\",\"marker\":{\"colorbar\":{\"outlinewidth\":0,\"ticks\":\"\"}}}],\"bar\":[{\"error_x\":{\"color\":\"#2a3f5f\"},\"error_y\":{\"color\":\"#2a3f5f\"},\"marker\":{\"line\":{\"color\":\"#E5ECF6\",\"width\":0.5},\"pattern\":{\"fillmode\":\"overlay\",\"size\":10,\"solidity\":0.2}},\"type\":\"bar\"}],\"scattergeo\":[{\"type\":\"scattergeo\",\"marker\":{\"colorbar\":{\"outlinewidth\":0,\"ticks\":\"\"}}}],\"scatterpolar\":[{\"type\":\"scatterpolar\",\"marker\":{\"colorbar\":{\"outlinewidth\":0,\"ticks\":\"\"}}}],\"histogram\":[{\"marker\":{\"pattern\":{\"fillmode\":\"overlay\",\"size\":10,\"solidity\":0.2}},\"type\":\"histogram\"}],\"scattergl\":[{\"type\":\"scattergl\",\"marker\":{\"colorbar\":{\"outlinewidth\":0,\"ticks\":\"\"}}}],\"scatter3d\":[{\"type\":\"scatter3d\",\"line\":{\"colorbar\":{\"outlinewidth\":0,\"ticks\":\"\"}},\"marker\":{\"colorbar\":{\"outlinewidth\":0,\"ticks\":\"\"}}}],\"scattermapbox\":[{\"type\":\"scattermapbox\",\"marker\":{\"colorbar\":{\"outlinewidth\":0,\"ticks\":\"\"}}}],\"scatterternary\":[{\"type\":\"scatterternary\",\"marker\":{\"colorbar\":{\"outlinewidth\":0,\"ticks\":\"\"}}}],\"scattercarpet\":[{\"type\":\"scattercarpet\",\"marker\":{\"colorbar\":{\"outlinewidth\":0,\"ticks\":\"\"}}}],\"carpet\":[{\"aaxis\":{\"endlinecolor\":\"#2a3f5f\",\"gridcolor\":\"white\",\"linecolor\":\"white\",\"minorgridcolor\":\"white\",\"startlinecolor\":\"#2a3f5f\"},\"baxis\":{\"endlinecolor\":\"#2a3f5f\",\"gridcolor\":\"white\",\"linecolor\":\"white\",\"minorgridcolor\":\"white\",\"startlinecolor\":\"#2a3f5f\"},\"type\":\"carpet\"}],\"table\":[{\"cells\":{\"fill\":{\"color\":\"#EBF0F8\"},\"line\":{\"color\":\"white\"}},\"header\":{\"fill\":{\"color\":\"#C8D4E3\"},\"line\":{\"color\":\"white\"}},\"type\":\"table\"}],\"barpolar\":[{\"marker\":{\"line\":{\"color\":\"#E5ECF6\",\"width\":0.5},\"pattern\":{\"fillmode\":\"overlay\",\"size\":10,\"solidity\":0.2}},\"type\":\"barpolar\"}],\"pie\":[{\"automargin\":true,\"type\":\"pie\"}]},\"layout\":{\"autotypenumbers\":\"strict\",\"colorway\":[\"#636efa\",\"#EF553B\",\"#00cc96\",\"#ab63fa\",\"#FFA15A\",\"#19d3f3\",\"#FF6692\",\"#B6E880\",\"#FF97FF\",\"#FECB52\"],\"font\":{\"color\":\"#2a3f5f\"},\"hovermode\":\"closest\",\"hoverlabel\":{\"align\":\"left\"},\"paper_bgcolor\":\"white\",\"plot_bgcolor\":\"#E5ECF6\",\"polar\":{\"bgcolor\":\"#E5ECF6\",\"angularaxis\":{\"gridcolor\":\"white\",\"linecolor\":\"white\",\"ticks\":\"\"},\"radialaxis\":{\"gridcolor\":\"white\",\"linecolor\":\"white\",\"ticks\":\"\"}},\"ternary\":{\"bgcolor\":\"#E5ECF6\",\"aaxis\":{\"gridcolor\":\"white\",\"linecolor\":\"white\",\"ticks\":\"\"},\"baxis\":{\"gridcolor\":\"white\",\"linecolor\":\"white\",\"ticks\":\"\"},\"caxis\":{\"gridcolor\":\"white\",\"linecolor\":\"white\",\"ticks\":\"\"}},\"coloraxis\":{\"colorbar\":{\"outlinewidth\":0,\"ticks\":\"\"}},\"colorscale\":{\"sequential\":[[0.0,\"#0d0887\"],[0.1111111111111111,\"#46039f\"],[0.2222222222222222,\"#7201a8\"],[0.3333333333333333,\"#9c179e\"],[0.4444444444444444,\"#bd3786\"],[0.5555555555555556,\"#d8576b\"],[0.6666666666666666,\"#ed7953\"],[0.7777777777777778,\"#fb9f3a\"],[0.8888888888888888,\"#fdca26\"],[1.0,\"#f0f921\"]],\"sequentialminus\":[[0.0,\"#0d0887\"],[0.1111111111111111,\"#46039f\"],[0.2222222222222222,\"#7201a8\"],[0.3333333333333333,\"#9c179e\"],[0.4444444444444444,\"#bd3786\"],[0.5555555555555556,\"#d8576b\"],[0.6666666666666666,\"#ed7953\"],[0.7777777777777778,\"#fb9f3a\"],[0.8888888888888888,\"#fdca26\"],[1.0,\"#f0f921\"]],\"diverging\":[[0,\"#8e0152\"],[0.1,\"#c51b7d\"],[0.2,\"#de77ae\"],[0.3,\"#f1b6da\"],[0.4,\"#fde0ef\"],[0.5,\"#f7f7f7\"],[0.6,\"#e6f5d0\"],[0.7,\"#b8e186\"],[0.8,\"#7fbc41\"],[0.9,\"#4d9221\"],[1,\"#276419\"]]},\"xaxis\":{\"gridcolor\":\"white\",\"linecolor\":\"white\",\"ticks\":\"\",\"title\":{\"standoff\":15},\"zerolinecolor\":\"white\",\"automargin\":true,\"zerolinewidth\":2},\"yaxis\":{\"gridcolor\":\"white\",\"linecolor\":\"white\",\"ticks\":\"\",\"title\":{\"standoff\":15},\"zerolinecolor\":\"white\",\"automargin\":true,\"zerolinewidth\":2},\"scene\":{\"xaxis\":{\"backgroundcolor\":\"#E5ECF6\",\"gridcolor\":\"white\",\"linecolor\":\"white\",\"showbackground\":true,\"ticks\":\"\",\"zerolinecolor\":\"white\",\"gridwidth\":2},\"yaxis\":{\"backgroundcolor\":\"#E5ECF6\",\"gridcolor\":\"white\",\"linecolor\":\"white\",\"showbackground\":true,\"ticks\":\"\",\"zerolinecolor\":\"white\",\"gridwidth\":2},\"zaxis\":{\"backgroundcolor\":\"#E5ECF6\",\"gridcolor\":\"white\",\"linecolor\":\"white\",\"showbackground\":true,\"ticks\":\"\",\"zerolinecolor\":\"white\",\"gridwidth\":2}},\"shapedefaults\":{\"line\":{\"color\":\"#2a3f5f\"}},\"annotationdefaults\":{\"arrowcolor\":\"#2a3f5f\",\"arrowhead\":0,\"arrowwidth\":1},\"geo\":{\"bgcolor\":\"white\",\"landcolor\":\"#E5ECF6\",\"subunitcolor\":\"white\",\"showland\":true,\"showlakes\":true,\"lakecolor\":\"white\"},\"title\":{\"x\":0.05},\"mapbox\":{\"style\":\"light\"}}},\"xaxis\":{\"anchor\":\"y\",\"domain\":[0.0,1.0],\"title\":{\"text\":\"Year\"}},\"yaxis\":{\"anchor\":\"x\",\"domain\":[0.0,1.0],\"title\":{\"text\":\"Combined MPG Average\"}},\"legend\":{\"title\":{\"text\":\"Vehicle Class\"},\"tracegroupgap\":0},\"margin\":{\"t\":60},\"title\":{\"text\":\"Average Combined MPG per Vehicle Class per Year\"}},                        {\"responsive\": true}                    ).then(function(){\n",
       "                            \n",
       "var gd = document.getElementById('b7a32c0c-9fa2-4c75-bf96-de5bb2e261ea');\n",
       "var x = new MutationObserver(function (mutations, observer) {{\n",
       "        var display = window.getComputedStyle(gd).display;\n",
       "        if (!display || display === 'none') {{\n",
       "            console.log([gd, 'removed!']);\n",
       "            Plotly.purge(gd);\n",
       "            observer.disconnect();\n",
       "        }}\n",
       "}});\n",
       "\n",
       "// Listen for the removal of the full notebook cells\n",
       "var notebookContainer = gd.closest('#notebook-container');\n",
       "if (notebookContainer) {{\n",
       "    x.observe(notebookContainer, {childList: true});\n",
       "}}\n",
       "\n",
       "// Listen for the clearing of the current output cell\n",
       "var outputEl = gd.closest('.output');\n",
       "if (outputEl) {{\n",
       "    x.observe(outputEl, {childList: true});\n",
       "}}\n",
       "\n",
       "                        })                };                });            </script>        </div>"
      ]
     },
     "metadata": {},
     "output_type": "display_data"
    }
   ],
   "source": [
    "# create a plotly line chart figure\n",
    "fig = px.line(\n",
    "    x = Year,\n",
    "    y = CombineMPG,\n",
    "    color = VehicleClass,\n",
    "    markers = True\n",
    ")\n",
    "\n",
    "# update the title, axes and legend title\n",
    "fig.update_layout(\n",
    "    title = 'Average Combined MPG per Vehicle Class per Year',\n",
    "    xaxis_title = 'Year',\n",
    "    yaxis_title = 'Combined MPG Average',\n",
    "    legend_title = 'Vehicle Class'\n",
    ")\n",
    "\n",
    "# customize the hover text...\n",
    "# for some reason it would not take %{color} as a variable so assuming it is needing \n",
    "# to be read someway different, but couldnt find the documentation on how.\n",
    "fig.update_traces(\n",
    "    hovertemplate=\"<br>\".join([\n",
    "        \"<b>Year</b>: %{x}\",\n",
    "        \"<b>MPG Average</b>: %{y}\"\n",
    "    ])\n",
    ")\n",
    "\n",
    "# show the figure\n",
    "fig.show()"
   ]
  },
  {
   "cell_type": "markdown",
   "id": "9248b64d",
   "metadata": {},
   "source": [
    "## Step #7\n",
    "In a Markdown cell talk about what interactive features in Plotly you find most appealing and why."
   ]
  },
  {
   "cell_type": "markdown",
   "id": "08fb257b",
   "metadata": {},
   "source": [
    "<div class=\"alert alert-block alert-info\">\n",
    "Plotly is a really interesting framework and it definitely put a lot of ideas into my head about what I could potentially work with for my final project.  Right now my thoughts for that are leaning toward tracking impact data related to my field (well, company) across the country. With the ability to drill down into the larger data chunks using plotly's native hover and interaction (legend on/off, etc), it will be tremendously helpful and easy to better represent the story we're trying to tell. For my current role I work on the web so the ability to use dropdowns or sliders to move into and out of a data set is not only commonplace, but preferred and that mixed with the number of mapping visualizations plotly offers, could end up being a good choice for what i'm trying to accomplish, making it appealing not only for its simplicity, but for its real-world application.\n",
    "</div>"
   ]
  },
  {
   "cell_type": "code",
   "execution_count": null,
   "id": "a005a491",
   "metadata": {},
   "outputs": [],
   "source": []
  }
 ],
 "metadata": {
  "kernelspec": {
   "display_name": "Python 3 (ipykernel)",
   "language": "python",
   "name": "python3"
  },
  "language_info": {
   "codemirror_mode": {
    "name": "ipython",
    "version": 3
   },
   "file_extension": ".py",
   "mimetype": "text/x-python",
   "name": "python",
   "nbconvert_exporter": "python",
   "pygments_lexer": "ipython3",
   "version": "3.9.16"
  }
 },
 "nbformat": 4,
 "nbformat_minor": 5
}
