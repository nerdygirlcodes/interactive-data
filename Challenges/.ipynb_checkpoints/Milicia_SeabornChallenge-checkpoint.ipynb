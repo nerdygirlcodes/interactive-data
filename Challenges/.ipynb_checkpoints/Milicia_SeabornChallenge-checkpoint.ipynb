{
 "cells": [
  {
   "cell_type": "markdown",
   "id": "6b4274fa",
   "metadata": {},
   "source": [
    "### Task 1\n",
    "#### Import Pandas, Matplotlib.pyplot and Seaborn"
   ]
  },
  {
   "cell_type": "code",
   "execution_count": null,
   "id": "310f505c",
   "metadata": {},
   "outputs": [],
   "source": [
    "import pandas as pd\n",
    "import matplotlib.pyplot as plt\n",
    "import seaborn as sns"
   ]
  },
  {
   "cell_type": "markdown",
   "id": "19b7f96e",
   "metadata": {},
   "source": [
    "### Task 2\n",
    "#### Pull in data from CSV and Convert to a DataFrame"
   ]
  },
  {
   "cell_type": "code",
   "execution_count": null,
   "id": "c92afce9",
   "metadata": {},
   "outputs": [],
   "source": [
    "ux_data = pd.read_csv('ux_gender_data.csv')\n",
    "ux_data"
   ]
  },
  {
   "cell_type": "code",
   "execution_count": null,
   "id": "43c0bfbe",
   "metadata": {
    "code_folding": []
   },
   "outputs": [],
   "source": [
    "# create a new \n",
    "fig, ax = plt.subplots()\n",
    "\n",
    "data = []\n",
    "\n",
    "for i in ux_data:\n",
    "    data.append(ux_data[i])\n",
    "\n",
    "for year in data[0]: # year\n",
    "    for male in data[1]: # male\n",
    "        for female in data[2]: # female\n",
    "            ax.barh(year, male * 100, left=0, color='green')\n",
    "            ax.barh(year, female * 100, left=male * 100, color='purple')\n",
    "\n",
    "# ax.text('2020', 25, 'male')\n",
    "# ax.text('2020', 80, 'female')\n",
    "\n",
    "# show the figure\n",
    "plt.show()"
   ]
  },
  {
   "cell_type": "code",
   "execution_count": null,
   "id": "ab8bd804",
   "metadata": {},
   "outputs": [],
   "source": []
  }
 ],
 "metadata": {
  "kernelspec": {
   "display_name": "Python 3 (ipykernel)",
   "language": "python",
   "name": "python3"
  },
  "language_info": {
   "codemirror_mode": {
    "name": "ipython",
    "version": 3
   },
   "file_extension": ".py",
   "mimetype": "text/x-python",
   "name": "python",
   "nbconvert_exporter": "python",
   "pygments_lexer": "ipython3",
   "version": "3.9.16"
  }
 },
 "nbformat": 4,
 "nbformat_minor": 5
}
