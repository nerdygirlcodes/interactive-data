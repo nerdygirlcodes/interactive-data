{
 "cells": [
  {
   "cell_type": "markdown",
   "id": "8d3298e8",
   "metadata": {},
   "source": [
    "# Systems Check\n",
    "## Weekly Challenge\n",
    "### By Cassie Milicia\n",
    "#### January 17th, 2023"
   ]
  },
  {
   "cell_type": "markdown",
   "id": "46b662b8",
   "metadata": {},
   "source": [
    "___Interactive Design: Week 1___"
   ]
  },
  {
   "cell_type": "markdown",
   "id": "6adcc19a",
   "metadata": {},
   "source": [
    "---\n",
    "What I hope to gain from this class:"
   ]
  },
  {
   "cell_type": "markdown",
   "id": "6319a1ea",
   "metadata": {},
   "source": [
    "1. Sweet Python Skillz. 🐍\n",
    "2. A working knowledge of how to better represent data to stakeholders and peers.\n",
    "3. An ability to use my final project "
   ]
  }
 ],
 "metadata": {
  "kernelspec": {
   "display_name": "Python 3 (ipykernel)",
   "language": "python",
   "name": "python3"
  },
  "language_info": {
   "codemirror_mode": {
    "name": "ipython",
    "version": 3
   },
   "file_extension": ".py",
   "mimetype": "text/x-python",
   "name": "python",
   "nbconvert_exporter": "python",
   "pygments_lexer": "ipython3",
   "version": "3.9.16"
  }
 },
 "nbformat": 4,
 "nbformat_minor": 5
}
