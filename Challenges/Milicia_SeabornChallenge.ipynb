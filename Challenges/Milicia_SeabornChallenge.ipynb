{
 "cells": [
  {
   "cell_type": "markdown",
   "id": "6b4274fa",
   "metadata": {},
   "source": [
    "### Task 1\n",
    "#### Import Pandas, Matplotlib.pyplot and Seaborn"
   ]
  },
  {
   "cell_type": "code",
   "execution_count": 1,
   "id": "310f505c",
   "metadata": {},
   "outputs": [],
   "source": [
    "import pandas as pd\n",
    "import matplotlib.pyplot as plt\n",
    "import seaborn as sns"
   ]
  },
  {
   "cell_type": "markdown",
   "id": "7e875abf",
   "metadata": {},
   "source": [
    "###"
   ]
  },
  {
   "cell_type": "markdown",
   "id": "19b7f96e",
   "metadata": {},
   "source": [
    "### Task 3\n",
    "#### Pull in data from CSV and Convert to a DataFrame"
   ]
  },
  {
   "cell_type": "code",
   "execution_count": 21,
   "id": "c92afce9",
   "metadata": {},
   "outputs": [
    {
     "data": {
      "text/html": [
       "<div>\n",
       "<style scoped>\n",
       "    .dataframe tbody tr th:only-of-type {\n",
       "        vertical-align: middle;\n",
       "    }\n",
       "\n",
       "    .dataframe tbody tr th {\n",
       "        vertical-align: top;\n",
       "    }\n",
       "\n",
       "    .dataframe thead th {\n",
       "        text-align: right;\n",
       "    }\n",
       "</style>\n",
       "<table border=\"1\" class=\"dataframe\">\n",
       "  <thead>\n",
       "    <tr style=\"text-align: right;\">\n",
       "      <th></th>\n",
       "      <th>year</th>\n",
       "      <th>male</th>\n",
       "      <th>female</th>\n",
       "    </tr>\n",
       "  </thead>\n",
       "  <tbody>\n",
       "    <tr>\n",
       "      <th>0</th>\n",
       "      <td>2010</td>\n",
       "      <td>0.6188</td>\n",
       "      <td>0.3812</td>\n",
       "    </tr>\n",
       "    <tr>\n",
       "      <th>1</th>\n",
       "      <td>2011</td>\n",
       "      <td>0.6212</td>\n",
       "      <td>0.3788</td>\n",
       "    </tr>\n",
       "    <tr>\n",
       "      <th>2</th>\n",
       "      <td>2012</td>\n",
       "      <td>0.6135</td>\n",
       "      <td>0.3865</td>\n",
       "    </tr>\n",
       "    <tr>\n",
       "      <th>3</th>\n",
       "      <td>2013</td>\n",
       "      <td>0.6367</td>\n",
       "      <td>0.3633</td>\n",
       "    </tr>\n",
       "    <tr>\n",
       "      <th>4</th>\n",
       "      <td>2014</td>\n",
       "      <td>0.6160</td>\n",
       "      <td>0.3840</td>\n",
       "    </tr>\n",
       "    <tr>\n",
       "      <th>5</th>\n",
       "      <td>2015</td>\n",
       "      <td>0.6231</td>\n",
       "      <td>0.3769</td>\n",
       "    </tr>\n",
       "    <tr>\n",
       "      <th>6</th>\n",
       "      <td>2016</td>\n",
       "      <td>0.6125</td>\n",
       "      <td>0.3875</td>\n",
       "    </tr>\n",
       "    <tr>\n",
       "      <th>7</th>\n",
       "      <td>2017</td>\n",
       "      <td>0.6032</td>\n",
       "      <td>0.3968</td>\n",
       "    </tr>\n",
       "    <tr>\n",
       "      <th>8</th>\n",
       "      <td>2018</td>\n",
       "      <td>0.6243</td>\n",
       "      <td>0.3757</td>\n",
       "    </tr>\n",
       "    <tr>\n",
       "      <th>9</th>\n",
       "      <td>2019</td>\n",
       "      <td>0.5938</td>\n",
       "      <td>0.4062</td>\n",
       "    </tr>\n",
       "    <tr>\n",
       "      <th>10</th>\n",
       "      <td>2021</td>\n",
       "      <td>0.5957</td>\n",
       "      <td>0.4043</td>\n",
       "    </tr>\n",
       "  </tbody>\n",
       "</table>\n",
       "</div>"
      ],
      "text/plain": [
       "    year    male  female\n",
       "0   2010  0.6188  0.3812\n",
       "1   2011  0.6212  0.3788\n",
       "2   2012  0.6135  0.3865\n",
       "3   2013  0.6367  0.3633\n",
       "4   2014  0.6160  0.3840\n",
       "5   2015  0.6231  0.3769\n",
       "6   2016  0.6125  0.3875\n",
       "7   2017  0.6032  0.3968\n",
       "8   2018  0.6243  0.3757\n",
       "9   2019  0.5938  0.4062\n",
       "10  2021  0.5957  0.4043"
      ]
     },
     "metadata": {},
     "output_type": "display_data"
    }
   ],
   "source": [
    "# read the csv data\n",
    "ux_data = pd.read_csv('ux_gender_data.csv')\n",
    "\n",
    "# display the dataframe\n",
    "display(ux_data)"
   ]
  },
  {
   "cell_type": "markdown",
   "id": "3e82c5e3",
   "metadata": {},
   "source": [
    "### Task 4\n",
    "#### Map dataframe with matplotlib"
   ]
  },
  {
   "cell_type": "code",
   "execution_count": 20,
   "id": "43c0bfbe",
   "metadata": {
    "code_folding": [],
    "scrolled": false
   },
   "outputs": [
    {
     "data": {
      "image/png": "[encoded data removed]",
      "text/plain": [
       "<Figure size 640x480 with 1 Axes>"
      ]
     },
     "metadata": {},
     "output_type": "display_data"
    }
   ],
   "source": [
    "# create a new \n",
    "fig, ax = plt.subplots()\n",
    "\n",
    "for year in ux_data['year']: # loop through year rows\n",
    "    for male in ux_data['male']: # loop through male rows\n",
    "        for female in ux_data['female']: # loop through female rows\n",
    "            # create the male bar\n",
    "            ax.barh(year, male * 100, left=0, color='green') # make green\n",
    "            # create the female bar\n",
    "            ax.barh(year, female * 100, left=male * 100, color='purple') # make purple\n",
    "\n",
    "# label the figure\n",
    "ax.text(25, 2020, 'male')\n",
    "ax.text(75, 2020, 'female')\n",
    "\n",
    "# title the figure\n",
    "ax.set_title('Gender Percentage by Year of UX Designers in the US')\n",
    "\n",
    "# show the figure\n",
    "plt.show()"
   ]
  },
  {
   "cell_type": "code",
   "execution_count": null,
   "id": "ab8bd804",
   "metadata": {},
   "outputs": [],
   "source": []
  }
 ],
 "metadata": {
  "kernelspec": {
   "display_name": "Python 3 (ipykernel)",
   "language": "python",
   "name": "python3"
  },
  "language_info": {
   "codemirror_mode": {
    "name": "ipython",
    "version": 3
   },
   "file_extension": ".py",
   "mimetype": "text/x-python",
   "name": "python",
   "nbconvert_exporter": "python",
   "pygments_lexer": "ipython3",
   "version": "3.9.16"
  }
 },
 "nbformat": 4,
 "nbformat_minor": 5
}
