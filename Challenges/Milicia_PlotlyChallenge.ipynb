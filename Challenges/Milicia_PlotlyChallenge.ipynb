{
 "cells": [
  {
   "cell_type": "markdown",
   "id": "60f3cb97",
   "metadata": {},
   "source": [
    "# Plotly Challenge\n",
    "---\n",
    "\n",
    "## Step #1\n",
    "In a new jupyter notebook, import pandas, matplotlib, plotly, & numpy."
   ]
  },
  {
   "cell_type": "code",
   "execution_count": 1,
   "id": "05a7c4b5",
   "metadata": {},
   "outputs": [],
   "source": [
    "import pandas as pd\n",
    "import matplotlib.pyplot as plt\n",
    "import numpy as np\n",
    "\n",
    "# plotly 'express' uses lite version to call in figure and axes methods.  \n",
    "# -- Can be expanded using other libraries.\n",
    "import plotly.express as px"
   ]
  },
  {
   "cell_type": "markdown",
   "id": "675b4931",
   "metadata": {},
   "source": [
    "## Step #2\n",
    "Use **pandas.read_csv** to access the provided dataset:\n",
    "- Create a DataFrame by importing the “Fuel_Consumption_2000-2022.csv”\n",
    "- *This source data already has tidy data principles.*"
   ]
  },
  {
   "cell_type": "code",
   "execution_count": 2,
   "id": "821df332",
   "metadata": {},
   "outputs": [],
   "source": [
    "# pull in the raw csv data\n",
    "vehicle_data = pd.read_csv('raw/Fuel_Consumption_2000-2022.csv')"
   ]
  },
  {
   "cell_type": "markdown",
   "id": "c0032808",
   "metadata": {},
   "source": [
    "## Step #3\n",
    "In a Markdown cell, indicate:\n",
    "- How many rows of data are in the original source?"
   ]
  },
  {
   "cell_type": "code",
   "execution_count": 3,
   "id": "b6ee0982",
   "metadata": {},
   "outputs": [
    {
     "data": {
      "text/plain": [
       "(22556, 12)"
      ]
     },
     "execution_count": 3,
     "metadata": {},
     "output_type": "execute_result"
    }
   ],
   "source": [
    "# read the 'shape' (or rows and columns) of the data\n",
    "vehicle_data.shape"
   ]
  },
  {
   "cell_type": "markdown",
   "id": "fd945b33",
   "metadata": {},
   "source": [
    "<div class=\"alert alert-block alert-info\">\n",
    "There are 22556 rows!  (and 12 columns)\n",
    "</div>"
   ]
  },
  {
   "cell_type": "markdown",
   "id": "3a5830bb",
   "metadata": {},
   "source": [
    "## Step #4\n",
    "To better sort and group the data, we’ll want to change some data types to ‘category’.  \n",
    "\n",
    "Using the .astype() feature change the following data columns to ‘category’ of your working data frame.\n",
    "- ‘YEAR’, ‘VEHICLE CLASS’, & ‘MAKE’"
   ]
  },
  {
   "cell_type": "code",
   "execution_count": 4,
   "id": "e458e884",
   "metadata": {},
   "outputs": [
    {
     "ename": "NameError",
     "evalue": "name 'data' is not defined",
     "output_type": "error",
     "traceback": [
      "\u001b[0;31m---------------------------------------------------------------------------\u001b[0m",
      "\u001b[0;31mNameError\u001b[0m                                 Traceback (most recent call last)",
      "Cell \u001b[0;32mIn[4], line 2\u001b[0m\n\u001b[1;32m      1\u001b[0m \u001b[38;5;66;03m# change the type of data in a few columns\u001b[39;00m\n\u001b[0;32m----> 2\u001b[0m data \u001b[38;5;241m=\u001b[39m \u001b[43mdata\u001b[49m\u001b[38;5;241m.\u001b[39mastype({\n\u001b[1;32m      3\u001b[0m     \u001b[38;5;124m'\u001b[39m\u001b[38;5;124mYEAR\u001b[39m\u001b[38;5;124m'\u001b[39m: \u001b[38;5;124m'\u001b[39m\u001b[38;5;124mcategory\u001b[39m\u001b[38;5;124m'\u001b[39m,\n\u001b[1;32m      4\u001b[0m     \u001b[38;5;124m'\u001b[39m\u001b[38;5;124mVEHICLE CLASS\u001b[39m\u001b[38;5;124m'\u001b[39m: \u001b[38;5;124m'\u001b[39m\u001b[38;5;124mcategory\u001b[39m\u001b[38;5;124m'\u001b[39m,\n\u001b[1;32m      5\u001b[0m     \u001b[38;5;124m'\u001b[39m\u001b[38;5;124mMAKE\u001b[39m\u001b[38;5;124m'\u001b[39m: \u001b[38;5;124m'\u001b[39m\u001b[38;5;124mcategory\u001b[39m\u001b[38;5;124m'\u001b[39m\n\u001b[1;32m      6\u001b[0m })\n",
      "\u001b[0;31mNameError\u001b[0m: name 'data' is not defined"
     ]
    }
   ],
   "source": [
    "# change the type of data in a few columns\n",
    "data = data.astype({\n",
    "    'YEAR': 'category',\n",
    "    'VEHICLE CLASS': 'category',\n",
    "    'MAKE': 'category'\n",
    "})"
   ]
  },
  {
   "cell_type": "markdown",
   "id": "e4bf487e",
   "metadata": {},
   "source": [
    "## Step #5\n",
    "Put the output of a .groupby() & .describe() statement into it’s own variable from the updated data frame from [Step #4](#Step-#4).\n",
    "- Use ‘YEAR’ and ‘VEHICLE CLASS’ as your group by criteria in the above command."
   ]
  },
  {
   "cell_type": "code",
   "execution_count": null,
   "id": "7ade6bbd",
   "metadata": {},
   "outputs": [],
   "source": [
    "# group the data by year and class (new variable)\n",
    "y_vc_group = data.groupby(['YEAR', 'VEHICLE CLASS'])\n",
    "\n",
    "# describe the grouped data (new variable to save grouped data incase we need it later)\n",
    "y_vc_group_desc = y_vc_group.describe()"
   ]
  },
  {
   "cell_type": "markdown",
   "id": "b08d0e56",
   "metadata": {},
   "source": [
    "## Step #6\n",
    "With the variable created in [Step #5](#Step-#5), in a new coding cell, use Plotly to create a line graph showing the mean of  'COMB (mpg)’ of each ‘VEHICLE CLASS’ across ‘YEAR’.\n",
    "- Label the axes ‘YEAR’ (x-axis) and ‘Combined MPG Average’ (y-axis)\n",
    "- Set the markers value as ‘True’ (line markers)\n",
    "- Title the figure ‘Average Combined MPG per Vehicle Class per Year’"
   ]
  },
  {
   "cell_type": "code",
   "execution_count": null,
   "id": "1c351c4b",
   "metadata": {},
   "outputs": [],
   "source": [
    "# list comprehension (loop the 'for' loop data with the indicies and turn into a list)\n",
    "Year = [x[0] for x in y_vc_group_desc.index]\n",
    "VehicleClass = [x[1] for x in y_vc_group_desc.index]"
   ]
  },
  {
   "cell_type": "code",
   "execution_count": null,
   "id": "99a754db",
   "metadata": {},
   "outputs": [],
   "source": [
    "# convert the series to a list (even though express will allow series data to be read)\n",
    "CombineMPG = y_vc_group_desc['COMB (mpg)']['mean'].values.tolist()"
   ]
  },
  {
   "cell_type": "code",
   "execution_count": null,
   "id": "71565aa7",
   "metadata": {},
   "outputs": [],
   "source": [
    "# create a plotly line chart figure\n",
    "fig = px.line(\n",
    "    x = Year,\n",
    "    y = CombineMPG,\n",
    "    color = VehicleClass,\n",
    "    markers = True\n",
    ")\n",
    "\n",
    "# update the title, axes and legend title\n",
    "fig.update_layout(\n",
    "    title = 'Average Combined MPG per Vehicle Class per Year',\n",
    "    xaxis_title = 'Year',\n",
    "    yaxis_title = 'Combined MPG Average',\n",
    "    legend_title = 'Vehicle Class'\n",
    ")\n",
    "\n",
    "# customize the hover text...\n",
    "# for some reason it would not take %{color} as a variable so assuming it is needing \n",
    "# to be read someway different, but couldnt find the documentation on how.\n",
    "fig.update_traces(\n",
    "    hovertemplate=\"<br>\".join([\n",
    "        \"<b>Year</b>: %{x}\",\n",
    "        \"<b>MPG Average</b>: %{y}\"\n",
    "    ])\n",
    ")\n",
    "\n",
    "# show the figure\n",
    "fig.show()"
   ]
  },
  {
   "cell_type": "markdown",
   "id": "9248b64d",
   "metadata": {},
   "source": [
    "## Step #7\n",
    "In a Markdown cell talk about what interactive features in Plotly you find most appealing and why."
   ]
  },
  {
   "cell_type": "markdown",
   "id": "08fb257b",
   "metadata": {},
   "source": [
    "<div class=\"alert alert-block alert-info\">\n",
    "Plotly is a really interesting framework and it definitely put a lot of ideas into my head about what I could potentially work with for my final project.  Right now my thoughts for that are leaning toward tracking impact data related to my field (well, company) across the country. With the ability to drill down into the larger data chunks using plotly's native hover and interaction (legend on/off, etc), it will be tremendously helpful and easy to better represent the story we're trying to tell. For my current role I work on the web so the ability to use dropdowns or sliders to move into and out of a data set is not only commonplace, but preferred and that mixed with the number of mapping visualizations plotly offers, could end up being a good choice for what i'm trying to accomplish, making it appealing not only for its simplicity, but for its real-world application.\n",
    "</div>"
   ]
  },
  {
   "cell_type": "code",
   "execution_count": null,
   "id": "a005a491",
   "metadata": {},
   "outputs": [],
   "source": []
  }
 ],
 "metadata": {
  "kernelspec": {
   "display_name": "Python 3 (ipykernel)",
   "language": "python",
   "name": "python3"
  },
  "language_info": {
   "codemirror_mode": {
    "name": "ipython",
    "version": 3
   },
   "file_extension": ".py",
   "mimetype": "text/x-python",
   "name": "python",
   "nbconvert_exporter": "python",
   "pygments_lexer": "ipython3",
   "version": "3.9.16"
  }
 },
 "nbformat": 4,
 "nbformat_minor": 5
}
