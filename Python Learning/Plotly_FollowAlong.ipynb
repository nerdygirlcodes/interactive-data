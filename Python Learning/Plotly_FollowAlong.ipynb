{
 "cells": [
  {
   "cell_type": "code",
   "execution_count": 8,
   "id": "0949591c",
   "metadata": {},
   "outputs": [],
   "source": [
    "# import pandas, matplotlib and numpy\n",
    "import pandas as pd\n",
    "import matplotlib.pyplot as plt\n",
    "import numpy as np\n",
    "\n",
    "# import plotly\n",
    "# 'express' is a lite version of the entirety, but other options ('graph_objects (go)', etc.)\n",
    "import plotly.express as px\n",
    "\n",
    "# ------- Notes --------\n",
    "# plotyly leverages maps + interactivity + custom controls (like sliders and dropdowns)*****\n",
    "# subscription application recommended\n",
    "# ----------------------"
   ]
  },
  {
   "cell_type": "code",
   "execution_count": 9,
   "id": "3b0b985b",
   "metadata": {},
   "outputs": [],
   "source": [
    "# read the data from the CSV file\n",
    "data = pd.read_csv('Fuel_Consumption_2000-2022.csv')"
   ]
  },
  {
   "cell_type": "code",
   "execution_count": 10,
   "id": "ea7e8669",
   "metadata": {},
   "outputs": [
    {
     "data": {
      "text/plain": [
       "(22556, 12)"
      ]
     },
     "execution_count": 10,
     "metadata": {},
     "output_type": "execute_result"
    }
   ],
   "source": [
    "# display number of rows and columns as a list\n",
    "data.shape"
   ]
  },
  {
   "cell_type": "code",
   "execution_count": 17,
   "id": "b933643a",
   "metadata": {},
   "outputs": [
    {
     "data": {
      "text/html": [
       "<div>\n",
       "<style scoped>\n",
       "    .dataframe tbody tr th:only-of-type {\n",
       "        vertical-align: middle;\n",
       "    }\n",
       "\n",
       "    .dataframe tbody tr th {\n",
       "        vertical-align: top;\n",
       "    }\n",
       "\n",
       "    .dataframe thead tr th {\n",
       "        text-align: left;\n",
       "    }\n",
       "\n",
       "    .dataframe thead tr:last-of-type th {\n",
       "        text-align: right;\n",
       "    }\n",
       "</style>\n",
       "<table border=\"1\" class=\"dataframe\">\n",
       "  <thead>\n",
       "    <tr>\n",
       "      <th></th>\n",
       "      <th></th>\n",
       "      <th colspan=\"8\" halign=\"left\">ID</th>\n",
       "      <th colspan=\"2\" halign=\"left\">ENGINE SIZE</th>\n",
       "      <th>...</th>\n",
       "      <th colspan=\"2\" halign=\"left\">COMB (mpg)</th>\n",
       "      <th colspan=\"8\" halign=\"left\">EMISSIONS</th>\n",
       "    </tr>\n",
       "    <tr>\n",
       "      <th></th>\n",
       "      <th></th>\n",
       "      <th>count</th>\n",
       "      <th>mean</th>\n",
       "      <th>std</th>\n",
       "      <th>min</th>\n",
       "      <th>25%</th>\n",
       "      <th>50%</th>\n",
       "      <th>75%</th>\n",
       "      <th>max</th>\n",
       "      <th>count</th>\n",
       "      <th>mean</th>\n",
       "      <th>...</th>\n",
       "      <th>75%</th>\n",
       "      <th>max</th>\n",
       "      <th>count</th>\n",
       "      <th>mean</th>\n",
       "      <th>std</th>\n",
       "      <th>min</th>\n",
       "      <th>25%</th>\n",
       "      <th>50%</th>\n",
       "      <th>75%</th>\n",
       "      <th>max</th>\n",
       "    </tr>\n",
       "    <tr>\n",
       "      <th>YEAR</th>\n",
       "      <th>VEHICLE CLASS</th>\n",
       "      <th></th>\n",
       "      <th></th>\n",
       "      <th></th>\n",
       "      <th></th>\n",
       "      <th></th>\n",
       "      <th></th>\n",
       "      <th></th>\n",
       "      <th></th>\n",
       "      <th></th>\n",
       "      <th></th>\n",
       "      <th></th>\n",
       "      <th></th>\n",
       "      <th></th>\n",
       "      <th></th>\n",
       "      <th></th>\n",
       "      <th></th>\n",
       "      <th></th>\n",
       "      <th></th>\n",
       "      <th></th>\n",
       "      <th></th>\n",
       "      <th></th>\n",
       "    </tr>\n",
       "  </thead>\n",
       "  <tbody>\n",
       "    <tr>\n",
       "      <th rowspan=\"5\" valign=\"top\">2000</th>\n",
       "      <th>COMPACT</th>\n",
       "      <td>105.0</td>\n",
       "      <td>329.219048</td>\n",
       "      <td>221.470782</td>\n",
       "      <td>1.0</td>\n",
       "      <td>54.00</td>\n",
       "      <td>375.0</td>\n",
       "      <td>549.00</td>\n",
       "      <td>624.0</td>\n",
       "      <td>105.0</td>\n",
       "      <td>2.348571</td>\n",
       "      <td>...</td>\n",
       "      <td>34.00</td>\n",
       "      <td>55.0</td>\n",
       "      <td>105.0</td>\n",
       "      <td>213.371429</td>\n",
       "      <td>33.433993</td>\n",
       "      <td>138.0</td>\n",
       "      <td>193.0</td>\n",
       "      <td>216.0</td>\n",
       "      <td>232.0</td>\n",
       "      <td>331.0</td>\n",
       "    </tr>\n",
       "    <tr>\n",
       "      <th>FULL-SIZE</th>\n",
       "      <td>28.0</td>\n",
       "      <td>241.642857</td>\n",
       "      <td>174.074955</td>\n",
       "      <td>50.0</td>\n",
       "      <td>104.75</td>\n",
       "      <td>142.5</td>\n",
       "      <td>431.25</td>\n",
       "      <td>544.0</td>\n",
       "      <td>28.0</td>\n",
       "      <td>3.710714</td>\n",
       "      <td>...</td>\n",
       "      <td>28.25</td>\n",
       "      <td>30.0</td>\n",
       "      <td>28.0</td>\n",
       "      <td>248.535714</td>\n",
       "      <td>22.802667</td>\n",
       "      <td>218.0</td>\n",
       "      <td>229.5</td>\n",
       "      <td>246.0</td>\n",
       "      <td>260.5</td>\n",
       "      <td>331.0</td>\n",
       "    </tr>\n",
       "    <tr>\n",
       "      <th>MID-SIZE</th>\n",
       "      <td>77.0</td>\n",
       "      <td>347.064935</td>\n",
       "      <td>202.177250</td>\n",
       "      <td>3.0</td>\n",
       "      <td>136.00</td>\n",
       "      <td>390.0</td>\n",
       "      <td>492.00</td>\n",
       "      <td>632.0</td>\n",
       "      <td>77.0</td>\n",
       "      <td>3.029870</td>\n",
       "      <td>...</td>\n",
       "      <td>29.00</td>\n",
       "      <td>34.0</td>\n",
       "      <td>77.0</td>\n",
       "      <td>239.000000</td>\n",
       "      <td>22.919769</td>\n",
       "      <td>189.0</td>\n",
       "      <td>223.0</td>\n",
       "      <td>235.0</td>\n",
       "      <td>260.0</td>\n",
       "      <td>292.0</td>\n",
       "    </tr>\n",
       "    <tr>\n",
       "      <th>MINICOMPACT</th>\n",
       "      <td>11.0</td>\n",
       "      <td>328.727273</td>\n",
       "      <td>193.007301</td>\n",
       "      <td>28.0</td>\n",
       "      <td>208.00</td>\n",
       "      <td>419.0</td>\n",
       "      <td>483.50</td>\n",
       "      <td>486.0</td>\n",
       "      <td>11.0</td>\n",
       "      <td>3.263636</td>\n",
       "      <td>...</td>\n",
       "      <td>27.50</td>\n",
       "      <td>29.0</td>\n",
       "      <td>11.0</td>\n",
       "      <td>257.090909</td>\n",
       "      <td>21.092437</td>\n",
       "      <td>225.0</td>\n",
       "      <td>239.5</td>\n",
       "      <td>264.0</td>\n",
       "      <td>271.5</td>\n",
       "      <td>285.0</td>\n",
       "    </tr>\n",
       "    <tr>\n",
       "      <th>MINIVAN</th>\n",
       "      <td>26.0</td>\n",
       "      <td>275.807692</td>\n",
       "      <td>152.079195</td>\n",
       "      <td>134.0</td>\n",
       "      <td>167.25</td>\n",
       "      <td>186.5</td>\n",
       "      <td>387.75</td>\n",
       "      <td>586.0</td>\n",
       "      <td>26.0</td>\n",
       "      <td>3.357692</td>\n",
       "      <td>...</td>\n",
       "      <td>26.00</td>\n",
       "      <td>26.0</td>\n",
       "      <td>26.0</td>\n",
       "      <td>266.076923</td>\n",
       "      <td>20.478131</td>\n",
       "      <td>246.0</td>\n",
       "      <td>253.0</td>\n",
       "      <td>261.0</td>\n",
       "      <td>274.0</td>\n",
       "      <td>331.0</td>\n",
       "    </tr>\n",
       "    <tr>\n",
       "      <th>...</th>\n",
       "      <th>...</th>\n",
       "      <td>...</td>\n",
       "      <td>...</td>\n",
       "      <td>...</td>\n",
       "      <td>...</td>\n",
       "      <td>...</td>\n",
       "      <td>...</td>\n",
       "      <td>...</td>\n",
       "      <td>...</td>\n",
       "      <td>...</td>\n",
       "      <td>...</td>\n",
       "      <td>...</td>\n",
       "      <td>...</td>\n",
       "      <td>...</td>\n",
       "      <td>...</td>\n",
       "      <td>...</td>\n",
       "      <td>...</td>\n",
       "      <td>...</td>\n",
       "      <td>...</td>\n",
       "      <td>...</td>\n",
       "      <td>...</td>\n",
       "      <td>...</td>\n",
       "    </tr>\n",
       "    <tr>\n",
       "      <th rowspan=\"5\" valign=\"top\">2022</th>\n",
       "      <th>STATION WAGON - SMALL</th>\n",
       "      <td>19.0</td>\n",
       "      <td>22235.894737</td>\n",
       "      <td>217.971429</td>\n",
       "      <td>21624.0</td>\n",
       "      <td>22143.50</td>\n",
       "      <td>22260.0</td>\n",
       "      <td>22345.50</td>\n",
       "      <td>22549.0</td>\n",
       "      <td>19.0</td>\n",
       "      <td>1.905263</td>\n",
       "      <td>...</td>\n",
       "      <td>36.00</td>\n",
       "      <td>61.0</td>\n",
       "      <td>19.0</td>\n",
       "      <td>192.473684</td>\n",
       "      <td>39.748331</td>\n",
       "      <td>110.0</td>\n",
       "      <td>184.0</td>\n",
       "      <td>200.0</td>\n",
       "      <td>217.0</td>\n",
       "      <td>260.0</td>\n",
       "    </tr>\n",
       "    <tr>\n",
       "      <th>SUBCOMPACT</th>\n",
       "      <td>79.0</td>\n",
       "      <td>21945.189873</td>\n",
       "      <td>252.686695</td>\n",
       "      <td>21621.0</td>\n",
       "      <td>21697.50</td>\n",
       "      <td>21945.0</td>\n",
       "      <td>22232.00</td>\n",
       "      <td>22324.0</td>\n",
       "      <td>79.0</td>\n",
       "      <td>3.098734</td>\n",
       "      <td>...</td>\n",
       "      <td>31.00</td>\n",
       "      <td>40.0</td>\n",
       "      <td>79.0</td>\n",
       "      <td>248.341772</td>\n",
       "      <td>51.964704</td>\n",
       "      <td>165.0</td>\n",
       "      <td>211.0</td>\n",
       "      <td>242.0</td>\n",
       "      <td>286.0</td>\n",
       "      <td>392.0</td>\n",
       "    </tr>\n",
       "    <tr>\n",
       "      <th>SUV - SMALL</th>\n",
       "      <td>197.0</td>\n",
       "      <td>22081.477157</td>\n",
       "      <td>275.913854</td>\n",
       "      <td>21603.0</td>\n",
       "      <td>21878.00</td>\n",
       "      <td>22103.0</td>\n",
       "      <td>22274.00</td>\n",
       "      <td>22554.0</td>\n",
       "      <td>197.0</td>\n",
       "      <td>2.328426</td>\n",
       "      <td>...</td>\n",
       "      <td>32.00</td>\n",
       "      <td>49.0</td>\n",
       "      <td>197.0</td>\n",
       "      <td>229.857868</td>\n",
       "      <td>41.351160</td>\n",
       "      <td>136.0</td>\n",
       "      <td>204.0</td>\n",
       "      <td>224.0</td>\n",
       "      <td>252.0</td>\n",
       "      <td>387.0</td>\n",
       "    </tr>\n",
       "    <tr>\n",
       "      <th>SUV - STANDARD</th>\n",
       "      <td>149.0</td>\n",
       "      <td>22044.738255</td>\n",
       "      <td>239.832470</td>\n",
       "      <td>21619.0</td>\n",
       "      <td>21840.00</td>\n",
       "      <td>22027.0</td>\n",
       "      <td>22210.00</td>\n",
       "      <td>22556.0</td>\n",
       "      <td>149.0</td>\n",
       "      <td>3.970470</td>\n",
       "      <td>...</td>\n",
       "      <td>25.00</td>\n",
       "      <td>42.0</td>\n",
       "      <td>149.0</td>\n",
       "      <td>305.174497</td>\n",
       "      <td>46.350418</td>\n",
       "      <td>156.0</td>\n",
       "      <td>272.0</td>\n",
       "      <td>309.0</td>\n",
       "      <td>343.0</td>\n",
       "      <td>412.0</td>\n",
       "    </tr>\n",
       "    <tr>\n",
       "      <th>TWO-SEATER</th>\n",
       "      <td>51.0</td>\n",
       "      <td>22138.490196</td>\n",
       "      <td>276.644420</td>\n",
       "      <td>21620.0</td>\n",
       "      <td>22016.50</td>\n",
       "      <td>22166.0</td>\n",
       "      <td>22366.50</td>\n",
       "      <td>22503.0</td>\n",
       "      <td>51.0</td>\n",
       "      <td>4.035294</td>\n",
       "      <td>...</td>\n",
       "      <td>27.00</td>\n",
       "      <td>36.0</td>\n",
       "      <td>51.0</td>\n",
       "      <td>307.254902</td>\n",
       "      <td>99.568839</td>\n",
       "      <td>186.0</td>\n",
       "      <td>245.0</td>\n",
       "      <td>284.0</td>\n",
       "      <td>339.0</td>\n",
       "      <td>608.0</td>\n",
       "    </tr>\n",
       "  </tbody>\n",
       "</table>\n",
       "<p>335 rows × 48 columns</p>\n",
       "</div>"
      ],
      "text/plain": [
       "                               ID                                     \\\n",
       "                            count          mean         std      min   \n",
       "YEAR VEHICLE CLASS                                                     \n",
       "2000 COMPACT                105.0    329.219048  221.470782      1.0   \n",
       "     FULL-SIZE               28.0    241.642857  174.074955     50.0   \n",
       "     MID-SIZE                77.0    347.064935  202.177250      3.0   \n",
       "     MINICOMPACT             11.0    328.727273  193.007301     28.0   \n",
       "     MINIVAN                 26.0    275.807692  152.079195    134.0   \n",
       "...                           ...           ...         ...      ...   \n",
       "2022 STATION WAGON - SMALL   19.0  22235.894737  217.971429  21624.0   \n",
       "     SUBCOMPACT              79.0  21945.189873  252.686695  21621.0   \n",
       "     SUV - SMALL            197.0  22081.477157  275.913854  21603.0   \n",
       "     SUV - STANDARD         149.0  22044.738255  239.832470  21619.0   \n",
       "     TWO-SEATER              51.0  22138.490196  276.644420  21620.0   \n",
       "\n",
       "                                                                 ENGINE SIZE  \\\n",
       "                                 25%      50%       75%      max       count   \n",
       "YEAR VEHICLE CLASS                                                             \n",
       "2000 COMPACT                   54.00    375.0    549.00    624.0       105.0   \n",
       "     FULL-SIZE                104.75    142.5    431.25    544.0        28.0   \n",
       "     MID-SIZE                 136.00    390.0    492.00    632.0        77.0   \n",
       "     MINICOMPACT              208.00    419.0    483.50    486.0        11.0   \n",
       "     MINIVAN                  167.25    186.5    387.75    586.0        26.0   \n",
       "...                              ...      ...       ...      ...         ...   \n",
       "2022 STATION WAGON - SMALL  22143.50  22260.0  22345.50  22549.0        19.0   \n",
       "     SUBCOMPACT             21697.50  21945.0  22232.00  22324.0        79.0   \n",
       "     SUV - SMALL            21878.00  22103.0  22274.00  22554.0       197.0   \n",
       "     SUV - STANDARD         21840.00  22027.0  22210.00  22556.0       149.0   \n",
       "     TWO-SEATER             22016.50  22166.0  22366.50  22503.0        51.0   \n",
       "\n",
       "                                      ... COMB (mpg)       EMISSIONS  \\\n",
       "                                mean  ...        75%   max     count   \n",
       "YEAR VEHICLE CLASS                    ...                              \n",
       "2000 COMPACT                2.348571  ...      34.00  55.0     105.0   \n",
       "     FULL-SIZE              3.710714  ...      28.25  30.0      28.0   \n",
       "     MID-SIZE               3.029870  ...      29.00  34.0      77.0   \n",
       "     MINICOMPACT            3.263636  ...      27.50  29.0      11.0   \n",
       "     MINIVAN                3.357692  ...      26.00  26.0      26.0   \n",
       "...                              ...  ...        ...   ...       ...   \n",
       "2022 STATION WAGON - SMALL  1.905263  ...      36.00  61.0      19.0   \n",
       "     SUBCOMPACT             3.098734  ...      31.00  40.0      79.0   \n",
       "     SUV - SMALL            2.328426  ...      32.00  49.0     197.0   \n",
       "     SUV - STANDARD         3.970470  ...      25.00  42.0     149.0   \n",
       "     TWO-SEATER             4.035294  ...      27.00  36.0      51.0   \n",
       "\n",
       "                                                                               \\\n",
       "                                  mean        std    min    25%    50%    75%   \n",
       "YEAR VEHICLE CLASS                                                              \n",
       "2000 COMPACT                213.371429  33.433993  138.0  193.0  216.0  232.0   \n",
       "     FULL-SIZE              248.535714  22.802667  218.0  229.5  246.0  260.5   \n",
       "     MID-SIZE               239.000000  22.919769  189.0  223.0  235.0  260.0   \n",
       "     MINICOMPACT            257.090909  21.092437  225.0  239.5  264.0  271.5   \n",
       "     MINIVAN                266.076923  20.478131  246.0  253.0  261.0  274.0   \n",
       "...                                ...        ...    ...    ...    ...    ...   \n",
       "2022 STATION WAGON - SMALL  192.473684  39.748331  110.0  184.0  200.0  217.0   \n",
       "     SUBCOMPACT             248.341772  51.964704  165.0  211.0  242.0  286.0   \n",
       "     SUV - SMALL            229.857868  41.351160  136.0  204.0  224.0  252.0   \n",
       "     SUV - STANDARD         305.174497  46.350418  156.0  272.0  309.0  343.0   \n",
       "     TWO-SEATER             307.254902  99.568839  186.0  245.0  284.0  339.0   \n",
       "\n",
       "                                   \n",
       "                              max  \n",
       "YEAR VEHICLE CLASS                 \n",
       "2000 COMPACT                331.0  \n",
       "     FULL-SIZE              331.0  \n",
       "     MID-SIZE               292.0  \n",
       "     MINICOMPACT            285.0  \n",
       "     MINIVAN                331.0  \n",
       "...                           ...  \n",
       "2022 STATION WAGON - SMALL  260.0  \n",
       "     SUBCOMPACT             392.0  \n",
       "     SUV - SMALL            387.0  \n",
       "     SUV - STANDARD         412.0  \n",
       "     TWO-SEATER             608.0  \n",
       "\n",
       "[335 rows x 48 columns]"
      ]
     },
     "execution_count": 17,
     "metadata": {},
     "output_type": "execute_result"
    }
   ],
   "source": [
    "# recategorize data categories\n",
    "data_group = data.astype({\n",
    "    'YEAR': 'category', \n",
    "    'VEHICLE CLASS': 'category',\n",
    "    'MAKE': 'category'\n",
    "})\n",
    "\n",
    "# group by year and vehicle class and create a new variable with the grouped data\n",
    "data_to_display = data_group.groupby(['YEAR', 'VEHICLE CLASS']).describe()\n",
    "data_to_display"
   ]
  },
  {
   "cell_type": "code",
   "execution_count": 18,
   "id": "9d3e5069",
   "metadata": {
    "collapsed": true
   },
   "outputs": [
    {
     "data": {
      "text/plain": [
       "MultiIndex([(2000,                  'COMPACT'),\n",
       "            (2000,                'FULL-SIZE'),\n",
       "            (2000,                 'MID-SIZE'),\n",
       "            (2000,              'MINICOMPACT'),\n",
       "            (2000,                  'MINIVAN'),\n",
       "            (2000,     'PICKUP TRUCK - SMALL'),\n",
       "            (2000,  'PICKUP TRUCK - STANDARD'),\n",
       "            (2000, 'STATION WAGON - MID-SIZE'),\n",
       "            (2000,    'STATION WAGON - SMALL'),\n",
       "            (2000,               'SUBCOMPACT'),\n",
       "            ...\n",
       "            (2022,                  'MINIVAN'),\n",
       "            (2022,     'PICKUP TRUCK - SMALL'),\n",
       "            (2022,  'PICKUP TRUCK - STANDARD'),\n",
       "            (2022,  'SPECIAL PURPOSE VEHICLE'),\n",
       "            (2022, 'STATION WAGON - MID-SIZE'),\n",
       "            (2022,    'STATION WAGON - SMALL'),\n",
       "            (2022,               'SUBCOMPACT'),\n",
       "            (2022,              'SUV - SMALL'),\n",
       "            (2022,           'SUV - STANDARD'),\n",
       "            (2022,               'TWO-SEATER')],\n",
       "           names=['YEAR', 'VEHICLE CLASS'], length=335)"
      ]
     },
     "execution_count": 18,
     "metadata": {},
     "output_type": "execute_result"
    }
   ],
   "source": [
    "# look at the indicies of the variable\n",
    "data_to_display.index"
   ]
  },
  {
   "cell_type": "code",
   "execution_count": 19,
   "id": "64f09fe0",
   "metadata": {
    "collapsed": true
   },
   "outputs": [
    {
     "data": {
      "text/plain": [
       "ID                count    float64\n",
       "                  mean     float64\n",
       "                  std      float64\n",
       "                  min      float64\n",
       "                  25%      float64\n",
       "                  50%      float64\n",
       "                  75%      float64\n",
       "                  max      float64\n",
       "ENGINE SIZE       count    float64\n",
       "                  mean     float64\n",
       "                  std      float64\n",
       "                  min      float64\n",
       "                  25%      float64\n",
       "                  50%      float64\n",
       "                  75%      float64\n",
       "                  max      float64\n",
       "CYLINDERS         count    float64\n",
       "                  mean     float64\n",
       "                  std      float64\n",
       "                  min      float64\n",
       "                  25%      float64\n",
       "                  50%      float64\n",
       "                  75%      float64\n",
       "                  max      float64\n",
       "FUEL CONSUMPTION  count    float64\n",
       "                  mean     float64\n",
       "                  std      float64\n",
       "                  min      float64\n",
       "                  25%      float64\n",
       "                  50%      float64\n",
       "                  75%      float64\n",
       "                  max      float64\n",
       "COMB (mpg)        count    float64\n",
       "                  mean     float64\n",
       "                  std      float64\n",
       "                  min      float64\n",
       "                  25%      float64\n",
       "                  50%      float64\n",
       "                  75%      float64\n",
       "                  max      float64\n",
       "EMISSIONS         count    float64\n",
       "                  mean     float64\n",
       "                  std      float64\n",
       "                  min      float64\n",
       "                  25%      float64\n",
       "                  50%      float64\n",
       "                  75%      float64\n",
       "                  max      float64\n",
       "dtype: object"
      ]
     },
     "execution_count": 19,
     "metadata": {},
     "output_type": "execute_result"
    }
   ],
   "source": [
    "# look at data types in the variable\n",
    "data_to_display.dtypes"
   ]
  },
  {
   "cell_type": "code",
   "execution_count": 28,
   "id": "fa85160e",
   "metadata": {},
   "outputs": [],
   "source": [
    "# list comprehension (loop the 'for' loop data with the indicies and turn into a list)\n",
    "Year = [x[0] for x in data_to_display.index]\n",
    "VehicleClass = [x[1] for x in data_to_display.index]"
   ]
  },
  {
   "cell_type": "code",
   "execution_count": 29,
   "id": "bcd3cfc2",
   "metadata": {},
   "outputs": [],
   "source": [
    "# convert the series to a list (even though express will allow series data to be read)\n",
    "CombineMPG = data_to_display['COMB (mpg)']['mean'].values.tolist()"
   ]
  },
  {
   "cell_type": "code",
   "execution_count": 35,
   "id": "03b06138",
   "metadata": {},
   "outputs": [
    {
     "data": {
      "application/vnd.plotly.v1+json": {
       "config": {
        "plotlyServerURL": "https://plot.ly"
       },
       "data": [
        {
         "hovertemplate": "color=COMPACT<br>x=%{x}<br>y=%{y}<extra></extra>",
         "legendgroup": "COMPACT",
         "line": {
          "color": "#636efa",
          "dash": "solid"
         },
         "marker": {
          "symbol": "circle"
         },
         "mode": "markers+lines",
         "name": "COMPACT",
         "orientation": "v",
         "showlegend": true,
         "type": "scatter",
         "x": [
          2000,
          2001,
          2002,
          2003,
          2004,
          2005,
          2006,
          2007,
          2008,
          2009,
          2010,
          2011,
          2012,
          2013,
          2014,
          2015,
          2016,
          2017,
          2018,
          2019,
          2020,
          2021,
          2022
         ],
         "xaxis": "x",
         "y": [
          31.504761904761907,
          31.93793103448276,
          31.969924812030076,
          32.37062937062937,
          31.603896103896105,
          31.698630136986303,
          31.233576642335766,
          30.25,
          30.2027027027027,
          30.326666666666668,
          32.17142857142857,
          33.653225806451616,
          35.06015037593985,
          35.214285714285715,
          36.19047619047619,
          31.333333333333332,
          31.414364640883978,
          31.60377358490566,
          32.23770491803279,
          32.43396226415094,
          32.28703703703704,
          32.92941176470588,
          33.22857142857143
         ],
         "yaxis": "y"
        },
        {
         "hovertemplate": "color=FULL-SIZE<br>x=%{x}<br>y=%{y}<extra></extra>",
         "legendgroup": "FULL-SIZE",
         "line": {
          "color": "#EF553B",
          "dash": "solid"
         },
         "marker": {
          "symbol": "circle"
         },
         "mode": "markers+lines",
         "name": "FULL-SIZE",
         "orientation": "v",
         "showlegend": true,
         "type": "scatter",
         "x": [
          2000,
          2001,
          2002,
          2003,
          2004,
          2005,
          2006,
          2007,
          2008,
          2009,
          2010,
          2011,
          2012,
          2013,
          2014,
          2015,
          2016,
          2017,
          2018,
          2019,
          2020,
          2021,
          2022
         ],
         "xaxis": "x",
         "y": [
          26.428571428571427,
          26.033333333333335,
          25.689655172413794,
          26.28,
          24.735294117647058,
          24.155555555555555,
          24.625,
          24.462962962962962,
          24.50793650793651,
          24.676470588235293,
          24.441558441558442,
          25.08450704225352,
          26.098765432098766,
          26.894736842105264,
          27.607142857142858,
          24,
          24.27777777777778,
          26.402439024390244,
          27.192660550458715,
          26.603960396039604,
          28.102564102564102,
          29,
          28.890625
         ],
         "yaxis": "y"
        },
        {
         "hovertemplate": "color=MID-SIZE<br>x=%{x}<br>y=%{y}<extra></extra>",
         "legendgroup": "MID-SIZE",
         "line": {
          "color": "#00cc96",
          "dash": "solid"
         },
         "marker": {
          "symbol": "circle"
         },
         "mode": "markers+lines",
         "name": "MID-SIZE",
         "orientation": "v",
         "showlegend": true,
         "type": "scatter",
         "x": [
          2000,
          2001,
          2002,
          2003,
          2004,
          2005,
          2006,
          2007,
          2008,
          2009,
          2010,
          2011,
          2012,
          2013,
          2014,
          2015,
          2016,
          2017,
          2018,
          2019,
          2020,
          2021,
          2022
         ],
         "xaxis": "x",
         "y": [
          27.441558441558442,
          27.353658536585368,
          27.444444444444443,
          27.48314606741573,
          27.92233009708738,
          28.140350877192983,
          28.18918918918919,
          29.115107913669064,
          28.970149253731343,
          29.024,
          29.95,
          31.96969696969697,
          32.86259541984733,
          35.44444444444444,
          35.752941176470586,
          31.044444444444444,
          31.335106382978722,
          31.166666666666668,
          31.664556962025316,
          32.66206896551724,
          31.365079365079364,
          31.42105263157895,
          31.034188034188034
         ],
         "yaxis": "y"
        },
        {
         "hovertemplate": "color=MINICOMPACT<br>x=%{x}<br>y=%{y}<extra></extra>",
         "legendgroup": "MINICOMPACT",
         "line": {
          "color": "#ab63fa",
          "dash": "solid"
         },
         "marker": {
          "symbol": "circle"
         },
         "mode": "markers+lines",
         "name": "MINICOMPACT",
         "orientation": "v",
         "showlegend": true,
         "type": "scatter",
         "x": [
          2000,
          2001,
          2002,
          2003,
          2004,
          2005,
          2006,
          2007,
          2008,
          2009,
          2010,
          2011,
          2012,
          2013,
          2014,
          2015,
          2016,
          2017,
          2018,
          2019,
          2020,
          2021,
          2022
         ],
         "xaxis": "x",
         "y": [
          25.636363636363637,
          25.235294117647058,
          25.363636363636363,
          27.575757575757574,
          29.2,
          26.256756756756758,
          28.43243243243243,
          27.5531914893617,
          27.897959183673468,
          31.023255813953487,
          30.4390243902439,
          30.169811320754718,
          30.56578947368421,
          34.41509433962264,
          33.744680851063826,
          28.593220338983052,
          28.557692307692307,
          29.84090909090909,
          28.245283018867923,
          28,
          26.652173913043477,
          24.9,
          24.224489795918366
         ],
         "yaxis": "y"
        },
        {
         "hovertemplate": "color=MINIVAN<br>x=%{x}<br>y=%{y}<extra></extra>",
         "legendgroup": "MINIVAN",
         "line": {
          "color": "#FFA15A",
          "dash": "solid"
         },
         "marker": {
          "symbol": "circle"
         },
         "mode": "markers+lines",
         "name": "MINIVAN",
         "orientation": "v",
         "showlegend": true,
         "type": "scatter",
         "x": [
          2000,
          2001,
          2002,
          2003,
          2004,
          2005,
          2006,
          2007,
          2008,
          2009,
          2010,
          2011,
          2012,
          2013,
          2014,
          2015,
          2016,
          2017,
          2018,
          2019,
          2020,
          2021,
          2022
         ],
         "xaxis": "x",
         "y": [
          23.96153846153846,
          24.88235294117647,
          24.545454545454547,
          24.392857142857142,
          25.571428571428573,
          24.727272727272727,
          24.714285714285715,
          24.08823529411765,
          25,
          26,
          26.142857142857142,
          25.5,
          27.375,
          27.2,
          26.928571428571427,
          23.8,
          23.916666666666668,
          25,
          24.454545454545453,
          24.666666666666668,
          25.5,
          30.714285714285715,
          31
         ],
         "yaxis": "y"
        },
        {
         "hovertemplate": "color=PICKUP TRUCK - SMALL<br>x=%{x}<br>y=%{y}<extra></extra>",
         "legendgroup": "PICKUP TRUCK - SMALL",
         "line": {
          "color": "#19d3f3",
          "dash": "solid"
         },
         "marker": {
          "symbol": "circle"
         },
         "mode": "markers+lines",
         "name": "PICKUP TRUCK - SMALL",
         "orientation": "v",
         "showlegend": true,
         "type": "scatter",
         "x": [
          2000,
          2001,
          2002,
          2003,
          2004,
          2008,
          2009,
          2010,
          2011,
          2012,
          2013,
          2014,
          2015,
          2016,
          2017,
          2018,
          2019,
          2020,
          2021,
          2022
         ],
         "xaxis": "x",
         "y": [
          26.272727272727273,
          23.5,
          23.166666666666668,
          24.75,
          20,
          24.76923076923077,
          25.338983050847457,
          25.48148148148148,
          25.529411764705884,
          25.767441860465116,
          26.583333333333332,
          26.5,
          23.954545454545453,
          24.884615384615383,
          24.392857142857142,
          24.296296296296298,
          24.16,
          24.526315789473685,
          24.58823529411765,
          26
         ],
         "yaxis": "y"
        },
        {
         "hovertemplate": "color=PICKUP TRUCK - STANDARD<br>x=%{x}<br>y=%{y}<extra></extra>",
         "legendgroup": "PICKUP TRUCK - STANDARD",
         "line": {
          "color": "#FF6692",
          "dash": "solid"
         },
         "marker": {
          "symbol": "circle"
         },
         "mode": "markers+lines",
         "name": "PICKUP TRUCK - STANDARD",
         "orientation": "v",
         "showlegend": true,
         "type": "scatter",
         "x": [
          2000,
          2001,
          2002,
          2003,
          2004,
          2005,
          2006,
          2007,
          2008,
          2009,
          2010,
          2011,
          2012,
          2013,
          2014,
          2015,
          2016,
          2017,
          2018,
          2019,
          2020,
          2021,
          2022
         ],
         "xaxis": "x",
         "y": [
          20.945652173913043,
          20.792079207920793,
          20.177570093457945,
          21.00943396226415,
          20.66393442622951,
          21.393700787401574,
          21.907801418439718,
          21.623376623376622,
          20.09722222222222,
          20.54736842105263,
          20.054794520547944,
          20.270588235294117,
          20.468354430379748,
          20.726190476190474,
          22.112903225806452,
          20.48076923076923,
          20.5,
          20.56,
          21.329896907216494,
          21.32323232323232,
          22.13186813186813,
          21.8,
          21.460176991150444
         ],
         "yaxis": "y"
        },
        {
         "hovertemplate": "color=STATION WAGON - MID-SIZE<br>x=%{x}<br>y=%{y}<extra></extra>",
         "legendgroup": "STATION WAGON - MID-SIZE",
         "line": {
          "color": "#B6E880",
          "dash": "solid"
         },
         "marker": {
          "symbol": "circle"
         },
         "mode": "markers+lines",
         "name": "STATION WAGON - MID-SIZE",
         "orientation": "v",
         "showlegend": true,
         "type": "scatter",
         "x": [
          2000,
          2001,
          2002,
          2003,
          2004,
          2005,
          2006,
          2007,
          2008,
          2009,
          2010,
          2011,
          2012,
          2013,
          2014,
          2015,
          2016,
          2017,
          2018,
          2019,
          2020,
          2021,
          2022
         ],
         "xaxis": "x",
         "y": [
          28.44,
          28.870967741935484,
          29.15625,
          29,
          28.414634146341463,
          28.210526315789473,
          28.035714285714285,
          28.625,
          28.5,
          28.53846153846154,
          28.88888888888889,
          28.5,
          35,
          39,
          35.5,
          30.625,
          30.857142857142858,
          32.125,
          30.2,
          26.11111111111111,
          24,
          24,
          24.25
         ],
         "yaxis": "y"
        },
        {
         "hovertemplate": "color=STATION WAGON - SMALL<br>x=%{x}<br>y=%{y}<extra></extra>",
         "legendgroup": "STATION WAGON - SMALL",
         "line": {
          "color": "#FF97FF",
          "dash": "solid"
         },
         "marker": {
          "symbol": "circle"
         },
         "mode": "markers+lines",
         "name": "STATION WAGON - SMALL",
         "orientation": "v",
         "showlegend": true,
         "type": "scatter",
         "x": [
          2000,
          2001,
          2002,
          2003,
          2004,
          2005,
          2006,
          2007,
          2008,
          2009,
          2010,
          2011,
          2012,
          2013,
          2014,
          2015,
          2016,
          2017,
          2018,
          2019,
          2020,
          2021,
          2022
         ],
         "xaxis": "x",
         "y": [
          31.692307692307693,
          31.916666666666668,
          29.27777777777778,
          31.644444444444446,
          31.27906976744186,
          30.814814814814813,
          31.735849056603772,
          31.59090909090909,
          31.58139534883721,
          32.351851851851855,
          33.56666666666667,
          33.55357142857143,
          34.57446808510638,
          34.79545454545455,
          35.470588235294116,
          33.48571428571429,
          33.270270270270274,
          35.06666666666667,
          35.17948717948718,
          34.891891891891895,
          36.2,
          36.4,
          36.26315789473684
         ],
         "yaxis": "y"
        },
        {
         "hovertemplate": "color=SUBCOMPACT<br>x=%{x}<br>y=%{y}<extra></extra>",
         "legendgroup": "SUBCOMPACT",
         "line": {
          "color": "#FECB52",
          "dash": "solid"
         },
         "marker": {
          "symbol": "circle"
         },
         "mode": "markers+lines",
         "name": "SUBCOMPACT",
         "orientation": "v",
         "showlegend": true,
         "type": "scatter",
         "x": [
          2000,
          2001,
          2002,
          2003,
          2004,
          2005,
          2006,
          2007,
          2008,
          2009,
          2010,
          2011,
          2012,
          2013,
          2014,
          2015,
          2016,
          2017,
          2018,
          2019,
          2020,
          2021,
          2022
         ],
         "xaxis": "x",
         "y": [
          31.48076923076923,
          31.258064516129032,
          29.15068493150685,
          27.984615384615385,
          28.96511627906977,
          29.82758620689655,
          29.743589743589745,
          29.50602409638554,
          29.86,
          29.98989898989899,
          30.510204081632654,
          31.01923076923077,
          30.735294117647058,
          30.63157894736842,
          31.903225806451612,
          28.66304347826087,
          28.513157894736842,
          27.580645161290324,
          27.78125,
          27.948979591836736,
          26.821052631578947,
          27.373493975903614,
          27.620253164556964
         ],
         "yaxis": "y"
        },
        {
         "hovertemplate": "color=SUV<br>x=%{x}<br>y=%{y}<extra></extra>",
         "legendgroup": "SUV",
         "line": {
          "color": "#636efa",
          "dash": "solid"
         },
         "marker": {
          "symbol": "circle"
         },
         "mode": "markers+lines",
         "name": "SUV",
         "orientation": "v",
         "showlegend": true,
         "type": "scatter",
         "x": [
          2000,
          2001,
          2002,
          2003,
          2004,
          2005,
          2006,
          2007,
          2008,
          2009,
          2010,
          2011,
          2012
         ],
         "xaxis": "x",
         "y": [
          22.84536082474227,
          23.081632653061224,
          22.572580645161292,
          22.5125,
          21.957894736842107,
          23,
          23.755656108597286,
          24.748953974895397,
          24.95505617977528,
          25.100746268656717,
          26.417670682730925,
          26.600746268656717,
          26.57872340425532
         ],
         "yaxis": "y"
        },
        {
         "hovertemplate": "color=TWO-SEATER<br>x=%{x}<br>y=%{y}<extra></extra>",
         "legendgroup": "TWO-SEATER",
         "line": {
          "color": "#EF553B",
          "dash": "solid"
         },
         "marker": {
          "symbol": "circle"
         },
         "mode": "markers+lines",
         "name": "TWO-SEATER",
         "orientation": "v",
         "showlegend": true,
         "type": "scatter",
         "x": [
          2000,
          2001,
          2002,
          2003,
          2004,
          2005,
          2006,
          2007,
          2008,
          2009,
          2010,
          2011,
          2012,
          2013,
          2014,
          2015,
          2016,
          2017,
          2018,
          2019,
          2020,
          2021,
          2022
         ],
         "xaxis": "x",
         "y": [
          23.4,
          27.548387096774192,
          25.972972972972972,
          25.475,
          25.065217391304348,
          26.03846153846154,
          26.93877551020408,
          25.049180327868854,
          25.575342465753426,
          24.109375,
          25.16949152542373,
          26.65625,
          29.289473684210527,
          31.75862068965517,
          31.271428571428572,
          26.404761904761905,
          25.441176470588236,
          24.75438596491228,
          24.333333333333332,
          24.37142857142857,
          24.421875,
          23,
          23.15686274509804
         ],
         "yaxis": "y"
        },
        {
         "hovertemplate": "color=VAN - CARGO<br>x=%{x}<br>y=%{y}<extra></extra>",
         "legendgroup": "VAN - CARGO",
         "line": {
          "color": "#00cc96",
          "dash": "solid"
         },
         "marker": {
          "symbol": "circle"
         },
         "mode": "markers+lines",
         "name": "VAN - CARGO",
         "orientation": "v",
         "showlegend": true,
         "type": "scatter",
         "x": [
          2000,
          2001,
          2002,
          2003,
          2004,
          2005,
          2006,
          2007,
          2008,
          2009,
          2010,
          2011,
          2012,
          2013,
          2014
         ],
         "xaxis": "x",
         "y": [
          19.82608695652174,
          19.26086956521739,
          19.434782608695652,
          18.666666666666668,
          18.80952380952381,
          20.384615384615383,
          20.214285714285715,
          18.666666666666668,
          18.53846153846154,
          18.53846153846154,
          17.666666666666668,
          17.454545454545453,
          17.40909090909091,
          17.40909090909091,
          17.318181818181817
         ],
         "yaxis": "y"
        },
        {
         "hovertemplate": "color=VAN - PASSENGER<br>x=%{x}<br>y=%{y}<extra></extra>",
         "legendgroup": "VAN - PASSENGER",
         "line": {
          "color": "#ab63fa",
          "dash": "solid"
         },
         "marker": {
          "symbol": "circle"
         },
         "mode": "markers+lines",
         "name": "VAN - PASSENGER",
         "orientation": "v",
         "showlegend": true,
         "type": "scatter",
         "x": [
          2000,
          2001,
          2002,
          2003,
          2004,
          2005,
          2006,
          2007,
          2008,
          2009,
          2010,
          2011,
          2012,
          2013,
          2014,
          2015,
          2016,
          2017,
          2018,
          2019,
          2020,
          2021
         ],
         "xaxis": "x",
         "y": [
          18.647058823529413,
          19.055555555555557,
          18.77777777777778,
          18.615384615384617,
          19.181818181818183,
          19.666666666666668,
          19.75,
          17.5,
          17.666666666666668,
          17.666666666666668,
          16.75,
          15.62962962962963,
          15.612903225806452,
          15.633333333333333,
          16,
          14.736842105263158,
          15.571428571428571,
          16,
          19,
          19,
          16.75,
          16.75
         ],
         "yaxis": "y"
        },
        {
         "hovertemplate": "color=SUV - STANDARD<br>x=%{x}<br>y=%{y}<extra></extra>",
         "legendgroup": "SUV - STANDARD",
         "line": {
          "color": "#FFA15A",
          "dash": "solid"
         },
         "marker": {
          "symbol": "circle"
         },
         "mode": "markers+lines",
         "name": "SUV - STANDARD",
         "orientation": "v",
         "showlegend": true,
         "type": "scatter",
         "x": [
          2007,
          2012,
          2013,
          2014,
          2015,
          2016,
          2017,
          2018,
          2019,
          2020,
          2021,
          2022
         ],
         "xaxis": "x",
         "y": [
          20,
          25.5,
          22.396039603960396,
          22.813725490196077,
          21.08080808080808,
          21.850467289719628,
          21.598039215686274,
          21.601941747572816,
          21.756756756756758,
          22.084745762711865,
          22.58267716535433,
          22.463087248322147
         ],
         "yaxis": "y"
        },
        {
         "hovertemplate": "color=SPECIAL PURPOSE VEHICLE<br>x=%{x}<br>y=%{y}<extra></extra>",
         "legendgroup": "SPECIAL PURPOSE VEHICLE",
         "line": {
          "color": "#19d3f3",
          "dash": "solid"
         },
         "marker": {
          "symbol": "circle"
         },
         "mode": "markers+lines",
         "name": "SPECIAL PURPOSE VEHICLE",
         "orientation": "v",
         "showlegend": true,
         "type": "scatter",
         "x": [
          2010,
          2011,
          2012,
          2013,
          2014,
          2015,
          2016,
          2017,
          2018,
          2019,
          2020,
          2021,
          2022
         ],
         "xaxis": "x",
         "y": [
          32,
          31,
          32.5,
          31.6,
          31.857142857142858,
          28.22222222222222,
          25.647058823529413,
          25.8,
          25.4,
          27.071428571428573,
          27.615384615384617,
          27.076923076923077,
          26.75
         ],
         "yaxis": "y"
        },
        {
         "hovertemplate": "color=SUV - SMALL<br>x=%{x}<br>y=%{y}<extra></extra>",
         "legendgroup": "SUV - SMALL",
         "line": {
          "color": "#FF6692",
          "dash": "solid"
         },
         "marker": {
          "symbol": "circle"
         },
         "mode": "markers+lines",
         "name": "SUV - SMALL",
         "orientation": "v",
         "showlegend": true,
         "type": "scatter",
         "x": [
          2013,
          2014,
          2015,
          2016,
          2017,
          2018,
          2019,
          2020,
          2021,
          2022
         ],
         "xaxis": "x",
         "y": [
          30.892086330935253,
          31.316129032258065,
          27.70949720670391,
          28.227777777777778,
          27.775862068965516,
          28.372881355932204,
          28.913793103448278,
          28.824468085106382,
          29.435233160621763,
          29.781725888324875
         ],
         "yaxis": "y"
        }
       ],
       "layout": {
        "legend": {
         "title": {
          "text": "color"
         },
         "tracegroupgap": 0
        },
        "margin": {
         "t": 60
        },
        "template": {
         "data": {
          "bar": [
           {
            "error_x": {
             "color": "#2a3f5f"
            },
            "error_y": {
             "color": "#2a3f5f"
            },
            "marker": {
             "line": {
              "color": "#E5ECF6",
              "width": 0.5
             },
             "pattern": {
              "fillmode": "overlay",
              "size": 10,
              "solidity": 0.2
             }
            },
            "type": "bar"
           }
          ],
          "barpolar": [
           {
            "marker": {
             "line": {
              "color": "#E5ECF6",
              "width": 0.5
             },
             "pattern": {
              "fillmode": "overlay",
              "size": 10,
              "solidity": 0.2
             }
            },
            "type": "barpolar"
           }
          ],
          "carpet": [
           {
            "aaxis": {
             "endlinecolor": "#2a3f5f",
             "gridcolor": "white",
             "linecolor": "white",
             "minorgridcolor": "white",
             "startlinecolor": "#2a3f5f"
            },
            "baxis": {
             "endlinecolor": "#2a3f5f",
             "gridcolor": "white",
             "linecolor": "white",
             "minorgridcolor": "white",
             "startlinecolor": "#2a3f5f"
            },
            "type": "carpet"
           }
          ],
          "choropleth": [
           {
            "colorbar": {
             "outlinewidth": 0,
             "ticks": ""
            },
            "type": "choropleth"
           }
          ],
          "contour": [
           {
            "colorbar": {
             "outlinewidth": 0,
             "ticks": ""
            },
            "colorscale": [
             [
              0,
              "#0d0887"
             ],
             [
              0.1111111111111111,
              "#46039f"
             ],
             [
              0.2222222222222222,
              "#7201a8"
             ],
             [
              0.3333333333333333,
              "#9c179e"
             ],
             [
              0.4444444444444444,
              "#bd3786"
             ],
             [
              0.5555555555555556,
              "#d8576b"
             ],
             [
              0.6666666666666666,
              "#ed7953"
             ],
             [
              0.7777777777777778,
              "#fb9f3a"
             ],
             [
              0.8888888888888888,
              "#fdca26"
             ],
             [
              1,
              "#f0f921"
             ]
            ],
            "type": "contour"
           }
          ],
          "contourcarpet": [
           {
            "colorbar": {
             "outlinewidth": 0,
             "ticks": ""
            },
            "type": "contourcarpet"
           }
          ],
          "heatmap": [
           {
            "colorbar": {
             "outlinewidth": 0,
             "ticks": ""
            },
            "colorscale": [
             [
              0,
              "#0d0887"
             ],
             [
              0.1111111111111111,
              "#46039f"
             ],
             [
              0.2222222222222222,
              "#7201a8"
             ],
             [
              0.3333333333333333,
              "#9c179e"
             ],
             [
              0.4444444444444444,
              "#bd3786"
             ],
             [
              0.5555555555555556,
              "#d8576b"
             ],
             [
              0.6666666666666666,
              "#ed7953"
             ],
             [
              0.7777777777777778,
              "#fb9f3a"
             ],
             [
              0.8888888888888888,
              "#fdca26"
             ],
             [
              1,
              "#f0f921"
             ]
            ],
            "type": "heatmap"
           }
          ],
          "heatmapgl": [
           {
            "colorbar": {
             "outlinewidth": 0,
             "ticks": ""
            },
            "colorscale": [
             [
              0,
              "#0d0887"
             ],
             [
              0.1111111111111111,
              "#46039f"
             ],
             [
              0.2222222222222222,
              "#7201a8"
             ],
             [
              0.3333333333333333,
              "#9c179e"
             ],
             [
              0.4444444444444444,
              "#bd3786"
             ],
             [
              0.5555555555555556,
              "#d8576b"
             ],
             [
              0.6666666666666666,
              "#ed7953"
             ],
             [
              0.7777777777777778,
              "#fb9f3a"
             ],
             [
              0.8888888888888888,
              "#fdca26"
             ],
             [
              1,
              "#f0f921"
             ]
            ],
            "type": "heatmapgl"
           }
          ],
          "histogram": [
           {
            "marker": {
             "pattern": {
              "fillmode": "overlay",
              "size": 10,
              "solidity": 0.2
             }
            },
            "type": "histogram"
           }
          ],
          "histogram2d": [
           {
            "colorbar": {
             "outlinewidth": 0,
             "ticks": ""
            },
            "colorscale": [
             [
              0,
              "#0d0887"
             ],
             [
              0.1111111111111111,
              "#46039f"
             ],
             [
              0.2222222222222222,
              "#7201a8"
             ],
             [
              0.3333333333333333,
              "#9c179e"
             ],
             [
              0.4444444444444444,
              "#bd3786"
             ],
             [
              0.5555555555555556,
              "#d8576b"
             ],
             [
              0.6666666666666666,
              "#ed7953"
             ],
             [
              0.7777777777777778,
              "#fb9f3a"
             ],
             [
              0.8888888888888888,
              "#fdca26"
             ],
             [
              1,
              "#f0f921"
             ]
            ],
            "type": "histogram2d"
           }
          ],
          "histogram2dcontour": [
           {
            "colorbar": {
             "outlinewidth": 0,
             "ticks": ""
            },
            "colorscale": [
             [
              0,
              "#0d0887"
             ],
             [
              0.1111111111111111,
              "#46039f"
             ],
             [
              0.2222222222222222,
              "#7201a8"
             ],
             [
              0.3333333333333333,
              "#9c179e"
             ],
             [
              0.4444444444444444,
              "#bd3786"
             ],
             [
              0.5555555555555556,
              "#d8576b"
             ],
             [
              0.6666666666666666,
              "#ed7953"
             ],
             [
              0.7777777777777778,
              "#fb9f3a"
             ],
             [
              0.8888888888888888,
              "#fdca26"
             ],
             [
              1,
              "#f0f921"
             ]
            ],
            "type": "histogram2dcontour"
           }
          ],
          "mesh3d": [
           {
            "colorbar": {
             "outlinewidth": 0,
             "ticks": ""
            },
            "type": "mesh3d"
           }
          ],
          "parcoords": [
           {
            "line": {
             "colorbar": {
              "outlinewidth": 0,
              "ticks": ""
             }
            },
            "type": "parcoords"
           }
          ],
          "pie": [
           {
            "automargin": true,
            "type": "pie"
           }
          ],
          "scatter": [
           {
            "fillpattern": {
             "fillmode": "overlay",
             "size": 10,
             "solidity": 0.2
            },
            "type": "scatter"
           }
          ],
          "scatter3d": [
           {
            "line": {
             "colorbar": {
              "outlinewidth": 0,
              "ticks": ""
             }
            },
            "marker": {
             "colorbar": {
              "outlinewidth": 0,
              "ticks": ""
             }
            },
            "type": "scatter3d"
           }
          ],
          "scattercarpet": [
           {
            "marker": {
             "colorbar": {
              "outlinewidth": 0,
              "ticks": ""
             }
            },
            "type": "scattercarpet"
           }
          ],
          "scattergeo": [
           {
            "marker": {
             "colorbar": {
              "outlinewidth": 0,
              "ticks": ""
             }
            },
            "type": "scattergeo"
           }
          ],
          "scattergl": [
           {
            "marker": {
             "colorbar": {
              "outlinewidth": 0,
              "ticks": ""
             }
            },
            "type": "scattergl"
           }
          ],
          "scattermapbox": [
           {
            "marker": {
             "colorbar": {
              "outlinewidth": 0,
              "ticks": ""
             }
            },
            "type": "scattermapbox"
           }
          ],
          "scatterpolar": [
           {
            "marker": {
             "colorbar": {
              "outlinewidth": 0,
              "ticks": ""
             }
            },
            "type": "scatterpolar"
           }
          ],
          "scatterpolargl": [
           {
            "marker": {
             "colorbar": {
              "outlinewidth": 0,
              "ticks": ""
             }
            },
            "type": "scatterpolargl"
           }
          ],
          "scatterternary": [
           {
            "marker": {
             "colorbar": {
              "outlinewidth": 0,
              "ticks": ""
             }
            },
            "type": "scatterternary"
           }
          ],
          "surface": [
           {
            "colorbar": {
             "outlinewidth": 0,
             "ticks": ""
            },
            "colorscale": [
             [
              0,
              "#0d0887"
             ],
             [
              0.1111111111111111,
              "#46039f"
             ],
             [
              0.2222222222222222,
              "#7201a8"
             ],
             [
              0.3333333333333333,
              "#9c179e"
             ],
             [
              0.4444444444444444,
              "#bd3786"
             ],
             [
              0.5555555555555556,
              "#d8576b"
             ],
             [
              0.6666666666666666,
              "#ed7953"
             ],
             [
              0.7777777777777778,
              "#fb9f3a"
             ],
             [
              0.8888888888888888,
              "#fdca26"
             ],
             [
              1,
              "#f0f921"
             ]
            ],
            "type": "surface"
           }
          ],
          "table": [
           {
            "cells": {
             "fill": {
              "color": "#EBF0F8"
             },
             "line": {
              "color": "white"
             }
            },
            "header": {
             "fill": {
              "color": "#C8D4E3"
             },
             "line": {
              "color": "white"
             }
            },
            "type": "table"
           }
          ]
         },
         "layout": {
          "annotationdefaults": {
           "arrowcolor": "#2a3f5f",
           "arrowhead": 0,
           "arrowwidth": 1
          },
          "autotypenumbers": "strict",
          "coloraxis": {
           "colorbar": {
            "outlinewidth": 0,
            "ticks": ""
           }
          },
          "colorscale": {
           "diverging": [
            [
             0,
             "#8e0152"
            ],
            [
             0.1,
             "#c51b7d"
            ],
            [
             0.2,
             "#de77ae"
            ],
            [
             0.3,
             "#f1b6da"
            ],
            [
             0.4,
             "#fde0ef"
            ],
            [
             0.5,
             "#f7f7f7"
            ],
            [
             0.6,
             "#e6f5d0"
            ],
            [
             0.7,
             "#b8e186"
            ],
            [
             0.8,
             "#7fbc41"
            ],
            [
             0.9,
             "#4d9221"
            ],
            [
             1,
             "#276419"
            ]
           ],
           "sequential": [
            [
             0,
             "#0d0887"
            ],
            [
             0.1111111111111111,
             "#46039f"
            ],
            [
             0.2222222222222222,
             "#7201a8"
            ],
            [
             0.3333333333333333,
             "#9c179e"
            ],
            [
             0.4444444444444444,
             "#bd3786"
            ],
            [
             0.5555555555555556,
             "#d8576b"
            ],
            [
             0.6666666666666666,
             "#ed7953"
            ],
            [
             0.7777777777777778,
             "#fb9f3a"
            ],
            [
             0.8888888888888888,
             "#fdca26"
            ],
            [
             1,
             "#f0f921"
            ]
           ],
           "sequentialminus": [
            [
             0,
             "#0d0887"
            ],
            [
             0.1111111111111111,
             "#46039f"
            ],
            [
             0.2222222222222222,
             "#7201a8"
            ],
            [
             0.3333333333333333,
             "#9c179e"
            ],
            [
             0.4444444444444444,
             "#bd3786"
            ],
            [
             0.5555555555555556,
             "#d8576b"
            ],
            [
             0.6666666666666666,
             "#ed7953"
            ],
            [
             0.7777777777777778,
             "#fb9f3a"
            ],
            [
             0.8888888888888888,
             "#fdca26"
            ],
            [
             1,
             "#f0f921"
            ]
           ]
          },
          "colorway": [
           "#636efa",
           "#EF553B",
           "#00cc96",
           "#ab63fa",
           "#FFA15A",
           "#19d3f3",
           "#FF6692",
           "#B6E880",
           "#FF97FF",
           "#FECB52"
          ],
          "font": {
           "color": "#2a3f5f"
          },
          "geo": {
           "bgcolor": "white",
           "lakecolor": "white",
           "landcolor": "#E5ECF6",
           "showlakes": true,
           "showland": true,
           "subunitcolor": "white"
          },
          "hoverlabel": {
           "align": "left"
          },
          "hovermode": "closest",
          "mapbox": {
           "style": "light"
          },
          "paper_bgcolor": "white",
          "plot_bgcolor": "#E5ECF6",
          "polar": {
           "angularaxis": {
            "gridcolor": "white",
            "linecolor": "white",
            "ticks": ""
           },
           "bgcolor": "#E5ECF6",
           "radialaxis": {
            "gridcolor": "white",
            "linecolor": "white",
            "ticks": ""
           }
          },
          "scene": {
           "xaxis": {
            "backgroundcolor": "#E5ECF6",
            "gridcolor": "white",
            "gridwidth": 2,
            "linecolor": "white",
            "showbackground": true,
            "ticks": "",
            "zerolinecolor": "white"
           },
           "yaxis": {
            "backgroundcolor": "#E5ECF6",
            "gridcolor": "white",
            "gridwidth": 2,
            "linecolor": "white",
            "showbackground": true,
            "ticks": "",
            "zerolinecolor": "white"
           },
           "zaxis": {
            "backgroundcolor": "#E5ECF6",
            "gridcolor": "white",
            "gridwidth": 2,
            "linecolor": "white",
            "showbackground": true,
            "ticks": "",
            "zerolinecolor": "white"
           }
          },
          "shapedefaults": {
           "line": {
            "color": "#2a3f5f"
           }
          },
          "ternary": {
           "aaxis": {
            "gridcolor": "white",
            "linecolor": "white",
            "ticks": ""
           },
           "baxis": {
            "gridcolor": "white",
            "linecolor": "white",
            "ticks": ""
           },
           "bgcolor": "#E5ECF6",
           "caxis": {
            "gridcolor": "white",
            "linecolor": "white",
            "ticks": ""
           }
          },
          "title": {
           "x": 0.05
          },
          "xaxis": {
           "automargin": true,
           "gridcolor": "white",
           "linecolor": "white",
           "ticks": "",
           "title": {
            "standoff": 15
           },
           "zerolinecolor": "white",
           "zerolinewidth": 2
          },
          "yaxis": {
           "automargin": true,
           "gridcolor": "white",
           "linecolor": "white",
           "ticks": "",
           "title": {
            "standoff": 15
           },
           "zerolinecolor": "white",
           "zerolinewidth": 2
          }
         }
        },
        "xaxis": {
         "anchor": "y",
         "domain": [
          0,
          1
         ],
         "title": {
          "text": "x"
         }
        },
        "yaxis": {
         "anchor": "x",
         "domain": [
          0,
          1
         ],
         "title": {
          "text": "y"
         }
        }
       }
      },
      "text/html": [
       "<div>                            <div id=\"8da0f429-e44e-4e60-8b36-a406ae8271c5\" class=\"plotly-graph-div\" style=\"height:525px; width:100%;\"></div>            <script type=\"text/javascript\">                require([\"plotly\"], function(Plotly) {                    window.PLOTLYENV=window.PLOTLYENV || {};                                    if (document.getElementById(\"8da0f429-e44e-4e60-8b36-a406ae8271c5\")) {                    Plotly.newPlot(                        \"8da0f429-e44e-4e60-8b36-a406ae8271c5\",                        [{\"hovertemplate\":\"color=COMPACT<br>x=%{x}<br>y=%{y}<extra></extra>\",\"legendgroup\":\"COMPACT\",\"line\":{\"color\":\"#636efa\",\"dash\":\"solid\"},\"marker\":{\"symbol\":\"circle\"},\"mode\":\"markers+lines\",\"name\":\"COMPACT\",\"orientation\":\"v\",\"showlegend\":true,\"x\":[2000,2001,2002,2003,2004,2005,2006,2007,2008,2009,2010,2011,2012,2013,2014,2015,2016,2017,2018,2019,2020,2021,2022],\"xaxis\":\"x\",\"y\":[31.504761904761907,31.93793103448276,31.969924812030076,32.37062937062937,31.603896103896105,31.698630136986303,31.233576642335766,30.25,30.2027027027027,30.326666666666668,32.17142857142857,33.653225806451616,35.06015037593985,35.214285714285715,36.19047619047619,31.333333333333332,31.414364640883978,31.60377358490566,32.23770491803279,32.43396226415094,32.28703703703704,32.92941176470588,33.22857142857143],\"yaxis\":\"y\",\"type\":\"scatter\"},{\"hovertemplate\":\"color=FULL-SIZE<br>x=%{x}<br>y=%{y}<extra></extra>\",\"legendgroup\":\"FULL-SIZE\",\"line\":{\"color\":\"#EF553B\",\"dash\":\"solid\"},\"marker\":{\"symbol\":\"circle\"},\"mode\":\"markers+lines\",\"name\":\"FULL-SIZE\",\"orientation\":\"v\",\"showlegend\":true,\"x\":[2000,2001,2002,2003,2004,2005,2006,2007,2008,2009,2010,2011,2012,2013,2014,2015,2016,2017,2018,2019,2020,2021,2022],\"xaxis\":\"x\",\"y\":[26.428571428571427,26.033333333333335,25.689655172413794,26.28,24.735294117647058,24.155555555555555,24.625,24.462962962962962,24.50793650793651,24.676470588235293,24.441558441558442,25.08450704225352,26.098765432098766,26.894736842105264,27.607142857142858,24.0,24.27777777777778,26.402439024390244,27.192660550458715,26.603960396039604,28.102564102564102,29.0,28.890625],\"yaxis\":\"y\",\"type\":\"scatter\"},{\"hovertemplate\":\"color=MID-SIZE<br>x=%{x}<br>y=%{y}<extra></extra>\",\"legendgroup\":\"MID-SIZE\",\"line\":{\"color\":\"#00cc96\",\"dash\":\"solid\"},\"marker\":{\"symbol\":\"circle\"},\"mode\":\"markers+lines\",\"name\":\"MID-SIZE\",\"orientation\":\"v\",\"showlegend\":true,\"x\":[2000,2001,2002,2003,2004,2005,2006,2007,2008,2009,2010,2011,2012,2013,2014,2015,2016,2017,2018,2019,2020,2021,2022],\"xaxis\":\"x\",\"y\":[27.441558441558442,27.353658536585368,27.444444444444443,27.48314606741573,27.92233009708738,28.140350877192983,28.18918918918919,29.115107913669064,28.970149253731343,29.024,29.95,31.96969696969697,32.86259541984733,35.44444444444444,35.752941176470586,31.044444444444444,31.335106382978722,31.166666666666668,31.664556962025316,32.66206896551724,31.365079365079364,31.42105263157895,31.034188034188034],\"yaxis\":\"y\",\"type\":\"scatter\"},{\"hovertemplate\":\"color=MINICOMPACT<br>x=%{x}<br>y=%{y}<extra></extra>\",\"legendgroup\":\"MINICOMPACT\",\"line\":{\"color\":\"#ab63fa\",\"dash\":\"solid\"},\"marker\":{\"symbol\":\"circle\"},\"mode\":\"markers+lines\",\"name\":\"MINICOMPACT\",\"orientation\":\"v\",\"showlegend\":true,\"x\":[2000,2001,2002,2003,2004,2005,2006,2007,2008,2009,2010,2011,2012,2013,2014,2015,2016,2017,2018,2019,2020,2021,2022],\"xaxis\":\"x\",\"y\":[25.636363636363637,25.235294117647058,25.363636363636363,27.575757575757574,29.2,26.256756756756758,28.43243243243243,27.5531914893617,27.897959183673468,31.023255813953487,30.4390243902439,30.169811320754718,30.56578947368421,34.41509433962264,33.744680851063826,28.593220338983052,28.557692307692307,29.84090909090909,28.245283018867923,28.0,26.652173913043477,24.9,24.224489795918366],\"yaxis\":\"y\",\"type\":\"scatter\"},{\"hovertemplate\":\"color=MINIVAN<br>x=%{x}<br>y=%{y}<extra></extra>\",\"legendgroup\":\"MINIVAN\",\"line\":{\"color\":\"#FFA15A\",\"dash\":\"solid\"},\"marker\":{\"symbol\":\"circle\"},\"mode\":\"markers+lines\",\"name\":\"MINIVAN\",\"orientation\":\"v\",\"showlegend\":true,\"x\":[2000,2001,2002,2003,2004,2005,2006,2007,2008,2009,2010,2011,2012,2013,2014,2015,2016,2017,2018,2019,2020,2021,2022],\"xaxis\":\"x\",\"y\":[23.96153846153846,24.88235294117647,24.545454545454547,24.392857142857142,25.571428571428573,24.727272727272727,24.714285714285715,24.08823529411765,25.0,26.0,26.142857142857142,25.5,27.375,27.2,26.928571428571427,23.8,23.916666666666668,25.0,24.454545454545453,24.666666666666668,25.5,30.714285714285715,31.0],\"yaxis\":\"y\",\"type\":\"scatter\"},{\"hovertemplate\":\"color=PICKUP TRUCK - SMALL<br>x=%{x}<br>y=%{y}<extra></extra>\",\"legendgroup\":\"PICKUP TRUCK - SMALL\",\"line\":{\"color\":\"#19d3f3\",\"dash\":\"solid\"},\"marker\":{\"symbol\":\"circle\"},\"mode\":\"markers+lines\",\"name\":\"PICKUP TRUCK - SMALL\",\"orientation\":\"v\",\"showlegend\":true,\"x\":[2000,2001,2002,2003,2004,2008,2009,2010,2011,2012,2013,2014,2015,2016,2017,2018,2019,2020,2021,2022],\"xaxis\":\"x\",\"y\":[26.272727272727273,23.5,23.166666666666668,24.75,20.0,24.76923076923077,25.338983050847457,25.48148148148148,25.529411764705884,25.767441860465116,26.583333333333332,26.5,23.954545454545453,24.884615384615383,24.392857142857142,24.296296296296298,24.16,24.526315789473685,24.58823529411765,26.0],\"yaxis\":\"y\",\"type\":\"scatter\"},{\"hovertemplate\":\"color=PICKUP TRUCK - STANDARD<br>x=%{x}<br>y=%{y}<extra></extra>\",\"legendgroup\":\"PICKUP TRUCK - STANDARD\",\"line\":{\"color\":\"#FF6692\",\"dash\":\"solid\"},\"marker\":{\"symbol\":\"circle\"},\"mode\":\"markers+lines\",\"name\":\"PICKUP TRUCK - STANDARD\",\"orientation\":\"v\",\"showlegend\":true,\"x\":[2000,2001,2002,2003,2004,2005,2006,2007,2008,2009,2010,2011,2012,2013,2014,2015,2016,2017,2018,2019,2020,2021,2022],\"xaxis\":\"x\",\"y\":[20.945652173913043,20.792079207920793,20.177570093457945,21.00943396226415,20.66393442622951,21.393700787401574,21.907801418439718,21.623376623376622,20.09722222222222,20.54736842105263,20.054794520547944,20.270588235294117,20.468354430379748,20.726190476190474,22.112903225806452,20.48076923076923,20.5,20.56,21.329896907216494,21.32323232323232,22.13186813186813,21.8,21.460176991150444],\"yaxis\":\"y\",\"type\":\"scatter\"},{\"hovertemplate\":\"color=STATION WAGON - MID-SIZE<br>x=%{x}<br>y=%{y}<extra></extra>\",\"legendgroup\":\"STATION WAGON - MID-SIZE\",\"line\":{\"color\":\"#B6E880\",\"dash\":\"solid\"},\"marker\":{\"symbol\":\"circle\"},\"mode\":\"markers+lines\",\"name\":\"STATION WAGON - MID-SIZE\",\"orientation\":\"v\",\"showlegend\":true,\"x\":[2000,2001,2002,2003,2004,2005,2006,2007,2008,2009,2010,2011,2012,2013,2014,2015,2016,2017,2018,2019,2020,2021,2022],\"xaxis\":\"x\",\"y\":[28.44,28.870967741935484,29.15625,29.0,28.414634146341463,28.210526315789473,28.035714285714285,28.625,28.5,28.53846153846154,28.88888888888889,28.5,35.0,39.0,35.5,30.625,30.857142857142858,32.125,30.2,26.11111111111111,24.0,24.0,24.25],\"yaxis\":\"y\",\"type\":\"scatter\"},{\"hovertemplate\":\"color=STATION WAGON - SMALL<br>x=%{x}<br>y=%{y}<extra></extra>\",\"legendgroup\":\"STATION WAGON - SMALL\",\"line\":{\"color\":\"#FF97FF\",\"dash\":\"solid\"},\"marker\":{\"symbol\":\"circle\"},\"mode\":\"markers+lines\",\"name\":\"STATION WAGON - SMALL\",\"orientation\":\"v\",\"showlegend\":true,\"x\":[2000,2001,2002,2003,2004,2005,2006,2007,2008,2009,2010,2011,2012,2013,2014,2015,2016,2017,2018,2019,2020,2021,2022],\"xaxis\":\"x\",\"y\":[31.692307692307693,31.916666666666668,29.27777777777778,31.644444444444446,31.27906976744186,30.814814814814813,31.735849056603772,31.59090909090909,31.58139534883721,32.351851851851855,33.56666666666667,33.55357142857143,34.57446808510638,34.79545454545455,35.470588235294116,33.48571428571429,33.270270270270274,35.06666666666667,35.17948717948718,34.891891891891895,36.2,36.4,36.26315789473684],\"yaxis\":\"y\",\"type\":\"scatter\"},{\"hovertemplate\":\"color=SUBCOMPACT<br>x=%{x}<br>y=%{y}<extra></extra>\",\"legendgroup\":\"SUBCOMPACT\",\"line\":{\"color\":\"#FECB52\",\"dash\":\"solid\"},\"marker\":{\"symbol\":\"circle\"},\"mode\":\"markers+lines\",\"name\":\"SUBCOMPACT\",\"orientation\":\"v\",\"showlegend\":true,\"x\":[2000,2001,2002,2003,2004,2005,2006,2007,2008,2009,2010,2011,2012,2013,2014,2015,2016,2017,2018,2019,2020,2021,2022],\"xaxis\":\"x\",\"y\":[31.48076923076923,31.258064516129032,29.15068493150685,27.984615384615385,28.96511627906977,29.82758620689655,29.743589743589745,29.50602409638554,29.86,29.98989898989899,30.510204081632654,31.01923076923077,30.735294117647058,30.63157894736842,31.903225806451612,28.66304347826087,28.513157894736842,27.580645161290324,27.78125,27.948979591836736,26.821052631578947,27.373493975903614,27.620253164556964],\"yaxis\":\"y\",\"type\":\"scatter\"},{\"hovertemplate\":\"color=SUV<br>x=%{x}<br>y=%{y}<extra></extra>\",\"legendgroup\":\"SUV\",\"line\":{\"color\":\"#636efa\",\"dash\":\"solid\"},\"marker\":{\"symbol\":\"circle\"},\"mode\":\"markers+lines\",\"name\":\"SUV\",\"orientation\":\"v\",\"showlegend\":true,\"x\":[2000,2001,2002,2003,2004,2005,2006,2007,2008,2009,2010,2011,2012],\"xaxis\":\"x\",\"y\":[22.84536082474227,23.081632653061224,22.572580645161292,22.5125,21.957894736842107,23.0,23.755656108597286,24.748953974895397,24.95505617977528,25.100746268656717,26.417670682730925,26.600746268656717,26.57872340425532],\"yaxis\":\"y\",\"type\":\"scatter\"},{\"hovertemplate\":\"color=TWO-SEATER<br>x=%{x}<br>y=%{y}<extra></extra>\",\"legendgroup\":\"TWO-SEATER\",\"line\":{\"color\":\"#EF553B\",\"dash\":\"solid\"},\"marker\":{\"symbol\":\"circle\"},\"mode\":\"markers+lines\",\"name\":\"TWO-SEATER\",\"orientation\":\"v\",\"showlegend\":true,\"x\":[2000,2001,2002,2003,2004,2005,2006,2007,2008,2009,2010,2011,2012,2013,2014,2015,2016,2017,2018,2019,2020,2021,2022],\"xaxis\":\"x\",\"y\":[23.4,27.548387096774192,25.972972972972972,25.475,25.065217391304348,26.03846153846154,26.93877551020408,25.049180327868854,25.575342465753426,24.109375,25.16949152542373,26.65625,29.289473684210527,31.75862068965517,31.271428571428572,26.404761904761905,25.441176470588236,24.75438596491228,24.333333333333332,24.37142857142857,24.421875,23.0,23.15686274509804],\"yaxis\":\"y\",\"type\":\"scatter\"},{\"hovertemplate\":\"color=VAN - CARGO<br>x=%{x}<br>y=%{y}<extra></extra>\",\"legendgroup\":\"VAN - CARGO\",\"line\":{\"color\":\"#00cc96\",\"dash\":\"solid\"},\"marker\":{\"symbol\":\"circle\"},\"mode\":\"markers+lines\",\"name\":\"VAN - CARGO\",\"orientation\":\"v\",\"showlegend\":true,\"x\":[2000,2001,2002,2003,2004,2005,2006,2007,2008,2009,2010,2011,2012,2013,2014],\"xaxis\":\"x\",\"y\":[19.82608695652174,19.26086956521739,19.434782608695652,18.666666666666668,18.80952380952381,20.384615384615383,20.214285714285715,18.666666666666668,18.53846153846154,18.53846153846154,17.666666666666668,17.454545454545453,17.40909090909091,17.40909090909091,17.318181818181817],\"yaxis\":\"y\",\"type\":\"scatter\"},{\"hovertemplate\":\"color=VAN - PASSENGER<br>x=%{x}<br>y=%{y}<extra></extra>\",\"legendgroup\":\"VAN - PASSENGER\",\"line\":{\"color\":\"#ab63fa\",\"dash\":\"solid\"},\"marker\":{\"symbol\":\"circle\"},\"mode\":\"markers+lines\",\"name\":\"VAN - PASSENGER\",\"orientation\":\"v\",\"showlegend\":true,\"x\":[2000,2001,2002,2003,2004,2005,2006,2007,2008,2009,2010,2011,2012,2013,2014,2015,2016,2017,2018,2019,2020,2021],\"xaxis\":\"x\",\"y\":[18.647058823529413,19.055555555555557,18.77777777777778,18.615384615384617,19.181818181818183,19.666666666666668,19.75,17.5,17.666666666666668,17.666666666666668,16.75,15.62962962962963,15.612903225806452,15.633333333333333,16.0,14.736842105263158,15.571428571428571,16.0,19.0,19.0,16.75,16.75],\"yaxis\":\"y\",\"type\":\"scatter\"},{\"hovertemplate\":\"color=SUV - STANDARD<br>x=%{x}<br>y=%{y}<extra></extra>\",\"legendgroup\":\"SUV - STANDARD\",\"line\":{\"color\":\"#FFA15A\",\"dash\":\"solid\"},\"marker\":{\"symbol\":\"circle\"},\"mode\":\"markers+lines\",\"name\":\"SUV - STANDARD\",\"orientation\":\"v\",\"showlegend\":true,\"x\":[2007,2012,2013,2014,2015,2016,2017,2018,2019,2020,2021,2022],\"xaxis\":\"x\",\"y\":[20.0,25.5,22.396039603960396,22.813725490196077,21.08080808080808,21.850467289719628,21.598039215686274,21.601941747572816,21.756756756756758,22.084745762711865,22.58267716535433,22.463087248322147],\"yaxis\":\"y\",\"type\":\"scatter\"},{\"hovertemplate\":\"color=SPECIAL PURPOSE VEHICLE<br>x=%{x}<br>y=%{y}<extra></extra>\",\"legendgroup\":\"SPECIAL PURPOSE VEHICLE\",\"line\":{\"color\":\"#19d3f3\",\"dash\":\"solid\"},\"marker\":{\"symbol\":\"circle\"},\"mode\":\"markers+lines\",\"name\":\"SPECIAL PURPOSE VEHICLE\",\"orientation\":\"v\",\"showlegend\":true,\"x\":[2010,2011,2012,2013,2014,2015,2016,2017,2018,2019,2020,2021,2022],\"xaxis\":\"x\",\"y\":[32.0,31.0,32.5,31.6,31.857142857142858,28.22222222222222,25.647058823529413,25.8,25.4,27.071428571428573,27.615384615384617,27.076923076923077,26.75],\"yaxis\":\"y\",\"type\":\"scatter\"},{\"hovertemplate\":\"color=SUV - SMALL<br>x=%{x}<br>y=%{y}<extra></extra>\",\"legendgroup\":\"SUV - SMALL\",\"line\":{\"color\":\"#FF6692\",\"dash\":\"solid\"},\"marker\":{\"symbol\":\"circle\"},\"mode\":\"markers+lines\",\"name\":\"SUV - SMALL\",\"orientation\":\"v\",\"showlegend\":true,\"x\":[2013,2014,2015,2016,2017,2018,2019,2020,2021,2022],\"xaxis\":\"x\",\"y\":[30.892086330935253,31.316129032258065,27.70949720670391,28.227777777777778,27.775862068965516,28.372881355932204,28.913793103448278,28.824468085106382,29.435233160621763,29.781725888324875],\"yaxis\":\"y\",\"type\":\"scatter\"}],                        {\"template\":{\"data\":{\"histogram2dcontour\":[{\"type\":\"histogram2dcontour\",\"colorbar\":{\"outlinewidth\":0,\"ticks\":\"\"},\"colorscale\":[[0.0,\"#0d0887\"],[0.1111111111111111,\"#46039f\"],[0.2222222222222222,\"#7201a8\"],[0.3333333333333333,\"#9c179e\"],[0.4444444444444444,\"#bd3786\"],[0.5555555555555556,\"#d8576b\"],[0.6666666666666666,\"#ed7953\"],[0.7777777777777778,\"#fb9f3a\"],[0.8888888888888888,\"#fdca26\"],[1.0,\"#f0f921\"]]}],\"choropleth\":[{\"type\":\"choropleth\",\"colorbar\":{\"outlinewidth\":0,\"ticks\":\"\"}}],\"histogram2d\":[{\"type\":\"histogram2d\",\"colorbar\":{\"outlinewidth\":0,\"ticks\":\"\"},\"colorscale\":[[0.0,\"#0d0887\"],[0.1111111111111111,\"#46039f\"],[0.2222222222222222,\"#7201a8\"],[0.3333333333333333,\"#9c179e\"],[0.4444444444444444,\"#bd3786\"],[0.5555555555555556,\"#d8576b\"],[0.6666666666666666,\"#ed7953\"],[0.7777777777777778,\"#fb9f3a\"],[0.8888888888888888,\"#fdca26\"],[1.0,\"#f0f921\"]]}],\"heatmap\":[{\"type\":\"heatmap\",\"colorbar\":{\"outlinewidth\":0,\"ticks\":\"\"},\"colorscale\":[[0.0,\"#0d0887\"],[0.1111111111111111,\"#46039f\"],[0.2222222222222222,\"#7201a8\"],[0.3333333333333333,\"#9c179e\"],[0.4444444444444444,\"#bd3786\"],[0.5555555555555556,\"#d8576b\"],[0.6666666666666666,\"#ed7953\"],[0.7777777777777778,\"#fb9f3a\"],[0.8888888888888888,\"#fdca26\"],[1.0,\"#f0f921\"]]}],\"heatmapgl\":[{\"type\":\"heatmapgl\",\"colorbar\":{\"outlinewidth\":0,\"ticks\":\"\"},\"colorscale\":[[0.0,\"#0d0887\"],[0.1111111111111111,\"#46039f\"],[0.2222222222222222,\"#7201a8\"],[0.3333333333333333,\"#9c179e\"],[0.4444444444444444,\"#bd3786\"],[0.5555555555555556,\"#d8576b\"],[0.6666666666666666,\"#ed7953\"],[0.7777777777777778,\"#fb9f3a\"],[0.8888888888888888,\"#fdca26\"],[1.0,\"#f0f921\"]]}],\"contourcarpet\":[{\"type\":\"contourcarpet\",\"colorbar\":{\"outlinewidth\":0,\"ticks\":\"\"}}],\"contour\":[{\"type\":\"contour\",\"colorbar\":{\"outlinewidth\":0,\"ticks\":\"\"},\"colorscale\":[[0.0,\"#0d0887\"],[0.1111111111111111,\"#46039f\"],[0.2222222222222222,\"#7201a8\"],[0.3333333333333333,\"#9c179e\"],[0.4444444444444444,\"#bd3786\"],[0.5555555555555556,\"#d8576b\"],[0.6666666666666666,\"#ed7953\"],[0.7777777777777778,\"#fb9f3a\"],[0.8888888888888888,\"#fdca26\"],[1.0,\"#f0f921\"]]}],\"surface\":[{\"type\":\"surface\",\"colorbar\":{\"outlinewidth\":0,\"ticks\":\"\"},\"colorscale\":[[0.0,\"#0d0887\"],[0.1111111111111111,\"#46039f\"],[0.2222222222222222,\"#7201a8\"],[0.3333333333333333,\"#9c179e\"],[0.4444444444444444,\"#bd3786\"],[0.5555555555555556,\"#d8576b\"],[0.6666666666666666,\"#ed7953\"],[0.7777777777777778,\"#fb9f3a\"],[0.8888888888888888,\"#fdca26\"],[1.0,\"#f0f921\"]]}],\"mesh3d\":[{\"type\":\"mesh3d\",\"colorbar\":{\"outlinewidth\":0,\"ticks\":\"\"}}],\"scatter\":[{\"fillpattern\":{\"fillmode\":\"overlay\",\"size\":10,\"solidity\":0.2},\"type\":\"scatter\"}],\"parcoords\":[{\"type\":\"parcoords\",\"line\":{\"colorbar\":{\"outlinewidth\":0,\"ticks\":\"\"}}}],\"scatterpolargl\":[{\"type\":\"scatterpolargl\",\"marker\":{\"colorbar\":{\"outlinewidth\":0,\"ticks\":\"\"}}}],\"bar\":[{\"error_x\":{\"color\":\"#2a3f5f\"},\"error_y\":{\"color\":\"#2a3f5f\"},\"marker\":{\"line\":{\"color\":\"#E5ECF6\",\"width\":0.5},\"pattern\":{\"fillmode\":\"overlay\",\"size\":10,\"solidity\":0.2}},\"type\":\"bar\"}],\"scattergeo\":[{\"type\":\"scattergeo\",\"marker\":{\"colorbar\":{\"outlinewidth\":0,\"ticks\":\"\"}}}],\"scatterpolar\":[{\"type\":\"scatterpolar\",\"marker\":{\"colorbar\":{\"outlinewidth\":0,\"ticks\":\"\"}}}],\"histogram\":[{\"marker\":{\"pattern\":{\"fillmode\":\"overlay\",\"size\":10,\"solidity\":0.2}},\"type\":\"histogram\"}],\"scattergl\":[{\"type\":\"scattergl\",\"marker\":{\"colorbar\":{\"outlinewidth\":0,\"ticks\":\"\"}}}],\"scatter3d\":[{\"type\":\"scatter3d\",\"line\":{\"colorbar\":{\"outlinewidth\":0,\"ticks\":\"\"}},\"marker\":{\"colorbar\":{\"outlinewidth\":0,\"ticks\":\"\"}}}],\"scattermapbox\":[{\"type\":\"scattermapbox\",\"marker\":{\"colorbar\":{\"outlinewidth\":0,\"ticks\":\"\"}}}],\"scatterternary\":[{\"type\":\"scatterternary\",\"marker\":{\"colorbar\":{\"outlinewidth\":0,\"ticks\":\"\"}}}],\"scattercarpet\":[{\"type\":\"scattercarpet\",\"marker\":{\"colorbar\":{\"outlinewidth\":0,\"ticks\":\"\"}}}],\"carpet\":[{\"aaxis\":{\"endlinecolor\":\"#2a3f5f\",\"gridcolor\":\"white\",\"linecolor\":\"white\",\"minorgridcolor\":\"white\",\"startlinecolor\":\"#2a3f5f\"},\"baxis\":{\"endlinecolor\":\"#2a3f5f\",\"gridcolor\":\"white\",\"linecolor\":\"white\",\"minorgridcolor\":\"white\",\"startlinecolor\":\"#2a3f5f\"},\"type\":\"carpet\"}],\"table\":[{\"cells\":{\"fill\":{\"color\":\"#EBF0F8\"},\"line\":{\"color\":\"white\"}},\"header\":{\"fill\":{\"color\":\"#C8D4E3\"},\"line\":{\"color\":\"white\"}},\"type\":\"table\"}],\"barpolar\":[{\"marker\":{\"line\":{\"color\":\"#E5ECF6\",\"width\":0.5},\"pattern\":{\"fillmode\":\"overlay\",\"size\":10,\"solidity\":0.2}},\"type\":\"barpolar\"}],\"pie\":[{\"automargin\":true,\"type\":\"pie\"}]},\"layout\":{\"autotypenumbers\":\"strict\",\"colorway\":[\"#636efa\",\"#EF553B\",\"#00cc96\",\"#ab63fa\",\"#FFA15A\",\"#19d3f3\",\"#FF6692\",\"#B6E880\",\"#FF97FF\",\"#FECB52\"],\"font\":{\"color\":\"#2a3f5f\"},\"hovermode\":\"closest\",\"hoverlabel\":{\"align\":\"left\"},\"paper_bgcolor\":\"white\",\"plot_bgcolor\":\"#E5ECF6\",\"polar\":{\"bgcolor\":\"#E5ECF6\",\"angularaxis\":{\"gridcolor\":\"white\",\"linecolor\":\"white\",\"ticks\":\"\"},\"radialaxis\":{\"gridcolor\":\"white\",\"linecolor\":\"white\",\"ticks\":\"\"}},\"ternary\":{\"bgcolor\":\"#E5ECF6\",\"aaxis\":{\"gridcolor\":\"white\",\"linecolor\":\"white\",\"ticks\":\"\"},\"baxis\":{\"gridcolor\":\"white\",\"linecolor\":\"white\",\"ticks\":\"\"},\"caxis\":{\"gridcolor\":\"white\",\"linecolor\":\"white\",\"ticks\":\"\"}},\"coloraxis\":{\"colorbar\":{\"outlinewidth\":0,\"ticks\":\"\"}},\"colorscale\":{\"sequential\":[[0.0,\"#0d0887\"],[0.1111111111111111,\"#46039f\"],[0.2222222222222222,\"#7201a8\"],[0.3333333333333333,\"#9c179e\"],[0.4444444444444444,\"#bd3786\"],[0.5555555555555556,\"#d8576b\"],[0.6666666666666666,\"#ed7953\"],[0.7777777777777778,\"#fb9f3a\"],[0.8888888888888888,\"#fdca26\"],[1.0,\"#f0f921\"]],\"sequentialminus\":[[0.0,\"#0d0887\"],[0.1111111111111111,\"#46039f\"],[0.2222222222222222,\"#7201a8\"],[0.3333333333333333,\"#9c179e\"],[0.4444444444444444,\"#bd3786\"],[0.5555555555555556,\"#d8576b\"],[0.6666666666666666,\"#ed7953\"],[0.7777777777777778,\"#fb9f3a\"],[0.8888888888888888,\"#fdca26\"],[1.0,\"#f0f921\"]],\"diverging\":[[0,\"#8e0152\"],[0.1,\"#c51b7d\"],[0.2,\"#de77ae\"],[0.3,\"#f1b6da\"],[0.4,\"#fde0ef\"],[0.5,\"#f7f7f7\"],[0.6,\"#e6f5d0\"],[0.7,\"#b8e186\"],[0.8,\"#7fbc41\"],[0.9,\"#4d9221\"],[1,\"#276419\"]]},\"xaxis\":{\"gridcolor\":\"white\",\"linecolor\":\"white\",\"ticks\":\"\",\"title\":{\"standoff\":15},\"zerolinecolor\":\"white\",\"automargin\":true,\"zerolinewidth\":2},\"yaxis\":{\"gridcolor\":\"white\",\"linecolor\":\"white\",\"ticks\":\"\",\"title\":{\"standoff\":15},\"zerolinecolor\":\"white\",\"automargin\":true,\"zerolinewidth\":2},\"scene\":{\"xaxis\":{\"backgroundcolor\":\"#E5ECF6\",\"gridcolor\":\"white\",\"linecolor\":\"white\",\"showbackground\":true,\"ticks\":\"\",\"zerolinecolor\":\"white\",\"gridwidth\":2},\"yaxis\":{\"backgroundcolor\":\"#E5ECF6\",\"gridcolor\":\"white\",\"linecolor\":\"white\",\"showbackground\":true,\"ticks\":\"\",\"zerolinecolor\":\"white\",\"gridwidth\":2},\"zaxis\":{\"backgroundcolor\":\"#E5ECF6\",\"gridcolor\":\"white\",\"linecolor\":\"white\",\"showbackground\":true,\"ticks\":\"\",\"zerolinecolor\":\"white\",\"gridwidth\":2}},\"shapedefaults\":{\"line\":{\"color\":\"#2a3f5f\"}},\"annotationdefaults\":{\"arrowcolor\":\"#2a3f5f\",\"arrowhead\":0,\"arrowwidth\":1},\"geo\":{\"bgcolor\":\"white\",\"landcolor\":\"#E5ECF6\",\"subunitcolor\":\"white\",\"showland\":true,\"showlakes\":true,\"lakecolor\":\"white\"},\"title\":{\"x\":0.05},\"mapbox\":{\"style\":\"light\"}}},\"xaxis\":{\"anchor\":\"y\",\"domain\":[0.0,1.0],\"title\":{\"text\":\"x\"}},\"yaxis\":{\"anchor\":\"x\",\"domain\":[0.0,1.0],\"title\":{\"text\":\"y\"}},\"legend\":{\"title\":{\"text\":\"color\"},\"tracegroupgap\":0},\"margin\":{\"t\":60}},                        {\"responsive\": true}                    ).then(function(){\n",
       "                            \n",
       "var gd = document.getElementById('8da0f429-e44e-4e60-8b36-a406ae8271c5');\n",
       "var x = new MutationObserver(function (mutations, observer) {{\n",
       "        var display = window.getComputedStyle(gd).display;\n",
       "        if (!display || display === 'none') {{\n",
       "            console.log([gd, 'removed!']);\n",
       "            Plotly.purge(gd);\n",
       "            observer.disconnect();\n",
       "        }}\n",
       "}});\n",
       "\n",
       "// Listen for the removal of the full notebook cells\n",
       "var notebookContainer = gd.closest('#notebook-container');\n",
       "if (notebookContainer) {{\n",
       "    x.observe(notebookContainer, {childList: true});\n",
       "}}\n",
       "\n",
       "// Listen for the clearing of the current output cell\n",
       "var outputEl = gd.closest('.output');\n",
       "if (outputEl) {{\n",
       "    x.observe(outputEl, {childList: true});\n",
       "}}\n",
       "\n",
       "                        })                };                });            </script>        </div>"
      ]
     },
     "metadata": {},
     "output_type": "display_data"
    }
   ],
   "source": [
    "# create a plotly line chart figure\n",
    "fig = px.line(\n",
    "    x = Year,\n",
    "    y = CombineMPG,\n",
    "    color = VehicleClass,\n",
    "    markers = True\n",
    ")\n",
    "\n",
    "fig.show()"
   ]
  },
  {
   "cell_type": "code",
   "execution_count": 38,
   "id": "2255a6ea",
   "metadata": {},
   "outputs": [
    {
     "data": {
      "application/vnd.plotly.v1+json": {
       "config": {
        "plotlyServerURL": "https://plot.ly"
       },
       "data": [
        {
         "hovertemplate": "color=COMPACT<br>x=%{x}<br>y=%{y}<extra></extra>",
         "legendgroup": "COMPACT",
         "line": {
          "color": "#636efa",
          "dash": "solid"
         },
         "marker": {
          "symbol": "circle"
         },
         "mode": "lines",
         "name": "COMPACT",
         "orientation": "v",
         "showlegend": true,
         "type": "scatter",
         "x": [
          2000,
          2001,
          2002,
          2003,
          2004,
          2005,
          2006,
          2007,
          2008,
          2009,
          2010,
          2011,
          2012,
          2013,
          2014,
          2015,
          2016,
          2017,
          2018,
          2019,
          2020,
          2021,
          2022
         ],
         "xaxis": "x",
         "y": [
          31.504761904761907,
          31.93793103448276,
          31.969924812030076,
          32.37062937062937,
          31.603896103896105,
          31.698630136986303,
          31.233576642335766,
          30.25,
          30.2027027027027,
          30.326666666666668,
          32.17142857142857,
          33.653225806451616,
          35.06015037593985,
          35.214285714285715,
          36.19047619047619,
          31.333333333333332,
          31.414364640883978,
          31.60377358490566,
          32.23770491803279,
          32.43396226415094,
          32.28703703703704,
          32.92941176470588,
          33.22857142857143
         ],
         "yaxis": "y"
        },
        {
         "hovertemplate": "color=FULL-SIZE<br>x=%{x}<br>y=%{y}<extra></extra>",
         "legendgroup": "FULL-SIZE",
         "line": {
          "color": "#EF553B",
          "dash": "solid"
         },
         "marker": {
          "symbol": "circle"
         },
         "mode": "lines",
         "name": "FULL-SIZE",
         "orientation": "v",
         "showlegend": true,
         "type": "scatter",
         "x": [
          2000,
          2001,
          2002,
          2003,
          2004,
          2005,
          2006,
          2007,
          2008,
          2009,
          2010,
          2011,
          2012,
          2013,
          2014,
          2015,
          2016,
          2017,
          2018,
          2019,
          2020,
          2021,
          2022
         ],
         "xaxis": "x",
         "y": [
          26.428571428571427,
          26.033333333333335,
          25.689655172413794,
          26.28,
          24.735294117647058,
          24.155555555555555,
          24.625,
          24.462962962962962,
          24.50793650793651,
          24.676470588235293,
          24.441558441558442,
          25.08450704225352,
          26.098765432098766,
          26.894736842105264,
          27.607142857142858,
          24,
          24.27777777777778,
          26.402439024390244,
          27.192660550458715,
          26.603960396039604,
          28.102564102564102,
          29,
          28.890625
         ],
         "yaxis": "y"
        },
        {
         "hovertemplate": "color=MID-SIZE<br>x=%{x}<br>y=%{y}<extra></extra>",
         "legendgroup": "MID-SIZE",
         "line": {
          "color": "#00cc96",
          "dash": "solid"
         },
         "marker": {
          "symbol": "circle"
         },
         "mode": "lines",
         "name": "MID-SIZE",
         "orientation": "v",
         "showlegend": true,
         "type": "scatter",
         "x": [
          2000,
          2001,
          2002,
          2003,
          2004,
          2005,
          2006,
          2007,
          2008,
          2009,
          2010,
          2011,
          2012,
          2013,
          2014,
          2015,
          2016,
          2017,
          2018,
          2019,
          2020,
          2021,
          2022
         ],
         "xaxis": "x",
         "y": [
          27.441558441558442,
          27.353658536585368,
          27.444444444444443,
          27.48314606741573,
          27.92233009708738,
          28.140350877192983,
          28.18918918918919,
          29.115107913669064,
          28.970149253731343,
          29.024,
          29.95,
          31.96969696969697,
          32.86259541984733,
          35.44444444444444,
          35.752941176470586,
          31.044444444444444,
          31.335106382978722,
          31.166666666666668,
          31.664556962025316,
          32.66206896551724,
          31.365079365079364,
          31.42105263157895,
          31.034188034188034
         ],
         "yaxis": "y"
        },
        {
         "hovertemplate": "color=MINICOMPACT<br>x=%{x}<br>y=%{y}<extra></extra>",
         "legendgroup": "MINICOMPACT",
         "line": {
          "color": "#ab63fa",
          "dash": "solid"
         },
         "marker": {
          "symbol": "circle"
         },
         "mode": "lines",
         "name": "MINICOMPACT",
         "orientation": "v",
         "showlegend": true,
         "type": "scatter",
         "x": [
          2000,
          2001,
          2002,
          2003,
          2004,
          2005,
          2006,
          2007,
          2008,
          2009,
          2010,
          2011,
          2012,
          2013,
          2014,
          2015,
          2016,
          2017,
          2018,
          2019,
          2020,
          2021,
          2022
         ],
         "xaxis": "x",
         "y": [
          25.636363636363637,
          25.235294117647058,
          25.363636363636363,
          27.575757575757574,
          29.2,
          26.256756756756758,
          28.43243243243243,
          27.5531914893617,
          27.897959183673468,
          31.023255813953487,
          30.4390243902439,
          30.169811320754718,
          30.56578947368421,
          34.41509433962264,
          33.744680851063826,
          28.593220338983052,
          28.557692307692307,
          29.84090909090909,
          28.245283018867923,
          28,
          26.652173913043477,
          24.9,
          24.224489795918366
         ],
         "yaxis": "y"
        },
        {
         "hovertemplate": "color=MINIVAN<br>x=%{x}<br>y=%{y}<extra></extra>",
         "legendgroup": "MINIVAN",
         "line": {
          "color": "#FFA15A",
          "dash": "solid"
         },
         "marker": {
          "symbol": "circle"
         },
         "mode": "lines",
         "name": "MINIVAN",
         "orientation": "v",
         "showlegend": true,
         "type": "scatter",
         "x": [
          2000,
          2001,
          2002,
          2003,
          2004,
          2005,
          2006,
          2007,
          2008,
          2009,
          2010,
          2011,
          2012,
          2013,
          2014,
          2015,
          2016,
          2017,
          2018,
          2019,
          2020,
          2021,
          2022
         ],
         "xaxis": "x",
         "y": [
          23.96153846153846,
          24.88235294117647,
          24.545454545454547,
          24.392857142857142,
          25.571428571428573,
          24.727272727272727,
          24.714285714285715,
          24.08823529411765,
          25,
          26,
          26.142857142857142,
          25.5,
          27.375,
          27.2,
          26.928571428571427,
          23.8,
          23.916666666666668,
          25,
          24.454545454545453,
          24.666666666666668,
          25.5,
          30.714285714285715,
          31
         ],
         "yaxis": "y"
        },
        {
         "hovertemplate": "color=PICKUP TRUCK - SMALL<br>x=%{x}<br>y=%{y}<extra></extra>",
         "legendgroup": "PICKUP TRUCK - SMALL",
         "line": {
          "color": "#19d3f3",
          "dash": "solid"
         },
         "marker": {
          "symbol": "circle"
         },
         "mode": "lines",
         "name": "PICKUP TRUCK - SMALL",
         "orientation": "v",
         "showlegend": true,
         "type": "scatter",
         "x": [
          2000,
          2001,
          2002,
          2003,
          2004,
          2008,
          2009,
          2010,
          2011,
          2012,
          2013,
          2014,
          2015,
          2016,
          2017,
          2018,
          2019,
          2020,
          2021,
          2022
         ],
         "xaxis": "x",
         "y": [
          26.272727272727273,
          23.5,
          23.166666666666668,
          24.75,
          20,
          24.76923076923077,
          25.338983050847457,
          25.48148148148148,
          25.529411764705884,
          25.767441860465116,
          26.583333333333332,
          26.5,
          23.954545454545453,
          24.884615384615383,
          24.392857142857142,
          24.296296296296298,
          24.16,
          24.526315789473685,
          24.58823529411765,
          26
         ],
         "yaxis": "y"
        },
        {
         "hovertemplate": "color=PICKUP TRUCK - STANDARD<br>x=%{x}<br>y=%{y}<extra></extra>",
         "legendgroup": "PICKUP TRUCK - STANDARD",
         "line": {
          "color": "#FF6692",
          "dash": "solid"
         },
         "marker": {
          "symbol": "circle"
         },
         "mode": "lines",
         "name": "PICKUP TRUCK - STANDARD",
         "orientation": "v",
         "showlegend": true,
         "type": "scatter",
         "x": [
          2000,
          2001,
          2002,
          2003,
          2004,
          2005,
          2006,
          2007,
          2008,
          2009,
          2010,
          2011,
          2012,
          2013,
          2014,
          2015,
          2016,
          2017,
          2018,
          2019,
          2020,
          2021,
          2022
         ],
         "xaxis": "x",
         "y": [
          20.945652173913043,
          20.792079207920793,
          20.177570093457945,
          21.00943396226415,
          20.66393442622951,
          21.393700787401574,
          21.907801418439718,
          21.623376623376622,
          20.09722222222222,
          20.54736842105263,
          20.054794520547944,
          20.270588235294117,
          20.468354430379748,
          20.726190476190474,
          22.112903225806452,
          20.48076923076923,
          20.5,
          20.56,
          21.329896907216494,
          21.32323232323232,
          22.13186813186813,
          21.8,
          21.460176991150444
         ],
         "yaxis": "y"
        },
        {
         "hovertemplate": "color=STATION WAGON - MID-SIZE<br>x=%{x}<br>y=%{y}<extra></extra>",
         "legendgroup": "STATION WAGON - MID-SIZE",
         "line": {
          "color": "#B6E880",
          "dash": "solid"
         },
         "marker": {
          "symbol": "circle"
         },
         "mode": "lines",
         "name": "STATION WAGON - MID-SIZE",
         "orientation": "v",
         "showlegend": true,
         "type": "scatter",
         "x": [
          2000,
          2001,
          2002,
          2003,
          2004,
          2005,
          2006,
          2007,
          2008,
          2009,
          2010,
          2011,
          2012,
          2013,
          2014,
          2015,
          2016,
          2017,
          2018,
          2019,
          2020,
          2021,
          2022
         ],
         "xaxis": "x",
         "y": [
          28.44,
          28.870967741935484,
          29.15625,
          29,
          28.414634146341463,
          28.210526315789473,
          28.035714285714285,
          28.625,
          28.5,
          28.53846153846154,
          28.88888888888889,
          28.5,
          35,
          39,
          35.5,
          30.625,
          30.857142857142858,
          32.125,
          30.2,
          26.11111111111111,
          24,
          24,
          24.25
         ],
         "yaxis": "y"
        },
        {
         "hovertemplate": "color=STATION WAGON - SMALL<br>x=%{x}<br>y=%{y}<extra></extra>",
         "legendgroup": "STATION WAGON - SMALL",
         "line": {
          "color": "#FF97FF",
          "dash": "solid"
         },
         "marker": {
          "symbol": "circle"
         },
         "mode": "lines",
         "name": "STATION WAGON - SMALL",
         "orientation": "v",
         "showlegend": true,
         "type": "scatter",
         "x": [
          2000,
          2001,
          2002,
          2003,
          2004,
          2005,
          2006,
          2007,
          2008,
          2009,
          2010,
          2011,
          2012,
          2013,
          2014,
          2015,
          2016,
          2017,
          2018,
          2019,
          2020,
          2021,
          2022
         ],
         "xaxis": "x",
         "y": [
          31.692307692307693,
          31.916666666666668,
          29.27777777777778,
          31.644444444444446,
          31.27906976744186,
          30.814814814814813,
          31.735849056603772,
          31.59090909090909,
          31.58139534883721,
          32.351851851851855,
          33.56666666666667,
          33.55357142857143,
          34.57446808510638,
          34.79545454545455,
          35.470588235294116,
          33.48571428571429,
          33.270270270270274,
          35.06666666666667,
          35.17948717948718,
          34.891891891891895,
          36.2,
          36.4,
          36.26315789473684
         ],
         "yaxis": "y"
        },
        {
         "hovertemplate": "color=SUBCOMPACT<br>x=%{x}<br>y=%{y}<extra></extra>",
         "legendgroup": "SUBCOMPACT",
         "line": {
          "color": "#FECB52",
          "dash": "solid"
         },
         "marker": {
          "symbol": "circle"
         },
         "mode": "lines",
         "name": "SUBCOMPACT",
         "orientation": "v",
         "showlegend": true,
         "type": "scatter",
         "x": [
          2000,
          2001,
          2002,
          2003,
          2004,
          2005,
          2006,
          2007,
          2008,
          2009,
          2010,
          2011,
          2012,
          2013,
          2014,
          2015,
          2016,
          2017,
          2018,
          2019,
          2020,
          2021,
          2022
         ],
         "xaxis": "x",
         "y": [
          31.48076923076923,
          31.258064516129032,
          29.15068493150685,
          27.984615384615385,
          28.96511627906977,
          29.82758620689655,
          29.743589743589745,
          29.50602409638554,
          29.86,
          29.98989898989899,
          30.510204081632654,
          31.01923076923077,
          30.735294117647058,
          30.63157894736842,
          31.903225806451612,
          28.66304347826087,
          28.513157894736842,
          27.580645161290324,
          27.78125,
          27.948979591836736,
          26.821052631578947,
          27.373493975903614,
          27.620253164556964
         ],
         "yaxis": "y"
        },
        {
         "hovertemplate": "color=SUV<br>x=%{x}<br>y=%{y}<extra></extra>",
         "legendgroup": "SUV",
         "line": {
          "color": "#636efa",
          "dash": "solid"
         },
         "marker": {
          "symbol": "circle"
         },
         "mode": "lines",
         "name": "SUV",
         "orientation": "v",
         "showlegend": true,
         "type": "scatter",
         "x": [
          2000,
          2001,
          2002,
          2003,
          2004,
          2005,
          2006,
          2007,
          2008,
          2009,
          2010,
          2011,
          2012
         ],
         "xaxis": "x",
         "y": [
          22.84536082474227,
          23.081632653061224,
          22.572580645161292,
          22.5125,
          21.957894736842107,
          23,
          23.755656108597286,
          24.748953974895397,
          24.95505617977528,
          25.100746268656717,
          26.417670682730925,
          26.600746268656717,
          26.57872340425532
         ],
         "yaxis": "y"
        },
        {
         "hovertemplate": "color=TWO-SEATER<br>x=%{x}<br>y=%{y}<extra></extra>",
         "legendgroup": "TWO-SEATER",
         "line": {
          "color": "#EF553B",
          "dash": "solid"
         },
         "marker": {
          "symbol": "circle"
         },
         "mode": "lines",
         "name": "TWO-SEATER",
         "orientation": "v",
         "showlegend": true,
         "type": "scatter",
         "x": [
          2000,
          2001,
          2002,
          2003,
          2004,
          2005,
          2006,
          2007,
          2008,
          2009,
          2010,
          2011,
          2012,
          2013,
          2014,
          2015,
          2016,
          2017,
          2018,
          2019,
          2020,
          2021,
          2022
         ],
         "xaxis": "x",
         "y": [
          23.4,
          27.548387096774192,
          25.972972972972972,
          25.475,
          25.065217391304348,
          26.03846153846154,
          26.93877551020408,
          25.049180327868854,
          25.575342465753426,
          24.109375,
          25.16949152542373,
          26.65625,
          29.289473684210527,
          31.75862068965517,
          31.271428571428572,
          26.404761904761905,
          25.441176470588236,
          24.75438596491228,
          24.333333333333332,
          24.37142857142857,
          24.421875,
          23,
          23.15686274509804
         ],
         "yaxis": "y"
        },
        {
         "hovertemplate": "color=VAN - CARGO<br>x=%{x}<br>y=%{y}<extra></extra>",
         "legendgroup": "VAN - CARGO",
         "line": {
          "color": "#00cc96",
          "dash": "solid"
         },
         "marker": {
          "symbol": "circle"
         },
         "mode": "lines",
         "name": "VAN - CARGO",
         "orientation": "v",
         "showlegend": true,
         "type": "scatter",
         "x": [
          2000,
          2001,
          2002,
          2003,
          2004,
          2005,
          2006,
          2007,
          2008,
          2009,
          2010,
          2011,
          2012,
          2013,
          2014
         ],
         "xaxis": "x",
         "y": [
          19.82608695652174,
          19.26086956521739,
          19.434782608695652,
          18.666666666666668,
          18.80952380952381,
          20.384615384615383,
          20.214285714285715,
          18.666666666666668,
          18.53846153846154,
          18.53846153846154,
          17.666666666666668,
          17.454545454545453,
          17.40909090909091,
          17.40909090909091,
          17.318181818181817
         ],
         "yaxis": "y"
        },
        {
         "hovertemplate": "color=VAN - PASSENGER<br>x=%{x}<br>y=%{y}<extra></extra>",
         "legendgroup": "VAN - PASSENGER",
         "line": {
          "color": "#ab63fa",
          "dash": "solid"
         },
         "marker": {
          "symbol": "circle"
         },
         "mode": "lines",
         "name": "VAN - PASSENGER",
         "orientation": "v",
         "showlegend": true,
         "type": "scatter",
         "x": [
          2000,
          2001,
          2002,
          2003,
          2004,
          2005,
          2006,
          2007,
          2008,
          2009,
          2010,
          2011,
          2012,
          2013,
          2014,
          2015,
          2016,
          2017,
          2018,
          2019,
          2020,
          2021
         ],
         "xaxis": "x",
         "y": [
          18.647058823529413,
          19.055555555555557,
          18.77777777777778,
          18.615384615384617,
          19.181818181818183,
          19.666666666666668,
          19.75,
          17.5,
          17.666666666666668,
          17.666666666666668,
          16.75,
          15.62962962962963,
          15.612903225806452,
          15.633333333333333,
          16,
          14.736842105263158,
          15.571428571428571,
          16,
          19,
          19,
          16.75,
          16.75
         ],
         "yaxis": "y"
        },
        {
         "hovertemplate": "color=SUV - STANDARD<br>x=%{x}<br>y=%{y}<extra></extra>",
         "legendgroup": "SUV - STANDARD",
         "line": {
          "color": "#FFA15A",
          "dash": "solid"
         },
         "marker": {
          "symbol": "circle"
         },
         "mode": "lines",
         "name": "SUV - STANDARD",
         "orientation": "v",
         "showlegend": true,
         "type": "scatter",
         "x": [
          2007,
          2012,
          2013,
          2014,
          2015,
          2016,
          2017,
          2018,
          2019,
          2020,
          2021,
          2022
         ],
         "xaxis": "x",
         "y": [
          20,
          25.5,
          22.396039603960396,
          22.813725490196077,
          21.08080808080808,
          21.850467289719628,
          21.598039215686274,
          21.601941747572816,
          21.756756756756758,
          22.084745762711865,
          22.58267716535433,
          22.463087248322147
         ],
         "yaxis": "y"
        },
        {
         "hovertemplate": "color=SPECIAL PURPOSE VEHICLE<br>x=%{x}<br>y=%{y}<extra></extra>",
         "legendgroup": "SPECIAL PURPOSE VEHICLE",
         "line": {
          "color": "#19d3f3",
          "dash": "solid"
         },
         "marker": {
          "symbol": "circle"
         },
         "mode": "lines",
         "name": "SPECIAL PURPOSE VEHICLE",
         "orientation": "v",
         "showlegend": true,
         "type": "scatter",
         "x": [
          2010,
          2011,
          2012,
          2013,
          2014,
          2015,
          2016,
          2017,
          2018,
          2019,
          2020,
          2021,
          2022
         ],
         "xaxis": "x",
         "y": [
          32,
          31,
          32.5,
          31.6,
          31.857142857142858,
          28.22222222222222,
          25.647058823529413,
          25.8,
          25.4,
          27.071428571428573,
          27.615384615384617,
          27.076923076923077,
          26.75
         ],
         "yaxis": "y"
        },
        {
         "hovertemplate": "color=SUV - SMALL<br>x=%{x}<br>y=%{y}<extra></extra>",
         "legendgroup": "SUV - SMALL",
         "line": {
          "color": "#FF6692",
          "dash": "solid"
         },
         "marker": {
          "symbol": "circle"
         },
         "mode": "lines",
         "name": "SUV - SMALL",
         "orientation": "v",
         "showlegend": true,
         "type": "scatter",
         "x": [
          2013,
          2014,
          2015,
          2016,
          2017,
          2018,
          2019,
          2020,
          2021,
          2022
         ],
         "xaxis": "x",
         "y": [
          30.892086330935253,
          31.316129032258065,
          27.70949720670391,
          28.227777777777778,
          27.775862068965516,
          28.372881355932204,
          28.913793103448278,
          28.824468085106382,
          29.435233160621763,
          29.781725888324875
         ],
         "yaxis": "y"
        }
       ],
       "layout": {
        "legend": {
         "title": {
          "text": "Vehicle Class"
         },
         "tracegroupgap": 0
        },
        "margin": {
         "t": 60
        },
        "template": {
         "data": {
          "bar": [
           {
            "error_x": {
             "color": "#2a3f5f"
            },
            "error_y": {
             "color": "#2a3f5f"
            },
            "marker": {
             "line": {
              "color": "#E5ECF6",
              "width": 0.5
             },
             "pattern": {
              "fillmode": "overlay",
              "size": 10,
              "solidity": 0.2
             }
            },
            "type": "bar"
           }
          ],
          "barpolar": [
           {
            "marker": {
             "line": {
              "color": "#E5ECF6",
              "width": 0.5
             },
             "pattern": {
              "fillmode": "overlay",
              "size": 10,
              "solidity": 0.2
             }
            },
            "type": "barpolar"
           }
          ],
          "carpet": [
           {
            "aaxis": {
             "endlinecolor": "#2a3f5f",
             "gridcolor": "white",
             "linecolor": "white",
             "minorgridcolor": "white",
             "startlinecolor": "#2a3f5f"
            },
            "baxis": {
             "endlinecolor": "#2a3f5f",
             "gridcolor": "white",
             "linecolor": "white",
             "minorgridcolor": "white",
             "startlinecolor": "#2a3f5f"
            },
            "type": "carpet"
           }
          ],
          "choropleth": [
           {
            "colorbar": {
             "outlinewidth": 0,
             "ticks": ""
            },
            "type": "choropleth"
           }
          ],
          "contour": [
           {
            "colorbar": {
             "outlinewidth": 0,
             "ticks": ""
            },
            "colorscale": [
             [
              0,
              "#0d0887"
             ],
             [
              0.1111111111111111,
              "#46039f"
             ],
             [
              0.2222222222222222,
              "#7201a8"
             ],
             [
              0.3333333333333333,
              "#9c179e"
             ],
             [
              0.4444444444444444,
              "#bd3786"
             ],
             [
              0.5555555555555556,
              "#d8576b"
             ],
             [
              0.6666666666666666,
              "#ed7953"
             ],
             [
              0.7777777777777778,
              "#fb9f3a"
             ],
             [
              0.8888888888888888,
              "#fdca26"
             ],
             [
              1,
              "#f0f921"
             ]
            ],
            "type": "contour"
           }
          ],
          "contourcarpet": [
           {
            "colorbar": {
             "outlinewidth": 0,
             "ticks": ""
            },
            "type": "contourcarpet"
           }
          ],
          "heatmap": [
           {
            "colorbar": {
             "outlinewidth": 0,
             "ticks": ""
            },
            "colorscale": [
             [
              0,
              "#0d0887"
             ],
             [
              0.1111111111111111,
              "#46039f"
             ],
             [
              0.2222222222222222,
              "#7201a8"
             ],
             [
              0.3333333333333333,
              "#9c179e"
             ],
             [
              0.4444444444444444,
              "#bd3786"
             ],
             [
              0.5555555555555556,
              "#d8576b"
             ],
             [
              0.6666666666666666,
              "#ed7953"
             ],
             [
              0.7777777777777778,
              "#fb9f3a"
             ],
             [
              0.8888888888888888,
              "#fdca26"
             ],
             [
              1,
              "#f0f921"
             ]
            ],
            "type": "heatmap"
           }
          ],
          "heatmapgl": [
           {
            "colorbar": {
             "outlinewidth": 0,
             "ticks": ""
            },
            "colorscale": [
             [
              0,
              "#0d0887"
             ],
             [
              0.1111111111111111,
              "#46039f"
             ],
             [
              0.2222222222222222,
              "#7201a8"
             ],
             [
              0.3333333333333333,
              "#9c179e"
             ],
             [
              0.4444444444444444,
              "#bd3786"
             ],
             [
              0.5555555555555556,
              "#d8576b"
             ],
             [
              0.6666666666666666,
              "#ed7953"
             ],
             [
              0.7777777777777778,
              "#fb9f3a"
             ],
             [
              0.8888888888888888,
              "#fdca26"
             ],
             [
              1,
              "#f0f921"
             ]
            ],
            "type": "heatmapgl"
           }
          ],
          "histogram": [
           {
            "marker": {
             "pattern": {
              "fillmode": "overlay",
              "size": 10,
              "solidity": 0.2
             }
            },
            "type": "histogram"
           }
          ],
          "histogram2d": [
           {
            "colorbar": {
             "outlinewidth": 0,
             "ticks": ""
            },
            "colorscale": [
             [
              0,
              "#0d0887"
             ],
             [
              0.1111111111111111,
              "#46039f"
             ],
             [
              0.2222222222222222,
              "#7201a8"
             ],
             [
              0.3333333333333333,
              "#9c179e"
             ],
             [
              0.4444444444444444,
              "#bd3786"
             ],
             [
              0.5555555555555556,
              "#d8576b"
             ],
             [
              0.6666666666666666,
              "#ed7953"
             ],
             [
              0.7777777777777778,
              "#fb9f3a"
             ],
             [
              0.8888888888888888,
              "#fdca26"
             ],
             [
              1,
              "#f0f921"
             ]
            ],
            "type": "histogram2d"
           }
          ],
          "histogram2dcontour": [
           {
            "colorbar": {
             "outlinewidth": 0,
             "ticks": ""
            },
            "colorscale": [
             [
              0,
              "#0d0887"
             ],
             [
              0.1111111111111111,
              "#46039f"
             ],
             [
              0.2222222222222222,
              "#7201a8"
             ],
             [
              0.3333333333333333,
              "#9c179e"
             ],
             [
              0.4444444444444444,
              "#bd3786"
             ],
             [
              0.5555555555555556,
              "#d8576b"
             ],
             [
              0.6666666666666666,
              "#ed7953"
             ],
             [
              0.7777777777777778,
              "#fb9f3a"
             ],
             [
              0.8888888888888888,
              "#fdca26"
             ],
             [
              1,
              "#f0f921"
             ]
            ],
            "type": "histogram2dcontour"
           }
          ],
          "mesh3d": [
           {
            "colorbar": {
             "outlinewidth": 0,
             "ticks": ""
            },
            "type": "mesh3d"
           }
          ],
          "parcoords": [
           {
            "line": {
             "colorbar": {
              "outlinewidth": 0,
              "ticks": ""
             }
            },
            "type": "parcoords"
           }
          ],
          "pie": [
           {
            "automargin": true,
            "type": "pie"
           }
          ],
          "scatter": [
           {
            "fillpattern": {
             "fillmode": "overlay",
             "size": 10,
             "solidity": 0.2
            },
            "type": "scatter"
           }
          ],
          "scatter3d": [
           {
            "line": {
             "colorbar": {
              "outlinewidth": 0,
              "ticks": ""
             }
            },
            "marker": {
             "colorbar": {
              "outlinewidth": 0,
              "ticks": ""
             }
            },
            "type": "scatter3d"
           }
          ],
          "scattercarpet": [
           {
            "marker": {
             "colorbar": {
              "outlinewidth": 0,
              "ticks": ""
             }
            },
            "type": "scattercarpet"
           }
          ],
          "scattergeo": [
           {
            "marker": {
             "colorbar": {
              "outlinewidth": 0,
              "ticks": ""
             }
            },
            "type": "scattergeo"
           }
          ],
          "scattergl": [
           {
            "marker": {
             "colorbar": {
              "outlinewidth": 0,
              "ticks": ""
             }
            },
            "type": "scattergl"
           }
          ],
          "scattermapbox": [
           {
            "marker": {
             "colorbar": {
              "outlinewidth": 0,
              "ticks": ""
             }
            },
            "type": "scattermapbox"
           }
          ],
          "scatterpolar": [
           {
            "marker": {
             "colorbar": {
              "outlinewidth": 0,
              "ticks": ""
             }
            },
            "type": "scatterpolar"
           }
          ],
          "scatterpolargl": [
           {
            "marker": {
             "colorbar": {
              "outlinewidth": 0,
              "ticks": ""
             }
            },
            "type": "scatterpolargl"
           }
          ],
          "scatterternary": [
           {
            "marker": {
             "colorbar": {
              "outlinewidth": 0,
              "ticks": ""
             }
            },
            "type": "scatterternary"
           }
          ],
          "surface": [
           {
            "colorbar": {
             "outlinewidth": 0,
             "ticks": ""
            },
            "colorscale": [
             [
              0,
              "#0d0887"
             ],
             [
              0.1111111111111111,
              "#46039f"
             ],
             [
              0.2222222222222222,
              "#7201a8"
             ],
             [
              0.3333333333333333,
              "#9c179e"
             ],
             [
              0.4444444444444444,
              "#bd3786"
             ],
             [
              0.5555555555555556,
              "#d8576b"
             ],
             [
              0.6666666666666666,
              "#ed7953"
             ],
             [
              0.7777777777777778,
              "#fb9f3a"
             ],
             [
              0.8888888888888888,
              "#fdca26"
             ],
             [
              1,
              "#f0f921"
             ]
            ],
            "type": "surface"
           }
          ],
          "table": [
           {
            "cells": {
             "fill": {
              "color": "#EBF0F8"
             },
             "line": {
              "color": "white"
             }
            },
            "header": {
             "fill": {
              "color": "#C8D4E3"
             },
             "line": {
              "color": "white"
             }
            },
            "type": "table"
           }
          ]
         },
         "layout": {
          "annotationdefaults": {
           "arrowcolor": "#2a3f5f",
           "arrowhead": 0,
           "arrowwidth": 1
          },
          "autotypenumbers": "strict",
          "coloraxis": {
           "colorbar": {
            "outlinewidth": 0,
            "ticks": ""
           }
          },
          "colorscale": {
           "diverging": [
            [
             0,
             "#8e0152"
            ],
            [
             0.1,
             "#c51b7d"
            ],
            [
             0.2,
             "#de77ae"
            ],
            [
             0.3,
             "#f1b6da"
            ],
            [
             0.4,
             "#fde0ef"
            ],
            [
             0.5,
             "#f7f7f7"
            ],
            [
             0.6,
             "#e6f5d0"
            ],
            [
             0.7,
             "#b8e186"
            ],
            [
             0.8,
             "#7fbc41"
            ],
            [
             0.9,
             "#4d9221"
            ],
            [
             1,
             "#276419"
            ]
           ],
           "sequential": [
            [
             0,
             "#0d0887"
            ],
            [
             0.1111111111111111,
             "#46039f"
            ],
            [
             0.2222222222222222,
             "#7201a8"
            ],
            [
             0.3333333333333333,
             "#9c179e"
            ],
            [
             0.4444444444444444,
             "#bd3786"
            ],
            [
             0.5555555555555556,
             "#d8576b"
            ],
            [
             0.6666666666666666,
             "#ed7953"
            ],
            [
             0.7777777777777778,
             "#fb9f3a"
            ],
            [
             0.8888888888888888,
             "#fdca26"
            ],
            [
             1,
             "#f0f921"
            ]
           ],
           "sequentialminus": [
            [
             0,
             "#0d0887"
            ],
            [
             0.1111111111111111,
             "#46039f"
            ],
            [
             0.2222222222222222,
             "#7201a8"
            ],
            [
             0.3333333333333333,
             "#9c179e"
            ],
            [
             0.4444444444444444,
             "#bd3786"
            ],
            [
             0.5555555555555556,
             "#d8576b"
            ],
            [
             0.6666666666666666,
             "#ed7953"
            ],
            [
             0.7777777777777778,
             "#fb9f3a"
            ],
            [
             0.8888888888888888,
             "#fdca26"
            ],
            [
             1,
             "#f0f921"
            ]
           ]
          },
          "colorway": [
           "#636efa",
           "#EF553B",
           "#00cc96",
           "#ab63fa",
           "#FFA15A",
           "#19d3f3",
           "#FF6692",
           "#B6E880",
           "#FF97FF",
           "#FECB52"
          ],
          "font": {
           "color": "#2a3f5f"
          },
          "geo": {
           "bgcolor": "white",
           "lakecolor": "white",
           "landcolor": "#E5ECF6",
           "showlakes": true,
           "showland": true,
           "subunitcolor": "white"
          },
          "hoverlabel": {
           "align": "left"
          },
          "hovermode": "closest",
          "mapbox": {
           "style": "light"
          },
          "paper_bgcolor": "white",
          "plot_bgcolor": "#E5ECF6",
          "polar": {
           "angularaxis": {
            "gridcolor": "white",
            "linecolor": "white",
            "ticks": ""
           },
           "bgcolor": "#E5ECF6",
           "radialaxis": {
            "gridcolor": "white",
            "linecolor": "white",
            "ticks": ""
           }
          },
          "scene": {
           "xaxis": {
            "backgroundcolor": "#E5ECF6",
            "gridcolor": "white",
            "gridwidth": 2,
            "linecolor": "white",
            "showbackground": true,
            "ticks": "",
            "zerolinecolor": "white"
           },
           "yaxis": {
            "backgroundcolor": "#E5ECF6",
            "gridcolor": "white",
            "gridwidth": 2,
            "linecolor": "white",
            "showbackground": true,
            "ticks": "",
            "zerolinecolor": "white"
           },
           "zaxis": {
            "backgroundcolor": "#E5ECF6",
            "gridcolor": "white",
            "gridwidth": 2,
            "linecolor": "white",
            "showbackground": true,
            "ticks": "",
            "zerolinecolor": "white"
           }
          },
          "shapedefaults": {
           "line": {
            "color": "#2a3f5f"
           }
          },
          "ternary": {
           "aaxis": {
            "gridcolor": "white",
            "linecolor": "white",
            "ticks": ""
           },
           "baxis": {
            "gridcolor": "white",
            "linecolor": "white",
            "ticks": ""
           },
           "bgcolor": "#E5ECF6",
           "caxis": {
            "gridcolor": "white",
            "linecolor": "white",
            "ticks": ""
           }
          },
          "title": {
           "x": 0.05
          },
          "xaxis": {
           "automargin": true,
           "gridcolor": "white",
           "linecolor": "white",
           "ticks": "",
           "title": {
            "standoff": 15
           },
           "zerolinecolor": "white",
           "zerolinewidth": 2
          },
          "yaxis": {
           "automargin": true,
           "gridcolor": "white",
           "linecolor": "white",
           "ticks": "",
           "title": {
            "standoff": 15
           },
           "zerolinecolor": "white",
           "zerolinewidth": 2
          }
         }
        },
        "title": {
         "text": "Average Combined MPG per Vehicle Class per Year"
        },
        "xaxis": {
         "anchor": "y",
         "domain": [
          0,
          1
         ],
         "title": {
          "text": "Year"
         }
        },
        "yaxis": {
         "anchor": "x",
         "domain": [
          0,
          1
         ],
         "title": {
          "text": "Combined MPG Average"
         }
        }
       }
      },
      "text/html": [
       "<div>                            <div id=\"a8df6e11-1029-4624-b01d-31578d709f3e\" class=\"plotly-graph-div\" style=\"height:525px; width:100%;\"></div>            <script type=\"text/javascript\">                require([\"plotly\"], function(Plotly) {                    window.PLOTLYENV=window.PLOTLYENV || {};                                    if (document.getElementById(\"a8df6e11-1029-4624-b01d-31578d709f3e\")) {                    Plotly.newPlot(                        \"a8df6e11-1029-4624-b01d-31578d709f3e\",                        [{\"hovertemplate\":\"color=COMPACT<br>x=%{x}<br>y=%{y}<extra></extra>\",\"legendgroup\":\"COMPACT\",\"line\":{\"color\":\"#636efa\",\"dash\":\"solid\"},\"marker\":{\"symbol\":\"circle\"},\"mode\":\"lines\",\"name\":\"COMPACT\",\"orientation\":\"v\",\"showlegend\":true,\"x\":[2000,2001,2002,2003,2004,2005,2006,2007,2008,2009,2010,2011,2012,2013,2014,2015,2016,2017,2018,2019,2020,2021,2022],\"xaxis\":\"x\",\"y\":[31.504761904761907,31.93793103448276,31.969924812030076,32.37062937062937,31.603896103896105,31.698630136986303,31.233576642335766,30.25,30.2027027027027,30.326666666666668,32.17142857142857,33.653225806451616,35.06015037593985,35.214285714285715,36.19047619047619,31.333333333333332,31.414364640883978,31.60377358490566,32.23770491803279,32.43396226415094,32.28703703703704,32.92941176470588,33.22857142857143],\"yaxis\":\"y\",\"type\":\"scatter\"},{\"hovertemplate\":\"color=FULL-SIZE<br>x=%{x}<br>y=%{y}<extra></extra>\",\"legendgroup\":\"FULL-SIZE\",\"line\":{\"color\":\"#EF553B\",\"dash\":\"solid\"},\"marker\":{\"symbol\":\"circle\"},\"mode\":\"lines\",\"name\":\"FULL-SIZE\",\"orientation\":\"v\",\"showlegend\":true,\"x\":[2000,2001,2002,2003,2004,2005,2006,2007,2008,2009,2010,2011,2012,2013,2014,2015,2016,2017,2018,2019,2020,2021,2022],\"xaxis\":\"x\",\"y\":[26.428571428571427,26.033333333333335,25.689655172413794,26.28,24.735294117647058,24.155555555555555,24.625,24.462962962962962,24.50793650793651,24.676470588235293,24.441558441558442,25.08450704225352,26.098765432098766,26.894736842105264,27.607142857142858,24.0,24.27777777777778,26.402439024390244,27.192660550458715,26.603960396039604,28.102564102564102,29.0,28.890625],\"yaxis\":\"y\",\"type\":\"scatter\"},{\"hovertemplate\":\"color=MID-SIZE<br>x=%{x}<br>y=%{y}<extra></extra>\",\"legendgroup\":\"MID-SIZE\",\"line\":{\"color\":\"#00cc96\",\"dash\":\"solid\"},\"marker\":{\"symbol\":\"circle\"},\"mode\":\"lines\",\"name\":\"MID-SIZE\",\"orientation\":\"v\",\"showlegend\":true,\"x\":[2000,2001,2002,2003,2004,2005,2006,2007,2008,2009,2010,2011,2012,2013,2014,2015,2016,2017,2018,2019,2020,2021,2022],\"xaxis\":\"x\",\"y\":[27.441558441558442,27.353658536585368,27.444444444444443,27.48314606741573,27.92233009708738,28.140350877192983,28.18918918918919,29.115107913669064,28.970149253731343,29.024,29.95,31.96969696969697,32.86259541984733,35.44444444444444,35.752941176470586,31.044444444444444,31.335106382978722,31.166666666666668,31.664556962025316,32.66206896551724,31.365079365079364,31.42105263157895,31.034188034188034],\"yaxis\":\"y\",\"type\":\"scatter\"},{\"hovertemplate\":\"color=MINICOMPACT<br>x=%{x}<br>y=%{y}<extra></extra>\",\"legendgroup\":\"MINICOMPACT\",\"line\":{\"color\":\"#ab63fa\",\"dash\":\"solid\"},\"marker\":{\"symbol\":\"circle\"},\"mode\":\"lines\",\"name\":\"MINICOMPACT\",\"orientation\":\"v\",\"showlegend\":true,\"x\":[2000,2001,2002,2003,2004,2005,2006,2007,2008,2009,2010,2011,2012,2013,2014,2015,2016,2017,2018,2019,2020,2021,2022],\"xaxis\":\"x\",\"y\":[25.636363636363637,25.235294117647058,25.363636363636363,27.575757575757574,29.2,26.256756756756758,28.43243243243243,27.5531914893617,27.897959183673468,31.023255813953487,30.4390243902439,30.169811320754718,30.56578947368421,34.41509433962264,33.744680851063826,28.593220338983052,28.557692307692307,29.84090909090909,28.245283018867923,28.0,26.652173913043477,24.9,24.224489795918366],\"yaxis\":\"y\",\"type\":\"scatter\"},{\"hovertemplate\":\"color=MINIVAN<br>x=%{x}<br>y=%{y}<extra></extra>\",\"legendgroup\":\"MINIVAN\",\"line\":{\"color\":\"#FFA15A\",\"dash\":\"solid\"},\"marker\":{\"symbol\":\"circle\"},\"mode\":\"lines\",\"name\":\"MINIVAN\",\"orientation\":\"v\",\"showlegend\":true,\"x\":[2000,2001,2002,2003,2004,2005,2006,2007,2008,2009,2010,2011,2012,2013,2014,2015,2016,2017,2018,2019,2020,2021,2022],\"xaxis\":\"x\",\"y\":[23.96153846153846,24.88235294117647,24.545454545454547,24.392857142857142,25.571428571428573,24.727272727272727,24.714285714285715,24.08823529411765,25.0,26.0,26.142857142857142,25.5,27.375,27.2,26.928571428571427,23.8,23.916666666666668,25.0,24.454545454545453,24.666666666666668,25.5,30.714285714285715,31.0],\"yaxis\":\"y\",\"type\":\"scatter\"},{\"hovertemplate\":\"color=PICKUP TRUCK - SMALL<br>x=%{x}<br>y=%{y}<extra></extra>\",\"legendgroup\":\"PICKUP TRUCK - SMALL\",\"line\":{\"color\":\"#19d3f3\",\"dash\":\"solid\"},\"marker\":{\"symbol\":\"circle\"},\"mode\":\"lines\",\"name\":\"PICKUP TRUCK - SMALL\",\"orientation\":\"v\",\"showlegend\":true,\"x\":[2000,2001,2002,2003,2004,2008,2009,2010,2011,2012,2013,2014,2015,2016,2017,2018,2019,2020,2021,2022],\"xaxis\":\"x\",\"y\":[26.272727272727273,23.5,23.166666666666668,24.75,20.0,24.76923076923077,25.338983050847457,25.48148148148148,25.529411764705884,25.767441860465116,26.583333333333332,26.5,23.954545454545453,24.884615384615383,24.392857142857142,24.296296296296298,24.16,24.526315789473685,24.58823529411765,26.0],\"yaxis\":\"y\",\"type\":\"scatter\"},{\"hovertemplate\":\"color=PICKUP TRUCK - STANDARD<br>x=%{x}<br>y=%{y}<extra></extra>\",\"legendgroup\":\"PICKUP TRUCK - STANDARD\",\"line\":{\"color\":\"#FF6692\",\"dash\":\"solid\"},\"marker\":{\"symbol\":\"circle\"},\"mode\":\"lines\",\"name\":\"PICKUP TRUCK - STANDARD\",\"orientation\":\"v\",\"showlegend\":true,\"x\":[2000,2001,2002,2003,2004,2005,2006,2007,2008,2009,2010,2011,2012,2013,2014,2015,2016,2017,2018,2019,2020,2021,2022],\"xaxis\":\"x\",\"y\":[20.945652173913043,20.792079207920793,20.177570093457945,21.00943396226415,20.66393442622951,21.393700787401574,21.907801418439718,21.623376623376622,20.09722222222222,20.54736842105263,20.054794520547944,20.270588235294117,20.468354430379748,20.726190476190474,22.112903225806452,20.48076923076923,20.5,20.56,21.329896907216494,21.32323232323232,22.13186813186813,21.8,21.460176991150444],\"yaxis\":\"y\",\"type\":\"scatter\"},{\"hovertemplate\":\"color=STATION WAGON - MID-SIZE<br>x=%{x}<br>y=%{y}<extra></extra>\",\"legendgroup\":\"STATION WAGON - MID-SIZE\",\"line\":{\"color\":\"#B6E880\",\"dash\":\"solid\"},\"marker\":{\"symbol\":\"circle\"},\"mode\":\"lines\",\"name\":\"STATION WAGON - MID-SIZE\",\"orientation\":\"v\",\"showlegend\":true,\"x\":[2000,2001,2002,2003,2004,2005,2006,2007,2008,2009,2010,2011,2012,2013,2014,2015,2016,2017,2018,2019,2020,2021,2022],\"xaxis\":\"x\",\"y\":[28.44,28.870967741935484,29.15625,29.0,28.414634146341463,28.210526315789473,28.035714285714285,28.625,28.5,28.53846153846154,28.88888888888889,28.5,35.0,39.0,35.5,30.625,30.857142857142858,32.125,30.2,26.11111111111111,24.0,24.0,24.25],\"yaxis\":\"y\",\"type\":\"scatter\"},{\"hovertemplate\":\"color=STATION WAGON - SMALL<br>x=%{x}<br>y=%{y}<extra></extra>\",\"legendgroup\":\"STATION WAGON - SMALL\",\"line\":{\"color\":\"#FF97FF\",\"dash\":\"solid\"},\"marker\":{\"symbol\":\"circle\"},\"mode\":\"lines\",\"name\":\"STATION WAGON - SMALL\",\"orientation\":\"v\",\"showlegend\":true,\"x\":[2000,2001,2002,2003,2004,2005,2006,2007,2008,2009,2010,2011,2012,2013,2014,2015,2016,2017,2018,2019,2020,2021,2022],\"xaxis\":\"x\",\"y\":[31.692307692307693,31.916666666666668,29.27777777777778,31.644444444444446,31.27906976744186,30.814814814814813,31.735849056603772,31.59090909090909,31.58139534883721,32.351851851851855,33.56666666666667,33.55357142857143,34.57446808510638,34.79545454545455,35.470588235294116,33.48571428571429,33.270270270270274,35.06666666666667,35.17948717948718,34.891891891891895,36.2,36.4,36.26315789473684],\"yaxis\":\"y\",\"type\":\"scatter\"},{\"hovertemplate\":\"color=SUBCOMPACT<br>x=%{x}<br>y=%{y}<extra></extra>\",\"legendgroup\":\"SUBCOMPACT\",\"line\":{\"color\":\"#FECB52\",\"dash\":\"solid\"},\"marker\":{\"symbol\":\"circle\"},\"mode\":\"lines\",\"name\":\"SUBCOMPACT\",\"orientation\":\"v\",\"showlegend\":true,\"x\":[2000,2001,2002,2003,2004,2005,2006,2007,2008,2009,2010,2011,2012,2013,2014,2015,2016,2017,2018,2019,2020,2021,2022],\"xaxis\":\"x\",\"y\":[31.48076923076923,31.258064516129032,29.15068493150685,27.984615384615385,28.96511627906977,29.82758620689655,29.743589743589745,29.50602409638554,29.86,29.98989898989899,30.510204081632654,31.01923076923077,30.735294117647058,30.63157894736842,31.903225806451612,28.66304347826087,28.513157894736842,27.580645161290324,27.78125,27.948979591836736,26.821052631578947,27.373493975903614,27.620253164556964],\"yaxis\":\"y\",\"type\":\"scatter\"},{\"hovertemplate\":\"color=SUV<br>x=%{x}<br>y=%{y}<extra></extra>\",\"legendgroup\":\"SUV\",\"line\":{\"color\":\"#636efa\",\"dash\":\"solid\"},\"marker\":{\"symbol\":\"circle\"},\"mode\":\"lines\",\"name\":\"SUV\",\"orientation\":\"v\",\"showlegend\":true,\"x\":[2000,2001,2002,2003,2004,2005,2006,2007,2008,2009,2010,2011,2012],\"xaxis\":\"x\",\"y\":[22.84536082474227,23.081632653061224,22.572580645161292,22.5125,21.957894736842107,23.0,23.755656108597286,24.748953974895397,24.95505617977528,25.100746268656717,26.417670682730925,26.600746268656717,26.57872340425532],\"yaxis\":\"y\",\"type\":\"scatter\"},{\"hovertemplate\":\"color=TWO-SEATER<br>x=%{x}<br>y=%{y}<extra></extra>\",\"legendgroup\":\"TWO-SEATER\",\"line\":{\"color\":\"#EF553B\",\"dash\":\"solid\"},\"marker\":{\"symbol\":\"circle\"},\"mode\":\"lines\",\"name\":\"TWO-SEATER\",\"orientation\":\"v\",\"showlegend\":true,\"x\":[2000,2001,2002,2003,2004,2005,2006,2007,2008,2009,2010,2011,2012,2013,2014,2015,2016,2017,2018,2019,2020,2021,2022],\"xaxis\":\"x\",\"y\":[23.4,27.548387096774192,25.972972972972972,25.475,25.065217391304348,26.03846153846154,26.93877551020408,25.049180327868854,25.575342465753426,24.109375,25.16949152542373,26.65625,29.289473684210527,31.75862068965517,31.271428571428572,26.404761904761905,25.441176470588236,24.75438596491228,24.333333333333332,24.37142857142857,24.421875,23.0,23.15686274509804],\"yaxis\":\"y\",\"type\":\"scatter\"},{\"hovertemplate\":\"color=VAN - CARGO<br>x=%{x}<br>y=%{y}<extra></extra>\",\"legendgroup\":\"VAN - CARGO\",\"line\":{\"color\":\"#00cc96\",\"dash\":\"solid\"},\"marker\":{\"symbol\":\"circle\"},\"mode\":\"lines\",\"name\":\"VAN - CARGO\",\"orientation\":\"v\",\"showlegend\":true,\"x\":[2000,2001,2002,2003,2004,2005,2006,2007,2008,2009,2010,2011,2012,2013,2014],\"xaxis\":\"x\",\"y\":[19.82608695652174,19.26086956521739,19.434782608695652,18.666666666666668,18.80952380952381,20.384615384615383,20.214285714285715,18.666666666666668,18.53846153846154,18.53846153846154,17.666666666666668,17.454545454545453,17.40909090909091,17.40909090909091,17.318181818181817],\"yaxis\":\"y\",\"type\":\"scatter\"},{\"hovertemplate\":\"color=VAN - PASSENGER<br>x=%{x}<br>y=%{y}<extra></extra>\",\"legendgroup\":\"VAN - PASSENGER\",\"line\":{\"color\":\"#ab63fa\",\"dash\":\"solid\"},\"marker\":{\"symbol\":\"circle\"},\"mode\":\"lines\",\"name\":\"VAN - PASSENGER\",\"orientation\":\"v\",\"showlegend\":true,\"x\":[2000,2001,2002,2003,2004,2005,2006,2007,2008,2009,2010,2011,2012,2013,2014,2015,2016,2017,2018,2019,2020,2021],\"xaxis\":\"x\",\"y\":[18.647058823529413,19.055555555555557,18.77777777777778,18.615384615384617,19.181818181818183,19.666666666666668,19.75,17.5,17.666666666666668,17.666666666666668,16.75,15.62962962962963,15.612903225806452,15.633333333333333,16.0,14.736842105263158,15.571428571428571,16.0,19.0,19.0,16.75,16.75],\"yaxis\":\"y\",\"type\":\"scatter\"},{\"hovertemplate\":\"color=SUV - STANDARD<br>x=%{x}<br>y=%{y}<extra></extra>\",\"legendgroup\":\"SUV - STANDARD\",\"line\":{\"color\":\"#FFA15A\",\"dash\":\"solid\"},\"marker\":{\"symbol\":\"circle\"},\"mode\":\"lines\",\"name\":\"SUV - STANDARD\",\"orientation\":\"v\",\"showlegend\":true,\"x\":[2007,2012,2013,2014,2015,2016,2017,2018,2019,2020,2021,2022],\"xaxis\":\"x\",\"y\":[20.0,25.5,22.396039603960396,22.813725490196077,21.08080808080808,21.850467289719628,21.598039215686274,21.601941747572816,21.756756756756758,22.084745762711865,22.58267716535433,22.463087248322147],\"yaxis\":\"y\",\"type\":\"scatter\"},{\"hovertemplate\":\"color=SPECIAL PURPOSE VEHICLE<br>x=%{x}<br>y=%{y}<extra></extra>\",\"legendgroup\":\"SPECIAL PURPOSE VEHICLE\",\"line\":{\"color\":\"#19d3f3\",\"dash\":\"solid\"},\"marker\":{\"symbol\":\"circle\"},\"mode\":\"lines\",\"name\":\"SPECIAL PURPOSE VEHICLE\",\"orientation\":\"v\",\"showlegend\":true,\"x\":[2010,2011,2012,2013,2014,2015,2016,2017,2018,2019,2020,2021,2022],\"xaxis\":\"x\",\"y\":[32.0,31.0,32.5,31.6,31.857142857142858,28.22222222222222,25.647058823529413,25.8,25.4,27.071428571428573,27.615384615384617,27.076923076923077,26.75],\"yaxis\":\"y\",\"type\":\"scatter\"},{\"hovertemplate\":\"color=SUV - SMALL<br>x=%{x}<br>y=%{y}<extra></extra>\",\"legendgroup\":\"SUV - SMALL\",\"line\":{\"color\":\"#FF6692\",\"dash\":\"solid\"},\"marker\":{\"symbol\":\"circle\"},\"mode\":\"lines\",\"name\":\"SUV - SMALL\",\"orientation\":\"v\",\"showlegend\":true,\"x\":[2013,2014,2015,2016,2017,2018,2019,2020,2021,2022],\"xaxis\":\"x\",\"y\":[30.892086330935253,31.316129032258065,27.70949720670391,28.227777777777778,27.775862068965516,28.372881355932204,28.913793103448278,28.824468085106382,29.435233160621763,29.781725888324875],\"yaxis\":\"y\",\"type\":\"scatter\"}],                        {\"template\":{\"data\":{\"histogram2dcontour\":[{\"type\":\"histogram2dcontour\",\"colorbar\":{\"outlinewidth\":0,\"ticks\":\"\"},\"colorscale\":[[0.0,\"#0d0887\"],[0.1111111111111111,\"#46039f\"],[0.2222222222222222,\"#7201a8\"],[0.3333333333333333,\"#9c179e\"],[0.4444444444444444,\"#bd3786\"],[0.5555555555555556,\"#d8576b\"],[0.6666666666666666,\"#ed7953\"],[0.7777777777777778,\"#fb9f3a\"],[0.8888888888888888,\"#fdca26\"],[1.0,\"#f0f921\"]]}],\"choropleth\":[{\"type\":\"choropleth\",\"colorbar\":{\"outlinewidth\":0,\"ticks\":\"\"}}],\"histogram2d\":[{\"type\":\"histogram2d\",\"colorbar\":{\"outlinewidth\":0,\"ticks\":\"\"},\"colorscale\":[[0.0,\"#0d0887\"],[0.1111111111111111,\"#46039f\"],[0.2222222222222222,\"#7201a8\"],[0.3333333333333333,\"#9c179e\"],[0.4444444444444444,\"#bd3786\"],[0.5555555555555556,\"#d8576b\"],[0.6666666666666666,\"#ed7953\"],[0.7777777777777778,\"#fb9f3a\"],[0.8888888888888888,\"#fdca26\"],[1.0,\"#f0f921\"]]}],\"heatmap\":[{\"type\":\"heatmap\",\"colorbar\":{\"outlinewidth\":0,\"ticks\":\"\"},\"colorscale\":[[0.0,\"#0d0887\"],[0.1111111111111111,\"#46039f\"],[0.2222222222222222,\"#7201a8\"],[0.3333333333333333,\"#9c179e\"],[0.4444444444444444,\"#bd3786\"],[0.5555555555555556,\"#d8576b\"],[0.6666666666666666,\"#ed7953\"],[0.7777777777777778,\"#fb9f3a\"],[0.8888888888888888,\"#fdca26\"],[1.0,\"#f0f921\"]]}],\"heatmapgl\":[{\"type\":\"heatmapgl\",\"colorbar\":{\"outlinewidth\":0,\"ticks\":\"\"},\"colorscale\":[[0.0,\"#0d0887\"],[0.1111111111111111,\"#46039f\"],[0.2222222222222222,\"#7201a8\"],[0.3333333333333333,\"#9c179e\"],[0.4444444444444444,\"#bd3786\"],[0.5555555555555556,\"#d8576b\"],[0.6666666666666666,\"#ed7953\"],[0.7777777777777778,\"#fb9f3a\"],[0.8888888888888888,\"#fdca26\"],[1.0,\"#f0f921\"]]}],\"contourcarpet\":[{\"type\":\"contourcarpet\",\"colorbar\":{\"outlinewidth\":0,\"ticks\":\"\"}}],\"contour\":[{\"type\":\"contour\",\"colorbar\":{\"outlinewidth\":0,\"ticks\":\"\"},\"colorscale\":[[0.0,\"#0d0887\"],[0.1111111111111111,\"#46039f\"],[0.2222222222222222,\"#7201a8\"],[0.3333333333333333,\"#9c179e\"],[0.4444444444444444,\"#bd3786\"],[0.5555555555555556,\"#d8576b\"],[0.6666666666666666,\"#ed7953\"],[0.7777777777777778,\"#fb9f3a\"],[0.8888888888888888,\"#fdca26\"],[1.0,\"#f0f921\"]]}],\"surface\":[{\"type\":\"surface\",\"colorbar\":{\"outlinewidth\":0,\"ticks\":\"\"},\"colorscale\":[[0.0,\"#0d0887\"],[0.1111111111111111,\"#46039f\"],[0.2222222222222222,\"#7201a8\"],[0.3333333333333333,\"#9c179e\"],[0.4444444444444444,\"#bd3786\"],[0.5555555555555556,\"#d8576b\"],[0.6666666666666666,\"#ed7953\"],[0.7777777777777778,\"#fb9f3a\"],[0.8888888888888888,\"#fdca26\"],[1.0,\"#f0f921\"]]}],\"mesh3d\":[{\"type\":\"mesh3d\",\"colorbar\":{\"outlinewidth\":0,\"ticks\":\"\"}}],\"scatter\":[{\"fillpattern\":{\"fillmode\":\"overlay\",\"size\":10,\"solidity\":0.2},\"type\":\"scatter\"}],\"parcoords\":[{\"type\":\"parcoords\",\"line\":{\"colorbar\":{\"outlinewidth\":0,\"ticks\":\"\"}}}],\"scatterpolargl\":[{\"type\":\"scatterpolargl\",\"marker\":{\"colorbar\":{\"outlinewidth\":0,\"ticks\":\"\"}}}],\"bar\":[{\"error_x\":{\"color\":\"#2a3f5f\"},\"error_y\":{\"color\":\"#2a3f5f\"},\"marker\":{\"line\":{\"color\":\"#E5ECF6\",\"width\":0.5},\"pattern\":{\"fillmode\":\"overlay\",\"size\":10,\"solidity\":0.2}},\"type\":\"bar\"}],\"scattergeo\":[{\"type\":\"scattergeo\",\"marker\":{\"colorbar\":{\"outlinewidth\":0,\"ticks\":\"\"}}}],\"scatterpolar\":[{\"type\":\"scatterpolar\",\"marker\":{\"colorbar\":{\"outlinewidth\":0,\"ticks\":\"\"}}}],\"histogram\":[{\"marker\":{\"pattern\":{\"fillmode\":\"overlay\",\"size\":10,\"solidity\":0.2}},\"type\":\"histogram\"}],\"scattergl\":[{\"type\":\"scattergl\",\"marker\":{\"colorbar\":{\"outlinewidth\":0,\"ticks\":\"\"}}}],\"scatter3d\":[{\"type\":\"scatter3d\",\"line\":{\"colorbar\":{\"outlinewidth\":0,\"ticks\":\"\"}},\"marker\":{\"colorbar\":{\"outlinewidth\":0,\"ticks\":\"\"}}}],\"scattermapbox\":[{\"type\":\"scattermapbox\",\"marker\":{\"colorbar\":{\"outlinewidth\":0,\"ticks\":\"\"}}}],\"scatterternary\":[{\"type\":\"scatterternary\",\"marker\":{\"colorbar\":{\"outlinewidth\":0,\"ticks\":\"\"}}}],\"scattercarpet\":[{\"type\":\"scattercarpet\",\"marker\":{\"colorbar\":{\"outlinewidth\":0,\"ticks\":\"\"}}}],\"carpet\":[{\"aaxis\":{\"endlinecolor\":\"#2a3f5f\",\"gridcolor\":\"white\",\"linecolor\":\"white\",\"minorgridcolor\":\"white\",\"startlinecolor\":\"#2a3f5f\"},\"baxis\":{\"endlinecolor\":\"#2a3f5f\",\"gridcolor\":\"white\",\"linecolor\":\"white\",\"minorgridcolor\":\"white\",\"startlinecolor\":\"#2a3f5f\"},\"type\":\"carpet\"}],\"table\":[{\"cells\":{\"fill\":{\"color\":\"#EBF0F8\"},\"line\":{\"color\":\"white\"}},\"header\":{\"fill\":{\"color\":\"#C8D4E3\"},\"line\":{\"color\":\"white\"}},\"type\":\"table\"}],\"barpolar\":[{\"marker\":{\"line\":{\"color\":\"#E5ECF6\",\"width\":0.5},\"pattern\":{\"fillmode\":\"overlay\",\"size\":10,\"solidity\":0.2}},\"type\":\"barpolar\"}],\"pie\":[{\"automargin\":true,\"type\":\"pie\"}]},\"layout\":{\"autotypenumbers\":\"strict\",\"colorway\":[\"#636efa\",\"#EF553B\",\"#00cc96\",\"#ab63fa\",\"#FFA15A\",\"#19d3f3\",\"#FF6692\",\"#B6E880\",\"#FF97FF\",\"#FECB52\"],\"font\":{\"color\":\"#2a3f5f\"},\"hovermode\":\"closest\",\"hoverlabel\":{\"align\":\"left\"},\"paper_bgcolor\":\"white\",\"plot_bgcolor\":\"#E5ECF6\",\"polar\":{\"bgcolor\":\"#E5ECF6\",\"angularaxis\":{\"gridcolor\":\"white\",\"linecolor\":\"white\",\"ticks\":\"\"},\"radialaxis\":{\"gridcolor\":\"white\",\"linecolor\":\"white\",\"ticks\":\"\"}},\"ternary\":{\"bgcolor\":\"#E5ECF6\",\"aaxis\":{\"gridcolor\":\"white\",\"linecolor\":\"white\",\"ticks\":\"\"},\"baxis\":{\"gridcolor\":\"white\",\"linecolor\":\"white\",\"ticks\":\"\"},\"caxis\":{\"gridcolor\":\"white\",\"linecolor\":\"white\",\"ticks\":\"\"}},\"coloraxis\":{\"colorbar\":{\"outlinewidth\":0,\"ticks\":\"\"}},\"colorscale\":{\"sequential\":[[0.0,\"#0d0887\"],[0.1111111111111111,\"#46039f\"],[0.2222222222222222,\"#7201a8\"],[0.3333333333333333,\"#9c179e\"],[0.4444444444444444,\"#bd3786\"],[0.5555555555555556,\"#d8576b\"],[0.6666666666666666,\"#ed7953\"],[0.7777777777777778,\"#fb9f3a\"],[0.8888888888888888,\"#fdca26\"],[1.0,\"#f0f921\"]],\"sequentialminus\":[[0.0,\"#0d0887\"],[0.1111111111111111,\"#46039f\"],[0.2222222222222222,\"#7201a8\"],[0.3333333333333333,\"#9c179e\"],[0.4444444444444444,\"#bd3786\"],[0.5555555555555556,\"#d8576b\"],[0.6666666666666666,\"#ed7953\"],[0.7777777777777778,\"#fb9f3a\"],[0.8888888888888888,\"#fdca26\"],[1.0,\"#f0f921\"]],\"diverging\":[[0,\"#8e0152\"],[0.1,\"#c51b7d\"],[0.2,\"#de77ae\"],[0.3,\"#f1b6da\"],[0.4,\"#fde0ef\"],[0.5,\"#f7f7f7\"],[0.6,\"#e6f5d0\"],[0.7,\"#b8e186\"],[0.8,\"#7fbc41\"],[0.9,\"#4d9221\"],[1,\"#276419\"]]},\"xaxis\":{\"gridcolor\":\"white\",\"linecolor\":\"white\",\"ticks\":\"\",\"title\":{\"standoff\":15},\"zerolinecolor\":\"white\",\"automargin\":true,\"zerolinewidth\":2},\"yaxis\":{\"gridcolor\":\"white\",\"linecolor\":\"white\",\"ticks\":\"\",\"title\":{\"standoff\":15},\"zerolinecolor\":\"white\",\"automargin\":true,\"zerolinewidth\":2},\"scene\":{\"xaxis\":{\"backgroundcolor\":\"#E5ECF6\",\"gridcolor\":\"white\",\"linecolor\":\"white\",\"showbackground\":true,\"ticks\":\"\",\"zerolinecolor\":\"white\",\"gridwidth\":2},\"yaxis\":{\"backgroundcolor\":\"#E5ECF6\",\"gridcolor\":\"white\",\"linecolor\":\"white\",\"showbackground\":true,\"ticks\":\"\",\"zerolinecolor\":\"white\",\"gridwidth\":2},\"zaxis\":{\"backgroundcolor\":\"#E5ECF6\",\"gridcolor\":\"white\",\"linecolor\":\"white\",\"showbackground\":true,\"ticks\":\"\",\"zerolinecolor\":\"white\",\"gridwidth\":2}},\"shapedefaults\":{\"line\":{\"color\":\"#2a3f5f\"}},\"annotationdefaults\":{\"arrowcolor\":\"#2a3f5f\",\"arrowhead\":0,\"arrowwidth\":1},\"geo\":{\"bgcolor\":\"white\",\"landcolor\":\"#E5ECF6\",\"subunitcolor\":\"white\",\"showland\":true,\"showlakes\":true,\"lakecolor\":\"white\"},\"title\":{\"x\":0.05},\"mapbox\":{\"style\":\"light\"}}},\"xaxis\":{\"anchor\":\"y\",\"domain\":[0.0,1.0],\"title\":{\"text\":\"Year\"}},\"yaxis\":{\"anchor\":\"x\",\"domain\":[0.0,1.0],\"title\":{\"text\":\"Combined MPG Average\"}},\"legend\":{\"title\":{\"text\":\"Vehicle Class\"},\"tracegroupgap\":0},\"margin\":{\"t\":60},\"title\":{\"text\":\"Average Combined MPG per Vehicle Class per Year\"}},                        {\"responsive\": true}                    ).then(function(){\n",
       "                            \n",
       "var gd = document.getElementById('a8df6e11-1029-4624-b01d-31578d709f3e');\n",
       "var x = new MutationObserver(function (mutations, observer) {{\n",
       "        var display = window.getComputedStyle(gd).display;\n",
       "        if (!display || display === 'none') {{\n",
       "            console.log([gd, 'removed!']);\n",
       "            Plotly.purge(gd);\n",
       "            observer.disconnect();\n",
       "        }}\n",
       "}});\n",
       "\n",
       "// Listen for the removal of the full notebook cells\n",
       "var notebookContainer = gd.closest('#notebook-container');\n",
       "if (notebookContainer) {{\n",
       "    x.observe(notebookContainer, {childList: true});\n",
       "}}\n",
       "\n",
       "// Listen for the clearing of the current output cell\n",
       "var outputEl = gd.closest('.output');\n",
       "if (outputEl) {{\n",
       "    x.observe(outputEl, {childList: true});\n",
       "}}\n",
       "\n",
       "                        })                };                });            </script>        </div>"
      ]
     },
     "metadata": {},
     "output_type": "display_data"
    }
   ],
   "source": [
    "# create a BETTER plotly line chart figure\n",
    "fig_2 = px.line(\n",
    "    x = Year,\n",
    "    y = CombineMPG,\n",
    "    color = VehicleClass,\n",
    "    markers = False\n",
    ")\n",
    "\n",
    "fig_2.update_layout(\n",
    "    title = 'Average Combined MPG per Vehicle Class per Year',\n",
    "    xaxis_title = 'Year',\n",
    "    yaxis_title = 'Combined MPG Average',\n",
    "    legend_title = 'Vehicle Class'\n",
    ")\n",
    "\n",
    "fig_2.show()"
   ]
  },
  {
   "cell_type": "code",
   "execution_count": 53,
   "id": "b618f374",
   "metadata": {},
   "outputs": [
    {
     "data": {
      "application/vnd.plotly.v1+json": {
       "config": {
        "plotlyServerURL": "https://plot.ly"
       },
       "data": [
        {
         "hovertemplate": "color=COMPACT<br>animation_frame=2000<br>x=%{x}<br>y=%{y}<extra></extra>",
         "ids": [
          "COMPACT"
         ],
         "legendgroup": "COMPACT",
         "line": {
          "color": "#2E91E5",
          "dash": "solid"
         },
         "marker": {
          "symbol": "circle"
         },
         "mode": "markers+lines",
         "name": "COMPACT",
         "orientation": "v",
         "showlegend": true,
         "type": "scatter",
         "x": [
          2000
         ],
         "xaxis": "x",
         "y": [
          31.504761904761907
         ],
         "yaxis": "y"
        },
        {
         "hovertemplate": "color=FULL-SIZE<br>animation_frame=2000<br>x=%{x}<br>y=%{y}<extra></extra>",
         "ids": [
          "FULL-SIZE"
         ],
         "legendgroup": "FULL-SIZE",
         "line": {
          "color": "#E15F99",
          "dash": "solid"
         },
         "marker": {
          "symbol": "circle"
         },
         "mode": "markers+lines",
         "name": "FULL-SIZE",
         "orientation": "v",
         "showlegend": true,
         "type": "scatter",
         "x": [
          2000
         ],
         "xaxis": "x",
         "y": [
          26.428571428571427
         ],
         "yaxis": "y"
        },
        {
         "hovertemplate": "color=MID-SIZE<br>animation_frame=2000<br>x=%{x}<br>y=%{y}<extra></extra>",
         "ids": [
          "MID-SIZE"
         ],
         "legendgroup": "MID-SIZE",
         "line": {
          "color": "#1CA71C",
          "dash": "solid"
         },
         "marker": {
          "symbol": "circle"
         },
         "mode": "markers+lines",
         "name": "MID-SIZE",
         "orientation": "v",
         "showlegend": true,
         "type": "scatter",
         "x": [
          2000
         ],
         "xaxis": "x",
         "y": [
          27.441558441558442
         ],
         "yaxis": "y"
        },
        {
         "hovertemplate": "color=MINICOMPACT<br>animation_frame=2000<br>x=%{x}<br>y=%{y}<extra></extra>",
         "ids": [
          "MINICOMPACT"
         ],
         "legendgroup": "MINICOMPACT",
         "line": {
          "color": "#FB0D0D",
          "dash": "solid"
         },
         "marker": {
          "symbol": "circle"
         },
         "mode": "markers+lines",
         "name": "MINICOMPACT",
         "orientation": "v",
         "showlegend": true,
         "type": "scatter",
         "x": [
          2000
         ],
         "xaxis": "x",
         "y": [
          25.636363636363637
         ],
         "yaxis": "y"
        },
        {
         "hovertemplate": "color=MINIVAN<br>animation_frame=2000<br>x=%{x}<br>y=%{y}<extra></extra>",
         "ids": [
          "MINIVAN"
         ],
         "legendgroup": "MINIVAN",
         "line": {
          "color": "#DA16FF",
          "dash": "solid"
         },
         "marker": {
          "symbol": "circle"
         },
         "mode": "markers+lines",
         "name": "MINIVAN",
         "orientation": "v",
         "showlegend": true,
         "type": "scatter",
         "x": [
          2000
         ],
         "xaxis": "x",
         "y": [
          23.96153846153846
         ],
         "yaxis": "y"
        },
        {
         "hovertemplate": "color=PICKUP TRUCK - SMALL<br>animation_frame=2000<br>x=%{x}<br>y=%{y}<extra></extra>",
         "ids": [
          "PICKUP TRUCK - SMALL"
         ],
         "legendgroup": "PICKUP TRUCK - SMALL",
         "line": {
          "color": "#222A2A",
          "dash": "solid"
         },
         "marker": {
          "symbol": "circle"
         },
         "mode": "markers+lines",
         "name": "PICKUP TRUCK - SMALL",
         "orientation": "v",
         "showlegend": true,
         "type": "scatter",
         "x": [
          2000
         ],
         "xaxis": "x",
         "y": [
          26.272727272727273
         ],
         "yaxis": "y"
        },
        {
         "hovertemplate": "color=PICKUP TRUCK - STANDARD<br>animation_frame=2000<br>x=%{x}<br>y=%{y}<extra></extra>",
         "ids": [
          "PICKUP TRUCK - STANDARD"
         ],
         "legendgroup": "PICKUP TRUCK - STANDARD",
         "line": {
          "color": "#B68100",
          "dash": "solid"
         },
         "marker": {
          "symbol": "circle"
         },
         "mode": "markers+lines",
         "name": "PICKUP TRUCK - STANDARD",
         "orientation": "v",
         "showlegend": true,
         "type": "scatter",
         "x": [
          2000
         ],
         "xaxis": "x",
         "y": [
          20.945652173913043
         ],
         "yaxis": "y"
        },
        {
         "hovertemplate": "color=STATION WAGON - MID-SIZE<br>animation_frame=2000<br>x=%{x}<br>y=%{y}<extra></extra>",
         "ids": [
          "STATION WAGON - MID-SIZE"
         ],
         "legendgroup": "STATION WAGON - MID-SIZE",
         "line": {
          "color": "#750D86",
          "dash": "solid"
         },
         "marker": {
          "symbol": "circle"
         },
         "mode": "markers+lines",
         "name": "STATION WAGON - MID-SIZE",
         "orientation": "v",
         "showlegend": true,
         "type": "scatter",
         "x": [
          2000
         ],
         "xaxis": "x",
         "y": [
          28.44
         ],
         "yaxis": "y"
        },
        {
         "hovertemplate": "color=STATION WAGON - SMALL<br>animation_frame=2000<br>x=%{x}<br>y=%{y}<extra></extra>",
         "ids": [
          "STATION WAGON - SMALL"
         ],
         "legendgroup": "STATION WAGON - SMALL",
         "line": {
          "color": "#EB663B",
          "dash": "solid"
         },
         "marker": {
          "symbol": "circle"
         },
         "mode": "markers+lines",
         "name": "STATION WAGON - SMALL",
         "orientation": "v",
         "showlegend": true,
         "type": "scatter",
         "x": [
          2000
         ],
         "xaxis": "x",
         "y": [
          31.692307692307693
         ],
         "yaxis": "y"
        },
        {
         "hovertemplate": "color=SUBCOMPACT<br>animation_frame=2000<br>x=%{x}<br>y=%{y}<extra></extra>",
         "ids": [
          "SUBCOMPACT"
         ],
         "legendgroup": "SUBCOMPACT",
         "line": {
          "color": "#511CFB",
          "dash": "solid"
         },
         "marker": {
          "symbol": "circle"
         },
         "mode": "markers+lines",
         "name": "SUBCOMPACT",
         "orientation": "v",
         "showlegend": true,
         "type": "scatter",
         "x": [
          2000
         ],
         "xaxis": "x",
         "y": [
          31.48076923076923
         ],
         "yaxis": "y"
        },
        {
         "hovertemplate": "color=SUV<br>animation_frame=2000<br>x=%{x}<br>y=%{y}<extra></extra>",
         "ids": [
          "SUV"
         ],
         "legendgroup": "SUV",
         "line": {
          "color": "#00A08B",
          "dash": "solid"
         },
         "marker": {
          "symbol": "circle"
         },
         "mode": "markers+lines",
         "name": "SUV",
         "orientation": "v",
         "showlegend": true,
         "type": "scatter",
         "x": [
          2000
         ],
         "xaxis": "x",
         "y": [
          22.84536082474227
         ],
         "yaxis": "y"
        },
        {
         "hovertemplate": "color=TWO-SEATER<br>animation_frame=2000<br>x=%{x}<br>y=%{y}<extra></extra>",
         "ids": [
          "TWO-SEATER"
         ],
         "legendgroup": "TWO-SEATER",
         "line": {
          "color": "#FB00D1",
          "dash": "solid"
         },
         "marker": {
          "symbol": "circle"
         },
         "mode": "markers+lines",
         "name": "TWO-SEATER",
         "orientation": "v",
         "showlegend": true,
         "type": "scatter",
         "x": [
          2000
         ],
         "xaxis": "x",
         "y": [
          23.4
         ],
         "yaxis": "y"
        },
        {
         "hovertemplate": "color=VAN - CARGO<br>animation_frame=2000<br>x=%{x}<br>y=%{y}<extra></extra>",
         "ids": [
          "VAN - CARGO"
         ],
         "legendgroup": "VAN - CARGO",
         "line": {
          "color": "#FC0080",
          "dash": "solid"
         },
         "marker": {
          "symbol": "circle"
         },
         "mode": "markers+lines",
         "name": "VAN - CARGO",
         "orientation": "v",
         "showlegend": true,
         "type": "scatter",
         "x": [
          2000
         ],
         "xaxis": "x",
         "y": [
          19.82608695652174
         ],
         "yaxis": "y"
        },
        {
         "hovertemplate": "color=VAN - PASSENGER<br>animation_frame=2000<br>x=%{x}<br>y=%{y}<extra></extra>",
         "ids": [
          "VAN - PASSENGER"
         ],
         "legendgroup": "VAN - PASSENGER",
         "line": {
          "color": "#B2828D",
          "dash": "solid"
         },
         "marker": {
          "symbol": "circle"
         },
         "mode": "markers+lines",
         "name": "VAN - PASSENGER",
         "orientation": "v",
         "showlegend": true,
         "type": "scatter",
         "x": [
          2000
         ],
         "xaxis": "x",
         "y": [
          18.647058823529413
         ],
         "yaxis": "y"
        }
       ],
       "frames": [
        {
         "data": [
          {
           "hovertemplate": "color=COMPACT<br>animation_frame=2000<br>x=%{x}<br>y=%{y}<extra></extra>",
           "ids": [
            "COMPACT"
           ],
           "legendgroup": "COMPACT",
           "line": {
            "color": "#2E91E5",
            "dash": "solid"
           },
           "marker": {
            "symbol": "circle"
           },
           "mode": "markers+lines",
           "name": "COMPACT",
           "orientation": "v",
           "showlegend": true,
           "type": "scatter",
           "x": [
            2000
           ],
           "xaxis": "x",
           "y": [
            31.504761904761907
           ],
           "yaxis": "y"
          },
          {
           "hovertemplate": "color=FULL-SIZE<br>animation_frame=2000<br>x=%{x}<br>y=%{y}<extra></extra>",
           "ids": [
            "FULL-SIZE"
           ],
           "legendgroup": "FULL-SIZE",
           "line": {
            "color": "#E15F99",
            "dash": "solid"
           },
           "marker": {
            "symbol": "circle"
           },
           "mode": "markers+lines",
           "name": "FULL-SIZE",
           "orientation": "v",
           "showlegend": true,
           "type": "scatter",
           "x": [
            2000
           ],
           "xaxis": "x",
           "y": [
            26.428571428571427
           ],
           "yaxis": "y"
          },
          {
           "hovertemplate": "color=MID-SIZE<br>animation_frame=2000<br>x=%{x}<br>y=%{y}<extra></extra>",
           "ids": [
            "MID-SIZE"
           ],
           "legendgroup": "MID-SIZE",
           "line": {
            "color": "#1CA71C",
            "dash": "solid"
           },
           "marker": {
            "symbol": "circle"
           },
           "mode": "markers+lines",
           "name": "MID-SIZE",
           "orientation": "v",
           "showlegend": true,
           "type": "scatter",
           "x": [
            2000
           ],
           "xaxis": "x",
           "y": [
            27.441558441558442
           ],
           "yaxis": "y"
          },
          {
           "hovertemplate": "color=MINICOMPACT<br>animation_frame=2000<br>x=%{x}<br>y=%{y}<extra></extra>",
           "ids": [
            "MINICOMPACT"
           ],
           "legendgroup": "MINICOMPACT",
           "line": {
            "color": "#FB0D0D",
            "dash": "solid"
           },
           "marker": {
            "symbol": "circle"
           },
           "mode": "markers+lines",
           "name": "MINICOMPACT",
           "orientation": "v",
           "showlegend": true,
           "type": "scatter",
           "x": [
            2000
           ],
           "xaxis": "x",
           "y": [
            25.636363636363637
           ],
           "yaxis": "y"
          },
          {
           "hovertemplate": "color=MINIVAN<br>animation_frame=2000<br>x=%{x}<br>y=%{y}<extra></extra>",
           "ids": [
            "MINIVAN"
           ],
           "legendgroup": "MINIVAN",
           "line": {
            "color": "#DA16FF",
            "dash": "solid"
           },
           "marker": {
            "symbol": "circle"
           },
           "mode": "markers+lines",
           "name": "MINIVAN",
           "orientation": "v",
           "showlegend": true,
           "type": "scatter",
           "x": [
            2000
           ],
           "xaxis": "x",
           "y": [
            23.96153846153846
           ],
           "yaxis": "y"
          },
          {
           "hovertemplate": "color=PICKUP TRUCK - SMALL<br>animation_frame=2000<br>x=%{x}<br>y=%{y}<extra></extra>",
           "ids": [
            "PICKUP TRUCK - SMALL"
           ],
           "legendgroup": "PICKUP TRUCK - SMALL",
           "line": {
            "color": "#222A2A",
            "dash": "solid"
           },
           "marker": {
            "symbol": "circle"
           },
           "mode": "markers+lines",
           "name": "PICKUP TRUCK - SMALL",
           "orientation": "v",
           "showlegend": true,
           "type": "scatter",
           "x": [
            2000
           ],
           "xaxis": "x",
           "y": [
            26.272727272727273
           ],
           "yaxis": "y"
          },
          {
           "hovertemplate": "color=PICKUP TRUCK - STANDARD<br>animation_frame=2000<br>x=%{x}<br>y=%{y}<extra></extra>",
           "ids": [
            "PICKUP TRUCK - STANDARD"
           ],
           "legendgroup": "PICKUP TRUCK - STANDARD",
           "line": {
            "color": "#B68100",
            "dash": "solid"
           },
           "marker": {
            "symbol": "circle"
           },
           "mode": "markers+lines",
           "name": "PICKUP TRUCK - STANDARD",
           "orientation": "v",
           "showlegend": true,
           "type": "scatter",
           "x": [
            2000
           ],
           "xaxis": "x",
           "y": [
            20.945652173913043
           ],
           "yaxis": "y"
          },
          {
           "hovertemplate": "color=STATION WAGON - MID-SIZE<br>animation_frame=2000<br>x=%{x}<br>y=%{y}<extra></extra>",
           "ids": [
            "STATION WAGON - MID-SIZE"
           ],
           "legendgroup": "STATION WAGON - MID-SIZE",
           "line": {
            "color": "#750D86",
            "dash": "solid"
           },
           "marker": {
            "symbol": "circle"
           },
           "mode": "markers+lines",
           "name": "STATION WAGON - MID-SIZE",
           "orientation": "v",
           "showlegend": true,
           "type": "scatter",
           "x": [
            2000
           ],
           "xaxis": "x",
           "y": [
            28.44
           ],
           "yaxis": "y"
          },
          {
           "hovertemplate": "color=STATION WAGON - SMALL<br>animation_frame=2000<br>x=%{x}<br>y=%{y}<extra></extra>",
           "ids": [
            "STATION WAGON - SMALL"
           ],
           "legendgroup": "STATION WAGON - SMALL",
           "line": {
            "color": "#EB663B",
            "dash": "solid"
           },
           "marker": {
            "symbol": "circle"
           },
           "mode": "markers+lines",
           "name": "STATION WAGON - SMALL",
           "orientation": "v",
           "showlegend": true,
           "type": "scatter",
           "x": [
            2000
           ],
           "xaxis": "x",
           "y": [
            31.692307692307693
           ],
           "yaxis": "y"
          },
          {
           "hovertemplate": "color=SUBCOMPACT<br>animation_frame=2000<br>x=%{x}<br>y=%{y}<extra></extra>",
           "ids": [
            "SUBCOMPACT"
           ],
           "legendgroup": "SUBCOMPACT",
           "line": {
            "color": "#511CFB",
            "dash": "solid"
           },
           "marker": {
            "symbol": "circle"
           },
           "mode": "markers+lines",
           "name": "SUBCOMPACT",
           "orientation": "v",
           "showlegend": true,
           "type": "scatter",
           "x": [
            2000
           ],
           "xaxis": "x",
           "y": [
            31.48076923076923
           ],
           "yaxis": "y"
          },
          {
           "hovertemplate": "color=SUV<br>animation_frame=2000<br>x=%{x}<br>y=%{y}<extra></extra>",
           "ids": [
            "SUV"
           ],
           "legendgroup": "SUV",
           "line": {
            "color": "#00A08B",
            "dash": "solid"
           },
           "marker": {
            "symbol": "circle"
           },
           "mode": "markers+lines",
           "name": "SUV",
           "orientation": "v",
           "showlegend": true,
           "type": "scatter",
           "x": [
            2000
           ],
           "xaxis": "x",
           "y": [
            22.84536082474227
           ],
           "yaxis": "y"
          },
          {
           "hovertemplate": "color=TWO-SEATER<br>animation_frame=2000<br>x=%{x}<br>y=%{y}<extra></extra>",
           "ids": [
            "TWO-SEATER"
           ],
           "legendgroup": "TWO-SEATER",
           "line": {
            "color": "#FB00D1",
            "dash": "solid"
           },
           "marker": {
            "symbol": "circle"
           },
           "mode": "markers+lines",
           "name": "TWO-SEATER",
           "orientation": "v",
           "showlegend": true,
           "type": "scatter",
           "x": [
            2000
           ],
           "xaxis": "x",
           "y": [
            23.4
           ],
           "yaxis": "y"
          },
          {
           "hovertemplate": "color=VAN - CARGO<br>animation_frame=2000<br>x=%{x}<br>y=%{y}<extra></extra>",
           "ids": [
            "VAN - CARGO"
           ],
           "legendgroup": "VAN - CARGO",
           "line": {
            "color": "#FC0080",
            "dash": "solid"
           },
           "marker": {
            "symbol": "circle"
           },
           "mode": "markers+lines",
           "name": "VAN - CARGO",
           "orientation": "v",
           "showlegend": true,
           "type": "scatter",
           "x": [
            2000
           ],
           "xaxis": "x",
           "y": [
            19.82608695652174
           ],
           "yaxis": "y"
          },
          {
           "hovertemplate": "color=VAN - PASSENGER<br>animation_frame=2000<br>x=%{x}<br>y=%{y}<extra></extra>",
           "ids": [
            "VAN - PASSENGER"
           ],
           "legendgroup": "VAN - PASSENGER",
           "line": {
            "color": "#B2828D",
            "dash": "solid"
           },
           "marker": {
            "symbol": "circle"
           },
           "mode": "markers+lines",
           "name": "VAN - PASSENGER",
           "orientation": "v",
           "showlegend": true,
           "type": "scatter",
           "x": [
            2000
           ],
           "xaxis": "x",
           "y": [
            18.647058823529413
           ],
           "yaxis": "y"
          }
         ],
         "name": "2000"
        },
        {
         "data": [
          {
           "hovertemplate": "color=COMPACT<br>animation_frame=2001<br>x=%{x}<br>y=%{y}<extra></extra>",
           "ids": [
            "COMPACT"
           ],
           "legendgroup": "COMPACT",
           "line": {
            "color": "#2E91E5",
            "dash": "solid"
           },
           "marker": {
            "symbol": "circle"
           },
           "mode": "markers+lines",
           "name": "COMPACT",
           "orientation": "v",
           "showlegend": true,
           "type": "scatter",
           "x": [
            2001
           ],
           "xaxis": "x",
           "y": [
            31.93793103448276
           ],
           "yaxis": "y"
          },
          {
           "hovertemplate": "color=FULL-SIZE<br>animation_frame=2001<br>x=%{x}<br>y=%{y}<extra></extra>",
           "ids": [
            "FULL-SIZE"
           ],
           "legendgroup": "FULL-SIZE",
           "line": {
            "color": "#E15F99",
            "dash": "solid"
           },
           "marker": {
            "symbol": "circle"
           },
           "mode": "markers+lines",
           "name": "FULL-SIZE",
           "orientation": "v",
           "showlegend": true,
           "type": "scatter",
           "x": [
            2001
           ],
           "xaxis": "x",
           "y": [
            26.033333333333335
           ],
           "yaxis": "y"
          },
          {
           "hovertemplate": "color=MID-SIZE<br>animation_frame=2001<br>x=%{x}<br>y=%{y}<extra></extra>",
           "ids": [
            "MID-SIZE"
           ],
           "legendgroup": "MID-SIZE",
           "line": {
            "color": "#1CA71C",
            "dash": "solid"
           },
           "marker": {
            "symbol": "circle"
           },
           "mode": "markers+lines",
           "name": "MID-SIZE",
           "orientation": "v",
           "showlegend": true,
           "type": "scatter",
           "x": [
            2001
           ],
           "xaxis": "x",
           "y": [
            27.353658536585368
           ],
           "yaxis": "y"
          },
          {
           "hovertemplate": "color=MINICOMPACT<br>animation_frame=2001<br>x=%{x}<br>y=%{y}<extra></extra>",
           "ids": [
            "MINICOMPACT"
           ],
           "legendgroup": "MINICOMPACT",
           "line": {
            "color": "#FB0D0D",
            "dash": "solid"
           },
           "marker": {
            "symbol": "circle"
           },
           "mode": "markers+lines",
           "name": "MINICOMPACT",
           "orientation": "v",
           "showlegend": true,
           "type": "scatter",
           "x": [
            2001
           ],
           "xaxis": "x",
           "y": [
            25.235294117647058
           ],
           "yaxis": "y"
          },
          {
           "hovertemplate": "color=MINIVAN<br>animation_frame=2001<br>x=%{x}<br>y=%{y}<extra></extra>",
           "ids": [
            "MINIVAN"
           ],
           "legendgroup": "MINIVAN",
           "line": {
            "color": "#DA16FF",
            "dash": "solid"
           },
           "marker": {
            "symbol": "circle"
           },
           "mode": "markers+lines",
           "name": "MINIVAN",
           "orientation": "v",
           "showlegend": true,
           "type": "scatter",
           "x": [
            2001
           ],
           "xaxis": "x",
           "y": [
            24.88235294117647
           ],
           "yaxis": "y"
          },
          {
           "hovertemplate": "color=PICKUP TRUCK - SMALL<br>animation_frame=2001<br>x=%{x}<br>y=%{y}<extra></extra>",
           "ids": [
            "PICKUP TRUCK - SMALL"
           ],
           "legendgroup": "PICKUP TRUCK - SMALL",
           "line": {
            "color": "#222A2A",
            "dash": "solid"
           },
           "marker": {
            "symbol": "circle"
           },
           "mode": "markers+lines",
           "name": "PICKUP TRUCK - SMALL",
           "orientation": "v",
           "showlegend": true,
           "type": "scatter",
           "x": [
            2001
           ],
           "xaxis": "x",
           "y": [
            23.5
           ],
           "yaxis": "y"
          },
          {
           "hovertemplate": "color=PICKUP TRUCK - STANDARD<br>animation_frame=2001<br>x=%{x}<br>y=%{y}<extra></extra>",
           "ids": [
            "PICKUP TRUCK - STANDARD"
           ],
           "legendgroup": "PICKUP TRUCK - STANDARD",
           "line": {
            "color": "#B68100",
            "dash": "solid"
           },
           "marker": {
            "symbol": "circle"
           },
           "mode": "markers+lines",
           "name": "PICKUP TRUCK - STANDARD",
           "orientation": "v",
           "showlegend": true,
           "type": "scatter",
           "x": [
            2001
           ],
           "xaxis": "x",
           "y": [
            20.792079207920793
           ],
           "yaxis": "y"
          },
          {
           "hovertemplate": "color=STATION WAGON - MID-SIZE<br>animation_frame=2001<br>x=%{x}<br>y=%{y}<extra></extra>",
           "ids": [
            "STATION WAGON - MID-SIZE"
           ],
           "legendgroup": "STATION WAGON - MID-SIZE",
           "line": {
            "color": "#750D86",
            "dash": "solid"
           },
           "marker": {
            "symbol": "circle"
           },
           "mode": "markers+lines",
           "name": "STATION WAGON - MID-SIZE",
           "orientation": "v",
           "showlegend": true,
           "type": "scatter",
           "x": [
            2001
           ],
           "xaxis": "x",
           "y": [
            28.870967741935484
           ],
           "yaxis": "y"
          },
          {
           "hovertemplate": "color=STATION WAGON - SMALL<br>animation_frame=2001<br>x=%{x}<br>y=%{y}<extra></extra>",
           "ids": [
            "STATION WAGON - SMALL"
           ],
           "legendgroup": "STATION WAGON - SMALL",
           "line": {
            "color": "#EB663B",
            "dash": "solid"
           },
           "marker": {
            "symbol": "circle"
           },
           "mode": "markers+lines",
           "name": "STATION WAGON - SMALL",
           "orientation": "v",
           "showlegend": true,
           "type": "scatter",
           "x": [
            2001
           ],
           "xaxis": "x",
           "y": [
            31.916666666666668
           ],
           "yaxis": "y"
          },
          {
           "hovertemplate": "color=SUBCOMPACT<br>animation_frame=2001<br>x=%{x}<br>y=%{y}<extra></extra>",
           "ids": [
            "SUBCOMPACT"
           ],
           "legendgroup": "SUBCOMPACT",
           "line": {
            "color": "#511CFB",
            "dash": "solid"
           },
           "marker": {
            "symbol": "circle"
           },
           "mode": "markers+lines",
           "name": "SUBCOMPACT",
           "orientation": "v",
           "showlegend": true,
           "type": "scatter",
           "x": [
            2001
           ],
           "xaxis": "x",
           "y": [
            31.258064516129032
           ],
           "yaxis": "y"
          },
          {
           "hovertemplate": "color=SUV<br>animation_frame=2001<br>x=%{x}<br>y=%{y}<extra></extra>",
           "ids": [
            "SUV"
           ],
           "legendgroup": "SUV",
           "line": {
            "color": "#00A08B",
            "dash": "solid"
           },
           "marker": {
            "symbol": "circle"
           },
           "mode": "markers+lines",
           "name": "SUV",
           "orientation": "v",
           "showlegend": true,
           "type": "scatter",
           "x": [
            2001
           ],
           "xaxis": "x",
           "y": [
            23.081632653061224
           ],
           "yaxis": "y"
          },
          {
           "hovertemplate": "color=TWO-SEATER<br>animation_frame=2001<br>x=%{x}<br>y=%{y}<extra></extra>",
           "ids": [
            "TWO-SEATER"
           ],
           "legendgroup": "TWO-SEATER",
           "line": {
            "color": "#FB00D1",
            "dash": "solid"
           },
           "marker": {
            "symbol": "circle"
           },
           "mode": "markers+lines",
           "name": "TWO-SEATER",
           "orientation": "v",
           "showlegend": true,
           "type": "scatter",
           "x": [
            2001
           ],
           "xaxis": "x",
           "y": [
            27.548387096774192
           ],
           "yaxis": "y"
          },
          {
           "hovertemplate": "color=VAN - CARGO<br>animation_frame=2001<br>x=%{x}<br>y=%{y}<extra></extra>",
           "ids": [
            "VAN - CARGO"
           ],
           "legendgroup": "VAN - CARGO",
           "line": {
            "color": "#FC0080",
            "dash": "solid"
           },
           "marker": {
            "symbol": "circle"
           },
           "mode": "markers+lines",
           "name": "VAN - CARGO",
           "orientation": "v",
           "showlegend": true,
           "type": "scatter",
           "x": [
            2001
           ],
           "xaxis": "x",
           "y": [
            19.26086956521739
           ],
           "yaxis": "y"
          },
          {
           "hovertemplate": "color=VAN - PASSENGER<br>animation_frame=2001<br>x=%{x}<br>y=%{y}<extra></extra>",
           "ids": [
            "VAN - PASSENGER"
           ],
           "legendgroup": "VAN - PASSENGER",
           "line": {
            "color": "#B2828D",
            "dash": "solid"
           },
           "marker": {
            "symbol": "circle"
           },
           "mode": "markers+lines",
           "name": "VAN - PASSENGER",
           "orientation": "v",
           "showlegend": true,
           "type": "scatter",
           "x": [
            2001
           ],
           "xaxis": "x",
           "y": [
            19.055555555555557
           ],
           "yaxis": "y"
          }
         ],
         "name": "2001"
        },
        {
         "data": [
          {
           "hovertemplate": "color=COMPACT<br>animation_frame=2002<br>x=%{x}<br>y=%{y}<extra></extra>",
           "ids": [
            "COMPACT"
           ],
           "legendgroup": "COMPACT",
           "line": {
            "color": "#2E91E5",
            "dash": "solid"
           },
           "marker": {
            "symbol": "circle"
           },
           "mode": "markers+lines",
           "name": "COMPACT",
           "orientation": "v",
           "showlegend": true,
           "type": "scatter",
           "x": [
            2002
           ],
           "xaxis": "x",
           "y": [
            31.969924812030076
           ],
           "yaxis": "y"
          },
          {
           "hovertemplate": "color=FULL-SIZE<br>animation_frame=2002<br>x=%{x}<br>y=%{y}<extra></extra>",
           "ids": [
            "FULL-SIZE"
           ],
           "legendgroup": "FULL-SIZE",
           "line": {
            "color": "#E15F99",
            "dash": "solid"
           },
           "marker": {
            "symbol": "circle"
           },
           "mode": "markers+lines",
           "name": "FULL-SIZE",
           "orientation": "v",
           "showlegend": true,
           "type": "scatter",
           "x": [
            2002
           ],
           "xaxis": "x",
           "y": [
            25.689655172413794
           ],
           "yaxis": "y"
          },
          {
           "hovertemplate": "color=MID-SIZE<br>animation_frame=2002<br>x=%{x}<br>y=%{y}<extra></extra>",
           "ids": [
            "MID-SIZE"
           ],
           "legendgroup": "MID-SIZE",
           "line": {
            "color": "#1CA71C",
            "dash": "solid"
           },
           "marker": {
            "symbol": "circle"
           },
           "mode": "markers+lines",
           "name": "MID-SIZE",
           "orientation": "v",
           "showlegend": true,
           "type": "scatter",
           "x": [
            2002
           ],
           "xaxis": "x",
           "y": [
            27.444444444444443
           ],
           "yaxis": "y"
          },
          {
           "hovertemplate": "color=MINICOMPACT<br>animation_frame=2002<br>x=%{x}<br>y=%{y}<extra></extra>",
           "ids": [
            "MINICOMPACT"
           ],
           "legendgroup": "MINICOMPACT",
           "line": {
            "color": "#FB0D0D",
            "dash": "solid"
           },
           "marker": {
            "symbol": "circle"
           },
           "mode": "markers+lines",
           "name": "MINICOMPACT",
           "orientation": "v",
           "showlegend": true,
           "type": "scatter",
           "x": [
            2002
           ],
           "xaxis": "x",
           "y": [
            25.363636363636363
           ],
           "yaxis": "y"
          },
          {
           "hovertemplate": "color=MINIVAN<br>animation_frame=2002<br>x=%{x}<br>y=%{y}<extra></extra>",
           "ids": [
            "MINIVAN"
           ],
           "legendgroup": "MINIVAN",
           "line": {
            "color": "#DA16FF",
            "dash": "solid"
           },
           "marker": {
            "symbol": "circle"
           },
           "mode": "markers+lines",
           "name": "MINIVAN",
           "orientation": "v",
           "showlegend": true,
           "type": "scatter",
           "x": [
            2002
           ],
           "xaxis": "x",
           "y": [
            24.545454545454547
           ],
           "yaxis": "y"
          },
          {
           "hovertemplate": "color=PICKUP TRUCK - SMALL<br>animation_frame=2002<br>x=%{x}<br>y=%{y}<extra></extra>",
           "ids": [
            "PICKUP TRUCK - SMALL"
           ],
           "legendgroup": "PICKUP TRUCK - SMALL",
           "line": {
            "color": "#222A2A",
            "dash": "solid"
           },
           "marker": {
            "symbol": "circle"
           },
           "mode": "markers+lines",
           "name": "PICKUP TRUCK - SMALL",
           "orientation": "v",
           "showlegend": true,
           "type": "scatter",
           "x": [
            2002
           ],
           "xaxis": "x",
           "y": [
            23.166666666666668
           ],
           "yaxis": "y"
          },
          {
           "hovertemplate": "color=PICKUP TRUCK - STANDARD<br>animation_frame=2002<br>x=%{x}<br>y=%{y}<extra></extra>",
           "ids": [
            "PICKUP TRUCK - STANDARD"
           ],
           "legendgroup": "PICKUP TRUCK - STANDARD",
           "line": {
            "color": "#B68100",
            "dash": "solid"
           },
           "marker": {
            "symbol": "circle"
           },
           "mode": "markers+lines",
           "name": "PICKUP TRUCK - STANDARD",
           "orientation": "v",
           "showlegend": true,
           "type": "scatter",
           "x": [
            2002
           ],
           "xaxis": "x",
           "y": [
            20.177570093457945
           ],
           "yaxis": "y"
          },
          {
           "hovertemplate": "color=STATION WAGON - MID-SIZE<br>animation_frame=2002<br>x=%{x}<br>y=%{y}<extra></extra>",
           "ids": [
            "STATION WAGON - MID-SIZE"
           ],
           "legendgroup": "STATION WAGON - MID-SIZE",
           "line": {
            "color": "#750D86",
            "dash": "solid"
           },
           "marker": {
            "symbol": "circle"
           },
           "mode": "markers+lines",
           "name": "STATION WAGON - MID-SIZE",
           "orientation": "v",
           "showlegend": true,
           "type": "scatter",
           "x": [
            2002
           ],
           "xaxis": "x",
           "y": [
            29.15625
           ],
           "yaxis": "y"
          },
          {
           "hovertemplate": "color=STATION WAGON - SMALL<br>animation_frame=2002<br>x=%{x}<br>y=%{y}<extra></extra>",
           "ids": [
            "STATION WAGON - SMALL"
           ],
           "legendgroup": "STATION WAGON - SMALL",
           "line": {
            "color": "#EB663B",
            "dash": "solid"
           },
           "marker": {
            "symbol": "circle"
           },
           "mode": "markers+lines",
           "name": "STATION WAGON - SMALL",
           "orientation": "v",
           "showlegend": true,
           "type": "scatter",
           "x": [
            2002
           ],
           "xaxis": "x",
           "y": [
            29.27777777777778
           ],
           "yaxis": "y"
          },
          {
           "hovertemplate": "color=SUBCOMPACT<br>animation_frame=2002<br>x=%{x}<br>y=%{y}<extra></extra>",
           "ids": [
            "SUBCOMPACT"
           ],
           "legendgroup": "SUBCOMPACT",
           "line": {
            "color": "#511CFB",
            "dash": "solid"
           },
           "marker": {
            "symbol": "circle"
           },
           "mode": "markers+lines",
           "name": "SUBCOMPACT",
           "orientation": "v",
           "showlegend": true,
           "type": "scatter",
           "x": [
            2002
           ],
           "xaxis": "x",
           "y": [
            29.15068493150685
           ],
           "yaxis": "y"
          },
          {
           "hovertemplate": "color=SUV<br>animation_frame=2002<br>x=%{x}<br>y=%{y}<extra></extra>",
           "ids": [
            "SUV"
           ],
           "legendgroup": "SUV",
           "line": {
            "color": "#00A08B",
            "dash": "solid"
           },
           "marker": {
            "symbol": "circle"
           },
           "mode": "markers+lines",
           "name": "SUV",
           "orientation": "v",
           "showlegend": true,
           "type": "scatter",
           "x": [
            2002
           ],
           "xaxis": "x",
           "y": [
            22.572580645161292
           ],
           "yaxis": "y"
          },
          {
           "hovertemplate": "color=TWO-SEATER<br>animation_frame=2002<br>x=%{x}<br>y=%{y}<extra></extra>",
           "ids": [
            "TWO-SEATER"
           ],
           "legendgroup": "TWO-SEATER",
           "line": {
            "color": "#FB00D1",
            "dash": "solid"
           },
           "marker": {
            "symbol": "circle"
           },
           "mode": "markers+lines",
           "name": "TWO-SEATER",
           "orientation": "v",
           "showlegend": true,
           "type": "scatter",
           "x": [
            2002
           ],
           "xaxis": "x",
           "y": [
            25.972972972972972
           ],
           "yaxis": "y"
          },
          {
           "hovertemplate": "color=VAN - CARGO<br>animation_frame=2002<br>x=%{x}<br>y=%{y}<extra></extra>",
           "ids": [
            "VAN - CARGO"
           ],
           "legendgroup": "VAN - CARGO",
           "line": {
            "color": "#FC0080",
            "dash": "solid"
           },
           "marker": {
            "symbol": "circle"
           },
           "mode": "markers+lines",
           "name": "VAN - CARGO",
           "orientation": "v",
           "showlegend": true,
           "type": "scatter",
           "x": [
            2002
           ],
           "xaxis": "x",
           "y": [
            19.434782608695652
           ],
           "yaxis": "y"
          },
          {
           "hovertemplate": "color=VAN - PASSENGER<br>animation_frame=2002<br>x=%{x}<br>y=%{y}<extra></extra>",
           "ids": [
            "VAN - PASSENGER"
           ],
           "legendgroup": "VAN - PASSENGER",
           "line": {
            "color": "#B2828D",
            "dash": "solid"
           },
           "marker": {
            "symbol": "circle"
           },
           "mode": "markers+lines",
           "name": "VAN - PASSENGER",
           "orientation": "v",
           "showlegend": true,
           "type": "scatter",
           "x": [
            2002
           ],
           "xaxis": "x",
           "y": [
            18.77777777777778
           ],
           "yaxis": "y"
          }
         ],
         "name": "2002"
        },
        {
         "data": [
          {
           "hovertemplate": "color=COMPACT<br>animation_frame=2003<br>x=%{x}<br>y=%{y}<extra></extra>",
           "ids": [
            "COMPACT"
           ],
           "legendgroup": "COMPACT",
           "line": {
            "color": "#2E91E5",
            "dash": "solid"
           },
           "marker": {
            "symbol": "circle"
           },
           "mode": "markers+lines",
           "name": "COMPACT",
           "orientation": "v",
           "showlegend": true,
           "type": "scatter",
           "x": [
            2003
           ],
           "xaxis": "x",
           "y": [
            32.37062937062937
           ],
           "yaxis": "y"
          },
          {
           "hovertemplate": "color=FULL-SIZE<br>animation_frame=2003<br>x=%{x}<br>y=%{y}<extra></extra>",
           "ids": [
            "FULL-SIZE"
           ],
           "legendgroup": "FULL-SIZE",
           "line": {
            "color": "#E15F99",
            "dash": "solid"
           },
           "marker": {
            "symbol": "circle"
           },
           "mode": "markers+lines",
           "name": "FULL-SIZE",
           "orientation": "v",
           "showlegend": true,
           "type": "scatter",
           "x": [
            2003
           ],
           "xaxis": "x",
           "y": [
            26.28
           ],
           "yaxis": "y"
          },
          {
           "hovertemplate": "color=MID-SIZE<br>animation_frame=2003<br>x=%{x}<br>y=%{y}<extra></extra>",
           "ids": [
            "MID-SIZE"
           ],
           "legendgroup": "MID-SIZE",
           "line": {
            "color": "#1CA71C",
            "dash": "solid"
           },
           "marker": {
            "symbol": "circle"
           },
           "mode": "markers+lines",
           "name": "MID-SIZE",
           "orientation": "v",
           "showlegend": true,
           "type": "scatter",
           "x": [
            2003
           ],
           "xaxis": "x",
           "y": [
            27.48314606741573
           ],
           "yaxis": "y"
          },
          {
           "hovertemplate": "color=MINICOMPACT<br>animation_frame=2003<br>x=%{x}<br>y=%{y}<extra></extra>",
           "ids": [
            "MINICOMPACT"
           ],
           "legendgroup": "MINICOMPACT",
           "line": {
            "color": "#FB0D0D",
            "dash": "solid"
           },
           "marker": {
            "symbol": "circle"
           },
           "mode": "markers+lines",
           "name": "MINICOMPACT",
           "orientation": "v",
           "showlegend": true,
           "type": "scatter",
           "x": [
            2003
           ],
           "xaxis": "x",
           "y": [
            27.575757575757574
           ],
           "yaxis": "y"
          },
          {
           "hovertemplate": "color=MINIVAN<br>animation_frame=2003<br>x=%{x}<br>y=%{y}<extra></extra>",
           "ids": [
            "MINIVAN"
           ],
           "legendgroup": "MINIVAN",
           "line": {
            "color": "#DA16FF",
            "dash": "solid"
           },
           "marker": {
            "symbol": "circle"
           },
           "mode": "markers+lines",
           "name": "MINIVAN",
           "orientation": "v",
           "showlegend": true,
           "type": "scatter",
           "x": [
            2003
           ],
           "xaxis": "x",
           "y": [
            24.392857142857142
           ],
           "yaxis": "y"
          },
          {
           "hovertemplate": "color=PICKUP TRUCK - SMALL<br>animation_frame=2003<br>x=%{x}<br>y=%{y}<extra></extra>",
           "ids": [
            "PICKUP TRUCK - SMALL"
           ],
           "legendgroup": "PICKUP TRUCK - SMALL",
           "line": {
            "color": "#222A2A",
            "dash": "solid"
           },
           "marker": {
            "symbol": "circle"
           },
           "mode": "markers+lines",
           "name": "PICKUP TRUCK - SMALL",
           "orientation": "v",
           "showlegend": true,
           "type": "scatter",
           "x": [
            2003
           ],
           "xaxis": "x",
           "y": [
            24.75
           ],
           "yaxis": "y"
          },
          {
           "hovertemplate": "color=PICKUP TRUCK - STANDARD<br>animation_frame=2003<br>x=%{x}<br>y=%{y}<extra></extra>",
           "ids": [
            "PICKUP TRUCK - STANDARD"
           ],
           "legendgroup": "PICKUP TRUCK - STANDARD",
           "line": {
            "color": "#B68100",
            "dash": "solid"
           },
           "marker": {
            "symbol": "circle"
           },
           "mode": "markers+lines",
           "name": "PICKUP TRUCK - STANDARD",
           "orientation": "v",
           "showlegend": true,
           "type": "scatter",
           "x": [
            2003
           ],
           "xaxis": "x",
           "y": [
            21.00943396226415
           ],
           "yaxis": "y"
          },
          {
           "hovertemplate": "color=STATION WAGON - MID-SIZE<br>animation_frame=2003<br>x=%{x}<br>y=%{y}<extra></extra>",
           "ids": [
            "STATION WAGON - MID-SIZE"
           ],
           "legendgroup": "STATION WAGON - MID-SIZE",
           "line": {
            "color": "#750D86",
            "dash": "solid"
           },
           "marker": {
            "symbol": "circle"
           },
           "mode": "markers+lines",
           "name": "STATION WAGON - MID-SIZE",
           "orientation": "v",
           "showlegend": true,
           "type": "scatter",
           "x": [
            2003
           ],
           "xaxis": "x",
           "y": [
            29
           ],
           "yaxis": "y"
          },
          {
           "hovertemplate": "color=STATION WAGON - SMALL<br>animation_frame=2003<br>x=%{x}<br>y=%{y}<extra></extra>",
           "ids": [
            "STATION WAGON - SMALL"
           ],
           "legendgroup": "STATION WAGON - SMALL",
           "line": {
            "color": "#EB663B",
            "dash": "solid"
           },
           "marker": {
            "symbol": "circle"
           },
           "mode": "markers+lines",
           "name": "STATION WAGON - SMALL",
           "orientation": "v",
           "showlegend": true,
           "type": "scatter",
           "x": [
            2003
           ],
           "xaxis": "x",
           "y": [
            31.644444444444446
           ],
           "yaxis": "y"
          },
          {
           "hovertemplate": "color=SUBCOMPACT<br>animation_frame=2003<br>x=%{x}<br>y=%{y}<extra></extra>",
           "ids": [
            "SUBCOMPACT"
           ],
           "legendgroup": "SUBCOMPACT",
           "line": {
            "color": "#511CFB",
            "dash": "solid"
           },
           "marker": {
            "symbol": "circle"
           },
           "mode": "markers+lines",
           "name": "SUBCOMPACT",
           "orientation": "v",
           "showlegend": true,
           "type": "scatter",
           "x": [
            2003
           ],
           "xaxis": "x",
           "y": [
            27.984615384615385
           ],
           "yaxis": "y"
          },
          {
           "hovertemplate": "color=SUV<br>animation_frame=2003<br>x=%{x}<br>y=%{y}<extra></extra>",
           "ids": [
            "SUV"
           ],
           "legendgroup": "SUV",
           "line": {
            "color": "#00A08B",
            "dash": "solid"
           },
           "marker": {
            "symbol": "circle"
           },
           "mode": "markers+lines",
           "name": "SUV",
           "orientation": "v",
           "showlegend": true,
           "type": "scatter",
           "x": [
            2003
           ],
           "xaxis": "x",
           "y": [
            22.5125
           ],
           "yaxis": "y"
          },
          {
           "hovertemplate": "color=TWO-SEATER<br>animation_frame=2003<br>x=%{x}<br>y=%{y}<extra></extra>",
           "ids": [
            "TWO-SEATER"
           ],
           "legendgroup": "TWO-SEATER",
           "line": {
            "color": "#FB00D1",
            "dash": "solid"
           },
           "marker": {
            "symbol": "circle"
           },
           "mode": "markers+lines",
           "name": "TWO-SEATER",
           "orientation": "v",
           "showlegend": true,
           "type": "scatter",
           "x": [
            2003
           ],
           "xaxis": "x",
           "y": [
            25.475
           ],
           "yaxis": "y"
          },
          {
           "hovertemplate": "color=VAN - CARGO<br>animation_frame=2003<br>x=%{x}<br>y=%{y}<extra></extra>",
           "ids": [
            "VAN - CARGO"
           ],
           "legendgroup": "VAN - CARGO",
           "line": {
            "color": "#FC0080",
            "dash": "solid"
           },
           "marker": {
            "symbol": "circle"
           },
           "mode": "markers+lines",
           "name": "VAN - CARGO",
           "orientation": "v",
           "showlegend": true,
           "type": "scatter",
           "x": [
            2003
           ],
           "xaxis": "x",
           "y": [
            18.666666666666668
           ],
           "yaxis": "y"
          },
          {
           "hovertemplate": "color=VAN - PASSENGER<br>animation_frame=2003<br>x=%{x}<br>y=%{y}<extra></extra>",
           "ids": [
            "VAN - PASSENGER"
           ],
           "legendgroup": "VAN - PASSENGER",
           "line": {
            "color": "#B2828D",
            "dash": "solid"
           },
           "marker": {
            "symbol": "circle"
           },
           "mode": "markers+lines",
           "name": "VAN - PASSENGER",
           "orientation": "v",
           "showlegend": true,
           "type": "scatter",
           "x": [
            2003
           ],
           "xaxis": "x",
           "y": [
            18.615384615384617
           ],
           "yaxis": "y"
          }
         ],
         "name": "2003"
        },
        {
         "data": [
          {
           "hovertemplate": "color=COMPACT<br>animation_frame=2004<br>x=%{x}<br>y=%{y}<extra></extra>",
           "ids": [
            "COMPACT"
           ],
           "legendgroup": "COMPACT",
           "line": {
            "color": "#2E91E5",
            "dash": "solid"
           },
           "marker": {
            "symbol": "circle"
           },
           "mode": "markers+lines",
           "name": "COMPACT",
           "orientation": "v",
           "showlegend": true,
           "type": "scatter",
           "x": [
            2004
           ],
           "xaxis": "x",
           "y": [
            31.603896103896105
           ],
           "yaxis": "y"
          },
          {
           "hovertemplate": "color=FULL-SIZE<br>animation_frame=2004<br>x=%{x}<br>y=%{y}<extra></extra>",
           "ids": [
            "FULL-SIZE"
           ],
           "legendgroup": "FULL-SIZE",
           "line": {
            "color": "#E15F99",
            "dash": "solid"
           },
           "marker": {
            "symbol": "circle"
           },
           "mode": "markers+lines",
           "name": "FULL-SIZE",
           "orientation": "v",
           "showlegend": true,
           "type": "scatter",
           "x": [
            2004
           ],
           "xaxis": "x",
           "y": [
            24.735294117647058
           ],
           "yaxis": "y"
          },
          {
           "hovertemplate": "color=MID-SIZE<br>animation_frame=2004<br>x=%{x}<br>y=%{y}<extra></extra>",
           "ids": [
            "MID-SIZE"
           ],
           "legendgroup": "MID-SIZE",
           "line": {
            "color": "#1CA71C",
            "dash": "solid"
           },
           "marker": {
            "symbol": "circle"
           },
           "mode": "markers+lines",
           "name": "MID-SIZE",
           "orientation": "v",
           "showlegend": true,
           "type": "scatter",
           "x": [
            2004
           ],
           "xaxis": "x",
           "y": [
            27.92233009708738
           ],
           "yaxis": "y"
          },
          {
           "hovertemplate": "color=MINICOMPACT<br>animation_frame=2004<br>x=%{x}<br>y=%{y}<extra></extra>",
           "ids": [
            "MINICOMPACT"
           ],
           "legendgroup": "MINICOMPACT",
           "line": {
            "color": "#FB0D0D",
            "dash": "solid"
           },
           "marker": {
            "symbol": "circle"
           },
           "mode": "markers+lines",
           "name": "MINICOMPACT",
           "orientation": "v",
           "showlegend": true,
           "type": "scatter",
           "x": [
            2004
           ],
           "xaxis": "x",
           "y": [
            29.2
           ],
           "yaxis": "y"
          },
          {
           "hovertemplate": "color=MINIVAN<br>animation_frame=2004<br>x=%{x}<br>y=%{y}<extra></extra>",
           "ids": [
            "MINIVAN"
           ],
           "legendgroup": "MINIVAN",
           "line": {
            "color": "#DA16FF",
            "dash": "solid"
           },
           "marker": {
            "symbol": "circle"
           },
           "mode": "markers+lines",
           "name": "MINIVAN",
           "orientation": "v",
           "showlegend": true,
           "type": "scatter",
           "x": [
            2004
           ],
           "xaxis": "x",
           "y": [
            25.571428571428573
           ],
           "yaxis": "y"
          },
          {
           "hovertemplate": "color=PICKUP TRUCK - SMALL<br>animation_frame=2004<br>x=%{x}<br>y=%{y}<extra></extra>",
           "ids": [
            "PICKUP TRUCK - SMALL"
           ],
           "legendgroup": "PICKUP TRUCK - SMALL",
           "line": {
            "color": "#222A2A",
            "dash": "solid"
           },
           "marker": {
            "symbol": "circle"
           },
           "mode": "markers+lines",
           "name": "PICKUP TRUCK - SMALL",
           "orientation": "v",
           "showlegend": true,
           "type": "scatter",
           "x": [
            2004
           ],
           "xaxis": "x",
           "y": [
            20
           ],
           "yaxis": "y"
          },
          {
           "hovertemplate": "color=PICKUP TRUCK - STANDARD<br>animation_frame=2004<br>x=%{x}<br>y=%{y}<extra></extra>",
           "ids": [
            "PICKUP TRUCK - STANDARD"
           ],
           "legendgroup": "PICKUP TRUCK - STANDARD",
           "line": {
            "color": "#B68100",
            "dash": "solid"
           },
           "marker": {
            "symbol": "circle"
           },
           "mode": "markers+lines",
           "name": "PICKUP TRUCK - STANDARD",
           "orientation": "v",
           "showlegend": true,
           "type": "scatter",
           "x": [
            2004
           ],
           "xaxis": "x",
           "y": [
            20.66393442622951
           ],
           "yaxis": "y"
          },
          {
           "hovertemplate": "color=STATION WAGON - MID-SIZE<br>animation_frame=2004<br>x=%{x}<br>y=%{y}<extra></extra>",
           "ids": [
            "STATION WAGON - MID-SIZE"
           ],
           "legendgroup": "STATION WAGON - MID-SIZE",
           "line": {
            "color": "#750D86",
            "dash": "solid"
           },
           "marker": {
            "symbol": "circle"
           },
           "mode": "markers+lines",
           "name": "STATION WAGON - MID-SIZE",
           "orientation": "v",
           "showlegend": true,
           "type": "scatter",
           "x": [
            2004
           ],
           "xaxis": "x",
           "y": [
            28.414634146341463
           ],
           "yaxis": "y"
          },
          {
           "hovertemplate": "color=STATION WAGON - SMALL<br>animation_frame=2004<br>x=%{x}<br>y=%{y}<extra></extra>",
           "ids": [
            "STATION WAGON - SMALL"
           ],
           "legendgroup": "STATION WAGON - SMALL",
           "line": {
            "color": "#EB663B",
            "dash": "solid"
           },
           "marker": {
            "symbol": "circle"
           },
           "mode": "markers+lines",
           "name": "STATION WAGON - SMALL",
           "orientation": "v",
           "showlegend": true,
           "type": "scatter",
           "x": [
            2004
           ],
           "xaxis": "x",
           "y": [
            31.27906976744186
           ],
           "yaxis": "y"
          },
          {
           "hovertemplate": "color=SUBCOMPACT<br>animation_frame=2004<br>x=%{x}<br>y=%{y}<extra></extra>",
           "ids": [
            "SUBCOMPACT"
           ],
           "legendgroup": "SUBCOMPACT",
           "line": {
            "color": "#511CFB",
            "dash": "solid"
           },
           "marker": {
            "symbol": "circle"
           },
           "mode": "markers+lines",
           "name": "SUBCOMPACT",
           "orientation": "v",
           "showlegend": true,
           "type": "scatter",
           "x": [
            2004
           ],
           "xaxis": "x",
           "y": [
            28.96511627906977
           ],
           "yaxis": "y"
          },
          {
           "hovertemplate": "color=SUV<br>animation_frame=2004<br>x=%{x}<br>y=%{y}<extra></extra>",
           "ids": [
            "SUV"
           ],
           "legendgroup": "SUV",
           "line": {
            "color": "#00A08B",
            "dash": "solid"
           },
           "marker": {
            "symbol": "circle"
           },
           "mode": "markers+lines",
           "name": "SUV",
           "orientation": "v",
           "showlegend": true,
           "type": "scatter",
           "x": [
            2004
           ],
           "xaxis": "x",
           "y": [
            21.957894736842107
           ],
           "yaxis": "y"
          },
          {
           "hovertemplate": "color=TWO-SEATER<br>animation_frame=2004<br>x=%{x}<br>y=%{y}<extra></extra>",
           "ids": [
            "TWO-SEATER"
           ],
           "legendgroup": "TWO-SEATER",
           "line": {
            "color": "#FB00D1",
            "dash": "solid"
           },
           "marker": {
            "symbol": "circle"
           },
           "mode": "markers+lines",
           "name": "TWO-SEATER",
           "orientation": "v",
           "showlegend": true,
           "type": "scatter",
           "x": [
            2004
           ],
           "xaxis": "x",
           "y": [
            25.065217391304348
           ],
           "yaxis": "y"
          },
          {
           "hovertemplate": "color=VAN - CARGO<br>animation_frame=2004<br>x=%{x}<br>y=%{y}<extra></extra>",
           "ids": [
            "VAN - CARGO"
           ],
           "legendgroup": "VAN - CARGO",
           "line": {
            "color": "#FC0080",
            "dash": "solid"
           },
           "marker": {
            "symbol": "circle"
           },
           "mode": "markers+lines",
           "name": "VAN - CARGO",
           "orientation": "v",
           "showlegend": true,
           "type": "scatter",
           "x": [
            2004
           ],
           "xaxis": "x",
           "y": [
            18.80952380952381
           ],
           "yaxis": "y"
          },
          {
           "hovertemplate": "color=VAN - PASSENGER<br>animation_frame=2004<br>x=%{x}<br>y=%{y}<extra></extra>",
           "ids": [
            "VAN - PASSENGER"
           ],
           "legendgroup": "VAN - PASSENGER",
           "line": {
            "color": "#B2828D",
            "dash": "solid"
           },
           "marker": {
            "symbol": "circle"
           },
           "mode": "markers+lines",
           "name": "VAN - PASSENGER",
           "orientation": "v",
           "showlegend": true,
           "type": "scatter",
           "x": [
            2004
           ],
           "xaxis": "x",
           "y": [
            19.181818181818183
           ],
           "yaxis": "y"
          }
         ],
         "name": "2004"
        },
        {
         "data": [
          {
           "hovertemplate": "color=COMPACT<br>animation_frame=2005<br>x=%{x}<br>y=%{y}<extra></extra>",
           "ids": [
            "COMPACT"
           ],
           "legendgroup": "COMPACT",
           "line": {
            "color": "#2E91E5",
            "dash": "solid"
           },
           "marker": {
            "symbol": "circle"
           },
           "mode": "markers+lines",
           "name": "COMPACT",
           "orientation": "v",
           "showlegend": true,
           "type": "scatter",
           "x": [
            2005
           ],
           "xaxis": "x",
           "y": [
            31.698630136986303
           ],
           "yaxis": "y"
          },
          {
           "hovertemplate": "color=FULL-SIZE<br>animation_frame=2005<br>x=%{x}<br>y=%{y}<extra></extra>",
           "ids": [
            "FULL-SIZE"
           ],
           "legendgroup": "FULL-SIZE",
           "line": {
            "color": "#E15F99",
            "dash": "solid"
           },
           "marker": {
            "symbol": "circle"
           },
           "mode": "markers+lines",
           "name": "FULL-SIZE",
           "orientation": "v",
           "showlegend": true,
           "type": "scatter",
           "x": [
            2005
           ],
           "xaxis": "x",
           "y": [
            24.155555555555555
           ],
           "yaxis": "y"
          },
          {
           "hovertemplate": "color=MID-SIZE<br>animation_frame=2005<br>x=%{x}<br>y=%{y}<extra></extra>",
           "ids": [
            "MID-SIZE"
           ],
           "legendgroup": "MID-SIZE",
           "line": {
            "color": "#1CA71C",
            "dash": "solid"
           },
           "marker": {
            "symbol": "circle"
           },
           "mode": "markers+lines",
           "name": "MID-SIZE",
           "orientation": "v",
           "showlegend": true,
           "type": "scatter",
           "x": [
            2005
           ],
           "xaxis": "x",
           "y": [
            28.140350877192983
           ],
           "yaxis": "y"
          },
          {
           "hovertemplate": "color=MINICOMPACT<br>animation_frame=2005<br>x=%{x}<br>y=%{y}<extra></extra>",
           "ids": [
            "MINICOMPACT"
           ],
           "legendgroup": "MINICOMPACT",
           "line": {
            "color": "#FB0D0D",
            "dash": "solid"
           },
           "marker": {
            "symbol": "circle"
           },
           "mode": "markers+lines",
           "name": "MINICOMPACT",
           "orientation": "v",
           "showlegend": true,
           "type": "scatter",
           "x": [
            2005
           ],
           "xaxis": "x",
           "y": [
            26.256756756756758
           ],
           "yaxis": "y"
          },
          {
           "hovertemplate": "color=MINIVAN<br>animation_frame=2005<br>x=%{x}<br>y=%{y}<extra></extra>",
           "ids": [
            "MINIVAN"
           ],
           "legendgroup": "MINIVAN",
           "line": {
            "color": "#DA16FF",
            "dash": "solid"
           },
           "marker": {
            "symbol": "circle"
           },
           "mode": "markers+lines",
           "name": "MINIVAN",
           "orientation": "v",
           "showlegend": true,
           "type": "scatter",
           "x": [
            2005
           ],
           "xaxis": "x",
           "y": [
            24.727272727272727
           ],
           "yaxis": "y"
          },
          {
           "hovertemplate": "color=PICKUP TRUCK - STANDARD<br>animation_frame=2005<br>x=%{x}<br>y=%{y}<extra></extra>",
           "ids": [
            "PICKUP TRUCK - STANDARD"
           ],
           "legendgroup": "PICKUP TRUCK - STANDARD",
           "line": {
            "color": "#B68100",
            "dash": "solid"
           },
           "marker": {
            "symbol": "circle"
           },
           "mode": "markers+lines",
           "name": "PICKUP TRUCK - STANDARD",
           "orientation": "v",
           "showlegend": true,
           "type": "scatter",
           "x": [
            2005
           ],
           "xaxis": "x",
           "y": [
            21.393700787401574
           ],
           "yaxis": "y"
          },
          {
           "hovertemplate": "color=STATION WAGON - MID-SIZE<br>animation_frame=2005<br>x=%{x}<br>y=%{y}<extra></extra>",
           "ids": [
            "STATION WAGON - MID-SIZE"
           ],
           "legendgroup": "STATION WAGON - MID-SIZE",
           "line": {
            "color": "#750D86",
            "dash": "solid"
           },
           "marker": {
            "symbol": "circle"
           },
           "mode": "markers+lines",
           "name": "STATION WAGON - MID-SIZE",
           "orientation": "v",
           "showlegend": true,
           "type": "scatter",
           "x": [
            2005
           ],
           "xaxis": "x",
           "y": [
            28.210526315789473
           ],
           "yaxis": "y"
          },
          {
           "hovertemplate": "color=STATION WAGON - SMALL<br>animation_frame=2005<br>x=%{x}<br>y=%{y}<extra></extra>",
           "ids": [
            "STATION WAGON - SMALL"
           ],
           "legendgroup": "STATION WAGON - SMALL",
           "line": {
            "color": "#EB663B",
            "dash": "solid"
           },
           "marker": {
            "symbol": "circle"
           },
           "mode": "markers+lines",
           "name": "STATION WAGON - SMALL",
           "orientation": "v",
           "showlegend": true,
           "type": "scatter",
           "x": [
            2005
           ],
           "xaxis": "x",
           "y": [
            30.814814814814813
           ],
           "yaxis": "y"
          },
          {
           "hovertemplate": "color=SUBCOMPACT<br>animation_frame=2005<br>x=%{x}<br>y=%{y}<extra></extra>",
           "ids": [
            "SUBCOMPACT"
           ],
           "legendgroup": "SUBCOMPACT",
           "line": {
            "color": "#511CFB",
            "dash": "solid"
           },
           "marker": {
            "symbol": "circle"
           },
           "mode": "markers+lines",
           "name": "SUBCOMPACT",
           "orientation": "v",
           "showlegend": true,
           "type": "scatter",
           "x": [
            2005
           ],
           "xaxis": "x",
           "y": [
            29.82758620689655
           ],
           "yaxis": "y"
          },
          {
           "hovertemplate": "color=SUV<br>animation_frame=2005<br>x=%{x}<br>y=%{y}<extra></extra>",
           "ids": [
            "SUV"
           ],
           "legendgroup": "SUV",
           "line": {
            "color": "#00A08B",
            "dash": "solid"
           },
           "marker": {
            "symbol": "circle"
           },
           "mode": "markers+lines",
           "name": "SUV",
           "orientation": "v",
           "showlegend": true,
           "type": "scatter",
           "x": [
            2005
           ],
           "xaxis": "x",
           "y": [
            23
           ],
           "yaxis": "y"
          },
          {
           "hovertemplate": "color=TWO-SEATER<br>animation_frame=2005<br>x=%{x}<br>y=%{y}<extra></extra>",
           "ids": [
            "TWO-SEATER"
           ],
           "legendgroup": "TWO-SEATER",
           "line": {
            "color": "#FB00D1",
            "dash": "solid"
           },
           "marker": {
            "symbol": "circle"
           },
           "mode": "markers+lines",
           "name": "TWO-SEATER",
           "orientation": "v",
           "showlegend": true,
           "type": "scatter",
           "x": [
            2005
           ],
           "xaxis": "x",
           "y": [
            26.03846153846154
           ],
           "yaxis": "y"
          },
          {
           "hovertemplate": "color=VAN - CARGO<br>animation_frame=2005<br>x=%{x}<br>y=%{y}<extra></extra>",
           "ids": [
            "VAN - CARGO"
           ],
           "legendgroup": "VAN - CARGO",
           "line": {
            "color": "#FC0080",
            "dash": "solid"
           },
           "marker": {
            "symbol": "circle"
           },
           "mode": "markers+lines",
           "name": "VAN - CARGO",
           "orientation": "v",
           "showlegend": true,
           "type": "scatter",
           "x": [
            2005
           ],
           "xaxis": "x",
           "y": [
            20.384615384615383
           ],
           "yaxis": "y"
          },
          {
           "hovertemplate": "color=VAN - PASSENGER<br>animation_frame=2005<br>x=%{x}<br>y=%{y}<extra></extra>",
           "ids": [
            "VAN - PASSENGER"
           ],
           "legendgroup": "VAN - PASSENGER",
           "line": {
            "color": "#B2828D",
            "dash": "solid"
           },
           "marker": {
            "symbol": "circle"
           },
           "mode": "markers+lines",
           "name": "VAN - PASSENGER",
           "orientation": "v",
           "showlegend": true,
           "type": "scatter",
           "x": [
            2005
           ],
           "xaxis": "x",
           "y": [
            19.666666666666668
           ],
           "yaxis": "y"
          }
         ],
         "name": "2005"
        },
        {
         "data": [
          {
           "hovertemplate": "color=COMPACT<br>animation_frame=2006<br>x=%{x}<br>y=%{y}<extra></extra>",
           "ids": [
            "COMPACT"
           ],
           "legendgroup": "COMPACT",
           "line": {
            "color": "#2E91E5",
            "dash": "solid"
           },
           "marker": {
            "symbol": "circle"
           },
           "mode": "markers+lines",
           "name": "COMPACT",
           "orientation": "v",
           "showlegend": true,
           "type": "scatter",
           "x": [
            2006
           ],
           "xaxis": "x",
           "y": [
            31.233576642335766
           ],
           "yaxis": "y"
          },
          {
           "hovertemplate": "color=FULL-SIZE<br>animation_frame=2006<br>x=%{x}<br>y=%{y}<extra></extra>",
           "ids": [
            "FULL-SIZE"
           ],
           "legendgroup": "FULL-SIZE",
           "line": {
            "color": "#E15F99",
            "dash": "solid"
           },
           "marker": {
            "symbol": "circle"
           },
           "mode": "markers+lines",
           "name": "FULL-SIZE",
           "orientation": "v",
           "showlegend": true,
           "type": "scatter",
           "x": [
            2006
           ],
           "xaxis": "x",
           "y": [
            24.625
           ],
           "yaxis": "y"
          },
          {
           "hovertemplate": "color=MID-SIZE<br>animation_frame=2006<br>x=%{x}<br>y=%{y}<extra></extra>",
           "ids": [
            "MID-SIZE"
           ],
           "legendgroup": "MID-SIZE",
           "line": {
            "color": "#1CA71C",
            "dash": "solid"
           },
           "marker": {
            "symbol": "circle"
           },
           "mode": "markers+lines",
           "name": "MID-SIZE",
           "orientation": "v",
           "showlegend": true,
           "type": "scatter",
           "x": [
            2006
           ],
           "xaxis": "x",
           "y": [
            28.18918918918919
           ],
           "yaxis": "y"
          },
          {
           "hovertemplate": "color=MINICOMPACT<br>animation_frame=2006<br>x=%{x}<br>y=%{y}<extra></extra>",
           "ids": [
            "MINICOMPACT"
           ],
           "legendgroup": "MINICOMPACT",
           "line": {
            "color": "#FB0D0D",
            "dash": "solid"
           },
           "marker": {
            "symbol": "circle"
           },
           "mode": "markers+lines",
           "name": "MINICOMPACT",
           "orientation": "v",
           "showlegend": true,
           "type": "scatter",
           "x": [
            2006
           ],
           "xaxis": "x",
           "y": [
            28.43243243243243
           ],
           "yaxis": "y"
          },
          {
           "hovertemplate": "color=MINIVAN<br>animation_frame=2006<br>x=%{x}<br>y=%{y}<extra></extra>",
           "ids": [
            "MINIVAN"
           ],
           "legendgroup": "MINIVAN",
           "line": {
            "color": "#DA16FF",
            "dash": "solid"
           },
           "marker": {
            "symbol": "circle"
           },
           "mode": "markers+lines",
           "name": "MINIVAN",
           "orientation": "v",
           "showlegend": true,
           "type": "scatter",
           "x": [
            2006
           ],
           "xaxis": "x",
           "y": [
            24.714285714285715
           ],
           "yaxis": "y"
          },
          {
           "hovertemplate": "color=PICKUP TRUCK - STANDARD<br>animation_frame=2006<br>x=%{x}<br>y=%{y}<extra></extra>",
           "ids": [
            "PICKUP TRUCK - STANDARD"
           ],
           "legendgroup": "PICKUP TRUCK - STANDARD",
           "line": {
            "color": "#B68100",
            "dash": "solid"
           },
           "marker": {
            "symbol": "circle"
           },
           "mode": "markers+lines",
           "name": "PICKUP TRUCK - STANDARD",
           "orientation": "v",
           "showlegend": true,
           "type": "scatter",
           "x": [
            2006
           ],
           "xaxis": "x",
           "y": [
            21.907801418439718
           ],
           "yaxis": "y"
          },
          {
           "hovertemplate": "color=STATION WAGON - MID-SIZE<br>animation_frame=2006<br>x=%{x}<br>y=%{y}<extra></extra>",
           "ids": [
            "STATION WAGON - MID-SIZE"
           ],
           "legendgroup": "STATION WAGON - MID-SIZE",
           "line": {
            "color": "#750D86",
            "dash": "solid"
           },
           "marker": {
            "symbol": "circle"
           },
           "mode": "markers+lines",
           "name": "STATION WAGON - MID-SIZE",
           "orientation": "v",
           "showlegend": true,
           "type": "scatter",
           "x": [
            2006
           ],
           "xaxis": "x",
           "y": [
            28.035714285714285
           ],
           "yaxis": "y"
          },
          {
           "hovertemplate": "color=STATION WAGON - SMALL<br>animation_frame=2006<br>x=%{x}<br>y=%{y}<extra></extra>",
           "ids": [
            "STATION WAGON - SMALL"
           ],
           "legendgroup": "STATION WAGON - SMALL",
           "line": {
            "color": "#EB663B",
            "dash": "solid"
           },
           "marker": {
            "symbol": "circle"
           },
           "mode": "markers+lines",
           "name": "STATION WAGON - SMALL",
           "orientation": "v",
           "showlegend": true,
           "type": "scatter",
           "x": [
            2006
           ],
           "xaxis": "x",
           "y": [
            31.735849056603772
           ],
           "yaxis": "y"
          },
          {
           "hovertemplate": "color=SUBCOMPACT<br>animation_frame=2006<br>x=%{x}<br>y=%{y}<extra></extra>",
           "ids": [
            "SUBCOMPACT"
           ],
           "legendgroup": "SUBCOMPACT",
           "line": {
            "color": "#511CFB",
            "dash": "solid"
           },
           "marker": {
            "symbol": "circle"
           },
           "mode": "markers+lines",
           "name": "SUBCOMPACT",
           "orientation": "v",
           "showlegend": true,
           "type": "scatter",
           "x": [
            2006
           ],
           "xaxis": "x",
           "y": [
            29.743589743589745
           ],
           "yaxis": "y"
          },
          {
           "hovertemplate": "color=SUV<br>animation_frame=2006<br>x=%{x}<br>y=%{y}<extra></extra>",
           "ids": [
            "SUV"
           ],
           "legendgroup": "SUV",
           "line": {
            "color": "#00A08B",
            "dash": "solid"
           },
           "marker": {
            "symbol": "circle"
           },
           "mode": "markers+lines",
           "name": "SUV",
           "orientation": "v",
           "showlegend": true,
           "type": "scatter",
           "x": [
            2006
           ],
           "xaxis": "x",
           "y": [
            23.755656108597286
           ],
           "yaxis": "y"
          },
          {
           "hovertemplate": "color=TWO-SEATER<br>animation_frame=2006<br>x=%{x}<br>y=%{y}<extra></extra>",
           "ids": [
            "TWO-SEATER"
           ],
           "legendgroup": "TWO-SEATER",
           "line": {
            "color": "#FB00D1",
            "dash": "solid"
           },
           "marker": {
            "symbol": "circle"
           },
           "mode": "markers+lines",
           "name": "TWO-SEATER",
           "orientation": "v",
           "showlegend": true,
           "type": "scatter",
           "x": [
            2006
           ],
           "xaxis": "x",
           "y": [
            26.93877551020408
           ],
           "yaxis": "y"
          },
          {
           "hovertemplate": "color=VAN - CARGO<br>animation_frame=2006<br>x=%{x}<br>y=%{y}<extra></extra>",
           "ids": [
            "VAN - CARGO"
           ],
           "legendgroup": "VAN - CARGO",
           "line": {
            "color": "#FC0080",
            "dash": "solid"
           },
           "marker": {
            "symbol": "circle"
           },
           "mode": "markers+lines",
           "name": "VAN - CARGO",
           "orientation": "v",
           "showlegend": true,
           "type": "scatter",
           "x": [
            2006
           ],
           "xaxis": "x",
           "y": [
            20.214285714285715
           ],
           "yaxis": "y"
          },
          {
           "hovertemplate": "color=VAN - PASSENGER<br>animation_frame=2006<br>x=%{x}<br>y=%{y}<extra></extra>",
           "ids": [
            "VAN - PASSENGER"
           ],
           "legendgroup": "VAN - PASSENGER",
           "line": {
            "color": "#B2828D",
            "dash": "solid"
           },
           "marker": {
            "symbol": "circle"
           },
           "mode": "markers+lines",
           "name": "VAN - PASSENGER",
           "orientation": "v",
           "showlegend": true,
           "type": "scatter",
           "x": [
            2006
           ],
           "xaxis": "x",
           "y": [
            19.75
           ],
           "yaxis": "y"
          }
         ],
         "name": "2006"
        },
        {
         "data": [
          {
           "hovertemplate": "color=COMPACT<br>animation_frame=2007<br>x=%{x}<br>y=%{y}<extra></extra>",
           "ids": [
            "COMPACT"
           ],
           "legendgroup": "COMPACT",
           "line": {
            "color": "#2E91E5",
            "dash": "solid"
           },
           "marker": {
            "symbol": "circle"
           },
           "mode": "markers+lines",
           "name": "COMPACT",
           "orientation": "v",
           "showlegend": true,
           "type": "scatter",
           "x": [
            2007
           ],
           "xaxis": "x",
           "y": [
            30.25
           ],
           "yaxis": "y"
          },
          {
           "hovertemplate": "color=FULL-SIZE<br>animation_frame=2007<br>x=%{x}<br>y=%{y}<extra></extra>",
           "ids": [
            "FULL-SIZE"
           ],
           "legendgroup": "FULL-SIZE",
           "line": {
            "color": "#E15F99",
            "dash": "solid"
           },
           "marker": {
            "symbol": "circle"
           },
           "mode": "markers+lines",
           "name": "FULL-SIZE",
           "orientation": "v",
           "showlegend": true,
           "type": "scatter",
           "x": [
            2007
           ],
           "xaxis": "x",
           "y": [
            24.462962962962962
           ],
           "yaxis": "y"
          },
          {
           "hovertemplate": "color=MID-SIZE<br>animation_frame=2007<br>x=%{x}<br>y=%{y}<extra></extra>",
           "ids": [
            "MID-SIZE"
           ],
           "legendgroup": "MID-SIZE",
           "line": {
            "color": "#1CA71C",
            "dash": "solid"
           },
           "marker": {
            "symbol": "circle"
           },
           "mode": "markers+lines",
           "name": "MID-SIZE",
           "orientation": "v",
           "showlegend": true,
           "type": "scatter",
           "x": [
            2007
           ],
           "xaxis": "x",
           "y": [
            29.115107913669064
           ],
           "yaxis": "y"
          },
          {
           "hovertemplate": "color=MINICOMPACT<br>animation_frame=2007<br>x=%{x}<br>y=%{y}<extra></extra>",
           "ids": [
            "MINICOMPACT"
           ],
           "legendgroup": "MINICOMPACT",
           "line": {
            "color": "#FB0D0D",
            "dash": "solid"
           },
           "marker": {
            "symbol": "circle"
           },
           "mode": "markers+lines",
           "name": "MINICOMPACT",
           "orientation": "v",
           "showlegend": true,
           "type": "scatter",
           "x": [
            2007
           ],
           "xaxis": "x",
           "y": [
            27.5531914893617
           ],
           "yaxis": "y"
          },
          {
           "hovertemplate": "color=MINIVAN<br>animation_frame=2007<br>x=%{x}<br>y=%{y}<extra></extra>",
           "ids": [
            "MINIVAN"
           ],
           "legendgroup": "MINIVAN",
           "line": {
            "color": "#DA16FF",
            "dash": "solid"
           },
           "marker": {
            "symbol": "circle"
           },
           "mode": "markers+lines",
           "name": "MINIVAN",
           "orientation": "v",
           "showlegend": true,
           "type": "scatter",
           "x": [
            2007
           ],
           "xaxis": "x",
           "y": [
            24.08823529411765
           ],
           "yaxis": "y"
          },
          {
           "hovertemplate": "color=PICKUP TRUCK - STANDARD<br>animation_frame=2007<br>x=%{x}<br>y=%{y}<extra></extra>",
           "ids": [
            "PICKUP TRUCK - STANDARD"
           ],
           "legendgroup": "PICKUP TRUCK - STANDARD",
           "line": {
            "color": "#B68100",
            "dash": "solid"
           },
           "marker": {
            "symbol": "circle"
           },
           "mode": "markers+lines",
           "name": "PICKUP TRUCK - STANDARD",
           "orientation": "v",
           "showlegend": true,
           "type": "scatter",
           "x": [
            2007
           ],
           "xaxis": "x",
           "y": [
            21.623376623376622
           ],
           "yaxis": "y"
          },
          {
           "hovertemplate": "color=STATION WAGON - MID-SIZE<br>animation_frame=2007<br>x=%{x}<br>y=%{y}<extra></extra>",
           "ids": [
            "STATION WAGON - MID-SIZE"
           ],
           "legendgroup": "STATION WAGON - MID-SIZE",
           "line": {
            "color": "#750D86",
            "dash": "solid"
           },
           "marker": {
            "symbol": "circle"
           },
           "mode": "markers+lines",
           "name": "STATION WAGON - MID-SIZE",
           "orientation": "v",
           "showlegend": true,
           "type": "scatter",
           "x": [
            2007
           ],
           "xaxis": "x",
           "y": [
            28.625
           ],
           "yaxis": "y"
          },
          {
           "hovertemplate": "color=STATION WAGON - SMALL<br>animation_frame=2007<br>x=%{x}<br>y=%{y}<extra></extra>",
           "ids": [
            "STATION WAGON - SMALL"
           ],
           "legendgroup": "STATION WAGON - SMALL",
           "line": {
            "color": "#EB663B",
            "dash": "solid"
           },
           "marker": {
            "symbol": "circle"
           },
           "mode": "markers+lines",
           "name": "STATION WAGON - SMALL",
           "orientation": "v",
           "showlegend": true,
           "type": "scatter",
           "x": [
            2007
           ],
           "xaxis": "x",
           "y": [
            31.59090909090909
           ],
           "yaxis": "y"
          },
          {
           "hovertemplate": "color=SUBCOMPACT<br>animation_frame=2007<br>x=%{x}<br>y=%{y}<extra></extra>",
           "ids": [
            "SUBCOMPACT"
           ],
           "legendgroup": "SUBCOMPACT",
           "line": {
            "color": "#511CFB",
            "dash": "solid"
           },
           "marker": {
            "symbol": "circle"
           },
           "mode": "markers+lines",
           "name": "SUBCOMPACT",
           "orientation": "v",
           "showlegend": true,
           "type": "scatter",
           "x": [
            2007
           ],
           "xaxis": "x",
           "y": [
            29.50602409638554
           ],
           "yaxis": "y"
          },
          {
           "hovertemplate": "color=SUV<br>animation_frame=2007<br>x=%{x}<br>y=%{y}<extra></extra>",
           "ids": [
            "SUV"
           ],
           "legendgroup": "SUV",
           "line": {
            "color": "#00A08B",
            "dash": "solid"
           },
           "marker": {
            "symbol": "circle"
           },
           "mode": "markers+lines",
           "name": "SUV",
           "orientation": "v",
           "showlegend": true,
           "type": "scatter",
           "x": [
            2007
           ],
           "xaxis": "x",
           "y": [
            24.748953974895397
           ],
           "yaxis": "y"
          },
          {
           "hovertemplate": "color=TWO-SEATER<br>animation_frame=2007<br>x=%{x}<br>y=%{y}<extra></extra>",
           "ids": [
            "TWO-SEATER"
           ],
           "legendgroup": "TWO-SEATER",
           "line": {
            "color": "#FB00D1",
            "dash": "solid"
           },
           "marker": {
            "symbol": "circle"
           },
           "mode": "markers+lines",
           "name": "TWO-SEATER",
           "orientation": "v",
           "showlegend": true,
           "type": "scatter",
           "x": [
            2007
           ],
           "xaxis": "x",
           "y": [
            25.049180327868854
           ],
           "yaxis": "y"
          },
          {
           "hovertemplate": "color=VAN - CARGO<br>animation_frame=2007<br>x=%{x}<br>y=%{y}<extra></extra>",
           "ids": [
            "VAN - CARGO"
           ],
           "legendgroup": "VAN - CARGO",
           "line": {
            "color": "#FC0080",
            "dash": "solid"
           },
           "marker": {
            "symbol": "circle"
           },
           "mode": "markers+lines",
           "name": "VAN - CARGO",
           "orientation": "v",
           "showlegend": true,
           "type": "scatter",
           "x": [
            2007
           ],
           "xaxis": "x",
           "y": [
            18.666666666666668
           ],
           "yaxis": "y"
          },
          {
           "hovertemplate": "color=VAN - PASSENGER<br>animation_frame=2007<br>x=%{x}<br>y=%{y}<extra></extra>",
           "ids": [
            "VAN - PASSENGER"
           ],
           "legendgroup": "VAN - PASSENGER",
           "line": {
            "color": "#B2828D",
            "dash": "solid"
           },
           "marker": {
            "symbol": "circle"
           },
           "mode": "markers+lines",
           "name": "VAN - PASSENGER",
           "orientation": "v",
           "showlegend": true,
           "type": "scatter",
           "x": [
            2007
           ],
           "xaxis": "x",
           "y": [
            17.5
           ],
           "yaxis": "y"
          },
          {
           "hovertemplate": "color=SUV - STANDARD<br>animation_frame=2007<br>x=%{x}<br>y=%{y}<extra></extra>",
           "ids": [
            "SUV - STANDARD"
           ],
           "legendgroup": "SUV - STANDARD",
           "line": {
            "color": "#6C7C32",
            "dash": "solid"
           },
           "marker": {
            "symbol": "circle"
           },
           "mode": "markers+lines",
           "name": "SUV - STANDARD",
           "orientation": "v",
           "showlegend": true,
           "type": "scatter",
           "x": [
            2007
           ],
           "xaxis": "x",
           "y": [
            20
           ],
           "yaxis": "y"
          }
         ],
         "name": "2007"
        },
        {
         "data": [
          {
           "hovertemplate": "color=COMPACT<br>animation_frame=2008<br>x=%{x}<br>y=%{y}<extra></extra>",
           "ids": [
            "COMPACT"
           ],
           "legendgroup": "COMPACT",
           "line": {
            "color": "#2E91E5",
            "dash": "solid"
           },
           "marker": {
            "symbol": "circle"
           },
           "mode": "markers+lines",
           "name": "COMPACT",
           "orientation": "v",
           "showlegend": true,
           "type": "scatter",
           "x": [
            2008
           ],
           "xaxis": "x",
           "y": [
            30.2027027027027
           ],
           "yaxis": "y"
          },
          {
           "hovertemplate": "color=FULL-SIZE<br>animation_frame=2008<br>x=%{x}<br>y=%{y}<extra></extra>",
           "ids": [
            "FULL-SIZE"
           ],
           "legendgroup": "FULL-SIZE",
           "line": {
            "color": "#E15F99",
            "dash": "solid"
           },
           "marker": {
            "symbol": "circle"
           },
           "mode": "markers+lines",
           "name": "FULL-SIZE",
           "orientation": "v",
           "showlegend": true,
           "type": "scatter",
           "x": [
            2008
           ],
           "xaxis": "x",
           "y": [
            24.50793650793651
           ],
           "yaxis": "y"
          },
          {
           "hovertemplate": "color=MID-SIZE<br>animation_frame=2008<br>x=%{x}<br>y=%{y}<extra></extra>",
           "ids": [
            "MID-SIZE"
           ],
           "legendgroup": "MID-SIZE",
           "line": {
            "color": "#1CA71C",
            "dash": "solid"
           },
           "marker": {
            "symbol": "circle"
           },
           "mode": "markers+lines",
           "name": "MID-SIZE",
           "orientation": "v",
           "showlegend": true,
           "type": "scatter",
           "x": [
            2008
           ],
           "xaxis": "x",
           "y": [
            28.970149253731343
           ],
           "yaxis": "y"
          },
          {
           "hovertemplate": "color=MINICOMPACT<br>animation_frame=2008<br>x=%{x}<br>y=%{y}<extra></extra>",
           "ids": [
            "MINICOMPACT"
           ],
           "legendgroup": "MINICOMPACT",
           "line": {
            "color": "#FB0D0D",
            "dash": "solid"
           },
           "marker": {
            "symbol": "circle"
           },
           "mode": "markers+lines",
           "name": "MINICOMPACT",
           "orientation": "v",
           "showlegend": true,
           "type": "scatter",
           "x": [
            2008
           ],
           "xaxis": "x",
           "y": [
            27.897959183673468
           ],
           "yaxis": "y"
          },
          {
           "hovertemplate": "color=MINIVAN<br>animation_frame=2008<br>x=%{x}<br>y=%{y}<extra></extra>",
           "ids": [
            "MINIVAN"
           ],
           "legendgroup": "MINIVAN",
           "line": {
            "color": "#DA16FF",
            "dash": "solid"
           },
           "marker": {
            "symbol": "circle"
           },
           "mode": "markers+lines",
           "name": "MINIVAN",
           "orientation": "v",
           "showlegend": true,
           "type": "scatter",
           "x": [
            2008
           ],
           "xaxis": "x",
           "y": [
            25
           ],
           "yaxis": "y"
          },
          {
           "hovertemplate": "color=PICKUP TRUCK - SMALL<br>animation_frame=2008<br>x=%{x}<br>y=%{y}<extra></extra>",
           "ids": [
            "PICKUP TRUCK - SMALL"
           ],
           "legendgroup": "PICKUP TRUCK - SMALL",
           "line": {
            "color": "#222A2A",
            "dash": "solid"
           },
           "marker": {
            "symbol": "circle"
           },
           "mode": "markers+lines",
           "name": "PICKUP TRUCK - SMALL",
           "orientation": "v",
           "showlegend": true,
           "type": "scatter",
           "x": [
            2008
           ],
           "xaxis": "x",
           "y": [
            24.76923076923077
           ],
           "yaxis": "y"
          },
          {
           "hovertemplate": "color=PICKUP TRUCK - STANDARD<br>animation_frame=2008<br>x=%{x}<br>y=%{y}<extra></extra>",
           "ids": [
            "PICKUP TRUCK - STANDARD"
           ],
           "legendgroup": "PICKUP TRUCK - STANDARD",
           "line": {
            "color": "#B68100",
            "dash": "solid"
           },
           "marker": {
            "symbol": "circle"
           },
           "mode": "markers+lines",
           "name": "PICKUP TRUCK - STANDARD",
           "orientation": "v",
           "showlegend": true,
           "type": "scatter",
           "x": [
            2008
           ],
           "xaxis": "x",
           "y": [
            20.09722222222222
           ],
           "yaxis": "y"
          },
          {
           "hovertemplate": "color=STATION WAGON - MID-SIZE<br>animation_frame=2008<br>x=%{x}<br>y=%{y}<extra></extra>",
           "ids": [
            "STATION WAGON - MID-SIZE"
           ],
           "legendgroup": "STATION WAGON - MID-SIZE",
           "line": {
            "color": "#750D86",
            "dash": "solid"
           },
           "marker": {
            "symbol": "circle"
           },
           "mode": "markers+lines",
           "name": "STATION WAGON - MID-SIZE",
           "orientation": "v",
           "showlegend": true,
           "type": "scatter",
           "x": [
            2008
           ],
           "xaxis": "x",
           "y": [
            28.5
           ],
           "yaxis": "y"
          },
          {
           "hovertemplate": "color=STATION WAGON - SMALL<br>animation_frame=2008<br>x=%{x}<br>y=%{y}<extra></extra>",
           "ids": [
            "STATION WAGON - SMALL"
           ],
           "legendgroup": "STATION WAGON - SMALL",
           "line": {
            "color": "#EB663B",
            "dash": "solid"
           },
           "marker": {
            "symbol": "circle"
           },
           "mode": "markers+lines",
           "name": "STATION WAGON - SMALL",
           "orientation": "v",
           "showlegend": true,
           "type": "scatter",
           "x": [
            2008
           ],
           "xaxis": "x",
           "y": [
            31.58139534883721
           ],
           "yaxis": "y"
          },
          {
           "hovertemplate": "color=SUBCOMPACT<br>animation_frame=2008<br>x=%{x}<br>y=%{y}<extra></extra>",
           "ids": [
            "SUBCOMPACT"
           ],
           "legendgroup": "SUBCOMPACT",
           "line": {
            "color": "#511CFB",
            "dash": "solid"
           },
           "marker": {
            "symbol": "circle"
           },
           "mode": "markers+lines",
           "name": "SUBCOMPACT",
           "orientation": "v",
           "showlegend": true,
           "type": "scatter",
           "x": [
            2008
           ],
           "xaxis": "x",
           "y": [
            29.86
           ],
           "yaxis": "y"
          },
          {
           "hovertemplate": "color=SUV<br>animation_frame=2008<br>x=%{x}<br>y=%{y}<extra></extra>",
           "ids": [
            "SUV"
           ],
           "legendgroup": "SUV",
           "line": {
            "color": "#00A08B",
            "dash": "solid"
           },
           "marker": {
            "symbol": "circle"
           },
           "mode": "markers+lines",
           "name": "SUV",
           "orientation": "v",
           "showlegend": true,
           "type": "scatter",
           "x": [
            2008
           ],
           "xaxis": "x",
           "y": [
            24.95505617977528
           ],
           "yaxis": "y"
          },
          {
           "hovertemplate": "color=TWO-SEATER<br>animation_frame=2008<br>x=%{x}<br>y=%{y}<extra></extra>",
           "ids": [
            "TWO-SEATER"
           ],
           "legendgroup": "TWO-SEATER",
           "line": {
            "color": "#FB00D1",
            "dash": "solid"
           },
           "marker": {
            "symbol": "circle"
           },
           "mode": "markers+lines",
           "name": "TWO-SEATER",
           "orientation": "v",
           "showlegend": true,
           "type": "scatter",
           "x": [
            2008
           ],
           "xaxis": "x",
           "y": [
            25.575342465753426
           ],
           "yaxis": "y"
          },
          {
           "hovertemplate": "color=VAN - CARGO<br>animation_frame=2008<br>x=%{x}<br>y=%{y}<extra></extra>",
           "ids": [
            "VAN - CARGO"
           ],
           "legendgroup": "VAN - CARGO",
           "line": {
            "color": "#FC0080",
            "dash": "solid"
           },
           "marker": {
            "symbol": "circle"
           },
           "mode": "markers+lines",
           "name": "VAN - CARGO",
           "orientation": "v",
           "showlegend": true,
           "type": "scatter",
           "x": [
            2008
           ],
           "xaxis": "x",
           "y": [
            18.53846153846154
           ],
           "yaxis": "y"
          },
          {
           "hovertemplate": "color=VAN - PASSENGER<br>animation_frame=2008<br>x=%{x}<br>y=%{y}<extra></extra>",
           "ids": [
            "VAN - PASSENGER"
           ],
           "legendgroup": "VAN - PASSENGER",
           "line": {
            "color": "#B2828D",
            "dash": "solid"
           },
           "marker": {
            "symbol": "circle"
           },
           "mode": "markers+lines",
           "name": "VAN - PASSENGER",
           "orientation": "v",
           "showlegend": true,
           "type": "scatter",
           "x": [
            2008
           ],
           "xaxis": "x",
           "y": [
            17.666666666666668
           ],
           "yaxis": "y"
          }
         ],
         "name": "2008"
        },
        {
         "data": [
          {
           "hovertemplate": "color=COMPACT<br>animation_frame=2009<br>x=%{x}<br>y=%{y}<extra></extra>",
           "ids": [
            "COMPACT"
           ],
           "legendgroup": "COMPACT",
           "line": {
            "color": "#2E91E5",
            "dash": "solid"
           },
           "marker": {
            "symbol": "circle"
           },
           "mode": "markers+lines",
           "name": "COMPACT",
           "orientation": "v",
           "showlegend": true,
           "type": "scatter",
           "x": [
            2009
           ],
           "xaxis": "x",
           "y": [
            30.326666666666668
           ],
           "yaxis": "y"
          },
          {
           "hovertemplate": "color=FULL-SIZE<br>animation_frame=2009<br>x=%{x}<br>y=%{y}<extra></extra>",
           "ids": [
            "FULL-SIZE"
           ],
           "legendgroup": "FULL-SIZE",
           "line": {
            "color": "#E15F99",
            "dash": "solid"
           },
           "marker": {
            "symbol": "circle"
           },
           "mode": "markers+lines",
           "name": "FULL-SIZE",
           "orientation": "v",
           "showlegend": true,
           "type": "scatter",
           "x": [
            2009
           ],
           "xaxis": "x",
           "y": [
            24.676470588235293
           ],
           "yaxis": "y"
          },
          {
           "hovertemplate": "color=MID-SIZE<br>animation_frame=2009<br>x=%{x}<br>y=%{y}<extra></extra>",
           "ids": [
            "MID-SIZE"
           ],
           "legendgroup": "MID-SIZE",
           "line": {
            "color": "#1CA71C",
            "dash": "solid"
           },
           "marker": {
            "symbol": "circle"
           },
           "mode": "markers+lines",
           "name": "MID-SIZE",
           "orientation": "v",
           "showlegend": true,
           "type": "scatter",
           "x": [
            2009
           ],
           "xaxis": "x",
           "y": [
            29.024
           ],
           "yaxis": "y"
          },
          {
           "hovertemplate": "color=MINICOMPACT<br>animation_frame=2009<br>x=%{x}<br>y=%{y}<extra></extra>",
           "ids": [
            "MINICOMPACT"
           ],
           "legendgroup": "MINICOMPACT",
           "line": {
            "color": "#FB0D0D",
            "dash": "solid"
           },
           "marker": {
            "symbol": "circle"
           },
           "mode": "markers+lines",
           "name": "MINICOMPACT",
           "orientation": "v",
           "showlegend": true,
           "type": "scatter",
           "x": [
            2009
           ],
           "xaxis": "x",
           "y": [
            31.023255813953487
           ],
           "yaxis": "y"
          },
          {
           "hovertemplate": "color=MINIVAN<br>animation_frame=2009<br>x=%{x}<br>y=%{y}<extra></extra>",
           "ids": [
            "MINIVAN"
           ],
           "legendgroup": "MINIVAN",
           "line": {
            "color": "#DA16FF",
            "dash": "solid"
           },
           "marker": {
            "symbol": "circle"
           },
           "mode": "markers+lines",
           "name": "MINIVAN",
           "orientation": "v",
           "showlegend": true,
           "type": "scatter",
           "x": [
            2009
           ],
           "xaxis": "x",
           "y": [
            26
           ],
           "yaxis": "y"
          },
          {
           "hovertemplate": "color=PICKUP TRUCK - SMALL<br>animation_frame=2009<br>x=%{x}<br>y=%{y}<extra></extra>",
           "ids": [
            "PICKUP TRUCK - SMALL"
           ],
           "legendgroup": "PICKUP TRUCK - SMALL",
           "line": {
            "color": "#222A2A",
            "dash": "solid"
           },
           "marker": {
            "symbol": "circle"
           },
           "mode": "markers+lines",
           "name": "PICKUP TRUCK - SMALL",
           "orientation": "v",
           "showlegend": true,
           "type": "scatter",
           "x": [
            2009
           ],
           "xaxis": "x",
           "y": [
            25.338983050847457
           ],
           "yaxis": "y"
          },
          {
           "hovertemplate": "color=PICKUP TRUCK - STANDARD<br>animation_frame=2009<br>x=%{x}<br>y=%{y}<extra></extra>",
           "ids": [
            "PICKUP TRUCK - STANDARD"
           ],
           "legendgroup": "PICKUP TRUCK - STANDARD",
           "line": {
            "color": "#B68100",
            "dash": "solid"
           },
           "marker": {
            "symbol": "circle"
           },
           "mode": "markers+lines",
           "name": "PICKUP TRUCK - STANDARD",
           "orientation": "v",
           "showlegend": true,
           "type": "scatter",
           "x": [
            2009
           ],
           "xaxis": "x",
           "y": [
            20.54736842105263
           ],
           "yaxis": "y"
          },
          {
           "hovertemplate": "color=STATION WAGON - MID-SIZE<br>animation_frame=2009<br>x=%{x}<br>y=%{y}<extra></extra>",
           "ids": [
            "STATION WAGON - MID-SIZE"
           ],
           "legendgroup": "STATION WAGON - MID-SIZE",
           "line": {
            "color": "#750D86",
            "dash": "solid"
           },
           "marker": {
            "symbol": "circle"
           },
           "mode": "markers+lines",
           "name": "STATION WAGON - MID-SIZE",
           "orientation": "v",
           "showlegend": true,
           "type": "scatter",
           "x": [
            2009
           ],
           "xaxis": "x",
           "y": [
            28.53846153846154
           ],
           "yaxis": "y"
          },
          {
           "hovertemplate": "color=STATION WAGON - SMALL<br>animation_frame=2009<br>x=%{x}<br>y=%{y}<extra></extra>",
           "ids": [
            "STATION WAGON - SMALL"
           ],
           "legendgroup": "STATION WAGON - SMALL",
           "line": {
            "color": "#EB663B",
            "dash": "solid"
           },
           "marker": {
            "symbol": "circle"
           },
           "mode": "markers+lines",
           "name": "STATION WAGON - SMALL",
           "orientation": "v",
           "showlegend": true,
           "type": "scatter",
           "x": [
            2009
           ],
           "xaxis": "x",
           "y": [
            32.351851851851855
           ],
           "yaxis": "y"
          },
          {
           "hovertemplate": "color=SUBCOMPACT<br>animation_frame=2009<br>x=%{x}<br>y=%{y}<extra></extra>",
           "ids": [
            "SUBCOMPACT"
           ],
           "legendgroup": "SUBCOMPACT",
           "line": {
            "color": "#511CFB",
            "dash": "solid"
           },
           "marker": {
            "symbol": "circle"
           },
           "mode": "markers+lines",
           "name": "SUBCOMPACT",
           "orientation": "v",
           "showlegend": true,
           "type": "scatter",
           "x": [
            2009
           ],
           "xaxis": "x",
           "y": [
            29.98989898989899
           ],
           "yaxis": "y"
          },
          {
           "hovertemplate": "color=SUV<br>animation_frame=2009<br>x=%{x}<br>y=%{y}<extra></extra>",
           "ids": [
            "SUV"
           ],
           "legendgroup": "SUV",
           "line": {
            "color": "#00A08B",
            "dash": "solid"
           },
           "marker": {
            "symbol": "circle"
           },
           "mode": "markers+lines",
           "name": "SUV",
           "orientation": "v",
           "showlegend": true,
           "type": "scatter",
           "x": [
            2009
           ],
           "xaxis": "x",
           "y": [
            25.100746268656717
           ],
           "yaxis": "y"
          },
          {
           "hovertemplate": "color=TWO-SEATER<br>animation_frame=2009<br>x=%{x}<br>y=%{y}<extra></extra>",
           "ids": [
            "TWO-SEATER"
           ],
           "legendgroup": "TWO-SEATER",
           "line": {
            "color": "#FB00D1",
            "dash": "solid"
           },
           "marker": {
            "symbol": "circle"
           },
           "mode": "markers+lines",
           "name": "TWO-SEATER",
           "orientation": "v",
           "showlegend": true,
           "type": "scatter",
           "x": [
            2009
           ],
           "xaxis": "x",
           "y": [
            24.109375
           ],
           "yaxis": "y"
          },
          {
           "hovertemplate": "color=VAN - CARGO<br>animation_frame=2009<br>x=%{x}<br>y=%{y}<extra></extra>",
           "ids": [
            "VAN - CARGO"
           ],
           "legendgroup": "VAN - CARGO",
           "line": {
            "color": "#FC0080",
            "dash": "solid"
           },
           "marker": {
            "symbol": "circle"
           },
           "mode": "markers+lines",
           "name": "VAN - CARGO",
           "orientation": "v",
           "showlegend": true,
           "type": "scatter",
           "x": [
            2009
           ],
           "xaxis": "x",
           "y": [
            18.53846153846154
           ],
           "yaxis": "y"
          },
          {
           "hovertemplate": "color=VAN - PASSENGER<br>animation_frame=2009<br>x=%{x}<br>y=%{y}<extra></extra>",
           "ids": [
            "VAN - PASSENGER"
           ],
           "legendgroup": "VAN - PASSENGER",
           "line": {
            "color": "#B2828D",
            "dash": "solid"
           },
           "marker": {
            "symbol": "circle"
           },
           "mode": "markers+lines",
           "name": "VAN - PASSENGER",
           "orientation": "v",
           "showlegend": true,
           "type": "scatter",
           "x": [
            2009
           ],
           "xaxis": "x",
           "y": [
            17.666666666666668
           ],
           "yaxis": "y"
          }
         ],
         "name": "2009"
        },
        {
         "data": [
          {
           "hovertemplate": "color=COMPACT<br>animation_frame=2010<br>x=%{x}<br>y=%{y}<extra></extra>",
           "ids": [
            "COMPACT"
           ],
           "legendgroup": "COMPACT",
           "line": {
            "color": "#2E91E5",
            "dash": "solid"
           },
           "marker": {
            "symbol": "circle"
           },
           "mode": "markers+lines",
           "name": "COMPACT",
           "orientation": "v",
           "showlegend": true,
           "type": "scatter",
           "x": [
            2010
           ],
           "xaxis": "x",
           "y": [
            32.17142857142857
           ],
           "yaxis": "y"
          },
          {
           "hovertemplate": "color=FULL-SIZE<br>animation_frame=2010<br>x=%{x}<br>y=%{y}<extra></extra>",
           "ids": [
            "FULL-SIZE"
           ],
           "legendgroup": "FULL-SIZE",
           "line": {
            "color": "#E15F99",
            "dash": "solid"
           },
           "marker": {
            "symbol": "circle"
           },
           "mode": "markers+lines",
           "name": "FULL-SIZE",
           "orientation": "v",
           "showlegend": true,
           "type": "scatter",
           "x": [
            2010
           ],
           "xaxis": "x",
           "y": [
            24.441558441558442
           ],
           "yaxis": "y"
          },
          {
           "hovertemplate": "color=MID-SIZE<br>animation_frame=2010<br>x=%{x}<br>y=%{y}<extra></extra>",
           "ids": [
            "MID-SIZE"
           ],
           "legendgroup": "MID-SIZE",
           "line": {
            "color": "#1CA71C",
            "dash": "solid"
           },
           "marker": {
            "symbol": "circle"
           },
           "mode": "markers+lines",
           "name": "MID-SIZE",
           "orientation": "v",
           "showlegend": true,
           "type": "scatter",
           "x": [
            2010
           ],
           "xaxis": "x",
           "y": [
            29.95
           ],
           "yaxis": "y"
          },
          {
           "hovertemplate": "color=MINICOMPACT<br>animation_frame=2010<br>x=%{x}<br>y=%{y}<extra></extra>",
           "ids": [
            "MINICOMPACT"
           ],
           "legendgroup": "MINICOMPACT",
           "line": {
            "color": "#FB0D0D",
            "dash": "solid"
           },
           "marker": {
            "symbol": "circle"
           },
           "mode": "markers+lines",
           "name": "MINICOMPACT",
           "orientation": "v",
           "showlegend": true,
           "type": "scatter",
           "x": [
            2010
           ],
           "xaxis": "x",
           "y": [
            30.4390243902439
           ],
           "yaxis": "y"
          },
          {
           "hovertemplate": "color=MINIVAN<br>animation_frame=2010<br>x=%{x}<br>y=%{y}<extra></extra>",
           "ids": [
            "MINIVAN"
           ],
           "legendgroup": "MINIVAN",
           "line": {
            "color": "#DA16FF",
            "dash": "solid"
           },
           "marker": {
            "symbol": "circle"
           },
           "mode": "markers+lines",
           "name": "MINIVAN",
           "orientation": "v",
           "showlegend": true,
           "type": "scatter",
           "x": [
            2010
           ],
           "xaxis": "x",
           "y": [
            26.142857142857142
           ],
           "yaxis": "y"
          },
          {
           "hovertemplate": "color=PICKUP TRUCK - SMALL<br>animation_frame=2010<br>x=%{x}<br>y=%{y}<extra></extra>",
           "ids": [
            "PICKUP TRUCK - SMALL"
           ],
           "legendgroup": "PICKUP TRUCK - SMALL",
           "line": {
            "color": "#222A2A",
            "dash": "solid"
           },
           "marker": {
            "symbol": "circle"
           },
           "mode": "markers+lines",
           "name": "PICKUP TRUCK - SMALL",
           "orientation": "v",
           "showlegend": true,
           "type": "scatter",
           "x": [
            2010
           ],
           "xaxis": "x",
           "y": [
            25.48148148148148
           ],
           "yaxis": "y"
          },
          {
           "hovertemplate": "color=PICKUP TRUCK - STANDARD<br>animation_frame=2010<br>x=%{x}<br>y=%{y}<extra></extra>",
           "ids": [
            "PICKUP TRUCK - STANDARD"
           ],
           "legendgroup": "PICKUP TRUCK - STANDARD",
           "line": {
            "color": "#B68100",
            "dash": "solid"
           },
           "marker": {
            "symbol": "circle"
           },
           "mode": "markers+lines",
           "name": "PICKUP TRUCK - STANDARD",
           "orientation": "v",
           "showlegend": true,
           "type": "scatter",
           "x": [
            2010
           ],
           "xaxis": "x",
           "y": [
            20.054794520547944
           ],
           "yaxis": "y"
          },
          {
           "hovertemplate": "color=STATION WAGON - MID-SIZE<br>animation_frame=2010<br>x=%{x}<br>y=%{y}<extra></extra>",
           "ids": [
            "STATION WAGON - MID-SIZE"
           ],
           "legendgroup": "STATION WAGON - MID-SIZE",
           "line": {
            "color": "#750D86",
            "dash": "solid"
           },
           "marker": {
            "symbol": "circle"
           },
           "mode": "markers+lines",
           "name": "STATION WAGON - MID-SIZE",
           "orientation": "v",
           "showlegend": true,
           "type": "scatter",
           "x": [
            2010
           ],
           "xaxis": "x",
           "y": [
            28.88888888888889
           ],
           "yaxis": "y"
          },
          {
           "hovertemplate": "color=STATION WAGON - SMALL<br>animation_frame=2010<br>x=%{x}<br>y=%{y}<extra></extra>",
           "ids": [
            "STATION WAGON - SMALL"
           ],
           "legendgroup": "STATION WAGON - SMALL",
           "line": {
            "color": "#EB663B",
            "dash": "solid"
           },
           "marker": {
            "symbol": "circle"
           },
           "mode": "markers+lines",
           "name": "STATION WAGON - SMALL",
           "orientation": "v",
           "showlegend": true,
           "type": "scatter",
           "x": [
            2010
           ],
           "xaxis": "x",
           "y": [
            33.56666666666667
           ],
           "yaxis": "y"
          },
          {
           "hovertemplate": "color=SUBCOMPACT<br>animation_frame=2010<br>x=%{x}<br>y=%{y}<extra></extra>",
           "ids": [
            "SUBCOMPACT"
           ],
           "legendgroup": "SUBCOMPACT",
           "line": {
            "color": "#511CFB",
            "dash": "solid"
           },
           "marker": {
            "symbol": "circle"
           },
           "mode": "markers+lines",
           "name": "SUBCOMPACT",
           "orientation": "v",
           "showlegend": true,
           "type": "scatter",
           "x": [
            2010
           ],
           "xaxis": "x",
           "y": [
            30.510204081632654
           ],
           "yaxis": "y"
          },
          {
           "hovertemplate": "color=SUV<br>animation_frame=2010<br>x=%{x}<br>y=%{y}<extra></extra>",
           "ids": [
            "SUV"
           ],
           "legendgroup": "SUV",
           "line": {
            "color": "#00A08B",
            "dash": "solid"
           },
           "marker": {
            "symbol": "circle"
           },
           "mode": "markers+lines",
           "name": "SUV",
           "orientation": "v",
           "showlegend": true,
           "type": "scatter",
           "x": [
            2010
           ],
           "xaxis": "x",
           "y": [
            26.417670682730925
           ],
           "yaxis": "y"
          },
          {
           "hovertemplate": "color=TWO-SEATER<br>animation_frame=2010<br>x=%{x}<br>y=%{y}<extra></extra>",
           "ids": [
            "TWO-SEATER"
           ],
           "legendgroup": "TWO-SEATER",
           "line": {
            "color": "#FB00D1",
            "dash": "solid"
           },
           "marker": {
            "symbol": "circle"
           },
           "mode": "markers+lines",
           "name": "TWO-SEATER",
           "orientation": "v",
           "showlegend": true,
           "type": "scatter",
           "x": [
            2010
           ],
           "xaxis": "x",
           "y": [
            25.16949152542373
           ],
           "yaxis": "y"
          },
          {
           "hovertemplate": "color=VAN - CARGO<br>animation_frame=2010<br>x=%{x}<br>y=%{y}<extra></extra>",
           "ids": [
            "VAN - CARGO"
           ],
           "legendgroup": "VAN - CARGO",
           "line": {
            "color": "#FC0080",
            "dash": "solid"
           },
           "marker": {
            "symbol": "circle"
           },
           "mode": "markers+lines",
           "name": "VAN - CARGO",
           "orientation": "v",
           "showlegend": true,
           "type": "scatter",
           "x": [
            2010
           ],
           "xaxis": "x",
           "y": [
            17.666666666666668
           ],
           "yaxis": "y"
          },
          {
           "hovertemplate": "color=VAN - PASSENGER<br>animation_frame=2010<br>x=%{x}<br>y=%{y}<extra></extra>",
           "ids": [
            "VAN - PASSENGER"
           ],
           "legendgroup": "VAN - PASSENGER",
           "line": {
            "color": "#B2828D",
            "dash": "solid"
           },
           "marker": {
            "symbol": "circle"
           },
           "mode": "markers+lines",
           "name": "VAN - PASSENGER",
           "orientation": "v",
           "showlegend": true,
           "type": "scatter",
           "x": [
            2010
           ],
           "xaxis": "x",
           "y": [
            16.75
           ],
           "yaxis": "y"
          },
          {
           "hovertemplate": "color=SPECIAL PURPOSE VEHICLE<br>animation_frame=2010<br>x=%{x}<br>y=%{y}<extra></extra>",
           "ids": [
            "SPECIAL PURPOSE VEHICLE"
           ],
           "legendgroup": "SPECIAL PURPOSE VEHICLE",
           "line": {
            "color": "#778AAE",
            "dash": "solid"
           },
           "marker": {
            "symbol": "circle"
           },
           "mode": "markers+lines",
           "name": "SPECIAL PURPOSE VEHICLE",
           "orientation": "v",
           "showlegend": true,
           "type": "scatter",
           "x": [
            2010
           ],
           "xaxis": "x",
           "y": [
            32
           ],
           "yaxis": "y"
          }
         ],
         "name": "2010"
        },
        {
         "data": [
          {
           "hovertemplate": "color=COMPACT<br>animation_frame=2011<br>x=%{x}<br>y=%{y}<extra></extra>",
           "ids": [
            "COMPACT"
           ],
           "legendgroup": "COMPACT",
           "line": {
            "color": "#2E91E5",
            "dash": "solid"
           },
           "marker": {
            "symbol": "circle"
           },
           "mode": "markers+lines",
           "name": "COMPACT",
           "orientation": "v",
           "showlegend": true,
           "type": "scatter",
           "x": [
            2011
           ],
           "xaxis": "x",
           "y": [
            33.653225806451616
           ],
           "yaxis": "y"
          },
          {
           "hovertemplate": "color=FULL-SIZE<br>animation_frame=2011<br>x=%{x}<br>y=%{y}<extra></extra>",
           "ids": [
            "FULL-SIZE"
           ],
           "legendgroup": "FULL-SIZE",
           "line": {
            "color": "#E15F99",
            "dash": "solid"
           },
           "marker": {
            "symbol": "circle"
           },
           "mode": "markers+lines",
           "name": "FULL-SIZE",
           "orientation": "v",
           "showlegend": true,
           "type": "scatter",
           "x": [
            2011
           ],
           "xaxis": "x",
           "y": [
            25.08450704225352
           ],
           "yaxis": "y"
          },
          {
           "hovertemplate": "color=MID-SIZE<br>animation_frame=2011<br>x=%{x}<br>y=%{y}<extra></extra>",
           "ids": [
            "MID-SIZE"
           ],
           "legendgroup": "MID-SIZE",
           "line": {
            "color": "#1CA71C",
            "dash": "solid"
           },
           "marker": {
            "symbol": "circle"
           },
           "mode": "markers+lines",
           "name": "MID-SIZE",
           "orientation": "v",
           "showlegend": true,
           "type": "scatter",
           "x": [
            2011
           ],
           "xaxis": "x",
           "y": [
            31.96969696969697
           ],
           "yaxis": "y"
          },
          {
           "hovertemplate": "color=MINICOMPACT<br>animation_frame=2011<br>x=%{x}<br>y=%{y}<extra></extra>",
           "ids": [
            "MINICOMPACT"
           ],
           "legendgroup": "MINICOMPACT",
           "line": {
            "color": "#FB0D0D",
            "dash": "solid"
           },
           "marker": {
            "symbol": "circle"
           },
           "mode": "markers+lines",
           "name": "MINICOMPACT",
           "orientation": "v",
           "showlegend": true,
           "type": "scatter",
           "x": [
            2011
           ],
           "xaxis": "x",
           "y": [
            30.169811320754718
           ],
           "yaxis": "y"
          },
          {
           "hovertemplate": "color=MINIVAN<br>animation_frame=2011<br>x=%{x}<br>y=%{y}<extra></extra>",
           "ids": [
            "MINIVAN"
           ],
           "legendgroup": "MINIVAN",
           "line": {
            "color": "#DA16FF",
            "dash": "solid"
           },
           "marker": {
            "symbol": "circle"
           },
           "mode": "markers+lines",
           "name": "MINIVAN",
           "orientation": "v",
           "showlegend": true,
           "type": "scatter",
           "x": [
            2011
           ],
           "xaxis": "x",
           "y": [
            25.5
           ],
           "yaxis": "y"
          },
          {
           "hovertemplate": "color=PICKUP TRUCK - SMALL<br>animation_frame=2011<br>x=%{x}<br>y=%{y}<extra></extra>",
           "ids": [
            "PICKUP TRUCK - SMALL"
           ],
           "legendgroup": "PICKUP TRUCK - SMALL",
           "line": {
            "color": "#222A2A",
            "dash": "solid"
           },
           "marker": {
            "symbol": "circle"
           },
           "mode": "markers+lines",
           "name": "PICKUP TRUCK - SMALL",
           "orientation": "v",
           "showlegend": true,
           "type": "scatter",
           "x": [
            2011
           ],
           "xaxis": "x",
           "y": [
            25.529411764705884
           ],
           "yaxis": "y"
          },
          {
           "hovertemplate": "color=PICKUP TRUCK - STANDARD<br>animation_frame=2011<br>x=%{x}<br>y=%{y}<extra></extra>",
           "ids": [
            "PICKUP TRUCK - STANDARD"
           ],
           "legendgroup": "PICKUP TRUCK - STANDARD",
           "line": {
            "color": "#B68100",
            "dash": "solid"
           },
           "marker": {
            "symbol": "circle"
           },
           "mode": "markers+lines",
           "name": "PICKUP TRUCK - STANDARD",
           "orientation": "v",
           "showlegend": true,
           "type": "scatter",
           "x": [
            2011
           ],
           "xaxis": "x",
           "y": [
            20.270588235294117
           ],
           "yaxis": "y"
          },
          {
           "hovertemplate": "color=STATION WAGON - MID-SIZE<br>animation_frame=2011<br>x=%{x}<br>y=%{y}<extra></extra>",
           "ids": [
            "STATION WAGON - MID-SIZE"
           ],
           "legendgroup": "STATION WAGON - MID-SIZE",
           "line": {
            "color": "#750D86",
            "dash": "solid"
           },
           "marker": {
            "symbol": "circle"
           },
           "mode": "markers+lines",
           "name": "STATION WAGON - MID-SIZE",
           "orientation": "v",
           "showlegend": true,
           "type": "scatter",
           "x": [
            2011
           ],
           "xaxis": "x",
           "y": [
            28.5
           ],
           "yaxis": "y"
          },
          {
           "hovertemplate": "color=STATION WAGON - SMALL<br>animation_frame=2011<br>x=%{x}<br>y=%{y}<extra></extra>",
           "ids": [
            "STATION WAGON - SMALL"
           ],
           "legendgroup": "STATION WAGON - SMALL",
           "line": {
            "color": "#EB663B",
            "dash": "solid"
           },
           "marker": {
            "symbol": "circle"
           },
           "mode": "markers+lines",
           "name": "STATION WAGON - SMALL",
           "orientation": "v",
           "showlegend": true,
           "type": "scatter",
           "x": [
            2011
           ],
           "xaxis": "x",
           "y": [
            33.55357142857143
           ],
           "yaxis": "y"
          },
          {
           "hovertemplate": "color=SUBCOMPACT<br>animation_frame=2011<br>x=%{x}<br>y=%{y}<extra></extra>",
           "ids": [
            "SUBCOMPACT"
           ],
           "legendgroup": "SUBCOMPACT",
           "line": {
            "color": "#511CFB",
            "dash": "solid"
           },
           "marker": {
            "symbol": "circle"
           },
           "mode": "markers+lines",
           "name": "SUBCOMPACT",
           "orientation": "v",
           "showlegend": true,
           "type": "scatter",
           "x": [
            2011
           ],
           "xaxis": "x",
           "y": [
            31.01923076923077
           ],
           "yaxis": "y"
          },
          {
           "hovertemplate": "color=SUV<br>animation_frame=2011<br>x=%{x}<br>y=%{y}<extra></extra>",
           "ids": [
            "SUV"
           ],
           "legendgroup": "SUV",
           "line": {
            "color": "#00A08B",
            "dash": "solid"
           },
           "marker": {
            "symbol": "circle"
           },
           "mode": "markers+lines",
           "name": "SUV",
           "orientation": "v",
           "showlegend": true,
           "type": "scatter",
           "x": [
            2011
           ],
           "xaxis": "x",
           "y": [
            26.600746268656717
           ],
           "yaxis": "y"
          },
          {
           "hovertemplate": "color=TWO-SEATER<br>animation_frame=2011<br>x=%{x}<br>y=%{y}<extra></extra>",
           "ids": [
            "TWO-SEATER"
           ],
           "legendgroup": "TWO-SEATER",
           "line": {
            "color": "#FB00D1",
            "dash": "solid"
           },
           "marker": {
            "symbol": "circle"
           },
           "mode": "markers+lines",
           "name": "TWO-SEATER",
           "orientation": "v",
           "showlegend": true,
           "type": "scatter",
           "x": [
            2011
           ],
           "xaxis": "x",
           "y": [
            26.65625
           ],
           "yaxis": "y"
          },
          {
           "hovertemplate": "color=VAN - CARGO<br>animation_frame=2011<br>x=%{x}<br>y=%{y}<extra></extra>",
           "ids": [
            "VAN - CARGO"
           ],
           "legendgroup": "VAN - CARGO",
           "line": {
            "color": "#FC0080",
            "dash": "solid"
           },
           "marker": {
            "symbol": "circle"
           },
           "mode": "markers+lines",
           "name": "VAN - CARGO",
           "orientation": "v",
           "showlegend": true,
           "type": "scatter",
           "x": [
            2011
           ],
           "xaxis": "x",
           "y": [
            17.454545454545453
           ],
           "yaxis": "y"
          },
          {
           "hovertemplate": "color=VAN - PASSENGER<br>animation_frame=2011<br>x=%{x}<br>y=%{y}<extra></extra>",
           "ids": [
            "VAN - PASSENGER"
           ],
           "legendgroup": "VAN - PASSENGER",
           "line": {
            "color": "#B2828D",
            "dash": "solid"
           },
           "marker": {
            "symbol": "circle"
           },
           "mode": "markers+lines",
           "name": "VAN - PASSENGER",
           "orientation": "v",
           "showlegend": true,
           "type": "scatter",
           "x": [
            2011
           ],
           "xaxis": "x",
           "y": [
            15.62962962962963
           ],
           "yaxis": "y"
          },
          {
           "hovertemplate": "color=SPECIAL PURPOSE VEHICLE<br>animation_frame=2011<br>x=%{x}<br>y=%{y}<extra></extra>",
           "ids": [
            "SPECIAL PURPOSE VEHICLE"
           ],
           "legendgroup": "SPECIAL PURPOSE VEHICLE",
           "line": {
            "color": "#778AAE",
            "dash": "solid"
           },
           "marker": {
            "symbol": "circle"
           },
           "mode": "markers+lines",
           "name": "SPECIAL PURPOSE VEHICLE",
           "orientation": "v",
           "showlegend": true,
           "type": "scatter",
           "x": [
            2011
           ],
           "xaxis": "x",
           "y": [
            31
           ],
           "yaxis": "y"
          }
         ],
         "name": "2011"
        },
        {
         "data": [
          {
           "hovertemplate": "color=COMPACT<br>animation_frame=2012<br>x=%{x}<br>y=%{y}<extra></extra>",
           "ids": [
            "COMPACT"
           ],
           "legendgroup": "COMPACT",
           "line": {
            "color": "#2E91E5",
            "dash": "solid"
           },
           "marker": {
            "symbol": "circle"
           },
           "mode": "markers+lines",
           "name": "COMPACT",
           "orientation": "v",
           "showlegend": true,
           "type": "scatter",
           "x": [
            2012
           ],
           "xaxis": "x",
           "y": [
            35.06015037593985
           ],
           "yaxis": "y"
          },
          {
           "hovertemplate": "color=FULL-SIZE<br>animation_frame=2012<br>x=%{x}<br>y=%{y}<extra></extra>",
           "ids": [
            "FULL-SIZE"
           ],
           "legendgroup": "FULL-SIZE",
           "line": {
            "color": "#E15F99",
            "dash": "solid"
           },
           "marker": {
            "symbol": "circle"
           },
           "mode": "markers+lines",
           "name": "FULL-SIZE",
           "orientation": "v",
           "showlegend": true,
           "type": "scatter",
           "x": [
            2012
           ],
           "xaxis": "x",
           "y": [
            26.098765432098766
           ],
           "yaxis": "y"
          },
          {
           "hovertemplate": "color=MID-SIZE<br>animation_frame=2012<br>x=%{x}<br>y=%{y}<extra></extra>",
           "ids": [
            "MID-SIZE"
           ],
           "legendgroup": "MID-SIZE",
           "line": {
            "color": "#1CA71C",
            "dash": "solid"
           },
           "marker": {
            "symbol": "circle"
           },
           "mode": "markers+lines",
           "name": "MID-SIZE",
           "orientation": "v",
           "showlegend": true,
           "type": "scatter",
           "x": [
            2012
           ],
           "xaxis": "x",
           "y": [
            32.86259541984733
           ],
           "yaxis": "y"
          },
          {
           "hovertemplate": "color=MINICOMPACT<br>animation_frame=2012<br>x=%{x}<br>y=%{y}<extra></extra>",
           "ids": [
            "MINICOMPACT"
           ],
           "legendgroup": "MINICOMPACT",
           "line": {
            "color": "#FB0D0D",
            "dash": "solid"
           },
           "marker": {
            "symbol": "circle"
           },
           "mode": "markers+lines",
           "name": "MINICOMPACT",
           "orientation": "v",
           "showlegend": true,
           "type": "scatter",
           "x": [
            2012
           ],
           "xaxis": "x",
           "y": [
            30.56578947368421
           ],
           "yaxis": "y"
          },
          {
           "hovertemplate": "color=MINIVAN<br>animation_frame=2012<br>x=%{x}<br>y=%{y}<extra></extra>",
           "ids": [
            "MINIVAN"
           ],
           "legendgroup": "MINIVAN",
           "line": {
            "color": "#DA16FF",
            "dash": "solid"
           },
           "marker": {
            "symbol": "circle"
           },
           "mode": "markers+lines",
           "name": "MINIVAN",
           "orientation": "v",
           "showlegend": true,
           "type": "scatter",
           "x": [
            2012
           ],
           "xaxis": "x",
           "y": [
            27.375
           ],
           "yaxis": "y"
          },
          {
           "hovertemplate": "color=PICKUP TRUCK - SMALL<br>animation_frame=2012<br>x=%{x}<br>y=%{y}<extra></extra>",
           "ids": [
            "PICKUP TRUCK - SMALL"
           ],
           "legendgroup": "PICKUP TRUCK - SMALL",
           "line": {
            "color": "#222A2A",
            "dash": "solid"
           },
           "marker": {
            "symbol": "circle"
           },
           "mode": "markers+lines",
           "name": "PICKUP TRUCK - SMALL",
           "orientation": "v",
           "showlegend": true,
           "type": "scatter",
           "x": [
            2012
           ],
           "xaxis": "x",
           "y": [
            25.767441860465116
           ],
           "yaxis": "y"
          },
          {
           "hovertemplate": "color=PICKUP TRUCK - STANDARD<br>animation_frame=2012<br>x=%{x}<br>y=%{y}<extra></extra>",
           "ids": [
            "PICKUP TRUCK - STANDARD"
           ],
           "legendgroup": "PICKUP TRUCK - STANDARD",
           "line": {
            "color": "#B68100",
            "dash": "solid"
           },
           "marker": {
            "symbol": "circle"
           },
           "mode": "markers+lines",
           "name": "PICKUP TRUCK - STANDARD",
           "orientation": "v",
           "showlegend": true,
           "type": "scatter",
           "x": [
            2012
           ],
           "xaxis": "x",
           "y": [
            20.468354430379748
           ],
           "yaxis": "y"
          },
          {
           "hovertemplate": "color=STATION WAGON - MID-SIZE<br>animation_frame=2012<br>x=%{x}<br>y=%{y}<extra></extra>",
           "ids": [
            "STATION WAGON - MID-SIZE"
           ],
           "legendgroup": "STATION WAGON - MID-SIZE",
           "line": {
            "color": "#750D86",
            "dash": "solid"
           },
           "marker": {
            "symbol": "circle"
           },
           "mode": "markers+lines",
           "name": "STATION WAGON - MID-SIZE",
           "orientation": "v",
           "showlegend": true,
           "type": "scatter",
           "x": [
            2012
           ],
           "xaxis": "x",
           "y": [
            35
           ],
           "yaxis": "y"
          },
          {
           "hovertemplate": "color=STATION WAGON - SMALL<br>animation_frame=2012<br>x=%{x}<br>y=%{y}<extra></extra>",
           "ids": [
            "STATION WAGON - SMALL"
           ],
           "legendgroup": "STATION WAGON - SMALL",
           "line": {
            "color": "#EB663B",
            "dash": "solid"
           },
           "marker": {
            "symbol": "circle"
           },
           "mode": "markers+lines",
           "name": "STATION WAGON - SMALL",
           "orientation": "v",
           "showlegend": true,
           "type": "scatter",
           "x": [
            2012
           ],
           "xaxis": "x",
           "y": [
            34.57446808510638
           ],
           "yaxis": "y"
          },
          {
           "hovertemplate": "color=SUBCOMPACT<br>animation_frame=2012<br>x=%{x}<br>y=%{y}<extra></extra>",
           "ids": [
            "SUBCOMPACT"
           ],
           "legendgroup": "SUBCOMPACT",
           "line": {
            "color": "#511CFB",
            "dash": "solid"
           },
           "marker": {
            "symbol": "circle"
           },
           "mode": "markers+lines",
           "name": "SUBCOMPACT",
           "orientation": "v",
           "showlegend": true,
           "type": "scatter",
           "x": [
            2012
           ],
           "xaxis": "x",
           "y": [
            30.735294117647058
           ],
           "yaxis": "y"
          },
          {
           "hovertemplate": "color=SUV<br>animation_frame=2012<br>x=%{x}<br>y=%{y}<extra></extra>",
           "ids": [
            "SUV"
           ],
           "legendgroup": "SUV",
           "line": {
            "color": "#00A08B",
            "dash": "solid"
           },
           "marker": {
            "symbol": "circle"
           },
           "mode": "markers+lines",
           "name": "SUV",
           "orientation": "v",
           "showlegend": true,
           "type": "scatter",
           "x": [
            2012
           ],
           "xaxis": "x",
           "y": [
            26.57872340425532
           ],
           "yaxis": "y"
          },
          {
           "hovertemplate": "color=TWO-SEATER<br>animation_frame=2012<br>x=%{x}<br>y=%{y}<extra></extra>",
           "ids": [
            "TWO-SEATER"
           ],
           "legendgroup": "TWO-SEATER",
           "line": {
            "color": "#FB00D1",
            "dash": "solid"
           },
           "marker": {
            "symbol": "circle"
           },
           "mode": "markers+lines",
           "name": "TWO-SEATER",
           "orientation": "v",
           "showlegend": true,
           "type": "scatter",
           "x": [
            2012
           ],
           "xaxis": "x",
           "y": [
            29.289473684210527
           ],
           "yaxis": "y"
          },
          {
           "hovertemplate": "color=VAN - CARGO<br>animation_frame=2012<br>x=%{x}<br>y=%{y}<extra></extra>",
           "ids": [
            "VAN - CARGO"
           ],
           "legendgroup": "VAN - CARGO",
           "line": {
            "color": "#FC0080",
            "dash": "solid"
           },
           "marker": {
            "symbol": "circle"
           },
           "mode": "markers+lines",
           "name": "VAN - CARGO",
           "orientation": "v",
           "showlegend": true,
           "type": "scatter",
           "x": [
            2012
           ],
           "xaxis": "x",
           "y": [
            17.40909090909091
           ],
           "yaxis": "y"
          },
          {
           "hovertemplate": "color=VAN - PASSENGER<br>animation_frame=2012<br>x=%{x}<br>y=%{y}<extra></extra>",
           "ids": [
            "VAN - PASSENGER"
           ],
           "legendgroup": "VAN - PASSENGER",
           "line": {
            "color": "#B2828D",
            "dash": "solid"
           },
           "marker": {
            "symbol": "circle"
           },
           "mode": "markers+lines",
           "name": "VAN - PASSENGER",
           "orientation": "v",
           "showlegend": true,
           "type": "scatter",
           "x": [
            2012
           ],
           "xaxis": "x",
           "y": [
            15.612903225806452
           ],
           "yaxis": "y"
          },
          {
           "hovertemplate": "color=SUV - STANDARD<br>animation_frame=2012<br>x=%{x}<br>y=%{y}<extra></extra>",
           "ids": [
            "SUV - STANDARD"
           ],
           "legendgroup": "SUV - STANDARD",
           "line": {
            "color": "#6C7C32",
            "dash": "solid"
           },
           "marker": {
            "symbol": "circle"
           },
           "mode": "markers+lines",
           "name": "SUV - STANDARD",
           "orientation": "v",
           "showlegend": true,
           "type": "scatter",
           "x": [
            2012
           ],
           "xaxis": "x",
           "y": [
            25.5
           ],
           "yaxis": "y"
          },
          {
           "hovertemplate": "color=SPECIAL PURPOSE VEHICLE<br>animation_frame=2012<br>x=%{x}<br>y=%{y}<extra></extra>",
           "ids": [
            "SPECIAL PURPOSE VEHICLE"
           ],
           "legendgroup": "SPECIAL PURPOSE VEHICLE",
           "line": {
            "color": "#778AAE",
            "dash": "solid"
           },
           "marker": {
            "symbol": "circle"
           },
           "mode": "markers+lines",
           "name": "SPECIAL PURPOSE VEHICLE",
           "orientation": "v",
           "showlegend": true,
           "type": "scatter",
           "x": [
            2012
           ],
           "xaxis": "x",
           "y": [
            32.5
           ],
           "yaxis": "y"
          }
         ],
         "name": "2012"
        },
        {
         "data": [
          {
           "hovertemplate": "color=COMPACT<br>animation_frame=2013<br>x=%{x}<br>y=%{y}<extra></extra>",
           "ids": [
            "COMPACT"
           ],
           "legendgroup": "COMPACT",
           "line": {
            "color": "#2E91E5",
            "dash": "solid"
           },
           "marker": {
            "symbol": "circle"
           },
           "mode": "markers+lines",
           "name": "COMPACT",
           "orientation": "v",
           "showlegend": true,
           "type": "scatter",
           "x": [
            2013
           ],
           "xaxis": "x",
           "y": [
            35.214285714285715
           ],
           "yaxis": "y"
          },
          {
           "hovertemplate": "color=FULL-SIZE<br>animation_frame=2013<br>x=%{x}<br>y=%{y}<extra></extra>",
           "ids": [
            "FULL-SIZE"
           ],
           "legendgroup": "FULL-SIZE",
           "line": {
            "color": "#E15F99",
            "dash": "solid"
           },
           "marker": {
            "symbol": "circle"
           },
           "mode": "markers+lines",
           "name": "FULL-SIZE",
           "orientation": "v",
           "showlegend": true,
           "type": "scatter",
           "x": [
            2013
           ],
           "xaxis": "x",
           "y": [
            26.894736842105264
           ],
           "yaxis": "y"
          },
          {
           "hovertemplate": "color=MID-SIZE<br>animation_frame=2013<br>x=%{x}<br>y=%{y}<extra></extra>",
           "ids": [
            "MID-SIZE"
           ],
           "legendgroup": "MID-SIZE",
           "line": {
            "color": "#1CA71C",
            "dash": "solid"
           },
           "marker": {
            "symbol": "circle"
           },
           "mode": "markers+lines",
           "name": "MID-SIZE",
           "orientation": "v",
           "showlegend": true,
           "type": "scatter",
           "x": [
            2013
           ],
           "xaxis": "x",
           "y": [
            35.44444444444444
           ],
           "yaxis": "y"
          },
          {
           "hovertemplate": "color=MINICOMPACT<br>animation_frame=2013<br>x=%{x}<br>y=%{y}<extra></extra>",
           "ids": [
            "MINICOMPACT"
           ],
           "legendgroup": "MINICOMPACT",
           "line": {
            "color": "#FB0D0D",
            "dash": "solid"
           },
           "marker": {
            "symbol": "circle"
           },
           "mode": "markers+lines",
           "name": "MINICOMPACT",
           "orientation": "v",
           "showlegend": true,
           "type": "scatter",
           "x": [
            2013
           ],
           "xaxis": "x",
           "y": [
            34.41509433962264
           ],
           "yaxis": "y"
          },
          {
           "hovertemplate": "color=MINIVAN<br>animation_frame=2013<br>x=%{x}<br>y=%{y}<extra></extra>",
           "ids": [
            "MINIVAN"
           ],
           "legendgroup": "MINIVAN",
           "line": {
            "color": "#DA16FF",
            "dash": "solid"
           },
           "marker": {
            "symbol": "circle"
           },
           "mode": "markers+lines",
           "name": "MINIVAN",
           "orientation": "v",
           "showlegend": true,
           "type": "scatter",
           "x": [
            2013
           ],
           "xaxis": "x",
           "y": [
            27.2
           ],
           "yaxis": "y"
          },
          {
           "hovertemplate": "color=PICKUP TRUCK - SMALL<br>animation_frame=2013<br>x=%{x}<br>y=%{y}<extra></extra>",
           "ids": [
            "PICKUP TRUCK - SMALL"
           ],
           "legendgroup": "PICKUP TRUCK - SMALL",
           "line": {
            "color": "#222A2A",
            "dash": "solid"
           },
           "marker": {
            "symbol": "circle"
           },
           "mode": "markers+lines",
           "name": "PICKUP TRUCK - SMALL",
           "orientation": "v",
           "showlegend": true,
           "type": "scatter",
           "x": [
            2013
           ],
           "xaxis": "x",
           "y": [
            26.583333333333332
           ],
           "yaxis": "y"
          },
          {
           "hovertemplate": "color=PICKUP TRUCK - STANDARD<br>animation_frame=2013<br>x=%{x}<br>y=%{y}<extra></extra>",
           "ids": [
            "PICKUP TRUCK - STANDARD"
           ],
           "legendgroup": "PICKUP TRUCK - STANDARD",
           "line": {
            "color": "#B68100",
            "dash": "solid"
           },
           "marker": {
            "symbol": "circle"
           },
           "mode": "markers+lines",
           "name": "PICKUP TRUCK - STANDARD",
           "orientation": "v",
           "showlegend": true,
           "type": "scatter",
           "x": [
            2013
           ],
           "xaxis": "x",
           "y": [
            20.726190476190474
           ],
           "yaxis": "y"
          },
          {
           "hovertemplate": "color=STATION WAGON - MID-SIZE<br>animation_frame=2013<br>x=%{x}<br>y=%{y}<extra></extra>",
           "ids": [
            "STATION WAGON - MID-SIZE"
           ],
           "legendgroup": "STATION WAGON - MID-SIZE",
           "line": {
            "color": "#750D86",
            "dash": "solid"
           },
           "marker": {
            "symbol": "circle"
           },
           "mode": "markers+lines",
           "name": "STATION WAGON - MID-SIZE",
           "orientation": "v",
           "showlegend": true,
           "type": "scatter",
           "x": [
            2013
           ],
           "xaxis": "x",
           "y": [
            39
           ],
           "yaxis": "y"
          },
          {
           "hovertemplate": "color=STATION WAGON - SMALL<br>animation_frame=2013<br>x=%{x}<br>y=%{y}<extra></extra>",
           "ids": [
            "STATION WAGON - SMALL"
           ],
           "legendgroup": "STATION WAGON - SMALL",
           "line": {
            "color": "#EB663B",
            "dash": "solid"
           },
           "marker": {
            "symbol": "circle"
           },
           "mode": "markers+lines",
           "name": "STATION WAGON - SMALL",
           "orientation": "v",
           "showlegend": true,
           "type": "scatter",
           "x": [
            2013
           ],
           "xaxis": "x",
           "y": [
            34.79545454545455
           ],
           "yaxis": "y"
          },
          {
           "hovertemplate": "color=SUBCOMPACT<br>animation_frame=2013<br>x=%{x}<br>y=%{y}<extra></extra>",
           "ids": [
            "SUBCOMPACT"
           ],
           "legendgroup": "SUBCOMPACT",
           "line": {
            "color": "#511CFB",
            "dash": "solid"
           },
           "marker": {
            "symbol": "circle"
           },
           "mode": "markers+lines",
           "name": "SUBCOMPACT",
           "orientation": "v",
           "showlegend": true,
           "type": "scatter",
           "x": [
            2013
           ],
           "xaxis": "x",
           "y": [
            30.63157894736842
           ],
           "yaxis": "y"
          },
          {
           "hovertemplate": "color=TWO-SEATER<br>animation_frame=2013<br>x=%{x}<br>y=%{y}<extra></extra>",
           "ids": [
            "TWO-SEATER"
           ],
           "legendgroup": "TWO-SEATER",
           "line": {
            "color": "#FB00D1",
            "dash": "solid"
           },
           "marker": {
            "symbol": "circle"
           },
           "mode": "markers+lines",
           "name": "TWO-SEATER",
           "orientation": "v",
           "showlegend": true,
           "type": "scatter",
           "x": [
            2013
           ],
           "xaxis": "x",
           "y": [
            31.75862068965517
           ],
           "yaxis": "y"
          },
          {
           "hovertemplate": "color=VAN - CARGO<br>animation_frame=2013<br>x=%{x}<br>y=%{y}<extra></extra>",
           "ids": [
            "VAN - CARGO"
           ],
           "legendgroup": "VAN - CARGO",
           "line": {
            "color": "#FC0080",
            "dash": "solid"
           },
           "marker": {
            "symbol": "circle"
           },
           "mode": "markers+lines",
           "name": "VAN - CARGO",
           "orientation": "v",
           "showlegend": true,
           "type": "scatter",
           "x": [
            2013
           ],
           "xaxis": "x",
           "y": [
            17.40909090909091
           ],
           "yaxis": "y"
          },
          {
           "hovertemplate": "color=VAN - PASSENGER<br>animation_frame=2013<br>x=%{x}<br>y=%{y}<extra></extra>",
           "ids": [
            "VAN - PASSENGER"
           ],
           "legendgroup": "VAN - PASSENGER",
           "line": {
            "color": "#B2828D",
            "dash": "solid"
           },
           "marker": {
            "symbol": "circle"
           },
           "mode": "markers+lines",
           "name": "VAN - PASSENGER",
           "orientation": "v",
           "showlegend": true,
           "type": "scatter",
           "x": [
            2013
           ],
           "xaxis": "x",
           "y": [
            15.633333333333333
           ],
           "yaxis": "y"
          },
          {
           "hovertemplate": "color=SUV - STANDARD<br>animation_frame=2013<br>x=%{x}<br>y=%{y}<extra></extra>",
           "ids": [
            "SUV - STANDARD"
           ],
           "legendgroup": "SUV - STANDARD",
           "line": {
            "color": "#6C7C32",
            "dash": "solid"
           },
           "marker": {
            "symbol": "circle"
           },
           "mode": "markers+lines",
           "name": "SUV - STANDARD",
           "orientation": "v",
           "showlegend": true,
           "type": "scatter",
           "x": [
            2013
           ],
           "xaxis": "x",
           "y": [
            22.396039603960396
           ],
           "yaxis": "y"
          },
          {
           "hovertemplate": "color=SPECIAL PURPOSE VEHICLE<br>animation_frame=2013<br>x=%{x}<br>y=%{y}<extra></extra>",
           "ids": [
            "SPECIAL PURPOSE VEHICLE"
           ],
           "legendgroup": "SPECIAL PURPOSE VEHICLE",
           "line": {
            "color": "#778AAE",
            "dash": "solid"
           },
           "marker": {
            "symbol": "circle"
           },
           "mode": "markers+lines",
           "name": "SPECIAL PURPOSE VEHICLE",
           "orientation": "v",
           "showlegend": true,
           "type": "scatter",
           "x": [
            2013
           ],
           "xaxis": "x",
           "y": [
            31.6
           ],
           "yaxis": "y"
          },
          {
           "hovertemplate": "color=SUV - SMALL<br>animation_frame=2013<br>x=%{x}<br>y=%{y}<extra></extra>",
           "ids": [
            "SUV - SMALL"
           ],
           "legendgroup": "SUV - SMALL",
           "line": {
            "color": "#862A16",
            "dash": "solid"
           },
           "marker": {
            "symbol": "circle"
           },
           "mode": "markers+lines",
           "name": "SUV - SMALL",
           "orientation": "v",
           "showlegend": true,
           "type": "scatter",
           "x": [
            2013
           ],
           "xaxis": "x",
           "y": [
            30.892086330935253
           ],
           "yaxis": "y"
          }
         ],
         "name": "2013"
        },
        {
         "data": [
          {
           "hovertemplate": "color=COMPACT<br>animation_frame=2014<br>x=%{x}<br>y=%{y}<extra></extra>",
           "ids": [
            "COMPACT"
           ],
           "legendgroup": "COMPACT",
           "line": {
            "color": "#2E91E5",
            "dash": "solid"
           },
           "marker": {
            "symbol": "circle"
           },
           "mode": "markers+lines",
           "name": "COMPACT",
           "orientation": "v",
           "showlegend": true,
           "type": "scatter",
           "x": [
            2014
           ],
           "xaxis": "x",
           "y": [
            36.19047619047619
           ],
           "yaxis": "y"
          },
          {
           "hovertemplate": "color=FULL-SIZE<br>animation_frame=2014<br>x=%{x}<br>y=%{y}<extra></extra>",
           "ids": [
            "FULL-SIZE"
           ],
           "legendgroup": "FULL-SIZE",
           "line": {
            "color": "#E15F99",
            "dash": "solid"
           },
           "marker": {
            "symbol": "circle"
           },
           "mode": "markers+lines",
           "name": "FULL-SIZE",
           "orientation": "v",
           "showlegend": true,
           "type": "scatter",
           "x": [
            2014
           ],
           "xaxis": "x",
           "y": [
            27.607142857142858
           ],
           "yaxis": "y"
          },
          {
           "hovertemplate": "color=MID-SIZE<br>animation_frame=2014<br>x=%{x}<br>y=%{y}<extra></extra>",
           "ids": [
            "MID-SIZE"
           ],
           "legendgroup": "MID-SIZE",
           "line": {
            "color": "#1CA71C",
            "dash": "solid"
           },
           "marker": {
            "symbol": "circle"
           },
           "mode": "markers+lines",
           "name": "MID-SIZE",
           "orientation": "v",
           "showlegend": true,
           "type": "scatter",
           "x": [
            2014
           ],
           "xaxis": "x",
           "y": [
            35.752941176470586
           ],
           "yaxis": "y"
          },
          {
           "hovertemplate": "color=MINICOMPACT<br>animation_frame=2014<br>x=%{x}<br>y=%{y}<extra></extra>",
           "ids": [
            "MINICOMPACT"
           ],
           "legendgroup": "MINICOMPACT",
           "line": {
            "color": "#FB0D0D",
            "dash": "solid"
           },
           "marker": {
            "symbol": "circle"
           },
           "mode": "markers+lines",
           "name": "MINICOMPACT",
           "orientation": "v",
           "showlegend": true,
           "type": "scatter",
           "x": [
            2014
           ],
           "xaxis": "x",
           "y": [
            33.744680851063826
           ],
           "yaxis": "y"
          },
          {
           "hovertemplate": "color=MINIVAN<br>animation_frame=2014<br>x=%{x}<br>y=%{y}<extra></extra>",
           "ids": [
            "MINIVAN"
           ],
           "legendgroup": "MINIVAN",
           "line": {
            "color": "#DA16FF",
            "dash": "solid"
           },
           "marker": {
            "symbol": "circle"
           },
           "mode": "markers+lines",
           "name": "MINIVAN",
           "orientation": "v",
           "showlegend": true,
           "type": "scatter",
           "x": [
            2014
           ],
           "xaxis": "x",
           "y": [
            26.928571428571427
           ],
           "yaxis": "y"
          },
          {
           "hovertemplate": "color=PICKUP TRUCK - SMALL<br>animation_frame=2014<br>x=%{x}<br>y=%{y}<extra></extra>",
           "ids": [
            "PICKUP TRUCK - SMALL"
           ],
           "legendgroup": "PICKUP TRUCK - SMALL",
           "line": {
            "color": "#222A2A",
            "dash": "solid"
           },
           "marker": {
            "symbol": "circle"
           },
           "mode": "markers+lines",
           "name": "PICKUP TRUCK - SMALL",
           "orientation": "v",
           "showlegend": true,
           "type": "scatter",
           "x": [
            2014
           ],
           "xaxis": "x",
           "y": [
            26.5
           ],
           "yaxis": "y"
          },
          {
           "hovertemplate": "color=PICKUP TRUCK - STANDARD<br>animation_frame=2014<br>x=%{x}<br>y=%{y}<extra></extra>",
           "ids": [
            "PICKUP TRUCK - STANDARD"
           ],
           "legendgroup": "PICKUP TRUCK - STANDARD",
           "line": {
            "color": "#B68100",
            "dash": "solid"
           },
           "marker": {
            "symbol": "circle"
           },
           "mode": "markers+lines",
           "name": "PICKUP TRUCK - STANDARD",
           "orientation": "v",
           "showlegend": true,
           "type": "scatter",
           "x": [
            2014
           ],
           "xaxis": "x",
           "y": [
            22.112903225806452
           ],
           "yaxis": "y"
          },
          {
           "hovertemplate": "color=STATION WAGON - MID-SIZE<br>animation_frame=2014<br>x=%{x}<br>y=%{y}<extra></extra>",
           "ids": [
            "STATION WAGON - MID-SIZE"
           ],
           "legendgroup": "STATION WAGON - MID-SIZE",
           "line": {
            "color": "#750D86",
            "dash": "solid"
           },
           "marker": {
            "symbol": "circle"
           },
           "mode": "markers+lines",
           "name": "STATION WAGON - MID-SIZE",
           "orientation": "v",
           "showlegend": true,
           "type": "scatter",
           "x": [
            2014
           ],
           "xaxis": "x",
           "y": [
            35.5
           ],
           "yaxis": "y"
          },
          {
           "hovertemplate": "color=STATION WAGON - SMALL<br>animation_frame=2014<br>x=%{x}<br>y=%{y}<extra></extra>",
           "ids": [
            "STATION WAGON - SMALL"
           ],
           "legendgroup": "STATION WAGON - SMALL",
           "line": {
            "color": "#EB663B",
            "dash": "solid"
           },
           "marker": {
            "symbol": "circle"
           },
           "mode": "markers+lines",
           "name": "STATION WAGON - SMALL",
           "orientation": "v",
           "showlegend": true,
           "type": "scatter",
           "x": [
            2014
           ],
           "xaxis": "x",
           "y": [
            35.470588235294116
           ],
           "yaxis": "y"
          },
          {
           "hovertemplate": "color=SUBCOMPACT<br>animation_frame=2014<br>x=%{x}<br>y=%{y}<extra></extra>",
           "ids": [
            "SUBCOMPACT"
           ],
           "legendgroup": "SUBCOMPACT",
           "line": {
            "color": "#511CFB",
            "dash": "solid"
           },
           "marker": {
            "symbol": "circle"
           },
           "mode": "markers+lines",
           "name": "SUBCOMPACT",
           "orientation": "v",
           "showlegend": true,
           "type": "scatter",
           "x": [
            2014
           ],
           "xaxis": "x",
           "y": [
            31.903225806451612
           ],
           "yaxis": "y"
          },
          {
           "hovertemplate": "color=TWO-SEATER<br>animation_frame=2014<br>x=%{x}<br>y=%{y}<extra></extra>",
           "ids": [
            "TWO-SEATER"
           ],
           "legendgroup": "TWO-SEATER",
           "line": {
            "color": "#FB00D1",
            "dash": "solid"
           },
           "marker": {
            "symbol": "circle"
           },
           "mode": "markers+lines",
           "name": "TWO-SEATER",
           "orientation": "v",
           "showlegend": true,
           "type": "scatter",
           "x": [
            2014
           ],
           "xaxis": "x",
           "y": [
            31.271428571428572
           ],
           "yaxis": "y"
          },
          {
           "hovertemplate": "color=VAN - CARGO<br>animation_frame=2014<br>x=%{x}<br>y=%{y}<extra></extra>",
           "ids": [
            "VAN - CARGO"
           ],
           "legendgroup": "VAN - CARGO",
           "line": {
            "color": "#FC0080",
            "dash": "solid"
           },
           "marker": {
            "symbol": "circle"
           },
           "mode": "markers+lines",
           "name": "VAN - CARGO",
           "orientation": "v",
           "showlegend": true,
           "type": "scatter",
           "x": [
            2014
           ],
           "xaxis": "x",
           "y": [
            17.318181818181817
           ],
           "yaxis": "y"
          },
          {
           "hovertemplate": "color=VAN - PASSENGER<br>animation_frame=2014<br>x=%{x}<br>y=%{y}<extra></extra>",
           "ids": [
            "VAN - PASSENGER"
           ],
           "legendgroup": "VAN - PASSENGER",
           "line": {
            "color": "#B2828D",
            "dash": "solid"
           },
           "marker": {
            "symbol": "circle"
           },
           "mode": "markers+lines",
           "name": "VAN - PASSENGER",
           "orientation": "v",
           "showlegend": true,
           "type": "scatter",
           "x": [
            2014
           ],
           "xaxis": "x",
           "y": [
            16
           ],
           "yaxis": "y"
          },
          {
           "hovertemplate": "color=SUV - STANDARD<br>animation_frame=2014<br>x=%{x}<br>y=%{y}<extra></extra>",
           "ids": [
            "SUV - STANDARD"
           ],
           "legendgroup": "SUV - STANDARD",
           "line": {
            "color": "#6C7C32",
            "dash": "solid"
           },
           "marker": {
            "symbol": "circle"
           },
           "mode": "markers+lines",
           "name": "SUV - STANDARD",
           "orientation": "v",
           "showlegend": true,
           "type": "scatter",
           "x": [
            2014
           ],
           "xaxis": "x",
           "y": [
            22.813725490196077
           ],
           "yaxis": "y"
          },
          {
           "hovertemplate": "color=SPECIAL PURPOSE VEHICLE<br>animation_frame=2014<br>x=%{x}<br>y=%{y}<extra></extra>",
           "ids": [
            "SPECIAL PURPOSE VEHICLE"
           ],
           "legendgroup": "SPECIAL PURPOSE VEHICLE",
           "line": {
            "color": "#778AAE",
            "dash": "solid"
           },
           "marker": {
            "symbol": "circle"
           },
           "mode": "markers+lines",
           "name": "SPECIAL PURPOSE VEHICLE",
           "orientation": "v",
           "showlegend": true,
           "type": "scatter",
           "x": [
            2014
           ],
           "xaxis": "x",
           "y": [
            31.857142857142858
           ],
           "yaxis": "y"
          },
          {
           "hovertemplate": "color=SUV - SMALL<br>animation_frame=2014<br>x=%{x}<br>y=%{y}<extra></extra>",
           "ids": [
            "SUV - SMALL"
           ],
           "legendgroup": "SUV - SMALL",
           "line": {
            "color": "#862A16",
            "dash": "solid"
           },
           "marker": {
            "symbol": "circle"
           },
           "mode": "markers+lines",
           "name": "SUV - SMALL",
           "orientation": "v",
           "showlegend": true,
           "type": "scatter",
           "x": [
            2014
           ],
           "xaxis": "x",
           "y": [
            31.316129032258065
           ],
           "yaxis": "y"
          }
         ],
         "name": "2014"
        },
        {
         "data": [
          {
           "hovertemplate": "color=COMPACT<br>animation_frame=2015<br>x=%{x}<br>y=%{y}<extra></extra>",
           "ids": [
            "COMPACT"
           ],
           "legendgroup": "COMPACT",
           "line": {
            "color": "#2E91E5",
            "dash": "solid"
           },
           "marker": {
            "symbol": "circle"
           },
           "mode": "markers+lines",
           "name": "COMPACT",
           "orientation": "v",
           "showlegend": true,
           "type": "scatter",
           "x": [
            2015
           ],
           "xaxis": "x",
           "y": [
            31.333333333333332
           ],
           "yaxis": "y"
          },
          {
           "hovertemplate": "color=FULL-SIZE<br>animation_frame=2015<br>x=%{x}<br>y=%{y}<extra></extra>",
           "ids": [
            "FULL-SIZE"
           ],
           "legendgroup": "FULL-SIZE",
           "line": {
            "color": "#E15F99",
            "dash": "solid"
           },
           "marker": {
            "symbol": "circle"
           },
           "mode": "markers+lines",
           "name": "FULL-SIZE",
           "orientation": "v",
           "showlegend": true,
           "type": "scatter",
           "x": [
            2015
           ],
           "xaxis": "x",
           "y": [
            24
           ],
           "yaxis": "y"
          },
          {
           "hovertemplate": "color=MID-SIZE<br>animation_frame=2015<br>x=%{x}<br>y=%{y}<extra></extra>",
           "ids": [
            "MID-SIZE"
           ],
           "legendgroup": "MID-SIZE",
           "line": {
            "color": "#1CA71C",
            "dash": "solid"
           },
           "marker": {
            "symbol": "circle"
           },
           "mode": "markers+lines",
           "name": "MID-SIZE",
           "orientation": "v",
           "showlegend": true,
           "type": "scatter",
           "x": [
            2015
           ],
           "xaxis": "x",
           "y": [
            31.044444444444444
           ],
           "yaxis": "y"
          },
          {
           "hovertemplate": "color=MINICOMPACT<br>animation_frame=2015<br>x=%{x}<br>y=%{y}<extra></extra>",
           "ids": [
            "MINICOMPACT"
           ],
           "legendgroup": "MINICOMPACT",
           "line": {
            "color": "#FB0D0D",
            "dash": "solid"
           },
           "marker": {
            "symbol": "circle"
           },
           "mode": "markers+lines",
           "name": "MINICOMPACT",
           "orientation": "v",
           "showlegend": true,
           "type": "scatter",
           "x": [
            2015
           ],
           "xaxis": "x",
           "y": [
            28.593220338983052
           ],
           "yaxis": "y"
          },
          {
           "hovertemplate": "color=MINIVAN<br>animation_frame=2015<br>x=%{x}<br>y=%{y}<extra></extra>",
           "ids": [
            "MINIVAN"
           ],
           "legendgroup": "MINIVAN",
           "line": {
            "color": "#DA16FF",
            "dash": "solid"
           },
           "marker": {
            "symbol": "circle"
           },
           "mode": "markers+lines",
           "name": "MINIVAN",
           "orientation": "v",
           "showlegend": true,
           "type": "scatter",
           "x": [
            2015
           ],
           "xaxis": "x",
           "y": [
            23.8
           ],
           "yaxis": "y"
          },
          {
           "hovertemplate": "color=PICKUP TRUCK - SMALL<br>animation_frame=2015<br>x=%{x}<br>y=%{y}<extra></extra>",
           "ids": [
            "PICKUP TRUCK - SMALL"
           ],
           "legendgroup": "PICKUP TRUCK - SMALL",
           "line": {
            "color": "#222A2A",
            "dash": "solid"
           },
           "marker": {
            "symbol": "circle"
           },
           "mode": "markers+lines",
           "name": "PICKUP TRUCK - SMALL",
           "orientation": "v",
           "showlegend": true,
           "type": "scatter",
           "x": [
            2015
           ],
           "xaxis": "x",
           "y": [
            23.954545454545453
           ],
           "yaxis": "y"
          },
          {
           "hovertemplate": "color=PICKUP TRUCK - STANDARD<br>animation_frame=2015<br>x=%{x}<br>y=%{y}<extra></extra>",
           "ids": [
            "PICKUP TRUCK - STANDARD"
           ],
           "legendgroup": "PICKUP TRUCK - STANDARD",
           "line": {
            "color": "#B68100",
            "dash": "solid"
           },
           "marker": {
            "symbol": "circle"
           },
           "mode": "markers+lines",
           "name": "PICKUP TRUCK - STANDARD",
           "orientation": "v",
           "showlegend": true,
           "type": "scatter",
           "x": [
            2015
           ],
           "xaxis": "x",
           "y": [
            20.48076923076923
           ],
           "yaxis": "y"
          },
          {
           "hovertemplate": "color=STATION WAGON - MID-SIZE<br>animation_frame=2015<br>x=%{x}<br>y=%{y}<extra></extra>",
           "ids": [
            "STATION WAGON - MID-SIZE"
           ],
           "legendgroup": "STATION WAGON - MID-SIZE",
           "line": {
            "color": "#750D86",
            "dash": "solid"
           },
           "marker": {
            "symbol": "circle"
           },
           "mode": "markers+lines",
           "name": "STATION WAGON - MID-SIZE",
           "orientation": "v",
           "showlegend": true,
           "type": "scatter",
           "x": [
            2015
           ],
           "xaxis": "x",
           "y": [
            30.625
           ],
           "yaxis": "y"
          },
          {
           "hovertemplate": "color=STATION WAGON - SMALL<br>animation_frame=2015<br>x=%{x}<br>y=%{y}<extra></extra>",
           "ids": [
            "STATION WAGON - SMALL"
           ],
           "legendgroup": "STATION WAGON - SMALL",
           "line": {
            "color": "#EB663B",
            "dash": "solid"
           },
           "marker": {
            "symbol": "circle"
           },
           "mode": "markers+lines",
           "name": "STATION WAGON - SMALL",
           "orientation": "v",
           "showlegend": true,
           "type": "scatter",
           "x": [
            2015
           ],
           "xaxis": "x",
           "y": [
            33.48571428571429
           ],
           "yaxis": "y"
          },
          {
           "hovertemplate": "color=SUBCOMPACT<br>animation_frame=2015<br>x=%{x}<br>y=%{y}<extra></extra>",
           "ids": [
            "SUBCOMPACT"
           ],
           "legendgroup": "SUBCOMPACT",
           "line": {
            "color": "#511CFB",
            "dash": "solid"
           },
           "marker": {
            "symbol": "circle"
           },
           "mode": "markers+lines",
           "name": "SUBCOMPACT",
           "orientation": "v",
           "showlegend": true,
           "type": "scatter",
           "x": [
            2015
           ],
           "xaxis": "x",
           "y": [
            28.66304347826087
           ],
           "yaxis": "y"
          },
          {
           "hovertemplate": "color=TWO-SEATER<br>animation_frame=2015<br>x=%{x}<br>y=%{y}<extra></extra>",
           "ids": [
            "TWO-SEATER"
           ],
           "legendgroup": "TWO-SEATER",
           "line": {
            "color": "#FB00D1",
            "dash": "solid"
           },
           "marker": {
            "symbol": "circle"
           },
           "mode": "markers+lines",
           "name": "TWO-SEATER",
           "orientation": "v",
           "showlegend": true,
           "type": "scatter",
           "x": [
            2015
           ],
           "xaxis": "x",
           "y": [
            26.404761904761905
           ],
           "yaxis": "y"
          },
          {
           "hovertemplate": "color=VAN - PASSENGER<br>animation_frame=2015<br>x=%{x}<br>y=%{y}<extra></extra>",
           "ids": [
            "VAN - PASSENGER"
           ],
           "legendgroup": "VAN - PASSENGER",
           "line": {
            "color": "#B2828D",
            "dash": "solid"
           },
           "marker": {
            "symbol": "circle"
           },
           "mode": "markers+lines",
           "name": "VAN - PASSENGER",
           "orientation": "v",
           "showlegend": true,
           "type": "scatter",
           "x": [
            2015
           ],
           "xaxis": "x",
           "y": [
            14.736842105263158
           ],
           "yaxis": "y"
          },
          {
           "hovertemplate": "color=SUV - STANDARD<br>animation_frame=2015<br>x=%{x}<br>y=%{y}<extra></extra>",
           "ids": [
            "SUV - STANDARD"
           ],
           "legendgroup": "SUV - STANDARD",
           "line": {
            "color": "#6C7C32",
            "dash": "solid"
           },
           "marker": {
            "symbol": "circle"
           },
           "mode": "markers+lines",
           "name": "SUV - STANDARD",
           "orientation": "v",
           "showlegend": true,
           "type": "scatter",
           "x": [
            2015
           ],
           "xaxis": "x",
           "y": [
            21.08080808080808
           ],
           "yaxis": "y"
          },
          {
           "hovertemplate": "color=SPECIAL PURPOSE VEHICLE<br>animation_frame=2015<br>x=%{x}<br>y=%{y}<extra></extra>",
           "ids": [
            "SPECIAL PURPOSE VEHICLE"
           ],
           "legendgroup": "SPECIAL PURPOSE VEHICLE",
           "line": {
            "color": "#778AAE",
            "dash": "solid"
           },
           "marker": {
            "symbol": "circle"
           },
           "mode": "markers+lines",
           "name": "SPECIAL PURPOSE VEHICLE",
           "orientation": "v",
           "showlegend": true,
           "type": "scatter",
           "x": [
            2015
           ],
           "xaxis": "x",
           "y": [
            28.22222222222222
           ],
           "yaxis": "y"
          },
          {
           "hovertemplate": "color=SUV - SMALL<br>animation_frame=2015<br>x=%{x}<br>y=%{y}<extra></extra>",
           "ids": [
            "SUV - SMALL"
           ],
           "legendgroup": "SUV - SMALL",
           "line": {
            "color": "#862A16",
            "dash": "solid"
           },
           "marker": {
            "symbol": "circle"
           },
           "mode": "markers+lines",
           "name": "SUV - SMALL",
           "orientation": "v",
           "showlegend": true,
           "type": "scatter",
           "x": [
            2015
           ],
           "xaxis": "x",
           "y": [
            27.70949720670391
           ],
           "yaxis": "y"
          }
         ],
         "name": "2015"
        },
        {
         "data": [
          {
           "hovertemplate": "color=COMPACT<br>animation_frame=2016<br>x=%{x}<br>y=%{y}<extra></extra>",
           "ids": [
            "COMPACT"
           ],
           "legendgroup": "COMPACT",
           "line": {
            "color": "#2E91E5",
            "dash": "solid"
           },
           "marker": {
            "symbol": "circle"
           },
           "mode": "markers+lines",
           "name": "COMPACT",
           "orientation": "v",
           "showlegend": true,
           "type": "scatter",
           "x": [
            2016
           ],
           "xaxis": "x",
           "y": [
            31.414364640883978
           ],
           "yaxis": "y"
          },
          {
           "hovertemplate": "color=FULL-SIZE<br>animation_frame=2016<br>x=%{x}<br>y=%{y}<extra></extra>",
           "ids": [
            "FULL-SIZE"
           ],
           "legendgroup": "FULL-SIZE",
           "line": {
            "color": "#E15F99",
            "dash": "solid"
           },
           "marker": {
            "symbol": "circle"
           },
           "mode": "markers+lines",
           "name": "FULL-SIZE",
           "orientation": "v",
           "showlegend": true,
           "type": "scatter",
           "x": [
            2016
           ],
           "xaxis": "x",
           "y": [
            24.27777777777778
           ],
           "yaxis": "y"
          },
          {
           "hovertemplate": "color=MID-SIZE<br>animation_frame=2016<br>x=%{x}<br>y=%{y}<extra></extra>",
           "ids": [
            "MID-SIZE"
           ],
           "legendgroup": "MID-SIZE",
           "line": {
            "color": "#1CA71C",
            "dash": "solid"
           },
           "marker": {
            "symbol": "circle"
           },
           "mode": "markers+lines",
           "name": "MID-SIZE",
           "orientation": "v",
           "showlegend": true,
           "type": "scatter",
           "x": [
            2016
           ],
           "xaxis": "x",
           "y": [
            31.335106382978722
           ],
           "yaxis": "y"
          },
          {
           "hovertemplate": "color=MINICOMPACT<br>animation_frame=2016<br>x=%{x}<br>y=%{y}<extra></extra>",
           "ids": [
            "MINICOMPACT"
           ],
           "legendgroup": "MINICOMPACT",
           "line": {
            "color": "#FB0D0D",
            "dash": "solid"
           },
           "marker": {
            "symbol": "circle"
           },
           "mode": "markers+lines",
           "name": "MINICOMPACT",
           "orientation": "v",
           "showlegend": true,
           "type": "scatter",
           "x": [
            2016
           ],
           "xaxis": "x",
           "y": [
            28.557692307692307
           ],
           "yaxis": "y"
          },
          {
           "hovertemplate": "color=MINIVAN<br>animation_frame=2016<br>x=%{x}<br>y=%{y}<extra></extra>",
           "ids": [
            "MINIVAN"
           ],
           "legendgroup": "MINIVAN",
           "line": {
            "color": "#DA16FF",
            "dash": "solid"
           },
           "marker": {
            "symbol": "circle"
           },
           "mode": "markers+lines",
           "name": "MINIVAN",
           "orientation": "v",
           "showlegend": true,
           "type": "scatter",
           "x": [
            2016
           ],
           "xaxis": "x",
           "y": [
            23.916666666666668
           ],
           "yaxis": "y"
          },
          {
           "hovertemplate": "color=PICKUP TRUCK - SMALL<br>animation_frame=2016<br>x=%{x}<br>y=%{y}<extra></extra>",
           "ids": [
            "PICKUP TRUCK - SMALL"
           ],
           "legendgroup": "PICKUP TRUCK - SMALL",
           "line": {
            "color": "#222A2A",
            "dash": "solid"
           },
           "marker": {
            "symbol": "circle"
           },
           "mode": "markers+lines",
           "name": "PICKUP TRUCK - SMALL",
           "orientation": "v",
           "showlegend": true,
           "type": "scatter",
           "x": [
            2016
           ],
           "xaxis": "x",
           "y": [
            24.884615384615383
           ],
           "yaxis": "y"
          },
          {
           "hovertemplate": "color=PICKUP TRUCK - STANDARD<br>animation_frame=2016<br>x=%{x}<br>y=%{y}<extra></extra>",
           "ids": [
            "PICKUP TRUCK - STANDARD"
           ],
           "legendgroup": "PICKUP TRUCK - STANDARD",
           "line": {
            "color": "#B68100",
            "dash": "solid"
           },
           "marker": {
            "symbol": "circle"
           },
           "mode": "markers+lines",
           "name": "PICKUP TRUCK - STANDARD",
           "orientation": "v",
           "showlegend": true,
           "type": "scatter",
           "x": [
            2016
           ],
           "xaxis": "x",
           "y": [
            20.5
           ],
           "yaxis": "y"
          },
          {
           "hovertemplate": "color=STATION WAGON - MID-SIZE<br>animation_frame=2016<br>x=%{x}<br>y=%{y}<extra></extra>",
           "ids": [
            "STATION WAGON - MID-SIZE"
           ],
           "legendgroup": "STATION WAGON - MID-SIZE",
           "line": {
            "color": "#750D86",
            "dash": "solid"
           },
           "marker": {
            "symbol": "circle"
           },
           "mode": "markers+lines",
           "name": "STATION WAGON - MID-SIZE",
           "orientation": "v",
           "showlegend": true,
           "type": "scatter",
           "x": [
            2016
           ],
           "xaxis": "x",
           "y": [
            30.857142857142858
           ],
           "yaxis": "y"
          },
          {
           "hovertemplate": "color=STATION WAGON - SMALL<br>animation_frame=2016<br>x=%{x}<br>y=%{y}<extra></extra>",
           "ids": [
            "STATION WAGON - SMALL"
           ],
           "legendgroup": "STATION WAGON - SMALL",
           "line": {
            "color": "#EB663B",
            "dash": "solid"
           },
           "marker": {
            "symbol": "circle"
           },
           "mode": "markers+lines",
           "name": "STATION WAGON - SMALL",
           "orientation": "v",
           "showlegend": true,
           "type": "scatter",
           "x": [
            2016
           ],
           "xaxis": "x",
           "y": [
            33.270270270270274
           ],
           "yaxis": "y"
          },
          {
           "hovertemplate": "color=SUBCOMPACT<br>animation_frame=2016<br>x=%{x}<br>y=%{y}<extra></extra>",
           "ids": [
            "SUBCOMPACT"
           ],
           "legendgroup": "SUBCOMPACT",
           "line": {
            "color": "#511CFB",
            "dash": "solid"
           },
           "marker": {
            "symbol": "circle"
           },
           "mode": "markers+lines",
           "name": "SUBCOMPACT",
           "orientation": "v",
           "showlegend": true,
           "type": "scatter",
           "x": [
            2016
           ],
           "xaxis": "x",
           "y": [
            28.513157894736842
           ],
           "yaxis": "y"
          },
          {
           "hovertemplate": "color=TWO-SEATER<br>animation_frame=2016<br>x=%{x}<br>y=%{y}<extra></extra>",
           "ids": [
            "TWO-SEATER"
           ],
           "legendgroup": "TWO-SEATER",
           "line": {
            "color": "#FB00D1",
            "dash": "solid"
           },
           "marker": {
            "symbol": "circle"
           },
           "mode": "markers+lines",
           "name": "TWO-SEATER",
           "orientation": "v",
           "showlegend": true,
           "type": "scatter",
           "x": [
            2016
           ],
           "xaxis": "x",
           "y": [
            25.441176470588236
           ],
           "yaxis": "y"
          },
          {
           "hovertemplate": "color=VAN - PASSENGER<br>animation_frame=2016<br>x=%{x}<br>y=%{y}<extra></extra>",
           "ids": [
            "VAN - PASSENGER"
           ],
           "legendgroup": "VAN - PASSENGER",
           "line": {
            "color": "#B2828D",
            "dash": "solid"
           },
           "marker": {
            "symbol": "circle"
           },
           "mode": "markers+lines",
           "name": "VAN - PASSENGER",
           "orientation": "v",
           "showlegend": true,
           "type": "scatter",
           "x": [
            2016
           ],
           "xaxis": "x",
           "y": [
            15.571428571428571
           ],
           "yaxis": "y"
          },
          {
           "hovertemplate": "color=SUV - STANDARD<br>animation_frame=2016<br>x=%{x}<br>y=%{y}<extra></extra>",
           "ids": [
            "SUV - STANDARD"
           ],
           "legendgroup": "SUV - STANDARD",
           "line": {
            "color": "#6C7C32",
            "dash": "solid"
           },
           "marker": {
            "symbol": "circle"
           },
           "mode": "markers+lines",
           "name": "SUV - STANDARD",
           "orientation": "v",
           "showlegend": true,
           "type": "scatter",
           "x": [
            2016
           ],
           "xaxis": "x",
           "y": [
            21.850467289719628
           ],
           "yaxis": "y"
          },
          {
           "hovertemplate": "color=SPECIAL PURPOSE VEHICLE<br>animation_frame=2016<br>x=%{x}<br>y=%{y}<extra></extra>",
           "ids": [
            "SPECIAL PURPOSE VEHICLE"
           ],
           "legendgroup": "SPECIAL PURPOSE VEHICLE",
           "line": {
            "color": "#778AAE",
            "dash": "solid"
           },
           "marker": {
            "symbol": "circle"
           },
           "mode": "markers+lines",
           "name": "SPECIAL PURPOSE VEHICLE",
           "orientation": "v",
           "showlegend": true,
           "type": "scatter",
           "x": [
            2016
           ],
           "xaxis": "x",
           "y": [
            25.647058823529413
           ],
           "yaxis": "y"
          },
          {
           "hovertemplate": "color=SUV - SMALL<br>animation_frame=2016<br>x=%{x}<br>y=%{y}<extra></extra>",
           "ids": [
            "SUV - SMALL"
           ],
           "legendgroup": "SUV - SMALL",
           "line": {
            "color": "#862A16",
            "dash": "solid"
           },
           "marker": {
            "symbol": "circle"
           },
           "mode": "markers+lines",
           "name": "SUV - SMALL",
           "orientation": "v",
           "showlegend": true,
           "type": "scatter",
           "x": [
            2016
           ],
           "xaxis": "x",
           "y": [
            28.227777777777778
           ],
           "yaxis": "y"
          }
         ],
         "name": "2016"
        },
        {
         "data": [
          {
           "hovertemplate": "color=COMPACT<br>animation_frame=2017<br>x=%{x}<br>y=%{y}<extra></extra>",
           "ids": [
            "COMPACT"
           ],
           "legendgroup": "COMPACT",
           "line": {
            "color": "#2E91E5",
            "dash": "solid"
           },
           "marker": {
            "symbol": "circle"
           },
           "mode": "markers+lines",
           "name": "COMPACT",
           "orientation": "v",
           "showlegend": true,
           "type": "scatter",
           "x": [
            2017
           ],
           "xaxis": "x",
           "y": [
            31.60377358490566
           ],
           "yaxis": "y"
          },
          {
           "hovertemplate": "color=FULL-SIZE<br>animation_frame=2017<br>x=%{x}<br>y=%{y}<extra></extra>",
           "ids": [
            "FULL-SIZE"
           ],
           "legendgroup": "FULL-SIZE",
           "line": {
            "color": "#E15F99",
            "dash": "solid"
           },
           "marker": {
            "symbol": "circle"
           },
           "mode": "markers+lines",
           "name": "FULL-SIZE",
           "orientation": "v",
           "showlegend": true,
           "type": "scatter",
           "x": [
            2017
           ],
           "xaxis": "x",
           "y": [
            26.402439024390244
           ],
           "yaxis": "y"
          },
          {
           "hovertemplate": "color=MID-SIZE<br>animation_frame=2017<br>x=%{x}<br>y=%{y}<extra></extra>",
           "ids": [
            "MID-SIZE"
           ],
           "legendgroup": "MID-SIZE",
           "line": {
            "color": "#1CA71C",
            "dash": "solid"
           },
           "marker": {
            "symbol": "circle"
           },
           "mode": "markers+lines",
           "name": "MID-SIZE",
           "orientation": "v",
           "showlegend": true,
           "type": "scatter",
           "x": [
            2017
           ],
           "xaxis": "x",
           "y": [
            31.166666666666668
           ],
           "yaxis": "y"
          },
          {
           "hovertemplate": "color=MINICOMPACT<br>animation_frame=2017<br>x=%{x}<br>y=%{y}<extra></extra>",
           "ids": [
            "MINICOMPACT"
           ],
           "legendgroup": "MINICOMPACT",
           "line": {
            "color": "#FB0D0D",
            "dash": "solid"
           },
           "marker": {
            "symbol": "circle"
           },
           "mode": "markers+lines",
           "name": "MINICOMPACT",
           "orientation": "v",
           "showlegend": true,
           "type": "scatter",
           "x": [
            2017
           ],
           "xaxis": "x",
           "y": [
            29.84090909090909
           ],
           "yaxis": "y"
          },
          {
           "hovertemplate": "color=MINIVAN<br>animation_frame=2017<br>x=%{x}<br>y=%{y}<extra></extra>",
           "ids": [
            "MINIVAN"
           ],
           "legendgroup": "MINIVAN",
           "line": {
            "color": "#DA16FF",
            "dash": "solid"
           },
           "marker": {
            "symbol": "circle"
           },
           "mode": "markers+lines",
           "name": "MINIVAN",
           "orientation": "v",
           "showlegend": true,
           "type": "scatter",
           "x": [
            2017
           ],
           "xaxis": "x",
           "y": [
            25
           ],
           "yaxis": "y"
          },
          {
           "hovertemplate": "color=PICKUP TRUCK - SMALL<br>animation_frame=2017<br>x=%{x}<br>y=%{y}<extra></extra>",
           "ids": [
            "PICKUP TRUCK - SMALL"
           ],
           "legendgroup": "PICKUP TRUCK - SMALL",
           "line": {
            "color": "#222A2A",
            "dash": "solid"
           },
           "marker": {
            "symbol": "circle"
           },
           "mode": "markers+lines",
           "name": "PICKUP TRUCK - SMALL",
           "orientation": "v",
           "showlegend": true,
           "type": "scatter",
           "x": [
            2017
           ],
           "xaxis": "x",
           "y": [
            24.392857142857142
           ],
           "yaxis": "y"
          },
          {
           "hovertemplate": "color=PICKUP TRUCK - STANDARD<br>animation_frame=2017<br>x=%{x}<br>y=%{y}<extra></extra>",
           "ids": [
            "PICKUP TRUCK - STANDARD"
           ],
           "legendgroup": "PICKUP TRUCK - STANDARD",
           "line": {
            "color": "#B68100",
            "dash": "solid"
           },
           "marker": {
            "symbol": "circle"
           },
           "mode": "markers+lines",
           "name": "PICKUP TRUCK - STANDARD",
           "orientation": "v",
           "showlegend": true,
           "type": "scatter",
           "x": [
            2017
           ],
           "xaxis": "x",
           "y": [
            20.56
           ],
           "yaxis": "y"
          },
          {
           "hovertemplate": "color=STATION WAGON - MID-SIZE<br>animation_frame=2017<br>x=%{x}<br>y=%{y}<extra></extra>",
           "ids": [
            "STATION WAGON - MID-SIZE"
           ],
           "legendgroup": "STATION WAGON - MID-SIZE",
           "line": {
            "color": "#750D86",
            "dash": "solid"
           },
           "marker": {
            "symbol": "circle"
           },
           "mode": "markers+lines",
           "name": "STATION WAGON - MID-SIZE",
           "orientation": "v",
           "showlegend": true,
           "type": "scatter",
           "x": [
            2017
           ],
           "xaxis": "x",
           "y": [
            32.125
           ],
           "yaxis": "y"
          },
          {
           "hovertemplate": "color=STATION WAGON - SMALL<br>animation_frame=2017<br>x=%{x}<br>y=%{y}<extra></extra>",
           "ids": [
            "STATION WAGON - SMALL"
           ],
           "legendgroup": "STATION WAGON - SMALL",
           "line": {
            "color": "#EB663B",
            "dash": "solid"
           },
           "marker": {
            "symbol": "circle"
           },
           "mode": "markers+lines",
           "name": "STATION WAGON - SMALL",
           "orientation": "v",
           "showlegend": true,
           "type": "scatter",
           "x": [
            2017
           ],
           "xaxis": "x",
           "y": [
            35.06666666666667
           ],
           "yaxis": "y"
          },
          {
           "hovertemplate": "color=SUBCOMPACT<br>animation_frame=2017<br>x=%{x}<br>y=%{y}<extra></extra>",
           "ids": [
            "SUBCOMPACT"
           ],
           "legendgroup": "SUBCOMPACT",
           "line": {
            "color": "#511CFB",
            "dash": "solid"
           },
           "marker": {
            "symbol": "circle"
           },
           "mode": "markers+lines",
           "name": "SUBCOMPACT",
           "orientation": "v",
           "showlegend": true,
           "type": "scatter",
           "x": [
            2017
           ],
           "xaxis": "x",
           "y": [
            27.580645161290324
           ],
           "yaxis": "y"
          },
          {
           "hovertemplate": "color=TWO-SEATER<br>animation_frame=2017<br>x=%{x}<br>y=%{y}<extra></extra>",
           "ids": [
            "TWO-SEATER"
           ],
           "legendgroup": "TWO-SEATER",
           "line": {
            "color": "#FB00D1",
            "dash": "solid"
           },
           "marker": {
            "symbol": "circle"
           },
           "mode": "markers+lines",
           "name": "TWO-SEATER",
           "orientation": "v",
           "showlegend": true,
           "type": "scatter",
           "x": [
            2017
           ],
           "xaxis": "x",
           "y": [
            24.75438596491228
           ],
           "yaxis": "y"
          },
          {
           "hovertemplate": "color=VAN - PASSENGER<br>animation_frame=2017<br>x=%{x}<br>y=%{y}<extra></extra>",
           "ids": [
            "VAN - PASSENGER"
           ],
           "legendgroup": "VAN - PASSENGER",
           "line": {
            "color": "#B2828D",
            "dash": "solid"
           },
           "marker": {
            "symbol": "circle"
           },
           "mode": "markers+lines",
           "name": "VAN - PASSENGER",
           "orientation": "v",
           "showlegend": true,
           "type": "scatter",
           "x": [
            2017
           ],
           "xaxis": "x",
           "y": [
            16
           ],
           "yaxis": "y"
          },
          {
           "hovertemplate": "color=SUV - STANDARD<br>animation_frame=2017<br>x=%{x}<br>y=%{y}<extra></extra>",
           "ids": [
            "SUV - STANDARD"
           ],
           "legendgroup": "SUV - STANDARD",
           "line": {
            "color": "#6C7C32",
            "dash": "solid"
           },
           "marker": {
            "symbol": "circle"
           },
           "mode": "markers+lines",
           "name": "SUV - STANDARD",
           "orientation": "v",
           "showlegend": true,
           "type": "scatter",
           "x": [
            2017
           ],
           "xaxis": "x",
           "y": [
            21.598039215686274
           ],
           "yaxis": "y"
          },
          {
           "hovertemplate": "color=SPECIAL PURPOSE VEHICLE<br>animation_frame=2017<br>x=%{x}<br>y=%{y}<extra></extra>",
           "ids": [
            "SPECIAL PURPOSE VEHICLE"
           ],
           "legendgroup": "SPECIAL PURPOSE VEHICLE",
           "line": {
            "color": "#778AAE",
            "dash": "solid"
           },
           "marker": {
            "symbol": "circle"
           },
           "mode": "markers+lines",
           "name": "SPECIAL PURPOSE VEHICLE",
           "orientation": "v",
           "showlegend": true,
           "type": "scatter",
           "x": [
            2017
           ],
           "xaxis": "x",
           "y": [
            25.8
           ],
           "yaxis": "y"
          },
          {
           "hovertemplate": "color=SUV - SMALL<br>animation_frame=2017<br>x=%{x}<br>y=%{y}<extra></extra>",
           "ids": [
            "SUV - SMALL"
           ],
           "legendgroup": "SUV - SMALL",
           "line": {
            "color": "#862A16",
            "dash": "solid"
           },
           "marker": {
            "symbol": "circle"
           },
           "mode": "markers+lines",
           "name": "SUV - SMALL",
           "orientation": "v",
           "showlegend": true,
           "type": "scatter",
           "x": [
            2017
           ],
           "xaxis": "x",
           "y": [
            27.775862068965516
           ],
           "yaxis": "y"
          }
         ],
         "name": "2017"
        },
        {
         "data": [
          {
           "hovertemplate": "color=COMPACT<br>animation_frame=2018<br>x=%{x}<br>y=%{y}<extra></extra>",
           "ids": [
            "COMPACT"
           ],
           "legendgroup": "COMPACT",
           "line": {
            "color": "#2E91E5",
            "dash": "solid"
           },
           "marker": {
            "symbol": "circle"
           },
           "mode": "markers+lines",
           "name": "COMPACT",
           "orientation": "v",
           "showlegend": true,
           "type": "scatter",
           "x": [
            2018
           ],
           "xaxis": "x",
           "y": [
            32.23770491803279
           ],
           "yaxis": "y"
          },
          {
           "hovertemplate": "color=FULL-SIZE<br>animation_frame=2018<br>x=%{x}<br>y=%{y}<extra></extra>",
           "ids": [
            "FULL-SIZE"
           ],
           "legendgroup": "FULL-SIZE",
           "line": {
            "color": "#E15F99",
            "dash": "solid"
           },
           "marker": {
            "symbol": "circle"
           },
           "mode": "markers+lines",
           "name": "FULL-SIZE",
           "orientation": "v",
           "showlegend": true,
           "type": "scatter",
           "x": [
            2018
           ],
           "xaxis": "x",
           "y": [
            27.192660550458715
           ],
           "yaxis": "y"
          },
          {
           "hovertemplate": "color=MID-SIZE<br>animation_frame=2018<br>x=%{x}<br>y=%{y}<extra></extra>",
           "ids": [
            "MID-SIZE"
           ],
           "legendgroup": "MID-SIZE",
           "line": {
            "color": "#1CA71C",
            "dash": "solid"
           },
           "marker": {
            "symbol": "circle"
           },
           "mode": "markers+lines",
           "name": "MID-SIZE",
           "orientation": "v",
           "showlegend": true,
           "type": "scatter",
           "x": [
            2018
           ],
           "xaxis": "x",
           "y": [
            31.664556962025316
           ],
           "yaxis": "y"
          },
          {
           "hovertemplate": "color=MINICOMPACT<br>animation_frame=2018<br>x=%{x}<br>y=%{y}<extra></extra>",
           "ids": [
            "MINICOMPACT"
           ],
           "legendgroup": "MINICOMPACT",
           "line": {
            "color": "#FB0D0D",
            "dash": "solid"
           },
           "marker": {
            "symbol": "circle"
           },
           "mode": "markers+lines",
           "name": "MINICOMPACT",
           "orientation": "v",
           "showlegend": true,
           "type": "scatter",
           "x": [
            2018
           ],
           "xaxis": "x",
           "y": [
            28.245283018867923
           ],
           "yaxis": "y"
          },
          {
           "hovertemplate": "color=MINIVAN<br>animation_frame=2018<br>x=%{x}<br>y=%{y}<extra></extra>",
           "ids": [
            "MINIVAN"
           ],
           "legendgroup": "MINIVAN",
           "line": {
            "color": "#DA16FF",
            "dash": "solid"
           },
           "marker": {
            "symbol": "circle"
           },
           "mode": "markers+lines",
           "name": "MINIVAN",
           "orientation": "v",
           "showlegend": true,
           "type": "scatter",
           "x": [
            2018
           ],
           "xaxis": "x",
           "y": [
            24.454545454545453
           ],
           "yaxis": "y"
          },
          {
           "hovertemplate": "color=PICKUP TRUCK - SMALL<br>animation_frame=2018<br>x=%{x}<br>y=%{y}<extra></extra>",
           "ids": [
            "PICKUP TRUCK - SMALL"
           ],
           "legendgroup": "PICKUP TRUCK - SMALL",
           "line": {
            "color": "#222A2A",
            "dash": "solid"
           },
           "marker": {
            "symbol": "circle"
           },
           "mode": "markers+lines",
           "name": "PICKUP TRUCK - SMALL",
           "orientation": "v",
           "showlegend": true,
           "type": "scatter",
           "x": [
            2018
           ],
           "xaxis": "x",
           "y": [
            24.296296296296298
           ],
           "yaxis": "y"
          },
          {
           "hovertemplate": "color=PICKUP TRUCK - STANDARD<br>animation_frame=2018<br>x=%{x}<br>y=%{y}<extra></extra>",
           "ids": [
            "PICKUP TRUCK - STANDARD"
           ],
           "legendgroup": "PICKUP TRUCK - STANDARD",
           "line": {
            "color": "#B68100",
            "dash": "solid"
           },
           "marker": {
            "symbol": "circle"
           },
           "mode": "markers+lines",
           "name": "PICKUP TRUCK - STANDARD",
           "orientation": "v",
           "showlegend": true,
           "type": "scatter",
           "x": [
            2018
           ],
           "xaxis": "x",
           "y": [
            21.329896907216494
           ],
           "yaxis": "y"
          },
          {
           "hovertemplate": "color=STATION WAGON - MID-SIZE<br>animation_frame=2018<br>x=%{x}<br>y=%{y}<extra></extra>",
           "ids": [
            "STATION WAGON - MID-SIZE"
           ],
           "legendgroup": "STATION WAGON - MID-SIZE",
           "line": {
            "color": "#750D86",
            "dash": "solid"
           },
           "marker": {
            "symbol": "circle"
           },
           "mode": "markers+lines",
           "name": "STATION WAGON - MID-SIZE",
           "orientation": "v",
           "showlegend": true,
           "type": "scatter",
           "x": [
            2018
           ],
           "xaxis": "x",
           "y": [
            30.2
           ],
           "yaxis": "y"
          },
          {
           "hovertemplate": "color=STATION WAGON - SMALL<br>animation_frame=2018<br>x=%{x}<br>y=%{y}<extra></extra>",
           "ids": [
            "STATION WAGON - SMALL"
           ],
           "legendgroup": "STATION WAGON - SMALL",
           "line": {
            "color": "#EB663B",
            "dash": "solid"
           },
           "marker": {
            "symbol": "circle"
           },
           "mode": "markers+lines",
           "name": "STATION WAGON - SMALL",
           "orientation": "v",
           "showlegend": true,
           "type": "scatter",
           "x": [
            2018
           ],
           "xaxis": "x",
           "y": [
            35.17948717948718
           ],
           "yaxis": "y"
          },
          {
           "hovertemplate": "color=SUBCOMPACT<br>animation_frame=2018<br>x=%{x}<br>y=%{y}<extra></extra>",
           "ids": [
            "SUBCOMPACT"
           ],
           "legendgroup": "SUBCOMPACT",
           "line": {
            "color": "#511CFB",
            "dash": "solid"
           },
           "marker": {
            "symbol": "circle"
           },
           "mode": "markers+lines",
           "name": "SUBCOMPACT",
           "orientation": "v",
           "showlegend": true,
           "type": "scatter",
           "x": [
            2018
           ],
           "xaxis": "x",
           "y": [
            27.78125
           ],
           "yaxis": "y"
          },
          {
           "hovertemplate": "color=TWO-SEATER<br>animation_frame=2018<br>x=%{x}<br>y=%{y}<extra></extra>",
           "ids": [
            "TWO-SEATER"
           ],
           "legendgroup": "TWO-SEATER",
           "line": {
            "color": "#FB00D1",
            "dash": "solid"
           },
           "marker": {
            "symbol": "circle"
           },
           "mode": "markers+lines",
           "name": "TWO-SEATER",
           "orientation": "v",
           "showlegend": true,
           "type": "scatter",
           "x": [
            2018
           ],
           "xaxis": "x",
           "y": [
            24.333333333333332
           ],
           "yaxis": "y"
          },
          {
           "hovertemplate": "color=VAN - PASSENGER<br>animation_frame=2018<br>x=%{x}<br>y=%{y}<extra></extra>",
           "ids": [
            "VAN - PASSENGER"
           ],
           "legendgroup": "VAN - PASSENGER",
           "line": {
            "color": "#B2828D",
            "dash": "solid"
           },
           "marker": {
            "symbol": "circle"
           },
           "mode": "markers+lines",
           "name": "VAN - PASSENGER",
           "orientation": "v",
           "showlegend": true,
           "type": "scatter",
           "x": [
            2018
           ],
           "xaxis": "x",
           "y": [
            19
           ],
           "yaxis": "y"
          },
          {
           "hovertemplate": "color=SUV - STANDARD<br>animation_frame=2018<br>x=%{x}<br>y=%{y}<extra></extra>",
           "ids": [
            "SUV - STANDARD"
           ],
           "legendgroup": "SUV - STANDARD",
           "line": {
            "color": "#6C7C32",
            "dash": "solid"
           },
           "marker": {
            "symbol": "circle"
           },
           "mode": "markers+lines",
           "name": "SUV - STANDARD",
           "orientation": "v",
           "showlegend": true,
           "type": "scatter",
           "x": [
            2018
           ],
           "xaxis": "x",
           "y": [
            21.601941747572816
           ],
           "yaxis": "y"
          },
          {
           "hovertemplate": "color=SPECIAL PURPOSE VEHICLE<br>animation_frame=2018<br>x=%{x}<br>y=%{y}<extra></extra>",
           "ids": [
            "SPECIAL PURPOSE VEHICLE"
           ],
           "legendgroup": "SPECIAL PURPOSE VEHICLE",
           "line": {
            "color": "#778AAE",
            "dash": "solid"
           },
           "marker": {
            "symbol": "circle"
           },
           "mode": "markers+lines",
           "name": "SPECIAL PURPOSE VEHICLE",
           "orientation": "v",
           "showlegend": true,
           "type": "scatter",
           "x": [
            2018
           ],
           "xaxis": "x",
           "y": [
            25.4
           ],
           "yaxis": "y"
          },
          {
           "hovertemplate": "color=SUV - SMALL<br>animation_frame=2018<br>x=%{x}<br>y=%{y}<extra></extra>",
           "ids": [
            "SUV - SMALL"
           ],
           "legendgroup": "SUV - SMALL",
           "line": {
            "color": "#862A16",
            "dash": "solid"
           },
           "marker": {
            "symbol": "circle"
           },
           "mode": "markers+lines",
           "name": "SUV - SMALL",
           "orientation": "v",
           "showlegend": true,
           "type": "scatter",
           "x": [
            2018
           ],
           "xaxis": "x",
           "y": [
            28.372881355932204
           ],
           "yaxis": "y"
          }
         ],
         "name": "2018"
        },
        {
         "data": [
          {
           "hovertemplate": "color=COMPACT<br>animation_frame=2019<br>x=%{x}<br>y=%{y}<extra></extra>",
           "ids": [
            "COMPACT"
           ],
           "legendgroup": "COMPACT",
           "line": {
            "color": "#2E91E5",
            "dash": "solid"
           },
           "marker": {
            "symbol": "circle"
           },
           "mode": "markers+lines",
           "name": "COMPACT",
           "orientation": "v",
           "showlegend": true,
           "type": "scatter",
           "x": [
            2019
           ],
           "xaxis": "x",
           "y": [
            32.43396226415094
           ],
           "yaxis": "y"
          },
          {
           "hovertemplate": "color=FULL-SIZE<br>animation_frame=2019<br>x=%{x}<br>y=%{y}<extra></extra>",
           "ids": [
            "FULL-SIZE"
           ],
           "legendgroup": "FULL-SIZE",
           "line": {
            "color": "#E15F99",
            "dash": "solid"
           },
           "marker": {
            "symbol": "circle"
           },
           "mode": "markers+lines",
           "name": "FULL-SIZE",
           "orientation": "v",
           "showlegend": true,
           "type": "scatter",
           "x": [
            2019
           ],
           "xaxis": "x",
           "y": [
            26.603960396039604
           ],
           "yaxis": "y"
          },
          {
           "hovertemplate": "color=MID-SIZE<br>animation_frame=2019<br>x=%{x}<br>y=%{y}<extra></extra>",
           "ids": [
            "MID-SIZE"
           ],
           "legendgroup": "MID-SIZE",
           "line": {
            "color": "#1CA71C",
            "dash": "solid"
           },
           "marker": {
            "symbol": "circle"
           },
           "mode": "markers+lines",
           "name": "MID-SIZE",
           "orientation": "v",
           "showlegend": true,
           "type": "scatter",
           "x": [
            2019
           ],
           "xaxis": "x",
           "y": [
            32.66206896551724
           ],
           "yaxis": "y"
          },
          {
           "hovertemplate": "color=MINICOMPACT<br>animation_frame=2019<br>x=%{x}<br>y=%{y}<extra></extra>",
           "ids": [
            "MINICOMPACT"
           ],
           "legendgroup": "MINICOMPACT",
           "line": {
            "color": "#FB0D0D",
            "dash": "solid"
           },
           "marker": {
            "symbol": "circle"
           },
           "mode": "markers+lines",
           "name": "MINICOMPACT",
           "orientation": "v",
           "showlegend": true,
           "type": "scatter",
           "x": [
            2019
           ],
           "xaxis": "x",
           "y": [
            28
           ],
           "yaxis": "y"
          },
          {
           "hovertemplate": "color=MINIVAN<br>animation_frame=2019<br>x=%{x}<br>y=%{y}<extra></extra>",
           "ids": [
            "MINIVAN"
           ],
           "legendgroup": "MINIVAN",
           "line": {
            "color": "#DA16FF",
            "dash": "solid"
           },
           "marker": {
            "symbol": "circle"
           },
           "mode": "markers+lines",
           "name": "MINIVAN",
           "orientation": "v",
           "showlegend": true,
           "type": "scatter",
           "x": [
            2019
           ],
           "xaxis": "x",
           "y": [
            24.666666666666668
           ],
           "yaxis": "y"
          },
          {
           "hovertemplate": "color=PICKUP TRUCK - SMALL<br>animation_frame=2019<br>x=%{x}<br>y=%{y}<extra></extra>",
           "ids": [
            "PICKUP TRUCK - SMALL"
           ],
           "legendgroup": "PICKUP TRUCK - SMALL",
           "line": {
            "color": "#222A2A",
            "dash": "solid"
           },
           "marker": {
            "symbol": "circle"
           },
           "mode": "markers+lines",
           "name": "PICKUP TRUCK - SMALL",
           "orientation": "v",
           "showlegend": true,
           "type": "scatter",
           "x": [
            2019
           ],
           "xaxis": "x",
           "y": [
            24.16
           ],
           "yaxis": "y"
          },
          {
           "hovertemplate": "color=PICKUP TRUCK - STANDARD<br>animation_frame=2019<br>x=%{x}<br>y=%{y}<extra></extra>",
           "ids": [
            "PICKUP TRUCK - STANDARD"
           ],
           "legendgroup": "PICKUP TRUCK - STANDARD",
           "line": {
            "color": "#B68100",
            "dash": "solid"
           },
           "marker": {
            "symbol": "circle"
           },
           "mode": "markers+lines",
           "name": "PICKUP TRUCK - STANDARD",
           "orientation": "v",
           "showlegend": true,
           "type": "scatter",
           "x": [
            2019
           ],
           "xaxis": "x",
           "y": [
            21.32323232323232
           ],
           "yaxis": "y"
          },
          {
           "hovertemplate": "color=STATION WAGON - MID-SIZE<br>animation_frame=2019<br>x=%{x}<br>y=%{y}<extra></extra>",
           "ids": [
            "STATION WAGON - MID-SIZE"
           ],
           "legendgroup": "STATION WAGON - MID-SIZE",
           "line": {
            "color": "#750D86",
            "dash": "solid"
           },
           "marker": {
            "symbol": "circle"
           },
           "mode": "markers+lines",
           "name": "STATION WAGON - MID-SIZE",
           "orientation": "v",
           "showlegend": true,
           "type": "scatter",
           "x": [
            2019
           ],
           "xaxis": "x",
           "y": [
            26.11111111111111
           ],
           "yaxis": "y"
          },
          {
           "hovertemplate": "color=STATION WAGON - SMALL<br>animation_frame=2019<br>x=%{x}<br>y=%{y}<extra></extra>",
           "ids": [
            "STATION WAGON - SMALL"
           ],
           "legendgroup": "STATION WAGON - SMALL",
           "line": {
            "color": "#EB663B",
            "dash": "solid"
           },
           "marker": {
            "symbol": "circle"
           },
           "mode": "markers+lines",
           "name": "STATION WAGON - SMALL",
           "orientation": "v",
           "showlegend": true,
           "type": "scatter",
           "x": [
            2019
           ],
           "xaxis": "x",
           "y": [
            34.891891891891895
           ],
           "yaxis": "y"
          },
          {
           "hovertemplate": "color=SUBCOMPACT<br>animation_frame=2019<br>x=%{x}<br>y=%{y}<extra></extra>",
           "ids": [
            "SUBCOMPACT"
           ],
           "legendgroup": "SUBCOMPACT",
           "line": {
            "color": "#511CFB",
            "dash": "solid"
           },
           "marker": {
            "symbol": "circle"
           },
           "mode": "markers+lines",
           "name": "SUBCOMPACT",
           "orientation": "v",
           "showlegend": true,
           "type": "scatter",
           "x": [
            2019
           ],
           "xaxis": "x",
           "y": [
            27.948979591836736
           ],
           "yaxis": "y"
          },
          {
           "hovertemplate": "color=TWO-SEATER<br>animation_frame=2019<br>x=%{x}<br>y=%{y}<extra></extra>",
           "ids": [
            "TWO-SEATER"
           ],
           "legendgroup": "TWO-SEATER",
           "line": {
            "color": "#FB00D1",
            "dash": "solid"
           },
           "marker": {
            "symbol": "circle"
           },
           "mode": "markers+lines",
           "name": "TWO-SEATER",
           "orientation": "v",
           "showlegend": true,
           "type": "scatter",
           "x": [
            2019
           ],
           "xaxis": "x",
           "y": [
            24.37142857142857
           ],
           "yaxis": "y"
          },
          {
           "hovertemplate": "color=VAN - PASSENGER<br>animation_frame=2019<br>x=%{x}<br>y=%{y}<extra></extra>",
           "ids": [
            "VAN - PASSENGER"
           ],
           "legendgroup": "VAN - PASSENGER",
           "line": {
            "color": "#B2828D",
            "dash": "solid"
           },
           "marker": {
            "symbol": "circle"
           },
           "mode": "markers+lines",
           "name": "VAN - PASSENGER",
           "orientation": "v",
           "showlegend": true,
           "type": "scatter",
           "x": [
            2019
           ],
           "xaxis": "x",
           "y": [
            19
           ],
           "yaxis": "y"
          },
          {
           "hovertemplate": "color=SUV - STANDARD<br>animation_frame=2019<br>x=%{x}<br>y=%{y}<extra></extra>",
           "ids": [
            "SUV - STANDARD"
           ],
           "legendgroup": "SUV - STANDARD",
           "line": {
            "color": "#6C7C32",
            "dash": "solid"
           },
           "marker": {
            "symbol": "circle"
           },
           "mode": "markers+lines",
           "name": "SUV - STANDARD",
           "orientation": "v",
           "showlegend": true,
           "type": "scatter",
           "x": [
            2019
           ],
           "xaxis": "x",
           "y": [
            21.756756756756758
           ],
           "yaxis": "y"
          },
          {
           "hovertemplate": "color=SPECIAL PURPOSE VEHICLE<br>animation_frame=2019<br>x=%{x}<br>y=%{y}<extra></extra>",
           "ids": [
            "SPECIAL PURPOSE VEHICLE"
           ],
           "legendgroup": "SPECIAL PURPOSE VEHICLE",
           "line": {
            "color": "#778AAE",
            "dash": "solid"
           },
           "marker": {
            "symbol": "circle"
           },
           "mode": "markers+lines",
           "name": "SPECIAL PURPOSE VEHICLE",
           "orientation": "v",
           "showlegend": true,
           "type": "scatter",
           "x": [
            2019
           ],
           "xaxis": "x",
           "y": [
            27.071428571428573
           ],
           "yaxis": "y"
          },
          {
           "hovertemplate": "color=SUV - SMALL<br>animation_frame=2019<br>x=%{x}<br>y=%{y}<extra></extra>",
           "ids": [
            "SUV - SMALL"
           ],
           "legendgroup": "SUV - SMALL",
           "line": {
            "color": "#862A16",
            "dash": "solid"
           },
           "marker": {
            "symbol": "circle"
           },
           "mode": "markers+lines",
           "name": "SUV - SMALL",
           "orientation": "v",
           "showlegend": true,
           "type": "scatter",
           "x": [
            2019
           ],
           "xaxis": "x",
           "y": [
            28.913793103448278
           ],
           "yaxis": "y"
          }
         ],
         "name": "2019"
        },
        {
         "data": [
          {
           "hovertemplate": "color=COMPACT<br>animation_frame=2020<br>x=%{x}<br>y=%{y}<extra></extra>",
           "ids": [
            "COMPACT"
           ],
           "legendgroup": "COMPACT",
           "line": {
            "color": "#2E91E5",
            "dash": "solid"
           },
           "marker": {
            "symbol": "circle"
           },
           "mode": "markers+lines",
           "name": "COMPACT",
           "orientation": "v",
           "showlegend": true,
           "type": "scatter",
           "x": [
            2020
           ],
           "xaxis": "x",
           "y": [
            32.28703703703704
           ],
           "yaxis": "y"
          },
          {
           "hovertemplate": "color=FULL-SIZE<br>animation_frame=2020<br>x=%{x}<br>y=%{y}<extra></extra>",
           "ids": [
            "FULL-SIZE"
           ],
           "legendgroup": "FULL-SIZE",
           "line": {
            "color": "#E15F99",
            "dash": "solid"
           },
           "marker": {
            "symbol": "circle"
           },
           "mode": "markers+lines",
           "name": "FULL-SIZE",
           "orientation": "v",
           "showlegend": true,
           "type": "scatter",
           "x": [
            2020
           ],
           "xaxis": "x",
           "y": [
            28.102564102564102
           ],
           "yaxis": "y"
          },
          {
           "hovertemplate": "color=MID-SIZE<br>animation_frame=2020<br>x=%{x}<br>y=%{y}<extra></extra>",
           "ids": [
            "MID-SIZE"
           ],
           "legendgroup": "MID-SIZE",
           "line": {
            "color": "#1CA71C",
            "dash": "solid"
           },
           "marker": {
            "symbol": "circle"
           },
           "mode": "markers+lines",
           "name": "MID-SIZE",
           "orientation": "v",
           "showlegend": true,
           "type": "scatter",
           "x": [
            2020
           ],
           "xaxis": "x",
           "y": [
            31.365079365079364
           ],
           "yaxis": "y"
          },
          {
           "hovertemplate": "color=MINICOMPACT<br>animation_frame=2020<br>x=%{x}<br>y=%{y}<extra></extra>",
           "ids": [
            "MINICOMPACT"
           ],
           "legendgroup": "MINICOMPACT",
           "line": {
            "color": "#FB0D0D",
            "dash": "solid"
           },
           "marker": {
            "symbol": "circle"
           },
           "mode": "markers+lines",
           "name": "MINICOMPACT",
           "orientation": "v",
           "showlegend": true,
           "type": "scatter",
           "x": [
            2020
           ],
           "xaxis": "x",
           "y": [
            26.652173913043477
           ],
           "yaxis": "y"
          },
          {
           "hovertemplate": "color=MINIVAN<br>animation_frame=2020<br>x=%{x}<br>y=%{y}<extra></extra>",
           "ids": [
            "MINIVAN"
           ],
           "legendgroup": "MINIVAN",
           "line": {
            "color": "#DA16FF",
            "dash": "solid"
           },
           "marker": {
            "symbol": "circle"
           },
           "mode": "markers+lines",
           "name": "MINIVAN",
           "orientation": "v",
           "showlegend": true,
           "type": "scatter",
           "x": [
            2020
           ],
           "xaxis": "x",
           "y": [
            25.5
           ],
           "yaxis": "y"
          },
          {
           "hovertemplate": "color=PICKUP TRUCK - SMALL<br>animation_frame=2020<br>x=%{x}<br>y=%{y}<extra></extra>",
           "ids": [
            "PICKUP TRUCK - SMALL"
           ],
           "legendgroup": "PICKUP TRUCK - SMALL",
           "line": {
            "color": "#222A2A",
            "dash": "solid"
           },
           "marker": {
            "symbol": "circle"
           },
           "mode": "markers+lines",
           "name": "PICKUP TRUCK - SMALL",
           "orientation": "v",
           "showlegend": true,
           "type": "scatter",
           "x": [
            2020
           ],
           "xaxis": "x",
           "y": [
            24.526315789473685
           ],
           "yaxis": "y"
          },
          {
           "hovertemplate": "color=PICKUP TRUCK - STANDARD<br>animation_frame=2020<br>x=%{x}<br>y=%{y}<extra></extra>",
           "ids": [
            "PICKUP TRUCK - STANDARD"
           ],
           "legendgroup": "PICKUP TRUCK - STANDARD",
           "line": {
            "color": "#B68100",
            "dash": "solid"
           },
           "marker": {
            "symbol": "circle"
           },
           "mode": "markers+lines",
           "name": "PICKUP TRUCK - STANDARD",
           "orientation": "v",
           "showlegend": true,
           "type": "scatter",
           "x": [
            2020
           ],
           "xaxis": "x",
           "y": [
            22.13186813186813
           ],
           "yaxis": "y"
          },
          {
           "hovertemplate": "color=STATION WAGON - MID-SIZE<br>animation_frame=2020<br>x=%{x}<br>y=%{y}<extra></extra>",
           "ids": [
            "STATION WAGON - MID-SIZE"
           ],
           "legendgroup": "STATION WAGON - MID-SIZE",
           "line": {
            "color": "#750D86",
            "dash": "solid"
           },
           "marker": {
            "symbol": "circle"
           },
           "mode": "markers+lines",
           "name": "STATION WAGON - MID-SIZE",
           "orientation": "v",
           "showlegend": true,
           "type": "scatter",
           "x": [
            2020
           ],
           "xaxis": "x",
           "y": [
            24
           ],
           "yaxis": "y"
          },
          {
           "hovertemplate": "color=STATION WAGON - SMALL<br>animation_frame=2020<br>x=%{x}<br>y=%{y}<extra></extra>",
           "ids": [
            "STATION WAGON - SMALL"
           ],
           "legendgroup": "STATION WAGON - SMALL",
           "line": {
            "color": "#EB663B",
            "dash": "solid"
           },
           "marker": {
            "symbol": "circle"
           },
           "mode": "markers+lines",
           "name": "STATION WAGON - SMALL",
           "orientation": "v",
           "showlegend": true,
           "type": "scatter",
           "x": [
            2020
           ],
           "xaxis": "x",
           "y": [
            36.2
           ],
           "yaxis": "y"
          },
          {
           "hovertemplate": "color=SUBCOMPACT<br>animation_frame=2020<br>x=%{x}<br>y=%{y}<extra></extra>",
           "ids": [
            "SUBCOMPACT"
           ],
           "legendgroup": "SUBCOMPACT",
           "line": {
            "color": "#511CFB",
            "dash": "solid"
           },
           "marker": {
            "symbol": "circle"
           },
           "mode": "markers+lines",
           "name": "SUBCOMPACT",
           "orientation": "v",
           "showlegend": true,
           "type": "scatter",
           "x": [
            2020
           ],
           "xaxis": "x",
           "y": [
            26.821052631578947
           ],
           "yaxis": "y"
          },
          {
           "hovertemplate": "color=TWO-SEATER<br>animation_frame=2020<br>x=%{x}<br>y=%{y}<extra></extra>",
           "ids": [
            "TWO-SEATER"
           ],
           "legendgroup": "TWO-SEATER",
           "line": {
            "color": "#FB00D1",
            "dash": "solid"
           },
           "marker": {
            "symbol": "circle"
           },
           "mode": "markers+lines",
           "name": "TWO-SEATER",
           "orientation": "v",
           "showlegend": true,
           "type": "scatter",
           "x": [
            2020
           ],
           "xaxis": "x",
           "y": [
            24.421875
           ],
           "yaxis": "y"
          },
          {
           "hovertemplate": "color=VAN - PASSENGER<br>animation_frame=2020<br>x=%{x}<br>y=%{y}<extra></extra>",
           "ids": [
            "VAN - PASSENGER"
           ],
           "legendgroup": "VAN - PASSENGER",
           "line": {
            "color": "#B2828D",
            "dash": "solid"
           },
           "marker": {
            "symbol": "circle"
           },
           "mode": "markers+lines",
           "name": "VAN - PASSENGER",
           "orientation": "v",
           "showlegend": true,
           "type": "scatter",
           "x": [
            2020
           ],
           "xaxis": "x",
           "y": [
            16.75
           ],
           "yaxis": "y"
          },
          {
           "hovertemplate": "color=SUV - STANDARD<br>animation_frame=2020<br>x=%{x}<br>y=%{y}<extra></extra>",
           "ids": [
            "SUV - STANDARD"
           ],
           "legendgroup": "SUV - STANDARD",
           "line": {
            "color": "#6C7C32",
            "dash": "solid"
           },
           "marker": {
            "symbol": "circle"
           },
           "mode": "markers+lines",
           "name": "SUV - STANDARD",
           "orientation": "v",
           "showlegend": true,
           "type": "scatter",
           "x": [
            2020
           ],
           "xaxis": "x",
           "y": [
            22.084745762711865
           ],
           "yaxis": "y"
          },
          {
           "hovertemplate": "color=SPECIAL PURPOSE VEHICLE<br>animation_frame=2020<br>x=%{x}<br>y=%{y}<extra></extra>",
           "ids": [
            "SPECIAL PURPOSE VEHICLE"
           ],
           "legendgroup": "SPECIAL PURPOSE VEHICLE",
           "line": {
            "color": "#778AAE",
            "dash": "solid"
           },
           "marker": {
            "symbol": "circle"
           },
           "mode": "markers+lines",
           "name": "SPECIAL PURPOSE VEHICLE",
           "orientation": "v",
           "showlegend": true,
           "type": "scatter",
           "x": [
            2020
           ],
           "xaxis": "x",
           "y": [
            27.615384615384617
           ],
           "yaxis": "y"
          },
          {
           "hovertemplate": "color=SUV - SMALL<br>animation_frame=2020<br>x=%{x}<br>y=%{y}<extra></extra>",
           "ids": [
            "SUV - SMALL"
           ],
           "legendgroup": "SUV - SMALL",
           "line": {
            "color": "#862A16",
            "dash": "solid"
           },
           "marker": {
            "symbol": "circle"
           },
           "mode": "markers+lines",
           "name": "SUV - SMALL",
           "orientation": "v",
           "showlegend": true,
           "type": "scatter",
           "x": [
            2020
           ],
           "xaxis": "x",
           "y": [
            28.824468085106382
           ],
           "yaxis": "y"
          }
         ],
         "name": "2020"
        },
        {
         "data": [
          {
           "hovertemplate": "color=COMPACT<br>animation_frame=2021<br>x=%{x}<br>y=%{y}<extra></extra>",
           "ids": [
            "COMPACT"
           ],
           "legendgroup": "COMPACT",
           "line": {
            "color": "#2E91E5",
            "dash": "solid"
           },
           "marker": {
            "symbol": "circle"
           },
           "mode": "markers+lines",
           "name": "COMPACT",
           "orientation": "v",
           "showlegend": true,
           "type": "scatter",
           "x": [
            2021
           ],
           "xaxis": "x",
           "y": [
            32.92941176470588
           ],
           "yaxis": "y"
          },
          {
           "hovertemplate": "color=FULL-SIZE<br>animation_frame=2021<br>x=%{x}<br>y=%{y}<extra></extra>",
           "ids": [
            "FULL-SIZE"
           ],
           "legendgroup": "FULL-SIZE",
           "line": {
            "color": "#E15F99",
            "dash": "solid"
           },
           "marker": {
            "symbol": "circle"
           },
           "mode": "markers+lines",
           "name": "FULL-SIZE",
           "orientation": "v",
           "showlegend": true,
           "type": "scatter",
           "x": [
            2021
           ],
           "xaxis": "x",
           "y": [
            29
           ],
           "yaxis": "y"
          },
          {
           "hovertemplate": "color=MID-SIZE<br>animation_frame=2021<br>x=%{x}<br>y=%{y}<extra></extra>",
           "ids": [
            "MID-SIZE"
           ],
           "legendgroup": "MID-SIZE",
           "line": {
            "color": "#1CA71C",
            "dash": "solid"
           },
           "marker": {
            "symbol": "circle"
           },
           "mode": "markers+lines",
           "name": "MID-SIZE",
           "orientation": "v",
           "showlegend": true,
           "type": "scatter",
           "x": [
            2021
           ],
           "xaxis": "x",
           "y": [
            31.42105263157895
           ],
           "yaxis": "y"
          },
          {
           "hovertemplate": "color=MINICOMPACT<br>animation_frame=2021<br>x=%{x}<br>y=%{y}<extra></extra>",
           "ids": [
            "MINICOMPACT"
           ],
           "legendgroup": "MINICOMPACT",
           "line": {
            "color": "#FB0D0D",
            "dash": "solid"
           },
           "marker": {
            "symbol": "circle"
           },
           "mode": "markers+lines",
           "name": "MINICOMPACT",
           "orientation": "v",
           "showlegend": true,
           "type": "scatter",
           "x": [
            2021
           ],
           "xaxis": "x",
           "y": [
            24.9
           ],
           "yaxis": "y"
          },
          {
           "hovertemplate": "color=MINIVAN<br>animation_frame=2021<br>x=%{x}<br>y=%{y}<extra></extra>",
           "ids": [
            "MINIVAN"
           ],
           "legendgroup": "MINIVAN",
           "line": {
            "color": "#DA16FF",
            "dash": "solid"
           },
           "marker": {
            "symbol": "circle"
           },
           "mode": "markers+lines",
           "name": "MINIVAN",
           "orientation": "v",
           "showlegend": true,
           "type": "scatter",
           "x": [
            2021
           ],
           "xaxis": "x",
           "y": [
            30.714285714285715
           ],
           "yaxis": "y"
          },
          {
           "hovertemplate": "color=PICKUP TRUCK - SMALL<br>animation_frame=2021<br>x=%{x}<br>y=%{y}<extra></extra>",
           "ids": [
            "PICKUP TRUCK - SMALL"
           ],
           "legendgroup": "PICKUP TRUCK - SMALL",
           "line": {
            "color": "#222A2A",
            "dash": "solid"
           },
           "marker": {
            "symbol": "circle"
           },
           "mode": "markers+lines",
           "name": "PICKUP TRUCK - SMALL",
           "orientation": "v",
           "showlegend": true,
           "type": "scatter",
           "x": [
            2021
           ],
           "xaxis": "x",
           "y": [
            24.58823529411765
           ],
           "yaxis": "y"
          },
          {
           "hovertemplate": "color=PICKUP TRUCK - STANDARD<br>animation_frame=2021<br>x=%{x}<br>y=%{y}<extra></extra>",
           "ids": [
            "PICKUP TRUCK - STANDARD"
           ],
           "legendgroup": "PICKUP TRUCK - STANDARD",
           "line": {
            "color": "#B68100",
            "dash": "solid"
           },
           "marker": {
            "symbol": "circle"
           },
           "mode": "markers+lines",
           "name": "PICKUP TRUCK - STANDARD",
           "orientation": "v",
           "showlegend": true,
           "type": "scatter",
           "x": [
            2021
           ],
           "xaxis": "x",
           "y": [
            21.8
           ],
           "yaxis": "y"
          },
          {
           "hovertemplate": "color=STATION WAGON - MID-SIZE<br>animation_frame=2021<br>x=%{x}<br>y=%{y}<extra></extra>",
           "ids": [
            "STATION WAGON - MID-SIZE"
           ],
           "legendgroup": "STATION WAGON - MID-SIZE",
           "line": {
            "color": "#750D86",
            "dash": "solid"
           },
           "marker": {
            "symbol": "circle"
           },
           "mode": "markers+lines",
           "name": "STATION WAGON - MID-SIZE",
           "orientation": "v",
           "showlegend": true,
           "type": "scatter",
           "x": [
            2021
           ],
           "xaxis": "x",
           "y": [
            24
           ],
           "yaxis": "y"
          },
          {
           "hovertemplate": "color=STATION WAGON - SMALL<br>animation_frame=2021<br>x=%{x}<br>y=%{y}<extra></extra>",
           "ids": [
            "STATION WAGON - SMALL"
           ],
           "legendgroup": "STATION WAGON - SMALL",
           "line": {
            "color": "#EB663B",
            "dash": "solid"
           },
           "marker": {
            "symbol": "circle"
           },
           "mode": "markers+lines",
           "name": "STATION WAGON - SMALL",
           "orientation": "v",
           "showlegend": true,
           "type": "scatter",
           "x": [
            2021
           ],
           "xaxis": "x",
           "y": [
            36.4
           ],
           "yaxis": "y"
          },
          {
           "hovertemplate": "color=SUBCOMPACT<br>animation_frame=2021<br>x=%{x}<br>y=%{y}<extra></extra>",
           "ids": [
            "SUBCOMPACT"
           ],
           "legendgroup": "SUBCOMPACT",
           "line": {
            "color": "#511CFB",
            "dash": "solid"
           },
           "marker": {
            "symbol": "circle"
           },
           "mode": "markers+lines",
           "name": "SUBCOMPACT",
           "orientation": "v",
           "showlegend": true,
           "type": "scatter",
           "x": [
            2021
           ],
           "xaxis": "x",
           "y": [
            27.373493975903614
           ],
           "yaxis": "y"
          },
          {
           "hovertemplate": "color=TWO-SEATER<br>animation_frame=2021<br>x=%{x}<br>y=%{y}<extra></extra>",
           "ids": [
            "TWO-SEATER"
           ],
           "legendgroup": "TWO-SEATER",
           "line": {
            "color": "#FB00D1",
            "dash": "solid"
           },
           "marker": {
            "symbol": "circle"
           },
           "mode": "markers+lines",
           "name": "TWO-SEATER",
           "orientation": "v",
           "showlegend": true,
           "type": "scatter",
           "x": [
            2021
           ],
           "xaxis": "x",
           "y": [
            23
           ],
           "yaxis": "y"
          },
          {
           "hovertemplate": "color=VAN - PASSENGER<br>animation_frame=2021<br>x=%{x}<br>y=%{y}<extra></extra>",
           "ids": [
            "VAN - PASSENGER"
           ],
           "legendgroup": "VAN - PASSENGER",
           "line": {
            "color": "#B2828D",
            "dash": "solid"
           },
           "marker": {
            "symbol": "circle"
           },
           "mode": "markers+lines",
           "name": "VAN - PASSENGER",
           "orientation": "v",
           "showlegend": true,
           "type": "scatter",
           "x": [
            2021
           ],
           "xaxis": "x",
           "y": [
            16.75
           ],
           "yaxis": "y"
          },
          {
           "hovertemplate": "color=SUV - STANDARD<br>animation_frame=2021<br>x=%{x}<br>y=%{y}<extra></extra>",
           "ids": [
            "SUV - STANDARD"
           ],
           "legendgroup": "SUV - STANDARD",
           "line": {
            "color": "#6C7C32",
            "dash": "solid"
           },
           "marker": {
            "symbol": "circle"
           },
           "mode": "markers+lines",
           "name": "SUV - STANDARD",
           "orientation": "v",
           "showlegend": true,
           "type": "scatter",
           "x": [
            2021
           ],
           "xaxis": "x",
           "y": [
            22.58267716535433
           ],
           "yaxis": "y"
          },
          {
           "hovertemplate": "color=SPECIAL PURPOSE VEHICLE<br>animation_frame=2021<br>x=%{x}<br>y=%{y}<extra></extra>",
           "ids": [
            "SPECIAL PURPOSE VEHICLE"
           ],
           "legendgroup": "SPECIAL PURPOSE VEHICLE",
           "line": {
            "color": "#778AAE",
            "dash": "solid"
           },
           "marker": {
            "symbol": "circle"
           },
           "mode": "markers+lines",
           "name": "SPECIAL PURPOSE VEHICLE",
           "orientation": "v",
           "showlegend": true,
           "type": "scatter",
           "x": [
            2021
           ],
           "xaxis": "x",
           "y": [
            27.076923076923077
           ],
           "yaxis": "y"
          },
          {
           "hovertemplate": "color=SUV - SMALL<br>animation_frame=2021<br>x=%{x}<br>y=%{y}<extra></extra>",
           "ids": [
            "SUV - SMALL"
           ],
           "legendgroup": "SUV - SMALL",
           "line": {
            "color": "#862A16",
            "dash": "solid"
           },
           "marker": {
            "symbol": "circle"
           },
           "mode": "markers+lines",
           "name": "SUV - SMALL",
           "orientation": "v",
           "showlegend": true,
           "type": "scatter",
           "x": [
            2021
           ],
           "xaxis": "x",
           "y": [
            29.435233160621763
           ],
           "yaxis": "y"
          }
         ],
         "name": "2021"
        },
        {
         "data": [
          {
           "hovertemplate": "color=COMPACT<br>animation_frame=2022<br>x=%{x}<br>y=%{y}<extra></extra>",
           "ids": [
            "COMPACT"
           ],
           "legendgroup": "COMPACT",
           "line": {
            "color": "#2E91E5",
            "dash": "solid"
           },
           "marker": {
            "symbol": "circle"
           },
           "mode": "markers+lines",
           "name": "COMPACT",
           "orientation": "v",
           "showlegend": true,
           "type": "scatter",
           "x": [
            2022
           ],
           "xaxis": "x",
           "y": [
            33.22857142857143
           ],
           "yaxis": "y"
          },
          {
           "hovertemplate": "color=FULL-SIZE<br>animation_frame=2022<br>x=%{x}<br>y=%{y}<extra></extra>",
           "ids": [
            "FULL-SIZE"
           ],
           "legendgroup": "FULL-SIZE",
           "line": {
            "color": "#E15F99",
            "dash": "solid"
           },
           "marker": {
            "symbol": "circle"
           },
           "mode": "markers+lines",
           "name": "FULL-SIZE",
           "orientation": "v",
           "showlegend": true,
           "type": "scatter",
           "x": [
            2022
           ],
           "xaxis": "x",
           "y": [
            28.890625
           ],
           "yaxis": "y"
          },
          {
           "hovertemplate": "color=MID-SIZE<br>animation_frame=2022<br>x=%{x}<br>y=%{y}<extra></extra>",
           "ids": [
            "MID-SIZE"
           ],
           "legendgroup": "MID-SIZE",
           "line": {
            "color": "#1CA71C",
            "dash": "solid"
           },
           "marker": {
            "symbol": "circle"
           },
           "mode": "markers+lines",
           "name": "MID-SIZE",
           "orientation": "v",
           "showlegend": true,
           "type": "scatter",
           "x": [
            2022
           ],
           "xaxis": "x",
           "y": [
            31.034188034188034
           ],
           "yaxis": "y"
          },
          {
           "hovertemplate": "color=MINICOMPACT<br>animation_frame=2022<br>x=%{x}<br>y=%{y}<extra></extra>",
           "ids": [
            "MINICOMPACT"
           ],
           "legendgroup": "MINICOMPACT",
           "line": {
            "color": "#FB0D0D",
            "dash": "solid"
           },
           "marker": {
            "symbol": "circle"
           },
           "mode": "markers+lines",
           "name": "MINICOMPACT",
           "orientation": "v",
           "showlegend": true,
           "type": "scatter",
           "x": [
            2022
           ],
           "xaxis": "x",
           "y": [
            24.224489795918366
           ],
           "yaxis": "y"
          },
          {
           "hovertemplate": "color=MINIVAN<br>animation_frame=2022<br>x=%{x}<br>y=%{y}<extra></extra>",
           "ids": [
            "MINIVAN"
           ],
           "legendgroup": "MINIVAN",
           "line": {
            "color": "#DA16FF",
            "dash": "solid"
           },
           "marker": {
            "symbol": "circle"
           },
           "mode": "markers+lines",
           "name": "MINIVAN",
           "orientation": "v",
           "showlegend": true,
           "type": "scatter",
           "x": [
            2022
           ],
           "xaxis": "x",
           "y": [
            31
           ],
           "yaxis": "y"
          },
          {
           "hovertemplate": "color=PICKUP TRUCK - SMALL<br>animation_frame=2022<br>x=%{x}<br>y=%{y}<extra></extra>",
           "ids": [
            "PICKUP TRUCK - SMALL"
           ],
           "legendgroup": "PICKUP TRUCK - SMALL",
           "line": {
            "color": "#222A2A",
            "dash": "solid"
           },
           "marker": {
            "symbol": "circle"
           },
           "mode": "markers+lines",
           "name": "PICKUP TRUCK - SMALL",
           "orientation": "v",
           "showlegend": true,
           "type": "scatter",
           "x": [
            2022
           ],
           "xaxis": "x",
           "y": [
            26
           ],
           "yaxis": "y"
          },
          {
           "hovertemplate": "color=PICKUP TRUCK - STANDARD<br>animation_frame=2022<br>x=%{x}<br>y=%{y}<extra></extra>",
           "ids": [
            "PICKUP TRUCK - STANDARD"
           ],
           "legendgroup": "PICKUP TRUCK - STANDARD",
           "line": {
            "color": "#B68100",
            "dash": "solid"
           },
           "marker": {
            "symbol": "circle"
           },
           "mode": "markers+lines",
           "name": "PICKUP TRUCK - STANDARD",
           "orientation": "v",
           "showlegend": true,
           "type": "scatter",
           "x": [
            2022
           ],
           "xaxis": "x",
           "y": [
            21.460176991150444
           ],
           "yaxis": "y"
          },
          {
           "hovertemplate": "color=STATION WAGON - MID-SIZE<br>animation_frame=2022<br>x=%{x}<br>y=%{y}<extra></extra>",
           "ids": [
            "STATION WAGON - MID-SIZE"
           ],
           "legendgroup": "STATION WAGON - MID-SIZE",
           "line": {
            "color": "#750D86",
            "dash": "solid"
           },
           "marker": {
            "symbol": "circle"
           },
           "mode": "markers+lines",
           "name": "STATION WAGON - MID-SIZE",
           "orientation": "v",
           "showlegend": true,
           "type": "scatter",
           "x": [
            2022
           ],
           "xaxis": "x",
           "y": [
            24.25
           ],
           "yaxis": "y"
          },
          {
           "hovertemplate": "color=STATION WAGON - SMALL<br>animation_frame=2022<br>x=%{x}<br>y=%{y}<extra></extra>",
           "ids": [
            "STATION WAGON - SMALL"
           ],
           "legendgroup": "STATION WAGON - SMALL",
           "line": {
            "color": "#EB663B",
            "dash": "solid"
           },
           "marker": {
            "symbol": "circle"
           },
           "mode": "markers+lines",
           "name": "STATION WAGON - SMALL",
           "orientation": "v",
           "showlegend": true,
           "type": "scatter",
           "x": [
            2022
           ],
           "xaxis": "x",
           "y": [
            36.26315789473684
           ],
           "yaxis": "y"
          },
          {
           "hovertemplate": "color=SUBCOMPACT<br>animation_frame=2022<br>x=%{x}<br>y=%{y}<extra></extra>",
           "ids": [
            "SUBCOMPACT"
           ],
           "legendgroup": "SUBCOMPACT",
           "line": {
            "color": "#511CFB",
            "dash": "solid"
           },
           "marker": {
            "symbol": "circle"
           },
           "mode": "markers+lines",
           "name": "SUBCOMPACT",
           "orientation": "v",
           "showlegend": true,
           "type": "scatter",
           "x": [
            2022
           ],
           "xaxis": "x",
           "y": [
            27.620253164556964
           ],
           "yaxis": "y"
          },
          {
           "hovertemplate": "color=TWO-SEATER<br>animation_frame=2022<br>x=%{x}<br>y=%{y}<extra></extra>",
           "ids": [
            "TWO-SEATER"
           ],
           "legendgroup": "TWO-SEATER",
           "line": {
            "color": "#FB00D1",
            "dash": "solid"
           },
           "marker": {
            "symbol": "circle"
           },
           "mode": "markers+lines",
           "name": "TWO-SEATER",
           "orientation": "v",
           "showlegend": true,
           "type": "scatter",
           "x": [
            2022
           ],
           "xaxis": "x",
           "y": [
            23.15686274509804
           ],
           "yaxis": "y"
          },
          {
           "hovertemplate": "color=SUV - STANDARD<br>animation_frame=2022<br>x=%{x}<br>y=%{y}<extra></extra>",
           "ids": [
            "SUV - STANDARD"
           ],
           "legendgroup": "SUV - STANDARD",
           "line": {
            "color": "#6C7C32",
            "dash": "solid"
           },
           "marker": {
            "symbol": "circle"
           },
           "mode": "markers+lines",
           "name": "SUV - STANDARD",
           "orientation": "v",
           "showlegend": true,
           "type": "scatter",
           "x": [
            2022
           ],
           "xaxis": "x",
           "y": [
            22.463087248322147
           ],
           "yaxis": "y"
          },
          {
           "hovertemplate": "color=SPECIAL PURPOSE VEHICLE<br>animation_frame=2022<br>x=%{x}<br>y=%{y}<extra></extra>",
           "ids": [
            "SPECIAL PURPOSE VEHICLE"
           ],
           "legendgroup": "SPECIAL PURPOSE VEHICLE",
           "line": {
            "color": "#778AAE",
            "dash": "solid"
           },
           "marker": {
            "symbol": "circle"
           },
           "mode": "markers+lines",
           "name": "SPECIAL PURPOSE VEHICLE",
           "orientation": "v",
           "showlegend": true,
           "type": "scatter",
           "x": [
            2022
           ],
           "xaxis": "x",
           "y": [
            26.75
           ],
           "yaxis": "y"
          },
          {
           "hovertemplate": "color=SUV - SMALL<br>animation_frame=2022<br>x=%{x}<br>y=%{y}<extra></extra>",
           "ids": [
            "SUV - SMALL"
           ],
           "legendgroup": "SUV - SMALL",
           "line": {
            "color": "#862A16",
            "dash": "solid"
           },
           "marker": {
            "symbol": "circle"
           },
           "mode": "markers+lines",
           "name": "SUV - SMALL",
           "orientation": "v",
           "showlegend": true,
           "type": "scatter",
           "x": [
            2022
           ],
           "xaxis": "x",
           "y": [
            29.781725888324875
           ],
           "yaxis": "y"
          }
         ],
         "name": "2022"
        }
       ],
       "layout": {
        "legend": {
         "title": {
          "text": "Vehicle Class"
         },
         "tracegroupgap": 0
        },
        "margin": {
         "t": 60
        },
        "sliders": [
         {
          "active": 0,
          "currentvalue": {
           "prefix": "animation_frame="
          },
          "len": 0.9,
          "pad": {
           "b": 10,
           "t": 60
          },
          "steps": [
           {
            "args": [
             [
              "2000"
             ],
             {
              "frame": {
               "duration": 0,
               "redraw": false
              },
              "fromcurrent": true,
              "mode": "immediate",
              "transition": {
               "duration": 0,
               "easing": "linear"
              }
             }
            ],
            "label": "2000",
            "method": "animate"
           },
           {
            "args": [
             [
              "2001"
             ],
             {
              "frame": {
               "duration": 0,
               "redraw": false
              },
              "fromcurrent": true,
              "mode": "immediate",
              "transition": {
               "duration": 0,
               "easing": "linear"
              }
             }
            ],
            "label": "2001",
            "method": "animate"
           },
           {
            "args": [
             [
              "2002"
             ],
             {
              "frame": {
               "duration": 0,
               "redraw": false
              },
              "fromcurrent": true,
              "mode": "immediate",
              "transition": {
               "duration": 0,
               "easing": "linear"
              }
             }
            ],
            "label": "2002",
            "method": "animate"
           },
           {
            "args": [
             [
              "2003"
             ],
             {
              "frame": {
               "duration": 0,
               "redraw": false
              },
              "fromcurrent": true,
              "mode": "immediate",
              "transition": {
               "duration": 0,
               "easing": "linear"
              }
             }
            ],
            "label": "2003",
            "method": "animate"
           },
           {
            "args": [
             [
              "2004"
             ],
             {
              "frame": {
               "duration": 0,
               "redraw": false
              },
              "fromcurrent": true,
              "mode": "immediate",
              "transition": {
               "duration": 0,
               "easing": "linear"
              }
             }
            ],
            "label": "2004",
            "method": "animate"
           },
           {
            "args": [
             [
              "2005"
             ],
             {
              "frame": {
               "duration": 0,
               "redraw": false
              },
              "fromcurrent": true,
              "mode": "immediate",
              "transition": {
               "duration": 0,
               "easing": "linear"
              }
             }
            ],
            "label": "2005",
            "method": "animate"
           },
           {
            "args": [
             [
              "2006"
             ],
             {
              "frame": {
               "duration": 0,
               "redraw": false
              },
              "fromcurrent": true,
              "mode": "immediate",
              "transition": {
               "duration": 0,
               "easing": "linear"
              }
             }
            ],
            "label": "2006",
            "method": "animate"
           },
           {
            "args": [
             [
              "2007"
             ],
             {
              "frame": {
               "duration": 0,
               "redraw": false
              },
              "fromcurrent": true,
              "mode": "immediate",
              "transition": {
               "duration": 0,
               "easing": "linear"
              }
             }
            ],
            "label": "2007",
            "method": "animate"
           },
           {
            "args": [
             [
              "2008"
             ],
             {
              "frame": {
               "duration": 0,
               "redraw": false
              },
              "fromcurrent": true,
              "mode": "immediate",
              "transition": {
               "duration": 0,
               "easing": "linear"
              }
             }
            ],
            "label": "2008",
            "method": "animate"
           },
           {
            "args": [
             [
              "2009"
             ],
             {
              "frame": {
               "duration": 0,
               "redraw": false
              },
              "fromcurrent": true,
              "mode": "immediate",
              "transition": {
               "duration": 0,
               "easing": "linear"
              }
             }
            ],
            "label": "2009",
            "method": "animate"
           },
           {
            "args": [
             [
              "2010"
             ],
             {
              "frame": {
               "duration": 0,
               "redraw": false
              },
              "fromcurrent": true,
              "mode": "immediate",
              "transition": {
               "duration": 0,
               "easing": "linear"
              }
             }
            ],
            "label": "2010",
            "method": "animate"
           },
           {
            "args": [
             [
              "2011"
             ],
             {
              "frame": {
               "duration": 0,
               "redraw": false
              },
              "fromcurrent": true,
              "mode": "immediate",
              "transition": {
               "duration": 0,
               "easing": "linear"
              }
             }
            ],
            "label": "2011",
            "method": "animate"
           },
           {
            "args": [
             [
              "2012"
             ],
             {
              "frame": {
               "duration": 0,
               "redraw": false
              },
              "fromcurrent": true,
              "mode": "immediate",
              "transition": {
               "duration": 0,
               "easing": "linear"
              }
             }
            ],
            "label": "2012",
            "method": "animate"
           },
           {
            "args": [
             [
              "2013"
             ],
             {
              "frame": {
               "duration": 0,
               "redraw": false
              },
              "fromcurrent": true,
              "mode": "immediate",
              "transition": {
               "duration": 0,
               "easing": "linear"
              }
             }
            ],
            "label": "2013",
            "method": "animate"
           },
           {
            "args": [
             [
              "2014"
             ],
             {
              "frame": {
               "duration": 0,
               "redraw": false
              },
              "fromcurrent": true,
              "mode": "immediate",
              "transition": {
               "duration": 0,
               "easing": "linear"
              }
             }
            ],
            "label": "2014",
            "method": "animate"
           },
           {
            "args": [
             [
              "2015"
             ],
             {
              "frame": {
               "duration": 0,
               "redraw": false
              },
              "fromcurrent": true,
              "mode": "immediate",
              "transition": {
               "duration": 0,
               "easing": "linear"
              }
             }
            ],
            "label": "2015",
            "method": "animate"
           },
           {
            "args": [
             [
              "2016"
             ],
             {
              "frame": {
               "duration": 0,
               "redraw": false
              },
              "fromcurrent": true,
              "mode": "immediate",
              "transition": {
               "duration": 0,
               "easing": "linear"
              }
             }
            ],
            "label": "2016",
            "method": "animate"
           },
           {
            "args": [
             [
              "2017"
             ],
             {
              "frame": {
               "duration": 0,
               "redraw": false
              },
              "fromcurrent": true,
              "mode": "immediate",
              "transition": {
               "duration": 0,
               "easing": "linear"
              }
             }
            ],
            "label": "2017",
            "method": "animate"
           },
           {
            "args": [
             [
              "2018"
             ],
             {
              "frame": {
               "duration": 0,
               "redraw": false
              },
              "fromcurrent": true,
              "mode": "immediate",
              "transition": {
               "duration": 0,
               "easing": "linear"
              }
             }
            ],
            "label": "2018",
            "method": "animate"
           },
           {
            "args": [
             [
              "2019"
             ],
             {
              "frame": {
               "duration": 0,
               "redraw": false
              },
              "fromcurrent": true,
              "mode": "immediate",
              "transition": {
               "duration": 0,
               "easing": "linear"
              }
             }
            ],
            "label": "2019",
            "method": "animate"
           },
           {
            "args": [
             [
              "2020"
             ],
             {
              "frame": {
               "duration": 0,
               "redraw": false
              },
              "fromcurrent": true,
              "mode": "immediate",
              "transition": {
               "duration": 0,
               "easing": "linear"
              }
             }
            ],
            "label": "2020",
            "method": "animate"
           },
           {
            "args": [
             [
              "2021"
             ],
             {
              "frame": {
               "duration": 0,
               "redraw": false
              },
              "fromcurrent": true,
              "mode": "immediate",
              "transition": {
               "duration": 0,
               "easing": "linear"
              }
             }
            ],
            "label": "2021",
            "method": "animate"
           },
           {
            "args": [
             [
              "2022"
             ],
             {
              "frame": {
               "duration": 0,
               "redraw": false
              },
              "fromcurrent": true,
              "mode": "immediate",
              "transition": {
               "duration": 0,
               "easing": "linear"
              }
             }
            ],
            "label": "2022",
            "method": "animate"
           }
          ],
          "x": 0.1,
          "xanchor": "left",
          "y": 0,
          "yanchor": "top"
         }
        ],
        "template": {
         "data": {
          "bar": [
           {
            "error_x": {
             "color": "#2a3f5f"
            },
            "error_y": {
             "color": "#2a3f5f"
            },
            "marker": {
             "line": {
              "color": "#E5ECF6",
              "width": 0.5
             },
             "pattern": {
              "fillmode": "overlay",
              "size": 10,
              "solidity": 0.2
             }
            },
            "type": "bar"
           }
          ],
          "barpolar": [
           {
            "marker": {
             "line": {
              "color": "#E5ECF6",
              "width": 0.5
             },
             "pattern": {
              "fillmode": "overlay",
              "size": 10,
              "solidity": 0.2
             }
            },
            "type": "barpolar"
           }
          ],
          "carpet": [
           {
            "aaxis": {
             "endlinecolor": "#2a3f5f",
             "gridcolor": "white",
             "linecolor": "white",
             "minorgridcolor": "white",
             "startlinecolor": "#2a3f5f"
            },
            "baxis": {
             "endlinecolor": "#2a3f5f",
             "gridcolor": "white",
             "linecolor": "white",
             "minorgridcolor": "white",
             "startlinecolor": "#2a3f5f"
            },
            "type": "carpet"
           }
          ],
          "choropleth": [
           {
            "colorbar": {
             "outlinewidth": 0,
             "ticks": ""
            },
            "type": "choropleth"
           }
          ],
          "contour": [
           {
            "colorbar": {
             "outlinewidth": 0,
             "ticks": ""
            },
            "colorscale": [
             [
              0,
              "#0d0887"
             ],
             [
              0.1111111111111111,
              "#46039f"
             ],
             [
              0.2222222222222222,
              "#7201a8"
             ],
             [
              0.3333333333333333,
              "#9c179e"
             ],
             [
              0.4444444444444444,
              "#bd3786"
             ],
             [
              0.5555555555555556,
              "#d8576b"
             ],
             [
              0.6666666666666666,
              "#ed7953"
             ],
             [
              0.7777777777777778,
              "#fb9f3a"
             ],
             [
              0.8888888888888888,
              "#fdca26"
             ],
             [
              1,
              "#f0f921"
             ]
            ],
            "type": "contour"
           }
          ],
          "contourcarpet": [
           {
            "colorbar": {
             "outlinewidth": 0,
             "ticks": ""
            },
            "type": "contourcarpet"
           }
          ],
          "heatmap": [
           {
            "colorbar": {
             "outlinewidth": 0,
             "ticks": ""
            },
            "colorscale": [
             [
              0,
              "#0d0887"
             ],
             [
              0.1111111111111111,
              "#46039f"
             ],
             [
              0.2222222222222222,
              "#7201a8"
             ],
             [
              0.3333333333333333,
              "#9c179e"
             ],
             [
              0.4444444444444444,
              "#bd3786"
             ],
             [
              0.5555555555555556,
              "#d8576b"
             ],
             [
              0.6666666666666666,
              "#ed7953"
             ],
             [
              0.7777777777777778,
              "#fb9f3a"
             ],
             [
              0.8888888888888888,
              "#fdca26"
             ],
             [
              1,
              "#f0f921"
             ]
            ],
            "type": "heatmap"
           }
          ],
          "heatmapgl": [
           {
            "colorbar": {
             "outlinewidth": 0,
             "ticks": ""
            },
            "colorscale": [
             [
              0,
              "#0d0887"
             ],
             [
              0.1111111111111111,
              "#46039f"
             ],
             [
              0.2222222222222222,
              "#7201a8"
             ],
             [
              0.3333333333333333,
              "#9c179e"
             ],
             [
              0.4444444444444444,
              "#bd3786"
             ],
             [
              0.5555555555555556,
              "#d8576b"
             ],
             [
              0.6666666666666666,
              "#ed7953"
             ],
             [
              0.7777777777777778,
              "#fb9f3a"
             ],
             [
              0.8888888888888888,
              "#fdca26"
             ],
             [
              1,
              "#f0f921"
             ]
            ],
            "type": "heatmapgl"
           }
          ],
          "histogram": [
           {
            "marker": {
             "pattern": {
              "fillmode": "overlay",
              "size": 10,
              "solidity": 0.2
             }
            },
            "type": "histogram"
           }
          ],
          "histogram2d": [
           {
            "colorbar": {
             "outlinewidth": 0,
             "ticks": ""
            },
            "colorscale": [
             [
              0,
              "#0d0887"
             ],
             [
              0.1111111111111111,
              "#46039f"
             ],
             [
              0.2222222222222222,
              "#7201a8"
             ],
             [
              0.3333333333333333,
              "#9c179e"
             ],
             [
              0.4444444444444444,
              "#bd3786"
             ],
             [
              0.5555555555555556,
              "#d8576b"
             ],
             [
              0.6666666666666666,
              "#ed7953"
             ],
             [
              0.7777777777777778,
              "#fb9f3a"
             ],
             [
              0.8888888888888888,
              "#fdca26"
             ],
             [
              1,
              "#f0f921"
             ]
            ],
            "type": "histogram2d"
           }
          ],
          "histogram2dcontour": [
           {
            "colorbar": {
             "outlinewidth": 0,
             "ticks": ""
            },
            "colorscale": [
             [
              0,
              "#0d0887"
             ],
             [
              0.1111111111111111,
              "#46039f"
             ],
             [
              0.2222222222222222,
              "#7201a8"
             ],
             [
              0.3333333333333333,
              "#9c179e"
             ],
             [
              0.4444444444444444,
              "#bd3786"
             ],
             [
              0.5555555555555556,
              "#d8576b"
             ],
             [
              0.6666666666666666,
              "#ed7953"
             ],
             [
              0.7777777777777778,
              "#fb9f3a"
             ],
             [
              0.8888888888888888,
              "#fdca26"
             ],
             [
              1,
              "#f0f921"
             ]
            ],
            "type": "histogram2dcontour"
           }
          ],
          "mesh3d": [
           {
            "colorbar": {
             "outlinewidth": 0,
             "ticks": ""
            },
            "type": "mesh3d"
           }
          ],
          "parcoords": [
           {
            "line": {
             "colorbar": {
              "outlinewidth": 0,
              "ticks": ""
             }
            },
            "type": "parcoords"
           }
          ],
          "pie": [
           {
            "automargin": true,
            "type": "pie"
           }
          ],
          "scatter": [
           {
            "fillpattern": {
             "fillmode": "overlay",
             "size": 10,
             "solidity": 0.2
            },
            "type": "scatter"
           }
          ],
          "scatter3d": [
           {
            "line": {
             "colorbar": {
              "outlinewidth": 0,
              "ticks": ""
             }
            },
            "marker": {
             "colorbar": {
              "outlinewidth": 0,
              "ticks": ""
             }
            },
            "type": "scatter3d"
           }
          ],
          "scattercarpet": [
           {
            "marker": {
             "colorbar": {
              "outlinewidth": 0,
              "ticks": ""
             }
            },
            "type": "scattercarpet"
           }
          ],
          "scattergeo": [
           {
            "marker": {
             "colorbar": {
              "outlinewidth": 0,
              "ticks": ""
             }
            },
            "type": "scattergeo"
           }
          ],
          "scattergl": [
           {
            "marker": {
             "colorbar": {
              "outlinewidth": 0,
              "ticks": ""
             }
            },
            "type": "scattergl"
           }
          ],
          "scattermapbox": [
           {
            "marker": {
             "colorbar": {
              "outlinewidth": 0,
              "ticks": ""
             }
            },
            "type": "scattermapbox"
           }
          ],
          "scatterpolar": [
           {
            "marker": {
             "colorbar": {
              "outlinewidth": 0,
              "ticks": ""
             }
            },
            "type": "scatterpolar"
           }
          ],
          "scatterpolargl": [
           {
            "marker": {
             "colorbar": {
              "outlinewidth": 0,
              "ticks": ""
             }
            },
            "type": "scatterpolargl"
           }
          ],
          "scatterternary": [
           {
            "marker": {
             "colorbar": {
              "outlinewidth": 0,
              "ticks": ""
             }
            },
            "type": "scatterternary"
           }
          ],
          "surface": [
           {
            "colorbar": {
             "outlinewidth": 0,
             "ticks": ""
            },
            "colorscale": [
             [
              0,
              "#0d0887"
             ],
             [
              0.1111111111111111,
              "#46039f"
             ],
             [
              0.2222222222222222,
              "#7201a8"
             ],
             [
              0.3333333333333333,
              "#9c179e"
             ],
             [
              0.4444444444444444,
              "#bd3786"
             ],
             [
              0.5555555555555556,
              "#d8576b"
             ],
             [
              0.6666666666666666,
              "#ed7953"
             ],
             [
              0.7777777777777778,
              "#fb9f3a"
             ],
             [
              0.8888888888888888,
              "#fdca26"
             ],
             [
              1,
              "#f0f921"
             ]
            ],
            "type": "surface"
           }
          ],
          "table": [
           {
            "cells": {
             "fill": {
              "color": "#EBF0F8"
             },
             "line": {
              "color": "white"
             }
            },
            "header": {
             "fill": {
              "color": "#C8D4E3"
             },
             "line": {
              "color": "white"
             }
            },
            "type": "table"
           }
          ]
         },
         "layout": {
          "annotationdefaults": {
           "arrowcolor": "#2a3f5f",
           "arrowhead": 0,
           "arrowwidth": 1
          },
          "autotypenumbers": "strict",
          "coloraxis": {
           "colorbar": {
            "outlinewidth": 0,
            "ticks": ""
           }
          },
          "colorscale": {
           "diverging": [
            [
             0,
             "#8e0152"
            ],
            [
             0.1,
             "#c51b7d"
            ],
            [
             0.2,
             "#de77ae"
            ],
            [
             0.3,
             "#f1b6da"
            ],
            [
             0.4,
             "#fde0ef"
            ],
            [
             0.5,
             "#f7f7f7"
            ],
            [
             0.6,
             "#e6f5d0"
            ],
            [
             0.7,
             "#b8e186"
            ],
            [
             0.8,
             "#7fbc41"
            ],
            [
             0.9,
             "#4d9221"
            ],
            [
             1,
             "#276419"
            ]
           ],
           "sequential": [
            [
             0,
             "#0d0887"
            ],
            [
             0.1111111111111111,
             "#46039f"
            ],
            [
             0.2222222222222222,
             "#7201a8"
            ],
            [
             0.3333333333333333,
             "#9c179e"
            ],
            [
             0.4444444444444444,
             "#bd3786"
            ],
            [
             0.5555555555555556,
             "#d8576b"
            ],
            [
             0.6666666666666666,
             "#ed7953"
            ],
            [
             0.7777777777777778,
             "#fb9f3a"
            ],
            [
             0.8888888888888888,
             "#fdca26"
            ],
            [
             1,
             "#f0f921"
            ]
           ],
           "sequentialminus": [
            [
             0,
             "#0d0887"
            ],
            [
             0.1111111111111111,
             "#46039f"
            ],
            [
             0.2222222222222222,
             "#7201a8"
            ],
            [
             0.3333333333333333,
             "#9c179e"
            ],
            [
             0.4444444444444444,
             "#bd3786"
            ],
            [
             0.5555555555555556,
             "#d8576b"
            ],
            [
             0.6666666666666666,
             "#ed7953"
            ],
            [
             0.7777777777777778,
             "#fb9f3a"
            ],
            [
             0.8888888888888888,
             "#fdca26"
            ],
            [
             1,
             "#f0f921"
            ]
           ]
          },
          "colorway": [
           "#636efa",
           "#EF553B",
           "#00cc96",
           "#ab63fa",
           "#FFA15A",
           "#19d3f3",
           "#FF6692",
           "#B6E880",
           "#FF97FF",
           "#FECB52"
          ],
          "font": {
           "color": "#2a3f5f"
          },
          "geo": {
           "bgcolor": "white",
           "lakecolor": "white",
           "landcolor": "#E5ECF6",
           "showlakes": true,
           "showland": true,
           "subunitcolor": "white"
          },
          "hoverlabel": {
           "align": "left"
          },
          "hovermode": "closest",
          "mapbox": {
           "style": "light"
          },
          "paper_bgcolor": "white",
          "plot_bgcolor": "#E5ECF6",
          "polar": {
           "angularaxis": {
            "gridcolor": "white",
            "linecolor": "white",
            "ticks": ""
           },
           "bgcolor": "#E5ECF6",
           "radialaxis": {
            "gridcolor": "white",
            "linecolor": "white",
            "ticks": ""
           }
          },
          "scene": {
           "xaxis": {
            "backgroundcolor": "#E5ECF6",
            "gridcolor": "white",
            "gridwidth": 2,
            "linecolor": "white",
            "showbackground": true,
            "ticks": "",
            "zerolinecolor": "white"
           },
           "yaxis": {
            "backgroundcolor": "#E5ECF6",
            "gridcolor": "white",
            "gridwidth": 2,
            "linecolor": "white",
            "showbackground": true,
            "ticks": "",
            "zerolinecolor": "white"
           },
           "zaxis": {
            "backgroundcolor": "#E5ECF6",
            "gridcolor": "white",
            "gridwidth": 2,
            "linecolor": "white",
            "showbackground": true,
            "ticks": "",
            "zerolinecolor": "white"
           }
          },
          "shapedefaults": {
           "line": {
            "color": "#2a3f5f"
           }
          },
          "ternary": {
           "aaxis": {
            "gridcolor": "white",
            "linecolor": "white",
            "ticks": ""
           },
           "baxis": {
            "gridcolor": "white",
            "linecolor": "white",
            "ticks": ""
           },
           "bgcolor": "#E5ECF6",
           "caxis": {
            "gridcolor": "white",
            "linecolor": "white",
            "ticks": ""
           }
          },
          "title": {
           "x": 0.05
          },
          "xaxis": {
           "automargin": true,
           "gridcolor": "white",
           "linecolor": "white",
           "ticks": "",
           "title": {
            "standoff": 15
           },
           "zerolinecolor": "white",
           "zerolinewidth": 2
          },
          "yaxis": {
           "automargin": true,
           "gridcolor": "white",
           "linecolor": "white",
           "ticks": "",
           "title": {
            "standoff": 15
           },
           "zerolinecolor": "white",
           "zerolinewidth": 2
          }
         }
        },
        "title": {
         "text": "Average Combined MPG per Vehicle Class per Year"
        },
        "updatemenus": [
         {
          "buttons": [
           {
            "args": [
             null,
             {
              "frame": {
               "duration": 500,
               "redraw": false
              },
              "fromcurrent": true,
              "mode": "immediate",
              "transition": {
               "duration": 500,
               "easing": "linear"
              }
             }
            ],
            "label": "&#9654;",
            "method": "animate"
           },
           {
            "args": [
             [
              null
             ],
             {
              "frame": {
               "duration": 0,
               "redraw": false
              },
              "fromcurrent": true,
              "mode": "immediate",
              "transition": {
               "duration": 0,
               "easing": "linear"
              }
             }
            ],
            "label": "&#9724;",
            "method": "animate"
           }
          ],
          "direction": "left",
          "pad": {
           "r": 10,
           "t": 70
          },
          "showactive": false,
          "type": "buttons",
          "x": 0.1,
          "xanchor": "right",
          "y": 0,
          "yanchor": "top"
         }
        ],
        "xaxis": {
         "anchor": "y",
         "domain": [
          0,
          1
         ],
         "minor": {
          "showgrid": true,
          "tickcolor": "black",
          "ticklen": 5
         },
         "range": [
          3.3008127941181167,
          3.3059958827708047
         ],
         "tickangle": 45,
         "title": {
          "text": "Year"
         },
         "type": "log"
        },
        "yaxis": {
         "anchor": "x",
         "domain": [
          0,
          1
         ],
         "range": [
          14,
          40
         ],
         "title": {
          "text": "Combined MPG Average"
         }
        }
       }
      },
      "text/html": [
       "<div>                            <div id=\"c3879f9c-a38d-478b-8c69-8460d46ac29b\" class=\"plotly-graph-div\" style=\"height:525px; width:100%;\"></div>            <script type=\"text/javascript\">                require([\"plotly\"], function(Plotly) {                    window.PLOTLYENV=window.PLOTLYENV || {};                                    if (document.getElementById(\"c3879f9c-a38d-478b-8c69-8460d46ac29b\")) {                    Plotly.newPlot(                        \"c3879f9c-a38d-478b-8c69-8460d46ac29b\",                        [{\"hovertemplate\":\"color=COMPACT<br>animation_frame=2000<br>x=%{x}<br>y=%{y}<extra></extra>\",\"ids\":[\"COMPACT\"],\"legendgroup\":\"COMPACT\",\"line\":{\"color\":\"#2E91E5\",\"dash\":\"solid\"},\"marker\":{\"symbol\":\"circle\"},\"mode\":\"markers+lines\",\"name\":\"COMPACT\",\"orientation\":\"v\",\"showlegend\":true,\"x\":[2000],\"xaxis\":\"x\",\"y\":[31.504761904761907],\"yaxis\":\"y\",\"type\":\"scatter\"},{\"hovertemplate\":\"color=FULL-SIZE<br>animation_frame=2000<br>x=%{x}<br>y=%{y}<extra></extra>\",\"ids\":[\"FULL-SIZE\"],\"legendgroup\":\"FULL-SIZE\",\"line\":{\"color\":\"#E15F99\",\"dash\":\"solid\"},\"marker\":{\"symbol\":\"circle\"},\"mode\":\"markers+lines\",\"name\":\"FULL-SIZE\",\"orientation\":\"v\",\"showlegend\":true,\"x\":[2000],\"xaxis\":\"x\",\"y\":[26.428571428571427],\"yaxis\":\"y\",\"type\":\"scatter\"},{\"hovertemplate\":\"color=MID-SIZE<br>animation_frame=2000<br>x=%{x}<br>y=%{y}<extra></extra>\",\"ids\":[\"MID-SIZE\"],\"legendgroup\":\"MID-SIZE\",\"line\":{\"color\":\"#1CA71C\",\"dash\":\"solid\"},\"marker\":{\"symbol\":\"circle\"},\"mode\":\"markers+lines\",\"name\":\"MID-SIZE\",\"orientation\":\"v\",\"showlegend\":true,\"x\":[2000],\"xaxis\":\"x\",\"y\":[27.441558441558442],\"yaxis\":\"y\",\"type\":\"scatter\"},{\"hovertemplate\":\"color=MINICOMPACT<br>animation_frame=2000<br>x=%{x}<br>y=%{y}<extra></extra>\",\"ids\":[\"MINICOMPACT\"],\"legendgroup\":\"MINICOMPACT\",\"line\":{\"color\":\"#FB0D0D\",\"dash\":\"solid\"},\"marker\":{\"symbol\":\"circle\"},\"mode\":\"markers+lines\",\"name\":\"MINICOMPACT\",\"orientation\":\"v\",\"showlegend\":true,\"x\":[2000],\"xaxis\":\"x\",\"y\":[25.636363636363637],\"yaxis\":\"y\",\"type\":\"scatter\"},{\"hovertemplate\":\"color=MINIVAN<br>animation_frame=2000<br>x=%{x}<br>y=%{y}<extra></extra>\",\"ids\":[\"MINIVAN\"],\"legendgroup\":\"MINIVAN\",\"line\":{\"color\":\"#DA16FF\",\"dash\":\"solid\"},\"marker\":{\"symbol\":\"circle\"},\"mode\":\"markers+lines\",\"name\":\"MINIVAN\",\"orientation\":\"v\",\"showlegend\":true,\"x\":[2000],\"xaxis\":\"x\",\"y\":[23.96153846153846],\"yaxis\":\"y\",\"type\":\"scatter\"},{\"hovertemplate\":\"color=PICKUP TRUCK - SMALL<br>animation_frame=2000<br>x=%{x}<br>y=%{y}<extra></extra>\",\"ids\":[\"PICKUP TRUCK - SMALL\"],\"legendgroup\":\"PICKUP TRUCK - SMALL\",\"line\":{\"color\":\"#222A2A\",\"dash\":\"solid\"},\"marker\":{\"symbol\":\"circle\"},\"mode\":\"markers+lines\",\"name\":\"PICKUP TRUCK - SMALL\",\"orientation\":\"v\",\"showlegend\":true,\"x\":[2000],\"xaxis\":\"x\",\"y\":[26.272727272727273],\"yaxis\":\"y\",\"type\":\"scatter\"},{\"hovertemplate\":\"color=PICKUP TRUCK - STANDARD<br>animation_frame=2000<br>x=%{x}<br>y=%{y}<extra></extra>\",\"ids\":[\"PICKUP TRUCK - STANDARD\"],\"legendgroup\":\"PICKUP TRUCK - STANDARD\",\"line\":{\"color\":\"#B68100\",\"dash\":\"solid\"},\"marker\":{\"symbol\":\"circle\"},\"mode\":\"markers+lines\",\"name\":\"PICKUP TRUCK - STANDARD\",\"orientation\":\"v\",\"showlegend\":true,\"x\":[2000],\"xaxis\":\"x\",\"y\":[20.945652173913043],\"yaxis\":\"y\",\"type\":\"scatter\"},{\"hovertemplate\":\"color=STATION WAGON - MID-SIZE<br>animation_frame=2000<br>x=%{x}<br>y=%{y}<extra></extra>\",\"ids\":[\"STATION WAGON - MID-SIZE\"],\"legendgroup\":\"STATION WAGON - MID-SIZE\",\"line\":{\"color\":\"#750D86\",\"dash\":\"solid\"},\"marker\":{\"symbol\":\"circle\"},\"mode\":\"markers+lines\",\"name\":\"STATION WAGON - MID-SIZE\",\"orientation\":\"v\",\"showlegend\":true,\"x\":[2000],\"xaxis\":\"x\",\"y\":[28.44],\"yaxis\":\"y\",\"type\":\"scatter\"},{\"hovertemplate\":\"color=STATION WAGON - SMALL<br>animation_frame=2000<br>x=%{x}<br>y=%{y}<extra></extra>\",\"ids\":[\"STATION WAGON - SMALL\"],\"legendgroup\":\"STATION WAGON - SMALL\",\"line\":{\"color\":\"#EB663B\",\"dash\":\"solid\"},\"marker\":{\"symbol\":\"circle\"},\"mode\":\"markers+lines\",\"name\":\"STATION WAGON - SMALL\",\"orientation\":\"v\",\"showlegend\":true,\"x\":[2000],\"xaxis\":\"x\",\"y\":[31.692307692307693],\"yaxis\":\"y\",\"type\":\"scatter\"},{\"hovertemplate\":\"color=SUBCOMPACT<br>animation_frame=2000<br>x=%{x}<br>y=%{y}<extra></extra>\",\"ids\":[\"SUBCOMPACT\"],\"legendgroup\":\"SUBCOMPACT\",\"line\":{\"color\":\"#511CFB\",\"dash\":\"solid\"},\"marker\":{\"symbol\":\"circle\"},\"mode\":\"markers+lines\",\"name\":\"SUBCOMPACT\",\"orientation\":\"v\",\"showlegend\":true,\"x\":[2000],\"xaxis\":\"x\",\"y\":[31.48076923076923],\"yaxis\":\"y\",\"type\":\"scatter\"},{\"hovertemplate\":\"color=SUV<br>animation_frame=2000<br>x=%{x}<br>y=%{y}<extra></extra>\",\"ids\":[\"SUV\"],\"legendgroup\":\"SUV\",\"line\":{\"color\":\"#00A08B\",\"dash\":\"solid\"},\"marker\":{\"symbol\":\"circle\"},\"mode\":\"markers+lines\",\"name\":\"SUV\",\"orientation\":\"v\",\"showlegend\":true,\"x\":[2000],\"xaxis\":\"x\",\"y\":[22.84536082474227],\"yaxis\":\"y\",\"type\":\"scatter\"},{\"hovertemplate\":\"color=TWO-SEATER<br>animation_frame=2000<br>x=%{x}<br>y=%{y}<extra></extra>\",\"ids\":[\"TWO-SEATER\"],\"legendgroup\":\"TWO-SEATER\",\"line\":{\"color\":\"#FB00D1\",\"dash\":\"solid\"},\"marker\":{\"symbol\":\"circle\"},\"mode\":\"markers+lines\",\"name\":\"TWO-SEATER\",\"orientation\":\"v\",\"showlegend\":true,\"x\":[2000],\"xaxis\":\"x\",\"y\":[23.4],\"yaxis\":\"y\",\"type\":\"scatter\"},{\"hovertemplate\":\"color=VAN - CARGO<br>animation_frame=2000<br>x=%{x}<br>y=%{y}<extra></extra>\",\"ids\":[\"VAN - CARGO\"],\"legendgroup\":\"VAN - CARGO\",\"line\":{\"color\":\"#FC0080\",\"dash\":\"solid\"},\"marker\":{\"symbol\":\"circle\"},\"mode\":\"markers+lines\",\"name\":\"VAN - CARGO\",\"orientation\":\"v\",\"showlegend\":true,\"x\":[2000],\"xaxis\":\"x\",\"y\":[19.82608695652174],\"yaxis\":\"y\",\"type\":\"scatter\"},{\"hovertemplate\":\"color=VAN - PASSENGER<br>animation_frame=2000<br>x=%{x}<br>y=%{y}<extra></extra>\",\"ids\":[\"VAN - PASSENGER\"],\"legendgroup\":\"VAN - PASSENGER\",\"line\":{\"color\":\"#B2828D\",\"dash\":\"solid\"},\"marker\":{\"symbol\":\"circle\"},\"mode\":\"markers+lines\",\"name\":\"VAN - PASSENGER\",\"orientation\":\"v\",\"showlegend\":true,\"x\":[2000],\"xaxis\":\"x\",\"y\":[18.647058823529413],\"yaxis\":\"y\",\"type\":\"scatter\"}],                        {\"template\":{\"data\":{\"histogram2dcontour\":[{\"type\":\"histogram2dcontour\",\"colorbar\":{\"outlinewidth\":0,\"ticks\":\"\"},\"colorscale\":[[0.0,\"#0d0887\"],[0.1111111111111111,\"#46039f\"],[0.2222222222222222,\"#7201a8\"],[0.3333333333333333,\"#9c179e\"],[0.4444444444444444,\"#bd3786\"],[0.5555555555555556,\"#d8576b\"],[0.6666666666666666,\"#ed7953\"],[0.7777777777777778,\"#fb9f3a\"],[0.8888888888888888,\"#fdca26\"],[1.0,\"#f0f921\"]]}],\"choropleth\":[{\"type\":\"choropleth\",\"colorbar\":{\"outlinewidth\":0,\"ticks\":\"\"}}],\"histogram2d\":[{\"type\":\"histogram2d\",\"colorbar\":{\"outlinewidth\":0,\"ticks\":\"\"},\"colorscale\":[[0.0,\"#0d0887\"],[0.1111111111111111,\"#46039f\"],[0.2222222222222222,\"#7201a8\"],[0.3333333333333333,\"#9c179e\"],[0.4444444444444444,\"#bd3786\"],[0.5555555555555556,\"#d8576b\"],[0.6666666666666666,\"#ed7953\"],[0.7777777777777778,\"#fb9f3a\"],[0.8888888888888888,\"#fdca26\"],[1.0,\"#f0f921\"]]}],\"heatmap\":[{\"type\":\"heatmap\",\"colorbar\":{\"outlinewidth\":0,\"ticks\":\"\"},\"colorscale\":[[0.0,\"#0d0887\"],[0.1111111111111111,\"#46039f\"],[0.2222222222222222,\"#7201a8\"],[0.3333333333333333,\"#9c179e\"],[0.4444444444444444,\"#bd3786\"],[0.5555555555555556,\"#d8576b\"],[0.6666666666666666,\"#ed7953\"],[0.7777777777777778,\"#fb9f3a\"],[0.8888888888888888,\"#fdca26\"],[1.0,\"#f0f921\"]]}],\"heatmapgl\":[{\"type\":\"heatmapgl\",\"colorbar\":{\"outlinewidth\":0,\"ticks\":\"\"},\"colorscale\":[[0.0,\"#0d0887\"],[0.1111111111111111,\"#46039f\"],[0.2222222222222222,\"#7201a8\"],[0.3333333333333333,\"#9c179e\"],[0.4444444444444444,\"#bd3786\"],[0.5555555555555556,\"#d8576b\"],[0.6666666666666666,\"#ed7953\"],[0.7777777777777778,\"#fb9f3a\"],[0.8888888888888888,\"#fdca26\"],[1.0,\"#f0f921\"]]}],\"contourcarpet\":[{\"type\":\"contourcarpet\",\"colorbar\":{\"outlinewidth\":0,\"ticks\":\"\"}}],\"contour\":[{\"type\":\"contour\",\"colorbar\":{\"outlinewidth\":0,\"ticks\":\"\"},\"colorscale\":[[0.0,\"#0d0887\"],[0.1111111111111111,\"#46039f\"],[0.2222222222222222,\"#7201a8\"],[0.3333333333333333,\"#9c179e\"],[0.4444444444444444,\"#bd3786\"],[0.5555555555555556,\"#d8576b\"],[0.6666666666666666,\"#ed7953\"],[0.7777777777777778,\"#fb9f3a\"],[0.8888888888888888,\"#fdca26\"],[1.0,\"#f0f921\"]]}],\"surface\":[{\"type\":\"surface\",\"colorbar\":{\"outlinewidth\":0,\"ticks\":\"\"},\"colorscale\":[[0.0,\"#0d0887\"],[0.1111111111111111,\"#46039f\"],[0.2222222222222222,\"#7201a8\"],[0.3333333333333333,\"#9c179e\"],[0.4444444444444444,\"#bd3786\"],[0.5555555555555556,\"#d8576b\"],[0.6666666666666666,\"#ed7953\"],[0.7777777777777778,\"#fb9f3a\"],[0.8888888888888888,\"#fdca26\"],[1.0,\"#f0f921\"]]}],\"mesh3d\":[{\"type\":\"mesh3d\",\"colorbar\":{\"outlinewidth\":0,\"ticks\":\"\"}}],\"scatter\":[{\"fillpattern\":{\"fillmode\":\"overlay\",\"size\":10,\"solidity\":0.2},\"type\":\"scatter\"}],\"parcoords\":[{\"type\":\"parcoords\",\"line\":{\"colorbar\":{\"outlinewidth\":0,\"ticks\":\"\"}}}],\"scatterpolargl\":[{\"type\":\"scatterpolargl\",\"marker\":{\"colorbar\":{\"outlinewidth\":0,\"ticks\":\"\"}}}],\"bar\":[{\"error_x\":{\"color\":\"#2a3f5f\"},\"error_y\":{\"color\":\"#2a3f5f\"},\"marker\":{\"line\":{\"color\":\"#E5ECF6\",\"width\":0.5},\"pattern\":{\"fillmode\":\"overlay\",\"size\":10,\"solidity\":0.2}},\"type\":\"bar\"}],\"scattergeo\":[{\"type\":\"scattergeo\",\"marker\":{\"colorbar\":{\"outlinewidth\":0,\"ticks\":\"\"}}}],\"scatterpolar\":[{\"type\":\"scatterpolar\",\"marker\":{\"colorbar\":{\"outlinewidth\":0,\"ticks\":\"\"}}}],\"histogram\":[{\"marker\":{\"pattern\":{\"fillmode\":\"overlay\",\"size\":10,\"solidity\":0.2}},\"type\":\"histogram\"}],\"scattergl\":[{\"type\":\"scattergl\",\"marker\":{\"colorbar\":{\"outlinewidth\":0,\"ticks\":\"\"}}}],\"scatter3d\":[{\"type\":\"scatter3d\",\"line\":{\"colorbar\":{\"outlinewidth\":0,\"ticks\":\"\"}},\"marker\":{\"colorbar\":{\"outlinewidth\":0,\"ticks\":\"\"}}}],\"scattermapbox\":[{\"type\":\"scattermapbox\",\"marker\":{\"colorbar\":{\"outlinewidth\":0,\"ticks\":\"\"}}}],\"scatterternary\":[{\"type\":\"scatterternary\",\"marker\":{\"colorbar\":{\"outlinewidth\":0,\"ticks\":\"\"}}}],\"scattercarpet\":[{\"type\":\"scattercarpet\",\"marker\":{\"colorbar\":{\"outlinewidth\":0,\"ticks\":\"\"}}}],\"carpet\":[{\"aaxis\":{\"endlinecolor\":\"#2a3f5f\",\"gridcolor\":\"white\",\"linecolor\":\"white\",\"minorgridcolor\":\"white\",\"startlinecolor\":\"#2a3f5f\"},\"baxis\":{\"endlinecolor\":\"#2a3f5f\",\"gridcolor\":\"white\",\"linecolor\":\"white\",\"minorgridcolor\":\"white\",\"startlinecolor\":\"#2a3f5f\"},\"type\":\"carpet\"}],\"table\":[{\"cells\":{\"fill\":{\"color\":\"#EBF0F8\"},\"line\":{\"color\":\"white\"}},\"header\":{\"fill\":{\"color\":\"#C8D4E3\"},\"line\":{\"color\":\"white\"}},\"type\":\"table\"}],\"barpolar\":[{\"marker\":{\"line\":{\"color\":\"#E5ECF6\",\"width\":0.5},\"pattern\":{\"fillmode\":\"overlay\",\"size\":10,\"solidity\":0.2}},\"type\":\"barpolar\"}],\"pie\":[{\"automargin\":true,\"type\":\"pie\"}]},\"layout\":{\"autotypenumbers\":\"strict\",\"colorway\":[\"#636efa\",\"#EF553B\",\"#00cc96\",\"#ab63fa\",\"#FFA15A\",\"#19d3f3\",\"#FF6692\",\"#B6E880\",\"#FF97FF\",\"#FECB52\"],\"font\":{\"color\":\"#2a3f5f\"},\"hovermode\":\"closest\",\"hoverlabel\":{\"align\":\"left\"},\"paper_bgcolor\":\"white\",\"plot_bgcolor\":\"#E5ECF6\",\"polar\":{\"bgcolor\":\"#E5ECF6\",\"angularaxis\":{\"gridcolor\":\"white\",\"linecolor\":\"white\",\"ticks\":\"\"},\"radialaxis\":{\"gridcolor\":\"white\",\"linecolor\":\"white\",\"ticks\":\"\"}},\"ternary\":{\"bgcolor\":\"#E5ECF6\",\"aaxis\":{\"gridcolor\":\"white\",\"linecolor\":\"white\",\"ticks\":\"\"},\"baxis\":{\"gridcolor\":\"white\",\"linecolor\":\"white\",\"ticks\":\"\"},\"caxis\":{\"gridcolor\":\"white\",\"linecolor\":\"white\",\"ticks\":\"\"}},\"coloraxis\":{\"colorbar\":{\"outlinewidth\":0,\"ticks\":\"\"}},\"colorscale\":{\"sequential\":[[0.0,\"#0d0887\"],[0.1111111111111111,\"#46039f\"],[0.2222222222222222,\"#7201a8\"],[0.3333333333333333,\"#9c179e\"],[0.4444444444444444,\"#bd3786\"],[0.5555555555555556,\"#d8576b\"],[0.6666666666666666,\"#ed7953\"],[0.7777777777777778,\"#fb9f3a\"],[0.8888888888888888,\"#fdca26\"],[1.0,\"#f0f921\"]],\"sequentialminus\":[[0.0,\"#0d0887\"],[0.1111111111111111,\"#46039f\"],[0.2222222222222222,\"#7201a8\"],[0.3333333333333333,\"#9c179e\"],[0.4444444444444444,\"#bd3786\"],[0.5555555555555556,\"#d8576b\"],[0.6666666666666666,\"#ed7953\"],[0.7777777777777778,\"#fb9f3a\"],[0.8888888888888888,\"#fdca26\"],[1.0,\"#f0f921\"]],\"diverging\":[[0,\"#8e0152\"],[0.1,\"#c51b7d\"],[0.2,\"#de77ae\"],[0.3,\"#f1b6da\"],[0.4,\"#fde0ef\"],[0.5,\"#f7f7f7\"],[0.6,\"#e6f5d0\"],[0.7,\"#b8e186\"],[0.8,\"#7fbc41\"],[0.9,\"#4d9221\"],[1,\"#276419\"]]},\"xaxis\":{\"gridcolor\":\"white\",\"linecolor\":\"white\",\"ticks\":\"\",\"title\":{\"standoff\":15},\"zerolinecolor\":\"white\",\"automargin\":true,\"zerolinewidth\":2},\"yaxis\":{\"gridcolor\":\"white\",\"linecolor\":\"white\",\"ticks\":\"\",\"title\":{\"standoff\":15},\"zerolinecolor\":\"white\",\"automargin\":true,\"zerolinewidth\":2},\"scene\":{\"xaxis\":{\"backgroundcolor\":\"#E5ECF6\",\"gridcolor\":\"white\",\"linecolor\":\"white\",\"showbackground\":true,\"ticks\":\"\",\"zerolinecolor\":\"white\",\"gridwidth\":2},\"yaxis\":{\"backgroundcolor\":\"#E5ECF6\",\"gridcolor\":\"white\",\"linecolor\":\"white\",\"showbackground\":true,\"ticks\":\"\",\"zerolinecolor\":\"white\",\"gridwidth\":2},\"zaxis\":{\"backgroundcolor\":\"#E5ECF6\",\"gridcolor\":\"white\",\"linecolor\":\"white\",\"showbackground\":true,\"ticks\":\"\",\"zerolinecolor\":\"white\",\"gridwidth\":2}},\"shapedefaults\":{\"line\":{\"color\":\"#2a3f5f\"}},\"annotationdefaults\":{\"arrowcolor\":\"#2a3f5f\",\"arrowhead\":0,\"arrowwidth\":1},\"geo\":{\"bgcolor\":\"white\",\"landcolor\":\"#E5ECF6\",\"subunitcolor\":\"white\",\"showland\":true,\"showlakes\":true,\"lakecolor\":\"white\"},\"title\":{\"x\":0.05},\"mapbox\":{\"style\":\"light\"}}},\"xaxis\":{\"anchor\":\"y\",\"domain\":[0.0,1.0],\"title\":{\"text\":\"Year\"},\"type\":\"log\",\"range\":[3.3008127941181167,3.3059958827708047],\"minor\":{\"ticklen\":5,\"tickcolor\":\"black\",\"showgrid\":true},\"tickangle\":45},\"yaxis\":{\"anchor\":\"x\",\"domain\":[0.0,1.0],\"title\":{\"text\":\"Combined MPG Average\"},\"range\":[14,40]},\"legend\":{\"title\":{\"text\":\"Vehicle Class\"},\"tracegroupgap\":0},\"margin\":{\"t\":60},\"updatemenus\":[{\"buttons\":[{\"args\":[null,{\"frame\":{\"duration\":500,\"redraw\":false},\"mode\":\"immediate\",\"fromcurrent\":true,\"transition\":{\"duration\":500,\"easing\":\"linear\"}}],\"label\":\"&#9654;\",\"method\":\"animate\"},{\"args\":[[null],{\"frame\":{\"duration\":0,\"redraw\":false},\"mode\":\"immediate\",\"fromcurrent\":true,\"transition\":{\"duration\":0,\"easing\":\"linear\"}}],\"label\":\"&#9724;\",\"method\":\"animate\"}],\"direction\":\"left\",\"pad\":{\"r\":10,\"t\":70},\"showactive\":false,\"type\":\"buttons\",\"x\":0.1,\"xanchor\":\"right\",\"y\":0,\"yanchor\":\"top\"}],\"sliders\":[{\"active\":0,\"currentvalue\":{\"prefix\":\"animation_frame=\"},\"len\":0.9,\"pad\":{\"b\":10,\"t\":60},\"steps\":[{\"args\":[[\"2000\"],{\"frame\":{\"duration\":0,\"redraw\":false},\"mode\":\"immediate\",\"fromcurrent\":true,\"transition\":{\"duration\":0,\"easing\":\"linear\"}}],\"label\":\"2000\",\"method\":\"animate\"},{\"args\":[[\"2001\"],{\"frame\":{\"duration\":0,\"redraw\":false},\"mode\":\"immediate\",\"fromcurrent\":true,\"transition\":{\"duration\":0,\"easing\":\"linear\"}}],\"label\":\"2001\",\"method\":\"animate\"},{\"args\":[[\"2002\"],{\"frame\":{\"duration\":0,\"redraw\":false},\"mode\":\"immediate\",\"fromcurrent\":true,\"transition\":{\"duration\":0,\"easing\":\"linear\"}}],\"label\":\"2002\",\"method\":\"animate\"},{\"args\":[[\"2003\"],{\"frame\":{\"duration\":0,\"redraw\":false},\"mode\":\"immediate\",\"fromcurrent\":true,\"transition\":{\"duration\":0,\"easing\":\"linear\"}}],\"label\":\"2003\",\"method\":\"animate\"},{\"args\":[[\"2004\"],{\"frame\":{\"duration\":0,\"redraw\":false},\"mode\":\"immediate\",\"fromcurrent\":true,\"transition\":{\"duration\":0,\"easing\":\"linear\"}}],\"label\":\"2004\",\"method\":\"animate\"},{\"args\":[[\"2005\"],{\"frame\":{\"duration\":0,\"redraw\":false},\"mode\":\"immediate\",\"fromcurrent\":true,\"transition\":{\"duration\":0,\"easing\":\"linear\"}}],\"label\":\"2005\",\"method\":\"animate\"},{\"args\":[[\"2006\"],{\"frame\":{\"duration\":0,\"redraw\":false},\"mode\":\"immediate\",\"fromcurrent\":true,\"transition\":{\"duration\":0,\"easing\":\"linear\"}}],\"label\":\"2006\",\"method\":\"animate\"},{\"args\":[[\"2007\"],{\"frame\":{\"duration\":0,\"redraw\":false},\"mode\":\"immediate\",\"fromcurrent\":true,\"transition\":{\"duration\":0,\"easing\":\"linear\"}}],\"label\":\"2007\",\"method\":\"animate\"},{\"args\":[[\"2008\"],{\"frame\":{\"duration\":0,\"redraw\":false},\"mode\":\"immediate\",\"fromcurrent\":true,\"transition\":{\"duration\":0,\"easing\":\"linear\"}}],\"label\":\"2008\",\"method\":\"animate\"},{\"args\":[[\"2009\"],{\"frame\":{\"duration\":0,\"redraw\":false},\"mode\":\"immediate\",\"fromcurrent\":true,\"transition\":{\"duration\":0,\"easing\":\"linear\"}}],\"label\":\"2009\",\"method\":\"animate\"},{\"args\":[[\"2010\"],{\"frame\":{\"duration\":0,\"redraw\":false},\"mode\":\"immediate\",\"fromcurrent\":true,\"transition\":{\"duration\":0,\"easing\":\"linear\"}}],\"label\":\"2010\",\"method\":\"animate\"},{\"args\":[[\"2011\"],{\"frame\":{\"duration\":0,\"redraw\":false},\"mode\":\"immediate\",\"fromcurrent\":true,\"transition\":{\"duration\":0,\"easing\":\"linear\"}}],\"label\":\"2011\",\"method\":\"animate\"},{\"args\":[[\"2012\"],{\"frame\":{\"duration\":0,\"redraw\":false},\"mode\":\"immediate\",\"fromcurrent\":true,\"transition\":{\"duration\":0,\"easing\":\"linear\"}}],\"label\":\"2012\",\"method\":\"animate\"},{\"args\":[[\"2013\"],{\"frame\":{\"duration\":0,\"redraw\":false},\"mode\":\"immediate\",\"fromcurrent\":true,\"transition\":{\"duration\":0,\"easing\":\"linear\"}}],\"label\":\"2013\",\"method\":\"animate\"},{\"args\":[[\"2014\"],{\"frame\":{\"duration\":0,\"redraw\":false},\"mode\":\"immediate\",\"fromcurrent\":true,\"transition\":{\"duration\":0,\"easing\":\"linear\"}}],\"label\":\"2014\",\"method\":\"animate\"},{\"args\":[[\"2015\"],{\"frame\":{\"duration\":0,\"redraw\":false},\"mode\":\"immediate\",\"fromcurrent\":true,\"transition\":{\"duration\":0,\"easing\":\"linear\"}}],\"label\":\"2015\",\"method\":\"animate\"},{\"args\":[[\"2016\"],{\"frame\":{\"duration\":0,\"redraw\":false},\"mode\":\"immediate\",\"fromcurrent\":true,\"transition\":{\"duration\":0,\"easing\":\"linear\"}}],\"label\":\"2016\",\"method\":\"animate\"},{\"args\":[[\"2017\"],{\"frame\":{\"duration\":0,\"redraw\":false},\"mode\":\"immediate\",\"fromcurrent\":true,\"transition\":{\"duration\":0,\"easing\":\"linear\"}}],\"label\":\"2017\",\"method\":\"animate\"},{\"args\":[[\"2018\"],{\"frame\":{\"duration\":0,\"redraw\":false},\"mode\":\"immediate\",\"fromcurrent\":true,\"transition\":{\"duration\":0,\"easing\":\"linear\"}}],\"label\":\"2018\",\"method\":\"animate\"},{\"args\":[[\"2019\"],{\"frame\":{\"duration\":0,\"redraw\":false},\"mode\":\"immediate\",\"fromcurrent\":true,\"transition\":{\"duration\":0,\"easing\":\"linear\"}}],\"label\":\"2019\",\"method\":\"animate\"},{\"args\":[[\"2020\"],{\"frame\":{\"duration\":0,\"redraw\":false},\"mode\":\"immediate\",\"fromcurrent\":true,\"transition\":{\"duration\":0,\"easing\":\"linear\"}}],\"label\":\"2020\",\"method\":\"animate\"},{\"args\":[[\"2021\"],{\"frame\":{\"duration\":0,\"redraw\":false},\"mode\":\"immediate\",\"fromcurrent\":true,\"transition\":{\"duration\":0,\"easing\":\"linear\"}}],\"label\":\"2021\",\"method\":\"animate\"},{\"args\":[[\"2022\"],{\"frame\":{\"duration\":0,\"redraw\":false},\"mode\":\"immediate\",\"fromcurrent\":true,\"transition\":{\"duration\":0,\"easing\":\"linear\"}}],\"label\":\"2022\",\"method\":\"animate\"}],\"x\":0.1,\"xanchor\":\"left\",\"y\":0,\"yanchor\":\"top\"}],\"title\":{\"text\":\"Average Combined MPG per Vehicle Class per Year\"}},                        {\"responsive\": true}                    ).then(function(){\n",
       "                            Plotly.addFrames('c3879f9c-a38d-478b-8c69-8460d46ac29b', [{\"data\":[{\"hovertemplate\":\"color=COMPACT<br>animation_frame=2000<br>x=%{x}<br>y=%{y}<extra></extra>\",\"ids\":[\"COMPACT\"],\"legendgroup\":\"COMPACT\",\"line\":{\"color\":\"#2E91E5\",\"dash\":\"solid\"},\"marker\":{\"symbol\":\"circle\"},\"mode\":\"markers+lines\",\"name\":\"COMPACT\",\"orientation\":\"v\",\"showlegend\":true,\"x\":[2000],\"xaxis\":\"x\",\"y\":[31.504761904761907],\"yaxis\":\"y\",\"type\":\"scatter\"},{\"hovertemplate\":\"color=FULL-SIZE<br>animation_frame=2000<br>x=%{x}<br>y=%{y}<extra></extra>\",\"ids\":[\"FULL-SIZE\"],\"legendgroup\":\"FULL-SIZE\",\"line\":{\"color\":\"#E15F99\",\"dash\":\"solid\"},\"marker\":{\"symbol\":\"circle\"},\"mode\":\"markers+lines\",\"name\":\"FULL-SIZE\",\"orientation\":\"v\",\"showlegend\":true,\"x\":[2000],\"xaxis\":\"x\",\"y\":[26.428571428571427],\"yaxis\":\"y\",\"type\":\"scatter\"},{\"hovertemplate\":\"color=MID-SIZE<br>animation_frame=2000<br>x=%{x}<br>y=%{y}<extra></extra>\",\"ids\":[\"MID-SIZE\"],\"legendgroup\":\"MID-SIZE\",\"line\":{\"color\":\"#1CA71C\",\"dash\":\"solid\"},\"marker\":{\"symbol\":\"circle\"},\"mode\":\"markers+lines\",\"name\":\"MID-SIZE\",\"orientation\":\"v\",\"showlegend\":true,\"x\":[2000],\"xaxis\":\"x\",\"y\":[27.441558441558442],\"yaxis\":\"y\",\"type\":\"scatter\"},{\"hovertemplate\":\"color=MINICOMPACT<br>animation_frame=2000<br>x=%{x}<br>y=%{y}<extra></extra>\",\"ids\":[\"MINICOMPACT\"],\"legendgroup\":\"MINICOMPACT\",\"line\":{\"color\":\"#FB0D0D\",\"dash\":\"solid\"},\"marker\":{\"symbol\":\"circle\"},\"mode\":\"markers+lines\",\"name\":\"MINICOMPACT\",\"orientation\":\"v\",\"showlegend\":true,\"x\":[2000],\"xaxis\":\"x\",\"y\":[25.636363636363637],\"yaxis\":\"y\",\"type\":\"scatter\"},{\"hovertemplate\":\"color=MINIVAN<br>animation_frame=2000<br>x=%{x}<br>y=%{y}<extra></extra>\",\"ids\":[\"MINIVAN\"],\"legendgroup\":\"MINIVAN\",\"line\":{\"color\":\"#DA16FF\",\"dash\":\"solid\"},\"marker\":{\"symbol\":\"circle\"},\"mode\":\"markers+lines\",\"name\":\"MINIVAN\",\"orientation\":\"v\",\"showlegend\":true,\"x\":[2000],\"xaxis\":\"x\",\"y\":[23.96153846153846],\"yaxis\":\"y\",\"type\":\"scatter\"},{\"hovertemplate\":\"color=PICKUP TRUCK - SMALL<br>animation_frame=2000<br>x=%{x}<br>y=%{y}<extra></extra>\",\"ids\":[\"PICKUP TRUCK - SMALL\"],\"legendgroup\":\"PICKUP TRUCK - SMALL\",\"line\":{\"color\":\"#222A2A\",\"dash\":\"solid\"},\"marker\":{\"symbol\":\"circle\"},\"mode\":\"markers+lines\",\"name\":\"PICKUP TRUCK - SMALL\",\"orientation\":\"v\",\"showlegend\":true,\"x\":[2000],\"xaxis\":\"x\",\"y\":[26.272727272727273],\"yaxis\":\"y\",\"type\":\"scatter\"},{\"hovertemplate\":\"color=PICKUP TRUCK - STANDARD<br>animation_frame=2000<br>x=%{x}<br>y=%{y}<extra></extra>\",\"ids\":[\"PICKUP TRUCK - STANDARD\"],\"legendgroup\":\"PICKUP TRUCK - STANDARD\",\"line\":{\"color\":\"#B68100\",\"dash\":\"solid\"},\"marker\":{\"symbol\":\"circle\"},\"mode\":\"markers+lines\",\"name\":\"PICKUP TRUCK - STANDARD\",\"orientation\":\"v\",\"showlegend\":true,\"x\":[2000],\"xaxis\":\"x\",\"y\":[20.945652173913043],\"yaxis\":\"y\",\"type\":\"scatter\"},{\"hovertemplate\":\"color=STATION WAGON - MID-SIZE<br>animation_frame=2000<br>x=%{x}<br>y=%{y}<extra></extra>\",\"ids\":[\"STATION WAGON - MID-SIZE\"],\"legendgroup\":\"STATION WAGON - MID-SIZE\",\"line\":{\"color\":\"#750D86\",\"dash\":\"solid\"},\"marker\":{\"symbol\":\"circle\"},\"mode\":\"markers+lines\",\"name\":\"STATION WAGON - MID-SIZE\",\"orientation\":\"v\",\"showlegend\":true,\"x\":[2000],\"xaxis\":\"x\",\"y\":[28.44],\"yaxis\":\"y\",\"type\":\"scatter\"},{\"hovertemplate\":\"color=STATION WAGON - SMALL<br>animation_frame=2000<br>x=%{x}<br>y=%{y}<extra></extra>\",\"ids\":[\"STATION WAGON - SMALL\"],\"legendgroup\":\"STATION WAGON - SMALL\",\"line\":{\"color\":\"#EB663B\",\"dash\":\"solid\"},\"marker\":{\"symbol\":\"circle\"},\"mode\":\"markers+lines\",\"name\":\"STATION WAGON - SMALL\",\"orientation\":\"v\",\"showlegend\":true,\"x\":[2000],\"xaxis\":\"x\",\"y\":[31.692307692307693],\"yaxis\":\"y\",\"type\":\"scatter\"},{\"hovertemplate\":\"color=SUBCOMPACT<br>animation_frame=2000<br>x=%{x}<br>y=%{y}<extra></extra>\",\"ids\":[\"SUBCOMPACT\"],\"legendgroup\":\"SUBCOMPACT\",\"line\":{\"color\":\"#511CFB\",\"dash\":\"solid\"},\"marker\":{\"symbol\":\"circle\"},\"mode\":\"markers+lines\",\"name\":\"SUBCOMPACT\",\"orientation\":\"v\",\"showlegend\":true,\"x\":[2000],\"xaxis\":\"x\",\"y\":[31.48076923076923],\"yaxis\":\"y\",\"type\":\"scatter\"},{\"hovertemplate\":\"color=SUV<br>animation_frame=2000<br>x=%{x}<br>y=%{y}<extra></extra>\",\"ids\":[\"SUV\"],\"legendgroup\":\"SUV\",\"line\":{\"color\":\"#00A08B\",\"dash\":\"solid\"},\"marker\":{\"symbol\":\"circle\"},\"mode\":\"markers+lines\",\"name\":\"SUV\",\"orientation\":\"v\",\"showlegend\":true,\"x\":[2000],\"xaxis\":\"x\",\"y\":[22.84536082474227],\"yaxis\":\"y\",\"type\":\"scatter\"},{\"hovertemplate\":\"color=TWO-SEATER<br>animation_frame=2000<br>x=%{x}<br>y=%{y}<extra></extra>\",\"ids\":[\"TWO-SEATER\"],\"legendgroup\":\"TWO-SEATER\",\"line\":{\"color\":\"#FB00D1\",\"dash\":\"solid\"},\"marker\":{\"symbol\":\"circle\"},\"mode\":\"markers+lines\",\"name\":\"TWO-SEATER\",\"orientation\":\"v\",\"showlegend\":true,\"x\":[2000],\"xaxis\":\"x\",\"y\":[23.4],\"yaxis\":\"y\",\"type\":\"scatter\"},{\"hovertemplate\":\"color=VAN - CARGO<br>animation_frame=2000<br>x=%{x}<br>y=%{y}<extra></extra>\",\"ids\":[\"VAN - CARGO\"],\"legendgroup\":\"VAN - CARGO\",\"line\":{\"color\":\"#FC0080\",\"dash\":\"solid\"},\"marker\":{\"symbol\":\"circle\"},\"mode\":\"markers+lines\",\"name\":\"VAN - CARGO\",\"orientation\":\"v\",\"showlegend\":true,\"x\":[2000],\"xaxis\":\"x\",\"y\":[19.82608695652174],\"yaxis\":\"y\",\"type\":\"scatter\"},{\"hovertemplate\":\"color=VAN - PASSENGER<br>animation_frame=2000<br>x=%{x}<br>y=%{y}<extra></extra>\",\"ids\":[\"VAN - PASSENGER\"],\"legendgroup\":\"VAN - PASSENGER\",\"line\":{\"color\":\"#B2828D\",\"dash\":\"solid\"},\"marker\":{\"symbol\":\"circle\"},\"mode\":\"markers+lines\",\"name\":\"VAN - PASSENGER\",\"orientation\":\"v\",\"showlegend\":true,\"x\":[2000],\"xaxis\":\"x\",\"y\":[18.647058823529413],\"yaxis\":\"y\",\"type\":\"scatter\"}],\"name\":\"2000\"},{\"data\":[{\"hovertemplate\":\"color=COMPACT<br>animation_frame=2001<br>x=%{x}<br>y=%{y}<extra></extra>\",\"ids\":[\"COMPACT\"],\"legendgroup\":\"COMPACT\",\"line\":{\"color\":\"#2E91E5\",\"dash\":\"solid\"},\"marker\":{\"symbol\":\"circle\"},\"mode\":\"markers+lines\",\"name\":\"COMPACT\",\"orientation\":\"v\",\"showlegend\":true,\"x\":[2001],\"xaxis\":\"x\",\"y\":[31.93793103448276],\"yaxis\":\"y\",\"type\":\"scatter\"},{\"hovertemplate\":\"color=FULL-SIZE<br>animation_frame=2001<br>x=%{x}<br>y=%{y}<extra></extra>\",\"ids\":[\"FULL-SIZE\"],\"legendgroup\":\"FULL-SIZE\",\"line\":{\"color\":\"#E15F99\",\"dash\":\"solid\"},\"marker\":{\"symbol\":\"circle\"},\"mode\":\"markers+lines\",\"name\":\"FULL-SIZE\",\"orientation\":\"v\",\"showlegend\":true,\"x\":[2001],\"xaxis\":\"x\",\"y\":[26.033333333333335],\"yaxis\":\"y\",\"type\":\"scatter\"},{\"hovertemplate\":\"color=MID-SIZE<br>animation_frame=2001<br>x=%{x}<br>y=%{y}<extra></extra>\",\"ids\":[\"MID-SIZE\"],\"legendgroup\":\"MID-SIZE\",\"line\":{\"color\":\"#1CA71C\",\"dash\":\"solid\"},\"marker\":{\"symbol\":\"circle\"},\"mode\":\"markers+lines\",\"name\":\"MID-SIZE\",\"orientation\":\"v\",\"showlegend\":true,\"x\":[2001],\"xaxis\":\"x\",\"y\":[27.353658536585368],\"yaxis\":\"y\",\"type\":\"scatter\"},{\"hovertemplate\":\"color=MINICOMPACT<br>animation_frame=2001<br>x=%{x}<br>y=%{y}<extra></extra>\",\"ids\":[\"MINICOMPACT\"],\"legendgroup\":\"MINICOMPACT\",\"line\":{\"color\":\"#FB0D0D\",\"dash\":\"solid\"},\"marker\":{\"symbol\":\"circle\"},\"mode\":\"markers+lines\",\"name\":\"MINICOMPACT\",\"orientation\":\"v\",\"showlegend\":true,\"x\":[2001],\"xaxis\":\"x\",\"y\":[25.235294117647058],\"yaxis\":\"y\",\"type\":\"scatter\"},{\"hovertemplate\":\"color=MINIVAN<br>animation_frame=2001<br>x=%{x}<br>y=%{y}<extra></extra>\",\"ids\":[\"MINIVAN\"],\"legendgroup\":\"MINIVAN\",\"line\":{\"color\":\"#DA16FF\",\"dash\":\"solid\"},\"marker\":{\"symbol\":\"circle\"},\"mode\":\"markers+lines\",\"name\":\"MINIVAN\",\"orientation\":\"v\",\"showlegend\":true,\"x\":[2001],\"xaxis\":\"x\",\"y\":[24.88235294117647],\"yaxis\":\"y\",\"type\":\"scatter\"},{\"hovertemplate\":\"color=PICKUP TRUCK - SMALL<br>animation_frame=2001<br>x=%{x}<br>y=%{y}<extra></extra>\",\"ids\":[\"PICKUP TRUCK - SMALL\"],\"legendgroup\":\"PICKUP TRUCK - SMALL\",\"line\":{\"color\":\"#222A2A\",\"dash\":\"solid\"},\"marker\":{\"symbol\":\"circle\"},\"mode\":\"markers+lines\",\"name\":\"PICKUP TRUCK - SMALL\",\"orientation\":\"v\",\"showlegend\":true,\"x\":[2001],\"xaxis\":\"x\",\"y\":[23.5],\"yaxis\":\"y\",\"type\":\"scatter\"},{\"hovertemplate\":\"color=PICKUP TRUCK - STANDARD<br>animation_frame=2001<br>x=%{x}<br>y=%{y}<extra></extra>\",\"ids\":[\"PICKUP TRUCK - STANDARD\"],\"legendgroup\":\"PICKUP TRUCK - STANDARD\",\"line\":{\"color\":\"#B68100\",\"dash\":\"solid\"},\"marker\":{\"symbol\":\"circle\"},\"mode\":\"markers+lines\",\"name\":\"PICKUP TRUCK - STANDARD\",\"orientation\":\"v\",\"showlegend\":true,\"x\":[2001],\"xaxis\":\"x\",\"y\":[20.792079207920793],\"yaxis\":\"y\",\"type\":\"scatter\"},{\"hovertemplate\":\"color=STATION WAGON - MID-SIZE<br>animation_frame=2001<br>x=%{x}<br>y=%{y}<extra></extra>\",\"ids\":[\"STATION WAGON - MID-SIZE\"],\"legendgroup\":\"STATION WAGON - MID-SIZE\",\"line\":{\"color\":\"#750D86\",\"dash\":\"solid\"},\"marker\":{\"symbol\":\"circle\"},\"mode\":\"markers+lines\",\"name\":\"STATION WAGON - MID-SIZE\",\"orientation\":\"v\",\"showlegend\":true,\"x\":[2001],\"xaxis\":\"x\",\"y\":[28.870967741935484],\"yaxis\":\"y\",\"type\":\"scatter\"},{\"hovertemplate\":\"color=STATION WAGON - SMALL<br>animation_frame=2001<br>x=%{x}<br>y=%{y}<extra></extra>\",\"ids\":[\"STATION WAGON - SMALL\"],\"legendgroup\":\"STATION WAGON - SMALL\",\"line\":{\"color\":\"#EB663B\",\"dash\":\"solid\"},\"marker\":{\"symbol\":\"circle\"},\"mode\":\"markers+lines\",\"name\":\"STATION WAGON - SMALL\",\"orientation\":\"v\",\"showlegend\":true,\"x\":[2001],\"xaxis\":\"x\",\"y\":[31.916666666666668],\"yaxis\":\"y\",\"type\":\"scatter\"},{\"hovertemplate\":\"color=SUBCOMPACT<br>animation_frame=2001<br>x=%{x}<br>y=%{y}<extra></extra>\",\"ids\":[\"SUBCOMPACT\"],\"legendgroup\":\"SUBCOMPACT\",\"line\":{\"color\":\"#511CFB\",\"dash\":\"solid\"},\"marker\":{\"symbol\":\"circle\"},\"mode\":\"markers+lines\",\"name\":\"SUBCOMPACT\",\"orientation\":\"v\",\"showlegend\":true,\"x\":[2001],\"xaxis\":\"x\",\"y\":[31.258064516129032],\"yaxis\":\"y\",\"type\":\"scatter\"},{\"hovertemplate\":\"color=SUV<br>animation_frame=2001<br>x=%{x}<br>y=%{y}<extra></extra>\",\"ids\":[\"SUV\"],\"legendgroup\":\"SUV\",\"line\":{\"color\":\"#00A08B\",\"dash\":\"solid\"},\"marker\":{\"symbol\":\"circle\"},\"mode\":\"markers+lines\",\"name\":\"SUV\",\"orientation\":\"v\",\"showlegend\":true,\"x\":[2001],\"xaxis\":\"x\",\"y\":[23.081632653061224],\"yaxis\":\"y\",\"type\":\"scatter\"},{\"hovertemplate\":\"color=TWO-SEATER<br>animation_frame=2001<br>x=%{x}<br>y=%{y}<extra></extra>\",\"ids\":[\"TWO-SEATER\"],\"legendgroup\":\"TWO-SEATER\",\"line\":{\"color\":\"#FB00D1\",\"dash\":\"solid\"},\"marker\":{\"symbol\":\"circle\"},\"mode\":\"markers+lines\",\"name\":\"TWO-SEATER\",\"orientation\":\"v\",\"showlegend\":true,\"x\":[2001],\"xaxis\":\"x\",\"y\":[27.548387096774192],\"yaxis\":\"y\",\"type\":\"scatter\"},{\"hovertemplate\":\"color=VAN - CARGO<br>animation_frame=2001<br>x=%{x}<br>y=%{y}<extra></extra>\",\"ids\":[\"VAN - CARGO\"],\"legendgroup\":\"VAN - CARGO\",\"line\":{\"color\":\"#FC0080\",\"dash\":\"solid\"},\"marker\":{\"symbol\":\"circle\"},\"mode\":\"markers+lines\",\"name\":\"VAN - CARGO\",\"orientation\":\"v\",\"showlegend\":true,\"x\":[2001],\"xaxis\":\"x\",\"y\":[19.26086956521739],\"yaxis\":\"y\",\"type\":\"scatter\"},{\"hovertemplate\":\"color=VAN - PASSENGER<br>animation_frame=2001<br>x=%{x}<br>y=%{y}<extra></extra>\",\"ids\":[\"VAN - PASSENGER\"],\"legendgroup\":\"VAN - PASSENGER\",\"line\":{\"color\":\"#B2828D\",\"dash\":\"solid\"},\"marker\":{\"symbol\":\"circle\"},\"mode\":\"markers+lines\",\"name\":\"VAN - PASSENGER\",\"orientation\":\"v\",\"showlegend\":true,\"x\":[2001],\"xaxis\":\"x\",\"y\":[19.055555555555557],\"yaxis\":\"y\",\"type\":\"scatter\"}],\"name\":\"2001\"},{\"data\":[{\"hovertemplate\":\"color=COMPACT<br>animation_frame=2002<br>x=%{x}<br>y=%{y}<extra></extra>\",\"ids\":[\"COMPACT\"],\"legendgroup\":\"COMPACT\",\"line\":{\"color\":\"#2E91E5\",\"dash\":\"solid\"},\"marker\":{\"symbol\":\"circle\"},\"mode\":\"markers+lines\",\"name\":\"COMPACT\",\"orientation\":\"v\",\"showlegend\":true,\"x\":[2002],\"xaxis\":\"x\",\"y\":[31.969924812030076],\"yaxis\":\"y\",\"type\":\"scatter\"},{\"hovertemplate\":\"color=FULL-SIZE<br>animation_frame=2002<br>x=%{x}<br>y=%{y}<extra></extra>\",\"ids\":[\"FULL-SIZE\"],\"legendgroup\":\"FULL-SIZE\",\"line\":{\"color\":\"#E15F99\",\"dash\":\"solid\"},\"marker\":{\"symbol\":\"circle\"},\"mode\":\"markers+lines\",\"name\":\"FULL-SIZE\",\"orientation\":\"v\",\"showlegend\":true,\"x\":[2002],\"xaxis\":\"x\",\"y\":[25.689655172413794],\"yaxis\":\"y\",\"type\":\"scatter\"},{\"hovertemplate\":\"color=MID-SIZE<br>animation_frame=2002<br>x=%{x}<br>y=%{y}<extra></extra>\",\"ids\":[\"MID-SIZE\"],\"legendgroup\":\"MID-SIZE\",\"line\":{\"color\":\"#1CA71C\",\"dash\":\"solid\"},\"marker\":{\"symbol\":\"circle\"},\"mode\":\"markers+lines\",\"name\":\"MID-SIZE\",\"orientation\":\"v\",\"showlegend\":true,\"x\":[2002],\"xaxis\":\"x\",\"y\":[27.444444444444443],\"yaxis\":\"y\",\"type\":\"scatter\"},{\"hovertemplate\":\"color=MINICOMPACT<br>animation_frame=2002<br>x=%{x}<br>y=%{y}<extra></extra>\",\"ids\":[\"MINICOMPACT\"],\"legendgroup\":\"MINICOMPACT\",\"line\":{\"color\":\"#FB0D0D\",\"dash\":\"solid\"},\"marker\":{\"symbol\":\"circle\"},\"mode\":\"markers+lines\",\"name\":\"MINICOMPACT\",\"orientation\":\"v\",\"showlegend\":true,\"x\":[2002],\"xaxis\":\"x\",\"y\":[25.363636363636363],\"yaxis\":\"y\",\"type\":\"scatter\"},{\"hovertemplate\":\"color=MINIVAN<br>animation_frame=2002<br>x=%{x}<br>y=%{y}<extra></extra>\",\"ids\":[\"MINIVAN\"],\"legendgroup\":\"MINIVAN\",\"line\":{\"color\":\"#DA16FF\",\"dash\":\"solid\"},\"marker\":{\"symbol\":\"circle\"},\"mode\":\"markers+lines\",\"name\":\"MINIVAN\",\"orientation\":\"v\",\"showlegend\":true,\"x\":[2002],\"xaxis\":\"x\",\"y\":[24.545454545454547],\"yaxis\":\"y\",\"type\":\"scatter\"},{\"hovertemplate\":\"color=PICKUP TRUCK - SMALL<br>animation_frame=2002<br>x=%{x}<br>y=%{y}<extra></extra>\",\"ids\":[\"PICKUP TRUCK - SMALL\"],\"legendgroup\":\"PICKUP TRUCK - SMALL\",\"line\":{\"color\":\"#222A2A\",\"dash\":\"solid\"},\"marker\":{\"symbol\":\"circle\"},\"mode\":\"markers+lines\",\"name\":\"PICKUP TRUCK - SMALL\",\"orientation\":\"v\",\"showlegend\":true,\"x\":[2002],\"xaxis\":\"x\",\"y\":[23.166666666666668],\"yaxis\":\"y\",\"type\":\"scatter\"},{\"hovertemplate\":\"color=PICKUP TRUCK - STANDARD<br>animation_frame=2002<br>x=%{x}<br>y=%{y}<extra></extra>\",\"ids\":[\"PICKUP TRUCK - STANDARD\"],\"legendgroup\":\"PICKUP TRUCK - STANDARD\",\"line\":{\"color\":\"#B68100\",\"dash\":\"solid\"},\"marker\":{\"symbol\":\"circle\"},\"mode\":\"markers+lines\",\"name\":\"PICKUP TRUCK - STANDARD\",\"orientation\":\"v\",\"showlegend\":true,\"x\":[2002],\"xaxis\":\"x\",\"y\":[20.177570093457945],\"yaxis\":\"y\",\"type\":\"scatter\"},{\"hovertemplate\":\"color=STATION WAGON - MID-SIZE<br>animation_frame=2002<br>x=%{x}<br>y=%{y}<extra></extra>\",\"ids\":[\"STATION WAGON - MID-SIZE\"],\"legendgroup\":\"STATION WAGON - MID-SIZE\",\"line\":{\"color\":\"#750D86\",\"dash\":\"solid\"},\"marker\":{\"symbol\":\"circle\"},\"mode\":\"markers+lines\",\"name\":\"STATION WAGON - MID-SIZE\",\"orientation\":\"v\",\"showlegend\":true,\"x\":[2002],\"xaxis\":\"x\",\"y\":[29.15625],\"yaxis\":\"y\",\"type\":\"scatter\"},{\"hovertemplate\":\"color=STATION WAGON - SMALL<br>animation_frame=2002<br>x=%{x}<br>y=%{y}<extra></extra>\",\"ids\":[\"STATION WAGON - SMALL\"],\"legendgroup\":\"STATION WAGON - SMALL\",\"line\":{\"color\":\"#EB663B\",\"dash\":\"solid\"},\"marker\":{\"symbol\":\"circle\"},\"mode\":\"markers+lines\",\"name\":\"STATION WAGON - SMALL\",\"orientation\":\"v\",\"showlegend\":true,\"x\":[2002],\"xaxis\":\"x\",\"y\":[29.27777777777778],\"yaxis\":\"y\",\"type\":\"scatter\"},{\"hovertemplate\":\"color=SUBCOMPACT<br>animation_frame=2002<br>x=%{x}<br>y=%{y}<extra></extra>\",\"ids\":[\"SUBCOMPACT\"],\"legendgroup\":\"SUBCOMPACT\",\"line\":{\"color\":\"#511CFB\",\"dash\":\"solid\"},\"marker\":{\"symbol\":\"circle\"},\"mode\":\"markers+lines\",\"name\":\"SUBCOMPACT\",\"orientation\":\"v\",\"showlegend\":true,\"x\":[2002],\"xaxis\":\"x\",\"y\":[29.15068493150685],\"yaxis\":\"y\",\"type\":\"scatter\"},{\"hovertemplate\":\"color=SUV<br>animation_frame=2002<br>x=%{x}<br>y=%{y}<extra></extra>\",\"ids\":[\"SUV\"],\"legendgroup\":\"SUV\",\"line\":{\"color\":\"#00A08B\",\"dash\":\"solid\"},\"marker\":{\"symbol\":\"circle\"},\"mode\":\"markers+lines\",\"name\":\"SUV\",\"orientation\":\"v\",\"showlegend\":true,\"x\":[2002],\"xaxis\":\"x\",\"y\":[22.572580645161292],\"yaxis\":\"y\",\"type\":\"scatter\"},{\"hovertemplate\":\"color=TWO-SEATER<br>animation_frame=2002<br>x=%{x}<br>y=%{y}<extra></extra>\",\"ids\":[\"TWO-SEATER\"],\"legendgroup\":\"TWO-SEATER\",\"line\":{\"color\":\"#FB00D1\",\"dash\":\"solid\"},\"marker\":{\"symbol\":\"circle\"},\"mode\":\"markers+lines\",\"name\":\"TWO-SEATER\",\"orientation\":\"v\",\"showlegend\":true,\"x\":[2002],\"xaxis\":\"x\",\"y\":[25.972972972972972],\"yaxis\":\"y\",\"type\":\"scatter\"},{\"hovertemplate\":\"color=VAN - CARGO<br>animation_frame=2002<br>x=%{x}<br>y=%{y}<extra></extra>\",\"ids\":[\"VAN - CARGO\"],\"legendgroup\":\"VAN - CARGO\",\"line\":{\"color\":\"#FC0080\",\"dash\":\"solid\"},\"marker\":{\"symbol\":\"circle\"},\"mode\":\"markers+lines\",\"name\":\"VAN - CARGO\",\"orientation\":\"v\",\"showlegend\":true,\"x\":[2002],\"xaxis\":\"x\",\"y\":[19.434782608695652],\"yaxis\":\"y\",\"type\":\"scatter\"},{\"hovertemplate\":\"color=VAN - PASSENGER<br>animation_frame=2002<br>x=%{x}<br>y=%{y}<extra></extra>\",\"ids\":[\"VAN - PASSENGER\"],\"legendgroup\":\"VAN - PASSENGER\",\"line\":{\"color\":\"#B2828D\",\"dash\":\"solid\"},\"marker\":{\"symbol\":\"circle\"},\"mode\":\"markers+lines\",\"name\":\"VAN - PASSENGER\",\"orientation\":\"v\",\"showlegend\":true,\"x\":[2002],\"xaxis\":\"x\",\"y\":[18.77777777777778],\"yaxis\":\"y\",\"type\":\"scatter\"}],\"name\":\"2002\"},{\"data\":[{\"hovertemplate\":\"color=COMPACT<br>animation_frame=2003<br>x=%{x}<br>y=%{y}<extra></extra>\",\"ids\":[\"COMPACT\"],\"legendgroup\":\"COMPACT\",\"line\":{\"color\":\"#2E91E5\",\"dash\":\"solid\"},\"marker\":{\"symbol\":\"circle\"},\"mode\":\"markers+lines\",\"name\":\"COMPACT\",\"orientation\":\"v\",\"showlegend\":true,\"x\":[2003],\"xaxis\":\"x\",\"y\":[32.37062937062937],\"yaxis\":\"y\",\"type\":\"scatter\"},{\"hovertemplate\":\"color=FULL-SIZE<br>animation_frame=2003<br>x=%{x}<br>y=%{y}<extra></extra>\",\"ids\":[\"FULL-SIZE\"],\"legendgroup\":\"FULL-SIZE\",\"line\":{\"color\":\"#E15F99\",\"dash\":\"solid\"},\"marker\":{\"symbol\":\"circle\"},\"mode\":\"markers+lines\",\"name\":\"FULL-SIZE\",\"orientation\":\"v\",\"showlegend\":true,\"x\":[2003],\"xaxis\":\"x\",\"y\":[26.28],\"yaxis\":\"y\",\"type\":\"scatter\"},{\"hovertemplate\":\"color=MID-SIZE<br>animation_frame=2003<br>x=%{x}<br>y=%{y}<extra></extra>\",\"ids\":[\"MID-SIZE\"],\"legendgroup\":\"MID-SIZE\",\"line\":{\"color\":\"#1CA71C\",\"dash\":\"solid\"},\"marker\":{\"symbol\":\"circle\"},\"mode\":\"markers+lines\",\"name\":\"MID-SIZE\",\"orientation\":\"v\",\"showlegend\":true,\"x\":[2003],\"xaxis\":\"x\",\"y\":[27.48314606741573],\"yaxis\":\"y\",\"type\":\"scatter\"},{\"hovertemplate\":\"color=MINICOMPACT<br>animation_frame=2003<br>x=%{x}<br>y=%{y}<extra></extra>\",\"ids\":[\"MINICOMPACT\"],\"legendgroup\":\"MINICOMPACT\",\"line\":{\"color\":\"#FB0D0D\",\"dash\":\"solid\"},\"marker\":{\"symbol\":\"circle\"},\"mode\":\"markers+lines\",\"name\":\"MINICOMPACT\",\"orientation\":\"v\",\"showlegend\":true,\"x\":[2003],\"xaxis\":\"x\",\"y\":[27.575757575757574],\"yaxis\":\"y\",\"type\":\"scatter\"},{\"hovertemplate\":\"color=MINIVAN<br>animation_frame=2003<br>x=%{x}<br>y=%{y}<extra></extra>\",\"ids\":[\"MINIVAN\"],\"legendgroup\":\"MINIVAN\",\"line\":{\"color\":\"#DA16FF\",\"dash\":\"solid\"},\"marker\":{\"symbol\":\"circle\"},\"mode\":\"markers+lines\",\"name\":\"MINIVAN\",\"orientation\":\"v\",\"showlegend\":true,\"x\":[2003],\"xaxis\":\"x\",\"y\":[24.392857142857142],\"yaxis\":\"y\",\"type\":\"scatter\"},{\"hovertemplate\":\"color=PICKUP TRUCK - SMALL<br>animation_frame=2003<br>x=%{x}<br>y=%{y}<extra></extra>\",\"ids\":[\"PICKUP TRUCK - SMALL\"],\"legendgroup\":\"PICKUP TRUCK - SMALL\",\"line\":{\"color\":\"#222A2A\",\"dash\":\"solid\"},\"marker\":{\"symbol\":\"circle\"},\"mode\":\"markers+lines\",\"name\":\"PICKUP TRUCK - SMALL\",\"orientation\":\"v\",\"showlegend\":true,\"x\":[2003],\"xaxis\":\"x\",\"y\":[24.75],\"yaxis\":\"y\",\"type\":\"scatter\"},{\"hovertemplate\":\"color=PICKUP TRUCK - STANDARD<br>animation_frame=2003<br>x=%{x}<br>y=%{y}<extra></extra>\",\"ids\":[\"PICKUP TRUCK - STANDARD\"],\"legendgroup\":\"PICKUP TRUCK - STANDARD\",\"line\":{\"color\":\"#B68100\",\"dash\":\"solid\"},\"marker\":{\"symbol\":\"circle\"},\"mode\":\"markers+lines\",\"name\":\"PICKUP TRUCK - STANDARD\",\"orientation\":\"v\",\"showlegend\":true,\"x\":[2003],\"xaxis\":\"x\",\"y\":[21.00943396226415],\"yaxis\":\"y\",\"type\":\"scatter\"},{\"hovertemplate\":\"color=STATION WAGON - MID-SIZE<br>animation_frame=2003<br>x=%{x}<br>y=%{y}<extra></extra>\",\"ids\":[\"STATION WAGON - MID-SIZE\"],\"legendgroup\":\"STATION WAGON - MID-SIZE\",\"line\":{\"color\":\"#750D86\",\"dash\":\"solid\"},\"marker\":{\"symbol\":\"circle\"},\"mode\":\"markers+lines\",\"name\":\"STATION WAGON - MID-SIZE\",\"orientation\":\"v\",\"showlegend\":true,\"x\":[2003],\"xaxis\":\"x\",\"y\":[29.0],\"yaxis\":\"y\",\"type\":\"scatter\"},{\"hovertemplate\":\"color=STATION WAGON - SMALL<br>animation_frame=2003<br>x=%{x}<br>y=%{y}<extra></extra>\",\"ids\":[\"STATION WAGON - SMALL\"],\"legendgroup\":\"STATION WAGON - SMALL\",\"line\":{\"color\":\"#EB663B\",\"dash\":\"solid\"},\"marker\":{\"symbol\":\"circle\"},\"mode\":\"markers+lines\",\"name\":\"STATION WAGON - SMALL\",\"orientation\":\"v\",\"showlegend\":true,\"x\":[2003],\"xaxis\":\"x\",\"y\":[31.644444444444446],\"yaxis\":\"y\",\"type\":\"scatter\"},{\"hovertemplate\":\"color=SUBCOMPACT<br>animation_frame=2003<br>x=%{x}<br>y=%{y}<extra></extra>\",\"ids\":[\"SUBCOMPACT\"],\"legendgroup\":\"SUBCOMPACT\",\"line\":{\"color\":\"#511CFB\",\"dash\":\"solid\"},\"marker\":{\"symbol\":\"circle\"},\"mode\":\"markers+lines\",\"name\":\"SUBCOMPACT\",\"orientation\":\"v\",\"showlegend\":true,\"x\":[2003],\"xaxis\":\"x\",\"y\":[27.984615384615385],\"yaxis\":\"y\",\"type\":\"scatter\"},{\"hovertemplate\":\"color=SUV<br>animation_frame=2003<br>x=%{x}<br>y=%{y}<extra></extra>\",\"ids\":[\"SUV\"],\"legendgroup\":\"SUV\",\"line\":{\"color\":\"#00A08B\",\"dash\":\"solid\"},\"marker\":{\"symbol\":\"circle\"},\"mode\":\"markers+lines\",\"name\":\"SUV\",\"orientation\":\"v\",\"showlegend\":true,\"x\":[2003],\"xaxis\":\"x\",\"y\":[22.5125],\"yaxis\":\"y\",\"type\":\"scatter\"},{\"hovertemplate\":\"color=TWO-SEATER<br>animation_frame=2003<br>x=%{x}<br>y=%{y}<extra></extra>\",\"ids\":[\"TWO-SEATER\"],\"legendgroup\":\"TWO-SEATER\",\"line\":{\"color\":\"#FB00D1\",\"dash\":\"solid\"},\"marker\":{\"symbol\":\"circle\"},\"mode\":\"markers+lines\",\"name\":\"TWO-SEATER\",\"orientation\":\"v\",\"showlegend\":true,\"x\":[2003],\"xaxis\":\"x\",\"y\":[25.475],\"yaxis\":\"y\",\"type\":\"scatter\"},{\"hovertemplate\":\"color=VAN - CARGO<br>animation_frame=2003<br>x=%{x}<br>y=%{y}<extra></extra>\",\"ids\":[\"VAN - CARGO\"],\"legendgroup\":\"VAN - CARGO\",\"line\":{\"color\":\"#FC0080\",\"dash\":\"solid\"},\"marker\":{\"symbol\":\"circle\"},\"mode\":\"markers+lines\",\"name\":\"VAN - CARGO\",\"orientation\":\"v\",\"showlegend\":true,\"x\":[2003],\"xaxis\":\"x\",\"y\":[18.666666666666668],\"yaxis\":\"y\",\"type\":\"scatter\"},{\"hovertemplate\":\"color=VAN - PASSENGER<br>animation_frame=2003<br>x=%{x}<br>y=%{y}<extra></extra>\",\"ids\":[\"VAN - PASSENGER\"],\"legendgroup\":\"VAN - PASSENGER\",\"line\":{\"color\":\"#B2828D\",\"dash\":\"solid\"},\"marker\":{\"symbol\":\"circle\"},\"mode\":\"markers+lines\",\"name\":\"VAN - PASSENGER\",\"orientation\":\"v\",\"showlegend\":true,\"x\":[2003],\"xaxis\":\"x\",\"y\":[18.615384615384617],\"yaxis\":\"y\",\"type\":\"scatter\"}],\"name\":\"2003\"},{\"data\":[{\"hovertemplate\":\"color=COMPACT<br>animation_frame=2004<br>x=%{x}<br>y=%{y}<extra></extra>\",\"ids\":[\"COMPACT\"],\"legendgroup\":\"COMPACT\",\"line\":{\"color\":\"#2E91E5\",\"dash\":\"solid\"},\"marker\":{\"symbol\":\"circle\"},\"mode\":\"markers+lines\",\"name\":\"COMPACT\",\"orientation\":\"v\",\"showlegend\":true,\"x\":[2004],\"xaxis\":\"x\",\"y\":[31.603896103896105],\"yaxis\":\"y\",\"type\":\"scatter\"},{\"hovertemplate\":\"color=FULL-SIZE<br>animation_frame=2004<br>x=%{x}<br>y=%{y}<extra></extra>\",\"ids\":[\"FULL-SIZE\"],\"legendgroup\":\"FULL-SIZE\",\"line\":{\"color\":\"#E15F99\",\"dash\":\"solid\"},\"marker\":{\"symbol\":\"circle\"},\"mode\":\"markers+lines\",\"name\":\"FULL-SIZE\",\"orientation\":\"v\",\"showlegend\":true,\"x\":[2004],\"xaxis\":\"x\",\"y\":[24.735294117647058],\"yaxis\":\"y\",\"type\":\"scatter\"},{\"hovertemplate\":\"color=MID-SIZE<br>animation_frame=2004<br>x=%{x}<br>y=%{y}<extra></extra>\",\"ids\":[\"MID-SIZE\"],\"legendgroup\":\"MID-SIZE\",\"line\":{\"color\":\"#1CA71C\",\"dash\":\"solid\"},\"marker\":{\"symbol\":\"circle\"},\"mode\":\"markers+lines\",\"name\":\"MID-SIZE\",\"orientation\":\"v\",\"showlegend\":true,\"x\":[2004],\"xaxis\":\"x\",\"y\":[27.92233009708738],\"yaxis\":\"y\",\"type\":\"scatter\"},{\"hovertemplate\":\"color=MINICOMPACT<br>animation_frame=2004<br>x=%{x}<br>y=%{y}<extra></extra>\",\"ids\":[\"MINICOMPACT\"],\"legendgroup\":\"MINICOMPACT\",\"line\":{\"color\":\"#FB0D0D\",\"dash\":\"solid\"},\"marker\":{\"symbol\":\"circle\"},\"mode\":\"markers+lines\",\"name\":\"MINICOMPACT\",\"orientation\":\"v\",\"showlegend\":true,\"x\":[2004],\"xaxis\":\"x\",\"y\":[29.2],\"yaxis\":\"y\",\"type\":\"scatter\"},{\"hovertemplate\":\"color=MINIVAN<br>animation_frame=2004<br>x=%{x}<br>y=%{y}<extra></extra>\",\"ids\":[\"MINIVAN\"],\"legendgroup\":\"MINIVAN\",\"line\":{\"color\":\"#DA16FF\",\"dash\":\"solid\"},\"marker\":{\"symbol\":\"circle\"},\"mode\":\"markers+lines\",\"name\":\"MINIVAN\",\"orientation\":\"v\",\"showlegend\":true,\"x\":[2004],\"xaxis\":\"x\",\"y\":[25.571428571428573],\"yaxis\":\"y\",\"type\":\"scatter\"},{\"hovertemplate\":\"color=PICKUP TRUCK - SMALL<br>animation_frame=2004<br>x=%{x}<br>y=%{y}<extra></extra>\",\"ids\":[\"PICKUP TRUCK - SMALL\"],\"legendgroup\":\"PICKUP TRUCK - SMALL\",\"line\":{\"color\":\"#222A2A\",\"dash\":\"solid\"},\"marker\":{\"symbol\":\"circle\"},\"mode\":\"markers+lines\",\"name\":\"PICKUP TRUCK - SMALL\",\"orientation\":\"v\",\"showlegend\":true,\"x\":[2004],\"xaxis\":\"x\",\"y\":[20.0],\"yaxis\":\"y\",\"type\":\"scatter\"},{\"hovertemplate\":\"color=PICKUP TRUCK - STANDARD<br>animation_frame=2004<br>x=%{x}<br>y=%{y}<extra></extra>\",\"ids\":[\"PICKUP TRUCK - STANDARD\"],\"legendgroup\":\"PICKUP TRUCK - STANDARD\",\"line\":{\"color\":\"#B68100\",\"dash\":\"solid\"},\"marker\":{\"symbol\":\"circle\"},\"mode\":\"markers+lines\",\"name\":\"PICKUP TRUCK - STANDARD\",\"orientation\":\"v\",\"showlegend\":true,\"x\":[2004],\"xaxis\":\"x\",\"y\":[20.66393442622951],\"yaxis\":\"y\",\"type\":\"scatter\"},{\"hovertemplate\":\"color=STATION WAGON - MID-SIZE<br>animation_frame=2004<br>x=%{x}<br>y=%{y}<extra></extra>\",\"ids\":[\"STATION WAGON - MID-SIZE\"],\"legendgroup\":\"STATION WAGON - MID-SIZE\",\"line\":{\"color\":\"#750D86\",\"dash\":\"solid\"},\"marker\":{\"symbol\":\"circle\"},\"mode\":\"markers+lines\",\"name\":\"STATION WAGON - MID-SIZE\",\"orientation\":\"v\",\"showlegend\":true,\"x\":[2004],\"xaxis\":\"x\",\"y\":[28.414634146341463],\"yaxis\":\"y\",\"type\":\"scatter\"},{\"hovertemplate\":\"color=STATION WAGON - SMALL<br>animation_frame=2004<br>x=%{x}<br>y=%{y}<extra></extra>\",\"ids\":[\"STATION WAGON - SMALL\"],\"legendgroup\":\"STATION WAGON - SMALL\",\"line\":{\"color\":\"#EB663B\",\"dash\":\"solid\"},\"marker\":{\"symbol\":\"circle\"},\"mode\":\"markers+lines\",\"name\":\"STATION WAGON - SMALL\",\"orientation\":\"v\",\"showlegend\":true,\"x\":[2004],\"xaxis\":\"x\",\"y\":[31.27906976744186],\"yaxis\":\"y\",\"type\":\"scatter\"},{\"hovertemplate\":\"color=SUBCOMPACT<br>animation_frame=2004<br>x=%{x}<br>y=%{y}<extra></extra>\",\"ids\":[\"SUBCOMPACT\"],\"legendgroup\":\"SUBCOMPACT\",\"line\":{\"color\":\"#511CFB\",\"dash\":\"solid\"},\"marker\":{\"symbol\":\"circle\"},\"mode\":\"markers+lines\",\"name\":\"SUBCOMPACT\",\"orientation\":\"v\",\"showlegend\":true,\"x\":[2004],\"xaxis\":\"x\",\"y\":[28.96511627906977],\"yaxis\":\"y\",\"type\":\"scatter\"},{\"hovertemplate\":\"color=SUV<br>animation_frame=2004<br>x=%{x}<br>y=%{y}<extra></extra>\",\"ids\":[\"SUV\"],\"legendgroup\":\"SUV\",\"line\":{\"color\":\"#00A08B\",\"dash\":\"solid\"},\"marker\":{\"symbol\":\"circle\"},\"mode\":\"markers+lines\",\"name\":\"SUV\",\"orientation\":\"v\",\"showlegend\":true,\"x\":[2004],\"xaxis\":\"x\",\"y\":[21.957894736842107],\"yaxis\":\"y\",\"type\":\"scatter\"},{\"hovertemplate\":\"color=TWO-SEATER<br>animation_frame=2004<br>x=%{x}<br>y=%{y}<extra></extra>\",\"ids\":[\"TWO-SEATER\"],\"legendgroup\":\"TWO-SEATER\",\"line\":{\"color\":\"#FB00D1\",\"dash\":\"solid\"},\"marker\":{\"symbol\":\"circle\"},\"mode\":\"markers+lines\",\"name\":\"TWO-SEATER\",\"orientation\":\"v\",\"showlegend\":true,\"x\":[2004],\"xaxis\":\"x\",\"y\":[25.065217391304348],\"yaxis\":\"y\",\"type\":\"scatter\"},{\"hovertemplate\":\"color=VAN - CARGO<br>animation_frame=2004<br>x=%{x}<br>y=%{y}<extra></extra>\",\"ids\":[\"VAN - CARGO\"],\"legendgroup\":\"VAN - CARGO\",\"line\":{\"color\":\"#FC0080\",\"dash\":\"solid\"},\"marker\":{\"symbol\":\"circle\"},\"mode\":\"markers+lines\",\"name\":\"VAN - CARGO\",\"orientation\":\"v\",\"showlegend\":true,\"x\":[2004],\"xaxis\":\"x\",\"y\":[18.80952380952381],\"yaxis\":\"y\",\"type\":\"scatter\"},{\"hovertemplate\":\"color=VAN - PASSENGER<br>animation_frame=2004<br>x=%{x}<br>y=%{y}<extra></extra>\",\"ids\":[\"VAN - PASSENGER\"],\"legendgroup\":\"VAN - PASSENGER\",\"line\":{\"color\":\"#B2828D\",\"dash\":\"solid\"},\"marker\":{\"symbol\":\"circle\"},\"mode\":\"markers+lines\",\"name\":\"VAN - PASSENGER\",\"orientation\":\"v\",\"showlegend\":true,\"x\":[2004],\"xaxis\":\"x\",\"y\":[19.181818181818183],\"yaxis\":\"y\",\"type\":\"scatter\"}],\"name\":\"2004\"},{\"data\":[{\"hovertemplate\":\"color=COMPACT<br>animation_frame=2005<br>x=%{x}<br>y=%{y}<extra></extra>\",\"ids\":[\"COMPACT\"],\"legendgroup\":\"COMPACT\",\"line\":{\"color\":\"#2E91E5\",\"dash\":\"solid\"},\"marker\":{\"symbol\":\"circle\"},\"mode\":\"markers+lines\",\"name\":\"COMPACT\",\"orientation\":\"v\",\"showlegend\":true,\"x\":[2005],\"xaxis\":\"x\",\"y\":[31.698630136986303],\"yaxis\":\"y\",\"type\":\"scatter\"},{\"hovertemplate\":\"color=FULL-SIZE<br>animation_frame=2005<br>x=%{x}<br>y=%{y}<extra></extra>\",\"ids\":[\"FULL-SIZE\"],\"legendgroup\":\"FULL-SIZE\",\"line\":{\"color\":\"#E15F99\",\"dash\":\"solid\"},\"marker\":{\"symbol\":\"circle\"},\"mode\":\"markers+lines\",\"name\":\"FULL-SIZE\",\"orientation\":\"v\",\"showlegend\":true,\"x\":[2005],\"xaxis\":\"x\",\"y\":[24.155555555555555],\"yaxis\":\"y\",\"type\":\"scatter\"},{\"hovertemplate\":\"color=MID-SIZE<br>animation_frame=2005<br>x=%{x}<br>y=%{y}<extra></extra>\",\"ids\":[\"MID-SIZE\"],\"legendgroup\":\"MID-SIZE\",\"line\":{\"color\":\"#1CA71C\",\"dash\":\"solid\"},\"marker\":{\"symbol\":\"circle\"},\"mode\":\"markers+lines\",\"name\":\"MID-SIZE\",\"orientation\":\"v\",\"showlegend\":true,\"x\":[2005],\"xaxis\":\"x\",\"y\":[28.140350877192983],\"yaxis\":\"y\",\"type\":\"scatter\"},{\"hovertemplate\":\"color=MINICOMPACT<br>animation_frame=2005<br>x=%{x}<br>y=%{y}<extra></extra>\",\"ids\":[\"MINICOMPACT\"],\"legendgroup\":\"MINICOMPACT\",\"line\":{\"color\":\"#FB0D0D\",\"dash\":\"solid\"},\"marker\":{\"symbol\":\"circle\"},\"mode\":\"markers+lines\",\"name\":\"MINICOMPACT\",\"orientation\":\"v\",\"showlegend\":true,\"x\":[2005],\"xaxis\":\"x\",\"y\":[26.256756756756758],\"yaxis\":\"y\",\"type\":\"scatter\"},{\"hovertemplate\":\"color=MINIVAN<br>animation_frame=2005<br>x=%{x}<br>y=%{y}<extra></extra>\",\"ids\":[\"MINIVAN\"],\"legendgroup\":\"MINIVAN\",\"line\":{\"color\":\"#DA16FF\",\"dash\":\"solid\"},\"marker\":{\"symbol\":\"circle\"},\"mode\":\"markers+lines\",\"name\":\"MINIVAN\",\"orientation\":\"v\",\"showlegend\":true,\"x\":[2005],\"xaxis\":\"x\",\"y\":[24.727272727272727],\"yaxis\":\"y\",\"type\":\"scatter\"},{\"hovertemplate\":\"color=PICKUP TRUCK - STANDARD<br>animation_frame=2005<br>x=%{x}<br>y=%{y}<extra></extra>\",\"ids\":[\"PICKUP TRUCK - STANDARD\"],\"legendgroup\":\"PICKUP TRUCK - STANDARD\",\"line\":{\"color\":\"#B68100\",\"dash\":\"solid\"},\"marker\":{\"symbol\":\"circle\"},\"mode\":\"markers+lines\",\"name\":\"PICKUP TRUCK - STANDARD\",\"orientation\":\"v\",\"showlegend\":true,\"x\":[2005],\"xaxis\":\"x\",\"y\":[21.393700787401574],\"yaxis\":\"y\",\"type\":\"scatter\"},{\"hovertemplate\":\"color=STATION WAGON - MID-SIZE<br>animation_frame=2005<br>x=%{x}<br>y=%{y}<extra></extra>\",\"ids\":[\"STATION WAGON - MID-SIZE\"],\"legendgroup\":\"STATION WAGON - MID-SIZE\",\"line\":{\"color\":\"#750D86\",\"dash\":\"solid\"},\"marker\":{\"symbol\":\"circle\"},\"mode\":\"markers+lines\",\"name\":\"STATION WAGON - MID-SIZE\",\"orientation\":\"v\",\"showlegend\":true,\"x\":[2005],\"xaxis\":\"x\",\"y\":[28.210526315789473],\"yaxis\":\"y\",\"type\":\"scatter\"},{\"hovertemplate\":\"color=STATION WAGON - SMALL<br>animation_frame=2005<br>x=%{x}<br>y=%{y}<extra></extra>\",\"ids\":[\"STATION WAGON - SMALL\"],\"legendgroup\":\"STATION WAGON - SMALL\",\"line\":{\"color\":\"#EB663B\",\"dash\":\"solid\"},\"marker\":{\"symbol\":\"circle\"},\"mode\":\"markers+lines\",\"name\":\"STATION WAGON - SMALL\",\"orientation\":\"v\",\"showlegend\":true,\"x\":[2005],\"xaxis\":\"x\",\"y\":[30.814814814814813],\"yaxis\":\"y\",\"type\":\"scatter\"},{\"hovertemplate\":\"color=SUBCOMPACT<br>animation_frame=2005<br>x=%{x}<br>y=%{y}<extra></extra>\",\"ids\":[\"SUBCOMPACT\"],\"legendgroup\":\"SUBCOMPACT\",\"line\":{\"color\":\"#511CFB\",\"dash\":\"solid\"},\"marker\":{\"symbol\":\"circle\"},\"mode\":\"markers+lines\",\"name\":\"SUBCOMPACT\",\"orientation\":\"v\",\"showlegend\":true,\"x\":[2005],\"xaxis\":\"x\",\"y\":[29.82758620689655],\"yaxis\":\"y\",\"type\":\"scatter\"},{\"hovertemplate\":\"color=SUV<br>animation_frame=2005<br>x=%{x}<br>y=%{y}<extra></extra>\",\"ids\":[\"SUV\"],\"legendgroup\":\"SUV\",\"line\":{\"color\":\"#00A08B\",\"dash\":\"solid\"},\"marker\":{\"symbol\":\"circle\"},\"mode\":\"markers+lines\",\"name\":\"SUV\",\"orientation\":\"v\",\"showlegend\":true,\"x\":[2005],\"xaxis\":\"x\",\"y\":[23.0],\"yaxis\":\"y\",\"type\":\"scatter\"},{\"hovertemplate\":\"color=TWO-SEATER<br>animation_frame=2005<br>x=%{x}<br>y=%{y}<extra></extra>\",\"ids\":[\"TWO-SEATER\"],\"legendgroup\":\"TWO-SEATER\",\"line\":{\"color\":\"#FB00D1\",\"dash\":\"solid\"},\"marker\":{\"symbol\":\"circle\"},\"mode\":\"markers+lines\",\"name\":\"TWO-SEATER\",\"orientation\":\"v\",\"showlegend\":true,\"x\":[2005],\"xaxis\":\"x\",\"y\":[26.03846153846154],\"yaxis\":\"y\",\"type\":\"scatter\"},{\"hovertemplate\":\"color=VAN - CARGO<br>animation_frame=2005<br>x=%{x}<br>y=%{y}<extra></extra>\",\"ids\":[\"VAN - CARGO\"],\"legendgroup\":\"VAN - CARGO\",\"line\":{\"color\":\"#FC0080\",\"dash\":\"solid\"},\"marker\":{\"symbol\":\"circle\"},\"mode\":\"markers+lines\",\"name\":\"VAN - CARGO\",\"orientation\":\"v\",\"showlegend\":true,\"x\":[2005],\"xaxis\":\"x\",\"y\":[20.384615384615383],\"yaxis\":\"y\",\"type\":\"scatter\"},{\"hovertemplate\":\"color=VAN - PASSENGER<br>animation_frame=2005<br>x=%{x}<br>y=%{y}<extra></extra>\",\"ids\":[\"VAN - PASSENGER\"],\"legendgroup\":\"VAN - PASSENGER\",\"line\":{\"color\":\"#B2828D\",\"dash\":\"solid\"},\"marker\":{\"symbol\":\"circle\"},\"mode\":\"markers+lines\",\"name\":\"VAN - PASSENGER\",\"orientation\":\"v\",\"showlegend\":true,\"x\":[2005],\"xaxis\":\"x\",\"y\":[19.666666666666668],\"yaxis\":\"y\",\"type\":\"scatter\"}],\"name\":\"2005\"},{\"data\":[{\"hovertemplate\":\"color=COMPACT<br>animation_frame=2006<br>x=%{x}<br>y=%{y}<extra></extra>\",\"ids\":[\"COMPACT\"],\"legendgroup\":\"COMPACT\",\"line\":{\"color\":\"#2E91E5\",\"dash\":\"solid\"},\"marker\":{\"symbol\":\"circle\"},\"mode\":\"markers+lines\",\"name\":\"COMPACT\",\"orientation\":\"v\",\"showlegend\":true,\"x\":[2006],\"xaxis\":\"x\",\"y\":[31.233576642335766],\"yaxis\":\"y\",\"type\":\"scatter\"},{\"hovertemplate\":\"color=FULL-SIZE<br>animation_frame=2006<br>x=%{x}<br>y=%{y}<extra></extra>\",\"ids\":[\"FULL-SIZE\"],\"legendgroup\":\"FULL-SIZE\",\"line\":{\"color\":\"#E15F99\",\"dash\":\"solid\"},\"marker\":{\"symbol\":\"circle\"},\"mode\":\"markers+lines\",\"name\":\"FULL-SIZE\",\"orientation\":\"v\",\"showlegend\":true,\"x\":[2006],\"xaxis\":\"x\",\"y\":[24.625],\"yaxis\":\"y\",\"type\":\"scatter\"},{\"hovertemplate\":\"color=MID-SIZE<br>animation_frame=2006<br>x=%{x}<br>y=%{y}<extra></extra>\",\"ids\":[\"MID-SIZE\"],\"legendgroup\":\"MID-SIZE\",\"line\":{\"color\":\"#1CA71C\",\"dash\":\"solid\"},\"marker\":{\"symbol\":\"circle\"},\"mode\":\"markers+lines\",\"name\":\"MID-SIZE\",\"orientation\":\"v\",\"showlegend\":true,\"x\":[2006],\"xaxis\":\"x\",\"y\":[28.18918918918919],\"yaxis\":\"y\",\"type\":\"scatter\"},{\"hovertemplate\":\"color=MINICOMPACT<br>animation_frame=2006<br>x=%{x}<br>y=%{y}<extra></extra>\",\"ids\":[\"MINICOMPACT\"],\"legendgroup\":\"MINICOMPACT\",\"line\":{\"color\":\"#FB0D0D\",\"dash\":\"solid\"},\"marker\":{\"symbol\":\"circle\"},\"mode\":\"markers+lines\",\"name\":\"MINICOMPACT\",\"orientation\":\"v\",\"showlegend\":true,\"x\":[2006],\"xaxis\":\"x\",\"y\":[28.43243243243243],\"yaxis\":\"y\",\"type\":\"scatter\"},{\"hovertemplate\":\"color=MINIVAN<br>animation_frame=2006<br>x=%{x}<br>y=%{y}<extra></extra>\",\"ids\":[\"MINIVAN\"],\"legendgroup\":\"MINIVAN\",\"line\":{\"color\":\"#DA16FF\",\"dash\":\"solid\"},\"marker\":{\"symbol\":\"circle\"},\"mode\":\"markers+lines\",\"name\":\"MINIVAN\",\"orientation\":\"v\",\"showlegend\":true,\"x\":[2006],\"xaxis\":\"x\",\"y\":[24.714285714285715],\"yaxis\":\"y\",\"type\":\"scatter\"},{\"hovertemplate\":\"color=PICKUP TRUCK - STANDARD<br>animation_frame=2006<br>x=%{x}<br>y=%{y}<extra></extra>\",\"ids\":[\"PICKUP TRUCK - STANDARD\"],\"legendgroup\":\"PICKUP TRUCK - STANDARD\",\"line\":{\"color\":\"#B68100\",\"dash\":\"solid\"},\"marker\":{\"symbol\":\"circle\"},\"mode\":\"markers+lines\",\"name\":\"PICKUP TRUCK - STANDARD\",\"orientation\":\"v\",\"showlegend\":true,\"x\":[2006],\"xaxis\":\"x\",\"y\":[21.907801418439718],\"yaxis\":\"y\",\"type\":\"scatter\"},{\"hovertemplate\":\"color=STATION WAGON - MID-SIZE<br>animation_frame=2006<br>x=%{x}<br>y=%{y}<extra></extra>\",\"ids\":[\"STATION WAGON - MID-SIZE\"],\"legendgroup\":\"STATION WAGON - MID-SIZE\",\"line\":{\"color\":\"#750D86\",\"dash\":\"solid\"},\"marker\":{\"symbol\":\"circle\"},\"mode\":\"markers+lines\",\"name\":\"STATION WAGON - MID-SIZE\",\"orientation\":\"v\",\"showlegend\":true,\"x\":[2006],\"xaxis\":\"x\",\"y\":[28.035714285714285],\"yaxis\":\"y\",\"type\":\"scatter\"},{\"hovertemplate\":\"color=STATION WAGON - SMALL<br>animation_frame=2006<br>x=%{x}<br>y=%{y}<extra></extra>\",\"ids\":[\"STATION WAGON - SMALL\"],\"legendgroup\":\"STATION WAGON - SMALL\",\"line\":{\"color\":\"#EB663B\",\"dash\":\"solid\"},\"marker\":{\"symbol\":\"circle\"},\"mode\":\"markers+lines\",\"name\":\"STATION WAGON - SMALL\",\"orientation\":\"v\",\"showlegend\":true,\"x\":[2006],\"xaxis\":\"x\",\"y\":[31.735849056603772],\"yaxis\":\"y\",\"type\":\"scatter\"},{\"hovertemplate\":\"color=SUBCOMPACT<br>animation_frame=2006<br>x=%{x}<br>y=%{y}<extra></extra>\",\"ids\":[\"SUBCOMPACT\"],\"legendgroup\":\"SUBCOMPACT\",\"line\":{\"color\":\"#511CFB\",\"dash\":\"solid\"},\"marker\":{\"symbol\":\"circle\"},\"mode\":\"markers+lines\",\"name\":\"SUBCOMPACT\",\"orientation\":\"v\",\"showlegend\":true,\"x\":[2006],\"xaxis\":\"x\",\"y\":[29.743589743589745],\"yaxis\":\"y\",\"type\":\"scatter\"},{\"hovertemplate\":\"color=SUV<br>animation_frame=2006<br>x=%{x}<br>y=%{y}<extra></extra>\",\"ids\":[\"SUV\"],\"legendgroup\":\"SUV\",\"line\":{\"color\":\"#00A08B\",\"dash\":\"solid\"},\"marker\":{\"symbol\":\"circle\"},\"mode\":\"markers+lines\",\"name\":\"SUV\",\"orientation\":\"v\",\"showlegend\":true,\"x\":[2006],\"xaxis\":\"x\",\"y\":[23.755656108597286],\"yaxis\":\"y\",\"type\":\"scatter\"},{\"hovertemplate\":\"color=TWO-SEATER<br>animation_frame=2006<br>x=%{x}<br>y=%{y}<extra></extra>\",\"ids\":[\"TWO-SEATER\"],\"legendgroup\":\"TWO-SEATER\",\"line\":{\"color\":\"#FB00D1\",\"dash\":\"solid\"},\"marker\":{\"symbol\":\"circle\"},\"mode\":\"markers+lines\",\"name\":\"TWO-SEATER\",\"orientation\":\"v\",\"showlegend\":true,\"x\":[2006],\"xaxis\":\"x\",\"y\":[26.93877551020408],\"yaxis\":\"y\",\"type\":\"scatter\"},{\"hovertemplate\":\"color=VAN - CARGO<br>animation_frame=2006<br>x=%{x}<br>y=%{y}<extra></extra>\",\"ids\":[\"VAN - CARGO\"],\"legendgroup\":\"VAN - CARGO\",\"line\":{\"color\":\"#FC0080\",\"dash\":\"solid\"},\"marker\":{\"symbol\":\"circle\"},\"mode\":\"markers+lines\",\"name\":\"VAN - CARGO\",\"orientation\":\"v\",\"showlegend\":true,\"x\":[2006],\"xaxis\":\"x\",\"y\":[20.214285714285715],\"yaxis\":\"y\",\"type\":\"scatter\"},{\"hovertemplate\":\"color=VAN - PASSENGER<br>animation_frame=2006<br>x=%{x}<br>y=%{y}<extra></extra>\",\"ids\":[\"VAN - PASSENGER\"],\"legendgroup\":\"VAN - PASSENGER\",\"line\":{\"color\":\"#B2828D\",\"dash\":\"solid\"},\"marker\":{\"symbol\":\"circle\"},\"mode\":\"markers+lines\",\"name\":\"VAN - PASSENGER\",\"orientation\":\"v\",\"showlegend\":true,\"x\":[2006],\"xaxis\":\"x\",\"y\":[19.75],\"yaxis\":\"y\",\"type\":\"scatter\"}],\"name\":\"2006\"},{\"data\":[{\"hovertemplate\":\"color=COMPACT<br>animation_frame=2007<br>x=%{x}<br>y=%{y}<extra></extra>\",\"ids\":[\"COMPACT\"],\"legendgroup\":\"COMPACT\",\"line\":{\"color\":\"#2E91E5\",\"dash\":\"solid\"},\"marker\":{\"symbol\":\"circle\"},\"mode\":\"markers+lines\",\"name\":\"COMPACT\",\"orientation\":\"v\",\"showlegend\":true,\"x\":[2007],\"xaxis\":\"x\",\"y\":[30.25],\"yaxis\":\"y\",\"type\":\"scatter\"},{\"hovertemplate\":\"color=FULL-SIZE<br>animation_frame=2007<br>x=%{x}<br>y=%{y}<extra></extra>\",\"ids\":[\"FULL-SIZE\"],\"legendgroup\":\"FULL-SIZE\",\"line\":{\"color\":\"#E15F99\",\"dash\":\"solid\"},\"marker\":{\"symbol\":\"circle\"},\"mode\":\"markers+lines\",\"name\":\"FULL-SIZE\",\"orientation\":\"v\",\"showlegend\":true,\"x\":[2007],\"xaxis\":\"x\",\"y\":[24.462962962962962],\"yaxis\":\"y\",\"type\":\"scatter\"},{\"hovertemplate\":\"color=MID-SIZE<br>animation_frame=2007<br>x=%{x}<br>y=%{y}<extra></extra>\",\"ids\":[\"MID-SIZE\"],\"legendgroup\":\"MID-SIZE\",\"line\":{\"color\":\"#1CA71C\",\"dash\":\"solid\"},\"marker\":{\"symbol\":\"circle\"},\"mode\":\"markers+lines\",\"name\":\"MID-SIZE\",\"orientation\":\"v\",\"showlegend\":true,\"x\":[2007],\"xaxis\":\"x\",\"y\":[29.115107913669064],\"yaxis\":\"y\",\"type\":\"scatter\"},{\"hovertemplate\":\"color=MINICOMPACT<br>animation_frame=2007<br>x=%{x}<br>y=%{y}<extra></extra>\",\"ids\":[\"MINICOMPACT\"],\"legendgroup\":\"MINICOMPACT\",\"line\":{\"color\":\"#FB0D0D\",\"dash\":\"solid\"},\"marker\":{\"symbol\":\"circle\"},\"mode\":\"markers+lines\",\"name\":\"MINICOMPACT\",\"orientation\":\"v\",\"showlegend\":true,\"x\":[2007],\"xaxis\":\"x\",\"y\":[27.5531914893617],\"yaxis\":\"y\",\"type\":\"scatter\"},{\"hovertemplate\":\"color=MINIVAN<br>animation_frame=2007<br>x=%{x}<br>y=%{y}<extra></extra>\",\"ids\":[\"MINIVAN\"],\"legendgroup\":\"MINIVAN\",\"line\":{\"color\":\"#DA16FF\",\"dash\":\"solid\"},\"marker\":{\"symbol\":\"circle\"},\"mode\":\"markers+lines\",\"name\":\"MINIVAN\",\"orientation\":\"v\",\"showlegend\":true,\"x\":[2007],\"xaxis\":\"x\",\"y\":[24.08823529411765],\"yaxis\":\"y\",\"type\":\"scatter\"},{\"hovertemplate\":\"color=PICKUP TRUCK - STANDARD<br>animation_frame=2007<br>x=%{x}<br>y=%{y}<extra></extra>\",\"ids\":[\"PICKUP TRUCK - STANDARD\"],\"legendgroup\":\"PICKUP TRUCK - STANDARD\",\"line\":{\"color\":\"#B68100\",\"dash\":\"solid\"},\"marker\":{\"symbol\":\"circle\"},\"mode\":\"markers+lines\",\"name\":\"PICKUP TRUCK - STANDARD\",\"orientation\":\"v\",\"showlegend\":true,\"x\":[2007],\"xaxis\":\"x\",\"y\":[21.623376623376622],\"yaxis\":\"y\",\"type\":\"scatter\"},{\"hovertemplate\":\"color=STATION WAGON - MID-SIZE<br>animation_frame=2007<br>x=%{x}<br>y=%{y}<extra></extra>\",\"ids\":[\"STATION WAGON - MID-SIZE\"],\"legendgroup\":\"STATION WAGON - MID-SIZE\",\"line\":{\"color\":\"#750D86\",\"dash\":\"solid\"},\"marker\":{\"symbol\":\"circle\"},\"mode\":\"markers+lines\",\"name\":\"STATION WAGON - MID-SIZE\",\"orientation\":\"v\",\"showlegend\":true,\"x\":[2007],\"xaxis\":\"x\",\"y\":[28.625],\"yaxis\":\"y\",\"type\":\"scatter\"},{\"hovertemplate\":\"color=STATION WAGON - SMALL<br>animation_frame=2007<br>x=%{x}<br>y=%{y}<extra></extra>\",\"ids\":[\"STATION WAGON - SMALL\"],\"legendgroup\":\"STATION WAGON - SMALL\",\"line\":{\"color\":\"#EB663B\",\"dash\":\"solid\"},\"marker\":{\"symbol\":\"circle\"},\"mode\":\"markers+lines\",\"name\":\"STATION WAGON - SMALL\",\"orientation\":\"v\",\"showlegend\":true,\"x\":[2007],\"xaxis\":\"x\",\"y\":[31.59090909090909],\"yaxis\":\"y\",\"type\":\"scatter\"},{\"hovertemplate\":\"color=SUBCOMPACT<br>animation_frame=2007<br>x=%{x}<br>y=%{y}<extra></extra>\",\"ids\":[\"SUBCOMPACT\"],\"legendgroup\":\"SUBCOMPACT\",\"line\":{\"color\":\"#511CFB\",\"dash\":\"solid\"},\"marker\":{\"symbol\":\"circle\"},\"mode\":\"markers+lines\",\"name\":\"SUBCOMPACT\",\"orientation\":\"v\",\"showlegend\":true,\"x\":[2007],\"xaxis\":\"x\",\"y\":[29.50602409638554],\"yaxis\":\"y\",\"type\":\"scatter\"},{\"hovertemplate\":\"color=SUV<br>animation_frame=2007<br>x=%{x}<br>y=%{y}<extra></extra>\",\"ids\":[\"SUV\"],\"legendgroup\":\"SUV\",\"line\":{\"color\":\"#00A08B\",\"dash\":\"solid\"},\"marker\":{\"symbol\":\"circle\"},\"mode\":\"markers+lines\",\"name\":\"SUV\",\"orientation\":\"v\",\"showlegend\":true,\"x\":[2007],\"xaxis\":\"x\",\"y\":[24.748953974895397],\"yaxis\":\"y\",\"type\":\"scatter\"},{\"hovertemplate\":\"color=TWO-SEATER<br>animation_frame=2007<br>x=%{x}<br>y=%{y}<extra></extra>\",\"ids\":[\"TWO-SEATER\"],\"legendgroup\":\"TWO-SEATER\",\"line\":{\"color\":\"#FB00D1\",\"dash\":\"solid\"},\"marker\":{\"symbol\":\"circle\"},\"mode\":\"markers+lines\",\"name\":\"TWO-SEATER\",\"orientation\":\"v\",\"showlegend\":true,\"x\":[2007],\"xaxis\":\"x\",\"y\":[25.049180327868854],\"yaxis\":\"y\",\"type\":\"scatter\"},{\"hovertemplate\":\"color=VAN - CARGO<br>animation_frame=2007<br>x=%{x}<br>y=%{y}<extra></extra>\",\"ids\":[\"VAN - CARGO\"],\"legendgroup\":\"VAN - CARGO\",\"line\":{\"color\":\"#FC0080\",\"dash\":\"solid\"},\"marker\":{\"symbol\":\"circle\"},\"mode\":\"markers+lines\",\"name\":\"VAN - CARGO\",\"orientation\":\"v\",\"showlegend\":true,\"x\":[2007],\"xaxis\":\"x\",\"y\":[18.666666666666668],\"yaxis\":\"y\",\"type\":\"scatter\"},{\"hovertemplate\":\"color=VAN - PASSENGER<br>animation_frame=2007<br>x=%{x}<br>y=%{y}<extra></extra>\",\"ids\":[\"VAN - PASSENGER\"],\"legendgroup\":\"VAN - PASSENGER\",\"line\":{\"color\":\"#B2828D\",\"dash\":\"solid\"},\"marker\":{\"symbol\":\"circle\"},\"mode\":\"markers+lines\",\"name\":\"VAN - PASSENGER\",\"orientation\":\"v\",\"showlegend\":true,\"x\":[2007],\"xaxis\":\"x\",\"y\":[17.5],\"yaxis\":\"y\",\"type\":\"scatter\"},{\"hovertemplate\":\"color=SUV - STANDARD<br>animation_frame=2007<br>x=%{x}<br>y=%{y}<extra></extra>\",\"ids\":[\"SUV - STANDARD\"],\"legendgroup\":\"SUV - STANDARD\",\"line\":{\"color\":\"#6C7C32\",\"dash\":\"solid\"},\"marker\":{\"symbol\":\"circle\"},\"mode\":\"markers+lines\",\"name\":\"SUV - STANDARD\",\"orientation\":\"v\",\"showlegend\":true,\"x\":[2007],\"xaxis\":\"x\",\"y\":[20.0],\"yaxis\":\"y\",\"type\":\"scatter\"}],\"name\":\"2007\"},{\"data\":[{\"hovertemplate\":\"color=COMPACT<br>animation_frame=2008<br>x=%{x}<br>y=%{y}<extra></extra>\",\"ids\":[\"COMPACT\"],\"legendgroup\":\"COMPACT\",\"line\":{\"color\":\"#2E91E5\",\"dash\":\"solid\"},\"marker\":{\"symbol\":\"circle\"},\"mode\":\"markers+lines\",\"name\":\"COMPACT\",\"orientation\":\"v\",\"showlegend\":true,\"x\":[2008],\"xaxis\":\"x\",\"y\":[30.2027027027027],\"yaxis\":\"y\",\"type\":\"scatter\"},{\"hovertemplate\":\"color=FULL-SIZE<br>animation_frame=2008<br>x=%{x}<br>y=%{y}<extra></extra>\",\"ids\":[\"FULL-SIZE\"],\"legendgroup\":\"FULL-SIZE\",\"line\":{\"color\":\"#E15F99\",\"dash\":\"solid\"},\"marker\":{\"symbol\":\"circle\"},\"mode\":\"markers+lines\",\"name\":\"FULL-SIZE\",\"orientation\":\"v\",\"showlegend\":true,\"x\":[2008],\"xaxis\":\"x\",\"y\":[24.50793650793651],\"yaxis\":\"y\",\"type\":\"scatter\"},{\"hovertemplate\":\"color=MID-SIZE<br>animation_frame=2008<br>x=%{x}<br>y=%{y}<extra></extra>\",\"ids\":[\"MID-SIZE\"],\"legendgroup\":\"MID-SIZE\",\"line\":{\"color\":\"#1CA71C\",\"dash\":\"solid\"},\"marker\":{\"symbol\":\"circle\"},\"mode\":\"markers+lines\",\"name\":\"MID-SIZE\",\"orientation\":\"v\",\"showlegend\":true,\"x\":[2008],\"xaxis\":\"x\",\"y\":[28.970149253731343],\"yaxis\":\"y\",\"type\":\"scatter\"},{\"hovertemplate\":\"color=MINICOMPACT<br>animation_frame=2008<br>x=%{x}<br>y=%{y}<extra></extra>\",\"ids\":[\"MINICOMPACT\"],\"legendgroup\":\"MINICOMPACT\",\"line\":{\"color\":\"#FB0D0D\",\"dash\":\"solid\"},\"marker\":{\"symbol\":\"circle\"},\"mode\":\"markers+lines\",\"name\":\"MINICOMPACT\",\"orientation\":\"v\",\"showlegend\":true,\"x\":[2008],\"xaxis\":\"x\",\"y\":[27.897959183673468],\"yaxis\":\"y\",\"type\":\"scatter\"},{\"hovertemplate\":\"color=MINIVAN<br>animation_frame=2008<br>x=%{x}<br>y=%{y}<extra></extra>\",\"ids\":[\"MINIVAN\"],\"legendgroup\":\"MINIVAN\",\"line\":{\"color\":\"#DA16FF\",\"dash\":\"solid\"},\"marker\":{\"symbol\":\"circle\"},\"mode\":\"markers+lines\",\"name\":\"MINIVAN\",\"orientation\":\"v\",\"showlegend\":true,\"x\":[2008],\"xaxis\":\"x\",\"y\":[25.0],\"yaxis\":\"y\",\"type\":\"scatter\"},{\"hovertemplate\":\"color=PICKUP TRUCK - SMALL<br>animation_frame=2008<br>x=%{x}<br>y=%{y}<extra></extra>\",\"ids\":[\"PICKUP TRUCK - SMALL\"],\"legendgroup\":\"PICKUP TRUCK - SMALL\",\"line\":{\"color\":\"#222A2A\",\"dash\":\"solid\"},\"marker\":{\"symbol\":\"circle\"},\"mode\":\"markers+lines\",\"name\":\"PICKUP TRUCK - SMALL\",\"orientation\":\"v\",\"showlegend\":true,\"x\":[2008],\"xaxis\":\"x\",\"y\":[24.76923076923077],\"yaxis\":\"y\",\"type\":\"scatter\"},{\"hovertemplate\":\"color=PICKUP TRUCK - STANDARD<br>animation_frame=2008<br>x=%{x}<br>y=%{y}<extra></extra>\",\"ids\":[\"PICKUP TRUCK - STANDARD\"],\"legendgroup\":\"PICKUP TRUCK - STANDARD\",\"line\":{\"color\":\"#B68100\",\"dash\":\"solid\"},\"marker\":{\"symbol\":\"circle\"},\"mode\":\"markers+lines\",\"name\":\"PICKUP TRUCK - STANDARD\",\"orientation\":\"v\",\"showlegend\":true,\"x\":[2008],\"xaxis\":\"x\",\"y\":[20.09722222222222],\"yaxis\":\"y\",\"type\":\"scatter\"},{\"hovertemplate\":\"color=STATION WAGON - MID-SIZE<br>animation_frame=2008<br>x=%{x}<br>y=%{y}<extra></extra>\",\"ids\":[\"STATION WAGON - MID-SIZE\"],\"legendgroup\":\"STATION WAGON - MID-SIZE\",\"line\":{\"color\":\"#750D86\",\"dash\":\"solid\"},\"marker\":{\"symbol\":\"circle\"},\"mode\":\"markers+lines\",\"name\":\"STATION WAGON - MID-SIZE\",\"orientation\":\"v\",\"showlegend\":true,\"x\":[2008],\"xaxis\":\"x\",\"y\":[28.5],\"yaxis\":\"y\",\"type\":\"scatter\"},{\"hovertemplate\":\"color=STATION WAGON - SMALL<br>animation_frame=2008<br>x=%{x}<br>y=%{y}<extra></extra>\",\"ids\":[\"STATION WAGON - SMALL\"],\"legendgroup\":\"STATION WAGON - SMALL\",\"line\":{\"color\":\"#EB663B\",\"dash\":\"solid\"},\"marker\":{\"symbol\":\"circle\"},\"mode\":\"markers+lines\",\"name\":\"STATION WAGON - SMALL\",\"orientation\":\"v\",\"showlegend\":true,\"x\":[2008],\"xaxis\":\"x\",\"y\":[31.58139534883721],\"yaxis\":\"y\",\"type\":\"scatter\"},{\"hovertemplate\":\"color=SUBCOMPACT<br>animation_frame=2008<br>x=%{x}<br>y=%{y}<extra></extra>\",\"ids\":[\"SUBCOMPACT\"],\"legendgroup\":\"SUBCOMPACT\",\"line\":{\"color\":\"#511CFB\",\"dash\":\"solid\"},\"marker\":{\"symbol\":\"circle\"},\"mode\":\"markers+lines\",\"name\":\"SUBCOMPACT\",\"orientation\":\"v\",\"showlegend\":true,\"x\":[2008],\"xaxis\":\"x\",\"y\":[29.86],\"yaxis\":\"y\",\"type\":\"scatter\"},{\"hovertemplate\":\"color=SUV<br>animation_frame=2008<br>x=%{x}<br>y=%{y}<extra></extra>\",\"ids\":[\"SUV\"],\"legendgroup\":\"SUV\",\"line\":{\"color\":\"#00A08B\",\"dash\":\"solid\"},\"marker\":{\"symbol\":\"circle\"},\"mode\":\"markers+lines\",\"name\":\"SUV\",\"orientation\":\"v\",\"showlegend\":true,\"x\":[2008],\"xaxis\":\"x\",\"y\":[24.95505617977528],\"yaxis\":\"y\",\"type\":\"scatter\"},{\"hovertemplate\":\"color=TWO-SEATER<br>animation_frame=2008<br>x=%{x}<br>y=%{y}<extra></extra>\",\"ids\":[\"TWO-SEATER\"],\"legendgroup\":\"TWO-SEATER\",\"line\":{\"color\":\"#FB00D1\",\"dash\":\"solid\"},\"marker\":{\"symbol\":\"circle\"},\"mode\":\"markers+lines\",\"name\":\"TWO-SEATER\",\"orientation\":\"v\",\"showlegend\":true,\"x\":[2008],\"xaxis\":\"x\",\"y\":[25.575342465753426],\"yaxis\":\"y\",\"type\":\"scatter\"},{\"hovertemplate\":\"color=VAN - CARGO<br>animation_frame=2008<br>x=%{x}<br>y=%{y}<extra></extra>\",\"ids\":[\"VAN - CARGO\"],\"legendgroup\":\"VAN - CARGO\",\"line\":{\"color\":\"#FC0080\",\"dash\":\"solid\"},\"marker\":{\"symbol\":\"circle\"},\"mode\":\"markers+lines\",\"name\":\"VAN - CARGO\",\"orientation\":\"v\",\"showlegend\":true,\"x\":[2008],\"xaxis\":\"x\",\"y\":[18.53846153846154],\"yaxis\":\"y\",\"type\":\"scatter\"},{\"hovertemplate\":\"color=VAN - PASSENGER<br>animation_frame=2008<br>x=%{x}<br>y=%{y}<extra></extra>\",\"ids\":[\"VAN - PASSENGER\"],\"legendgroup\":\"VAN - PASSENGER\",\"line\":{\"color\":\"#B2828D\",\"dash\":\"solid\"},\"marker\":{\"symbol\":\"circle\"},\"mode\":\"markers+lines\",\"name\":\"VAN - PASSENGER\",\"orientation\":\"v\",\"showlegend\":true,\"x\":[2008],\"xaxis\":\"x\",\"y\":[17.666666666666668],\"yaxis\":\"y\",\"type\":\"scatter\"}],\"name\":\"2008\"},{\"data\":[{\"hovertemplate\":\"color=COMPACT<br>animation_frame=2009<br>x=%{x}<br>y=%{y}<extra></extra>\",\"ids\":[\"COMPACT\"],\"legendgroup\":\"COMPACT\",\"line\":{\"color\":\"#2E91E5\",\"dash\":\"solid\"},\"marker\":{\"symbol\":\"circle\"},\"mode\":\"markers+lines\",\"name\":\"COMPACT\",\"orientation\":\"v\",\"showlegend\":true,\"x\":[2009],\"xaxis\":\"x\",\"y\":[30.326666666666668],\"yaxis\":\"y\",\"type\":\"scatter\"},{\"hovertemplate\":\"color=FULL-SIZE<br>animation_frame=2009<br>x=%{x}<br>y=%{y}<extra></extra>\",\"ids\":[\"FULL-SIZE\"],\"legendgroup\":\"FULL-SIZE\",\"line\":{\"color\":\"#E15F99\",\"dash\":\"solid\"},\"marker\":{\"symbol\":\"circle\"},\"mode\":\"markers+lines\",\"name\":\"FULL-SIZE\",\"orientation\":\"v\",\"showlegend\":true,\"x\":[2009],\"xaxis\":\"x\",\"y\":[24.676470588235293],\"yaxis\":\"y\",\"type\":\"scatter\"},{\"hovertemplate\":\"color=MID-SIZE<br>animation_frame=2009<br>x=%{x}<br>y=%{y}<extra></extra>\",\"ids\":[\"MID-SIZE\"],\"legendgroup\":\"MID-SIZE\",\"line\":{\"color\":\"#1CA71C\",\"dash\":\"solid\"},\"marker\":{\"symbol\":\"circle\"},\"mode\":\"markers+lines\",\"name\":\"MID-SIZE\",\"orientation\":\"v\",\"showlegend\":true,\"x\":[2009],\"xaxis\":\"x\",\"y\":[29.024],\"yaxis\":\"y\",\"type\":\"scatter\"},{\"hovertemplate\":\"color=MINICOMPACT<br>animation_frame=2009<br>x=%{x}<br>y=%{y}<extra></extra>\",\"ids\":[\"MINICOMPACT\"],\"legendgroup\":\"MINICOMPACT\",\"line\":{\"color\":\"#FB0D0D\",\"dash\":\"solid\"},\"marker\":{\"symbol\":\"circle\"},\"mode\":\"markers+lines\",\"name\":\"MINICOMPACT\",\"orientation\":\"v\",\"showlegend\":true,\"x\":[2009],\"xaxis\":\"x\",\"y\":[31.023255813953487],\"yaxis\":\"y\",\"type\":\"scatter\"},{\"hovertemplate\":\"color=MINIVAN<br>animation_frame=2009<br>x=%{x}<br>y=%{y}<extra></extra>\",\"ids\":[\"MINIVAN\"],\"legendgroup\":\"MINIVAN\",\"line\":{\"color\":\"#DA16FF\",\"dash\":\"solid\"},\"marker\":{\"symbol\":\"circle\"},\"mode\":\"markers+lines\",\"name\":\"MINIVAN\",\"orientation\":\"v\",\"showlegend\":true,\"x\":[2009],\"xaxis\":\"x\",\"y\":[26.0],\"yaxis\":\"y\",\"type\":\"scatter\"},{\"hovertemplate\":\"color=PICKUP TRUCK - SMALL<br>animation_frame=2009<br>x=%{x}<br>y=%{y}<extra></extra>\",\"ids\":[\"PICKUP TRUCK - SMALL\"],\"legendgroup\":\"PICKUP TRUCK - SMALL\",\"line\":{\"color\":\"#222A2A\",\"dash\":\"solid\"},\"marker\":{\"symbol\":\"circle\"},\"mode\":\"markers+lines\",\"name\":\"PICKUP TRUCK - SMALL\",\"orientation\":\"v\",\"showlegend\":true,\"x\":[2009],\"xaxis\":\"x\",\"y\":[25.338983050847457],\"yaxis\":\"y\",\"type\":\"scatter\"},{\"hovertemplate\":\"color=PICKUP TRUCK - STANDARD<br>animation_frame=2009<br>x=%{x}<br>y=%{y}<extra></extra>\",\"ids\":[\"PICKUP TRUCK - STANDARD\"],\"legendgroup\":\"PICKUP TRUCK - STANDARD\",\"line\":{\"color\":\"#B68100\",\"dash\":\"solid\"},\"marker\":{\"symbol\":\"circle\"},\"mode\":\"markers+lines\",\"name\":\"PICKUP TRUCK - STANDARD\",\"orientation\":\"v\",\"showlegend\":true,\"x\":[2009],\"xaxis\":\"x\",\"y\":[20.54736842105263],\"yaxis\":\"y\",\"type\":\"scatter\"},{\"hovertemplate\":\"color=STATION WAGON - MID-SIZE<br>animation_frame=2009<br>x=%{x}<br>y=%{y}<extra></extra>\",\"ids\":[\"STATION WAGON - MID-SIZE\"],\"legendgroup\":\"STATION WAGON - MID-SIZE\",\"line\":{\"color\":\"#750D86\",\"dash\":\"solid\"},\"marker\":{\"symbol\":\"circle\"},\"mode\":\"markers+lines\",\"name\":\"STATION WAGON - MID-SIZE\",\"orientation\":\"v\",\"showlegend\":true,\"x\":[2009],\"xaxis\":\"x\",\"y\":[28.53846153846154],\"yaxis\":\"y\",\"type\":\"scatter\"},{\"hovertemplate\":\"color=STATION WAGON - SMALL<br>animation_frame=2009<br>x=%{x}<br>y=%{y}<extra></extra>\",\"ids\":[\"STATION WAGON - SMALL\"],\"legendgroup\":\"STATION WAGON - SMALL\",\"line\":{\"color\":\"#EB663B\",\"dash\":\"solid\"},\"marker\":{\"symbol\":\"circle\"},\"mode\":\"markers+lines\",\"name\":\"STATION WAGON - SMALL\",\"orientation\":\"v\",\"showlegend\":true,\"x\":[2009],\"xaxis\":\"x\",\"y\":[32.351851851851855],\"yaxis\":\"y\",\"type\":\"scatter\"},{\"hovertemplate\":\"color=SUBCOMPACT<br>animation_frame=2009<br>x=%{x}<br>y=%{y}<extra></extra>\",\"ids\":[\"SUBCOMPACT\"],\"legendgroup\":\"SUBCOMPACT\",\"line\":{\"color\":\"#511CFB\",\"dash\":\"solid\"},\"marker\":{\"symbol\":\"circle\"},\"mode\":\"markers+lines\",\"name\":\"SUBCOMPACT\",\"orientation\":\"v\",\"showlegend\":true,\"x\":[2009],\"xaxis\":\"x\",\"y\":[29.98989898989899],\"yaxis\":\"y\",\"type\":\"scatter\"},{\"hovertemplate\":\"color=SUV<br>animation_frame=2009<br>x=%{x}<br>y=%{y}<extra></extra>\",\"ids\":[\"SUV\"],\"legendgroup\":\"SUV\",\"line\":{\"color\":\"#00A08B\",\"dash\":\"solid\"},\"marker\":{\"symbol\":\"circle\"},\"mode\":\"markers+lines\",\"name\":\"SUV\",\"orientation\":\"v\",\"showlegend\":true,\"x\":[2009],\"xaxis\":\"x\",\"y\":[25.100746268656717],\"yaxis\":\"y\",\"type\":\"scatter\"},{\"hovertemplate\":\"color=TWO-SEATER<br>animation_frame=2009<br>x=%{x}<br>y=%{y}<extra></extra>\",\"ids\":[\"TWO-SEATER\"],\"legendgroup\":\"TWO-SEATER\",\"line\":{\"color\":\"#FB00D1\",\"dash\":\"solid\"},\"marker\":{\"symbol\":\"circle\"},\"mode\":\"markers+lines\",\"name\":\"TWO-SEATER\",\"orientation\":\"v\",\"showlegend\":true,\"x\":[2009],\"xaxis\":\"x\",\"y\":[24.109375],\"yaxis\":\"y\",\"type\":\"scatter\"},{\"hovertemplate\":\"color=VAN - CARGO<br>animation_frame=2009<br>x=%{x}<br>y=%{y}<extra></extra>\",\"ids\":[\"VAN - CARGO\"],\"legendgroup\":\"VAN - CARGO\",\"line\":{\"color\":\"#FC0080\",\"dash\":\"solid\"},\"marker\":{\"symbol\":\"circle\"},\"mode\":\"markers+lines\",\"name\":\"VAN - CARGO\",\"orientation\":\"v\",\"showlegend\":true,\"x\":[2009],\"xaxis\":\"x\",\"y\":[18.53846153846154],\"yaxis\":\"y\",\"type\":\"scatter\"},{\"hovertemplate\":\"color=VAN - PASSENGER<br>animation_frame=2009<br>x=%{x}<br>y=%{y}<extra></extra>\",\"ids\":[\"VAN - PASSENGER\"],\"legendgroup\":\"VAN - PASSENGER\",\"line\":{\"color\":\"#B2828D\",\"dash\":\"solid\"},\"marker\":{\"symbol\":\"circle\"},\"mode\":\"markers+lines\",\"name\":\"VAN - PASSENGER\",\"orientation\":\"v\",\"showlegend\":true,\"x\":[2009],\"xaxis\":\"x\",\"y\":[17.666666666666668],\"yaxis\":\"y\",\"type\":\"scatter\"}],\"name\":\"2009\"},{\"data\":[{\"hovertemplate\":\"color=COMPACT<br>animation_frame=2010<br>x=%{x}<br>y=%{y}<extra></extra>\",\"ids\":[\"COMPACT\"],\"legendgroup\":\"COMPACT\",\"line\":{\"color\":\"#2E91E5\",\"dash\":\"solid\"},\"marker\":{\"symbol\":\"circle\"},\"mode\":\"markers+lines\",\"name\":\"COMPACT\",\"orientation\":\"v\",\"showlegend\":true,\"x\":[2010],\"xaxis\":\"x\",\"y\":[32.17142857142857],\"yaxis\":\"y\",\"type\":\"scatter\"},{\"hovertemplate\":\"color=FULL-SIZE<br>animation_frame=2010<br>x=%{x}<br>y=%{y}<extra></extra>\",\"ids\":[\"FULL-SIZE\"],\"legendgroup\":\"FULL-SIZE\",\"line\":{\"color\":\"#E15F99\",\"dash\":\"solid\"},\"marker\":{\"symbol\":\"circle\"},\"mode\":\"markers+lines\",\"name\":\"FULL-SIZE\",\"orientation\":\"v\",\"showlegend\":true,\"x\":[2010],\"xaxis\":\"x\",\"y\":[24.441558441558442],\"yaxis\":\"y\",\"type\":\"scatter\"},{\"hovertemplate\":\"color=MID-SIZE<br>animation_frame=2010<br>x=%{x}<br>y=%{y}<extra></extra>\",\"ids\":[\"MID-SIZE\"],\"legendgroup\":\"MID-SIZE\",\"line\":{\"color\":\"#1CA71C\",\"dash\":\"solid\"},\"marker\":{\"symbol\":\"circle\"},\"mode\":\"markers+lines\",\"name\":\"MID-SIZE\",\"orientation\":\"v\",\"showlegend\":true,\"x\":[2010],\"xaxis\":\"x\",\"y\":[29.95],\"yaxis\":\"y\",\"type\":\"scatter\"},{\"hovertemplate\":\"color=MINICOMPACT<br>animation_frame=2010<br>x=%{x}<br>y=%{y}<extra></extra>\",\"ids\":[\"MINICOMPACT\"],\"legendgroup\":\"MINICOMPACT\",\"line\":{\"color\":\"#FB0D0D\",\"dash\":\"solid\"},\"marker\":{\"symbol\":\"circle\"},\"mode\":\"markers+lines\",\"name\":\"MINICOMPACT\",\"orientation\":\"v\",\"showlegend\":true,\"x\":[2010],\"xaxis\":\"x\",\"y\":[30.4390243902439],\"yaxis\":\"y\",\"type\":\"scatter\"},{\"hovertemplate\":\"color=MINIVAN<br>animation_frame=2010<br>x=%{x}<br>y=%{y}<extra></extra>\",\"ids\":[\"MINIVAN\"],\"legendgroup\":\"MINIVAN\",\"line\":{\"color\":\"#DA16FF\",\"dash\":\"solid\"},\"marker\":{\"symbol\":\"circle\"},\"mode\":\"markers+lines\",\"name\":\"MINIVAN\",\"orientation\":\"v\",\"showlegend\":true,\"x\":[2010],\"xaxis\":\"x\",\"y\":[26.142857142857142],\"yaxis\":\"y\",\"type\":\"scatter\"},{\"hovertemplate\":\"color=PICKUP TRUCK - SMALL<br>animation_frame=2010<br>x=%{x}<br>y=%{y}<extra></extra>\",\"ids\":[\"PICKUP TRUCK - SMALL\"],\"legendgroup\":\"PICKUP TRUCK - SMALL\",\"line\":{\"color\":\"#222A2A\",\"dash\":\"solid\"},\"marker\":{\"symbol\":\"circle\"},\"mode\":\"markers+lines\",\"name\":\"PICKUP TRUCK - SMALL\",\"orientation\":\"v\",\"showlegend\":true,\"x\":[2010],\"xaxis\":\"x\",\"y\":[25.48148148148148],\"yaxis\":\"y\",\"type\":\"scatter\"},{\"hovertemplate\":\"color=PICKUP TRUCK - STANDARD<br>animation_frame=2010<br>x=%{x}<br>y=%{y}<extra></extra>\",\"ids\":[\"PICKUP TRUCK - STANDARD\"],\"legendgroup\":\"PICKUP TRUCK - STANDARD\",\"line\":{\"color\":\"#B68100\",\"dash\":\"solid\"},\"marker\":{\"symbol\":\"circle\"},\"mode\":\"markers+lines\",\"name\":\"PICKUP TRUCK - STANDARD\",\"orientation\":\"v\",\"showlegend\":true,\"x\":[2010],\"xaxis\":\"x\",\"y\":[20.054794520547944],\"yaxis\":\"y\",\"type\":\"scatter\"},{\"hovertemplate\":\"color=STATION WAGON - MID-SIZE<br>animation_frame=2010<br>x=%{x}<br>y=%{y}<extra></extra>\",\"ids\":[\"STATION WAGON - MID-SIZE\"],\"legendgroup\":\"STATION WAGON - MID-SIZE\",\"line\":{\"color\":\"#750D86\",\"dash\":\"solid\"},\"marker\":{\"symbol\":\"circle\"},\"mode\":\"markers+lines\",\"name\":\"STATION WAGON - MID-SIZE\",\"orientation\":\"v\",\"showlegend\":true,\"x\":[2010],\"xaxis\":\"x\",\"y\":[28.88888888888889],\"yaxis\":\"y\",\"type\":\"scatter\"},{\"hovertemplate\":\"color=STATION WAGON - SMALL<br>animation_frame=2010<br>x=%{x}<br>y=%{y}<extra></extra>\",\"ids\":[\"STATION WAGON - SMALL\"],\"legendgroup\":\"STATION WAGON - SMALL\",\"line\":{\"color\":\"#EB663B\",\"dash\":\"solid\"},\"marker\":{\"symbol\":\"circle\"},\"mode\":\"markers+lines\",\"name\":\"STATION WAGON - SMALL\",\"orientation\":\"v\",\"showlegend\":true,\"x\":[2010],\"xaxis\":\"x\",\"y\":[33.56666666666667],\"yaxis\":\"y\",\"type\":\"scatter\"},{\"hovertemplate\":\"color=SUBCOMPACT<br>animation_frame=2010<br>x=%{x}<br>y=%{y}<extra></extra>\",\"ids\":[\"SUBCOMPACT\"],\"legendgroup\":\"SUBCOMPACT\",\"line\":{\"color\":\"#511CFB\",\"dash\":\"solid\"},\"marker\":{\"symbol\":\"circle\"},\"mode\":\"markers+lines\",\"name\":\"SUBCOMPACT\",\"orientation\":\"v\",\"showlegend\":true,\"x\":[2010],\"xaxis\":\"x\",\"y\":[30.510204081632654],\"yaxis\":\"y\",\"type\":\"scatter\"},{\"hovertemplate\":\"color=SUV<br>animation_frame=2010<br>x=%{x}<br>y=%{y}<extra></extra>\",\"ids\":[\"SUV\"],\"legendgroup\":\"SUV\",\"line\":{\"color\":\"#00A08B\",\"dash\":\"solid\"},\"marker\":{\"symbol\":\"circle\"},\"mode\":\"markers+lines\",\"name\":\"SUV\",\"orientation\":\"v\",\"showlegend\":true,\"x\":[2010],\"xaxis\":\"x\",\"y\":[26.417670682730925],\"yaxis\":\"y\",\"type\":\"scatter\"},{\"hovertemplate\":\"color=TWO-SEATER<br>animation_frame=2010<br>x=%{x}<br>y=%{y}<extra></extra>\",\"ids\":[\"TWO-SEATER\"],\"legendgroup\":\"TWO-SEATER\",\"line\":{\"color\":\"#FB00D1\",\"dash\":\"solid\"},\"marker\":{\"symbol\":\"circle\"},\"mode\":\"markers+lines\",\"name\":\"TWO-SEATER\",\"orientation\":\"v\",\"showlegend\":true,\"x\":[2010],\"xaxis\":\"x\",\"y\":[25.16949152542373],\"yaxis\":\"y\",\"type\":\"scatter\"},{\"hovertemplate\":\"color=VAN - CARGO<br>animation_frame=2010<br>x=%{x}<br>y=%{y}<extra></extra>\",\"ids\":[\"VAN - CARGO\"],\"legendgroup\":\"VAN - CARGO\",\"line\":{\"color\":\"#FC0080\",\"dash\":\"solid\"},\"marker\":{\"symbol\":\"circle\"},\"mode\":\"markers+lines\",\"name\":\"VAN - CARGO\",\"orientation\":\"v\",\"showlegend\":true,\"x\":[2010],\"xaxis\":\"x\",\"y\":[17.666666666666668],\"yaxis\":\"y\",\"type\":\"scatter\"},{\"hovertemplate\":\"color=VAN - PASSENGER<br>animation_frame=2010<br>x=%{x}<br>y=%{y}<extra></extra>\",\"ids\":[\"VAN - PASSENGER\"],\"legendgroup\":\"VAN - PASSENGER\",\"line\":{\"color\":\"#B2828D\",\"dash\":\"solid\"},\"marker\":{\"symbol\":\"circle\"},\"mode\":\"markers+lines\",\"name\":\"VAN - PASSENGER\",\"orientation\":\"v\",\"showlegend\":true,\"x\":[2010],\"xaxis\":\"x\",\"y\":[16.75],\"yaxis\":\"y\",\"type\":\"scatter\"},{\"hovertemplate\":\"color=SPECIAL PURPOSE VEHICLE<br>animation_frame=2010<br>x=%{x}<br>y=%{y}<extra></extra>\",\"ids\":[\"SPECIAL PURPOSE VEHICLE\"],\"legendgroup\":\"SPECIAL PURPOSE VEHICLE\",\"line\":{\"color\":\"#778AAE\",\"dash\":\"solid\"},\"marker\":{\"symbol\":\"circle\"},\"mode\":\"markers+lines\",\"name\":\"SPECIAL PURPOSE VEHICLE\",\"orientation\":\"v\",\"showlegend\":true,\"x\":[2010],\"xaxis\":\"x\",\"y\":[32.0],\"yaxis\":\"y\",\"type\":\"scatter\"}],\"name\":\"2010\"},{\"data\":[{\"hovertemplate\":\"color=COMPACT<br>animation_frame=2011<br>x=%{x}<br>y=%{y}<extra></extra>\",\"ids\":[\"COMPACT\"],\"legendgroup\":\"COMPACT\",\"line\":{\"color\":\"#2E91E5\",\"dash\":\"solid\"},\"marker\":{\"symbol\":\"circle\"},\"mode\":\"markers+lines\",\"name\":\"COMPACT\",\"orientation\":\"v\",\"showlegend\":true,\"x\":[2011],\"xaxis\":\"x\",\"y\":[33.653225806451616],\"yaxis\":\"y\",\"type\":\"scatter\"},{\"hovertemplate\":\"color=FULL-SIZE<br>animation_frame=2011<br>x=%{x}<br>y=%{y}<extra></extra>\",\"ids\":[\"FULL-SIZE\"],\"legendgroup\":\"FULL-SIZE\",\"line\":{\"color\":\"#E15F99\",\"dash\":\"solid\"},\"marker\":{\"symbol\":\"circle\"},\"mode\":\"markers+lines\",\"name\":\"FULL-SIZE\",\"orientation\":\"v\",\"showlegend\":true,\"x\":[2011],\"xaxis\":\"x\",\"y\":[25.08450704225352],\"yaxis\":\"y\",\"type\":\"scatter\"},{\"hovertemplate\":\"color=MID-SIZE<br>animation_frame=2011<br>x=%{x}<br>y=%{y}<extra></extra>\",\"ids\":[\"MID-SIZE\"],\"legendgroup\":\"MID-SIZE\",\"line\":{\"color\":\"#1CA71C\",\"dash\":\"solid\"},\"marker\":{\"symbol\":\"circle\"},\"mode\":\"markers+lines\",\"name\":\"MID-SIZE\",\"orientation\":\"v\",\"showlegend\":true,\"x\":[2011],\"xaxis\":\"x\",\"y\":[31.96969696969697],\"yaxis\":\"y\",\"type\":\"scatter\"},{\"hovertemplate\":\"color=MINICOMPACT<br>animation_frame=2011<br>x=%{x}<br>y=%{y}<extra></extra>\",\"ids\":[\"MINICOMPACT\"],\"legendgroup\":\"MINICOMPACT\",\"line\":{\"color\":\"#FB0D0D\",\"dash\":\"solid\"},\"marker\":{\"symbol\":\"circle\"},\"mode\":\"markers+lines\",\"name\":\"MINICOMPACT\",\"orientation\":\"v\",\"showlegend\":true,\"x\":[2011],\"xaxis\":\"x\",\"y\":[30.169811320754718],\"yaxis\":\"y\",\"type\":\"scatter\"},{\"hovertemplate\":\"color=MINIVAN<br>animation_frame=2011<br>x=%{x}<br>y=%{y}<extra></extra>\",\"ids\":[\"MINIVAN\"],\"legendgroup\":\"MINIVAN\",\"line\":{\"color\":\"#DA16FF\",\"dash\":\"solid\"},\"marker\":{\"symbol\":\"circle\"},\"mode\":\"markers+lines\",\"name\":\"MINIVAN\",\"orientation\":\"v\",\"showlegend\":true,\"x\":[2011],\"xaxis\":\"x\",\"y\":[25.5],\"yaxis\":\"y\",\"type\":\"scatter\"},{\"hovertemplate\":\"color=PICKUP TRUCK - SMALL<br>animation_frame=2011<br>x=%{x}<br>y=%{y}<extra></extra>\",\"ids\":[\"PICKUP TRUCK - SMALL\"],\"legendgroup\":\"PICKUP TRUCK - SMALL\",\"line\":{\"color\":\"#222A2A\",\"dash\":\"solid\"},\"marker\":{\"symbol\":\"circle\"},\"mode\":\"markers+lines\",\"name\":\"PICKUP TRUCK - SMALL\",\"orientation\":\"v\",\"showlegend\":true,\"x\":[2011],\"xaxis\":\"x\",\"y\":[25.529411764705884],\"yaxis\":\"y\",\"type\":\"scatter\"},{\"hovertemplate\":\"color=PICKUP TRUCK - STANDARD<br>animation_frame=2011<br>x=%{x}<br>y=%{y}<extra></extra>\",\"ids\":[\"PICKUP TRUCK - STANDARD\"],\"legendgroup\":\"PICKUP TRUCK - STANDARD\",\"line\":{\"color\":\"#B68100\",\"dash\":\"solid\"},\"marker\":{\"symbol\":\"circle\"},\"mode\":\"markers+lines\",\"name\":\"PICKUP TRUCK - STANDARD\",\"orientation\":\"v\",\"showlegend\":true,\"x\":[2011],\"xaxis\":\"x\",\"y\":[20.270588235294117],\"yaxis\":\"y\",\"type\":\"scatter\"},{\"hovertemplate\":\"color=STATION WAGON - MID-SIZE<br>animation_frame=2011<br>x=%{x}<br>y=%{y}<extra></extra>\",\"ids\":[\"STATION WAGON - MID-SIZE\"],\"legendgroup\":\"STATION WAGON - MID-SIZE\",\"line\":{\"color\":\"#750D86\",\"dash\":\"solid\"},\"marker\":{\"symbol\":\"circle\"},\"mode\":\"markers+lines\",\"name\":\"STATION WAGON - MID-SIZE\",\"orientation\":\"v\",\"showlegend\":true,\"x\":[2011],\"xaxis\":\"x\",\"y\":[28.5],\"yaxis\":\"y\",\"type\":\"scatter\"},{\"hovertemplate\":\"color=STATION WAGON - SMALL<br>animation_frame=2011<br>x=%{x}<br>y=%{y}<extra></extra>\",\"ids\":[\"STATION WAGON - SMALL\"],\"legendgroup\":\"STATION WAGON - SMALL\",\"line\":{\"color\":\"#EB663B\",\"dash\":\"solid\"},\"marker\":{\"symbol\":\"circle\"},\"mode\":\"markers+lines\",\"name\":\"STATION WAGON - SMALL\",\"orientation\":\"v\",\"showlegend\":true,\"x\":[2011],\"xaxis\":\"x\",\"y\":[33.55357142857143],\"yaxis\":\"y\",\"type\":\"scatter\"},{\"hovertemplate\":\"color=SUBCOMPACT<br>animation_frame=2011<br>x=%{x}<br>y=%{y}<extra></extra>\",\"ids\":[\"SUBCOMPACT\"],\"legendgroup\":\"SUBCOMPACT\",\"line\":{\"color\":\"#511CFB\",\"dash\":\"solid\"},\"marker\":{\"symbol\":\"circle\"},\"mode\":\"markers+lines\",\"name\":\"SUBCOMPACT\",\"orientation\":\"v\",\"showlegend\":true,\"x\":[2011],\"xaxis\":\"x\",\"y\":[31.01923076923077],\"yaxis\":\"y\",\"type\":\"scatter\"},{\"hovertemplate\":\"color=SUV<br>animation_frame=2011<br>x=%{x}<br>y=%{y}<extra></extra>\",\"ids\":[\"SUV\"],\"legendgroup\":\"SUV\",\"line\":{\"color\":\"#00A08B\",\"dash\":\"solid\"},\"marker\":{\"symbol\":\"circle\"},\"mode\":\"markers+lines\",\"name\":\"SUV\",\"orientation\":\"v\",\"showlegend\":true,\"x\":[2011],\"xaxis\":\"x\",\"y\":[26.600746268656717],\"yaxis\":\"y\",\"type\":\"scatter\"},{\"hovertemplate\":\"color=TWO-SEATER<br>animation_frame=2011<br>x=%{x}<br>y=%{y}<extra></extra>\",\"ids\":[\"TWO-SEATER\"],\"legendgroup\":\"TWO-SEATER\",\"line\":{\"color\":\"#FB00D1\",\"dash\":\"solid\"},\"marker\":{\"symbol\":\"circle\"},\"mode\":\"markers+lines\",\"name\":\"TWO-SEATER\",\"orientation\":\"v\",\"showlegend\":true,\"x\":[2011],\"xaxis\":\"x\",\"y\":[26.65625],\"yaxis\":\"y\",\"type\":\"scatter\"},{\"hovertemplate\":\"color=VAN - CARGO<br>animation_frame=2011<br>x=%{x}<br>y=%{y}<extra></extra>\",\"ids\":[\"VAN - CARGO\"],\"legendgroup\":\"VAN - CARGO\",\"line\":{\"color\":\"#FC0080\",\"dash\":\"solid\"},\"marker\":{\"symbol\":\"circle\"},\"mode\":\"markers+lines\",\"name\":\"VAN - CARGO\",\"orientation\":\"v\",\"showlegend\":true,\"x\":[2011],\"xaxis\":\"x\",\"y\":[17.454545454545453],\"yaxis\":\"y\",\"type\":\"scatter\"},{\"hovertemplate\":\"color=VAN - PASSENGER<br>animation_frame=2011<br>x=%{x}<br>y=%{y}<extra></extra>\",\"ids\":[\"VAN - PASSENGER\"],\"legendgroup\":\"VAN - PASSENGER\",\"line\":{\"color\":\"#B2828D\",\"dash\":\"solid\"},\"marker\":{\"symbol\":\"circle\"},\"mode\":\"markers+lines\",\"name\":\"VAN - PASSENGER\",\"orientation\":\"v\",\"showlegend\":true,\"x\":[2011],\"xaxis\":\"x\",\"y\":[15.62962962962963],\"yaxis\":\"y\",\"type\":\"scatter\"},{\"hovertemplate\":\"color=SPECIAL PURPOSE VEHICLE<br>animation_frame=2011<br>x=%{x}<br>y=%{y}<extra></extra>\",\"ids\":[\"SPECIAL PURPOSE VEHICLE\"],\"legendgroup\":\"SPECIAL PURPOSE VEHICLE\",\"line\":{\"color\":\"#778AAE\",\"dash\":\"solid\"},\"marker\":{\"symbol\":\"circle\"},\"mode\":\"markers+lines\",\"name\":\"SPECIAL PURPOSE VEHICLE\",\"orientation\":\"v\",\"showlegend\":true,\"x\":[2011],\"xaxis\":\"x\",\"y\":[31.0],\"yaxis\":\"y\",\"type\":\"scatter\"}],\"name\":\"2011\"},{\"data\":[{\"hovertemplate\":\"color=COMPACT<br>animation_frame=2012<br>x=%{x}<br>y=%{y}<extra></extra>\",\"ids\":[\"COMPACT\"],\"legendgroup\":\"COMPACT\",\"line\":{\"color\":\"#2E91E5\",\"dash\":\"solid\"},\"marker\":{\"symbol\":\"circle\"},\"mode\":\"markers+lines\",\"name\":\"COMPACT\",\"orientation\":\"v\",\"showlegend\":true,\"x\":[2012],\"xaxis\":\"x\",\"y\":[35.06015037593985],\"yaxis\":\"y\",\"type\":\"scatter\"},{\"hovertemplate\":\"color=FULL-SIZE<br>animation_frame=2012<br>x=%{x}<br>y=%{y}<extra></extra>\",\"ids\":[\"FULL-SIZE\"],\"legendgroup\":\"FULL-SIZE\",\"line\":{\"color\":\"#E15F99\",\"dash\":\"solid\"},\"marker\":{\"symbol\":\"circle\"},\"mode\":\"markers+lines\",\"name\":\"FULL-SIZE\",\"orientation\":\"v\",\"showlegend\":true,\"x\":[2012],\"xaxis\":\"x\",\"y\":[26.098765432098766],\"yaxis\":\"y\",\"type\":\"scatter\"},{\"hovertemplate\":\"color=MID-SIZE<br>animation_frame=2012<br>x=%{x}<br>y=%{y}<extra></extra>\",\"ids\":[\"MID-SIZE\"],\"legendgroup\":\"MID-SIZE\",\"line\":{\"color\":\"#1CA71C\",\"dash\":\"solid\"},\"marker\":{\"symbol\":\"circle\"},\"mode\":\"markers+lines\",\"name\":\"MID-SIZE\",\"orientation\":\"v\",\"showlegend\":true,\"x\":[2012],\"xaxis\":\"x\",\"y\":[32.86259541984733],\"yaxis\":\"y\",\"type\":\"scatter\"},{\"hovertemplate\":\"color=MINICOMPACT<br>animation_frame=2012<br>x=%{x}<br>y=%{y}<extra></extra>\",\"ids\":[\"MINICOMPACT\"],\"legendgroup\":\"MINICOMPACT\",\"line\":{\"color\":\"#FB0D0D\",\"dash\":\"solid\"},\"marker\":{\"symbol\":\"circle\"},\"mode\":\"markers+lines\",\"name\":\"MINICOMPACT\",\"orientation\":\"v\",\"showlegend\":true,\"x\":[2012],\"xaxis\":\"x\",\"y\":[30.56578947368421],\"yaxis\":\"y\",\"type\":\"scatter\"},{\"hovertemplate\":\"color=MINIVAN<br>animation_frame=2012<br>x=%{x}<br>y=%{y}<extra></extra>\",\"ids\":[\"MINIVAN\"],\"legendgroup\":\"MINIVAN\",\"line\":{\"color\":\"#DA16FF\",\"dash\":\"solid\"},\"marker\":{\"symbol\":\"circle\"},\"mode\":\"markers+lines\",\"name\":\"MINIVAN\",\"orientation\":\"v\",\"showlegend\":true,\"x\":[2012],\"xaxis\":\"x\",\"y\":[27.375],\"yaxis\":\"y\",\"type\":\"scatter\"},{\"hovertemplate\":\"color=PICKUP TRUCK - SMALL<br>animation_frame=2012<br>x=%{x}<br>y=%{y}<extra></extra>\",\"ids\":[\"PICKUP TRUCK - SMALL\"],\"legendgroup\":\"PICKUP TRUCK - SMALL\",\"line\":{\"color\":\"#222A2A\",\"dash\":\"solid\"},\"marker\":{\"symbol\":\"circle\"},\"mode\":\"markers+lines\",\"name\":\"PICKUP TRUCK - SMALL\",\"orientation\":\"v\",\"showlegend\":true,\"x\":[2012],\"xaxis\":\"x\",\"y\":[25.767441860465116],\"yaxis\":\"y\",\"type\":\"scatter\"},{\"hovertemplate\":\"color=PICKUP TRUCK - STANDARD<br>animation_frame=2012<br>x=%{x}<br>y=%{y}<extra></extra>\",\"ids\":[\"PICKUP TRUCK - STANDARD\"],\"legendgroup\":\"PICKUP TRUCK - STANDARD\",\"line\":{\"color\":\"#B68100\",\"dash\":\"solid\"},\"marker\":{\"symbol\":\"circle\"},\"mode\":\"markers+lines\",\"name\":\"PICKUP TRUCK - STANDARD\",\"orientation\":\"v\",\"showlegend\":true,\"x\":[2012],\"xaxis\":\"x\",\"y\":[20.468354430379748],\"yaxis\":\"y\",\"type\":\"scatter\"},{\"hovertemplate\":\"color=STATION WAGON - MID-SIZE<br>animation_frame=2012<br>x=%{x}<br>y=%{y}<extra></extra>\",\"ids\":[\"STATION WAGON - MID-SIZE\"],\"legendgroup\":\"STATION WAGON - MID-SIZE\",\"line\":{\"color\":\"#750D86\",\"dash\":\"solid\"},\"marker\":{\"symbol\":\"circle\"},\"mode\":\"markers+lines\",\"name\":\"STATION WAGON - MID-SIZE\",\"orientation\":\"v\",\"showlegend\":true,\"x\":[2012],\"xaxis\":\"x\",\"y\":[35.0],\"yaxis\":\"y\",\"type\":\"scatter\"},{\"hovertemplate\":\"color=STATION WAGON - SMALL<br>animation_frame=2012<br>x=%{x}<br>y=%{y}<extra></extra>\",\"ids\":[\"STATION WAGON - SMALL\"],\"legendgroup\":\"STATION WAGON - SMALL\",\"line\":{\"color\":\"#EB663B\",\"dash\":\"solid\"},\"marker\":{\"symbol\":\"circle\"},\"mode\":\"markers+lines\",\"name\":\"STATION WAGON - SMALL\",\"orientation\":\"v\",\"showlegend\":true,\"x\":[2012],\"xaxis\":\"x\",\"y\":[34.57446808510638],\"yaxis\":\"y\",\"type\":\"scatter\"},{\"hovertemplate\":\"color=SUBCOMPACT<br>animation_frame=2012<br>x=%{x}<br>y=%{y}<extra></extra>\",\"ids\":[\"SUBCOMPACT\"],\"legendgroup\":\"SUBCOMPACT\",\"line\":{\"color\":\"#511CFB\",\"dash\":\"solid\"},\"marker\":{\"symbol\":\"circle\"},\"mode\":\"markers+lines\",\"name\":\"SUBCOMPACT\",\"orientation\":\"v\",\"showlegend\":true,\"x\":[2012],\"xaxis\":\"x\",\"y\":[30.735294117647058],\"yaxis\":\"y\",\"type\":\"scatter\"},{\"hovertemplate\":\"color=SUV<br>animation_frame=2012<br>x=%{x}<br>y=%{y}<extra></extra>\",\"ids\":[\"SUV\"],\"legendgroup\":\"SUV\",\"line\":{\"color\":\"#00A08B\",\"dash\":\"solid\"},\"marker\":{\"symbol\":\"circle\"},\"mode\":\"markers+lines\",\"name\":\"SUV\",\"orientation\":\"v\",\"showlegend\":true,\"x\":[2012],\"xaxis\":\"x\",\"y\":[26.57872340425532],\"yaxis\":\"y\",\"type\":\"scatter\"},{\"hovertemplate\":\"color=TWO-SEATER<br>animation_frame=2012<br>x=%{x}<br>y=%{y}<extra></extra>\",\"ids\":[\"TWO-SEATER\"],\"legendgroup\":\"TWO-SEATER\",\"line\":{\"color\":\"#FB00D1\",\"dash\":\"solid\"},\"marker\":{\"symbol\":\"circle\"},\"mode\":\"markers+lines\",\"name\":\"TWO-SEATER\",\"orientation\":\"v\",\"showlegend\":true,\"x\":[2012],\"xaxis\":\"x\",\"y\":[29.289473684210527],\"yaxis\":\"y\",\"type\":\"scatter\"},{\"hovertemplate\":\"color=VAN - CARGO<br>animation_frame=2012<br>x=%{x}<br>y=%{y}<extra></extra>\",\"ids\":[\"VAN - CARGO\"],\"legendgroup\":\"VAN - CARGO\",\"line\":{\"color\":\"#FC0080\",\"dash\":\"solid\"},\"marker\":{\"symbol\":\"circle\"},\"mode\":\"markers+lines\",\"name\":\"VAN - CARGO\",\"orientation\":\"v\",\"showlegend\":true,\"x\":[2012],\"xaxis\":\"x\",\"y\":[17.40909090909091],\"yaxis\":\"y\",\"type\":\"scatter\"},{\"hovertemplate\":\"color=VAN - PASSENGER<br>animation_frame=2012<br>x=%{x}<br>y=%{y}<extra></extra>\",\"ids\":[\"VAN - PASSENGER\"],\"legendgroup\":\"VAN - PASSENGER\",\"line\":{\"color\":\"#B2828D\",\"dash\":\"solid\"},\"marker\":{\"symbol\":\"circle\"},\"mode\":\"markers+lines\",\"name\":\"VAN - PASSENGER\",\"orientation\":\"v\",\"showlegend\":true,\"x\":[2012],\"xaxis\":\"x\",\"y\":[15.612903225806452],\"yaxis\":\"y\",\"type\":\"scatter\"},{\"hovertemplate\":\"color=SUV - STANDARD<br>animation_frame=2012<br>x=%{x}<br>y=%{y}<extra></extra>\",\"ids\":[\"SUV - STANDARD\"],\"legendgroup\":\"SUV - STANDARD\",\"line\":{\"color\":\"#6C7C32\",\"dash\":\"solid\"},\"marker\":{\"symbol\":\"circle\"},\"mode\":\"markers+lines\",\"name\":\"SUV - STANDARD\",\"orientation\":\"v\",\"showlegend\":true,\"x\":[2012],\"xaxis\":\"x\",\"y\":[25.5],\"yaxis\":\"y\",\"type\":\"scatter\"},{\"hovertemplate\":\"color=SPECIAL PURPOSE VEHICLE<br>animation_frame=2012<br>x=%{x}<br>y=%{y}<extra></extra>\",\"ids\":[\"SPECIAL PURPOSE VEHICLE\"],\"legendgroup\":\"SPECIAL PURPOSE VEHICLE\",\"line\":{\"color\":\"#778AAE\",\"dash\":\"solid\"},\"marker\":{\"symbol\":\"circle\"},\"mode\":\"markers+lines\",\"name\":\"SPECIAL PURPOSE VEHICLE\",\"orientation\":\"v\",\"showlegend\":true,\"x\":[2012],\"xaxis\":\"x\",\"y\":[32.5],\"yaxis\":\"y\",\"type\":\"scatter\"}],\"name\":\"2012\"},{\"data\":[{\"hovertemplate\":\"color=COMPACT<br>animation_frame=2013<br>x=%{x}<br>y=%{y}<extra></extra>\",\"ids\":[\"COMPACT\"],\"legendgroup\":\"COMPACT\",\"line\":{\"color\":\"#2E91E5\",\"dash\":\"solid\"},\"marker\":{\"symbol\":\"circle\"},\"mode\":\"markers+lines\",\"name\":\"COMPACT\",\"orientation\":\"v\",\"showlegend\":true,\"x\":[2013],\"xaxis\":\"x\",\"y\":[35.214285714285715],\"yaxis\":\"y\",\"type\":\"scatter\"},{\"hovertemplate\":\"color=FULL-SIZE<br>animation_frame=2013<br>x=%{x}<br>y=%{y}<extra></extra>\",\"ids\":[\"FULL-SIZE\"],\"legendgroup\":\"FULL-SIZE\",\"line\":{\"color\":\"#E15F99\",\"dash\":\"solid\"},\"marker\":{\"symbol\":\"circle\"},\"mode\":\"markers+lines\",\"name\":\"FULL-SIZE\",\"orientation\":\"v\",\"showlegend\":true,\"x\":[2013],\"xaxis\":\"x\",\"y\":[26.894736842105264],\"yaxis\":\"y\",\"type\":\"scatter\"},{\"hovertemplate\":\"color=MID-SIZE<br>animation_frame=2013<br>x=%{x}<br>y=%{y}<extra></extra>\",\"ids\":[\"MID-SIZE\"],\"legendgroup\":\"MID-SIZE\",\"line\":{\"color\":\"#1CA71C\",\"dash\":\"solid\"},\"marker\":{\"symbol\":\"circle\"},\"mode\":\"markers+lines\",\"name\":\"MID-SIZE\",\"orientation\":\"v\",\"showlegend\":true,\"x\":[2013],\"xaxis\":\"x\",\"y\":[35.44444444444444],\"yaxis\":\"y\",\"type\":\"scatter\"},{\"hovertemplate\":\"color=MINICOMPACT<br>animation_frame=2013<br>x=%{x}<br>y=%{y}<extra></extra>\",\"ids\":[\"MINICOMPACT\"],\"legendgroup\":\"MINICOMPACT\",\"line\":{\"color\":\"#FB0D0D\",\"dash\":\"solid\"},\"marker\":{\"symbol\":\"circle\"},\"mode\":\"markers+lines\",\"name\":\"MINICOMPACT\",\"orientation\":\"v\",\"showlegend\":true,\"x\":[2013],\"xaxis\":\"x\",\"y\":[34.41509433962264],\"yaxis\":\"y\",\"type\":\"scatter\"},{\"hovertemplate\":\"color=MINIVAN<br>animation_frame=2013<br>x=%{x}<br>y=%{y}<extra></extra>\",\"ids\":[\"MINIVAN\"],\"legendgroup\":\"MINIVAN\",\"line\":{\"color\":\"#DA16FF\",\"dash\":\"solid\"},\"marker\":{\"symbol\":\"circle\"},\"mode\":\"markers+lines\",\"name\":\"MINIVAN\",\"orientation\":\"v\",\"showlegend\":true,\"x\":[2013],\"xaxis\":\"x\",\"y\":[27.2],\"yaxis\":\"y\",\"type\":\"scatter\"},{\"hovertemplate\":\"color=PICKUP TRUCK - SMALL<br>animation_frame=2013<br>x=%{x}<br>y=%{y}<extra></extra>\",\"ids\":[\"PICKUP TRUCK - SMALL\"],\"legendgroup\":\"PICKUP TRUCK - SMALL\",\"line\":{\"color\":\"#222A2A\",\"dash\":\"solid\"},\"marker\":{\"symbol\":\"circle\"},\"mode\":\"markers+lines\",\"name\":\"PICKUP TRUCK - SMALL\",\"orientation\":\"v\",\"showlegend\":true,\"x\":[2013],\"xaxis\":\"x\",\"y\":[26.583333333333332],\"yaxis\":\"y\",\"type\":\"scatter\"},{\"hovertemplate\":\"color=PICKUP TRUCK - STANDARD<br>animation_frame=2013<br>x=%{x}<br>y=%{y}<extra></extra>\",\"ids\":[\"PICKUP TRUCK - STANDARD\"],\"legendgroup\":\"PICKUP TRUCK - STANDARD\",\"line\":{\"color\":\"#B68100\",\"dash\":\"solid\"},\"marker\":{\"symbol\":\"circle\"},\"mode\":\"markers+lines\",\"name\":\"PICKUP TRUCK - STANDARD\",\"orientation\":\"v\",\"showlegend\":true,\"x\":[2013],\"xaxis\":\"x\",\"y\":[20.726190476190474],\"yaxis\":\"y\",\"type\":\"scatter\"},{\"hovertemplate\":\"color=STATION WAGON - MID-SIZE<br>animation_frame=2013<br>x=%{x}<br>y=%{y}<extra></extra>\",\"ids\":[\"STATION WAGON - MID-SIZE\"],\"legendgroup\":\"STATION WAGON - MID-SIZE\",\"line\":{\"color\":\"#750D86\",\"dash\":\"solid\"},\"marker\":{\"symbol\":\"circle\"},\"mode\":\"markers+lines\",\"name\":\"STATION WAGON - MID-SIZE\",\"orientation\":\"v\",\"showlegend\":true,\"x\":[2013],\"xaxis\":\"x\",\"y\":[39.0],\"yaxis\":\"y\",\"type\":\"scatter\"},{\"hovertemplate\":\"color=STATION WAGON - SMALL<br>animation_frame=2013<br>x=%{x}<br>y=%{y}<extra></extra>\",\"ids\":[\"STATION WAGON - SMALL\"],\"legendgroup\":\"STATION WAGON - SMALL\",\"line\":{\"color\":\"#EB663B\",\"dash\":\"solid\"},\"marker\":{\"symbol\":\"circle\"},\"mode\":\"markers+lines\",\"name\":\"STATION WAGON - SMALL\",\"orientation\":\"v\",\"showlegend\":true,\"x\":[2013],\"xaxis\":\"x\",\"y\":[34.79545454545455],\"yaxis\":\"y\",\"type\":\"scatter\"},{\"hovertemplate\":\"color=SUBCOMPACT<br>animation_frame=2013<br>x=%{x}<br>y=%{y}<extra></extra>\",\"ids\":[\"SUBCOMPACT\"],\"legendgroup\":\"SUBCOMPACT\",\"line\":{\"color\":\"#511CFB\",\"dash\":\"solid\"},\"marker\":{\"symbol\":\"circle\"},\"mode\":\"markers+lines\",\"name\":\"SUBCOMPACT\",\"orientation\":\"v\",\"showlegend\":true,\"x\":[2013],\"xaxis\":\"x\",\"y\":[30.63157894736842],\"yaxis\":\"y\",\"type\":\"scatter\"},{\"hovertemplate\":\"color=TWO-SEATER<br>animation_frame=2013<br>x=%{x}<br>y=%{y}<extra></extra>\",\"ids\":[\"TWO-SEATER\"],\"legendgroup\":\"TWO-SEATER\",\"line\":{\"color\":\"#FB00D1\",\"dash\":\"solid\"},\"marker\":{\"symbol\":\"circle\"},\"mode\":\"markers+lines\",\"name\":\"TWO-SEATER\",\"orientation\":\"v\",\"showlegend\":true,\"x\":[2013],\"xaxis\":\"x\",\"y\":[31.75862068965517],\"yaxis\":\"y\",\"type\":\"scatter\"},{\"hovertemplate\":\"color=VAN - CARGO<br>animation_frame=2013<br>x=%{x}<br>y=%{y}<extra></extra>\",\"ids\":[\"VAN - CARGO\"],\"legendgroup\":\"VAN - CARGO\",\"line\":{\"color\":\"#FC0080\",\"dash\":\"solid\"},\"marker\":{\"symbol\":\"circle\"},\"mode\":\"markers+lines\",\"name\":\"VAN - CARGO\",\"orientation\":\"v\",\"showlegend\":true,\"x\":[2013],\"xaxis\":\"x\",\"y\":[17.40909090909091],\"yaxis\":\"y\",\"type\":\"scatter\"},{\"hovertemplate\":\"color=VAN - PASSENGER<br>animation_frame=2013<br>x=%{x}<br>y=%{y}<extra></extra>\",\"ids\":[\"VAN - PASSENGER\"],\"legendgroup\":\"VAN - PASSENGER\",\"line\":{\"color\":\"#B2828D\",\"dash\":\"solid\"},\"marker\":{\"symbol\":\"circle\"},\"mode\":\"markers+lines\",\"name\":\"VAN - PASSENGER\",\"orientation\":\"v\",\"showlegend\":true,\"x\":[2013],\"xaxis\":\"x\",\"y\":[15.633333333333333],\"yaxis\":\"y\",\"type\":\"scatter\"},{\"hovertemplate\":\"color=SUV - STANDARD<br>animation_frame=2013<br>x=%{x}<br>y=%{y}<extra></extra>\",\"ids\":[\"SUV - STANDARD\"],\"legendgroup\":\"SUV - STANDARD\",\"line\":{\"color\":\"#6C7C32\",\"dash\":\"solid\"},\"marker\":{\"symbol\":\"circle\"},\"mode\":\"markers+lines\",\"name\":\"SUV - STANDARD\",\"orientation\":\"v\",\"showlegend\":true,\"x\":[2013],\"xaxis\":\"x\",\"y\":[22.396039603960396],\"yaxis\":\"y\",\"type\":\"scatter\"},{\"hovertemplate\":\"color=SPECIAL PURPOSE VEHICLE<br>animation_frame=2013<br>x=%{x}<br>y=%{y}<extra></extra>\",\"ids\":[\"SPECIAL PURPOSE VEHICLE\"],\"legendgroup\":\"SPECIAL PURPOSE VEHICLE\",\"line\":{\"color\":\"#778AAE\",\"dash\":\"solid\"},\"marker\":{\"symbol\":\"circle\"},\"mode\":\"markers+lines\",\"name\":\"SPECIAL PURPOSE VEHICLE\",\"orientation\":\"v\",\"showlegend\":true,\"x\":[2013],\"xaxis\":\"x\",\"y\":[31.6],\"yaxis\":\"y\",\"type\":\"scatter\"},{\"hovertemplate\":\"color=SUV - SMALL<br>animation_frame=2013<br>x=%{x}<br>y=%{y}<extra></extra>\",\"ids\":[\"SUV - SMALL\"],\"legendgroup\":\"SUV - SMALL\",\"line\":{\"color\":\"#862A16\",\"dash\":\"solid\"},\"marker\":{\"symbol\":\"circle\"},\"mode\":\"markers+lines\",\"name\":\"SUV - SMALL\",\"orientation\":\"v\",\"showlegend\":true,\"x\":[2013],\"xaxis\":\"x\",\"y\":[30.892086330935253],\"yaxis\":\"y\",\"type\":\"scatter\"}],\"name\":\"2013\"},{\"data\":[{\"hovertemplate\":\"color=COMPACT<br>animation_frame=2014<br>x=%{x}<br>y=%{y}<extra></extra>\",\"ids\":[\"COMPACT\"],\"legendgroup\":\"COMPACT\",\"line\":{\"color\":\"#2E91E5\",\"dash\":\"solid\"},\"marker\":{\"symbol\":\"circle\"},\"mode\":\"markers+lines\",\"name\":\"COMPACT\",\"orientation\":\"v\",\"showlegend\":true,\"x\":[2014],\"xaxis\":\"x\",\"y\":[36.19047619047619],\"yaxis\":\"y\",\"type\":\"scatter\"},{\"hovertemplate\":\"color=FULL-SIZE<br>animation_frame=2014<br>x=%{x}<br>y=%{y}<extra></extra>\",\"ids\":[\"FULL-SIZE\"],\"legendgroup\":\"FULL-SIZE\",\"line\":{\"color\":\"#E15F99\",\"dash\":\"solid\"},\"marker\":{\"symbol\":\"circle\"},\"mode\":\"markers+lines\",\"name\":\"FULL-SIZE\",\"orientation\":\"v\",\"showlegend\":true,\"x\":[2014],\"xaxis\":\"x\",\"y\":[27.607142857142858],\"yaxis\":\"y\",\"type\":\"scatter\"},{\"hovertemplate\":\"color=MID-SIZE<br>animation_frame=2014<br>x=%{x}<br>y=%{y}<extra></extra>\",\"ids\":[\"MID-SIZE\"],\"legendgroup\":\"MID-SIZE\",\"line\":{\"color\":\"#1CA71C\",\"dash\":\"solid\"},\"marker\":{\"symbol\":\"circle\"},\"mode\":\"markers+lines\",\"name\":\"MID-SIZE\",\"orientation\":\"v\",\"showlegend\":true,\"x\":[2014],\"xaxis\":\"x\",\"y\":[35.752941176470586],\"yaxis\":\"y\",\"type\":\"scatter\"},{\"hovertemplate\":\"color=MINICOMPACT<br>animation_frame=2014<br>x=%{x}<br>y=%{y}<extra></extra>\",\"ids\":[\"MINICOMPACT\"],\"legendgroup\":\"MINICOMPACT\",\"line\":{\"color\":\"#FB0D0D\",\"dash\":\"solid\"},\"marker\":{\"symbol\":\"circle\"},\"mode\":\"markers+lines\",\"name\":\"MINICOMPACT\",\"orientation\":\"v\",\"showlegend\":true,\"x\":[2014],\"xaxis\":\"x\",\"y\":[33.744680851063826],\"yaxis\":\"y\",\"type\":\"scatter\"},{\"hovertemplate\":\"color=MINIVAN<br>animation_frame=2014<br>x=%{x}<br>y=%{y}<extra></extra>\",\"ids\":[\"MINIVAN\"],\"legendgroup\":\"MINIVAN\",\"line\":{\"color\":\"#DA16FF\",\"dash\":\"solid\"},\"marker\":{\"symbol\":\"circle\"},\"mode\":\"markers+lines\",\"name\":\"MINIVAN\",\"orientation\":\"v\",\"showlegend\":true,\"x\":[2014],\"xaxis\":\"x\",\"y\":[26.928571428571427],\"yaxis\":\"y\",\"type\":\"scatter\"},{\"hovertemplate\":\"color=PICKUP TRUCK - SMALL<br>animation_frame=2014<br>x=%{x}<br>y=%{y}<extra></extra>\",\"ids\":[\"PICKUP TRUCK - SMALL\"],\"legendgroup\":\"PICKUP TRUCK - SMALL\",\"line\":{\"color\":\"#222A2A\",\"dash\":\"solid\"},\"marker\":{\"symbol\":\"circle\"},\"mode\":\"markers+lines\",\"name\":\"PICKUP TRUCK - SMALL\",\"orientation\":\"v\",\"showlegend\":true,\"x\":[2014],\"xaxis\":\"x\",\"y\":[26.5],\"yaxis\":\"y\",\"type\":\"scatter\"},{\"hovertemplate\":\"color=PICKUP TRUCK - STANDARD<br>animation_frame=2014<br>x=%{x}<br>y=%{y}<extra></extra>\",\"ids\":[\"PICKUP TRUCK - STANDARD\"],\"legendgroup\":\"PICKUP TRUCK - STANDARD\",\"line\":{\"color\":\"#B68100\",\"dash\":\"solid\"},\"marker\":{\"symbol\":\"circle\"},\"mode\":\"markers+lines\",\"name\":\"PICKUP TRUCK - STANDARD\",\"orientation\":\"v\",\"showlegend\":true,\"x\":[2014],\"xaxis\":\"x\",\"y\":[22.112903225806452],\"yaxis\":\"y\",\"type\":\"scatter\"},{\"hovertemplate\":\"color=STATION WAGON - MID-SIZE<br>animation_frame=2014<br>x=%{x}<br>y=%{y}<extra></extra>\",\"ids\":[\"STATION WAGON - MID-SIZE\"],\"legendgroup\":\"STATION WAGON - MID-SIZE\",\"line\":{\"color\":\"#750D86\",\"dash\":\"solid\"},\"marker\":{\"symbol\":\"circle\"},\"mode\":\"markers+lines\",\"name\":\"STATION WAGON - MID-SIZE\",\"orientation\":\"v\",\"showlegend\":true,\"x\":[2014],\"xaxis\":\"x\",\"y\":[35.5],\"yaxis\":\"y\",\"type\":\"scatter\"},{\"hovertemplate\":\"color=STATION WAGON - SMALL<br>animation_frame=2014<br>x=%{x}<br>y=%{y}<extra></extra>\",\"ids\":[\"STATION WAGON - SMALL\"],\"legendgroup\":\"STATION WAGON - SMALL\",\"line\":{\"color\":\"#EB663B\",\"dash\":\"solid\"},\"marker\":{\"symbol\":\"circle\"},\"mode\":\"markers+lines\",\"name\":\"STATION WAGON - SMALL\",\"orientation\":\"v\",\"showlegend\":true,\"x\":[2014],\"xaxis\":\"x\",\"y\":[35.470588235294116],\"yaxis\":\"y\",\"type\":\"scatter\"},{\"hovertemplate\":\"color=SUBCOMPACT<br>animation_frame=2014<br>x=%{x}<br>y=%{y}<extra></extra>\",\"ids\":[\"SUBCOMPACT\"],\"legendgroup\":\"SUBCOMPACT\",\"line\":{\"color\":\"#511CFB\",\"dash\":\"solid\"},\"marker\":{\"symbol\":\"circle\"},\"mode\":\"markers+lines\",\"name\":\"SUBCOMPACT\",\"orientation\":\"v\",\"showlegend\":true,\"x\":[2014],\"xaxis\":\"x\",\"y\":[31.903225806451612],\"yaxis\":\"y\",\"type\":\"scatter\"},{\"hovertemplate\":\"color=TWO-SEATER<br>animation_frame=2014<br>x=%{x}<br>y=%{y}<extra></extra>\",\"ids\":[\"TWO-SEATER\"],\"legendgroup\":\"TWO-SEATER\",\"line\":{\"color\":\"#FB00D1\",\"dash\":\"solid\"},\"marker\":{\"symbol\":\"circle\"},\"mode\":\"markers+lines\",\"name\":\"TWO-SEATER\",\"orientation\":\"v\",\"showlegend\":true,\"x\":[2014],\"xaxis\":\"x\",\"y\":[31.271428571428572],\"yaxis\":\"y\",\"type\":\"scatter\"},{\"hovertemplate\":\"color=VAN - CARGO<br>animation_frame=2014<br>x=%{x}<br>y=%{y}<extra></extra>\",\"ids\":[\"VAN - CARGO\"],\"legendgroup\":\"VAN - CARGO\",\"line\":{\"color\":\"#FC0080\",\"dash\":\"solid\"},\"marker\":{\"symbol\":\"circle\"},\"mode\":\"markers+lines\",\"name\":\"VAN - CARGO\",\"orientation\":\"v\",\"showlegend\":true,\"x\":[2014],\"xaxis\":\"x\",\"y\":[17.318181818181817],\"yaxis\":\"y\",\"type\":\"scatter\"},{\"hovertemplate\":\"color=VAN - PASSENGER<br>animation_frame=2014<br>x=%{x}<br>y=%{y}<extra></extra>\",\"ids\":[\"VAN - PASSENGER\"],\"legendgroup\":\"VAN - PASSENGER\",\"line\":{\"color\":\"#B2828D\",\"dash\":\"solid\"},\"marker\":{\"symbol\":\"circle\"},\"mode\":\"markers+lines\",\"name\":\"VAN - PASSENGER\",\"orientation\":\"v\",\"showlegend\":true,\"x\":[2014],\"xaxis\":\"x\",\"y\":[16.0],\"yaxis\":\"y\",\"type\":\"scatter\"},{\"hovertemplate\":\"color=SUV - STANDARD<br>animation_frame=2014<br>x=%{x}<br>y=%{y}<extra></extra>\",\"ids\":[\"SUV - STANDARD\"],\"legendgroup\":\"SUV - STANDARD\",\"line\":{\"color\":\"#6C7C32\",\"dash\":\"solid\"},\"marker\":{\"symbol\":\"circle\"},\"mode\":\"markers+lines\",\"name\":\"SUV - STANDARD\",\"orientation\":\"v\",\"showlegend\":true,\"x\":[2014],\"xaxis\":\"x\",\"y\":[22.813725490196077],\"yaxis\":\"y\",\"type\":\"scatter\"},{\"hovertemplate\":\"color=SPECIAL PURPOSE VEHICLE<br>animation_frame=2014<br>x=%{x}<br>y=%{y}<extra></extra>\",\"ids\":[\"SPECIAL PURPOSE VEHICLE\"],\"legendgroup\":\"SPECIAL PURPOSE VEHICLE\",\"line\":{\"color\":\"#778AAE\",\"dash\":\"solid\"},\"marker\":{\"symbol\":\"circle\"},\"mode\":\"markers+lines\",\"name\":\"SPECIAL PURPOSE VEHICLE\",\"orientation\":\"v\",\"showlegend\":true,\"x\":[2014],\"xaxis\":\"x\",\"y\":[31.857142857142858],\"yaxis\":\"y\",\"type\":\"scatter\"},{\"hovertemplate\":\"color=SUV - SMALL<br>animation_frame=2014<br>x=%{x}<br>y=%{y}<extra></extra>\",\"ids\":[\"SUV - SMALL\"],\"legendgroup\":\"SUV - SMALL\",\"line\":{\"color\":\"#862A16\",\"dash\":\"solid\"},\"marker\":{\"symbol\":\"circle\"},\"mode\":\"markers+lines\",\"name\":\"SUV - SMALL\",\"orientation\":\"v\",\"showlegend\":true,\"x\":[2014],\"xaxis\":\"x\",\"y\":[31.316129032258065],\"yaxis\":\"y\",\"type\":\"scatter\"}],\"name\":\"2014\"},{\"data\":[{\"hovertemplate\":\"color=COMPACT<br>animation_frame=2015<br>x=%{x}<br>y=%{y}<extra></extra>\",\"ids\":[\"COMPACT\"],\"legendgroup\":\"COMPACT\",\"line\":{\"color\":\"#2E91E5\",\"dash\":\"solid\"},\"marker\":{\"symbol\":\"circle\"},\"mode\":\"markers+lines\",\"name\":\"COMPACT\",\"orientation\":\"v\",\"showlegend\":true,\"x\":[2015],\"xaxis\":\"x\",\"y\":[31.333333333333332],\"yaxis\":\"y\",\"type\":\"scatter\"},{\"hovertemplate\":\"color=FULL-SIZE<br>animation_frame=2015<br>x=%{x}<br>y=%{y}<extra></extra>\",\"ids\":[\"FULL-SIZE\"],\"legendgroup\":\"FULL-SIZE\",\"line\":{\"color\":\"#E15F99\",\"dash\":\"solid\"},\"marker\":{\"symbol\":\"circle\"},\"mode\":\"markers+lines\",\"name\":\"FULL-SIZE\",\"orientation\":\"v\",\"showlegend\":true,\"x\":[2015],\"xaxis\":\"x\",\"y\":[24.0],\"yaxis\":\"y\",\"type\":\"scatter\"},{\"hovertemplate\":\"color=MID-SIZE<br>animation_frame=2015<br>x=%{x}<br>y=%{y}<extra></extra>\",\"ids\":[\"MID-SIZE\"],\"legendgroup\":\"MID-SIZE\",\"line\":{\"color\":\"#1CA71C\",\"dash\":\"solid\"},\"marker\":{\"symbol\":\"circle\"},\"mode\":\"markers+lines\",\"name\":\"MID-SIZE\",\"orientation\":\"v\",\"showlegend\":true,\"x\":[2015],\"xaxis\":\"x\",\"y\":[31.044444444444444],\"yaxis\":\"y\",\"type\":\"scatter\"},{\"hovertemplate\":\"color=MINICOMPACT<br>animation_frame=2015<br>x=%{x}<br>y=%{y}<extra></extra>\",\"ids\":[\"MINICOMPACT\"],\"legendgroup\":\"MINICOMPACT\",\"line\":{\"color\":\"#FB0D0D\",\"dash\":\"solid\"},\"marker\":{\"symbol\":\"circle\"},\"mode\":\"markers+lines\",\"name\":\"MINICOMPACT\",\"orientation\":\"v\",\"showlegend\":true,\"x\":[2015],\"xaxis\":\"x\",\"y\":[28.593220338983052],\"yaxis\":\"y\",\"type\":\"scatter\"},{\"hovertemplate\":\"color=MINIVAN<br>animation_frame=2015<br>x=%{x}<br>y=%{y}<extra></extra>\",\"ids\":[\"MINIVAN\"],\"legendgroup\":\"MINIVAN\",\"line\":{\"color\":\"#DA16FF\",\"dash\":\"solid\"},\"marker\":{\"symbol\":\"circle\"},\"mode\":\"markers+lines\",\"name\":\"MINIVAN\",\"orientation\":\"v\",\"showlegend\":true,\"x\":[2015],\"xaxis\":\"x\",\"y\":[23.8],\"yaxis\":\"y\",\"type\":\"scatter\"},{\"hovertemplate\":\"color=PICKUP TRUCK - SMALL<br>animation_frame=2015<br>x=%{x}<br>y=%{y}<extra></extra>\",\"ids\":[\"PICKUP TRUCK - SMALL\"],\"legendgroup\":\"PICKUP TRUCK - SMALL\",\"line\":{\"color\":\"#222A2A\",\"dash\":\"solid\"},\"marker\":{\"symbol\":\"circle\"},\"mode\":\"markers+lines\",\"name\":\"PICKUP TRUCK - SMALL\",\"orientation\":\"v\",\"showlegend\":true,\"x\":[2015],\"xaxis\":\"x\",\"y\":[23.954545454545453],\"yaxis\":\"y\",\"type\":\"scatter\"},{\"hovertemplate\":\"color=PICKUP TRUCK - STANDARD<br>animation_frame=2015<br>x=%{x}<br>y=%{y}<extra></extra>\",\"ids\":[\"PICKUP TRUCK - STANDARD\"],\"legendgroup\":\"PICKUP TRUCK - STANDARD\",\"line\":{\"color\":\"#B68100\",\"dash\":\"solid\"},\"marker\":{\"symbol\":\"circle\"},\"mode\":\"markers+lines\",\"name\":\"PICKUP TRUCK - STANDARD\",\"orientation\":\"v\",\"showlegend\":true,\"x\":[2015],\"xaxis\":\"x\",\"y\":[20.48076923076923],\"yaxis\":\"y\",\"type\":\"scatter\"},{\"hovertemplate\":\"color=STATION WAGON - MID-SIZE<br>animation_frame=2015<br>x=%{x}<br>y=%{y}<extra></extra>\",\"ids\":[\"STATION WAGON - MID-SIZE\"],\"legendgroup\":\"STATION WAGON - MID-SIZE\",\"line\":{\"color\":\"#750D86\",\"dash\":\"solid\"},\"marker\":{\"symbol\":\"circle\"},\"mode\":\"markers+lines\",\"name\":\"STATION WAGON - MID-SIZE\",\"orientation\":\"v\",\"showlegend\":true,\"x\":[2015],\"xaxis\":\"x\",\"y\":[30.625],\"yaxis\":\"y\",\"type\":\"scatter\"},{\"hovertemplate\":\"color=STATION WAGON - SMALL<br>animation_frame=2015<br>x=%{x}<br>y=%{y}<extra></extra>\",\"ids\":[\"STATION WAGON - SMALL\"],\"legendgroup\":\"STATION WAGON - SMALL\",\"line\":{\"color\":\"#EB663B\",\"dash\":\"solid\"},\"marker\":{\"symbol\":\"circle\"},\"mode\":\"markers+lines\",\"name\":\"STATION WAGON - SMALL\",\"orientation\":\"v\",\"showlegend\":true,\"x\":[2015],\"xaxis\":\"x\",\"y\":[33.48571428571429],\"yaxis\":\"y\",\"type\":\"scatter\"},{\"hovertemplate\":\"color=SUBCOMPACT<br>animation_frame=2015<br>x=%{x}<br>y=%{y}<extra></extra>\",\"ids\":[\"SUBCOMPACT\"],\"legendgroup\":\"SUBCOMPACT\",\"line\":{\"color\":\"#511CFB\",\"dash\":\"solid\"},\"marker\":{\"symbol\":\"circle\"},\"mode\":\"markers+lines\",\"name\":\"SUBCOMPACT\",\"orientation\":\"v\",\"showlegend\":true,\"x\":[2015],\"xaxis\":\"x\",\"y\":[28.66304347826087],\"yaxis\":\"y\",\"type\":\"scatter\"},{\"hovertemplate\":\"color=TWO-SEATER<br>animation_frame=2015<br>x=%{x}<br>y=%{y}<extra></extra>\",\"ids\":[\"TWO-SEATER\"],\"legendgroup\":\"TWO-SEATER\",\"line\":{\"color\":\"#FB00D1\",\"dash\":\"solid\"},\"marker\":{\"symbol\":\"circle\"},\"mode\":\"markers+lines\",\"name\":\"TWO-SEATER\",\"orientation\":\"v\",\"showlegend\":true,\"x\":[2015],\"xaxis\":\"x\",\"y\":[26.404761904761905],\"yaxis\":\"y\",\"type\":\"scatter\"},{\"hovertemplate\":\"color=VAN - PASSENGER<br>animation_frame=2015<br>x=%{x}<br>y=%{y}<extra></extra>\",\"ids\":[\"VAN - PASSENGER\"],\"legendgroup\":\"VAN - PASSENGER\",\"line\":{\"color\":\"#B2828D\",\"dash\":\"solid\"},\"marker\":{\"symbol\":\"circle\"},\"mode\":\"markers+lines\",\"name\":\"VAN - PASSENGER\",\"orientation\":\"v\",\"showlegend\":true,\"x\":[2015],\"xaxis\":\"x\",\"y\":[14.736842105263158],\"yaxis\":\"y\",\"type\":\"scatter\"},{\"hovertemplate\":\"color=SUV - STANDARD<br>animation_frame=2015<br>x=%{x}<br>y=%{y}<extra></extra>\",\"ids\":[\"SUV - STANDARD\"],\"legendgroup\":\"SUV - STANDARD\",\"line\":{\"color\":\"#6C7C32\",\"dash\":\"solid\"},\"marker\":{\"symbol\":\"circle\"},\"mode\":\"markers+lines\",\"name\":\"SUV - STANDARD\",\"orientation\":\"v\",\"showlegend\":true,\"x\":[2015],\"xaxis\":\"x\",\"y\":[21.08080808080808],\"yaxis\":\"y\",\"type\":\"scatter\"},{\"hovertemplate\":\"color=SPECIAL PURPOSE VEHICLE<br>animation_frame=2015<br>x=%{x}<br>y=%{y}<extra></extra>\",\"ids\":[\"SPECIAL PURPOSE VEHICLE\"],\"legendgroup\":\"SPECIAL PURPOSE VEHICLE\",\"line\":{\"color\":\"#778AAE\",\"dash\":\"solid\"},\"marker\":{\"symbol\":\"circle\"},\"mode\":\"markers+lines\",\"name\":\"SPECIAL PURPOSE VEHICLE\",\"orientation\":\"v\",\"showlegend\":true,\"x\":[2015],\"xaxis\":\"x\",\"y\":[28.22222222222222],\"yaxis\":\"y\",\"type\":\"scatter\"},{\"hovertemplate\":\"color=SUV - SMALL<br>animation_frame=2015<br>x=%{x}<br>y=%{y}<extra></extra>\",\"ids\":[\"SUV - SMALL\"],\"legendgroup\":\"SUV - SMALL\",\"line\":{\"color\":\"#862A16\",\"dash\":\"solid\"},\"marker\":{\"symbol\":\"circle\"},\"mode\":\"markers+lines\",\"name\":\"SUV - SMALL\",\"orientation\":\"v\",\"showlegend\":true,\"x\":[2015],\"xaxis\":\"x\",\"y\":[27.70949720670391],\"yaxis\":\"y\",\"type\":\"scatter\"}],\"name\":\"2015\"},{\"data\":[{\"hovertemplate\":\"color=COMPACT<br>animation_frame=2016<br>x=%{x}<br>y=%{y}<extra></extra>\",\"ids\":[\"COMPACT\"],\"legendgroup\":\"COMPACT\",\"line\":{\"color\":\"#2E91E5\",\"dash\":\"solid\"},\"marker\":{\"symbol\":\"circle\"},\"mode\":\"markers+lines\",\"name\":\"COMPACT\",\"orientation\":\"v\",\"showlegend\":true,\"x\":[2016],\"xaxis\":\"x\",\"y\":[31.414364640883978],\"yaxis\":\"y\",\"type\":\"scatter\"},{\"hovertemplate\":\"color=FULL-SIZE<br>animation_frame=2016<br>x=%{x}<br>y=%{y}<extra></extra>\",\"ids\":[\"FULL-SIZE\"],\"legendgroup\":\"FULL-SIZE\",\"line\":{\"color\":\"#E15F99\",\"dash\":\"solid\"},\"marker\":{\"symbol\":\"circle\"},\"mode\":\"markers+lines\",\"name\":\"FULL-SIZE\",\"orientation\":\"v\",\"showlegend\":true,\"x\":[2016],\"xaxis\":\"x\",\"y\":[24.27777777777778],\"yaxis\":\"y\",\"type\":\"scatter\"},{\"hovertemplate\":\"color=MID-SIZE<br>animation_frame=2016<br>x=%{x}<br>y=%{y}<extra></extra>\",\"ids\":[\"MID-SIZE\"],\"legendgroup\":\"MID-SIZE\",\"line\":{\"color\":\"#1CA71C\",\"dash\":\"solid\"},\"marker\":{\"symbol\":\"circle\"},\"mode\":\"markers+lines\",\"name\":\"MID-SIZE\",\"orientation\":\"v\",\"showlegend\":true,\"x\":[2016],\"xaxis\":\"x\",\"y\":[31.335106382978722],\"yaxis\":\"y\",\"type\":\"scatter\"},{\"hovertemplate\":\"color=MINICOMPACT<br>animation_frame=2016<br>x=%{x}<br>y=%{y}<extra></extra>\",\"ids\":[\"MINICOMPACT\"],\"legendgroup\":\"MINICOMPACT\",\"line\":{\"color\":\"#FB0D0D\",\"dash\":\"solid\"},\"marker\":{\"symbol\":\"circle\"},\"mode\":\"markers+lines\",\"name\":\"MINICOMPACT\",\"orientation\":\"v\",\"showlegend\":true,\"x\":[2016],\"xaxis\":\"x\",\"y\":[28.557692307692307],\"yaxis\":\"y\",\"type\":\"scatter\"},{\"hovertemplate\":\"color=MINIVAN<br>animation_frame=2016<br>x=%{x}<br>y=%{y}<extra></extra>\",\"ids\":[\"MINIVAN\"],\"legendgroup\":\"MINIVAN\",\"line\":{\"color\":\"#DA16FF\",\"dash\":\"solid\"},\"marker\":{\"symbol\":\"circle\"},\"mode\":\"markers+lines\",\"name\":\"MINIVAN\",\"orientation\":\"v\",\"showlegend\":true,\"x\":[2016],\"xaxis\":\"x\",\"y\":[23.916666666666668],\"yaxis\":\"y\",\"type\":\"scatter\"},{\"hovertemplate\":\"color=PICKUP TRUCK - SMALL<br>animation_frame=2016<br>x=%{x}<br>y=%{y}<extra></extra>\",\"ids\":[\"PICKUP TRUCK - SMALL\"],\"legendgroup\":\"PICKUP TRUCK - SMALL\",\"line\":{\"color\":\"#222A2A\",\"dash\":\"solid\"},\"marker\":{\"symbol\":\"circle\"},\"mode\":\"markers+lines\",\"name\":\"PICKUP TRUCK - SMALL\",\"orientation\":\"v\",\"showlegend\":true,\"x\":[2016],\"xaxis\":\"x\",\"y\":[24.884615384615383],\"yaxis\":\"y\",\"type\":\"scatter\"},{\"hovertemplate\":\"color=PICKUP TRUCK - STANDARD<br>animation_frame=2016<br>x=%{x}<br>y=%{y}<extra></extra>\",\"ids\":[\"PICKUP TRUCK - STANDARD\"],\"legendgroup\":\"PICKUP TRUCK - STANDARD\",\"line\":{\"color\":\"#B68100\",\"dash\":\"solid\"},\"marker\":{\"symbol\":\"circle\"},\"mode\":\"markers+lines\",\"name\":\"PICKUP TRUCK - STANDARD\",\"orientation\":\"v\",\"showlegend\":true,\"x\":[2016],\"xaxis\":\"x\",\"y\":[20.5],\"yaxis\":\"y\",\"type\":\"scatter\"},{\"hovertemplate\":\"color=STATION WAGON - MID-SIZE<br>animation_frame=2016<br>x=%{x}<br>y=%{y}<extra></extra>\",\"ids\":[\"STATION WAGON - MID-SIZE\"],\"legendgroup\":\"STATION WAGON - MID-SIZE\",\"line\":{\"color\":\"#750D86\",\"dash\":\"solid\"},\"marker\":{\"symbol\":\"circle\"},\"mode\":\"markers+lines\",\"name\":\"STATION WAGON - MID-SIZE\",\"orientation\":\"v\",\"showlegend\":true,\"x\":[2016],\"xaxis\":\"x\",\"y\":[30.857142857142858],\"yaxis\":\"y\",\"type\":\"scatter\"},{\"hovertemplate\":\"color=STATION WAGON - SMALL<br>animation_frame=2016<br>x=%{x}<br>y=%{y}<extra></extra>\",\"ids\":[\"STATION WAGON - SMALL\"],\"legendgroup\":\"STATION WAGON - SMALL\",\"line\":{\"color\":\"#EB663B\",\"dash\":\"solid\"},\"marker\":{\"symbol\":\"circle\"},\"mode\":\"markers+lines\",\"name\":\"STATION WAGON - SMALL\",\"orientation\":\"v\",\"showlegend\":true,\"x\":[2016],\"xaxis\":\"x\",\"y\":[33.270270270270274],\"yaxis\":\"y\",\"type\":\"scatter\"},{\"hovertemplate\":\"color=SUBCOMPACT<br>animation_frame=2016<br>x=%{x}<br>y=%{y}<extra></extra>\",\"ids\":[\"SUBCOMPACT\"],\"legendgroup\":\"SUBCOMPACT\",\"line\":{\"color\":\"#511CFB\",\"dash\":\"solid\"},\"marker\":{\"symbol\":\"circle\"},\"mode\":\"markers+lines\",\"name\":\"SUBCOMPACT\",\"orientation\":\"v\",\"showlegend\":true,\"x\":[2016],\"xaxis\":\"x\",\"y\":[28.513157894736842],\"yaxis\":\"y\",\"type\":\"scatter\"},{\"hovertemplate\":\"color=TWO-SEATER<br>animation_frame=2016<br>x=%{x}<br>y=%{y}<extra></extra>\",\"ids\":[\"TWO-SEATER\"],\"legendgroup\":\"TWO-SEATER\",\"line\":{\"color\":\"#FB00D1\",\"dash\":\"solid\"},\"marker\":{\"symbol\":\"circle\"},\"mode\":\"markers+lines\",\"name\":\"TWO-SEATER\",\"orientation\":\"v\",\"showlegend\":true,\"x\":[2016],\"xaxis\":\"x\",\"y\":[25.441176470588236],\"yaxis\":\"y\",\"type\":\"scatter\"},{\"hovertemplate\":\"color=VAN - PASSENGER<br>animation_frame=2016<br>x=%{x}<br>y=%{y}<extra></extra>\",\"ids\":[\"VAN - PASSENGER\"],\"legendgroup\":\"VAN - PASSENGER\",\"line\":{\"color\":\"#B2828D\",\"dash\":\"solid\"},\"marker\":{\"symbol\":\"circle\"},\"mode\":\"markers+lines\",\"name\":\"VAN - PASSENGER\",\"orientation\":\"v\",\"showlegend\":true,\"x\":[2016],\"xaxis\":\"x\",\"y\":[15.571428571428571],\"yaxis\":\"y\",\"type\":\"scatter\"},{\"hovertemplate\":\"color=SUV - STANDARD<br>animation_frame=2016<br>x=%{x}<br>y=%{y}<extra></extra>\",\"ids\":[\"SUV - STANDARD\"],\"legendgroup\":\"SUV - STANDARD\",\"line\":{\"color\":\"#6C7C32\",\"dash\":\"solid\"},\"marker\":{\"symbol\":\"circle\"},\"mode\":\"markers+lines\",\"name\":\"SUV - STANDARD\",\"orientation\":\"v\",\"showlegend\":true,\"x\":[2016],\"xaxis\":\"x\",\"y\":[21.850467289719628],\"yaxis\":\"y\",\"type\":\"scatter\"},{\"hovertemplate\":\"color=SPECIAL PURPOSE VEHICLE<br>animation_frame=2016<br>x=%{x}<br>y=%{y}<extra></extra>\",\"ids\":[\"SPECIAL PURPOSE VEHICLE\"],\"legendgroup\":\"SPECIAL PURPOSE VEHICLE\",\"line\":{\"color\":\"#778AAE\",\"dash\":\"solid\"},\"marker\":{\"symbol\":\"circle\"},\"mode\":\"markers+lines\",\"name\":\"SPECIAL PURPOSE VEHICLE\",\"orientation\":\"v\",\"showlegend\":true,\"x\":[2016],\"xaxis\":\"x\",\"y\":[25.647058823529413],\"yaxis\":\"y\",\"type\":\"scatter\"},{\"hovertemplate\":\"color=SUV - SMALL<br>animation_frame=2016<br>x=%{x}<br>y=%{y}<extra></extra>\",\"ids\":[\"SUV - SMALL\"],\"legendgroup\":\"SUV - SMALL\",\"line\":{\"color\":\"#862A16\",\"dash\":\"solid\"},\"marker\":{\"symbol\":\"circle\"},\"mode\":\"markers+lines\",\"name\":\"SUV - SMALL\",\"orientation\":\"v\",\"showlegend\":true,\"x\":[2016],\"xaxis\":\"x\",\"y\":[28.227777777777778],\"yaxis\":\"y\",\"type\":\"scatter\"}],\"name\":\"2016\"},{\"data\":[{\"hovertemplate\":\"color=COMPACT<br>animation_frame=2017<br>x=%{x}<br>y=%{y}<extra></extra>\",\"ids\":[\"COMPACT\"],\"legendgroup\":\"COMPACT\",\"line\":{\"color\":\"#2E91E5\",\"dash\":\"solid\"},\"marker\":{\"symbol\":\"circle\"},\"mode\":\"markers+lines\",\"name\":\"COMPACT\",\"orientation\":\"v\",\"showlegend\":true,\"x\":[2017],\"xaxis\":\"x\",\"y\":[31.60377358490566],\"yaxis\":\"y\",\"type\":\"scatter\"},{\"hovertemplate\":\"color=FULL-SIZE<br>animation_frame=2017<br>x=%{x}<br>y=%{y}<extra></extra>\",\"ids\":[\"FULL-SIZE\"],\"legendgroup\":\"FULL-SIZE\",\"line\":{\"color\":\"#E15F99\",\"dash\":\"solid\"},\"marker\":{\"symbol\":\"circle\"},\"mode\":\"markers+lines\",\"name\":\"FULL-SIZE\",\"orientation\":\"v\",\"showlegend\":true,\"x\":[2017],\"xaxis\":\"x\",\"y\":[26.402439024390244],\"yaxis\":\"y\",\"type\":\"scatter\"},{\"hovertemplate\":\"color=MID-SIZE<br>animation_frame=2017<br>x=%{x}<br>y=%{y}<extra></extra>\",\"ids\":[\"MID-SIZE\"],\"legendgroup\":\"MID-SIZE\",\"line\":{\"color\":\"#1CA71C\",\"dash\":\"solid\"},\"marker\":{\"symbol\":\"circle\"},\"mode\":\"markers+lines\",\"name\":\"MID-SIZE\",\"orientation\":\"v\",\"showlegend\":true,\"x\":[2017],\"xaxis\":\"x\",\"y\":[31.166666666666668],\"yaxis\":\"y\",\"type\":\"scatter\"},{\"hovertemplate\":\"color=MINICOMPACT<br>animation_frame=2017<br>x=%{x}<br>y=%{y}<extra></extra>\",\"ids\":[\"MINICOMPACT\"],\"legendgroup\":\"MINICOMPACT\",\"line\":{\"color\":\"#FB0D0D\",\"dash\":\"solid\"},\"marker\":{\"symbol\":\"circle\"},\"mode\":\"markers+lines\",\"name\":\"MINICOMPACT\",\"orientation\":\"v\",\"showlegend\":true,\"x\":[2017],\"xaxis\":\"x\",\"y\":[29.84090909090909],\"yaxis\":\"y\",\"type\":\"scatter\"},{\"hovertemplate\":\"color=MINIVAN<br>animation_frame=2017<br>x=%{x}<br>y=%{y}<extra></extra>\",\"ids\":[\"MINIVAN\"],\"legendgroup\":\"MINIVAN\",\"line\":{\"color\":\"#DA16FF\",\"dash\":\"solid\"},\"marker\":{\"symbol\":\"circle\"},\"mode\":\"markers+lines\",\"name\":\"MINIVAN\",\"orientation\":\"v\",\"showlegend\":true,\"x\":[2017],\"xaxis\":\"x\",\"y\":[25.0],\"yaxis\":\"y\",\"type\":\"scatter\"},{\"hovertemplate\":\"color=PICKUP TRUCK - SMALL<br>animation_frame=2017<br>x=%{x}<br>y=%{y}<extra></extra>\",\"ids\":[\"PICKUP TRUCK - SMALL\"],\"legendgroup\":\"PICKUP TRUCK - SMALL\",\"line\":{\"color\":\"#222A2A\",\"dash\":\"solid\"},\"marker\":{\"symbol\":\"circle\"},\"mode\":\"markers+lines\",\"name\":\"PICKUP TRUCK - SMALL\",\"orientation\":\"v\",\"showlegend\":true,\"x\":[2017],\"xaxis\":\"x\",\"y\":[24.392857142857142],\"yaxis\":\"y\",\"type\":\"scatter\"},{\"hovertemplate\":\"color=PICKUP TRUCK - STANDARD<br>animation_frame=2017<br>x=%{x}<br>y=%{y}<extra></extra>\",\"ids\":[\"PICKUP TRUCK - STANDARD\"],\"legendgroup\":\"PICKUP TRUCK - STANDARD\",\"line\":{\"color\":\"#B68100\",\"dash\":\"solid\"},\"marker\":{\"symbol\":\"circle\"},\"mode\":\"markers+lines\",\"name\":\"PICKUP TRUCK - STANDARD\",\"orientation\":\"v\",\"showlegend\":true,\"x\":[2017],\"xaxis\":\"x\",\"y\":[20.56],\"yaxis\":\"y\",\"type\":\"scatter\"},{\"hovertemplate\":\"color=STATION WAGON - MID-SIZE<br>animation_frame=2017<br>x=%{x}<br>y=%{y}<extra></extra>\",\"ids\":[\"STATION WAGON - MID-SIZE\"],\"legendgroup\":\"STATION WAGON - MID-SIZE\",\"line\":{\"color\":\"#750D86\",\"dash\":\"solid\"},\"marker\":{\"symbol\":\"circle\"},\"mode\":\"markers+lines\",\"name\":\"STATION WAGON - MID-SIZE\",\"orientation\":\"v\",\"showlegend\":true,\"x\":[2017],\"xaxis\":\"x\",\"y\":[32.125],\"yaxis\":\"y\",\"type\":\"scatter\"},{\"hovertemplate\":\"color=STATION WAGON - SMALL<br>animation_frame=2017<br>x=%{x}<br>y=%{y}<extra></extra>\",\"ids\":[\"STATION WAGON - SMALL\"],\"legendgroup\":\"STATION WAGON - SMALL\",\"line\":{\"color\":\"#EB663B\",\"dash\":\"solid\"},\"marker\":{\"symbol\":\"circle\"},\"mode\":\"markers+lines\",\"name\":\"STATION WAGON - SMALL\",\"orientation\":\"v\",\"showlegend\":true,\"x\":[2017],\"xaxis\":\"x\",\"y\":[35.06666666666667],\"yaxis\":\"y\",\"type\":\"scatter\"},{\"hovertemplate\":\"color=SUBCOMPACT<br>animation_frame=2017<br>x=%{x}<br>y=%{y}<extra></extra>\",\"ids\":[\"SUBCOMPACT\"],\"legendgroup\":\"SUBCOMPACT\",\"line\":{\"color\":\"#511CFB\",\"dash\":\"solid\"},\"marker\":{\"symbol\":\"circle\"},\"mode\":\"markers+lines\",\"name\":\"SUBCOMPACT\",\"orientation\":\"v\",\"showlegend\":true,\"x\":[2017],\"xaxis\":\"x\",\"y\":[27.580645161290324],\"yaxis\":\"y\",\"type\":\"scatter\"},{\"hovertemplate\":\"color=TWO-SEATER<br>animation_frame=2017<br>x=%{x}<br>y=%{y}<extra></extra>\",\"ids\":[\"TWO-SEATER\"],\"legendgroup\":\"TWO-SEATER\",\"line\":{\"color\":\"#FB00D1\",\"dash\":\"solid\"},\"marker\":{\"symbol\":\"circle\"},\"mode\":\"markers+lines\",\"name\":\"TWO-SEATER\",\"orientation\":\"v\",\"showlegend\":true,\"x\":[2017],\"xaxis\":\"x\",\"y\":[24.75438596491228],\"yaxis\":\"y\",\"type\":\"scatter\"},{\"hovertemplate\":\"color=VAN - PASSENGER<br>animation_frame=2017<br>x=%{x}<br>y=%{y}<extra></extra>\",\"ids\":[\"VAN - PASSENGER\"],\"legendgroup\":\"VAN - PASSENGER\",\"line\":{\"color\":\"#B2828D\",\"dash\":\"solid\"},\"marker\":{\"symbol\":\"circle\"},\"mode\":\"markers+lines\",\"name\":\"VAN - PASSENGER\",\"orientation\":\"v\",\"showlegend\":true,\"x\":[2017],\"xaxis\":\"x\",\"y\":[16.0],\"yaxis\":\"y\",\"type\":\"scatter\"},{\"hovertemplate\":\"color=SUV - STANDARD<br>animation_frame=2017<br>x=%{x}<br>y=%{y}<extra></extra>\",\"ids\":[\"SUV - STANDARD\"],\"legendgroup\":\"SUV - STANDARD\",\"line\":{\"color\":\"#6C7C32\",\"dash\":\"solid\"},\"marker\":{\"symbol\":\"circle\"},\"mode\":\"markers+lines\",\"name\":\"SUV - STANDARD\",\"orientation\":\"v\",\"showlegend\":true,\"x\":[2017],\"xaxis\":\"x\",\"y\":[21.598039215686274],\"yaxis\":\"y\",\"type\":\"scatter\"},{\"hovertemplate\":\"color=SPECIAL PURPOSE VEHICLE<br>animation_frame=2017<br>x=%{x}<br>y=%{y}<extra></extra>\",\"ids\":[\"SPECIAL PURPOSE VEHICLE\"],\"legendgroup\":\"SPECIAL PURPOSE VEHICLE\",\"line\":{\"color\":\"#778AAE\",\"dash\":\"solid\"},\"marker\":{\"symbol\":\"circle\"},\"mode\":\"markers+lines\",\"name\":\"SPECIAL PURPOSE VEHICLE\",\"orientation\":\"v\",\"showlegend\":true,\"x\":[2017],\"xaxis\":\"x\",\"y\":[25.8],\"yaxis\":\"y\",\"type\":\"scatter\"},{\"hovertemplate\":\"color=SUV - SMALL<br>animation_frame=2017<br>x=%{x}<br>y=%{y}<extra></extra>\",\"ids\":[\"SUV - SMALL\"],\"legendgroup\":\"SUV - SMALL\",\"line\":{\"color\":\"#862A16\",\"dash\":\"solid\"},\"marker\":{\"symbol\":\"circle\"},\"mode\":\"markers+lines\",\"name\":\"SUV - SMALL\",\"orientation\":\"v\",\"showlegend\":true,\"x\":[2017],\"xaxis\":\"x\",\"y\":[27.775862068965516],\"yaxis\":\"y\",\"type\":\"scatter\"}],\"name\":\"2017\"},{\"data\":[{\"hovertemplate\":\"color=COMPACT<br>animation_frame=2018<br>x=%{x}<br>y=%{y}<extra></extra>\",\"ids\":[\"COMPACT\"],\"legendgroup\":\"COMPACT\",\"line\":{\"color\":\"#2E91E5\",\"dash\":\"solid\"},\"marker\":{\"symbol\":\"circle\"},\"mode\":\"markers+lines\",\"name\":\"COMPACT\",\"orientation\":\"v\",\"showlegend\":true,\"x\":[2018],\"xaxis\":\"x\",\"y\":[32.23770491803279],\"yaxis\":\"y\",\"type\":\"scatter\"},{\"hovertemplate\":\"color=FULL-SIZE<br>animation_frame=2018<br>x=%{x}<br>y=%{y}<extra></extra>\",\"ids\":[\"FULL-SIZE\"],\"legendgroup\":\"FULL-SIZE\",\"line\":{\"color\":\"#E15F99\",\"dash\":\"solid\"},\"marker\":{\"symbol\":\"circle\"},\"mode\":\"markers+lines\",\"name\":\"FULL-SIZE\",\"orientation\":\"v\",\"showlegend\":true,\"x\":[2018],\"xaxis\":\"x\",\"y\":[27.192660550458715],\"yaxis\":\"y\",\"type\":\"scatter\"},{\"hovertemplate\":\"color=MID-SIZE<br>animation_frame=2018<br>x=%{x}<br>y=%{y}<extra></extra>\",\"ids\":[\"MID-SIZE\"],\"legendgroup\":\"MID-SIZE\",\"line\":{\"color\":\"#1CA71C\",\"dash\":\"solid\"},\"marker\":{\"symbol\":\"circle\"},\"mode\":\"markers+lines\",\"name\":\"MID-SIZE\",\"orientation\":\"v\",\"showlegend\":true,\"x\":[2018],\"xaxis\":\"x\",\"y\":[31.664556962025316],\"yaxis\":\"y\",\"type\":\"scatter\"},{\"hovertemplate\":\"color=MINICOMPACT<br>animation_frame=2018<br>x=%{x}<br>y=%{y}<extra></extra>\",\"ids\":[\"MINICOMPACT\"],\"legendgroup\":\"MINICOMPACT\",\"line\":{\"color\":\"#FB0D0D\",\"dash\":\"solid\"},\"marker\":{\"symbol\":\"circle\"},\"mode\":\"markers+lines\",\"name\":\"MINICOMPACT\",\"orientation\":\"v\",\"showlegend\":true,\"x\":[2018],\"xaxis\":\"x\",\"y\":[28.245283018867923],\"yaxis\":\"y\",\"type\":\"scatter\"},{\"hovertemplate\":\"color=MINIVAN<br>animation_frame=2018<br>x=%{x}<br>y=%{y}<extra></extra>\",\"ids\":[\"MINIVAN\"],\"legendgroup\":\"MINIVAN\",\"line\":{\"color\":\"#DA16FF\",\"dash\":\"solid\"},\"marker\":{\"symbol\":\"circle\"},\"mode\":\"markers+lines\",\"name\":\"MINIVAN\",\"orientation\":\"v\",\"showlegend\":true,\"x\":[2018],\"xaxis\":\"x\",\"y\":[24.454545454545453],\"yaxis\":\"y\",\"type\":\"scatter\"},{\"hovertemplate\":\"color=PICKUP TRUCK - SMALL<br>animation_frame=2018<br>x=%{x}<br>y=%{y}<extra></extra>\",\"ids\":[\"PICKUP TRUCK - SMALL\"],\"legendgroup\":\"PICKUP TRUCK - SMALL\",\"line\":{\"color\":\"#222A2A\",\"dash\":\"solid\"},\"marker\":{\"symbol\":\"circle\"},\"mode\":\"markers+lines\",\"name\":\"PICKUP TRUCK - SMALL\",\"orientation\":\"v\",\"showlegend\":true,\"x\":[2018],\"xaxis\":\"x\",\"y\":[24.296296296296298],\"yaxis\":\"y\",\"type\":\"scatter\"},{\"hovertemplate\":\"color=PICKUP TRUCK - STANDARD<br>animation_frame=2018<br>x=%{x}<br>y=%{y}<extra></extra>\",\"ids\":[\"PICKUP TRUCK - STANDARD\"],\"legendgroup\":\"PICKUP TRUCK - STANDARD\",\"line\":{\"color\":\"#B68100\",\"dash\":\"solid\"},\"marker\":{\"symbol\":\"circle\"},\"mode\":\"markers+lines\",\"name\":\"PICKUP TRUCK - STANDARD\",\"orientation\":\"v\",\"showlegend\":true,\"x\":[2018],\"xaxis\":\"x\",\"y\":[21.329896907216494],\"yaxis\":\"y\",\"type\":\"scatter\"},{\"hovertemplate\":\"color=STATION WAGON - MID-SIZE<br>animation_frame=2018<br>x=%{x}<br>y=%{y}<extra></extra>\",\"ids\":[\"STATION WAGON - MID-SIZE\"],\"legendgroup\":\"STATION WAGON - MID-SIZE\",\"line\":{\"color\":\"#750D86\",\"dash\":\"solid\"},\"marker\":{\"symbol\":\"circle\"},\"mode\":\"markers+lines\",\"name\":\"STATION WAGON - MID-SIZE\",\"orientation\":\"v\",\"showlegend\":true,\"x\":[2018],\"xaxis\":\"x\",\"y\":[30.2],\"yaxis\":\"y\",\"type\":\"scatter\"},{\"hovertemplate\":\"color=STATION WAGON - SMALL<br>animation_frame=2018<br>x=%{x}<br>y=%{y}<extra></extra>\",\"ids\":[\"STATION WAGON - SMALL\"],\"legendgroup\":\"STATION WAGON - SMALL\",\"line\":{\"color\":\"#EB663B\",\"dash\":\"solid\"},\"marker\":{\"symbol\":\"circle\"},\"mode\":\"markers+lines\",\"name\":\"STATION WAGON - SMALL\",\"orientation\":\"v\",\"showlegend\":true,\"x\":[2018],\"xaxis\":\"x\",\"y\":[35.17948717948718],\"yaxis\":\"y\",\"type\":\"scatter\"},{\"hovertemplate\":\"color=SUBCOMPACT<br>animation_frame=2018<br>x=%{x}<br>y=%{y}<extra></extra>\",\"ids\":[\"SUBCOMPACT\"],\"legendgroup\":\"SUBCOMPACT\",\"line\":{\"color\":\"#511CFB\",\"dash\":\"solid\"},\"marker\":{\"symbol\":\"circle\"},\"mode\":\"markers+lines\",\"name\":\"SUBCOMPACT\",\"orientation\":\"v\",\"showlegend\":true,\"x\":[2018],\"xaxis\":\"x\",\"y\":[27.78125],\"yaxis\":\"y\",\"type\":\"scatter\"},{\"hovertemplate\":\"color=TWO-SEATER<br>animation_frame=2018<br>x=%{x}<br>y=%{y}<extra></extra>\",\"ids\":[\"TWO-SEATER\"],\"legendgroup\":\"TWO-SEATER\",\"line\":{\"color\":\"#FB00D1\",\"dash\":\"solid\"},\"marker\":{\"symbol\":\"circle\"},\"mode\":\"markers+lines\",\"name\":\"TWO-SEATER\",\"orientation\":\"v\",\"showlegend\":true,\"x\":[2018],\"xaxis\":\"x\",\"y\":[24.333333333333332],\"yaxis\":\"y\",\"type\":\"scatter\"},{\"hovertemplate\":\"color=VAN - PASSENGER<br>animation_frame=2018<br>x=%{x}<br>y=%{y}<extra></extra>\",\"ids\":[\"VAN - PASSENGER\"],\"legendgroup\":\"VAN - PASSENGER\",\"line\":{\"color\":\"#B2828D\",\"dash\":\"solid\"},\"marker\":{\"symbol\":\"circle\"},\"mode\":\"markers+lines\",\"name\":\"VAN - PASSENGER\",\"orientation\":\"v\",\"showlegend\":true,\"x\":[2018],\"xaxis\":\"x\",\"y\":[19.0],\"yaxis\":\"y\",\"type\":\"scatter\"},{\"hovertemplate\":\"color=SUV - STANDARD<br>animation_frame=2018<br>x=%{x}<br>y=%{y}<extra></extra>\",\"ids\":[\"SUV - STANDARD\"],\"legendgroup\":\"SUV - STANDARD\",\"line\":{\"color\":\"#6C7C32\",\"dash\":\"solid\"},\"marker\":{\"symbol\":\"circle\"},\"mode\":\"markers+lines\",\"name\":\"SUV - STANDARD\",\"orientation\":\"v\",\"showlegend\":true,\"x\":[2018],\"xaxis\":\"x\",\"y\":[21.601941747572816],\"yaxis\":\"y\",\"type\":\"scatter\"},{\"hovertemplate\":\"color=SPECIAL PURPOSE VEHICLE<br>animation_frame=2018<br>x=%{x}<br>y=%{y}<extra></extra>\",\"ids\":[\"SPECIAL PURPOSE VEHICLE\"],\"legendgroup\":\"SPECIAL PURPOSE VEHICLE\",\"line\":{\"color\":\"#778AAE\",\"dash\":\"solid\"},\"marker\":{\"symbol\":\"circle\"},\"mode\":\"markers+lines\",\"name\":\"SPECIAL PURPOSE VEHICLE\",\"orientation\":\"v\",\"showlegend\":true,\"x\":[2018],\"xaxis\":\"x\",\"y\":[25.4],\"yaxis\":\"y\",\"type\":\"scatter\"},{\"hovertemplate\":\"color=SUV - SMALL<br>animation_frame=2018<br>x=%{x}<br>y=%{y}<extra></extra>\",\"ids\":[\"SUV - SMALL\"],\"legendgroup\":\"SUV - SMALL\",\"line\":{\"color\":\"#862A16\",\"dash\":\"solid\"},\"marker\":{\"symbol\":\"circle\"},\"mode\":\"markers+lines\",\"name\":\"SUV - SMALL\",\"orientation\":\"v\",\"showlegend\":true,\"x\":[2018],\"xaxis\":\"x\",\"y\":[28.372881355932204],\"yaxis\":\"y\",\"type\":\"scatter\"}],\"name\":\"2018\"},{\"data\":[{\"hovertemplate\":\"color=COMPACT<br>animation_frame=2019<br>x=%{x}<br>y=%{y}<extra></extra>\",\"ids\":[\"COMPACT\"],\"legendgroup\":\"COMPACT\",\"line\":{\"color\":\"#2E91E5\",\"dash\":\"solid\"},\"marker\":{\"symbol\":\"circle\"},\"mode\":\"markers+lines\",\"name\":\"COMPACT\",\"orientation\":\"v\",\"showlegend\":true,\"x\":[2019],\"xaxis\":\"x\",\"y\":[32.43396226415094],\"yaxis\":\"y\",\"type\":\"scatter\"},{\"hovertemplate\":\"color=FULL-SIZE<br>animation_frame=2019<br>x=%{x}<br>y=%{y}<extra></extra>\",\"ids\":[\"FULL-SIZE\"],\"legendgroup\":\"FULL-SIZE\",\"line\":{\"color\":\"#E15F99\",\"dash\":\"solid\"},\"marker\":{\"symbol\":\"circle\"},\"mode\":\"markers+lines\",\"name\":\"FULL-SIZE\",\"orientation\":\"v\",\"showlegend\":true,\"x\":[2019],\"xaxis\":\"x\",\"y\":[26.603960396039604],\"yaxis\":\"y\",\"type\":\"scatter\"},{\"hovertemplate\":\"color=MID-SIZE<br>animation_frame=2019<br>x=%{x}<br>y=%{y}<extra></extra>\",\"ids\":[\"MID-SIZE\"],\"legendgroup\":\"MID-SIZE\",\"line\":{\"color\":\"#1CA71C\",\"dash\":\"solid\"},\"marker\":{\"symbol\":\"circle\"},\"mode\":\"markers+lines\",\"name\":\"MID-SIZE\",\"orientation\":\"v\",\"showlegend\":true,\"x\":[2019],\"xaxis\":\"x\",\"y\":[32.66206896551724],\"yaxis\":\"y\",\"type\":\"scatter\"},{\"hovertemplate\":\"color=MINICOMPACT<br>animation_frame=2019<br>x=%{x}<br>y=%{y}<extra></extra>\",\"ids\":[\"MINICOMPACT\"],\"legendgroup\":\"MINICOMPACT\",\"line\":{\"color\":\"#FB0D0D\",\"dash\":\"solid\"},\"marker\":{\"symbol\":\"circle\"},\"mode\":\"markers+lines\",\"name\":\"MINICOMPACT\",\"orientation\":\"v\",\"showlegend\":true,\"x\":[2019],\"xaxis\":\"x\",\"y\":[28.0],\"yaxis\":\"y\",\"type\":\"scatter\"},{\"hovertemplate\":\"color=MINIVAN<br>animation_frame=2019<br>x=%{x}<br>y=%{y}<extra></extra>\",\"ids\":[\"MINIVAN\"],\"legendgroup\":\"MINIVAN\",\"line\":{\"color\":\"#DA16FF\",\"dash\":\"solid\"},\"marker\":{\"symbol\":\"circle\"},\"mode\":\"markers+lines\",\"name\":\"MINIVAN\",\"orientation\":\"v\",\"showlegend\":true,\"x\":[2019],\"xaxis\":\"x\",\"y\":[24.666666666666668],\"yaxis\":\"y\",\"type\":\"scatter\"},{\"hovertemplate\":\"color=PICKUP TRUCK - SMALL<br>animation_frame=2019<br>x=%{x}<br>y=%{y}<extra></extra>\",\"ids\":[\"PICKUP TRUCK - SMALL\"],\"legendgroup\":\"PICKUP TRUCK - SMALL\",\"line\":{\"color\":\"#222A2A\",\"dash\":\"solid\"},\"marker\":{\"symbol\":\"circle\"},\"mode\":\"markers+lines\",\"name\":\"PICKUP TRUCK - SMALL\",\"orientation\":\"v\",\"showlegend\":true,\"x\":[2019],\"xaxis\":\"x\",\"y\":[24.16],\"yaxis\":\"y\",\"type\":\"scatter\"},{\"hovertemplate\":\"color=PICKUP TRUCK - STANDARD<br>animation_frame=2019<br>x=%{x}<br>y=%{y}<extra></extra>\",\"ids\":[\"PICKUP TRUCK - STANDARD\"],\"legendgroup\":\"PICKUP TRUCK - STANDARD\",\"line\":{\"color\":\"#B68100\",\"dash\":\"solid\"},\"marker\":{\"symbol\":\"circle\"},\"mode\":\"markers+lines\",\"name\":\"PICKUP TRUCK - STANDARD\",\"orientation\":\"v\",\"showlegend\":true,\"x\":[2019],\"xaxis\":\"x\",\"y\":[21.32323232323232],\"yaxis\":\"y\",\"type\":\"scatter\"},{\"hovertemplate\":\"color=STATION WAGON - MID-SIZE<br>animation_frame=2019<br>x=%{x}<br>y=%{y}<extra></extra>\",\"ids\":[\"STATION WAGON - MID-SIZE\"],\"legendgroup\":\"STATION WAGON - MID-SIZE\",\"line\":{\"color\":\"#750D86\",\"dash\":\"solid\"},\"marker\":{\"symbol\":\"circle\"},\"mode\":\"markers+lines\",\"name\":\"STATION WAGON - MID-SIZE\",\"orientation\":\"v\",\"showlegend\":true,\"x\":[2019],\"xaxis\":\"x\",\"y\":[26.11111111111111],\"yaxis\":\"y\",\"type\":\"scatter\"},{\"hovertemplate\":\"color=STATION WAGON - SMALL<br>animation_frame=2019<br>x=%{x}<br>y=%{y}<extra></extra>\",\"ids\":[\"STATION WAGON - SMALL\"],\"legendgroup\":\"STATION WAGON - SMALL\",\"line\":{\"color\":\"#EB663B\",\"dash\":\"solid\"},\"marker\":{\"symbol\":\"circle\"},\"mode\":\"markers+lines\",\"name\":\"STATION WAGON - SMALL\",\"orientation\":\"v\",\"showlegend\":true,\"x\":[2019],\"xaxis\":\"x\",\"y\":[34.891891891891895],\"yaxis\":\"y\",\"type\":\"scatter\"},{\"hovertemplate\":\"color=SUBCOMPACT<br>animation_frame=2019<br>x=%{x}<br>y=%{y}<extra></extra>\",\"ids\":[\"SUBCOMPACT\"],\"legendgroup\":\"SUBCOMPACT\",\"line\":{\"color\":\"#511CFB\",\"dash\":\"solid\"},\"marker\":{\"symbol\":\"circle\"},\"mode\":\"markers+lines\",\"name\":\"SUBCOMPACT\",\"orientation\":\"v\",\"showlegend\":true,\"x\":[2019],\"xaxis\":\"x\",\"y\":[27.948979591836736],\"yaxis\":\"y\",\"type\":\"scatter\"},{\"hovertemplate\":\"color=TWO-SEATER<br>animation_frame=2019<br>x=%{x}<br>y=%{y}<extra></extra>\",\"ids\":[\"TWO-SEATER\"],\"legendgroup\":\"TWO-SEATER\",\"line\":{\"color\":\"#FB00D1\",\"dash\":\"solid\"},\"marker\":{\"symbol\":\"circle\"},\"mode\":\"markers+lines\",\"name\":\"TWO-SEATER\",\"orientation\":\"v\",\"showlegend\":true,\"x\":[2019],\"xaxis\":\"x\",\"y\":[24.37142857142857],\"yaxis\":\"y\",\"type\":\"scatter\"},{\"hovertemplate\":\"color=VAN - PASSENGER<br>animation_frame=2019<br>x=%{x}<br>y=%{y}<extra></extra>\",\"ids\":[\"VAN - PASSENGER\"],\"legendgroup\":\"VAN - PASSENGER\",\"line\":{\"color\":\"#B2828D\",\"dash\":\"solid\"},\"marker\":{\"symbol\":\"circle\"},\"mode\":\"markers+lines\",\"name\":\"VAN - PASSENGER\",\"orientation\":\"v\",\"showlegend\":true,\"x\":[2019],\"xaxis\":\"x\",\"y\":[19.0],\"yaxis\":\"y\",\"type\":\"scatter\"},{\"hovertemplate\":\"color=SUV - STANDARD<br>animation_frame=2019<br>x=%{x}<br>y=%{y}<extra></extra>\",\"ids\":[\"SUV - STANDARD\"],\"legendgroup\":\"SUV - STANDARD\",\"line\":{\"color\":\"#6C7C32\",\"dash\":\"solid\"},\"marker\":{\"symbol\":\"circle\"},\"mode\":\"markers+lines\",\"name\":\"SUV - STANDARD\",\"orientation\":\"v\",\"showlegend\":true,\"x\":[2019],\"xaxis\":\"x\",\"y\":[21.756756756756758],\"yaxis\":\"y\",\"type\":\"scatter\"},{\"hovertemplate\":\"color=SPECIAL PURPOSE VEHICLE<br>animation_frame=2019<br>x=%{x}<br>y=%{y}<extra></extra>\",\"ids\":[\"SPECIAL PURPOSE VEHICLE\"],\"legendgroup\":\"SPECIAL PURPOSE VEHICLE\",\"line\":{\"color\":\"#778AAE\",\"dash\":\"solid\"},\"marker\":{\"symbol\":\"circle\"},\"mode\":\"markers+lines\",\"name\":\"SPECIAL PURPOSE VEHICLE\",\"orientation\":\"v\",\"showlegend\":true,\"x\":[2019],\"xaxis\":\"x\",\"y\":[27.071428571428573],\"yaxis\":\"y\",\"type\":\"scatter\"},{\"hovertemplate\":\"color=SUV - SMALL<br>animation_frame=2019<br>x=%{x}<br>y=%{y}<extra></extra>\",\"ids\":[\"SUV - SMALL\"],\"legendgroup\":\"SUV - SMALL\",\"line\":{\"color\":\"#862A16\",\"dash\":\"solid\"},\"marker\":{\"symbol\":\"circle\"},\"mode\":\"markers+lines\",\"name\":\"SUV - SMALL\",\"orientation\":\"v\",\"showlegend\":true,\"x\":[2019],\"xaxis\":\"x\",\"y\":[28.913793103448278],\"yaxis\":\"y\",\"type\":\"scatter\"}],\"name\":\"2019\"},{\"data\":[{\"hovertemplate\":\"color=COMPACT<br>animation_frame=2020<br>x=%{x}<br>y=%{y}<extra></extra>\",\"ids\":[\"COMPACT\"],\"legendgroup\":\"COMPACT\",\"line\":{\"color\":\"#2E91E5\",\"dash\":\"solid\"},\"marker\":{\"symbol\":\"circle\"},\"mode\":\"markers+lines\",\"name\":\"COMPACT\",\"orientation\":\"v\",\"showlegend\":true,\"x\":[2020],\"xaxis\":\"x\",\"y\":[32.28703703703704],\"yaxis\":\"y\",\"type\":\"scatter\"},{\"hovertemplate\":\"color=FULL-SIZE<br>animation_frame=2020<br>x=%{x}<br>y=%{y}<extra></extra>\",\"ids\":[\"FULL-SIZE\"],\"legendgroup\":\"FULL-SIZE\",\"line\":{\"color\":\"#E15F99\",\"dash\":\"solid\"},\"marker\":{\"symbol\":\"circle\"},\"mode\":\"markers+lines\",\"name\":\"FULL-SIZE\",\"orientation\":\"v\",\"showlegend\":true,\"x\":[2020],\"xaxis\":\"x\",\"y\":[28.102564102564102],\"yaxis\":\"y\",\"type\":\"scatter\"},{\"hovertemplate\":\"color=MID-SIZE<br>animation_frame=2020<br>x=%{x}<br>y=%{y}<extra></extra>\",\"ids\":[\"MID-SIZE\"],\"legendgroup\":\"MID-SIZE\",\"line\":{\"color\":\"#1CA71C\",\"dash\":\"solid\"},\"marker\":{\"symbol\":\"circle\"},\"mode\":\"markers+lines\",\"name\":\"MID-SIZE\",\"orientation\":\"v\",\"showlegend\":true,\"x\":[2020],\"xaxis\":\"x\",\"y\":[31.365079365079364],\"yaxis\":\"y\",\"type\":\"scatter\"},{\"hovertemplate\":\"color=MINICOMPACT<br>animation_frame=2020<br>x=%{x}<br>y=%{y}<extra></extra>\",\"ids\":[\"MINICOMPACT\"],\"legendgroup\":\"MINICOMPACT\",\"line\":{\"color\":\"#FB0D0D\",\"dash\":\"solid\"},\"marker\":{\"symbol\":\"circle\"},\"mode\":\"markers+lines\",\"name\":\"MINICOMPACT\",\"orientation\":\"v\",\"showlegend\":true,\"x\":[2020],\"xaxis\":\"x\",\"y\":[26.652173913043477],\"yaxis\":\"y\",\"type\":\"scatter\"},{\"hovertemplate\":\"color=MINIVAN<br>animation_frame=2020<br>x=%{x}<br>y=%{y}<extra></extra>\",\"ids\":[\"MINIVAN\"],\"legendgroup\":\"MINIVAN\",\"line\":{\"color\":\"#DA16FF\",\"dash\":\"solid\"},\"marker\":{\"symbol\":\"circle\"},\"mode\":\"markers+lines\",\"name\":\"MINIVAN\",\"orientation\":\"v\",\"showlegend\":true,\"x\":[2020],\"xaxis\":\"x\",\"y\":[25.5],\"yaxis\":\"y\",\"type\":\"scatter\"},{\"hovertemplate\":\"color=PICKUP TRUCK - SMALL<br>animation_frame=2020<br>x=%{x}<br>y=%{y}<extra></extra>\",\"ids\":[\"PICKUP TRUCK - SMALL\"],\"legendgroup\":\"PICKUP TRUCK - SMALL\",\"line\":{\"color\":\"#222A2A\",\"dash\":\"solid\"},\"marker\":{\"symbol\":\"circle\"},\"mode\":\"markers+lines\",\"name\":\"PICKUP TRUCK - SMALL\",\"orientation\":\"v\",\"showlegend\":true,\"x\":[2020],\"xaxis\":\"x\",\"y\":[24.526315789473685],\"yaxis\":\"y\",\"type\":\"scatter\"},{\"hovertemplate\":\"color=PICKUP TRUCK - STANDARD<br>animation_frame=2020<br>x=%{x}<br>y=%{y}<extra></extra>\",\"ids\":[\"PICKUP TRUCK - STANDARD\"],\"legendgroup\":\"PICKUP TRUCK - STANDARD\",\"line\":{\"color\":\"#B68100\",\"dash\":\"solid\"},\"marker\":{\"symbol\":\"circle\"},\"mode\":\"markers+lines\",\"name\":\"PICKUP TRUCK - STANDARD\",\"orientation\":\"v\",\"showlegend\":true,\"x\":[2020],\"xaxis\":\"x\",\"y\":[22.13186813186813],\"yaxis\":\"y\",\"type\":\"scatter\"},{\"hovertemplate\":\"color=STATION WAGON - MID-SIZE<br>animation_frame=2020<br>x=%{x}<br>y=%{y}<extra></extra>\",\"ids\":[\"STATION WAGON - MID-SIZE\"],\"legendgroup\":\"STATION WAGON - MID-SIZE\",\"line\":{\"color\":\"#750D86\",\"dash\":\"solid\"},\"marker\":{\"symbol\":\"circle\"},\"mode\":\"markers+lines\",\"name\":\"STATION WAGON - MID-SIZE\",\"orientation\":\"v\",\"showlegend\":true,\"x\":[2020],\"xaxis\":\"x\",\"y\":[24.0],\"yaxis\":\"y\",\"type\":\"scatter\"},{\"hovertemplate\":\"color=STATION WAGON - SMALL<br>animation_frame=2020<br>x=%{x}<br>y=%{y}<extra></extra>\",\"ids\":[\"STATION WAGON - SMALL\"],\"legendgroup\":\"STATION WAGON - SMALL\",\"line\":{\"color\":\"#EB663B\",\"dash\":\"solid\"},\"marker\":{\"symbol\":\"circle\"},\"mode\":\"markers+lines\",\"name\":\"STATION WAGON - SMALL\",\"orientation\":\"v\",\"showlegend\":true,\"x\":[2020],\"xaxis\":\"x\",\"y\":[36.2],\"yaxis\":\"y\",\"type\":\"scatter\"},{\"hovertemplate\":\"color=SUBCOMPACT<br>animation_frame=2020<br>x=%{x}<br>y=%{y}<extra></extra>\",\"ids\":[\"SUBCOMPACT\"],\"legendgroup\":\"SUBCOMPACT\",\"line\":{\"color\":\"#511CFB\",\"dash\":\"solid\"},\"marker\":{\"symbol\":\"circle\"},\"mode\":\"markers+lines\",\"name\":\"SUBCOMPACT\",\"orientation\":\"v\",\"showlegend\":true,\"x\":[2020],\"xaxis\":\"x\",\"y\":[26.821052631578947],\"yaxis\":\"y\",\"type\":\"scatter\"},{\"hovertemplate\":\"color=TWO-SEATER<br>animation_frame=2020<br>x=%{x}<br>y=%{y}<extra></extra>\",\"ids\":[\"TWO-SEATER\"],\"legendgroup\":\"TWO-SEATER\",\"line\":{\"color\":\"#FB00D1\",\"dash\":\"solid\"},\"marker\":{\"symbol\":\"circle\"},\"mode\":\"markers+lines\",\"name\":\"TWO-SEATER\",\"orientation\":\"v\",\"showlegend\":true,\"x\":[2020],\"xaxis\":\"x\",\"y\":[24.421875],\"yaxis\":\"y\",\"type\":\"scatter\"},{\"hovertemplate\":\"color=VAN - PASSENGER<br>animation_frame=2020<br>x=%{x}<br>y=%{y}<extra></extra>\",\"ids\":[\"VAN - PASSENGER\"],\"legendgroup\":\"VAN - PASSENGER\",\"line\":{\"color\":\"#B2828D\",\"dash\":\"solid\"},\"marker\":{\"symbol\":\"circle\"},\"mode\":\"markers+lines\",\"name\":\"VAN - PASSENGER\",\"orientation\":\"v\",\"showlegend\":true,\"x\":[2020],\"xaxis\":\"x\",\"y\":[16.75],\"yaxis\":\"y\",\"type\":\"scatter\"},{\"hovertemplate\":\"color=SUV - STANDARD<br>animation_frame=2020<br>x=%{x}<br>y=%{y}<extra></extra>\",\"ids\":[\"SUV - STANDARD\"],\"legendgroup\":\"SUV - STANDARD\",\"line\":{\"color\":\"#6C7C32\",\"dash\":\"solid\"},\"marker\":{\"symbol\":\"circle\"},\"mode\":\"markers+lines\",\"name\":\"SUV - STANDARD\",\"orientation\":\"v\",\"showlegend\":true,\"x\":[2020],\"xaxis\":\"x\",\"y\":[22.084745762711865],\"yaxis\":\"y\",\"type\":\"scatter\"},{\"hovertemplate\":\"color=SPECIAL PURPOSE VEHICLE<br>animation_frame=2020<br>x=%{x}<br>y=%{y}<extra></extra>\",\"ids\":[\"SPECIAL PURPOSE VEHICLE\"],\"legendgroup\":\"SPECIAL PURPOSE VEHICLE\",\"line\":{\"color\":\"#778AAE\",\"dash\":\"solid\"},\"marker\":{\"symbol\":\"circle\"},\"mode\":\"markers+lines\",\"name\":\"SPECIAL PURPOSE VEHICLE\",\"orientation\":\"v\",\"showlegend\":true,\"x\":[2020],\"xaxis\":\"x\",\"y\":[27.615384615384617],\"yaxis\":\"y\",\"type\":\"scatter\"},{\"hovertemplate\":\"color=SUV - SMALL<br>animation_frame=2020<br>x=%{x}<br>y=%{y}<extra></extra>\",\"ids\":[\"SUV - SMALL\"],\"legendgroup\":\"SUV - SMALL\",\"line\":{\"color\":\"#862A16\",\"dash\":\"solid\"},\"marker\":{\"symbol\":\"circle\"},\"mode\":\"markers+lines\",\"name\":\"SUV - SMALL\",\"orientation\":\"v\",\"showlegend\":true,\"x\":[2020],\"xaxis\":\"x\",\"y\":[28.824468085106382],\"yaxis\":\"y\",\"type\":\"scatter\"}],\"name\":\"2020\"},{\"data\":[{\"hovertemplate\":\"color=COMPACT<br>animation_frame=2021<br>x=%{x}<br>y=%{y}<extra></extra>\",\"ids\":[\"COMPACT\"],\"legendgroup\":\"COMPACT\",\"line\":{\"color\":\"#2E91E5\",\"dash\":\"solid\"},\"marker\":{\"symbol\":\"circle\"},\"mode\":\"markers+lines\",\"name\":\"COMPACT\",\"orientation\":\"v\",\"showlegend\":true,\"x\":[2021],\"xaxis\":\"x\",\"y\":[32.92941176470588],\"yaxis\":\"y\",\"type\":\"scatter\"},{\"hovertemplate\":\"color=FULL-SIZE<br>animation_frame=2021<br>x=%{x}<br>y=%{y}<extra></extra>\",\"ids\":[\"FULL-SIZE\"],\"legendgroup\":\"FULL-SIZE\",\"line\":{\"color\":\"#E15F99\",\"dash\":\"solid\"},\"marker\":{\"symbol\":\"circle\"},\"mode\":\"markers+lines\",\"name\":\"FULL-SIZE\",\"orientation\":\"v\",\"showlegend\":true,\"x\":[2021],\"xaxis\":\"x\",\"y\":[29.0],\"yaxis\":\"y\",\"type\":\"scatter\"},{\"hovertemplate\":\"color=MID-SIZE<br>animation_frame=2021<br>x=%{x}<br>y=%{y}<extra></extra>\",\"ids\":[\"MID-SIZE\"],\"legendgroup\":\"MID-SIZE\",\"line\":{\"color\":\"#1CA71C\",\"dash\":\"solid\"},\"marker\":{\"symbol\":\"circle\"},\"mode\":\"markers+lines\",\"name\":\"MID-SIZE\",\"orientation\":\"v\",\"showlegend\":true,\"x\":[2021],\"xaxis\":\"x\",\"y\":[31.42105263157895],\"yaxis\":\"y\",\"type\":\"scatter\"},{\"hovertemplate\":\"color=MINICOMPACT<br>animation_frame=2021<br>x=%{x}<br>y=%{y}<extra></extra>\",\"ids\":[\"MINICOMPACT\"],\"legendgroup\":\"MINICOMPACT\",\"line\":{\"color\":\"#FB0D0D\",\"dash\":\"solid\"},\"marker\":{\"symbol\":\"circle\"},\"mode\":\"markers+lines\",\"name\":\"MINICOMPACT\",\"orientation\":\"v\",\"showlegend\":true,\"x\":[2021],\"xaxis\":\"x\",\"y\":[24.9],\"yaxis\":\"y\",\"type\":\"scatter\"},{\"hovertemplate\":\"color=MINIVAN<br>animation_frame=2021<br>x=%{x}<br>y=%{y}<extra></extra>\",\"ids\":[\"MINIVAN\"],\"legendgroup\":\"MINIVAN\",\"line\":{\"color\":\"#DA16FF\",\"dash\":\"solid\"},\"marker\":{\"symbol\":\"circle\"},\"mode\":\"markers+lines\",\"name\":\"MINIVAN\",\"orientation\":\"v\",\"showlegend\":true,\"x\":[2021],\"xaxis\":\"x\",\"y\":[30.714285714285715],\"yaxis\":\"y\",\"type\":\"scatter\"},{\"hovertemplate\":\"color=PICKUP TRUCK - SMALL<br>animation_frame=2021<br>x=%{x}<br>y=%{y}<extra></extra>\",\"ids\":[\"PICKUP TRUCK - SMALL\"],\"legendgroup\":\"PICKUP TRUCK - SMALL\",\"line\":{\"color\":\"#222A2A\",\"dash\":\"solid\"},\"marker\":{\"symbol\":\"circle\"},\"mode\":\"markers+lines\",\"name\":\"PICKUP TRUCK - SMALL\",\"orientation\":\"v\",\"showlegend\":true,\"x\":[2021],\"xaxis\":\"x\",\"y\":[24.58823529411765],\"yaxis\":\"y\",\"type\":\"scatter\"},{\"hovertemplate\":\"color=PICKUP TRUCK - STANDARD<br>animation_frame=2021<br>x=%{x}<br>y=%{y}<extra></extra>\",\"ids\":[\"PICKUP TRUCK - STANDARD\"],\"legendgroup\":\"PICKUP TRUCK - STANDARD\",\"line\":{\"color\":\"#B68100\",\"dash\":\"solid\"},\"marker\":{\"symbol\":\"circle\"},\"mode\":\"markers+lines\",\"name\":\"PICKUP TRUCK - STANDARD\",\"orientation\":\"v\",\"showlegend\":true,\"x\":[2021],\"xaxis\":\"x\",\"y\":[21.8],\"yaxis\":\"y\",\"type\":\"scatter\"},{\"hovertemplate\":\"color=STATION WAGON - MID-SIZE<br>animation_frame=2021<br>x=%{x}<br>y=%{y}<extra></extra>\",\"ids\":[\"STATION WAGON - MID-SIZE\"],\"legendgroup\":\"STATION WAGON - MID-SIZE\",\"line\":{\"color\":\"#750D86\",\"dash\":\"solid\"},\"marker\":{\"symbol\":\"circle\"},\"mode\":\"markers+lines\",\"name\":\"STATION WAGON - MID-SIZE\",\"orientation\":\"v\",\"showlegend\":true,\"x\":[2021],\"xaxis\":\"x\",\"y\":[24.0],\"yaxis\":\"y\",\"type\":\"scatter\"},{\"hovertemplate\":\"color=STATION WAGON - SMALL<br>animation_frame=2021<br>x=%{x}<br>y=%{y}<extra></extra>\",\"ids\":[\"STATION WAGON - SMALL\"],\"legendgroup\":\"STATION WAGON - SMALL\",\"line\":{\"color\":\"#EB663B\",\"dash\":\"solid\"},\"marker\":{\"symbol\":\"circle\"},\"mode\":\"markers+lines\",\"name\":\"STATION WAGON - SMALL\",\"orientation\":\"v\",\"showlegend\":true,\"x\":[2021],\"xaxis\":\"x\",\"y\":[36.4],\"yaxis\":\"y\",\"type\":\"scatter\"},{\"hovertemplate\":\"color=SUBCOMPACT<br>animation_frame=2021<br>x=%{x}<br>y=%{y}<extra></extra>\",\"ids\":[\"SUBCOMPACT\"],\"legendgroup\":\"SUBCOMPACT\",\"line\":{\"color\":\"#511CFB\",\"dash\":\"solid\"},\"marker\":{\"symbol\":\"circle\"},\"mode\":\"markers+lines\",\"name\":\"SUBCOMPACT\",\"orientation\":\"v\",\"showlegend\":true,\"x\":[2021],\"xaxis\":\"x\",\"y\":[27.373493975903614],\"yaxis\":\"y\",\"type\":\"scatter\"},{\"hovertemplate\":\"color=TWO-SEATER<br>animation_frame=2021<br>x=%{x}<br>y=%{y}<extra></extra>\",\"ids\":[\"TWO-SEATER\"],\"legendgroup\":\"TWO-SEATER\",\"line\":{\"color\":\"#FB00D1\",\"dash\":\"solid\"},\"marker\":{\"symbol\":\"circle\"},\"mode\":\"markers+lines\",\"name\":\"TWO-SEATER\",\"orientation\":\"v\",\"showlegend\":true,\"x\":[2021],\"xaxis\":\"x\",\"y\":[23.0],\"yaxis\":\"y\",\"type\":\"scatter\"},{\"hovertemplate\":\"color=VAN - PASSENGER<br>animation_frame=2021<br>x=%{x}<br>y=%{y}<extra></extra>\",\"ids\":[\"VAN - PASSENGER\"],\"legendgroup\":\"VAN - PASSENGER\",\"line\":{\"color\":\"#B2828D\",\"dash\":\"solid\"},\"marker\":{\"symbol\":\"circle\"},\"mode\":\"markers+lines\",\"name\":\"VAN - PASSENGER\",\"orientation\":\"v\",\"showlegend\":true,\"x\":[2021],\"xaxis\":\"x\",\"y\":[16.75],\"yaxis\":\"y\",\"type\":\"scatter\"},{\"hovertemplate\":\"color=SUV - STANDARD<br>animation_frame=2021<br>x=%{x}<br>y=%{y}<extra></extra>\",\"ids\":[\"SUV - STANDARD\"],\"legendgroup\":\"SUV - STANDARD\",\"line\":{\"color\":\"#6C7C32\",\"dash\":\"solid\"},\"marker\":{\"symbol\":\"circle\"},\"mode\":\"markers+lines\",\"name\":\"SUV - STANDARD\",\"orientation\":\"v\",\"showlegend\":true,\"x\":[2021],\"xaxis\":\"x\",\"y\":[22.58267716535433],\"yaxis\":\"y\",\"type\":\"scatter\"},{\"hovertemplate\":\"color=SPECIAL PURPOSE VEHICLE<br>animation_frame=2021<br>x=%{x}<br>y=%{y}<extra></extra>\",\"ids\":[\"SPECIAL PURPOSE VEHICLE\"],\"legendgroup\":\"SPECIAL PURPOSE VEHICLE\",\"line\":{\"color\":\"#778AAE\",\"dash\":\"solid\"},\"marker\":{\"symbol\":\"circle\"},\"mode\":\"markers+lines\",\"name\":\"SPECIAL PURPOSE VEHICLE\",\"orientation\":\"v\",\"showlegend\":true,\"x\":[2021],\"xaxis\":\"x\",\"y\":[27.076923076923077],\"yaxis\":\"y\",\"type\":\"scatter\"},{\"hovertemplate\":\"color=SUV - SMALL<br>animation_frame=2021<br>x=%{x}<br>y=%{y}<extra></extra>\",\"ids\":[\"SUV - SMALL\"],\"legendgroup\":\"SUV - SMALL\",\"line\":{\"color\":\"#862A16\",\"dash\":\"solid\"},\"marker\":{\"symbol\":\"circle\"},\"mode\":\"markers+lines\",\"name\":\"SUV - SMALL\",\"orientation\":\"v\",\"showlegend\":true,\"x\":[2021],\"xaxis\":\"x\",\"y\":[29.435233160621763],\"yaxis\":\"y\",\"type\":\"scatter\"}],\"name\":\"2021\"},{\"data\":[{\"hovertemplate\":\"color=COMPACT<br>animation_frame=2022<br>x=%{x}<br>y=%{y}<extra></extra>\",\"ids\":[\"COMPACT\"],\"legendgroup\":\"COMPACT\",\"line\":{\"color\":\"#2E91E5\",\"dash\":\"solid\"},\"marker\":{\"symbol\":\"circle\"},\"mode\":\"markers+lines\",\"name\":\"COMPACT\",\"orientation\":\"v\",\"showlegend\":true,\"x\":[2022],\"xaxis\":\"x\",\"y\":[33.22857142857143],\"yaxis\":\"y\",\"type\":\"scatter\"},{\"hovertemplate\":\"color=FULL-SIZE<br>animation_frame=2022<br>x=%{x}<br>y=%{y}<extra></extra>\",\"ids\":[\"FULL-SIZE\"],\"legendgroup\":\"FULL-SIZE\",\"line\":{\"color\":\"#E15F99\",\"dash\":\"solid\"},\"marker\":{\"symbol\":\"circle\"},\"mode\":\"markers+lines\",\"name\":\"FULL-SIZE\",\"orientation\":\"v\",\"showlegend\":true,\"x\":[2022],\"xaxis\":\"x\",\"y\":[28.890625],\"yaxis\":\"y\",\"type\":\"scatter\"},{\"hovertemplate\":\"color=MID-SIZE<br>animation_frame=2022<br>x=%{x}<br>y=%{y}<extra></extra>\",\"ids\":[\"MID-SIZE\"],\"legendgroup\":\"MID-SIZE\",\"line\":{\"color\":\"#1CA71C\",\"dash\":\"solid\"},\"marker\":{\"symbol\":\"circle\"},\"mode\":\"markers+lines\",\"name\":\"MID-SIZE\",\"orientation\":\"v\",\"showlegend\":true,\"x\":[2022],\"xaxis\":\"x\",\"y\":[31.034188034188034],\"yaxis\":\"y\",\"type\":\"scatter\"},{\"hovertemplate\":\"color=MINICOMPACT<br>animation_frame=2022<br>x=%{x}<br>y=%{y}<extra></extra>\",\"ids\":[\"MINICOMPACT\"],\"legendgroup\":\"MINICOMPACT\",\"line\":{\"color\":\"#FB0D0D\",\"dash\":\"solid\"},\"marker\":{\"symbol\":\"circle\"},\"mode\":\"markers+lines\",\"name\":\"MINICOMPACT\",\"orientation\":\"v\",\"showlegend\":true,\"x\":[2022],\"xaxis\":\"x\",\"y\":[24.224489795918366],\"yaxis\":\"y\",\"type\":\"scatter\"},{\"hovertemplate\":\"color=MINIVAN<br>animation_frame=2022<br>x=%{x}<br>y=%{y}<extra></extra>\",\"ids\":[\"MINIVAN\"],\"legendgroup\":\"MINIVAN\",\"line\":{\"color\":\"#DA16FF\",\"dash\":\"solid\"},\"marker\":{\"symbol\":\"circle\"},\"mode\":\"markers+lines\",\"name\":\"MINIVAN\",\"orientation\":\"v\",\"showlegend\":true,\"x\":[2022],\"xaxis\":\"x\",\"y\":[31.0],\"yaxis\":\"y\",\"type\":\"scatter\"},{\"hovertemplate\":\"color=PICKUP TRUCK - SMALL<br>animation_frame=2022<br>x=%{x}<br>y=%{y}<extra></extra>\",\"ids\":[\"PICKUP TRUCK - SMALL\"],\"legendgroup\":\"PICKUP TRUCK - SMALL\",\"line\":{\"color\":\"#222A2A\",\"dash\":\"solid\"},\"marker\":{\"symbol\":\"circle\"},\"mode\":\"markers+lines\",\"name\":\"PICKUP TRUCK - SMALL\",\"orientation\":\"v\",\"showlegend\":true,\"x\":[2022],\"xaxis\":\"x\",\"y\":[26.0],\"yaxis\":\"y\",\"type\":\"scatter\"},{\"hovertemplate\":\"color=PICKUP TRUCK - STANDARD<br>animation_frame=2022<br>x=%{x}<br>y=%{y}<extra></extra>\",\"ids\":[\"PICKUP TRUCK - STANDARD\"],\"legendgroup\":\"PICKUP TRUCK - STANDARD\",\"line\":{\"color\":\"#B68100\",\"dash\":\"solid\"},\"marker\":{\"symbol\":\"circle\"},\"mode\":\"markers+lines\",\"name\":\"PICKUP TRUCK - STANDARD\",\"orientation\":\"v\",\"showlegend\":true,\"x\":[2022],\"xaxis\":\"x\",\"y\":[21.460176991150444],\"yaxis\":\"y\",\"type\":\"scatter\"},{\"hovertemplate\":\"color=STATION WAGON - MID-SIZE<br>animation_frame=2022<br>x=%{x}<br>y=%{y}<extra></extra>\",\"ids\":[\"STATION WAGON - MID-SIZE\"],\"legendgroup\":\"STATION WAGON - MID-SIZE\",\"line\":{\"color\":\"#750D86\",\"dash\":\"solid\"},\"marker\":{\"symbol\":\"circle\"},\"mode\":\"markers+lines\",\"name\":\"STATION WAGON - MID-SIZE\",\"orientation\":\"v\",\"showlegend\":true,\"x\":[2022],\"xaxis\":\"x\",\"y\":[24.25],\"yaxis\":\"y\",\"type\":\"scatter\"},{\"hovertemplate\":\"color=STATION WAGON - SMALL<br>animation_frame=2022<br>x=%{x}<br>y=%{y}<extra></extra>\",\"ids\":[\"STATION WAGON - SMALL\"],\"legendgroup\":\"STATION WAGON - SMALL\",\"line\":{\"color\":\"#EB663B\",\"dash\":\"solid\"},\"marker\":{\"symbol\":\"circle\"},\"mode\":\"markers+lines\",\"name\":\"STATION WAGON - SMALL\",\"orientation\":\"v\",\"showlegend\":true,\"x\":[2022],\"xaxis\":\"x\",\"y\":[36.26315789473684],\"yaxis\":\"y\",\"type\":\"scatter\"},{\"hovertemplate\":\"color=SUBCOMPACT<br>animation_frame=2022<br>x=%{x}<br>y=%{y}<extra></extra>\",\"ids\":[\"SUBCOMPACT\"],\"legendgroup\":\"SUBCOMPACT\",\"line\":{\"color\":\"#511CFB\",\"dash\":\"solid\"},\"marker\":{\"symbol\":\"circle\"},\"mode\":\"markers+lines\",\"name\":\"SUBCOMPACT\",\"orientation\":\"v\",\"showlegend\":true,\"x\":[2022],\"xaxis\":\"x\",\"y\":[27.620253164556964],\"yaxis\":\"y\",\"type\":\"scatter\"},{\"hovertemplate\":\"color=TWO-SEATER<br>animation_frame=2022<br>x=%{x}<br>y=%{y}<extra></extra>\",\"ids\":[\"TWO-SEATER\"],\"legendgroup\":\"TWO-SEATER\",\"line\":{\"color\":\"#FB00D1\",\"dash\":\"solid\"},\"marker\":{\"symbol\":\"circle\"},\"mode\":\"markers+lines\",\"name\":\"TWO-SEATER\",\"orientation\":\"v\",\"showlegend\":true,\"x\":[2022],\"xaxis\":\"x\",\"y\":[23.15686274509804],\"yaxis\":\"y\",\"type\":\"scatter\"},{\"hovertemplate\":\"color=SUV - STANDARD<br>animation_frame=2022<br>x=%{x}<br>y=%{y}<extra></extra>\",\"ids\":[\"SUV - STANDARD\"],\"legendgroup\":\"SUV - STANDARD\",\"line\":{\"color\":\"#6C7C32\",\"dash\":\"solid\"},\"marker\":{\"symbol\":\"circle\"},\"mode\":\"markers+lines\",\"name\":\"SUV - STANDARD\",\"orientation\":\"v\",\"showlegend\":true,\"x\":[2022],\"xaxis\":\"x\",\"y\":[22.463087248322147],\"yaxis\":\"y\",\"type\":\"scatter\"},{\"hovertemplate\":\"color=SPECIAL PURPOSE VEHICLE<br>animation_frame=2022<br>x=%{x}<br>y=%{y}<extra></extra>\",\"ids\":[\"SPECIAL PURPOSE VEHICLE\"],\"legendgroup\":\"SPECIAL PURPOSE VEHICLE\",\"line\":{\"color\":\"#778AAE\",\"dash\":\"solid\"},\"marker\":{\"symbol\":\"circle\"},\"mode\":\"markers+lines\",\"name\":\"SPECIAL PURPOSE VEHICLE\",\"orientation\":\"v\",\"showlegend\":true,\"x\":[2022],\"xaxis\":\"x\",\"y\":[26.75],\"yaxis\":\"y\",\"type\":\"scatter\"},{\"hovertemplate\":\"color=SUV - SMALL<br>animation_frame=2022<br>x=%{x}<br>y=%{y}<extra></extra>\",\"ids\":[\"SUV - SMALL\"],\"legendgroup\":\"SUV - SMALL\",\"line\":{\"color\":\"#862A16\",\"dash\":\"solid\"},\"marker\":{\"symbol\":\"circle\"},\"mode\":\"markers+lines\",\"name\":\"SUV - SMALL\",\"orientation\":\"v\",\"showlegend\":true,\"x\":[2022],\"xaxis\":\"x\",\"y\":[29.781725888324875],\"yaxis\":\"y\",\"type\":\"scatter\"}],\"name\":\"2022\"}]);\n",
       "                        }).then(function(){\n",
       "                            \n",
       "var gd = document.getElementById('c3879f9c-a38d-478b-8c69-8460d46ac29b');\n",
       "var x = new MutationObserver(function (mutations, observer) {{\n",
       "        var display = window.getComputedStyle(gd).display;\n",
       "        if (!display || display === 'none') {{\n",
       "            console.log([gd, 'removed!']);\n",
       "            Plotly.purge(gd);\n",
       "            observer.disconnect();\n",
       "        }}\n",
       "}});\n",
       "\n",
       "// Listen for the removal of the full notebook cells\n",
       "var notebookContainer = gd.closest('#notebook-container');\n",
       "if (notebookContainer) {{\n",
       "    x.observe(notebookContainer, {childList: true});\n",
       "}}\n",
       "\n",
       "// Listen for the clearing of the current output cell\n",
       "var outputEl = gd.closest('.output');\n",
       "if (outputEl) {{\n",
       "    x.observe(outputEl, {childList: true});\n",
       "}}\n",
       "\n",
       "                        })                };                });            </script>        </div>"
      ]
     },
     "metadata": {},
     "output_type": "display_data"
    }
   ],
   "source": [
    "# animation and ranges\n",
    "fig_3 = px.line(\n",
    "    x = Year,\n",
    "    y = CombineMPG,\n",
    "    color = VehicleClass,\n",
    "    markers = True,\n",
    "    color_discrete_sequence = px.colors.qualitative.Dark24,\n",
    "    animation_frame = Year,\n",
    "    animation_group = VehicleClass,\n",
    "    log_x = True,\n",
    "    range_x = [1999, 2023],\n",
    "    range_y = [14, 40]\n",
    ")\n",
    "\n",
    "fig_3.update_layout(\n",
    "    title = 'Average Combined MPG per Vehicle Class per Year',\n",
    "    xaxis_title = 'Year',\n",
    "    yaxis_title = 'Combined MPG Average',\n",
    "    legend_title = 'Vehicle Class'\n",
    ")\n",
    "\n",
    "fig_3.update_xaxes(\n",
    "    tickangle = 45,\n",
    "    minor = dict(\n",
    "        ticklen = 5,\n",
    "        tickcolor = 'black',\n",
    "        showgrid = True\n",
    "    )\n",
    ")\n",
    "\n",
    "fig_3.show()"
   ]
  },
  {
   "cell_type": "code",
   "execution_count": null,
   "id": "6d7a85cd",
   "metadata": {},
   "outputs": [],
   "source": []
  }
 ],
 "metadata": {
  "kernelspec": {
   "display_name": "Python 3 (ipykernel)",
   "language": "python",
   "name": "python3"
  },
  "language_info": {
   "codemirror_mode": {
    "name": "ipython",
    "version": 3
   },
   "file_extension": ".py",
   "mimetype": "text/x-python",
   "name": "python",
   "nbconvert_exporter": "python",
   "pygments_lexer": "ipython3",
   "version": "3.9.16"
  }
 },
 "nbformat": 4,
 "nbformat_minor": 5
}
