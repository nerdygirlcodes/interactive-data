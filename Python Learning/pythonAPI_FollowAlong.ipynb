{
 "cells": [
  {
   "cell_type": "code",
   "execution_count": 59,
   "id": "ca12e05f",
   "metadata": {},
   "outputs": [],
   "source": [
    "import pandas as pd\n",
    "import json\n",
    "import base64\n",
    "import requests"
   ]
  },
  {
   "cell_type": "code",
   "execution_count": 60,
   "id": "e7ad6eb8",
   "metadata": {},
   "outputs": [],
   "source": [
    "keys = pd.read_csv('../../Python/spotify.csv')"
   ]
  },
  {
   "cell_type": "code",
   "execution_count": 61,
   "id": "27c37ba5",
   "metadata": {},
   "outputs": [],
   "source": [
    "app_id = keys['Client_ID'][0]"
   ]
  },
  {
   "cell_type": "code",
   "execution_count": 62,
   "id": "65865d4a",
   "metadata": {},
   "outputs": [],
   "source": [
    "app_secret = keys['Client_Secret'][0]"
   ]
  },
  {
   "cell_type": "code",
   "execution_count": 63,
   "id": "296c9914",
   "metadata": {},
   "outputs": [],
   "source": [
    "# client_cred = base64.b64encode(\"{}:{}\".format(appid, appsecret).encode('ascii'))\n",
    "client_cred = base64.b64encode(str(app_id + ':' + app_secret).encode('ascii'))"
   ]
  },
  {
   "cell_type": "code",
   "execution_count": 64,
   "id": "67c3f283",
   "metadata": {},
   "outputs": [],
   "source": [
    "header = {'Authorization': 'Basic {}'.format(client_cred.decode('ascii'))}"
   ]
  },
  {
   "cell_type": "code",
   "execution_count": 65,
   "id": "360e2b60",
   "metadata": {},
   "outputs": [],
   "source": [
    "payload = {'grant_type': 'client_credentials'}\n",
    "access_token_url = 'https://accounts.spotify.com/api/token'"
   ]
  },
  {
   "cell_type": "code",
   "execution_count": 66,
   "id": "95db90b8",
   "metadata": {},
   "outputs": [],
   "source": [
    "response = requests.post(access_token_url, headers = header, data = payload)"
   ]
  },
  {
   "cell_type": "code",
   "execution_count": 67,
   "id": "2599ce18",
   "metadata": {},
   "outputs": [],
   "source": [
    "session_token = response.json()['access_token']"
   ]
  },
  {
   "cell_type": "code",
   "execution_count": 68,
   "id": "a82ae812",
   "metadata": {},
   "outputs": [],
   "source": [
    "session_header = {'Authorization': 'Bearer {}'.format(session_token)}"
   ]
  },
  {
   "cell_type": "code",
   "execution_count": 69,
   "id": "aa805762",
   "metadata": {},
   "outputs": [],
   "source": [
    "album_id = '0d2livswZ7Q3puCCJCE0Ge'  # sueco"
   ]
  },
  {
   "cell_type": "code",
   "execution_count": 70,
   "id": "6d54cb28",
   "metadata": {},
   "outputs": [],
   "source": [
    "album_tracks_endpoint = 'https://api.spotify.com/v1/albums/{}/tracks'.format(album_id)"
   ]
  },
  {
   "cell_type": "code",
   "execution_count": 71,
   "id": "a1c82f36",
   "metadata": {},
   "outputs": [],
   "source": [
    "album_tracks = requests.get(album_tracks_endpoint, headers = session_header)"
   ]
  },
  {
   "cell_type": "code",
   "execution_count": 74,
   "id": "e688df3e",
   "metadata": {},
   "outputs": [
    {
     "data": {
      "text/plain": [
       "200"
      ]
     },
     "execution_count": 74,
     "metadata": {},
     "output_type": "execute_result"
    }
   ],
   "source": [
    "album_tracks.status_code"
   ]
  },
  {
   "cell_type": "code",
   "execution_count": 77,
   "id": "5c63db8e",
   "metadata": {},
   "outputs": [],
   "source": [
    "album_dict = json.loads(album_tracks.text)"
   ]
  },
  {
   "cell_type": "code",
   "execution_count": 78,
   "id": "2562a617",
   "metadata": {},
   "outputs": [
    {
     "data": {
      "text/plain": [
       "dict_keys(['href', 'items', 'limit', 'next', 'offset', 'previous', 'total'])"
      ]
     },
     "execution_count": 78,
     "metadata": {},
     "output_type": "execute_result"
    }
   ],
   "source": [
    "album_dict.keys()"
   ]
  },
  {
   "cell_type": "code",
   "execution_count": 79,
   "id": "f8349ff5",
   "metadata": {},
   "outputs": [
    {
     "data": {
      "text/plain": [
       "dict_keys(['artists', 'available_markets', 'disc_number', 'duration_ms', 'explicit', 'external_urls', 'href', 'id', 'is_local', 'name', 'preview_url', 'track_number', 'type', 'uri'])"
      ]
     },
     "execution_count": 79,
     "metadata": {},
     "output_type": "execute_result"
    }
   ],
   "source": [
    "album_dict['items'][0].keys()"
   ]
  },
  {
   "cell_type": "code",
   "execution_count": 85,
   "id": "e58922db",
   "metadata": {},
   "outputs": [],
   "source": [
    "album_track_ids = [x['id'] for x in album_dict['items']]"
   ]
  },
  {
   "cell_type": "code",
   "execution_count": 92,
   "id": "bd3a8dc9",
   "metadata": {},
   "outputs": [],
   "source": [
    "track_features_endpoint = 'https://api.spotify.com/v1/tracks?ids={}'.format(str(album_track_ids))"
   ]
  },
  {
   "cell_type": "code",
   "execution_count": 93,
   "id": "81de36ba",
   "metadata": {},
   "outputs": [],
   "source": [
    "track_data = requests.get(track_features_endpoint, headers = session_header)"
   ]
  },
  {
   "cell_type": "code",
   "execution_count": 94,
   "id": "0f7206e9",
   "metadata": {},
   "outputs": [
    {
     "data": {
      "text/plain": [
       "{'tracks': [None,\n",
       "  None,\n",
       "  None,\n",
       "  None,\n",
       "  None,\n",
       "  None,\n",
       "  None,\n",
       "  None,\n",
       "  None,\n",
       "  None,\n",
       "  None,\n",
       "  None]}"
      ]
     },
     "execution_count": 94,
     "metadata": {},
     "output_type": "execute_result"
    }
   ],
   "source": [
    "track_data_json = json.loads(track_data.text)\n",
    "track_data_json"
   ]
  },
  {
   "cell_type": "code",
   "execution_count": null,
   "id": "10eca05c",
   "metadata": {},
   "outputs": [],
   "source": []
  }
 ],
 "metadata": {
  "kernelspec": {
   "display_name": "Python 3 (ipykernel)",
   "language": "python",
   "name": "python3"
  },
  "language_info": {
   "codemirror_mode": {
    "name": "ipython",
    "version": 3
   },
   "file_extension": ".py",
   "mimetype": "text/x-python",
   "name": "python",
   "nbconvert_exporter": "python",
   "pygments_lexer": "ipython3",
   "version": "3.9.16"
  }
 },
 "nbformat": 4,
 "nbformat_minor": 5
}
