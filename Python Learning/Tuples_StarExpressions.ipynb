{
 "cells": [
  {
   "cell_type": "code",
   "execution_count": null,
   "id": "98238830",
   "metadata": {},
   "outputs": [],
   "source": [
    "# Questions:\n",
    "# 1. What is the benefit of including the paren around the defintion of a tuple instead of just \n",
    "#    building out the value with comma delimited values? (none / organization?)\n",
    "# 2. So paraphrasing:\n",
    "#    Tuples - immutable, self-set indices \n",
    "#        >> (23, 'Jessica', [1,2,3,4,5])\n",
    "#    Dictionaries (Objects) - mutable, custom or self-set indices \n",
    "#        >> {1: 23, 2: 'Jessica', 3: [1,2,3,4,5]}\n",
    "#    Lists (Arrays) - mutable, self-set indices \n",
    "#        >> [23, 'Jessica', [1,2,3,4,5]]"
   ]
  },
  {
   "cell_type": "code",
   "execution_count": 43,
   "id": "bfda0a8a",
   "metadata": {},
   "outputs": [],
   "source": [
    "t = (23, 'Jessica', [1,2,3,4,5], 19, 'Sandy')\n",
    "m = 84, 'Angela', [9,8,7,6,5], 12, 'Pam'"
   ]
  },
  {
   "cell_type": "code",
   "execution_count": 44,
   "id": "da4622be",
   "metadata": {},
   "outputs": [
    {
     "data": {
      "text/plain": [
       "(23, ['Jessica', [1, 2, 3, 4, 5], 19, 'Sandy'], 'hello')"
      ]
     },
     "execution_count": 44,
     "metadata": {},
     "output_type": "execute_result"
    }
   ],
   "source": [
    "j, *s = t\n",
    "q = j, s, 'hello'\n",
    "q"
   ]
  },
  {
   "cell_type": "code",
   "execution_count": 63,
   "id": "3626a92d",
   "metadata": {},
   "outputs": [],
   "source": [
    "# Values before and after the * will place values from that location\n",
    "# * value will hold remainder of tuple that is not directly called out\n",
    "\n",
    "a, *w, x, i = t"
   ]
  },
  {
   "cell_type": "code",
   "execution_count": 65,
   "id": "545a6ca7",
   "metadata": {},
   "outputs": [
    {
     "data": {
      "text/plain": [
       "(['Jessica', [1, 2, 3, 4, 5]], 'sup')"
      ]
     },
     "execution_count": 65,
     "metadata": {},
     "output_type": "execute_result"
    }
   ],
   "source": [
    "f = w, 'sup'\n",
    "f"
   ]
  },
  {
   "cell_type": "code",
   "execution_count": null,
   "id": "57048e6a",
   "metadata": {},
   "outputs": [],
   "source": []
  }
 ],
 "metadata": {
  "kernelspec": {
   "display_name": "Python 3 (ipykernel)",
   "language": "python",
   "name": "python3"
  },
  "language_info": {
   "codemirror_mode": {
    "name": "ipython",
    "version": 3
   },
   "file_extension": ".py",
   "mimetype": "text/x-python",
   "name": "python",
   "nbconvert_exporter": "python",
   "pygments_lexer": "ipython3",
   "version": "3.9.16"
  }
 },
 "nbformat": 4,
 "nbformat_minor": 5
}
