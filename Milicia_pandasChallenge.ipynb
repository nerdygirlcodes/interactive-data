{
 "cells": [
  {
   "cell_type": "markdown",
   "id": "9c5358fa",
   "metadata": {},
   "source": [
    "`// Week 2: pandas Challenge`\n",
    "`// Cassie Milicia`"
   ]
  },
  {
   "cell_type": "code",
   "execution_count": 27,
   "id": "24d83567",
   "metadata": {},
   "outputs": [],
   "source": [
    "import pandas as pd"
   ]
  },
  {
   "cell_type": "markdown",
   "id": "cc9f4492",
   "metadata": {},
   "source": [
    "`// create a dataframe with 3 rows + 3 columns`"
   ]
  },
  {
   "cell_type": "code",
   "execution_count": 28,
   "id": "642f91c5",
   "metadata": {
    "scrolled": true
   },
   "outputs": [
    {
     "data": {
      "text/html": [
       "<div>\n",
       "<style scoped>\n",
       "    .dataframe tbody tr th:only-of-type {\n",
       "        vertical-align: middle;\n",
       "    }\n",
       "\n",
       "    .dataframe tbody tr th {\n",
       "        vertical-align: top;\n",
       "    }\n",
       "\n",
       "    .dataframe thead th {\n",
       "        text-align: right;\n",
       "    }\n",
       "</style>\n",
       "<table border=\"1\" class=\"dataframe\">\n",
       "  <thead>\n",
       "    <tr style=\"text-align: right;\">\n",
       "      <th></th>\n",
       "      <th>Fighter</th>\n",
       "      <th>Mage</th>\n",
       "      <th>Healer</th>\n",
       "    </tr>\n",
       "  </thead>\n",
       "  <tbody>\n",
       "    <tr>\n",
       "      <th>0</th>\n",
       "      <td>Ramza</td>\n",
       "      <td>Terra</td>\n",
       "      <td>Aerith</td>\n",
       "    </tr>\n",
       "    <tr>\n",
       "      <th>1</th>\n",
       "      <td>Locke</td>\n",
       "      <td>Lulu</td>\n",
       "      <td>Rosa</td>\n",
       "    </tr>\n",
       "    <tr>\n",
       "      <th>2</th>\n",
       "      <td>Cloud</td>\n",
       "      <td>Rydia</td>\n",
       "      <td>Yuna</td>\n",
       "    </tr>\n",
       "  </tbody>\n",
       "</table>\n",
       "</div>"
      ],
      "text/plain": [
       "  Fighter   Mage  Healer\n",
       "0   Ramza  Terra  Aerith\n",
       "1   Locke   Lulu    Rosa\n",
       "2   Cloud  Rydia    Yuna"
      ]
     },
     "execution_count": 28,
     "metadata": {},
     "output_type": "execute_result"
    }
   ],
   "source": [
    "df = pd.DataFrame(\n",
    "    {\n",
    "        \"Fighter\": pd.Categorical([\"Ramza\", \"Locke\", \"Cloud\"]),\n",
    "        \"Mage\": pd.Categorical([\"Terra\", \"Lulu\", \"Rydia\"]),\n",
    "        \"Healer\": pd.Categorical([\"Aerith\", \"Rosa\", \"Yuna\"])\n",
    "    }\n",
    ")\n",
    "df"
   ]
  },
  {
   "cell_type": "markdown",
   "id": "03d4ee97",
   "metadata": {},
   "source": [
    "`// view the head of the dataframe`"
   ]
  },
  {
   "cell_type": "code",
   "execution_count": 29,
   "id": "7cea7cf1",
   "metadata": {
    "scrolled": true
   },
   "outputs": [
    {
     "data": {
      "text/html": [
       "<div>\n",
       "<style scoped>\n",
       "    .dataframe tbody tr th:only-of-type {\n",
       "        vertical-align: middle;\n",
       "    }\n",
       "\n",
       "    .dataframe tbody tr th {\n",
       "        vertical-align: top;\n",
       "    }\n",
       "\n",
       "    .dataframe thead th {\n",
       "        text-align: right;\n",
       "    }\n",
       "</style>\n",
       "<table border=\"1\" class=\"dataframe\">\n",
       "  <thead>\n",
       "    <tr style=\"text-align: right;\">\n",
       "      <th></th>\n",
       "      <th>Fighter</th>\n",
       "      <th>Mage</th>\n",
       "      <th>Healer</th>\n",
       "    </tr>\n",
       "  </thead>\n",
       "  <tbody>\n",
       "    <tr>\n",
       "      <th>0</th>\n",
       "      <td>Ramza</td>\n",
       "      <td>Terra</td>\n",
       "      <td>Aerith</td>\n",
       "    </tr>\n",
       "  </tbody>\n",
       "</table>\n",
       "</div>"
      ],
      "text/plain": [
       "  Fighter   Mage  Healer\n",
       "0   Ramza  Terra  Aerith"
      ]
     },
     "execution_count": 29,
     "metadata": {},
     "output_type": "execute_result"
    }
   ],
   "source": [
    "df.head(1)"
   ]
  },
  {
   "cell_type": "markdown",
   "id": "23ee622d",
   "metadata": {},
   "source": [
    "`// view the index of the dataframe`"
   ]
  },
  {
   "cell_type": "code",
   "execution_count": 30,
   "id": "32b1e35f",
   "metadata": {},
   "outputs": [
    {
     "data": {
      "text/plain": [
       "RangeIndex(start=0, stop=3, step=1)"
      ]
     },
     "execution_count": 30,
     "metadata": {},
     "output_type": "execute_result"
    }
   ],
   "source": [
    "df.index"
   ]
  },
  {
   "cell_type": "markdown",
   "id": "a0697fd1",
   "metadata": {},
   "source": [
    "`// view the first column of the dataframe`"
   ]
  },
  {
   "cell_type": "code",
   "execution_count": 31,
   "id": "53060e7f",
   "metadata": {
    "scrolled": true
   },
   "outputs": [
    {
     "data": {
      "text/plain": [
       "0    Ramza\n",
       "1    Locke\n",
       "2    Cloud\n",
       "Name: Fighter, dtype: category\n",
       "Categories (3, object): ['Cloud', 'Locke', 'Ramza']"
      ]
     },
     "execution_count": 31,
     "metadata": {},
     "output_type": "execute_result"
    }
   ],
   "source": [
    "df[\"Fighter\"]"
   ]
  },
  {
   "cell_type": "markdown",
   "id": "2ebbae1a",
   "metadata": {},
   "source": [
    "`// view the first row of the dataframe`"
   ]
  },
  {
   "cell_type": "code",
   "execution_count": 32,
   "id": "a00e791c",
   "metadata": {},
   "outputs": [
    {
     "data": {
      "text/html": [
       "<div>\n",
       "<style scoped>\n",
       "    .dataframe tbody tr th:only-of-type {\n",
       "        vertical-align: middle;\n",
       "    }\n",
       "\n",
       "    .dataframe tbody tr th {\n",
       "        vertical-align: top;\n",
       "    }\n",
       "\n",
       "    .dataframe thead th {\n",
       "        text-align: right;\n",
       "    }\n",
       "</style>\n",
       "<table border=\"1\" class=\"dataframe\">\n",
       "  <thead>\n",
       "    <tr style=\"text-align: right;\">\n",
       "      <th></th>\n",
       "      <th>Fighter</th>\n",
       "      <th>Mage</th>\n",
       "      <th>Healer</th>\n",
       "    </tr>\n",
       "  </thead>\n",
       "  <tbody>\n",
       "    <tr>\n",
       "      <th>0</th>\n",
       "      <td>Ramza</td>\n",
       "      <td>Terra</td>\n",
       "      <td>Aerith</td>\n",
       "    </tr>\n",
       "  </tbody>\n",
       "</table>\n",
       "</div>"
      ],
      "text/plain": [
       "  Fighter   Mage  Healer\n",
       "0   Ramza  Terra  Aerith"
      ]
     },
     "execution_count": 32,
     "metadata": {},
     "output_type": "execute_result"
    }
   ],
   "source": [
    "df[0:1]"
   ]
  },
  {
   "cell_type": "markdown",
   "id": "ef2ebba8",
   "metadata": {},
   "source": [
    "`// save dataframe to csv file`"
   ]
  },
  {
   "cell_type": "markdown",
   "id": "dfbf6d84",
   "metadata": {},
   "source": [
    ">**Note** - I could not find reference to this task in the course materials (perhaps I just missed it?) so I performed a search and found resources / code examples here:\n",
    ">https://www.digitalocean.com/community/tutorials/pandas-to_csv-convert-dataframe-to-csv\n",
    ">\n",
    ">From my understanding open() is the method used to open the file and it takes 2 parameters - file name and action. What i'm using here is 'w' or 'write' and i'm writing it as a 'csv_file'.  The 'with' portion of this does the enter and exiting of the file so we dont have to.\n",
    ">\n",
    ">The second part of this is the to_csv() method - this takes the path name and type of separator (among other things) as parameters.  The main purpose of this function is to stringify the dataframe in a way that will be compatible with a csv file."
   ]
  },
  {
   "cell_type": "code",
   "execution_count": 59,
   "id": "049b73c8",
   "metadata": {},
   "outputs": [],
   "source": [
    "with open('Milicia_csvData.txt', 'w') as csv_file:\n",
    "    df.to_csv(path_or_buf=csv_file, sep='|')"
   ]
  },
  {
   "cell_type": "markdown",
   "id": "cf57b504",
   "metadata": {},
   "source": [
    "---"
   ]
  },
  {
   "cell_type": "markdown",
   "id": "da1fc175",
   "metadata": {},
   "source": [
    "### Why are dynamic, interactive data visualizations useful when communicating data?"
   ]
  },
  {
   "cell_type": "markdown",
   "id": "01941d5f",
   "metadata": {},
   "source": []
  }
 ],
 "metadata": {
  "kernelspec": {
   "display_name": "Python 3 (ipykernel)",
   "language": "python",
   "name": "python3"
  },
  "language_info": {
   "codemirror_mode": {
    "name": "ipython",
    "version": 3
   },
   "file_extension": ".py",
   "mimetype": "text/x-python",
   "name": "python",
   "nbconvert_exporter": "python",
   "pygments_lexer": "ipython3",
   "version": "3.9.16"
  }
 },
 "nbformat": 4,
 "nbformat_minor": 5
}
