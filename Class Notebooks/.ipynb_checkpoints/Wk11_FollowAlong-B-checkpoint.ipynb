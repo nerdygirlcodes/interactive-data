{
 "cells": [
  {
   "cell_type": "code",
   "execution_count": 1,
   "id": "7f07c49a",
   "metadata": {},
   "outputs": [],
   "source": [
    "import pandas as pd\n",
    "import numpy as np\n",
    "from matplotlib import pyplot as plt"
   ]
  },
  {
   "cell_type": "code",
   "execution_count": 2,
   "id": "be12a207",
   "metadata": {},
   "outputs": [],
   "source": [
    "reddit = pd.read_csv('reddit_data_example.csv')"
   ]
  },
  {
   "cell_type": "code",
   "execution_count": 3,
   "id": "883075e0",
   "metadata": {},
   "outputs": [
    {
     "data": {
      "text/html": [
       "<div>\n",
       "<style scoped>\n",
       "    .dataframe tbody tr th:only-of-type {\n",
       "        vertical-align: middle;\n",
       "    }\n",
       "\n",
       "    .dataframe tbody tr th {\n",
       "        vertical-align: top;\n",
       "    }\n",
       "\n",
       "    .dataframe thead th {\n",
       "        text-align: right;\n",
       "    }\n",
       "</style>\n",
       "<table border=\"1\" class=\"dataframe\">\n",
       "  <thead>\n",
       "    <tr style=\"text-align: right;\">\n",
       "      <th></th>\n",
       "      <th>Date</th>\n",
       "      <th>Domain</th>\n",
       "      <th>Sentiment</th>\n",
       "      <th>Language</th>\n",
       "      <th>Author</th>\n",
       "      <th>Thread Entry Type</th>\n",
       "      <th>Reddit Author Awardee Karma</th>\n",
       "      <th>Reddit Author Awarder Karma</th>\n",
       "      <th>Reddit Author Karma</th>\n",
       "      <th>Reddit Comments</th>\n",
       "      <th>Reddit Score</th>\n",
       "      <th>Reddit Score Upvote Ratio</th>\n",
       "    </tr>\n",
       "  </thead>\n",
       "  <tbody>\n",
       "    <tr>\n",
       "      <th>0</th>\n",
       "      <td>2/9/2023 20:12</td>\n",
       "      <td>reddit.com</td>\n",
       "      <td>neutral</td>\n",
       "      <td>en</td>\n",
       "      <td>AutoModerator</td>\n",
       "      <td>reply</td>\n",
       "      <td>2397363</td>\n",
       "      <td>0</td>\n",
       "      <td>2000</td>\n",
       "      <td>NaN</td>\n",
       "      <td>1</td>\n",
       "      <td>NaN</td>\n",
       "    </tr>\n",
       "    <tr>\n",
       "      <th>1</th>\n",
       "      <td>2/9/2023 17:42</td>\n",
       "      <td>reddit.com</td>\n",
       "      <td>neutral</td>\n",
       "      <td>en</td>\n",
       "      <td>AutoModerator</td>\n",
       "      <td>reply</td>\n",
       "      <td>2397218</td>\n",
       "      <td>0</td>\n",
       "      <td>2000</td>\n",
       "      <td>NaN</td>\n",
       "      <td>1</td>\n",
       "      <td>NaN</td>\n",
       "    </tr>\n",
       "    <tr>\n",
       "      <th>2</th>\n",
       "      <td>2/9/2023 17:41</td>\n",
       "      <td>reddit.com</td>\n",
       "      <td>neutral</td>\n",
       "      <td>en</td>\n",
       "      <td>AutoModerator</td>\n",
       "      <td>reply</td>\n",
       "      <td>2397218</td>\n",
       "      <td>0</td>\n",
       "      <td>2000</td>\n",
       "      <td>NaN</td>\n",
       "      <td>1</td>\n",
       "      <td>NaN</td>\n",
       "    </tr>\n",
       "    <tr>\n",
       "      <th>3</th>\n",
       "      <td>2/8/2023 22:12</td>\n",
       "      <td>reddit.com</td>\n",
       "      <td>negative</td>\n",
       "      <td>en</td>\n",
       "      <td>KaylaST</td>\n",
       "      <td>reply</td>\n",
       "      <td>110</td>\n",
       "      <td>14</td>\n",
       "      <td>1470</td>\n",
       "      <td>NaN</td>\n",
       "      <td>1</td>\n",
       "      <td>NaN</td>\n",
       "    </tr>\n",
       "    <tr>\n",
       "      <th>4</th>\n",
       "      <td>2/8/2023 20:15</td>\n",
       "      <td>reddit.com</td>\n",
       "      <td>negative</td>\n",
       "      <td>en</td>\n",
       "      <td>CaveLady3000</td>\n",
       "      <td>post</td>\n",
       "      <td>311</td>\n",
       "      <td>73</td>\n",
       "      <td>4148</td>\n",
       "      <td>0.0</td>\n",
       "      <td>1</td>\n",
       "      <td>1.0</td>\n",
       "    </tr>\n",
       "  </tbody>\n",
       "</table>\n",
       "</div>"
      ],
      "text/plain": [
       "             Date      Domain Sentiment Language         Author  \\\n",
       "0  2/9/2023 20:12  reddit.com   neutral       en  AutoModerator   \n",
       "1  2/9/2023 17:42  reddit.com   neutral       en  AutoModerator   \n",
       "2  2/9/2023 17:41  reddit.com   neutral       en  AutoModerator   \n",
       "3  2/8/2023 22:12  reddit.com  negative       en        KaylaST   \n",
       "4  2/8/2023 20:15  reddit.com  negative       en   CaveLady3000   \n",
       "\n",
       "  Thread Entry Type  Reddit Author Awardee Karma  Reddit Author Awarder Karma  \\\n",
       "0             reply                      2397363                            0   \n",
       "1             reply                      2397218                            0   \n",
       "2             reply                      2397218                            0   \n",
       "3             reply                          110                           14   \n",
       "4              post                          311                           73   \n",
       "\n",
       "   Reddit Author Karma  Reddit Comments  Reddit Score  \\\n",
       "0                 2000              NaN             1   \n",
       "1                 2000              NaN             1   \n",
       "2                 2000              NaN             1   \n",
       "3                 1470              NaN             1   \n",
       "4                 4148              0.0             1   \n",
       "\n",
       "   Reddit Score Upvote Ratio  \n",
       "0                        NaN  \n",
       "1                        NaN  \n",
       "2                        NaN  \n",
       "3                        NaN  \n",
       "4                        1.0  "
      ]
     },
     "execution_count": 3,
     "metadata": {},
     "output_type": "execute_result"
    }
   ],
   "source": [
    "reddit.head()"
   ]
  },
  {
   "cell_type": "code",
   "execution_count": 4,
   "id": "a6d1fdf9",
   "metadata": {},
   "outputs": [
    {
     "data": {
      "text/plain": [
       "0       2/9/2023 20:12\n",
       "1       2/9/2023 17:42\n",
       "2       2/9/2023 17:41\n",
       "3       2/8/2023 22:12\n",
       "4       2/8/2023 20:15\n",
       "             ...      \n",
       "8132    7/9/2019 17:12\n",
       "8133    7/9/2019 13:04\n",
       "8134    7/9/2019 12:55\n",
       "8135     7/8/2017 0:35\n",
       "8136    6/20/2017 0:01\n",
       "Name: Date, Length: 8137, dtype: object"
      ]
     },
     "execution_count": 4,
     "metadata": {},
     "output_type": "execute_result"
    }
   ],
   "source": [
    "reddit['Date']"
   ]
  },
  {
   "cell_type": "code",
   "execution_count": 5,
   "id": "2e287247",
   "metadata": {},
   "outputs": [
    {
     "data": {
      "text/plain": [
       "0   2023-02-09 20:12:00\n",
       "1   2023-02-09 17:42:00\n",
       "2   2023-02-09 17:41:00\n",
       "3   2023-02-08 22:12:00\n",
       "4   2023-02-08 20:15:00\n",
       "Name: Date, dtype: datetime64[ns]"
      ]
     },
     "execution_count": 5,
     "metadata": {},
     "output_type": "execute_result"
    }
   ],
   "source": [
    "pd.to_datetime(reddit['Date']).head()"
   ]
  },
  {
   "cell_type": "code",
   "execution_count": null,
   "id": "f73147b5",
   "metadata": {},
   "outputs": [],
   "source": []
  }
 ],
 "metadata": {
  "kernelspec": {
   "display_name": "Python 3 (ipykernel)",
   "language": "python",
   "name": "python3"
  },
  "language_info": {
   "codemirror_mode": {
    "name": "ipython",
    "version": 3
   },
   "file_extension": ".py",
   "mimetype": "text/x-python",
   "name": "python",
   "nbconvert_exporter": "python",
   "pygments_lexer": "ipython3",
   "version": "3.9.16"
  }
 },
 "nbformat": 4,
 "nbformat_minor": 5
}
