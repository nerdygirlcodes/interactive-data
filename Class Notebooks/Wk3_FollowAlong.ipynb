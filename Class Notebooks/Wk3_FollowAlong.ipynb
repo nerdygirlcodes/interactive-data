{
 "cells": [
  {
   "cell_type": "code",
   "execution_count": 8,
   "id": "5c02f9ae",
   "metadata": {},
   "outputs": [],
   "source": [
    "import pandas as pd\n",
    "import json"
   ]
  },
  {
   "cell_type": "code",
   "execution_count": 10,
   "id": "dab38ae6",
   "metadata": {},
   "outputs": [],
   "source": [
    "# open file as python dictionary\n",
    "\n",
    "file_path = 'Spotify_Montero_data.json'\n",
    "\n",
    "with open(file_path) as raw_data:\n",
    "    spotify_data = json.load(raw_data)"
   ]
  },
  {
   "cell_type": "code",
   "execution_count": 11,
   "id": "2723ac97",
   "metadata": {},
   "outputs": [
    {
     "data": {
      "text/plain": [
       "dict_keys(['album_type', 'artists', 'available_markets', 'copyrights', 'external_ids', 'external_urls', 'genres', 'href', 'id', 'images', 'label', 'name', 'popularity', 'release_date', 'release_date_precision', 'total_tracks', 'tracks', 'type', 'uri'])"
      ]
     },
     "execution_count": 11,
     "metadata": {},
     "output_type": "execute_result"
    }
   ],
   "source": [
    "spotify_data.keys()"
   ]
  },
  {
   "cell_type": "code",
   "execution_count": 23,
   "id": "ee13b60e",
   "metadata": {},
   "outputs": [
    {
     "data": {
      "text/plain": [
       "list"
      ]
     },
     "execution_count": 23,
     "metadata": {},
     "output_type": "execute_result"
    }
   ],
   "source": [
    "#find type of data of column\n",
    "type(spotify_data['artists'])"
   ]
  },
  {
   "cell_type": "code",
   "execution_count": 22,
   "id": "b2bd0b70",
   "metadata": {},
   "outputs": [
    {
     "data": {
      "text/plain": [
       "[{'external_urls': {'spotify': 'https://open.spotify.com/artist/7jVv8c5Fj3E9VhNjxT4snq'},\n",
       "  'href': 'https://api.spotify.com/v1/artists/7jVv8c5Fj3E9VhNjxT4snq',\n",
       "  'id': '7jVv8c5Fj3E9VhNjxT4snq',\n",
       "  'name': 'Lil Nas X',\n",
       "  'type': 'artist',\n",
       "  'uri': 'spotify:artist:7jVv8c5Fj3E9VhNjxT4snq'}]"
      ]
     },
     "execution_count": 22,
     "metadata": {},
     "output_type": "execute_result"
    }
   ],
   "source": [
    "# view artitst column data\n",
    "spotify_data['artists']"
   ]
  },
  {
   "cell_type": "code",
   "execution_count": 19,
   "id": "45f7d2c4",
   "metadata": {},
   "outputs": [
    {
     "data": {
      "text/plain": [
       "dict_keys(['external_urls', 'href', 'id', 'name', 'type', 'uri'])"
      ]
     },
     "execution_count": 19,
     "metadata": {},
     "output_type": "execute_result"
    }
   ],
   "source": [
    "# find keys for dictionary variable\n",
    "spotify_data['artists'][0].keys()"
   ]
  },
  {
   "cell_type": "code",
   "execution_count": 21,
   "id": "b0115a82",
   "metadata": {},
   "outputs": [
    {
     "data": {
      "text/plain": [
       "1"
      ]
     },
     "execution_count": 21,
     "metadata": {},
     "output_type": "execute_result"
    }
   ],
   "source": [
    "# find length of dictionary\n",
    "len(spotify_data['artists'])"
   ]
  },
  {
   "cell_type": "code",
   "execution_count": 27,
   "id": "176698e0",
   "metadata": {},
   "outputs": [
    {
     "data": {
      "text/plain": [
       "[{'height': 640,\n",
       "  'url': 'https://i.scdn.co/image/ab67616d0000b273be82673b5f79d9658ec0a9fd',\n",
       "  'width': 640},\n",
       " {'height': 300,\n",
       "  'url': 'https://i.scdn.co/image/ab67616d00001e02be82673b5f79d9658ec0a9fd',\n",
       "  'width': 300},\n",
       " {'height': 64,\n",
       "  'url': 'https://i.scdn.co/image/ab67616d00004851be82673b5f79d9658ec0a9fd',\n",
       "  'width': 64}]"
      ]
     },
     "execution_count": 27,
     "metadata": {},
     "output_type": "execute_result"
    }
   ],
   "source": [
    "imgs = spotify_data['images']\n",
    "imgs"
   ]
  },
  {
   "cell_type": "code",
   "execution_count": 31,
   "id": "23c6a93b",
   "metadata": {
    "scrolled": true
   },
   "outputs": [
    {
     "data": {
      "text/plain": [
       "{'height': 640,\n",
       " 'url': 'https://i.scdn.co/image/ab67616d0000b273be82673b5f79d9658ec0a9fd',\n",
       " 'width': 640}"
      ]
     },
     "execution_count": 31,
     "metadata": {},
     "output_type": "execute_result"
    }
   ],
   "source": [
    "first_img = imgs[0]\n",
    "first_img"
   ]
  },
  {
   "cell_type": "code",
   "execution_count": 41,
   "id": "94a4e051",
   "metadata": {},
   "outputs": [
    {
     "data": {
      "text/plain": [
       "dict_keys(['height', 'url', 'width'])"
      ]
     },
     "execution_count": 41,
     "metadata": {},
     "output_type": "execute_result"
    }
   ],
   "source": [
    "first_img.keys()"
   ]
  },
  {
   "cell_type": "code",
   "execution_count": 38,
   "id": "a22a254e",
   "metadata": {},
   "outputs": [
    {
     "data": {
      "text/plain": [
       "(int, str, int)"
      ]
     },
     "execution_count": 38,
     "metadata": {},
     "output_type": "execute_result"
    }
   ],
   "source": [
    "type(first_img['height']), type(first_img['url']), type(first_img['width'])"
   ]
  },
  {
   "cell_type": "code",
   "execution_count": 42,
   "id": "6c05763f",
   "metadata": {},
   "outputs": [
    {
     "data": {
      "text/plain": [
       "640"
      ]
     },
     "execution_count": 42,
     "metadata": {},
     "output_type": "execute_result"
    }
   ],
   "source": [
    "first_img['height']"
   ]
  },
  {
   "cell_type": "markdown",
   "id": "95a2a044",
   "metadata": {},
   "source": [
    "---"
   ]
  },
  {
   "cell_type": "code",
   "execution_count": 51,
   "id": "b0b14553",
   "metadata": {},
   "outputs": [
    {
     "data": {
      "text/html": [
       "<div>\n",
       "<style scoped>\n",
       "    .dataframe tbody tr th:only-of-type {\n",
       "        vertical-align: middle;\n",
       "    }\n",
       "\n",
       "    .dataframe tbody tr th {\n",
       "        vertical-align: top;\n",
       "    }\n",
       "\n",
       "    .dataframe thead th {\n",
       "        text-align: right;\n",
       "    }\n",
       "</style>\n",
       "<table border=\"1\" class=\"dataframe\">\n",
       "  <thead>\n",
       "    <tr style=\"text-align: right;\">\n",
       "      <th></th>\n",
       "      <th>artists</th>\n",
       "      <th>available_markets</th>\n",
       "      <th>disc_number</th>\n",
       "      <th>duration_ms</th>\n",
       "      <th>explicit</th>\n",
       "      <th>external_urls</th>\n",
       "      <th>href</th>\n",
       "      <th>id</th>\n",
       "      <th>is_local</th>\n",
       "      <th>name</th>\n",
       "      <th>preview_url</th>\n",
       "      <th>track_number</th>\n",
       "      <th>type</th>\n",
       "      <th>uri</th>\n",
       "    </tr>\n",
       "  </thead>\n",
       "  <tbody>\n",
       "    <tr>\n",
       "      <th>0</th>\n",
       "      <td>[{'external_urls': {'spotify': 'https://open.s...</td>\n",
       "      <td>[AD, AE, AG, AL, AM, AO, AR, AT, AU, AZ, BA, B...</td>\n",
       "      <td>1</td>\n",
       "      <td>137704</td>\n",
       "      <td>True</td>\n",
       "      <td>{'spotify': 'https://open.spotify.com/track/1S...</td>\n",
       "      <td>https://api.spotify.com/v1/tracks/1SC5rEoYDGUK...</td>\n",
       "      <td>1SC5rEoYDGUK4NfG82494W</td>\n",
       "      <td>False</td>\n",
       "      <td>MONTERO (Call Me By Your Name)</td>\n",
       "      <td>https://p.scdn.co/mp3-preview/a25aff06d2a2f2cf...</td>\n",
       "      <td>1</td>\n",
       "      <td>track</td>\n",
       "      <td>spotify:track:1SC5rEoYDGUK4NfG82494W</td>\n",
       "    </tr>\n",
       "    <tr>\n",
       "      <th>1</th>\n",
       "      <td>[{'external_urls': {'spotify': 'https://open.s...</td>\n",
       "      <td>[AD, AE, AG, AL, AM, AO, AR, AT, AU, AZ, BA, B...</td>\n",
       "      <td>1</td>\n",
       "      <td>221203</td>\n",
       "      <td>True</td>\n",
       "      <td>{'spotify': 'https://open.spotify.com/track/3g...</td>\n",
       "      <td>https://api.spotify.com/v1/tracks/3grVoZ10bm2j...</td>\n",
       "      <td>3grVoZ10bm2jUGpo7BxpuF</td>\n",
       "      <td>False</td>\n",
       "      <td>DEAD RIGHT NOW</td>\n",
       "      <td>https://p.scdn.co/mp3-preview/63edfe0701b3d240...</td>\n",
       "      <td>2</td>\n",
       "      <td>track</td>\n",
       "      <td>spotify:track:3grVoZ10bm2jUGpo7BxpuF</td>\n",
       "    </tr>\n",
       "    <tr>\n",
       "      <th>2</th>\n",
       "      <td>[{'external_urls': {'spotify': 'https://open.s...</td>\n",
       "      <td>[AD, AE, AG, AL, AM, AO, AR, AT, AU, AZ, BA, B...</td>\n",
       "      <td>1</td>\n",
       "      <td>212352</td>\n",
       "      <td>True</td>\n",
       "      <td>{'spotify': 'https://open.spotify.com/track/5Z...</td>\n",
       "      <td>https://api.spotify.com/v1/tracks/5Z9KJZvQzH6P...</td>\n",
       "      <td>5Z9KJZvQzH6PFmb8SNkxuk</td>\n",
       "      <td>False</td>\n",
       "      <td>INDUSTRY BABY (feat. Jack Harlow)</td>\n",
       "      <td>https://p.scdn.co/mp3-preview/31e16e1bc7aad79a...</td>\n",
       "      <td>3</td>\n",
       "      <td>track</td>\n",
       "      <td>spotify:track:5Z9KJZvQzH6PFmb8SNkxuk</td>\n",
       "    </tr>\n",
       "    <tr>\n",
       "      <th>3</th>\n",
       "      <td>[{'external_urls': {'spotify': 'https://open.s...</td>\n",
       "      <td>[AD, AE, AG, AL, AM, AO, AR, AT, AU, AZ, BA, B...</td>\n",
       "      <td>1</td>\n",
       "      <td>143901</td>\n",
       "      <td>True</td>\n",
       "      <td>{'spotify': 'https://open.spotify.com/track/0e...</td>\n",
       "      <td>https://api.spotify.com/v1/tracks/0e8nrvls4Qqv...</td>\n",
       "      <td>0e8nrvls4Qqv5Rfa2UhqmO</td>\n",
       "      <td>False</td>\n",
       "      <td>THATS WHAT I WANT</td>\n",
       "      <td>https://p.scdn.co/mp3-preview/d62f4961618e4b4d...</td>\n",
       "      <td>4</td>\n",
       "      <td>track</td>\n",
       "      <td>spotify:track:0e8nrvls4Qqv5Rfa2UhqmO</td>\n",
       "    </tr>\n",
       "    <tr>\n",
       "      <th>4</th>\n",
       "      <td>[{'external_urls': {'spotify': 'https://open.s...</td>\n",
       "      <td>[AD, AE, AG, AL, AM, AO, AR, AT, AU, AZ, BA, B...</td>\n",
       "      <td>1</td>\n",
       "      <td>24005</td>\n",
       "      <td>False</td>\n",
       "      <td>{'spotify': 'https://open.spotify.com/track/1B...</td>\n",
       "      <td>https://api.spotify.com/v1/tracks/1BMu5TWvalAG...</td>\n",
       "      <td>1BMu5TWvalAGpi5jlhFEBb</td>\n",
       "      <td>False</td>\n",
       "      <td>THE ART OF REALIZATION</td>\n",
       "      <td>https://p.scdn.co/mp3-preview/48abace5e799d0cd...</td>\n",
       "      <td>5</td>\n",
       "      <td>track</td>\n",
       "      <td>spotify:track:1BMu5TWvalAGpi5jlhFEBb</td>\n",
       "    </tr>\n",
       "    <tr>\n",
       "      <th>5</th>\n",
       "      <td>[{'external_urls': {'spotify': 'https://open.s...</td>\n",
       "      <td>[AD, AE, AG, AL, AM, AO, AR, AT, AU, AZ, BA, B...</td>\n",
       "      <td>1</td>\n",
       "      <td>174164</td>\n",
       "      <td>True</td>\n",
       "      <td>{'spotify': 'https://open.spotify.com/track/6b...</td>\n",
       "      <td>https://api.spotify.com/v1/tracks/6bpq1jGkVz66...</td>\n",
       "      <td>6bpq1jGkVz66Q3LYeoXdjZ</td>\n",
       "      <td>False</td>\n",
       "      <td>SCOOP (feat. Doja Cat)</td>\n",
       "      <td>https://p.scdn.co/mp3-preview/8c9e2876d66e7b7c...</td>\n",
       "      <td>6</td>\n",
       "      <td>track</td>\n",
       "      <td>spotify:track:6bpq1jGkVz66Q3LYeoXdjZ</td>\n",
       "    </tr>\n",
       "    <tr>\n",
       "      <th>6</th>\n",
       "      <td>[{'external_urls': {'spotify': 'https://open.s...</td>\n",
       "      <td>[AD, AE, AG, AL, AM, AO, AR, AT, AU, AZ, BA, B...</td>\n",
       "      <td>1</td>\n",
       "      <td>161666</td>\n",
       "      <td>True</td>\n",
       "      <td>{'spotify': 'https://open.spotify.com/track/3J...</td>\n",
       "      <td>https://api.spotify.com/v1/tracks/3JR2RztQcOjU...</td>\n",
       "      <td>3JR2RztQcOjUQGQSybxDIO</td>\n",
       "      <td>False</td>\n",
       "      <td>ONE OF ME (feat. Elton John)</td>\n",
       "      <td>https://p.scdn.co/mp3-preview/b9f6687836ff2142...</td>\n",
       "      <td>7</td>\n",
       "      <td>track</td>\n",
       "      <td>spotify:track:3JR2RztQcOjUQGQSybxDIO</td>\n",
       "    </tr>\n",
       "    <tr>\n",
       "      <th>7</th>\n",
       "      <td>[{'external_urls': {'spotify': 'https://open.s...</td>\n",
       "      <td>[AD, AE, AG, AL, AM, AO, AR, AT, AU, AZ, BA, B...</td>\n",
       "      <td>1</td>\n",
       "      <td>170322</td>\n",
       "      <td>False</td>\n",
       "      <td>{'spotify': 'https://open.spotify.com/track/6t...</td>\n",
       "      <td>https://api.spotify.com/v1/tracks/6th8IdY4lYeM...</td>\n",
       "      <td>6th8IdY4lYeM0QlSQJhhkp</td>\n",
       "      <td>False</td>\n",
       "      <td>LOST IN THE CITADEL</td>\n",
       "      <td>https://p.scdn.co/mp3-preview/a73ff140bd2349d3...</td>\n",
       "      <td>8</td>\n",
       "      <td>track</td>\n",
       "      <td>spotify:track:6th8IdY4lYeM0QlSQJhhkp</td>\n",
       "    </tr>\n",
       "    <tr>\n",
       "      <th>8</th>\n",
       "      <td>[{'external_urls': {'spotify': 'https://open.s...</td>\n",
       "      <td>[AD, AE, AG, AL, AM, AO, AR, AT, AU, AZ, BA, B...</td>\n",
       "      <td>1</td>\n",
       "      <td>145074</td>\n",
       "      <td>True</td>\n",
       "      <td>{'spotify': 'https://open.spotify.com/track/7z...</td>\n",
       "      <td>https://api.spotify.com/v1/tracks/7zQirOExB0VR...</td>\n",
       "      <td>7zQirOExB0VR8yWUOqYeio</td>\n",
       "      <td>False</td>\n",
       "      <td>DOLLA SIGN SLIME (feat. Megan Thee Stallion)</td>\n",
       "      <td>https://p.scdn.co/mp3-preview/e8698733174aa642...</td>\n",
       "      <td>9</td>\n",
       "      <td>track</td>\n",
       "      <td>spotify:track:7zQirOExB0VR8yWUOqYeio</td>\n",
       "    </tr>\n",
       "    <tr>\n",
       "      <th>9</th>\n",
       "      <td>[{'external_urls': {'spotify': 'https://open.s...</td>\n",
       "      <td>[AD, AE, AG, AL, AM, AO, AR, AT, AU, AZ, BA, B...</td>\n",
       "      <td>1</td>\n",
       "      <td>146005</td>\n",
       "      <td>False</td>\n",
       "      <td>{'spotify': 'https://open.spotify.com/track/5S...</td>\n",
       "      <td>https://api.spotify.com/v1/tracks/5S4PZ7AuYlYi...</td>\n",
       "      <td>5S4PZ7AuYlYiVIVik3wHUf</td>\n",
       "      <td>False</td>\n",
       "      <td>TALES OF DOMINICA</td>\n",
       "      <td>https://p.scdn.co/mp3-preview/6005a443164afd33...</td>\n",
       "      <td>10</td>\n",
       "      <td>track</td>\n",
       "      <td>spotify:track:5S4PZ7AuYlYiVIVik3wHUf</td>\n",
       "    </tr>\n",
       "    <tr>\n",
       "      <th>10</th>\n",
       "      <td>[{'external_urls': {'spotify': 'https://open.s...</td>\n",
       "      <td>[AD, AE, AG, AL, AM, AO, AR, AT, AU, AZ, BA, B...</td>\n",
       "      <td>1</td>\n",
       "      <td>168034</td>\n",
       "      <td>False</td>\n",
       "      <td>{'spotify': 'https://open.spotify.com/track/6b...</td>\n",
       "      <td>https://api.spotify.com/v1/tracks/6btdl1Vl6Ta5...</td>\n",
       "      <td>6btdl1Vl6Ta5lUwUSOFW2H</td>\n",
       "      <td>False</td>\n",
       "      <td>SUN GOES DOWN</td>\n",
       "      <td>https://p.scdn.co/mp3-preview/d5427adc7a7b60d4...</td>\n",
       "      <td>11</td>\n",
       "      <td>track</td>\n",
       "      <td>spotify:track:6btdl1Vl6Ta5lUwUSOFW2H</td>\n",
       "    </tr>\n",
       "    <tr>\n",
       "      <th>11</th>\n",
       "      <td>[{'external_urls': {'spotify': 'https://open.s...</td>\n",
       "      <td>[AD, AE, AG, AL, AM, AO, AR, AT, AU, AZ, BA, B...</td>\n",
       "      <td>1</td>\n",
       "      <td>248407</td>\n",
       "      <td>False</td>\n",
       "      <td>{'spotify': 'https://open.spotify.com/track/3e...</td>\n",
       "      <td>https://api.spotify.com/v1/tracks/3e6ebtUCZ0tZ...</td>\n",
       "      <td>3e6ebtUCZ0tZL1J7wvM8Xi</td>\n",
       "      <td>False</td>\n",
       "      <td>VOID</td>\n",
       "      <td>https://p.scdn.co/mp3-preview/ee8270a8d124610e...</td>\n",
       "      <td>12</td>\n",
       "      <td>track</td>\n",
       "      <td>spotify:track:3e6ebtUCZ0tZL1J7wvM8Xi</td>\n",
       "    </tr>\n",
       "    <tr>\n",
       "      <th>12</th>\n",
       "      <td>[{'external_urls': {'spotify': 'https://open.s...</td>\n",
       "      <td>[AD, AE, AG, AL, AM, AO, AR, AT, AU, AZ, BA, B...</td>\n",
       "      <td>1</td>\n",
       "      <td>130925</td>\n",
       "      <td>True</td>\n",
       "      <td>{'spotify': 'https://open.spotify.com/track/4v...</td>\n",
       "      <td>https://api.spotify.com/v1/tracks/4vsJWPwWPS27...</td>\n",
       "      <td>4vsJWPwWPS27gRM4oLjBNO</td>\n",
       "      <td>False</td>\n",
       "      <td>DONT WANT IT</td>\n",
       "      <td>https://p.scdn.co/mp3-preview/18e416c9bce3f8f6...</td>\n",
       "      <td>13</td>\n",
       "      <td>track</td>\n",
       "      <td>spotify:track:4vsJWPwWPS27gRM4oLjBNO</td>\n",
       "    </tr>\n",
       "    <tr>\n",
       "      <th>13</th>\n",
       "      <td>[{'external_urls': {'spotify': 'https://open.s...</td>\n",
       "      <td>[AD, AE, AG, AL, AM, AO, AR, AT, AU, AZ, BA, B...</td>\n",
       "      <td>1</td>\n",
       "      <td>210681</td>\n",
       "      <td>False</td>\n",
       "      <td>{'spotify': 'https://open.spotify.com/track/6D...</td>\n",
       "      <td>https://api.spotify.com/v1/tracks/6D3t4w54PgLN...</td>\n",
       "      <td>6D3t4w54PgLNGQ48R7th7R</td>\n",
       "      <td>False</td>\n",
       "      <td>LIFE AFTER SALEM</td>\n",
       "      <td>https://p.scdn.co/mp3-preview/3c3d838d99091270...</td>\n",
       "      <td>14</td>\n",
       "      <td>track</td>\n",
       "      <td>spotify:track:6D3t4w54PgLNGQ48R7th7R</td>\n",
       "    </tr>\n",
       "    <tr>\n",
       "      <th>14</th>\n",
       "      <td>[{'external_urls': {'spotify': 'https://open.s...</td>\n",
       "      <td>[AD, AE, AG, AL, AM, AO, AR, AT, AU, AZ, BA, B...</td>\n",
       "      <td>1</td>\n",
       "      <td>183241</td>\n",
       "      <td>False</td>\n",
       "      <td>{'spotify': 'https://open.spotify.com/track/6i...</td>\n",
       "      <td>https://api.spotify.com/v1/tracks/6isTQfKXhNO3...</td>\n",
       "      <td>6isTQfKXhNO3EyJd9mSxx8</td>\n",
       "      <td>False</td>\n",
       "      <td>AM I DREAMING (feat. Miley Cyrus)</td>\n",
       "      <td>https://p.scdn.co/mp3-preview/736d012d39c35e32...</td>\n",
       "      <td>15</td>\n",
       "      <td>track</td>\n",
       "      <td>spotify:track:6isTQfKXhNO3EyJd9mSxx8</td>\n",
       "    </tr>\n",
       "  </tbody>\n",
       "</table>\n",
       "</div>"
      ],
      "text/plain": [
       "                                              artists  \\\n",
       "0   [{'external_urls': {'spotify': 'https://open.s...   \n",
       "1   [{'external_urls': {'spotify': 'https://open.s...   \n",
       "2   [{'external_urls': {'spotify': 'https://open.s...   \n",
       "3   [{'external_urls': {'spotify': 'https://open.s...   \n",
       "4   [{'external_urls': {'spotify': 'https://open.s...   \n",
       "5   [{'external_urls': {'spotify': 'https://open.s...   \n",
       "6   [{'external_urls': {'spotify': 'https://open.s...   \n",
       "7   [{'external_urls': {'spotify': 'https://open.s...   \n",
       "8   [{'external_urls': {'spotify': 'https://open.s...   \n",
       "9   [{'external_urls': {'spotify': 'https://open.s...   \n",
       "10  [{'external_urls': {'spotify': 'https://open.s...   \n",
       "11  [{'external_urls': {'spotify': 'https://open.s...   \n",
       "12  [{'external_urls': {'spotify': 'https://open.s...   \n",
       "13  [{'external_urls': {'spotify': 'https://open.s...   \n",
       "14  [{'external_urls': {'spotify': 'https://open.s...   \n",
       "\n",
       "                                    available_markets  disc_number  \\\n",
       "0   [AD, AE, AG, AL, AM, AO, AR, AT, AU, AZ, BA, B...            1   \n",
       "1   [AD, AE, AG, AL, AM, AO, AR, AT, AU, AZ, BA, B...            1   \n",
       "2   [AD, AE, AG, AL, AM, AO, AR, AT, AU, AZ, BA, B...            1   \n",
       "3   [AD, AE, AG, AL, AM, AO, AR, AT, AU, AZ, BA, B...            1   \n",
       "4   [AD, AE, AG, AL, AM, AO, AR, AT, AU, AZ, BA, B...            1   \n",
       "5   [AD, AE, AG, AL, AM, AO, AR, AT, AU, AZ, BA, B...            1   \n",
       "6   [AD, AE, AG, AL, AM, AO, AR, AT, AU, AZ, BA, B...            1   \n",
       "7   [AD, AE, AG, AL, AM, AO, AR, AT, AU, AZ, BA, B...            1   \n",
       "8   [AD, AE, AG, AL, AM, AO, AR, AT, AU, AZ, BA, B...            1   \n",
       "9   [AD, AE, AG, AL, AM, AO, AR, AT, AU, AZ, BA, B...            1   \n",
       "10  [AD, AE, AG, AL, AM, AO, AR, AT, AU, AZ, BA, B...            1   \n",
       "11  [AD, AE, AG, AL, AM, AO, AR, AT, AU, AZ, BA, B...            1   \n",
       "12  [AD, AE, AG, AL, AM, AO, AR, AT, AU, AZ, BA, B...            1   \n",
       "13  [AD, AE, AG, AL, AM, AO, AR, AT, AU, AZ, BA, B...            1   \n",
       "14  [AD, AE, AG, AL, AM, AO, AR, AT, AU, AZ, BA, B...            1   \n",
       "\n",
       "    duration_ms  explicit                                      external_urls  \\\n",
       "0        137704      True  {'spotify': 'https://open.spotify.com/track/1S...   \n",
       "1        221203      True  {'spotify': 'https://open.spotify.com/track/3g...   \n",
       "2        212352      True  {'spotify': 'https://open.spotify.com/track/5Z...   \n",
       "3        143901      True  {'spotify': 'https://open.spotify.com/track/0e...   \n",
       "4         24005     False  {'spotify': 'https://open.spotify.com/track/1B...   \n",
       "5        174164      True  {'spotify': 'https://open.spotify.com/track/6b...   \n",
       "6        161666      True  {'spotify': 'https://open.spotify.com/track/3J...   \n",
       "7        170322     False  {'spotify': 'https://open.spotify.com/track/6t...   \n",
       "8        145074      True  {'spotify': 'https://open.spotify.com/track/7z...   \n",
       "9        146005     False  {'spotify': 'https://open.spotify.com/track/5S...   \n",
       "10       168034     False  {'spotify': 'https://open.spotify.com/track/6b...   \n",
       "11       248407     False  {'spotify': 'https://open.spotify.com/track/3e...   \n",
       "12       130925      True  {'spotify': 'https://open.spotify.com/track/4v...   \n",
       "13       210681     False  {'spotify': 'https://open.spotify.com/track/6D...   \n",
       "14       183241     False  {'spotify': 'https://open.spotify.com/track/6i...   \n",
       "\n",
       "                                                 href                      id  \\\n",
       "0   https://api.spotify.com/v1/tracks/1SC5rEoYDGUK...  1SC5rEoYDGUK4NfG82494W   \n",
       "1   https://api.spotify.com/v1/tracks/3grVoZ10bm2j...  3grVoZ10bm2jUGpo7BxpuF   \n",
       "2   https://api.spotify.com/v1/tracks/5Z9KJZvQzH6P...  5Z9KJZvQzH6PFmb8SNkxuk   \n",
       "3   https://api.spotify.com/v1/tracks/0e8nrvls4Qqv...  0e8nrvls4Qqv5Rfa2UhqmO   \n",
       "4   https://api.spotify.com/v1/tracks/1BMu5TWvalAG...  1BMu5TWvalAGpi5jlhFEBb   \n",
       "5   https://api.spotify.com/v1/tracks/6bpq1jGkVz66...  6bpq1jGkVz66Q3LYeoXdjZ   \n",
       "6   https://api.spotify.com/v1/tracks/3JR2RztQcOjU...  3JR2RztQcOjUQGQSybxDIO   \n",
       "7   https://api.spotify.com/v1/tracks/6th8IdY4lYeM...  6th8IdY4lYeM0QlSQJhhkp   \n",
       "8   https://api.spotify.com/v1/tracks/7zQirOExB0VR...  7zQirOExB0VR8yWUOqYeio   \n",
       "9   https://api.spotify.com/v1/tracks/5S4PZ7AuYlYi...  5S4PZ7AuYlYiVIVik3wHUf   \n",
       "10  https://api.spotify.com/v1/tracks/6btdl1Vl6Ta5...  6btdl1Vl6Ta5lUwUSOFW2H   \n",
       "11  https://api.spotify.com/v1/tracks/3e6ebtUCZ0tZ...  3e6ebtUCZ0tZL1J7wvM8Xi   \n",
       "12  https://api.spotify.com/v1/tracks/4vsJWPwWPS27...  4vsJWPwWPS27gRM4oLjBNO   \n",
       "13  https://api.spotify.com/v1/tracks/6D3t4w54PgLN...  6D3t4w54PgLNGQ48R7th7R   \n",
       "14  https://api.spotify.com/v1/tracks/6isTQfKXhNO3...  6isTQfKXhNO3EyJd9mSxx8   \n",
       "\n",
       "    is_local                                          name  \\\n",
       "0      False                MONTERO (Call Me By Your Name)   \n",
       "1      False                                DEAD RIGHT NOW   \n",
       "2      False             INDUSTRY BABY (feat. Jack Harlow)   \n",
       "3      False                             THATS WHAT I WANT   \n",
       "4      False                        THE ART OF REALIZATION   \n",
       "5      False                        SCOOP (feat. Doja Cat)   \n",
       "6      False                  ONE OF ME (feat. Elton John)   \n",
       "7      False                           LOST IN THE CITADEL   \n",
       "8      False  DOLLA SIGN SLIME (feat. Megan Thee Stallion)   \n",
       "9      False                             TALES OF DOMINICA   \n",
       "10     False                                 SUN GOES DOWN   \n",
       "11     False                                          VOID   \n",
       "12     False                                  DONT WANT IT   \n",
       "13     False                              LIFE AFTER SALEM   \n",
       "14     False             AM I DREAMING (feat. Miley Cyrus)   \n",
       "\n",
       "                                          preview_url  track_number   type  \\\n",
       "0   https://p.scdn.co/mp3-preview/a25aff06d2a2f2cf...             1  track   \n",
       "1   https://p.scdn.co/mp3-preview/63edfe0701b3d240...             2  track   \n",
       "2   https://p.scdn.co/mp3-preview/31e16e1bc7aad79a...             3  track   \n",
       "3   https://p.scdn.co/mp3-preview/d62f4961618e4b4d...             4  track   \n",
       "4   https://p.scdn.co/mp3-preview/48abace5e799d0cd...             5  track   \n",
       "5   https://p.scdn.co/mp3-preview/8c9e2876d66e7b7c...             6  track   \n",
       "6   https://p.scdn.co/mp3-preview/b9f6687836ff2142...             7  track   \n",
       "7   https://p.scdn.co/mp3-preview/a73ff140bd2349d3...             8  track   \n",
       "8   https://p.scdn.co/mp3-preview/e8698733174aa642...             9  track   \n",
       "9   https://p.scdn.co/mp3-preview/6005a443164afd33...            10  track   \n",
       "10  https://p.scdn.co/mp3-preview/d5427adc7a7b60d4...            11  track   \n",
       "11  https://p.scdn.co/mp3-preview/ee8270a8d124610e...            12  track   \n",
       "12  https://p.scdn.co/mp3-preview/18e416c9bce3f8f6...            13  track   \n",
       "13  https://p.scdn.co/mp3-preview/3c3d838d99091270...            14  track   \n",
       "14  https://p.scdn.co/mp3-preview/736d012d39c35e32...            15  track   \n",
       "\n",
       "                                     uri  \n",
       "0   spotify:track:1SC5rEoYDGUK4NfG82494W  \n",
       "1   spotify:track:3grVoZ10bm2jUGpo7BxpuF  \n",
       "2   spotify:track:5Z9KJZvQzH6PFmb8SNkxuk  \n",
       "3   spotify:track:0e8nrvls4Qqv5Rfa2UhqmO  \n",
       "4   spotify:track:1BMu5TWvalAGpi5jlhFEBb  \n",
       "5   spotify:track:6bpq1jGkVz66Q3LYeoXdjZ  \n",
       "6   spotify:track:3JR2RztQcOjUQGQSybxDIO  \n",
       "7   spotify:track:6th8IdY4lYeM0QlSQJhhkp  \n",
       "8   spotify:track:7zQirOExB0VR8yWUOqYeio  \n",
       "9   spotify:track:5S4PZ7AuYlYiVIVik3wHUf  \n",
       "10  spotify:track:6btdl1Vl6Ta5lUwUSOFW2H  \n",
       "11  spotify:track:3e6ebtUCZ0tZL1J7wvM8Xi  \n",
       "12  spotify:track:4vsJWPwWPS27gRM4oLjBNO  \n",
       "13  spotify:track:6D3t4w54PgLNGQ48R7th7R  \n",
       "14  spotify:track:6isTQfKXhNO3EyJd9mSxx8  "
      ]
     },
     "execution_count": 51,
     "metadata": {},
     "output_type": "execute_result"
    }
   ],
   "source": [
    "tracks_df = pd.DataFrame(spotify_data['tracks']['items'])\n",
    "tracks_df"
   ]
  },
  {
   "cell_type": "code",
   "execution_count": 53,
   "id": "a63336e7",
   "metadata": {},
   "outputs": [
    {
     "data": {
      "text/plain": [
       "Index(['artists', 'available_markets', 'disc_number', 'duration_ms',\n",
       "       'explicit', 'external_urls', 'href', 'id', 'is_local', 'name',\n",
       "       'preview_url', 'track_number', 'type', 'uri'],\n",
       "      dtype='object')"
      ]
     },
     "execution_count": 53,
     "metadata": {},
     "output_type": "execute_result"
    }
   ],
   "source": [
    "tracks_df.keys()"
   ]
  },
  {
   "cell_type": "code",
   "execution_count": null,
   "id": "5afcd789",
   "metadata": {},
   "outputs": [],
   "source": []
  }
 ],
 "metadata": {
  "kernelspec": {
   "display_name": "Python 3 (ipykernel)",
   "language": "python",
   "name": "python3"
  },
  "language_info": {
   "codemirror_mode": {
    "name": "ipython",
    "version": 3
   },
   "file_extension": ".py",
   "mimetype": "text/x-python",
   "name": "python",
   "nbconvert_exporter": "python",
   "pygments_lexer": "ipython3",
   "version": "3.9.16"
  }
 },
 "nbformat": 4,
 "nbformat_minor": 5
}
