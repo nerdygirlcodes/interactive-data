{
 "cells": [
  {
   "cell_type": "code",
   "execution_count": 9,
   "id": "00ed9d48",
   "metadata": {},
   "outputs": [],
   "source": [
    "import pandas as pd"
   ]
  },
  {
   "cell_type": "code",
   "execution_count": 21,
   "id": "9900604a",
   "metadata": {},
   "outputs": [
    {
     "data": {
      "text/html": [
       "<div>\n",
       "<style scoped>\n",
       "    .dataframe tbody tr th:only-of-type {\n",
       "        vertical-align: middle;\n",
       "    }\n",
       "\n",
       "    .dataframe tbody tr th {\n",
       "        vertical-align: top;\n",
       "    }\n",
       "\n",
       "    .dataframe thead th {\n",
       "        text-align: right;\n",
       "    }\n",
       "</style>\n",
       "<table border=\"1\" class=\"dataframe\">\n",
       "  <thead>\n",
       "    <tr style=\"text-align: right;\">\n",
       "      <th></th>\n",
       "      <th>TripID</th>\n",
       "      <th>Vehicle</th>\n",
       "      <th>Date</th>\n",
       "      <th>CommuteTime</th>\n",
       "      <th>Destination</th>\n",
       "      <th>Weather</th>\n",
       "    </tr>\n",
       "  </thead>\n",
       "  <tbody>\n",
       "    <tr>\n",
       "      <th>0</th>\n",
       "      <td>0</td>\n",
       "      <td>Street Triple</td>\n",
       "      <td>11/8/2022</td>\n",
       "      <td>18.5</td>\n",
       "      <td>Franklin</td>\n",
       "      <td>rain</td>\n",
       "    </tr>\n",
       "    <tr>\n",
       "      <th>1</th>\n",
       "      <td>1</td>\n",
       "      <td>Street Triple</td>\n",
       "      <td>11/9/2022</td>\n",
       "      <td>19.0</td>\n",
       "      <td>Taylor</td>\n",
       "      <td>sun</td>\n",
       "    </tr>\n",
       "    <tr>\n",
       "      <th>2</th>\n",
       "      <td>2</td>\n",
       "      <td>Street Triple</td>\n",
       "      <td>11/10/2022</td>\n",
       "      <td>17.0</td>\n",
       "      <td>Franklin</td>\n",
       "      <td>sun</td>\n",
       "    </tr>\n",
       "    <tr>\n",
       "      <th>3</th>\n",
       "      <td>3</td>\n",
       "      <td>Passat</td>\n",
       "      <td>11/15/2022</td>\n",
       "      <td>22.0</td>\n",
       "      <td>Taylor</td>\n",
       "      <td>snow</td>\n",
       "    </tr>\n",
       "    <tr>\n",
       "      <th>4</th>\n",
       "      <td>4</td>\n",
       "      <td>Passat</td>\n",
       "      <td>11/16/2022</td>\n",
       "      <td>19.0</td>\n",
       "      <td>Taylor</td>\n",
       "      <td>snow</td>\n",
       "    </tr>\n",
       "    <tr>\n",
       "      <th>5</th>\n",
       "      <td>5</td>\n",
       "      <td>Passat</td>\n",
       "      <td>11/28/2022</td>\n",
       "      <td>21.0</td>\n",
       "      <td>Taylor</td>\n",
       "      <td>rain</td>\n",
       "    </tr>\n",
       "    <tr>\n",
       "      <th>6</th>\n",
       "      <td>6</td>\n",
       "      <td>Passat</td>\n",
       "      <td>12/2/2022</td>\n",
       "      <td>19.0</td>\n",
       "      <td>Franklin</td>\n",
       "      <td>sun</td>\n",
       "    </tr>\n",
       "    <tr>\n",
       "      <th>7</th>\n",
       "      <td>7</td>\n",
       "      <td>Street Triple</td>\n",
       "      <td>12/3/2022</td>\n",
       "      <td>20.0</td>\n",
       "      <td>Library</td>\n",
       "      <td>sun</td>\n",
       "    </tr>\n",
       "  </tbody>\n",
       "</table>\n",
       "</div>"
      ],
      "text/plain": [
       "   TripID        Vehicle        Date  CommuteTime Destination Weather\n",
       "0       0  Street Triple   11/8/2022         18.5    Franklin    rain\n",
       "1       1  Street Triple   11/9/2022         19.0      Taylor     sun\n",
       "2       2  Street Triple  11/10/2022         17.0    Franklin     sun\n",
       "3       3         Passat  11/15/2022         22.0      Taylor    snow\n",
       "4       4         Passat  11/16/2022         19.0      Taylor    snow\n",
       "5       5         Passat  11/28/2022         21.0      Taylor    rain\n",
       "6       6         Passat   12/2/2022         19.0    Franklin     sun\n",
       "7       7  Street Triple   12/3/2022         20.0     Library     sun"
      ]
     },
     "execution_count": 21,
     "metadata": {},
     "output_type": "execute_result"
    }
   ],
   "source": [
    "# create dataframe\n",
    "commute = pd.read_csv('commute.csv')\n",
    "commute"
   ]
  },
  {
   "cell_type": "code",
   "execution_count": 20,
   "id": "121161a5",
   "metadata": {},
   "outputs": [
    {
     "data": {
      "text/plain": [
       "0    0\n",
       "1    1\n",
       "2    2\n",
       "3    3\n",
       "4    4\n",
       "5    5\n",
       "6    6\n",
       "7    7\n",
       "Name: TripID, dtype: int64"
      ]
     },
     "execution_count": 20,
     "metadata": {},
     "output_type": "execute_result"
    }
   ],
   "source": [
    "commute['TripID']"
   ]
  },
  {
   "cell_type": "code",
   "execution_count": 22,
   "id": "7c389881",
   "metadata": {},
   "outputs": [
    {
     "data": {
      "text/plain": [
       "0    Street Triple\n",
       "1    Street Triple\n",
       "2    Street Triple\n",
       "3           Passat\n",
       "4           Passat\n",
       "5           Passat\n",
       "6           Passat\n",
       "7    Street Triple\n",
       "Name: Vehicle, dtype: object"
      ]
     },
     "execution_count": 22,
     "metadata": {},
     "output_type": "execute_result"
    }
   ],
   "source": [
    "commute['Vehicle']"
   ]
  },
  {
   "cell_type": "code",
   "execution_count": 23,
   "id": "1e85dbf1",
   "metadata": {},
   "outputs": [
    {
     "data": {
      "text/plain": [
       "0     11/8/2022\n",
       "1     11/9/2022\n",
       "2    11/10/2022\n",
       "3    11/15/2022\n",
       "4    11/16/2022\n",
       "5    11/28/2022\n",
       "6     12/2/2022\n",
       "7     12/3/2022\n",
       "Name: Date, dtype: object"
      ]
     },
     "execution_count": 23,
     "metadata": {},
     "output_type": "execute_result"
    }
   ],
   "source": [
    "commute['Date']"
   ]
  },
  {
   "cell_type": "code",
   "execution_count": 24,
   "id": "26751d0e",
   "metadata": {},
   "outputs": [
    {
     "data": {
      "text/plain": [
       "0    18.5\n",
       "1    19.0\n",
       "2    17.0\n",
       "3    22.0\n",
       "4    19.0\n",
       "5    21.0\n",
       "6    19.0\n",
       "7    20.0\n",
       "Name: CommuteTime, dtype: float64"
      ]
     },
     "execution_count": 24,
     "metadata": {},
     "output_type": "execute_result"
    }
   ],
   "source": [
    "commute['CommuteTime']"
   ]
  },
  {
   "cell_type": "code",
   "execution_count": 25,
   "id": "59c1e7d4",
   "metadata": {},
   "outputs": [
    {
     "data": {
      "text/plain": [
       "0    Franklin\n",
       "1      Taylor\n",
       "2    Franklin\n",
       "3      Taylor\n",
       "4      Taylor\n",
       "5      Taylor\n",
       "6    Franklin\n",
       "7     Library\n",
       "Name: Destination, dtype: object"
      ]
     },
     "execution_count": 25,
     "metadata": {},
     "output_type": "execute_result"
    }
   ],
   "source": [
    "commute['Destination']"
   ]
  },
  {
   "cell_type": "code",
   "execution_count": 26,
   "id": "594f7899",
   "metadata": {},
   "outputs": [
    {
     "data": {
      "text/plain": [
       "0    rain\n",
       "1     sun\n",
       "2     sun\n",
       "3    snow\n",
       "4    snow\n",
       "5    rain\n",
       "6     sun\n",
       "7     sun\n",
       "Name: Weather, dtype: object"
      ]
     },
     "execution_count": 26,
     "metadata": {},
     "output_type": "execute_result"
    }
   ],
   "source": [
    "commute['Weather']"
   ]
  },
  {
   "cell_type": "code",
   "execution_count": 28,
   "id": "54df39a8",
   "metadata": {},
   "outputs": [
    {
     "data": {
      "text/html": [
       "<div>\n",
       "<style scoped>\n",
       "    .dataframe tbody tr th:only-of-type {\n",
       "        vertical-align: middle;\n",
       "    }\n",
       "\n",
       "    .dataframe tbody tr th {\n",
       "        vertical-align: top;\n",
       "    }\n",
       "\n",
       "    .dataframe thead th {\n",
       "        text-align: right;\n",
       "    }\n",
       "</style>\n",
       "<table border=\"1\" class=\"dataframe\">\n",
       "  <thead>\n",
       "    <tr style=\"text-align: right;\">\n",
       "      <th></th>\n",
       "      <th>CommuteTime</th>\n",
       "      <th>Destination</th>\n",
       "      <th>Weather</th>\n",
       "    </tr>\n",
       "  </thead>\n",
       "  <tbody>\n",
       "    <tr>\n",
       "      <th>0</th>\n",
       "      <td>18.5</td>\n",
       "      <td>Franklin</td>\n",
       "      <td>rain</td>\n",
       "    </tr>\n",
       "    <tr>\n",
       "      <th>1</th>\n",
       "      <td>19.0</td>\n",
       "      <td>Taylor</td>\n",
       "      <td>sun</td>\n",
       "    </tr>\n",
       "    <tr>\n",
       "      <th>2</th>\n",
       "      <td>17.0</td>\n",
       "      <td>Franklin</td>\n",
       "      <td>sun</td>\n",
       "    </tr>\n",
       "    <tr>\n",
       "      <th>3</th>\n",
       "      <td>22.0</td>\n",
       "      <td>Taylor</td>\n",
       "      <td>snow</td>\n",
       "    </tr>\n",
       "    <tr>\n",
       "      <th>4</th>\n",
       "      <td>19.0</td>\n",
       "      <td>Taylor</td>\n",
       "      <td>snow</td>\n",
       "    </tr>\n",
       "    <tr>\n",
       "      <th>5</th>\n",
       "      <td>21.0</td>\n",
       "      <td>Taylor</td>\n",
       "      <td>rain</td>\n",
       "    </tr>\n",
       "    <tr>\n",
       "      <th>6</th>\n",
       "      <td>19.0</td>\n",
       "      <td>Franklin</td>\n",
       "      <td>sun</td>\n",
       "    </tr>\n",
       "    <tr>\n",
       "      <th>7</th>\n",
       "      <td>20.0</td>\n",
       "      <td>Library</td>\n",
       "      <td>sun</td>\n",
       "    </tr>\n",
       "  </tbody>\n",
       "</table>\n",
       "</div>"
      ],
      "text/plain": [
       "   CommuteTime Destination Weather\n",
       "0         18.5    Franklin    rain\n",
       "1         19.0      Taylor     sun\n",
       "2         17.0    Franklin     sun\n",
       "3         22.0      Taylor    snow\n",
       "4         19.0      Taylor    snow\n",
       "5         21.0      Taylor    rain\n",
       "6         19.0    Franklin     sun\n",
       "7         20.0     Library     sun"
      ]
     },
     "execution_count": 28,
     "metadata": {},
     "output_type": "execute_result"
    }
   ],
   "source": [
    "commute[['CommuteTime', 'Destination', 'Weather']]"
   ]
  },
  {
   "cell_type": "code",
   "execution_count": 30,
   "id": "b843175e",
   "metadata": {},
   "outputs": [
    {
     "data": {
      "text/html": [
       "<div>\n",
       "<style scoped>\n",
       "    .dataframe tbody tr th:only-of-type {\n",
       "        vertical-align: middle;\n",
       "    }\n",
       "\n",
       "    .dataframe tbody tr th {\n",
       "        vertical-align: top;\n",
       "    }\n",
       "\n",
       "    .dataframe thead th {\n",
       "        text-align: right;\n",
       "    }\n",
       "</style>\n",
       "<table border=\"1\" class=\"dataframe\">\n",
       "  <thead>\n",
       "    <tr style=\"text-align: right;\">\n",
       "      <th></th>\n",
       "      <th>Date</th>\n",
       "      <th>Vehicle</th>\n",
       "    </tr>\n",
       "  </thead>\n",
       "  <tbody>\n",
       "    <tr>\n",
       "      <th>0</th>\n",
       "      <td>11/8/2022</td>\n",
       "      <td>Street Triple</td>\n",
       "    </tr>\n",
       "    <tr>\n",
       "      <th>1</th>\n",
       "      <td>11/9/2022</td>\n",
       "      <td>Street Triple</td>\n",
       "    </tr>\n",
       "    <tr>\n",
       "      <th>2</th>\n",
       "      <td>11/10/2022</td>\n",
       "      <td>Street Triple</td>\n",
       "    </tr>\n",
       "    <tr>\n",
       "      <th>3</th>\n",
       "      <td>11/15/2022</td>\n",
       "      <td>Passat</td>\n",
       "    </tr>\n",
       "    <tr>\n",
       "      <th>4</th>\n",
       "      <td>11/16/2022</td>\n",
       "      <td>Passat</td>\n",
       "    </tr>\n",
       "    <tr>\n",
       "      <th>5</th>\n",
       "      <td>11/28/2022</td>\n",
       "      <td>Passat</td>\n",
       "    </tr>\n",
       "    <tr>\n",
       "      <th>6</th>\n",
       "      <td>12/2/2022</td>\n",
       "      <td>Passat</td>\n",
       "    </tr>\n",
       "    <tr>\n",
       "      <th>7</th>\n",
       "      <td>12/3/2022</td>\n",
       "      <td>Street Triple</td>\n",
       "    </tr>\n",
       "  </tbody>\n",
       "</table>\n",
       "</div>"
      ],
      "text/plain": [
       "         Date        Vehicle\n",
       "0   11/8/2022  Street Triple\n",
       "1   11/9/2022  Street Triple\n",
       "2  11/10/2022  Street Triple\n",
       "3  11/15/2022         Passat\n",
       "4  11/16/2022         Passat\n",
       "5  11/28/2022         Passat\n",
       "6   12/2/2022         Passat\n",
       "7   12/3/2022  Street Triple"
      ]
     },
     "execution_count": 30,
     "metadata": {},
     "output_type": "execute_result"
    }
   ],
   "source": [
    "two_columns = ['Date', 'Vehicle']\n",
    "commute[two_columns]"
   ]
  },
  {
   "cell_type": "code",
   "execution_count": 42,
   "id": "7069020d",
   "metadata": {},
   "outputs": [
    {
     "data": {
      "text/plain": [
       "Date       11/15/2022\n",
       "Vehicle        Passat\n",
       "Name: 3, dtype: object"
      ]
     },
     "execution_count": 42,
     "metadata": {},
     "output_type": "execute_result"
    }
   ],
   "source": [
    "# iloc = current slices index\n",
    "commute[two_columns].iloc[3]"
   ]
  },
  {
   "cell_type": "code",
   "execution_count": 48,
   "id": "ed58406d",
   "metadata": {},
   "outputs": [
    {
     "data": {
      "text/plain": [
       "Date       11/15/2022\n",
       "Vehicle        Passat\n",
       "Name: 3, dtype: object"
      ]
     },
     "execution_count": 48,
     "metadata": {},
     "output_type": "execute_result"
    }
   ],
   "source": [
    "# loc = index name (original)\n",
    "commute[two_columns].loc[3]"
   ]
  },
  {
   "cell_type": "code",
   "execution_count": 49,
   "id": "93eff3b3",
   "metadata": {},
   "outputs": [
    {
     "data": {
      "text/plain": [
       "'snow'"
      ]
     },
     "execution_count": 49,
     "metadata": {},
     "output_type": "execute_result"
    }
   ],
   "source": [
    "# only works w. a single column\n",
    "commute['Weather'][3]"
   ]
  },
  {
   "cell_type": "markdown",
   "id": "1f6dfc2c",
   "metadata": {},
   "source": [
    "---"
   ]
  },
  {
   "cell_type": "code",
   "execution_count": 50,
   "id": "ea2a5b53",
   "metadata": {},
   "outputs": [
    {
     "data": {
      "text/html": [
       "<div>\n",
       "<style scoped>\n",
       "    .dataframe tbody tr th:only-of-type {\n",
       "        vertical-align: middle;\n",
       "    }\n",
       "\n",
       "    .dataframe tbody tr th {\n",
       "        vertical-align: top;\n",
       "    }\n",
       "\n",
       "    .dataframe thead th {\n",
       "        text-align: right;\n",
       "    }\n",
       "</style>\n",
       "<table border=\"1\" class=\"dataframe\">\n",
       "  <thead>\n",
       "    <tr style=\"text-align: right;\">\n",
       "      <th></th>\n",
       "      <th>TripID</th>\n",
       "      <th>CommuteTime</th>\n",
       "    </tr>\n",
       "  </thead>\n",
       "  <tbody>\n",
       "    <tr>\n",
       "      <th>count</th>\n",
       "      <td>8.00000</td>\n",
       "      <td>8.000000</td>\n",
       "    </tr>\n",
       "    <tr>\n",
       "      <th>mean</th>\n",
       "      <td>3.50000</td>\n",
       "      <td>19.437500</td>\n",
       "    </tr>\n",
       "    <tr>\n",
       "      <th>std</th>\n",
       "      <td>2.44949</td>\n",
       "      <td>1.545443</td>\n",
       "    </tr>\n",
       "    <tr>\n",
       "      <th>min</th>\n",
       "      <td>0.00000</td>\n",
       "      <td>17.000000</td>\n",
       "    </tr>\n",
       "    <tr>\n",
       "      <th>25%</th>\n",
       "      <td>1.75000</td>\n",
       "      <td>18.875000</td>\n",
       "    </tr>\n",
       "    <tr>\n",
       "      <th>50%</th>\n",
       "      <td>3.50000</td>\n",
       "      <td>19.000000</td>\n",
       "    </tr>\n",
       "    <tr>\n",
       "      <th>75%</th>\n",
       "      <td>5.25000</td>\n",
       "      <td>20.250000</td>\n",
       "    </tr>\n",
       "    <tr>\n",
       "      <th>max</th>\n",
       "      <td>7.00000</td>\n",
       "      <td>22.000000</td>\n",
       "    </tr>\n",
       "  </tbody>\n",
       "</table>\n",
       "</div>"
      ],
      "text/plain": [
       "        TripID  CommuteTime\n",
       "count  8.00000     8.000000\n",
       "mean   3.50000    19.437500\n",
       "std    2.44949     1.545443\n",
       "min    0.00000    17.000000\n",
       "25%    1.75000    18.875000\n",
       "50%    3.50000    19.000000\n",
       "75%    5.25000    20.250000\n",
       "max    7.00000    22.000000"
      ]
     },
     "execution_count": 50,
     "metadata": {},
     "output_type": "execute_result"
    }
   ],
   "source": [
    "# can be applied to data frame objects - quantitative description of the elements (Only takes in floats)\n",
    "commute.describe()"
   ]
  },
  {
   "cell_type": "code",
   "execution_count": 52,
   "id": "24173a6a",
   "metadata": {},
   "outputs": [
    {
     "data": {
      "text/plain": [
       "0           Passat\n",
       "1    Street Triple\n",
       "Name: Vehicle, dtype: object"
      ]
     },
     "execution_count": 52,
     "metadata": {},
     "output_type": "execute_result"
    }
   ],
   "source": [
    "# find the average / most used w. any data type\n",
    "commute['Vehicle'].mode()"
   ]
  },
  {
   "cell_type": "code",
   "execution_count": 61,
   "id": "5ce08b46",
   "metadata": {},
   "outputs": [
    {
     "data": {
      "text/html": [
       "<div>\n",
       "<style scoped>\n",
       "    .dataframe tbody tr th:only-of-type {\n",
       "        vertical-align: middle;\n",
       "    }\n",
       "\n",
       "    .dataframe tbody tr th {\n",
       "        vertical-align: top;\n",
       "    }\n",
       "\n",
       "    .dataframe thead th {\n",
       "        text-align: right;\n",
       "    }\n",
       "</style>\n",
       "<table border=\"1\" class=\"dataframe\">\n",
       "  <thead>\n",
       "    <tr style=\"text-align: right;\">\n",
       "      <th></th>\n",
       "      <th>TripID</th>\n",
       "      <th>Vehicle</th>\n",
       "      <th>Date</th>\n",
       "      <th>CommuteTime</th>\n",
       "      <th>Destination</th>\n",
       "      <th>Weather</th>\n",
       "    </tr>\n",
       "  </thead>\n",
       "  <tbody>\n",
       "    <tr>\n",
       "      <th>0</th>\n",
       "      <td>0</td>\n",
       "      <td>Street Triple</td>\n",
       "      <td>2022-11-08</td>\n",
       "      <td>18.5</td>\n",
       "      <td>Franklin</td>\n",
       "      <td>rain</td>\n",
       "    </tr>\n",
       "    <tr>\n",
       "      <th>1</th>\n",
       "      <td>1</td>\n",
       "      <td>Street Triple</td>\n",
       "      <td>2022-11-09</td>\n",
       "      <td>19.0</td>\n",
       "      <td>Taylor</td>\n",
       "      <td>sun</td>\n",
       "    </tr>\n",
       "    <tr>\n",
       "      <th>2</th>\n",
       "      <td>2</td>\n",
       "      <td>Street Triple</td>\n",
       "      <td>2022-11-10</td>\n",
       "      <td>17.0</td>\n",
       "      <td>Franklin</td>\n",
       "      <td>sun</td>\n",
       "    </tr>\n",
       "    <tr>\n",
       "      <th>3</th>\n",
       "      <td>3</td>\n",
       "      <td>Passat</td>\n",
       "      <td>2022-11-15</td>\n",
       "      <td>22.0</td>\n",
       "      <td>Taylor</td>\n",
       "      <td>snow</td>\n",
       "    </tr>\n",
       "    <tr>\n",
       "      <th>4</th>\n",
       "      <td>4</td>\n",
       "      <td>Passat</td>\n",
       "      <td>2022-11-16</td>\n",
       "      <td>19.0</td>\n",
       "      <td>Taylor</td>\n",
       "      <td>snow</td>\n",
       "    </tr>\n",
       "    <tr>\n",
       "      <th>5</th>\n",
       "      <td>5</td>\n",
       "      <td>Passat</td>\n",
       "      <td>2022-11-28</td>\n",
       "      <td>21.0</td>\n",
       "      <td>Taylor</td>\n",
       "      <td>rain</td>\n",
       "    </tr>\n",
       "    <tr>\n",
       "      <th>6</th>\n",
       "      <td>6</td>\n",
       "      <td>Passat</td>\n",
       "      <td>2022-12-02</td>\n",
       "      <td>19.0</td>\n",
       "      <td>Franklin</td>\n",
       "      <td>sun</td>\n",
       "    </tr>\n",
       "    <tr>\n",
       "      <th>7</th>\n",
       "      <td>7</td>\n",
       "      <td>Street Triple</td>\n",
       "      <td>2022-12-03</td>\n",
       "      <td>20.0</td>\n",
       "      <td>Library</td>\n",
       "      <td>sun</td>\n",
       "    </tr>\n",
       "  </tbody>\n",
       "</table>\n",
       "</div>"
      ],
      "text/plain": [
       "   TripID        Vehicle       Date  CommuteTime Destination Weather\n",
       "0       0  Street Triple 2022-11-08         18.5    Franklin    rain\n",
       "1       1  Street Triple 2022-11-09         19.0      Taylor     sun\n",
       "2       2  Street Triple 2022-11-10         17.0    Franklin     sun\n",
       "3       3         Passat 2022-11-15         22.0      Taylor    snow\n",
       "4       4         Passat 2022-11-16         19.0      Taylor    snow\n",
       "5       5         Passat 2022-11-28         21.0      Taylor    rain\n",
       "6       6         Passat 2022-12-02         19.0    Franklin     sun\n",
       "7       7  Street Triple 2022-12-03         20.0     Library     sun"
      ]
     },
     "execution_count": 61,
     "metadata": {},
     "output_type": "execute_result"
    }
   ],
   "source": [
    "# set strings as categorical\n",
    "commute_clean = commute.astype({\n",
    "    'Date':'datetime64',\n",
    "    'Vehicle':'category',\n",
    "    'Weather':'category',\n",
    "    'Destination':'category'\n",
    "})\n",
    "commute_clean"
   ]
  },
  {
   "cell_type": "code",
   "execution_count": 67,
   "id": "1878461d",
   "metadata": {},
   "outputs": [
    {
     "data": {
      "text/html": [
       "<div>\n",
       "<style scoped>\n",
       "    .dataframe tbody tr th:only-of-type {\n",
       "        vertical-align: middle;\n",
       "    }\n",
       "\n",
       "    .dataframe tbody tr th {\n",
       "        vertical-align: top;\n",
       "    }\n",
       "\n",
       "    .dataframe thead tr th {\n",
       "        text-align: left;\n",
       "    }\n",
       "\n",
       "    .dataframe thead tr:last-of-type th {\n",
       "        text-align: right;\n",
       "    }\n",
       "</style>\n",
       "<table border=\"1\" class=\"dataframe\">\n",
       "  <thead>\n",
       "    <tr>\n",
       "      <th></th>\n",
       "      <th colspan=\"8\" halign=\"left\">TripID</th>\n",
       "      <th colspan=\"8\" halign=\"left\">CommuteTime</th>\n",
       "    </tr>\n",
       "    <tr>\n",
       "      <th></th>\n",
       "      <th>count</th>\n",
       "      <th>mean</th>\n",
       "      <th>std</th>\n",
       "      <th>min</th>\n",
       "      <th>25%</th>\n",
       "      <th>50%</th>\n",
       "      <th>75%</th>\n",
       "      <th>max</th>\n",
       "      <th>count</th>\n",
       "      <th>mean</th>\n",
       "      <th>std</th>\n",
       "      <th>min</th>\n",
       "      <th>25%</th>\n",
       "      <th>50%</th>\n",
       "      <th>75%</th>\n",
       "      <th>max</th>\n",
       "    </tr>\n",
       "    <tr>\n",
       "      <th>Vehicle</th>\n",
       "      <th></th>\n",
       "      <th></th>\n",
       "      <th></th>\n",
       "      <th></th>\n",
       "      <th></th>\n",
       "      <th></th>\n",
       "      <th></th>\n",
       "      <th></th>\n",
       "      <th></th>\n",
       "      <th></th>\n",
       "      <th></th>\n",
       "      <th></th>\n",
       "      <th></th>\n",
       "      <th></th>\n",
       "      <th></th>\n",
       "      <th></th>\n",
       "    </tr>\n",
       "  </thead>\n",
       "  <tbody>\n",
       "    <tr>\n",
       "      <th>Passat</th>\n",
       "      <td>4.0</td>\n",
       "      <td>4.5</td>\n",
       "      <td>1.290994</td>\n",
       "      <td>3.0</td>\n",
       "      <td>3.75</td>\n",
       "      <td>4.5</td>\n",
       "      <td>5.25</td>\n",
       "      <td>6.0</td>\n",
       "      <td>4.0</td>\n",
       "      <td>20.250</td>\n",
       "      <td>1.50</td>\n",
       "      <td>19.0</td>\n",
       "      <td>19.000</td>\n",
       "      <td>20.00</td>\n",
       "      <td>21.25</td>\n",
       "      <td>22.0</td>\n",
       "    </tr>\n",
       "    <tr>\n",
       "      <th>Street Triple</th>\n",
       "      <td>4.0</td>\n",
       "      <td>2.5</td>\n",
       "      <td>3.109126</td>\n",
       "      <td>0.0</td>\n",
       "      <td>0.75</td>\n",
       "      <td>1.5</td>\n",
       "      <td>3.25</td>\n",
       "      <td>7.0</td>\n",
       "      <td>4.0</td>\n",
       "      <td>18.625</td>\n",
       "      <td>1.25</td>\n",
       "      <td>17.0</td>\n",
       "      <td>18.125</td>\n",
       "      <td>18.75</td>\n",
       "      <td>19.25</td>\n",
       "      <td>20.0</td>\n",
       "    </tr>\n",
       "  </tbody>\n",
       "</table>\n",
       "</div>"
      ],
      "text/plain": [
       "              TripID                                           CommuteTime  \\\n",
       "               count mean       std  min   25%  50%   75%  max       count   \n",
       "Vehicle                                                                      \n",
       "Passat           4.0  4.5  1.290994  3.0  3.75  4.5  5.25  6.0         4.0   \n",
       "Street Triple    4.0  2.5  3.109126  0.0  0.75  1.5  3.25  7.0         4.0   \n",
       "\n",
       "                                                               \n",
       "                 mean   std   min     25%    50%    75%   max  \n",
       "Vehicle                                                        \n",
       "Passat         20.250  1.50  19.0  19.000  20.00  21.25  22.0  \n",
       "Street Triple  18.625  1.25  17.0  18.125  18.75  19.25  20.0  "
      ]
     },
     "execution_count": 67,
     "metadata": {},
     "output_type": "execute_result"
    }
   ],
   "source": [
    "grouped_set = commute_clean.groupby('Vehicle').describe()\n",
    "grouped_set"
   ]
  },
  {
   "cell_type": "code",
   "execution_count": 73,
   "id": "c5457228",
   "metadata": {},
   "outputs": [
    {
     "data": {
      "text/plain": [
       "20.0"
      ]
     },
     "execution_count": 73,
     "metadata": {},
     "output_type": "execute_result"
    }
   ],
   "source": [
    "grouped_set.loc['Street Triple']['CommuteTime']['max']"
   ]
  },
  {
   "cell_type": "code",
   "execution_count": 75,
   "id": "69ceb0fb",
   "metadata": {},
   "outputs": [
    {
     "data": {
      "text/html": [
       "<div>\n",
       "<style scoped>\n",
       "    .dataframe tbody tr th:only-of-type {\n",
       "        vertical-align: middle;\n",
       "    }\n",
       "\n",
       "    .dataframe tbody tr th {\n",
       "        vertical-align: top;\n",
       "    }\n",
       "\n",
       "    .dataframe thead tr th {\n",
       "        text-align: left;\n",
       "    }\n",
       "\n",
       "    .dataframe thead tr:last-of-type th {\n",
       "        text-align: right;\n",
       "    }\n",
       "</style>\n",
       "<table border=\"1\" class=\"dataframe\">\n",
       "  <thead>\n",
       "    <tr>\n",
       "      <th></th>\n",
       "      <th></th>\n",
       "      <th></th>\n",
       "      <th colspan=\"8\" halign=\"left\">CommuteTime</th>\n",
       "    </tr>\n",
       "    <tr>\n",
       "      <th></th>\n",
       "      <th></th>\n",
       "      <th></th>\n",
       "      <th>count</th>\n",
       "      <th>mean</th>\n",
       "      <th>std</th>\n",
       "      <th>min</th>\n",
       "      <th>25%</th>\n",
       "      <th>50%</th>\n",
       "      <th>75%</th>\n",
       "      <th>max</th>\n",
       "    </tr>\n",
       "    <tr>\n",
       "      <th>Vehicle</th>\n",
       "      <th>Destination</th>\n",
       "      <th>Weather</th>\n",
       "      <th></th>\n",
       "      <th></th>\n",
       "      <th></th>\n",
       "      <th></th>\n",
       "      <th></th>\n",
       "      <th></th>\n",
       "      <th></th>\n",
       "      <th></th>\n",
       "    </tr>\n",
       "  </thead>\n",
       "  <tbody>\n",
       "    <tr>\n",
       "      <th rowspan=\"3\" valign=\"top\">Passat</th>\n",
       "      <th>Franklin</th>\n",
       "      <th>sun</th>\n",
       "      <td>1.0</td>\n",
       "      <td>19.0</td>\n",
       "      <td>NaN</td>\n",
       "      <td>19.0</td>\n",
       "      <td>19.00</td>\n",
       "      <td>19.0</td>\n",
       "      <td>19.00</td>\n",
       "      <td>19.0</td>\n",
       "    </tr>\n",
       "    <tr>\n",
       "      <th rowspan=\"2\" valign=\"top\">Taylor</th>\n",
       "      <th>rain</th>\n",
       "      <td>1.0</td>\n",
       "      <td>21.0</td>\n",
       "      <td>NaN</td>\n",
       "      <td>21.0</td>\n",
       "      <td>21.00</td>\n",
       "      <td>21.0</td>\n",
       "      <td>21.00</td>\n",
       "      <td>21.0</td>\n",
       "    </tr>\n",
       "    <tr>\n",
       "      <th>snow</th>\n",
       "      <td>2.0</td>\n",
       "      <td>20.5</td>\n",
       "      <td>2.12132</td>\n",
       "      <td>19.0</td>\n",
       "      <td>19.75</td>\n",
       "      <td>20.5</td>\n",
       "      <td>21.25</td>\n",
       "      <td>22.0</td>\n",
       "    </tr>\n",
       "    <tr>\n",
       "      <th rowspan=\"4\" valign=\"top\">Street Triple</th>\n",
       "      <th rowspan=\"2\" valign=\"top\">Franklin</th>\n",
       "      <th>rain</th>\n",
       "      <td>1.0</td>\n",
       "      <td>18.5</td>\n",
       "      <td>NaN</td>\n",
       "      <td>18.5</td>\n",
       "      <td>18.50</td>\n",
       "      <td>18.5</td>\n",
       "      <td>18.50</td>\n",
       "      <td>18.5</td>\n",
       "    </tr>\n",
       "    <tr>\n",
       "      <th>sun</th>\n",
       "      <td>1.0</td>\n",
       "      <td>17.0</td>\n",
       "      <td>NaN</td>\n",
       "      <td>17.0</td>\n",
       "      <td>17.00</td>\n",
       "      <td>17.0</td>\n",
       "      <td>17.00</td>\n",
       "      <td>17.0</td>\n",
       "    </tr>\n",
       "    <tr>\n",
       "      <th>Library</th>\n",
       "      <th>sun</th>\n",
       "      <td>1.0</td>\n",
       "      <td>20.0</td>\n",
       "      <td>NaN</td>\n",
       "      <td>20.0</td>\n",
       "      <td>20.00</td>\n",
       "      <td>20.0</td>\n",
       "      <td>20.00</td>\n",
       "      <td>20.0</td>\n",
       "    </tr>\n",
       "    <tr>\n",
       "      <th>Taylor</th>\n",
       "      <th>sun</th>\n",
       "      <td>1.0</td>\n",
       "      <td>19.0</td>\n",
       "      <td>NaN</td>\n",
       "      <td>19.0</td>\n",
       "      <td>19.00</td>\n",
       "      <td>19.0</td>\n",
       "      <td>19.00</td>\n",
       "      <td>19.0</td>\n",
       "    </tr>\n",
       "  </tbody>\n",
       "</table>\n",
       "</div>"
      ],
      "text/plain": [
       "                                  CommuteTime                              \\\n",
       "                                        count  mean      std   min    25%   \n",
       "Vehicle       Destination Weather                                           \n",
       "Passat        Franklin    sun             1.0  19.0      NaN  19.0  19.00   \n",
       "              Taylor      rain            1.0  21.0      NaN  21.0  21.00   \n",
       "                          snow            2.0  20.5  2.12132  19.0  19.75   \n",
       "Street Triple Franklin    rain            1.0  18.5      NaN  18.5  18.50   \n",
       "                          sun             1.0  17.0      NaN  17.0  17.00   \n",
       "              Library     sun             1.0  20.0      NaN  20.0  20.00   \n",
       "              Taylor      sun             1.0  19.0      NaN  19.0  19.00   \n",
       "\n",
       "                                                      \n",
       "                                    50%    75%   max  \n",
       "Vehicle       Destination Weather                     \n",
       "Passat        Franklin    sun      19.0  19.00  19.0  \n",
       "              Taylor      rain     21.0  21.00  21.0  \n",
       "                          snow     20.5  21.25  22.0  \n",
       "Street Triple Franklin    rain     18.5  18.50  18.5  \n",
       "                          sun      17.0  17.00  17.0  \n",
       "              Library     sun      20.0  20.00  20.0  \n",
       "              Taylor      sun      19.0  19.00  19.0  "
      ]
     },
     "execution_count": 75,
     "metadata": {},
     "output_type": "execute_result"
    }
   ],
   "source": [
    "commute.drop(labels=['TripID'], axis=1).groupby(['Vehicle', 'Destination', 'Weather']).describe()"
   ]
  },
  {
   "cell_type": "code",
   "execution_count": 77,
   "id": "e563dc7e",
   "metadata": {},
   "outputs": [
    {
     "data": {
      "text/plain": [
       "0   2022-11-08\n",
       "1   2022-11-09\n",
       "2   2022-11-10\n",
       "3   2022-11-15\n",
       "4   2022-11-16\n",
       "5   2022-11-28\n",
       "6   2022-12-02\n",
       "7   2022-12-03\n",
       "Name: Date, dtype: datetime64[ns]"
      ]
     },
     "execution_count": 77,
     "metadata": {},
     "output_type": "execute_result"
    }
   ],
   "source": [
    "# working w. datetime\n",
    "commute_clean['Date']"
   ]
  },
  {
   "cell_type": "code",
   "execution_count": 78,
   "id": "dd01d5b7",
   "metadata": {},
   "outputs": [
    {
     "data": {
      "text/plain": [
       "Timestamp('2022-11-08 00:00:00')"
      ]
     },
     "execution_count": 78,
     "metadata": {},
     "output_type": "execute_result"
    }
   ],
   "source": [
    "commute_clean['Date'].iloc[0]"
   ]
  },
  {
   "cell_type": "code",
   "execution_count": 80,
   "id": "5d5b571e",
   "metadata": {},
   "outputs": [
    {
     "data": {
      "text/plain": [
       "2022"
      ]
     },
     "execution_count": 80,
     "metadata": {},
     "output_type": "execute_result"
    }
   ],
   "source": [
    "commute_clean['Date'].iloc[0].year"
   ]
  },
  {
   "cell_type": "code",
   "execution_count": null,
   "id": "fff8ef16",
   "metadata": {},
   "outputs": [],
   "source": []
  }
 ],
 "metadata": {
  "kernelspec": {
   "display_name": "Python 3 (ipykernel)",
   "language": "python",
   "name": "python3"
  },
  "language_info": {
   "codemirror_mode": {
    "name": "ipython",
    "version": 3
   },
   "file_extension": ".py",
   "mimetype": "text/x-python",
   "name": "python",
   "nbconvert_exporter": "python",
   "pygments_lexer": "ipython3",
   "version": "3.9.16"
  }
 },
 "nbformat": 4,
 "nbformat_minor": 5
}
